{
 "cells": [
  {
   "cell_type": "markdown",
   "id": "a492c1f8",
   "metadata": {},
   "source": [
    "### Internal data types in python-(already exsisting)\n",
    "* String- aggregate\n",
    "* List - aggregate\n",
    "* Sets -aggregate\n",
    "* Dictionaries - aggregate\n",
    "* Tuples - aggregate\n",
    "* Integer - scaler\n",
    "* Float - scaler\n",
    "* Cmplex - scaler\n",
    "* Boolean - scaler"
   ]
  },
  {
   "cell_type": "code",
   "execution_count": 1,
   "id": "a4f06dd1",
   "metadata": {},
   "outputs": [],
   "source": [
    "x=10"
   ]
  },
  {
   "cell_type": "code",
   "execution_count": 2,
   "id": "1e514efb",
   "metadata": {},
   "outputs": [],
   "source": [
    "y=56.5"
   ]
  },
  {
   "cell_type": "code",
   "execution_count": 3,
   "id": "635adb0f",
   "metadata": {},
   "outputs": [],
   "source": [
    "z=True"
   ]
  },
  {
   "cell_type": "code",
   "execution_count": 4,
   "id": "e1766ac4",
   "metadata": {},
   "outputs": [
    {
     "name": "stdout",
     "output_type": "stream",
     "text": [
      "<class 'int'>\n"
     ]
    }
   ],
   "source": [
    "print(type(x))"
   ]
  },
  {
   "cell_type": "code",
   "execution_count": 6,
   "id": "d56fc4d8",
   "metadata": {},
   "outputs": [
    {
     "name": "stdout",
     "output_type": "stream",
     "text": [
      "<class 'bool'>\n",
      "<class 'float'>\n"
     ]
    }
   ],
   "source": [
    "print(type(z))\n",
    "print(type(y))"
   ]
  },
  {
   "cell_type": "code",
   "execution_count": 7,
   "id": "b367baa4",
   "metadata": {},
   "outputs": [],
   "source": [
    "## aggregate datatype is combination of scalar data types"
   ]
  },
  {
   "cell_type": "code",
   "execution_count": 8,
   "id": "d575b4e5",
   "metadata": {},
   "outputs": [
    {
     "name": "stdout",
     "output_type": "stream",
     "text": [
      "<class 'complex'>\n"
     ]
    }
   ],
   "source": [
    "a=6+3j\n",
    "print(type(a))"
   ]
  },
  {
   "cell_type": "code",
   "execution_count": 9,
   "id": "377d98ed",
   "metadata": {},
   "outputs": [
    {
     "name": "stdout",
     "output_type": "stream",
     "text": [
      "<class 'str'>\n"
     ]
    }
   ],
   "source": [
    "b='simplilearn'\n",
    "print(type(b))"
   ]
  },
  {
   "cell_type": "code",
   "execution_count": 12,
   "id": "c1f40a9a",
   "metadata": {},
   "outputs": [
    {
     "data": {
      "text/plain": [
       "str"
      ]
     },
     "execution_count": 12,
     "metadata": {},
     "output_type": "execute_result"
    }
   ],
   "source": [
    "c= \"\"\"This is the first session on Python\n",
    "and we are proceeding well\"\"\"\n",
    "type(c)"
   ]
  },
  {
   "cell_type": "code",
   "execution_count": 13,
   "id": "33220ddb",
   "metadata": {},
   "outputs": [],
   "source": [
    "### string values are always defined within single quotes or double quotes. But when we have a multiline string value,\n",
    "### we need to enclose it within three single quotes or three double quotes."
   ]
  },
  {
   "cell_type": "markdown",
   "id": "97657d7d",
   "metadata": {},
   "source": [
    "#### Tuples are created with multiple data types,created with () or a tuple constructor,are a ordered collection of elements\n",
    "#### and are immutable."
   ]
  },
  {
   "cell_type": "code",
   "execution_count": null,
   "id": "e7c63605",
   "metadata": {},
   "outputs": [],
   "source": []
  }
 ],
 "metadata": {
  "kernelspec": {
   "display_name": "Python 3 (ipykernel)",
   "language": "python",
   "name": "python3"
  },
  "language_info": {
   "codemirror_mode": {
    "name": "ipython",
    "version": 3
   },
   "file_extension": ".py",
   "mimetype": "text/x-python",
   "name": "python",
   "nbconvert_exporter": "python",
   "pygments_lexer": "ipython3",
   "version": "3.11.4"
  }
 },
 "nbformat": 4,
 "nbformat_minor": 5
}
