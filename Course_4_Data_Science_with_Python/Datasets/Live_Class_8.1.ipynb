{
 "cells": [
  {
   "cell_type": "code",
   "execution_count": 2,
   "id": "080d3891",
   "metadata": {},
   "outputs": [],
   "source": [
    "distance=[56,89,45,75,68]\n",
    "time=[0.3,2.1,1.3,1.9,3.2]"
   ]
  },
  {
   "cell_type": "code",
   "execution_count": 3,
   "id": "4d1afc4d",
   "metadata": {},
   "outputs": [
    {
     "ename": "TypeError",
     "evalue": "unsupported operand type(s) for /: 'list' and 'list'",
     "output_type": "error",
     "traceback": [
      "\u001b[1;31m---------------------------------------------------------------------------\u001b[0m",
      "\u001b[1;31mTypeError\u001b[0m                                 Traceback (most recent call last)",
      "Cell \u001b[1;32mIn[3], line 1\u001b[0m\n\u001b[1;32m----> 1\u001b[0m speed\u001b[38;5;241m=\u001b[39mdistance\u001b[38;5;241m/\u001b[39mtime\n",
      "\u001b[1;31mTypeError\u001b[0m: unsupported operand type(s) for /: 'list' and 'list'"
     ]
    }
   ],
   "source": [
    "speed=distance/time"
   ]
  },
  {
   "cell_type": "code",
   "execution_count": 4,
   "id": "75830a6e",
   "metadata": {},
   "outputs": [
    {
     "data": {
      "text/plain": [
       "[56, 89, 45, 75, 68, 56, 89, 45, 75, 68, 56, 89, 45, 75, 68]"
      ]
     },
     "execution_count": 4,
     "metadata": {},
     "output_type": "execute_result"
    }
   ],
   "source": [
    "distance*3"
   ]
  },
  {
   "cell_type": "code",
   "execution_count": 5,
   "id": "b4e665f3",
   "metadata": {},
   "outputs": [
    {
     "data": {
      "text/plain": [
       "[56, 89, 45, 75, 68, 0.3, 2.1, 1.3, 1.9, 3.2]"
      ]
     },
     "execution_count": 5,
     "metadata": {},
     "output_type": "execute_result"
    }
   ],
   "source": [
    "distance+time"
   ]
  },
  {
   "cell_type": "code",
   "execution_count": 9,
   "id": "53b129b2",
   "metadata": {},
   "outputs": [],
   "source": [
    "import numpy as np"
   ]
  },
  {
   "cell_type": "code",
   "execution_count": 10,
   "id": "72cd9870",
   "metadata": {},
   "outputs": [],
   "source": [
    "dist_array=np.array(distance)\n",
    "time_array=np.array(time)"
   ]
  },
  {
   "cell_type": "code",
   "execution_count": 11,
   "id": "2e431ccc",
   "metadata": {},
   "outputs": [
    {
     "data": {
      "text/plain": [
       "array([186.66666667,  42.38095238,  34.61538462,  39.47368421,\n",
       "        21.25      ])"
      ]
     },
     "execution_count": 11,
     "metadata": {},
     "output_type": "execute_result"
    }
   ],
   "source": [
    "speed=dist_array/time_array\n",
    "speed"
   ]
  },
  {
   "cell_type": "code",
   "execution_count": 12,
   "id": "57097c0e",
   "metadata": {},
   "outputs": [],
   "source": [
    "### arrays are data structures which can be created using the numpy package. It supports mixed data types."
   ]
  },
  {
   "cell_type": "code",
   "execution_count": 13,
   "id": "ecf3181d",
   "metadata": {},
   "outputs": [
    {
     "name": "stdout",
     "output_type": "stream",
     "text": [
      "<class 'numpy.ndarray'>\n"
     ]
    }
   ],
   "source": [
    "print(type(dist_array))"
   ]
  },
  {
   "cell_type": "markdown",
   "id": "66e2687a",
   "metadata": {},
   "source": [
    "##### We combine 0D arrays to get a 1D array,we combine 1D arrays to get a 2D array. And we combine 2D arrays to get a 3D array."
   ]
  },
  {
   "cell_type": "code",
   "execution_count": 14,
   "id": "ebace088",
   "metadata": {},
   "outputs": [
    {
     "name": "stdout",
     "output_type": "stream",
     "text": [
      "<class 'numpy.ndarray'>\n",
      "0\n"
     ]
    }
   ],
   "source": [
    "###0D arrays-\n",
    "array_0D=np.array(90)\n",
    "print(type(array_0D))\n",
    "print(array_0D.ndim)\n"
   ]
  },
  {
   "cell_type": "code",
   "execution_count": 17,
   "id": "33305536",
   "metadata": {},
   "outputs": [
    {
     "name": "stdout",
     "output_type": "stream",
     "text": [
      "<class 'numpy.ndarray'>\n",
      "1\n",
      "[ 7.   9.   2.  13.5]\n",
      "float64\n"
     ]
    }
   ],
   "source": [
    "###1D array:\n",
    "array_1d=np.array([7,9,2,13.5],dtype='float')\n",
    "print(type(array_1d))\n",
    "print(array_1d.ndim)\n",
    "print(array_1d)\n",
    "print(array_1d.dtype)"
   ]
  },
  {
   "cell_type": "code",
   "execution_count": 19,
   "id": "1ab4c272",
   "metadata": {},
   "outputs": [
    {
     "name": "stdout",
     "output_type": "stream",
     "text": [
      "[[ 3  5  6  7  8]\n",
      " [ 9 10 11 12 13]\n",
      " [ 0  5  1  3  8]]\n",
      "2\n",
      "int32\n",
      "(3, 5)\n",
      "15\n"
     ]
    }
   ],
   "source": [
    "####2D array-:\n",
    "array_2D=np.array([[3,5,6,7,8],[9,10,11,12,13],[0,5,1,3,8]])\n",
    "print(array_2D)\n",
    "print(array_2D.ndim)\n",
    "print(array_2D.dtype)\n",
    "print(array_2D.shape)\n",
    "print(array_2D.size)"
   ]
  },
  {
   "cell_type": "code",
   "execution_count": 20,
   "id": "44eaeee4",
   "metadata": {},
   "outputs": [
    {
     "name": "stdout",
     "output_type": "stream",
     "text": [
      "[[[ 3  4  5]\n",
      "  [ 6  7  8]]\n",
      "\n",
      " [[ 9 10 11]\n",
      "  [12 13 14]]]\n",
      "3\n",
      "int32\n",
      "(2, 2, 3)\n",
      "12\n"
     ]
    }
   ],
   "source": [
    "array_3d=np.array([[[3,4,5],[6,7,8]],[[9,10,11],[12,13,14]]])\n",
    "print(array_3d)\n",
    "print(array_3d.ndim)\n",
    "print(array_3d.dtype)\n",
    "print(array_3d.shape)\n",
    "print(array_3d.size)"
   ]
  },
  {
   "cell_type": "markdown",
   "id": "4f9ac21f",
   "metadata": {},
   "source": [
    "#### Conversion of a lower dimensional array to a higher dimensional array,by adding dimensions."
   ]
  },
  {
   "cell_type": "code",
   "execution_count": 23,
   "id": "f81b650b",
   "metadata": {},
   "outputs": [
    {
     "name": "stdout",
     "output_type": "stream",
     "text": [
      "[ 2  3  4  5  6  7  8  9 10 11 12 13]\n",
      "1\n",
      "12\n",
      "int32\n",
      "(12,)\n"
     ]
    }
   ],
   "source": [
    "arr1d=np.array([2,3,4,5,6,7,8,9,10,11,12,13])\n",
    "print(arr1d)\n",
    "print(arr1d.ndim)\n",
    "print(arr1d.size)\n",
    "print(arr1d.dtype)\n",
    "print(arr1d.shape)"
   ]
  },
  {
   "cell_type": "code",
   "execution_count": 22,
   "id": "2da02553",
   "metadata": {},
   "outputs": [
    {
     "name": "stdout",
     "output_type": "stream",
     "text": [
      "[[ 2  3]\n",
      " [ 4  5]\n",
      " [ 6  7]\n",
      " [ 8  9]\n",
      " [10 11]\n",
      " [12 13]]\n",
      "2\n",
      "12\n",
      "int32\n"
     ]
    }
   ],
   "source": [
    "arr2d=arr1d.reshape(6,2)\n",
    "print(arr2d)\n",
    "print(arr2d.ndim)\n",
    "print(arr2d.size)\n",
    "print(arr2d.dtype)"
   ]
  },
  {
   "cell_type": "code",
   "execution_count": 24,
   "id": "d576c074",
   "metadata": {},
   "outputs": [
    {
     "data": {
      "text/plain": [
       "array([ 2,  3,  4,  5,  6,  7,  8,  9, 10, 11, 12, 13])"
      ]
     },
     "execution_count": 24,
     "metadata": {},
     "output_type": "execute_result"
    }
   ],
   "source": [
    "arr1d"
   ]
  },
  {
   "cell_type": "code",
   "execution_count": 25,
   "id": "0dbcf13d",
   "metadata": {},
   "outputs": [
    {
     "name": "stdout",
     "output_type": "stream",
     "text": [
      "[[[ 2  3]\n",
      "  [ 4  5]]\n",
      "\n",
      " [[ 6  7]\n",
      "  [ 8  9]]\n",
      "\n",
      " [[10 11]\n",
      "  [12 13]]]\n",
      "3\n",
      "12\n",
      "int32\n"
     ]
    }
   ],
   "source": [
    "##convert to a 3D array:\n",
    "arr3d=arr1d.reshape(3,2,2)\n",
    "print(arr3d)\n",
    "print(arr3d.ndim)\n",
    "print(arr3d.size)\n",
    "print(arr3d.dtype)"
   ]
  },
  {
   "cell_type": "code",
   "execution_count": 26,
   "id": "3b0aa35d",
   "metadata": {},
   "outputs": [],
   "source": [
    "###Q) create a 1D array with first 9 natural numbers. Then add a dimension to convert the same to a 2D array."
   ]
  },
  {
   "cell_type": "code",
   "execution_count": 37,
   "id": "c59f7da4",
   "metadata": {},
   "outputs": [
    {
     "name": "stdout",
     "output_type": "stream",
     "text": [
      "[1 2 3 4 5 6 7 8 9]\n",
      "[[1 2 3]\n",
      " [4 5 6]\n",
      " [7 8 9]]\n"
     ]
    }
   ],
   "source": [
    "arr6=np.arange(1,10)\n",
    "print(arr6)\n",
    "reshaped_arr6=np.reshape(arr6,(3,3))\n",
    "print(reshaped_arr6)"
   ]
  },
  {
   "cell_type": "code",
   "execution_count": 28,
   "id": "9dd1fde7",
   "metadata": {},
   "outputs": [],
   "source": [
    "####Q) create a 2D array with 6 rows and 3 columns . reshape it to a 3D array"
   ]
  },
  {
   "cell_type": "markdown",
   "id": "49a35dc5",
   "metadata": {},
   "source": [
    "### we have a module called 'random' which provides functions for generating random numbers from a standard normal dist,a standard normal dist have 0 mean and std=1"
   ]
  },
  {
   "cell_type": "code",
   "execution_count": 41,
   "id": "c693458d",
   "metadata": {},
   "outputs": [
    {
     "name": "stdout",
     "output_type": "stream",
     "text": [
      "[[0.13248196 0.78922048 0.90939262]\n",
      " [0.15527765 0.62357934 0.32651432]\n",
      " [0.64253794 0.41180134 0.81394446]\n",
      " [0.1013889  0.24728158 0.94971384]\n",
      " [0.47151377 0.97334275 0.62191843]\n",
      " [0.61436758 0.91196283 0.23616351]]\n",
      "------------------------------\n",
      "[[[0.13248196 0.78922048 0.90939262]\n",
      "  [0.15527765 0.62357934 0.32651432]\n",
      "  [0.64253794 0.41180134 0.81394446]]\n",
      "\n",
      " [[0.1013889  0.24728158 0.94971384]\n",
      "  [0.47151377 0.97334275 0.62191843]\n",
      "  [0.61436758 0.91196283 0.23616351]]]\n"
     ]
    }
   ],
   "source": [
    "arr7=np.random.rand(6,3)\n",
    "print(arr7)      #all the random numbers we got will lie between 0 and 1\n",
    "\n",
    "print('------------------------------')\n",
    "reshaped_arr7=arr7.reshape(2,3,3)\n",
    "print(reshaped_arr7)"
   ]
  },
  {
   "cell_type": "markdown",
   "id": "4bb1e42f",
   "metadata": {},
   "source": [
    "#### Convert a higher dimentional array to a lower dimentional array- we use two functions ravel() and flatten()."
   ]
  },
  {
   "cell_type": "code",
   "execution_count": 29,
   "id": "c41f9292",
   "metadata": {},
   "outputs": [
    {
     "data": {
      "text/plain": [
       "array([ 2,  3,  4,  5,  6,  7,  8,  9, 10, 11, 12, 13])"
      ]
     },
     "execution_count": 29,
     "metadata": {},
     "output_type": "execute_result"
    }
   ],
   "source": [
    "arr_lowerd=arr3d.flatten()\n",
    "arr_lowerd"
   ]
  },
  {
   "cell_type": "code",
   "execution_count": 30,
   "id": "1f1fec9c",
   "metadata": {},
   "outputs": [
    {
     "data": {
      "text/plain": [
       "array([ 2,  3,  4,  5,  6,  7,  8,  9, 10, 11, 12, 13])"
      ]
     },
     "execution_count": 30,
     "metadata": {},
     "output_type": "execute_result"
    }
   ],
   "source": [
    "arr_lowerdd=arr2d.ravel()\n",
    "arr_lowerdd"
   ]
  },
  {
   "cell_type": "code",
   "execution_count": 31,
   "id": "4fae8941",
   "metadata": {},
   "outputs": [],
   "source": [
    "#create two arrays one having elements 30,20,10 and the second having elements 40,50,60 and perform the basic mathematical\n",
    "#operations."
   ]
  },
  {
   "cell_type": "code",
   "execution_count": 34,
   "id": "d11ea974",
   "metadata": {},
   "outputs": [
    {
     "name": "stdout",
     "output_type": "stream",
     "text": [
      "sum = [70 70 70]\n",
      "multiplication = [1200 1000  600]\n",
      "division = [1.33333333 2.5        6.        ]\n",
      "subtraction = [10 30 50]\n"
     ]
    }
   ],
   "source": [
    "a = np.array([30,20,10])\n",
    "b = np.array([40,50,60])\n",
    "sum = a+b\n",
    "mult = a*b\n",
    "div = b/a\n",
    "sub = b-a\n",
    "print(f\"sum = {sum}\\nmultiplication = {mult}\\ndivision = {div}\\nsubtraction = {sub}\")"
   ]
  },
  {
   "cell_type": "code",
   "execution_count": 32,
   "id": "fb89d580",
   "metadata": {},
   "outputs": [
    {
     "data": {
      "text/plain": [
       "array([[ 4,  3,  2],\n",
       "       [10,  1,  0],\n",
       "       [ 5,  8, 24]])"
      ]
     },
     "execution_count": 32,
     "metadata": {},
     "output_type": "execute_result"
    }
   ],
   "source": [
    "###statistical operations-:\n",
    "array4=np.array([[4,3,2],[10,1,0],[5,8,24]])\n",
    "array4"
   ]
  },
  {
   "cell_type": "code",
   "execution_count": 33,
   "id": "bbc8cedf",
   "metadata": {},
   "outputs": [],
   "source": [
    "####perform basic statistical operations like mean,median,std,var."
   ]
  },
  {
   "cell_type": "code",
   "execution_count": 35,
   "id": "0165e966",
   "metadata": {
    "scrolled": true
   },
   "outputs": [
    {
     "name": "stdout",
     "output_type": "stream",
     "text": [
      "array = [[ 4  3  2]\n",
      " [10  1  0]\n",
      " [ 5  8 24]]\n",
      "mean = 6.333333333333333\n",
      "median = 4.0\n",
      "standard deviation = 6.944222218666553\n",
      "variance = 48.22222222222222\n"
     ]
    }
   ],
   "source": [
    "mean = np.mean(array4)\n",
    "median = np.median(array4)\n",
    "std = np.std(array4)\n",
    "var = np.var(array4)\n",
    "print(f\"array = {array4}\\nmean = {mean}\\nmedian = {median}\\nstandard deviation = {std}\\nvariance = {var}\")"
   ]
  },
  {
   "cell_type": "markdown",
   "id": "16007a31",
   "metadata": {},
   "source": [
    "##### Indexing"
   ]
  },
  {
   "cell_type": "code",
   "execution_count": 2,
   "id": "140e8ac7",
   "metadata": {},
   "outputs": [],
   "source": [
    "import numpy as np"
   ]
  },
  {
   "cell_type": "code",
   "execution_count": 3,
   "id": "cd9217c4",
   "metadata": {},
   "outputs": [],
   "source": [
    "arr_1d=np.array([1,2,3,4,5])"
   ]
  },
  {
   "cell_type": "code",
   "execution_count": 4,
   "id": "011de645",
   "metadata": {},
   "outputs": [
    {
     "data": {
      "text/plain": [
       "array([[ 1,  2,  3,  4,  5],\n",
       "       [ 6,  7,  8,  9, 10],\n",
       "       [11, 12, 13, 14, 15]])"
      ]
     },
     "execution_count": 4,
     "metadata": {},
     "output_type": "execute_result"
    }
   ],
   "source": [
    "arr_2d=np.array([[1,2,3,4,5],[6,7,8,9,10],[11,12,13,14,15]])\n",
    "arr_2d"
   ]
  },
  {
   "cell_type": "code",
   "execution_count": 5,
   "id": "0a3902b1",
   "metadata": {},
   "outputs": [
    {
     "data": {
      "text/plain": [
       "array([[[ 1,  2,  3],\n",
       "        [ 4,  5,  6]],\n",
       "\n",
       "       [[ 7,  8,  9],\n",
       "        [10, 11, 12]],\n",
       "\n",
       "       [[13, 14, 15],\n",
       "        [16, 17, 18]]])"
      ]
     },
     "execution_count": 5,
     "metadata": {},
     "output_type": "execute_result"
    }
   ],
   "source": [
    "arr_3d=np.array([[[1,2,3],[4,5,6]],[[7,8,9],[10,11,12]],[[13,14,15],[16,17,18]]])\n",
    "arr_3d"
   ]
  },
  {
   "cell_type": "code",
   "execution_count": 6,
   "id": "bc054411",
   "metadata": {},
   "outputs": [
    {
     "name": "stdout",
     "output_type": "stream",
     "text": [
      "4\n",
      "4\n"
     ]
    }
   ],
   "source": [
    "###print 4 from the 1D array:\n",
    "print(arr_1d[3])\n",
    "print(arr_1d[-2])"
   ]
  },
  {
   "cell_type": "code",
   "execution_count": 7,
   "id": "ffa15467",
   "metadata": {},
   "outputs": [
    {
     "data": {
      "text/plain": [
       "6"
      ]
     },
     "execution_count": 7,
     "metadata": {},
     "output_type": "execute_result"
    }
   ],
   "source": [
    "### find out the sum of the 4th and 2nd element of the 1d array:\n",
    "sum1=arr_1d[3]+arr_1d[1]\n",
    "sum1\n"
   ]
  },
  {
   "cell_type": "code",
   "execution_count": 8,
   "id": "2e675870",
   "metadata": {},
   "outputs": [
    {
     "data": {
      "text/plain": [
       "array([[ 1,  2,  3,  4,  5],\n",
       "       [ 6,  7,  8,  9, 10],\n",
       "       [11, 12, 13, 14, 15]])"
      ]
     },
     "execution_count": 8,
     "metadata": {},
     "output_type": "execute_result"
    }
   ],
   "source": [
    "arr_2d"
   ]
  },
  {
   "cell_type": "code",
   "execution_count": 9,
   "id": "365da441",
   "metadata": {},
   "outputs": [
    {
     "data": {
      "text/plain": [
       "3"
      ]
     },
     "execution_count": 9,
     "metadata": {},
     "output_type": "execute_result"
    }
   ],
   "source": [
    "### how do i slice 3(3rd element of the first row)\n",
    "arr_2d[0,2]"
   ]
  },
  {
   "cell_type": "code",
   "execution_count": 10,
   "id": "9727236c",
   "metadata": {},
   "outputs": [
    {
     "data": {
      "text/plain": [
       "14"
      ]
     },
     "execution_count": 10,
     "metadata": {},
     "output_type": "execute_result"
    }
   ],
   "source": [
    "### how do i slice 14 from arr_2d?\n",
    "arr_2d[2,3]"
   ]
  },
  {
   "cell_type": "code",
   "execution_count": 11,
   "id": "56ef4e54",
   "metadata": {},
   "outputs": [
    {
     "data": {
      "text/plain": [
       "14"
      ]
     },
     "execution_count": 11,
     "metadata": {},
     "output_type": "execute_result"
    }
   ],
   "source": [
    "arr_2d[-1,-2]"
   ]
  },
  {
   "cell_type": "code",
   "execution_count": 12,
   "id": "848080b4",
   "metadata": {},
   "outputs": [
    {
     "data": {
      "text/plain": [
       "array([[[ 1,  2,  3],\n",
       "        [ 4,  5,  6]],\n",
       "\n",
       "       [[ 7,  8,  9],\n",
       "        [10, 11, 12]],\n",
       "\n",
       "       [[13, 14, 15],\n",
       "        [16, 17, 18]]])"
      ]
     },
     "execution_count": 12,
     "metadata": {},
     "output_type": "execute_result"
    }
   ],
   "source": [
    "arr_3d"
   ]
  },
  {
   "cell_type": "code",
   "execution_count": 13,
   "id": "f01ee16e",
   "metadata": {},
   "outputs": [
    {
     "data": {
      "text/plain": [
       "16"
      ]
     },
     "execution_count": 13,
     "metadata": {},
     "output_type": "execute_result"
    }
   ],
   "source": [
    "###slice out 16 from arr_3d\n",
    "arr_3d[2,1,0]"
   ]
  },
  {
   "cell_type": "code",
   "execution_count": 14,
   "id": "13780d6f",
   "metadata": {},
   "outputs": [],
   "source": [
    "###Q)slice out 7,10,9,12 from the 3D array"
   ]
  },
  {
   "cell_type": "code",
   "execution_count": 15,
   "id": "f8fa9b08",
   "metadata": {},
   "outputs": [
    {
     "name": "stdout",
     "output_type": "stream",
     "text": [
      "7 10 9 12\n"
     ]
    }
   ],
   "source": [
    "seven=arr_3d[1,0,0]\n",
    "ten=arr_3d[1,1,0]\n",
    "nine=arr_3d[1,0,2]\n",
    "twelve=arr_3d[1,1,2]\n",
    "\n",
    "print(seven,ten,nine,twelve)"
   ]
  },
  {
   "cell_type": "code",
   "execution_count": 15,
   "id": "98b4dd8c",
   "metadata": {},
   "outputs": [],
   "source": [
    "###Q) slice out the second row (10,11,12) from arr_3d"
   ]
  },
  {
   "cell_type": "code",
   "execution_count": 16,
   "id": "130fc13d",
   "metadata": {},
   "outputs": [
    {
     "data": {
      "text/plain": [
       "array([[10, 11, 12]])"
      ]
     },
     "execution_count": 16,
     "metadata": {},
     "output_type": "execute_result"
    }
   ],
   "source": [
    "res=arr_3d[1,1:]\n",
    "res"
   ]
  },
  {
   "cell_type": "code",
   "execution_count": 17,
   "id": "1c4e00e6",
   "metadata": {},
   "outputs": [
    {
     "data": {
      "text/plain": [
       "array([10, 11, 12])"
      ]
     },
     "execution_count": 17,
     "metadata": {},
     "output_type": "execute_result"
    }
   ],
   "source": [
    "arr_3d[1,1,:]"
   ]
  },
  {
   "cell_type": "code",
   "execution_count": 19,
   "id": "519884d3",
   "metadata": {},
   "outputs": [
    {
     "data": {
      "text/plain": [
       "array([[ 7,  8,  9],\n",
       "       [10, 11, 12]])"
      ]
     },
     "execution_count": 19,
     "metadata": {},
     "output_type": "execute_result"
    }
   ],
   "source": [
    "arr_3d[1,0:]"
   ]
  },
  {
   "cell_type": "code",
   "execution_count": 18,
   "id": "e1c7bc93",
   "metadata": {},
   "outputs": [
    {
     "data": {
      "text/plain": [
       "array([10, 11, 12])"
      ]
     },
     "execution_count": 18,
     "metadata": {},
     "output_type": "execute_result"
    }
   ],
   "source": [
    "arr_3d[1,1]"
   ]
  },
  {
   "cell_type": "markdown",
   "id": "d2ced399",
   "metadata": {},
   "source": [
    "#### Slicing creates a view of the original array. indexing on the other hand creates a copy of the original array."
   ]
  },
  {
   "cell_type": "code",
   "execution_count": 20,
   "id": "3bb92029",
   "metadata": {},
   "outputs": [],
   "source": [
    "x=np.array([4,5,6])"
   ]
  },
  {
   "cell_type": "code",
   "execution_count": 21,
   "id": "df46ca99",
   "metadata": {},
   "outputs": [],
   "source": [
    "y=x.copy()"
   ]
  },
  {
   "cell_type": "code",
   "execution_count": 22,
   "id": "f9b91c7b",
   "metadata": {},
   "outputs": [],
   "source": [
    "x[1]=10"
   ]
  },
  {
   "cell_type": "code",
   "execution_count": 23,
   "id": "d00ae427",
   "metadata": {},
   "outputs": [
    {
     "data": {
      "text/plain": [
       "array([ 4, 10,  6])"
      ]
     },
     "execution_count": 23,
     "metadata": {},
     "output_type": "execute_result"
    }
   ],
   "source": [
    "x"
   ]
  },
  {
   "cell_type": "code",
   "execution_count": 24,
   "id": "cf7002e2",
   "metadata": {},
   "outputs": [
    {
     "data": {
      "text/plain": [
       "array([4, 5, 6])"
      ]
     },
     "execution_count": 24,
     "metadata": {},
     "output_type": "execute_result"
    }
   ],
   "source": [
    "y"
   ]
  },
  {
   "cell_type": "code",
   "execution_count": 25,
   "id": "e5b97d07",
   "metadata": {},
   "outputs": [],
   "source": [
    "###copy is independent of the original array."
   ]
  },
  {
   "cell_type": "code",
   "execution_count": 26,
   "id": "92a657e3",
   "metadata": {},
   "outputs": [],
   "source": [
    "z=x.view()"
   ]
  },
  {
   "cell_type": "code",
   "execution_count": 27,
   "id": "52e27edb",
   "metadata": {},
   "outputs": [],
   "source": [
    "x[-1]=60"
   ]
  },
  {
   "cell_type": "code",
   "execution_count": 28,
   "id": "5338ae21",
   "metadata": {},
   "outputs": [
    {
     "data": {
      "text/plain": [
       "array([ 4, 10, 60])"
      ]
     },
     "execution_count": 28,
     "metadata": {},
     "output_type": "execute_result"
    }
   ],
   "source": [
    "x"
   ]
  },
  {
   "cell_type": "code",
   "execution_count": 29,
   "id": "d8c247f0",
   "metadata": {},
   "outputs": [
    {
     "data": {
      "text/plain": [
       "array([ 4, 10, 60])"
      ]
     },
     "execution_count": 29,
     "metadata": {},
     "output_type": "execute_result"
    }
   ],
   "source": [
    "z"
   ]
  },
  {
   "cell_type": "code",
   "execution_count": 30,
   "id": "14e48ce7",
   "metadata": {},
   "outputs": [
    {
     "data": {
      "text/plain": [
       "array([4, 5, 6])"
      ]
     },
     "execution_count": 30,
     "metadata": {},
     "output_type": "execute_result"
    }
   ],
   "source": [
    "y"
   ]
  },
  {
   "cell_type": "code",
   "execution_count": 31,
   "id": "c686ddc6",
   "metadata": {},
   "outputs": [],
   "source": [
    "### view is dependent on the original array. if we make any changes in the original array,the view gets impacted."
   ]
  },
  {
   "cell_type": "code",
   "execution_count": 32,
   "id": "a708021b",
   "metadata": {},
   "outputs": [],
   "source": [
    "employee_rating=np.array([1,4,3,5,6,8,9,10,12])"
   ]
  },
  {
   "cell_type": "code",
   "execution_count": 33,
   "id": "488cd586",
   "metadata": {},
   "outputs": [
    {
     "data": {
      "text/plain": [
       "array([4, 3, 5, 6, 8, 9])"
      ]
     },
     "execution_count": 33,
     "metadata": {},
     "output_type": "execute_result"
    }
   ],
   "source": [
    "###I want 4-9 elements to be sliced out from employee rating.\n",
    "employee_rating[1:7]"
   ]
  },
  {
   "cell_type": "code",
   "execution_count": null,
   "id": "fc0aa262",
   "metadata": {},
   "outputs": [],
   "source": [
    "###step method:\n",
    "#syntax=[start:stop:step]"
   ]
  },
  {
   "cell_type": "code",
   "execution_count": 34,
   "id": "60bd9ed7",
   "metadata": {},
   "outputs": [
    {
     "data": {
      "text/plain": [
       "array([4, 6])"
      ]
     },
     "execution_count": 34,
     "metadata": {},
     "output_type": "execute_result"
    }
   ],
   "source": [
    "employee_rating[1:6:3]"
   ]
  },
  {
   "cell_type": "code",
   "execution_count": 35,
   "id": "9d65c15e",
   "metadata": {},
   "outputs": [
    {
     "data": {
      "text/plain": [
       "array([4, 5, 8])"
      ]
     },
     "execution_count": 35,
     "metadata": {},
     "output_type": "execute_result"
    }
   ],
   "source": [
    "employee_rating[1:6:2]"
   ]
  },
  {
   "cell_type": "code",
   "execution_count": 36,
   "id": "241b53ea",
   "metadata": {},
   "outputs": [
    {
     "data": {
      "text/plain": [
       "array([ 3,  5,  6,  8,  9, 10])"
      ]
     },
     "execution_count": 36,
     "metadata": {},
     "output_type": "execute_result"
    }
   ],
   "source": [
    "employee_rating[2:8:1]"
   ]
  },
  {
   "cell_type": "code",
   "execution_count": 37,
   "id": "8a40b5a6",
   "metadata": {},
   "outputs": [],
   "source": [
    "#### we use the step method when we want to skip elements while reading within a specific range. we will\n",
    "#### always skip=step-1 elements."
   ]
  },
  {
   "cell_type": "code",
   "execution_count": 38,
   "id": "199cca57",
   "metadata": {},
   "outputs": [
    {
     "data": {
      "text/plain": [
       "array([ 1,  4,  3,  5,  6,  8,  9, 10, 12])"
      ]
     },
     "execution_count": 38,
     "metadata": {},
     "output_type": "execute_result"
    }
   ],
   "source": [
    "### Q) i want only 1 and 6 sliced out from employee rating.\n",
    "employee_rating"
   ]
  },
  {
   "cell_type": "code",
   "execution_count": 39,
   "id": "344de471",
   "metadata": {},
   "outputs": [
    {
     "data": {
      "text/plain": [
       "array([1, 6])"
      ]
     },
     "execution_count": 39,
     "metadata": {},
     "output_type": "execute_result"
    }
   ],
   "source": [
    "employee_rating[0:5:4]"
   ]
  },
  {
   "cell_type": "code",
   "execution_count": 40,
   "id": "977bb5eb",
   "metadata": {},
   "outputs": [
    {
     "data": {
      "text/plain": [
       "array([1, 6])"
      ]
     },
     "execution_count": 40,
     "metadata": {},
     "output_type": "execute_result"
    }
   ],
   "source": [
    "employee_rating[:8:4]"
   ]
  },
  {
   "cell_type": "code",
   "execution_count": 42,
   "id": "1eac5a47",
   "metadata": {},
   "outputs": [
    {
     "data": {
      "text/plain": [
       "array([ 0,  1,  2,  3,  4,  5,  6,  7,  8,  9, 10, 11, 12, 13, 14, 15, 16,\n",
       "       17, 18, 19, 20])"
      ]
     },
     "execution_count": 42,
     "metadata": {},
     "output_type": "execute_result"
    }
   ],
   "source": [
    "a1=np.arange(21)\n",
    "a1"
   ]
  },
  {
   "cell_type": "code",
   "execution_count": 43,
   "id": "6e187486",
   "metadata": {},
   "outputs": [],
   "source": [
    "###Q)slice out 14 and 16 from the array a1"
   ]
  },
  {
   "cell_type": "code",
   "execution_count": 45,
   "id": "c13edfe6",
   "metadata": {},
   "outputs": [],
   "source": [
    "####Q) slice out 11,14,17 using the step method from a1"
   ]
  },
  {
   "cell_type": "code",
   "execution_count": 50,
   "id": "1cdc39b2",
   "metadata": {},
   "outputs": [
    {
     "name": "stdout",
     "output_type": "stream",
     "text": [
      "[14 16]\n",
      "[14 16]\n"
     ]
    }
   ],
   "source": [
    "print(a1[14:17:2])\n",
    "print(a1[-7:-4:2])"
   ]
  },
  {
   "cell_type": "code",
   "execution_count": 47,
   "id": "316bb7d2",
   "metadata": {},
   "outputs": [
    {
     "data": {
      "text/plain": [
       "array([11, 14, 17])"
      ]
     },
     "execution_count": 47,
     "metadata": {},
     "output_type": "execute_result"
    }
   ],
   "source": [
    "a1[11:18:3]"
   ]
  },
  {
   "cell_type": "code",
   "execution_count": 51,
   "id": "047aed30",
   "metadata": {},
   "outputs": [
    {
     "data": {
      "text/plain": [
       "array([11, 14, 17])"
      ]
     },
     "execution_count": 51,
     "metadata": {},
     "output_type": "execute_result"
    }
   ],
   "source": [
    "a1[-10:-3:3]"
   ]
  },
  {
   "cell_type": "code",
   "execution_count": 52,
   "id": "140cd379",
   "metadata": {},
   "outputs": [],
   "source": [
    "### Print all the elements of a1 in the reverse order"
   ]
  },
  {
   "cell_type": "code",
   "execution_count": 55,
   "id": "74db9372",
   "metadata": {},
   "outputs": [
    {
     "name": "stdout",
     "output_type": "stream",
     "text": [
      "[20 19 18 17 16 15 14 13 12 11 10  9  8  7  6  5  4  3  2  1  0]\n"
     ]
    }
   ],
   "source": [
    "reverse = a1[::-1]\n",
    "print(reverse)"
   ]
  },
  {
   "cell_type": "code",
   "execution_count": 53,
   "id": "caf2c107",
   "metadata": {},
   "outputs": [],
   "source": [
    "### create an array with elements 1,2,3,4 and slice out 2,4 using the step method."
   ]
  },
  {
   "cell_type": "code",
   "execution_count": 57,
   "id": "30c3800e",
   "metadata": {},
   "outputs": [
    {
     "name": "stdout",
     "output_type": "stream",
     "text": [
      "[2 4]\n"
     ]
    }
   ],
   "source": [
    "a2 = np.array([1,2,3,4])\n",
    "print(a2[1::2])"
   ]
  },
  {
   "cell_type": "code",
   "execution_count": 54,
   "id": "5ce63244",
   "metadata": {},
   "outputs": [],
   "source": [
    "### slice out 3,4 from the above array using negetive slicing."
   ]
  },
  {
   "cell_type": "code",
   "execution_count": 59,
   "id": "e169dd60",
   "metadata": {},
   "outputs": [
    {
     "name": "stdout",
     "output_type": "stream",
     "text": [
      "[3 4]\n"
     ]
    }
   ],
   "source": [
    "print(a1[-2:])"
   ]
  },
  {
   "cell_type": "code",
   "execution_count": 60,
   "id": "29ef3037",
   "metadata": {},
   "outputs": [
    {
     "name": "stdout",
     "output_type": "stream",
     "text": [
      "[3 4]\n"
     ]
    }
   ],
   "source": [
    "print(a1[-2::1])"
   ]
  },
  {
   "cell_type": "code",
   "execution_count": null,
   "id": "8aa62f07",
   "metadata": {},
   "outputs": [],
   "source": []
  },
  {
   "cell_type": "code",
   "execution_count": null,
   "id": "5678f6da",
   "metadata": {},
   "outputs": [],
   "source": []
  },
  {
   "cell_type": "code",
   "execution_count": null,
   "id": "54fafa45",
   "metadata": {},
   "outputs": [],
   "source": []
  },
  {
   "cell_type": "markdown",
   "id": "599826db",
   "metadata": {},
   "source": [
    "#### As a data scientist,your task is to create a python object that explores numpy's attributes and functions.Use the dataset containing daily temperature records for a week\n",
    "* temperatures=[76.2,78.2,74.5,79.3,82.6,79.8,66.5,71.6]\n",
    "* 1) Explore the key attributes-ndim,shape,size\n",
    "* 2) demonstrate numpy array functions like reshape,flatten,transpose."
   ]
  },
  {
   "cell_type": "code",
   "execution_count": 54,
   "id": "3fc8446b",
   "metadata": {},
   "outputs": [
    {
     "name": "stdout",
     "output_type": "stream",
     "text": [
      "dimension = 1\n",
      "shape = (8,)\n",
      "size = 8\n",
      "Reshaping to create 2D array \n",
      " [[76.2 78.2 74.5 79.3]\n",
      " [82.6 79.8 66.5 71.6]]\n",
      "Reshaping to create 3D array \n",
      "[[[76.2 78.2]\n",
      "  [74.5 79.3]]\n",
      "\n",
      " [[82.6 79.8]\n",
      "  [66.5 71.6]]]\n",
      "\n",
      "Using flatten to create 1D array = [76.2 78.2 74.5 79.3 82.6 79.8 66.5 71.6]\n",
      "Transpose\n",
      "[[76.2 82.6]\n",
      " [78.2 79.8]\n",
      " [74.5 66.5]\n",
      " [79.3 71.6]]\n"
     ]
    }
   ],
   "source": [
    "temperatures=[76.2,78.2,74.5,79.3,82.6,79.8,66.5,71.6]\n",
    "temp = np.array(temperatures)\n",
    "#1\n",
    "dimension = temp.ndim \n",
    "shape = temp.shape\n",
    "size = temp.size\n",
    "print(f\"dimension = {dimension}\\nshape = {shape}\\nsize = {size}\")\n",
    "#2\n",
    "two_d = temp.reshape(2,4)\n",
    "three_d = temp.reshape(2,2,2)\n",
    "flat = three_d.flatten()\n",
    "trans = np.transpose(two_d)\n",
    "print(f\"Reshaping to create 2D array \\n {two_d}\\nReshaping to create 3D array \\n{three_d}\\n\\nUsing flatten to create 1D array = {flat}\\nTranspose\\n{trans}\")"
   ]
  },
  {
   "cell_type": "markdown",
   "id": "d612cb8a",
   "metadata": {},
   "source": [
    "###### Q)Create a 3D array using elements from 5-16,convert it to a 2D array and finally to a 1D array using the flatten method"
   ]
  },
  {
   "cell_type": "code",
   "execution_count": 53,
   "id": "2c737621",
   "metadata": {},
   "outputs": [
    {
     "name": "stdout",
     "output_type": "stream",
     "text": [
      "[[[ 5  6]\n",
      "  [ 7  8]\n",
      "  [ 9 10]]\n",
      "\n",
      " [[11 12]\n",
      "  [13 14]\n",
      "  [15 16]]]\n",
      "[[ 5  6]\n",
      " [ 7  8]\n",
      " [ 9 10]\n",
      " [11 12]\n",
      " [13 14]\n",
      " [15 16]]\n",
      "[ 5  6  7  8  9 10 11 12 13 14 15 16]\n"
     ]
    }
   ],
   "source": [
    "array_3d=np.arange(5,17).reshape(2,3,2)\n",
    "\n",
    "#convert it to a 2D array:\n",
    "\n",
    "array_2d=array_3d.reshape(6,2)\n",
    "\n",
    "#convert it to a 1D array:\n",
    "\n",
    "array_1d=array_2d.flatten()\n",
    "\n",
    "\n",
    "print(array_3d)\n",
    "print(array_2d)\n",
    "print(array_1d)"
   ]
  },
  {
   "cell_type": "markdown",
   "id": "176d67c0",
   "metadata": {},
   "source": [
    "#### Q)Check if the values 15,20,25 are present in the above array you have created."
   ]
  },
  {
   "cell_type": "code",
   "execution_count": null,
   "id": "58aabd9b",
   "metadata": {},
   "outputs": [],
   "source": []
  },
  {
   "cell_type": "markdown",
   "id": "501dde80",
   "metadata": {},
   "source": [
    "#### Q) array_test=np.array(1,1,1,2,4,8,9,2,4,1,6) is a 1D array.Find out the number of elements present in the array and the most frequently occuring element."
   ]
  },
  {
   "cell_type": "markdown",
   "id": "ca64018c",
   "metadata": {},
   "source": [
    "#####  bincount function from numpy returns the count of values in each bin starting from 0 to the highest value in the collection."
   ]
  },
  {
   "cell_type": "markdown",
   "id": "8e2edede",
   "metadata": {},
   "source": [
    "###### Q) array_1d=np.array([1,2,3,4,5,6]) and create a 3D array with elements 1-18.\n",
    "* print out the value 15 from the 3D array\n",
    "* slice out 7,6,11 from the 3D array\n",
    "* slice out the second row from the first 2D array\n"
   ]
  },
  {
   "cell_type": "markdown",
   "id": "6fa72954",
   "metadata": {},
   "source": [
    "##### Q) create an array with the first 30 natural numbers. slice out 12,14,16,18,20,22 using the step method (take a step of 2,and use negetive indices only)"
   ]
  },
  {
   "cell_type": "markdown",
   "id": "5df77578",
   "metadata": {},
   "source": [
    "##### Q) print all the elements in the above subset in the reverse order"
   ]
  },
  {
   "cell_type": "markdown",
   "id": "6684149c",
   "metadata": {},
   "source": [
    "##### Q) create a numpy array with elements 5-20 and update the values of all elements from the fifth position onwards to 25"
   ]
  },
  {
   "cell_type": "markdown",
   "id": "e7c4a02a",
   "metadata": {},
   "source": [
    "##### Q)  modify every second element in the above array and assign a value 16 to it."
   ]
  },
  {
   "cell_type": "markdown",
   "id": "da88b6b0",
   "metadata": {},
   "source": [
    "#### pandas is a fast, powerful, flexible and easy to use open source data analysis and manipulation tool,built on top of the Python programming language.it offers data structures and operations for manipulating numerical data. The two data structures are 1) A 1 dimentional Series 2) A Dataframe\n",
    "\n",
    "#### Pandas Series() is a function used to generate a series. Creation of a series from a numpy array requires the array() function from the Numpy package."
   ]
  },
  {
   "cell_type": "markdown",
   "id": "484c9163",
   "metadata": {},
   "source": [
    "### Intrinsic data alignment happens with the pandas package. Each data structure has got the internal indexes aligned to each element."
   ]
  },
  {
   "cell_type": "code",
   "execution_count": 1,
   "id": "2e5d40d7",
   "metadata": {},
   "outputs": [],
   "source": [
    "import pandas as pd\n",
    "import numpy as np"
   ]
  },
  {
   "cell_type": "code",
   "execution_count": 2,
   "id": "a155d3ac",
   "metadata": {},
   "outputs": [],
   "source": [
    "#### series support multiple data types."
   ]
  },
  {
   "cell_type": "code",
   "execution_count": 3,
   "id": "4ebca193",
   "metadata": {},
   "outputs": [
    {
     "data": {
      "text/plain": [
       "0        45\n",
       "1      89.5\n",
       "2      None\n",
       "3      True\n",
       "4    (5, 6)\n",
       "5      text\n",
       "dtype: object"
      ]
     },
     "execution_count": 3,
     "metadata": {},
     "output_type": "execute_result"
    }
   ],
   "source": [
    "ser1=pd.Series([45,89.5,None,True,(5,6),'text'])\n",
    "ser1"
   ]
  },
  {
   "cell_type": "code",
   "execution_count": 6,
   "id": "2392c969",
   "metadata": {},
   "outputs": [
    {
     "data": {
      "text/plain": [
       "a        45\n",
       "b      89.5\n",
       "c      None\n",
       "d      True\n",
       "e    (5, 6)\n",
       "f      text\n",
       "dtype: object"
      ]
     },
     "execution_count": 6,
     "metadata": {},
     "output_type": "execute_result"
    }
   ],
   "source": [
    "ser2=pd.Series([45,89.5,None,True,(5,6),'text'],index=['a','b','c','d','e','f'])\n",
    "ser2"
   ]
  },
  {
   "cell_type": "code",
   "execution_count": 7,
   "id": "4222f9b1",
   "metadata": {},
   "outputs": [
    {
     "data": {
      "text/plain": [
       "0    34.0\n",
       "1    67.0\n",
       "2    89.0\n",
       "3    12.0\n",
       "4    45.6\n",
       "dtype: float64"
      ]
     },
     "execution_count": 7,
     "metadata": {},
     "output_type": "execute_result"
    }
   ],
   "source": [
    "arr=np.array([34,67,89,12,45.6])\n",
    "ser3=pd.Series(arr)\n",
    "ser3"
   ]
  },
  {
   "cell_type": "code",
   "execution_count": 8,
   "id": "5eefabf9",
   "metadata": {},
   "outputs": [
    {
     "data": {
      "text/plain": [
       "0    34.0\n",
       "1    67.0\n",
       "2    89.0\n",
       "3    12.0\n",
       "4    45.6\n",
       "dtype: float64"
      ]
     },
     "execution_count": 8,
     "metadata": {},
     "output_type": "execute_result"
    }
   ],
   "source": [
    "t1=(34,67,89,12,45.6)\n",
    "ser4=pd.Series(t1)\n",
    "ser4"
   ]
  },
  {
   "cell_type": "code",
   "execution_count": 10,
   "id": "a445d985",
   "metadata": {},
   "outputs": [
    {
     "data": {
      "text/plain": [
       "12.0"
      ]
     },
     "execution_count": 10,
     "metadata": {},
     "output_type": "execute_result"
    }
   ],
   "source": [
    "ser4[3]"
   ]
  },
  {
   "cell_type": "code",
   "execution_count": 13,
   "id": "4a394aed",
   "metadata": {},
   "outputs": [
    {
     "data": {
      "text/plain": [
       "a              apple\n",
       "b               2426\n",
       "10875       employee\n",
       "language      python\n",
       "dtype: object"
      ]
     },
     "execution_count": 13,
     "metadata": {},
     "output_type": "execute_result"
    }
   ],
   "source": [
    "dict1={'a':'apple','b':2426,10875:'employee','language':'python'}\n",
    "ser5=pd.Series(dict1)\n",
    "ser5"
   ]
  },
  {
   "cell_type": "code",
   "execution_count": 11,
   "id": "58363a1a",
   "metadata": {},
   "outputs": [
    {
     "data": {
      "text/plain": [
       "'employee'"
      ]
     },
     "execution_count": 11,
     "metadata": {},
     "output_type": "execute_result"
    }
   ],
   "source": [
    "ser5[10875]"
   ]
  },
  {
   "cell_type": "code",
   "execution_count": 15,
   "id": "0043d174",
   "metadata": {},
   "outputs": [
    {
     "name": "stdout",
     "output_type": "stream",
     "text": [
      "<class 'pandas.core.series.Series'>\n"
     ]
    }
   ],
   "source": [
    "print(type(ser5))"
   ]
  },
  {
   "cell_type": "code",
   "execution_count": 14,
   "id": "3cb6f503",
   "metadata": {},
   "outputs": [
    {
     "name": "stdout",
     "output_type": "stream",
     "text": [
      "   Age  Name  Marks\n",
      "0   24   Sim     82\n",
      "1   28   Tim     85\n",
      "2   31  Jack     65\n",
      "3   35  Lisa     76\n",
      "4   42  Lily     91\n",
      "<class 'pandas.core.frame.DataFrame'>\n"
     ]
    }
   ],
   "source": [
    "data={'Age':[24,28,31,35,42],\n",
    "     'Name':['Sim','Tim','Jack','Lisa','Lily'],\n",
    "      'Marks':[82,85,65,76,91]}\n",
    "\n",
    "df=pd.DataFrame(data)\n",
    "print(df)\n",
    "print(type(df))"
   ]
  },
  {
   "cell_type": "code",
   "execution_count": 16,
   "id": "ea9d47dd",
   "metadata": {},
   "outputs": [],
   "source": [
    "###Loc function helps us slice dataframes using the row/column labels"
   ]
  },
  {
   "cell_type": "code",
   "execution_count": 18,
   "id": "b4fbf437",
   "metadata": {},
   "outputs": [
    {
     "data": {
      "text/plain": [
       "'Lisa'"
      ]
     },
     "execution_count": 18,
     "metadata": {},
     "output_type": "execute_result"
    }
   ],
   "source": [
    "df.loc[3,'Name']"
   ]
  },
  {
   "cell_type": "code",
   "execution_count": 19,
   "id": "b6c2f26f",
   "metadata": {},
   "outputs": [
    {
     "data": {
      "text/html": [
       "<div>\n",
       "<style scoped>\n",
       "    .dataframe tbody tr th:only-of-type {\n",
       "        vertical-align: middle;\n",
       "    }\n",
       "\n",
       "    .dataframe tbody tr th {\n",
       "        vertical-align: top;\n",
       "    }\n",
       "\n",
       "    .dataframe thead th {\n",
       "        text-align: right;\n",
       "    }\n",
       "</style>\n",
       "<table border=\"1\" class=\"dataframe\">\n",
       "  <thead>\n",
       "    <tr style=\"text-align: right;\">\n",
       "      <th></th>\n",
       "      <th>Age</th>\n",
       "      <th>Name</th>\n",
       "      <th>Marks</th>\n",
       "    </tr>\n",
       "  </thead>\n",
       "  <tbody>\n",
       "    <tr>\n",
       "      <th>2</th>\n",
       "      <td>31</td>\n",
       "      <td>Jack</td>\n",
       "      <td>65</td>\n",
       "    </tr>\n",
       "    <tr>\n",
       "      <th>3</th>\n",
       "      <td>35</td>\n",
       "      <td>Lisa</td>\n",
       "      <td>76</td>\n",
       "    </tr>\n",
       "    <tr>\n",
       "      <th>4</th>\n",
       "      <td>42</td>\n",
       "      <td>Lily</td>\n",
       "      <td>91</td>\n",
       "    </tr>\n",
       "  </tbody>\n",
       "</table>\n",
       "</div>"
      ],
      "text/plain": [
       "   Age  Name  Marks\n",
       "2   31  Jack     65\n",
       "3   35  Lisa     76\n",
       "4   42  Lily     91"
      ]
     },
     "execution_count": 19,
     "metadata": {},
     "output_type": "execute_result"
    }
   ],
   "source": [
    "###last 3 rows\n",
    "df.loc[2:4,:]"
   ]
  },
  {
   "cell_type": "code",
   "execution_count": 27,
   "id": "50d39ce3",
   "metadata": {},
   "outputs": [
    {
     "data": {
      "text/html": [
       "<div>\n",
       "<style scoped>\n",
       "    .dataframe tbody tr th:only-of-type {\n",
       "        vertical-align: middle;\n",
       "    }\n",
       "\n",
       "    .dataframe tbody tr th {\n",
       "        vertical-align: top;\n",
       "    }\n",
       "\n",
       "    .dataframe thead th {\n",
       "        text-align: right;\n",
       "    }\n",
       "</style>\n",
       "<table border=\"1\" class=\"dataframe\">\n",
       "  <thead>\n",
       "    <tr style=\"text-align: right;\">\n",
       "      <th></th>\n",
       "      <th>Age</th>\n",
       "      <th>Name</th>\n",
       "      <th>Marks</th>\n",
       "    </tr>\n",
       "  </thead>\n",
       "  <tbody>\n",
       "    <tr>\n",
       "      <th>2</th>\n",
       "      <td>31</td>\n",
       "      <td>Jack</td>\n",
       "      <td>65</td>\n",
       "    </tr>\n",
       "    <tr>\n",
       "      <th>3</th>\n",
       "      <td>35</td>\n",
       "      <td>Lisa</td>\n",
       "      <td>76</td>\n",
       "    </tr>\n",
       "    <tr>\n",
       "      <th>4</th>\n",
       "      <td>42</td>\n",
       "      <td>Lily</td>\n",
       "      <td>91</td>\n",
       "    </tr>\n",
       "  </tbody>\n",
       "</table>\n",
       "</div>"
      ],
      "text/plain": [
       "   Age  Name  Marks\n",
       "2   31  Jack     65\n",
       "3   35  Lisa     76\n",
       "4   42  Lily     91"
      ]
     },
     "execution_count": 27,
     "metadata": {},
     "output_type": "execute_result"
    }
   ],
   "source": [
    "#last 3 rows using iloc function:\n",
    "df.iloc[2:,:]"
   ]
  },
  {
   "cell_type": "code",
   "execution_count": 20,
   "id": "e1208704",
   "metadata": {},
   "outputs": [
    {
     "data": {
      "text/html": [
       "<div>\n",
       "<style scoped>\n",
       "    .dataframe tbody tr th:only-of-type {\n",
       "        vertical-align: middle;\n",
       "    }\n",
       "\n",
       "    .dataframe tbody tr th {\n",
       "        vertical-align: top;\n",
       "    }\n",
       "\n",
       "    .dataframe thead th {\n",
       "        text-align: right;\n",
       "    }\n",
       "</style>\n",
       "<table border=\"1\" class=\"dataframe\">\n",
       "  <thead>\n",
       "    <tr style=\"text-align: right;\">\n",
       "      <th></th>\n",
       "      <th>Name</th>\n",
       "      <th>Marks</th>\n",
       "    </tr>\n",
       "  </thead>\n",
       "  <tbody>\n",
       "    <tr>\n",
       "      <th>2</th>\n",
       "      <td>Jack</td>\n",
       "      <td>65</td>\n",
       "    </tr>\n",
       "    <tr>\n",
       "      <th>3</th>\n",
       "      <td>Lisa</td>\n",
       "      <td>76</td>\n",
       "    </tr>\n",
       "    <tr>\n",
       "      <th>4</th>\n",
       "      <td>Lily</td>\n",
       "      <td>91</td>\n",
       "    </tr>\n",
       "  </tbody>\n",
       "</table>\n",
       "</div>"
      ],
      "text/plain": [
       "   Name  Marks\n",
       "2  Jack     65\n",
       "3  Lisa     76\n",
       "4  Lily     91"
      ]
     },
     "execution_count": 20,
     "metadata": {},
     "output_type": "execute_result"
    }
   ],
   "source": [
    "###i want the info of jack,lisa and lily but i want only their names and marks.\n",
    "df.loc[2:,['Name','Marks']]"
   ]
  },
  {
   "cell_type": "code",
   "execution_count": 21,
   "id": "474cfa97",
   "metadata": {},
   "outputs": [
    {
     "data": {
      "text/html": [
       "<div>\n",
       "<style scoped>\n",
       "    .dataframe tbody tr th:only-of-type {\n",
       "        vertical-align: middle;\n",
       "    }\n",
       "\n",
       "    .dataframe tbody tr th {\n",
       "        vertical-align: top;\n",
       "    }\n",
       "\n",
       "    .dataframe thead th {\n",
       "        text-align: right;\n",
       "    }\n",
       "</style>\n",
       "<table border=\"1\" class=\"dataframe\">\n",
       "  <thead>\n",
       "    <tr style=\"text-align: right;\">\n",
       "      <th></th>\n",
       "      <th>Name</th>\n",
       "      <th>Marks</th>\n",
       "    </tr>\n",
       "  </thead>\n",
       "  <tbody>\n",
       "    <tr>\n",
       "      <th>2</th>\n",
       "      <td>Jack</td>\n",
       "      <td>65</td>\n",
       "    </tr>\n",
       "    <tr>\n",
       "      <th>3</th>\n",
       "      <td>Lisa</td>\n",
       "      <td>76</td>\n",
       "    </tr>\n",
       "    <tr>\n",
       "      <th>4</th>\n",
       "      <td>Lily</td>\n",
       "      <td>91</td>\n",
       "    </tr>\n",
       "  </tbody>\n",
       "</table>\n",
       "</div>"
      ],
      "text/plain": [
       "   Name  Marks\n",
       "2  Jack     65\n",
       "3  Lisa     76\n",
       "4  Lily     91"
      ]
     },
     "execution_count": 21,
     "metadata": {},
     "output_type": "execute_result"
    }
   ],
   "source": [
    "df.loc[2:,'Name':]"
   ]
  },
  {
   "cell_type": "code",
   "execution_count": 25,
   "id": "69c0ece2",
   "metadata": {},
   "outputs": [
    {
     "data": {
      "text/html": [
       "<div>\n",
       "<style scoped>\n",
       "    .dataframe tbody tr th:only-of-type {\n",
       "        vertical-align: middle;\n",
       "    }\n",
       "\n",
       "    .dataframe tbody tr th {\n",
       "        vertical-align: top;\n",
       "    }\n",
       "\n",
       "    .dataframe thead th {\n",
       "        text-align: right;\n",
       "    }\n",
       "</style>\n",
       "<table border=\"1\" class=\"dataframe\">\n",
       "  <thead>\n",
       "    <tr style=\"text-align: right;\">\n",
       "      <th></th>\n",
       "      <th>Age</th>\n",
       "    </tr>\n",
       "  </thead>\n",
       "  <tbody>\n",
       "    <tr>\n",
       "      <th>0</th>\n",
       "      <td>24</td>\n",
       "    </tr>\n",
       "    <tr>\n",
       "      <th>1</th>\n",
       "      <td>28</td>\n",
       "    </tr>\n",
       "    <tr>\n",
       "      <th>2</th>\n",
       "      <td>31</td>\n",
       "    </tr>\n",
       "    <tr>\n",
       "      <th>3</th>\n",
       "      <td>35</td>\n",
       "    </tr>\n",
       "    <tr>\n",
       "      <th>4</th>\n",
       "      <td>42</td>\n",
       "    </tr>\n",
       "  </tbody>\n",
       "</table>\n",
       "</div>"
      ],
      "text/plain": [
       "   Age\n",
       "0   24\n",
       "1   28\n",
       "2   31\n",
       "3   35\n",
       "4   42"
      ]
     },
     "execution_count": 25,
     "metadata": {},
     "output_type": "execute_result"
    }
   ],
   "source": [
    "### say i want a single column from this dataframe.say-age\n",
    "df.loc[:,['Age']]"
   ]
  },
  {
   "cell_type": "code",
   "execution_count": 29,
   "id": "aa44f1ba",
   "metadata": {},
   "outputs": [
    {
     "data": {
      "text/html": [
       "<div>\n",
       "<style scoped>\n",
       "    .dataframe tbody tr th:only-of-type {\n",
       "        vertical-align: middle;\n",
       "    }\n",
       "\n",
       "    .dataframe tbody tr th {\n",
       "        vertical-align: top;\n",
       "    }\n",
       "\n",
       "    .dataframe thead th {\n",
       "        text-align: right;\n",
       "    }\n",
       "</style>\n",
       "<table border=\"1\" class=\"dataframe\">\n",
       "  <thead>\n",
       "    <tr style=\"text-align: right;\">\n",
       "      <th></th>\n",
       "      <th>Age</th>\n",
       "    </tr>\n",
       "  </thead>\n",
       "  <tbody>\n",
       "    <tr>\n",
       "      <th>0</th>\n",
       "      <td>24</td>\n",
       "    </tr>\n",
       "    <tr>\n",
       "      <th>1</th>\n",
       "      <td>28</td>\n",
       "    </tr>\n",
       "    <tr>\n",
       "      <th>2</th>\n",
       "      <td>31</td>\n",
       "    </tr>\n",
       "    <tr>\n",
       "      <th>3</th>\n",
       "      <td>35</td>\n",
       "    </tr>\n",
       "    <tr>\n",
       "      <th>4</th>\n",
       "      <td>42</td>\n",
       "    </tr>\n",
       "  </tbody>\n",
       "</table>\n",
       "</div>"
      ],
      "text/plain": [
       "   Age\n",
       "0   24\n",
       "1   28\n",
       "2   31\n",
       "3   35\n",
       "4   42"
      ]
     },
     "execution_count": 29,
     "metadata": {},
     "output_type": "execute_result"
    }
   ],
   "source": [
    "df.iloc[:,[0]]"
   ]
  },
  {
   "cell_type": "code",
   "execution_count": 30,
   "id": "5fc857e9",
   "metadata": {
    "scrolled": true
   },
   "outputs": [
    {
     "data": {
      "text/plain": [
       "0    24\n",
       "1    28\n",
       "2    31\n",
       "3    35\n",
       "4    42\n",
       "Name: Age, dtype: int64"
      ]
     },
     "execution_count": 30,
     "metadata": {},
     "output_type": "execute_result"
    }
   ],
   "source": [
    "df.Age"
   ]
  },
  {
   "cell_type": "code",
   "execution_count": 31,
   "id": "58185f62",
   "metadata": {},
   "outputs": [
    {
     "data": {
      "text/plain": [
       "Index(['Age', 'Name', 'Marks'], dtype='object')"
      ]
     },
     "execution_count": 31,
     "metadata": {},
     "output_type": "execute_result"
    }
   ],
   "source": [
    "### see all columns in our dataframe\n",
    "df.columns"
   ]
  },
  {
   "cell_type": "code",
   "execution_count": 33,
   "id": "5eab1aff",
   "metadata": {},
   "outputs": [],
   "source": [
    "###slice out the name and age of tim,lisa,lily using loc and iloc"
   ]
  },
  {
   "cell_type": "code",
   "execution_count": 34,
   "id": "d609591d",
   "metadata": {},
   "outputs": [
    {
     "data": {
      "text/html": [
       "<div>\n",
       "<style scoped>\n",
       "    .dataframe tbody tr th:only-of-type {\n",
       "        vertical-align: middle;\n",
       "    }\n",
       "\n",
       "    .dataframe tbody tr th {\n",
       "        vertical-align: top;\n",
       "    }\n",
       "\n",
       "    .dataframe thead th {\n",
       "        text-align: right;\n",
       "    }\n",
       "</style>\n",
       "<table border=\"1\" class=\"dataframe\">\n",
       "  <thead>\n",
       "    <tr style=\"text-align: right;\">\n",
       "      <th></th>\n",
       "      <th>Name</th>\n",
       "      <th>Age</th>\n",
       "    </tr>\n",
       "  </thead>\n",
       "  <tbody>\n",
       "    <tr>\n",
       "      <th>1</th>\n",
       "      <td>Tim</td>\n",
       "      <td>28</td>\n",
       "    </tr>\n",
       "    <tr>\n",
       "      <th>3</th>\n",
       "      <td>Lisa</td>\n",
       "      <td>35</td>\n",
       "    </tr>\n",
       "    <tr>\n",
       "      <th>4</th>\n",
       "      <td>Lily</td>\n",
       "      <td>42</td>\n",
       "    </tr>\n",
       "  </tbody>\n",
       "</table>\n",
       "</div>"
      ],
      "text/plain": [
       "   Name  Age\n",
       "1   Tim   28\n",
       "3  Lisa   35\n",
       "4  Lily   42"
      ]
     },
     "execution_count": 34,
     "metadata": {},
     "output_type": "execute_result"
    }
   ],
   "source": [
    "df.iloc[[1, 3, 4], [1, 0]]"
   ]
  },
  {
   "cell_type": "code",
   "execution_count": 36,
   "id": "e3c376e8",
   "metadata": {},
   "outputs": [
    {
     "data": {
      "text/html": [
       "<div>\n",
       "<style scoped>\n",
       "    .dataframe tbody tr th:only-of-type {\n",
       "        vertical-align: middle;\n",
       "    }\n",
       "\n",
       "    .dataframe tbody tr th {\n",
       "        vertical-align: top;\n",
       "    }\n",
       "\n",
       "    .dataframe thead th {\n",
       "        text-align: right;\n",
       "    }\n",
       "</style>\n",
       "<table border=\"1\" class=\"dataframe\">\n",
       "  <thead>\n",
       "    <tr style=\"text-align: right;\">\n",
       "      <th></th>\n",
       "      <th>Age</th>\n",
       "      <th>Name</th>\n",
       "    </tr>\n",
       "  </thead>\n",
       "  <tbody>\n",
       "    <tr>\n",
       "      <th>1</th>\n",
       "      <td>28</td>\n",
       "      <td>Tim</td>\n",
       "    </tr>\n",
       "    <tr>\n",
       "      <th>3</th>\n",
       "      <td>35</td>\n",
       "      <td>Lisa</td>\n",
       "    </tr>\n",
       "    <tr>\n",
       "      <th>4</th>\n",
       "      <td>42</td>\n",
       "      <td>Lily</td>\n",
       "    </tr>\n",
       "  </tbody>\n",
       "</table>\n",
       "</div>"
      ],
      "text/plain": [
       "   Age  Name\n",
       "1   28   Tim\n",
       "3   35  Lisa\n",
       "4   42  Lily"
      ]
     },
     "execution_count": 36,
     "metadata": {},
     "output_type": "execute_result"
    }
   ],
   "source": [
    "df.loc[(1,3,4),'Age':'Name']"
   ]
  },
  {
   "cell_type": "markdown",
   "id": "3771bea4",
   "metadata": {},
   "source": [
    "### Functions of a dataframe:\n",
    "\n",
    "* tail,head-selectively displays the bottom and top 5 rows of a dataframe.\n",
    "* sample() functions helps select random rows and columns from a dataframe.\n",
    "* info() function gives more info on the dataset\n",
    "* describe() functions gives the summary stats for the variables in the data\n",
    "* query() functions helps us to query the dataset on some condition\n",
    "* loc() helps us to query the dataset based on column and row labels\n",
    "* iloc() helps us to query the dataset based on the index position of rows and columns\n",
    "* unique() helps us get the distinct values in a certain row or column\n",
    "* null() helps us to locate missing values\n",
    "* fillna() helps us to fill missing values in the dataset with some value\n",
    "* rename() helps us to rename the column name\n",
    "* where() replaces cells with null values where the where condition is not satisfied\n",
    "* drop() used  to drop columns/rows from a dataset\n",
    "* corr() used to find relationships between variables."
   ]
  },
  {
   "cell_type": "code",
   "execution_count": 37,
   "id": "053795b4",
   "metadata": {},
   "outputs": [
    {
     "name": "stdout",
     "output_type": "stream",
     "text": [
      "data is loaded\n"
     ]
    }
   ],
   "source": [
    "data=pd.read_csv('Salary_Data.csv')\n",
    "print('data is loaded')"
   ]
  },
  {
   "cell_type": "code",
   "execution_count": 38,
   "id": "37755510",
   "metadata": {},
   "outputs": [
    {
     "name": "stdout",
     "output_type": "stream",
     "text": [
      "<class 'pandas.core.frame.DataFrame'>\n"
     ]
    }
   ],
   "source": [
    "print(type(data))"
   ]
  },
  {
   "cell_type": "code",
   "execution_count": 39,
   "id": "f4ac7021",
   "metadata": {},
   "outputs": [
    {
     "data": {
      "text/html": [
       "<div>\n",
       "<style scoped>\n",
       "    .dataframe tbody tr th:only-of-type {\n",
       "        vertical-align: middle;\n",
       "    }\n",
       "\n",
       "    .dataframe tbody tr th {\n",
       "        vertical-align: top;\n",
       "    }\n",
       "\n",
       "    .dataframe thead th {\n",
       "        text-align: right;\n",
       "    }\n",
       "</style>\n",
       "<table border=\"1\" class=\"dataframe\">\n",
       "  <thead>\n",
       "    <tr style=\"text-align: right;\">\n",
       "      <th></th>\n",
       "      <th>YearsExperience</th>\n",
       "      <th>Salary</th>\n",
       "    </tr>\n",
       "  </thead>\n",
       "  <tbody>\n",
       "    <tr>\n",
       "      <th>0</th>\n",
       "      <td>1.1</td>\n",
       "      <td>39343.0</td>\n",
       "    </tr>\n",
       "    <tr>\n",
       "      <th>1</th>\n",
       "      <td>1.3</td>\n",
       "      <td>46205.0</td>\n",
       "    </tr>\n",
       "    <tr>\n",
       "      <th>2</th>\n",
       "      <td>1.5</td>\n",
       "      <td>37731.0</td>\n",
       "    </tr>\n",
       "    <tr>\n",
       "      <th>3</th>\n",
       "      <td>2.0</td>\n",
       "      <td>43525.0</td>\n",
       "    </tr>\n",
       "    <tr>\n",
       "      <th>4</th>\n",
       "      <td>2.2</td>\n",
       "      <td>39891.0</td>\n",
       "    </tr>\n",
       "    <tr>\n",
       "      <th>5</th>\n",
       "      <td>2.9</td>\n",
       "      <td>56642.0</td>\n",
       "    </tr>\n",
       "    <tr>\n",
       "      <th>6</th>\n",
       "      <td>3.0</td>\n",
       "      <td>60150.0</td>\n",
       "    </tr>\n",
       "  </tbody>\n",
       "</table>\n",
       "</div>"
      ],
      "text/plain": [
       "   YearsExperience   Salary\n",
       "0              1.1  39343.0\n",
       "1              1.3  46205.0\n",
       "2              1.5  37731.0\n",
       "3              2.0  43525.0\n",
       "4              2.2  39891.0\n",
       "5              2.9  56642.0\n",
       "6              3.0  60150.0"
      ]
     },
     "execution_count": 39,
     "metadata": {},
     "output_type": "execute_result"
    }
   ],
   "source": [
    "###head function will display the top 5 rows of the dataframe:\n",
    "data.head(7)"
   ]
  },
  {
   "cell_type": "code",
   "execution_count": 40,
   "id": "1ddda6dc",
   "metadata": {},
   "outputs": [
    {
     "data": {
      "text/html": [
       "<div>\n",
       "<style scoped>\n",
       "    .dataframe tbody tr th:only-of-type {\n",
       "        vertical-align: middle;\n",
       "    }\n",
       "\n",
       "    .dataframe tbody tr th {\n",
       "        vertical-align: top;\n",
       "    }\n",
       "\n",
       "    .dataframe thead th {\n",
       "        text-align: right;\n",
       "    }\n",
       "</style>\n",
       "<table border=\"1\" class=\"dataframe\">\n",
       "  <thead>\n",
       "    <tr style=\"text-align: right;\">\n",
       "      <th></th>\n",
       "      <th>YearsExperience</th>\n",
       "      <th>Salary</th>\n",
       "    </tr>\n",
       "  </thead>\n",
       "  <tbody>\n",
       "    <tr>\n",
       "      <th>25</th>\n",
       "      <td>9.0</td>\n",
       "      <td>105582.0</td>\n",
       "    </tr>\n",
       "    <tr>\n",
       "      <th>26</th>\n",
       "      <td>9.5</td>\n",
       "      <td>116969.0</td>\n",
       "    </tr>\n",
       "    <tr>\n",
       "      <th>27</th>\n",
       "      <td>9.6</td>\n",
       "      <td>112635.0</td>\n",
       "    </tr>\n",
       "    <tr>\n",
       "      <th>28</th>\n",
       "      <td>10.3</td>\n",
       "      <td>122391.0</td>\n",
       "    </tr>\n",
       "    <tr>\n",
       "      <th>29</th>\n",
       "      <td>10.5</td>\n",
       "      <td>121872.0</td>\n",
       "    </tr>\n",
       "  </tbody>\n",
       "</table>\n",
       "</div>"
      ],
      "text/plain": [
       "    YearsExperience    Salary\n",
       "25              9.0  105582.0\n",
       "26              9.5  116969.0\n",
       "27              9.6  112635.0\n",
       "28             10.3  122391.0\n",
       "29             10.5  121872.0"
      ]
     },
     "execution_count": 40,
     "metadata": {},
     "output_type": "execute_result"
    }
   ],
   "source": [
    "#tail function prints the default 5 rows from the bottom:\n",
    "data.tail()"
   ]
  },
  {
   "cell_type": "code",
   "execution_count": 41,
   "id": "e16bfbe2",
   "metadata": {},
   "outputs": [],
   "source": [
    "import pandas as pd"
   ]
  },
  {
   "cell_type": "code",
   "execution_count": 42,
   "id": "135aa1a2",
   "metadata": {},
   "outputs": [
    {
     "data": {
      "text/html": [
       "<div>\n",
       "<style scoped>\n",
       "    .dataframe tbody tr th:only-of-type {\n",
       "        vertical-align: middle;\n",
       "    }\n",
       "\n",
       "    .dataframe tbody tr th {\n",
       "        vertical-align: top;\n",
       "    }\n",
       "\n",
       "    .dataframe thead th {\n",
       "        text-align: right;\n",
       "    }\n",
       "</style>\n",
       "<table border=\"1\" class=\"dataframe\">\n",
       "  <thead>\n",
       "    <tr style=\"text-align: right;\">\n",
       "      <th></th>\n",
       "      <th>YearsExperience</th>\n",
       "      <th>Salary</th>\n",
       "    </tr>\n",
       "  </thead>\n",
       "  <tbody>\n",
       "    <tr>\n",
       "      <th>22</th>\n",
       "      <td>7.9</td>\n",
       "      <td>101302.0</td>\n",
       "    </tr>\n",
       "    <tr>\n",
       "      <th>3</th>\n",
       "      <td>2.0</td>\n",
       "      <td>43525.0</td>\n",
       "    </tr>\n",
       "    <tr>\n",
       "      <th>23</th>\n",
       "      <td>8.2</td>\n",
       "      <td>113812.0</td>\n",
       "    </tr>\n",
       "    <tr>\n",
       "      <th>17</th>\n",
       "      <td>5.3</td>\n",
       "      <td>83088.0</td>\n",
       "    </tr>\n",
       "    <tr>\n",
       "      <th>15</th>\n",
       "      <td>4.9</td>\n",
       "      <td>67938.0</td>\n",
       "    </tr>\n",
       "    <tr>\n",
       "      <th>6</th>\n",
       "      <td>3.0</td>\n",
       "      <td>60150.0</td>\n",
       "    </tr>\n",
       "    <tr>\n",
       "      <th>24</th>\n",
       "      <td>8.7</td>\n",
       "      <td>109431.0</td>\n",
       "    </tr>\n",
       "    <tr>\n",
       "      <th>5</th>\n",
       "      <td>2.9</td>\n",
       "      <td>56642.0</td>\n",
       "    </tr>\n",
       "    <tr>\n",
       "      <th>4</th>\n",
       "      <td>2.2</td>\n",
       "      <td>39891.0</td>\n",
       "    </tr>\n",
       "    <tr>\n",
       "      <th>25</th>\n",
       "      <td>9.0</td>\n",
       "      <td>105582.0</td>\n",
       "    </tr>\n",
       "  </tbody>\n",
       "</table>\n",
       "</div>"
      ],
      "text/plain": [
       "    YearsExperience    Salary\n",
       "22              7.9  101302.0\n",
       "3               2.0   43525.0\n",
       "23              8.2  113812.0\n",
       "17              5.3   83088.0\n",
       "15              4.9   67938.0\n",
       "6               3.0   60150.0\n",
       "24              8.7  109431.0\n",
       "5               2.9   56642.0\n",
       "4               2.2   39891.0\n",
       "25              9.0  105582.0"
      ]
     },
     "execution_count": 42,
     "metadata": {},
     "output_type": "execute_result"
    }
   ],
   "source": [
    "###sample:\n",
    "data.sample(10)"
   ]
  },
  {
   "cell_type": "code",
   "execution_count": 43,
   "id": "3507f4a6",
   "metadata": {},
   "outputs": [
    {
     "name": "stdout",
     "output_type": "stream",
     "text": [
      "<class 'pandas.core.frame.DataFrame'>\n",
      "RangeIndex: 30 entries, 0 to 29\n",
      "Data columns (total 2 columns):\n",
      " #   Column           Non-Null Count  Dtype  \n",
      "---  ------           --------------  -----  \n",
      " 0   YearsExperience  30 non-null     float64\n",
      " 1   Salary           30 non-null     float64\n",
      "dtypes: float64(2)\n",
      "memory usage: 612.0 bytes\n"
     ]
    }
   ],
   "source": [
    "data.info()"
   ]
  },
  {
   "cell_type": "code",
   "execution_count": 44,
   "id": "8b665682",
   "metadata": {},
   "outputs": [
    {
     "data": {
      "text/html": [
       "<div>\n",
       "<style scoped>\n",
       "    .dataframe tbody tr th:only-of-type {\n",
       "        vertical-align: middle;\n",
       "    }\n",
       "\n",
       "    .dataframe tbody tr th {\n",
       "        vertical-align: top;\n",
       "    }\n",
       "\n",
       "    .dataframe thead th {\n",
       "        text-align: right;\n",
       "    }\n",
       "</style>\n",
       "<table border=\"1\" class=\"dataframe\">\n",
       "  <thead>\n",
       "    <tr style=\"text-align: right;\">\n",
       "      <th></th>\n",
       "      <th>YearsExperience</th>\n",
       "      <th>Salary</th>\n",
       "    </tr>\n",
       "  </thead>\n",
       "  <tbody>\n",
       "    <tr>\n",
       "      <th>count</th>\n",
       "      <td>30.000000</td>\n",
       "      <td>30.000000</td>\n",
       "    </tr>\n",
       "    <tr>\n",
       "      <th>mean</th>\n",
       "      <td>5.313333</td>\n",
       "      <td>76003.000000</td>\n",
       "    </tr>\n",
       "    <tr>\n",
       "      <th>std</th>\n",
       "      <td>2.837888</td>\n",
       "      <td>27414.429785</td>\n",
       "    </tr>\n",
       "    <tr>\n",
       "      <th>min</th>\n",
       "      <td>1.100000</td>\n",
       "      <td>37731.000000</td>\n",
       "    </tr>\n",
       "    <tr>\n",
       "      <th>25%</th>\n",
       "      <td>3.200000</td>\n",
       "      <td>56720.750000</td>\n",
       "    </tr>\n",
       "    <tr>\n",
       "      <th>50%</th>\n",
       "      <td>4.700000</td>\n",
       "      <td>65237.000000</td>\n",
       "    </tr>\n",
       "    <tr>\n",
       "      <th>75%</th>\n",
       "      <td>7.700000</td>\n",
       "      <td>100544.750000</td>\n",
       "    </tr>\n",
       "    <tr>\n",
       "      <th>max</th>\n",
       "      <td>10.500000</td>\n",
       "      <td>122391.000000</td>\n",
       "    </tr>\n",
       "  </tbody>\n",
       "</table>\n",
       "</div>"
      ],
      "text/plain": [
       "       YearsExperience         Salary\n",
       "count        30.000000      30.000000\n",
       "mean          5.313333   76003.000000\n",
       "std           2.837888   27414.429785\n",
       "min           1.100000   37731.000000\n",
       "25%           3.200000   56720.750000\n",
       "50%           4.700000   65237.000000\n",
       "75%           7.700000  100544.750000\n",
       "max          10.500000  122391.000000"
      ]
     },
     "execution_count": 44,
     "metadata": {},
     "output_type": "execute_result"
    }
   ],
   "source": [
    "### describe-:\n",
    "data.describe()"
   ]
  },
  {
   "cell_type": "code",
   "execution_count": 45,
   "id": "3b721e55",
   "metadata": {},
   "outputs": [
    {
     "data": {
      "text/html": [
       "<div>\n",
       "<style scoped>\n",
       "    .dataframe tbody tr th:only-of-type {\n",
       "        vertical-align: middle;\n",
       "    }\n",
       "\n",
       "    .dataframe tbody tr th {\n",
       "        vertical-align: top;\n",
       "    }\n",
       "\n",
       "    .dataframe thead th {\n",
       "        text-align: right;\n",
       "    }\n",
       "</style>\n",
       "<table border=\"1\" class=\"dataframe\">\n",
       "  <thead>\n",
       "    <tr style=\"text-align: right;\">\n",
       "      <th></th>\n",
       "      <th>YearsExperience</th>\n",
       "      <th>Salary</th>\n",
       "    </tr>\n",
       "  </thead>\n",
       "  <tbody>\n",
       "    <tr>\n",
       "      <th>18</th>\n",
       "      <td>5.9</td>\n",
       "      <td>81363.0</td>\n",
       "    </tr>\n",
       "    <tr>\n",
       "      <th>19</th>\n",
       "      <td>6.0</td>\n",
       "      <td>93940.0</td>\n",
       "    </tr>\n",
       "    <tr>\n",
       "      <th>20</th>\n",
       "      <td>6.8</td>\n",
       "      <td>91738.0</td>\n",
       "    </tr>\n",
       "    <tr>\n",
       "      <th>21</th>\n",
       "      <td>7.1</td>\n",
       "      <td>98273.0</td>\n",
       "    </tr>\n",
       "    <tr>\n",
       "      <th>22</th>\n",
       "      <td>7.9</td>\n",
       "      <td>101302.0</td>\n",
       "    </tr>\n",
       "    <tr>\n",
       "      <th>23</th>\n",
       "      <td>8.2</td>\n",
       "      <td>113812.0</td>\n",
       "    </tr>\n",
       "    <tr>\n",
       "      <th>24</th>\n",
       "      <td>8.7</td>\n",
       "      <td>109431.0</td>\n",
       "    </tr>\n",
       "    <tr>\n",
       "      <th>25</th>\n",
       "      <td>9.0</td>\n",
       "      <td>105582.0</td>\n",
       "    </tr>\n",
       "    <tr>\n",
       "      <th>26</th>\n",
       "      <td>9.5</td>\n",
       "      <td>116969.0</td>\n",
       "    </tr>\n",
       "    <tr>\n",
       "      <th>27</th>\n",
       "      <td>9.6</td>\n",
       "      <td>112635.0</td>\n",
       "    </tr>\n",
       "    <tr>\n",
       "      <th>28</th>\n",
       "      <td>10.3</td>\n",
       "      <td>122391.0</td>\n",
       "    </tr>\n",
       "    <tr>\n",
       "      <th>29</th>\n",
       "      <td>10.5</td>\n",
       "      <td>121872.0</td>\n",
       "    </tr>\n",
       "  </tbody>\n",
       "</table>\n",
       "</div>"
      ],
      "text/plain": [
       "    YearsExperience    Salary\n",
       "18              5.9   81363.0\n",
       "19              6.0   93940.0\n",
       "20              6.8   91738.0\n",
       "21              7.1   98273.0\n",
       "22              7.9  101302.0\n",
       "23              8.2  113812.0\n",
       "24              8.7  109431.0\n",
       "25              9.0  105582.0\n",
       "26              9.5  116969.0\n",
       "27              9.6  112635.0\n",
       "28             10.3  122391.0\n",
       "29             10.5  121872.0"
      ]
     },
     "execution_count": 45,
     "metadata": {},
     "output_type": "execute_result"
    }
   ],
   "source": [
    "#query:\n",
    "data.query('YearsExperience>5.5')"
   ]
  },
  {
   "cell_type": "code",
   "execution_count": 46,
   "id": "64a413ec",
   "metadata": {},
   "outputs": [],
   "source": [
    "##### use the loc function to display the salary of the last two employees using the loc and iloc functions."
   ]
  },
  {
   "cell_type": "code",
   "execution_count": 51,
   "id": "95bcc9ad",
   "metadata": {},
   "outputs": [
    {
     "name": "stdout",
     "output_type": "stream",
     "text": [
      "      Salary\n",
      "28  122391.0\n",
      "29  121872.0\n",
      "      Salary\n",
      "28  122391.0\n",
      "29  121872.0\n"
     ]
    }
   ],
   "source": [
    "print(data.loc[28:,['Salary']])\n",
    "print(data.iloc[[28,29],[1]])"
   ]
  },
  {
   "cell_type": "code",
   "execution_count": 47,
   "id": "0238a917",
   "metadata": {},
   "outputs": [],
   "source": [
    "###### filter out all those employees with salary greater than 50k and experience less than 3 years using loc function."
   ]
  },
  {
   "cell_type": "code",
   "execution_count": 49,
   "id": "d2e211f8",
   "metadata": {},
   "outputs": [
    {
     "data": {
      "text/html": [
       "<div>\n",
       "<style scoped>\n",
       "    .dataframe tbody tr th:only-of-type {\n",
       "        vertical-align: middle;\n",
       "    }\n",
       "\n",
       "    .dataframe tbody tr th {\n",
       "        vertical-align: top;\n",
       "    }\n",
       "\n",
       "    .dataframe thead th {\n",
       "        text-align: right;\n",
       "    }\n",
       "</style>\n",
       "<table border=\"1\" class=\"dataframe\">\n",
       "  <thead>\n",
       "    <tr style=\"text-align: right;\">\n",
       "      <th></th>\n",
       "      <th>Salary</th>\n",
       "      <th>YearsExperience</th>\n",
       "    </tr>\n",
       "  </thead>\n",
       "  <tbody>\n",
       "    <tr>\n",
       "      <th>5</th>\n",
       "      <td>56642.0</td>\n",
       "      <td>2.9</td>\n",
       "    </tr>\n",
       "  </tbody>\n",
       "</table>\n",
       "</div>"
      ],
      "text/plain": [
       "    Salary  YearsExperience\n",
       "5  56642.0              2.9"
      ]
     },
     "execution_count": 49,
     "metadata": {},
     "output_type": "execute_result"
    }
   ],
   "source": [
    "data.loc[(data[\"YearsExperience\"] < 3) &(data[\"Salary\"] > 50000),[\"Salary\",\"YearsExperience\"]]"
   ]
  },
  {
   "cell_type": "code",
   "execution_count": 19,
   "id": "11f633ee",
   "metadata": {},
   "outputs": [],
   "source": [
    "import numpy as np\n",
    "import pandas as pd\n",
    "\n",
    "##############\n",
    "#settings for display:\n",
    "pd.set_option('display.max_columns',None)\n",
    "pd.set_option('display.max_rows',None)\n"
   ]
  },
  {
   "cell_type": "code",
   "execution_count": 20,
   "id": "4a5f5221",
   "metadata": {},
   "outputs": [
    {
     "data": {
      "text/html": [
       "<div>\n",
       "<style scoped>\n",
       "    .dataframe tbody tr th:only-of-type {\n",
       "        vertical-align: middle;\n",
       "    }\n",
       "\n",
       "    .dataframe tbody tr th {\n",
       "        vertical-align: top;\n",
       "    }\n",
       "\n",
       "    .dataframe thead th {\n",
       "        text-align: right;\n",
       "    }\n",
       "</style>\n",
       "<table border=\"1\" class=\"dataframe\">\n",
       "  <thead>\n",
       "    <tr style=\"text-align: right;\">\n",
       "      <th></th>\n",
       "      <th>sepal_length</th>\n",
       "      <th>sepal_width</th>\n",
       "      <th>petal_length</th>\n",
       "      <th>petal_width</th>\n",
       "      <th>species</th>\n",
       "    </tr>\n",
       "  </thead>\n",
       "  <tbody>\n",
       "    <tr>\n",
       "      <th>0</th>\n",
       "      <td>5.1</td>\n",
       "      <td>3.5</td>\n",
       "      <td>1.4</td>\n",
       "      <td>0.2</td>\n",
       "      <td>setosa</td>\n",
       "    </tr>\n",
       "    <tr>\n",
       "      <th>1</th>\n",
       "      <td>4.9</td>\n",
       "      <td>3.0</td>\n",
       "      <td>1.4</td>\n",
       "      <td>0.2</td>\n",
       "      <td>setosa</td>\n",
       "    </tr>\n",
       "    <tr>\n",
       "      <th>2</th>\n",
       "      <td>4.7</td>\n",
       "      <td>3.2</td>\n",
       "      <td>1.3</td>\n",
       "      <td>0.2</td>\n",
       "      <td>setosa</td>\n",
       "    </tr>\n",
       "    <tr>\n",
       "      <th>3</th>\n",
       "      <td>4.6</td>\n",
       "      <td>3.1</td>\n",
       "      <td>1.5</td>\n",
       "      <td>0.2</td>\n",
       "      <td>setosa</td>\n",
       "    </tr>\n",
       "    <tr>\n",
       "      <th>4</th>\n",
       "      <td>5.0</td>\n",
       "      <td>3.6</td>\n",
       "      <td>1.4</td>\n",
       "      <td>0.2</td>\n",
       "      <td>setosa</td>\n",
       "    </tr>\n",
       "  </tbody>\n",
       "</table>\n",
       "</div>"
      ],
      "text/plain": [
       "   sepal_length  sepal_width  petal_length  petal_width species\n",
       "0           5.1          3.5           1.4          0.2  setosa\n",
       "1           4.9          3.0           1.4          0.2  setosa\n",
       "2           4.7          3.2           1.3          0.2  setosa\n",
       "3           4.6          3.1           1.5          0.2  setosa\n",
       "4           5.0          3.6           1.4          0.2  setosa"
      ]
     },
     "execution_count": 20,
     "metadata": {},
     "output_type": "execute_result"
    }
   ],
   "source": [
    "iris=pd.read_csv('Iris.csv')\n",
    "iris.head()"
   ]
  },
  {
   "cell_type": "code",
   "execution_count": 9,
   "id": "e93ad8fe",
   "metadata": {},
   "outputs": [
    {
     "name": "stdout",
     "output_type": "stream",
     "text": [
      "<class 'pandas.core.frame.DataFrame'>\n",
      "RangeIndex: 150 entries, 0 to 149\n",
      "Data columns (total 5 columns):\n",
      " #   Column        Non-Null Count  Dtype  \n",
      "---  ------        --------------  -----  \n",
      " 0   sepal_length  150 non-null    float64\n",
      " 1   sepal_width   150 non-null    float64\n",
      " 2   petal_length  150 non-null    float64\n",
      " 3   petal_width   150 non-null    float64\n",
      " 4   species       150 non-null    object \n",
      "dtypes: float64(4), object(1)\n",
      "memory usage: 6.0+ KB\n"
     ]
    }
   ],
   "source": [
    "iris.info()"
   ]
  },
  {
   "cell_type": "code",
   "execution_count": 10,
   "id": "85215c9d",
   "metadata": {},
   "outputs": [
    {
     "data": {
      "text/plain": [
       "Index(['sepal_length', 'sepal_width', 'petal_length', 'petal_width',\n",
       "       'species'],\n",
       "      dtype='object')"
      ]
     },
     "execution_count": 10,
     "metadata": {},
     "output_type": "execute_result"
    }
   ],
   "source": [
    "iris.columns"
   ]
  },
  {
   "cell_type": "code",
   "execution_count": 12,
   "id": "1bb5536c",
   "metadata": {},
   "outputs": [
    {
     "data": {
      "text/plain": [
       "sepal_length    0\n",
       "sepal_width     0\n",
       "petal_length    0\n",
       "petal_width     0\n",
       "species         0\n",
       "dtype: int64"
      ]
     },
     "execution_count": 12,
     "metadata": {},
     "output_type": "execute_result"
    }
   ],
   "source": [
    "iris.isna().sum() "
   ]
  },
  {
   "cell_type": "code",
   "execution_count": 13,
   "id": "40d7af6f",
   "metadata": {},
   "outputs": [],
   "source": [
    "#### by default every function is applied accross rows,but if we want to apply a function across columns we need to specify\n",
    "### that by giving axis=1 (columns),axis=0(rows)"
   ]
  },
  {
   "cell_type": "code",
   "execution_count": 14,
   "id": "d9db12b2",
   "metadata": {},
   "outputs": [
    {
     "data": {
      "text/html": [
       "<div>\n",
       "<style scoped>\n",
       "    .dataframe tbody tr th:only-of-type {\n",
       "        vertical-align: middle;\n",
       "    }\n",
       "\n",
       "    .dataframe tbody tr th {\n",
       "        vertical-align: top;\n",
       "    }\n",
       "\n",
       "    .dataframe thead th {\n",
       "        text-align: right;\n",
       "    }\n",
       "</style>\n",
       "<table border=\"1\" class=\"dataframe\">\n",
       "  <thead>\n",
       "    <tr style=\"text-align: right;\">\n",
       "      <th></th>\n",
       "      <th>Name</th>\n",
       "      <th>Age</th>\n",
       "      <th>Marks</th>\n",
       "    </tr>\n",
       "  </thead>\n",
       "  <tbody>\n",
       "    <tr>\n",
       "      <th>0</th>\n",
       "      <td>A</td>\n",
       "      <td>20.0</td>\n",
       "      <td>80.0</td>\n",
       "    </tr>\n",
       "    <tr>\n",
       "      <th>1</th>\n",
       "      <td>B</td>\n",
       "      <td>21.0</td>\n",
       "      <td>85.0</td>\n",
       "    </tr>\n",
       "    <tr>\n",
       "      <th>2</th>\n",
       "      <td>C</td>\n",
       "      <td>22.0</td>\n",
       "      <td>82.0</td>\n",
       "    </tr>\n",
       "    <tr>\n",
       "      <th>3</th>\n",
       "      <td>F</td>\n",
       "      <td>23.0</td>\n",
       "      <td>86.0</td>\n",
       "    </tr>\n",
       "    <tr>\n",
       "      <th>4</th>\n",
       "      <td>G</td>\n",
       "      <td>24.0</td>\n",
       "      <td>91.0</td>\n",
       "    </tr>\n",
       "    <tr>\n",
       "      <th>5</th>\n",
       "      <td>K</td>\n",
       "      <td>NaN</td>\n",
       "      <td>NaN</td>\n",
       "    </tr>\n",
       "    <tr>\n",
       "      <th>6</th>\n",
       "      <td>J</td>\n",
       "      <td>28.0</td>\n",
       "      <td>NaN</td>\n",
       "    </tr>\n",
       "  </tbody>\n",
       "</table>\n",
       "</div>"
      ],
      "text/plain": [
       "  Name   Age  Marks\n",
       "0    A  20.0   80.0\n",
       "1    B  21.0   85.0\n",
       "2    C  22.0   82.0\n",
       "3    F  23.0   86.0\n",
       "4    G  24.0   91.0\n",
       "5    K   NaN    NaN\n",
       "6    J  28.0    NaN"
      ]
     },
     "execution_count": 14,
     "metadata": {},
     "output_type": "execute_result"
    }
   ],
   "source": [
    "data3={'Name':['A','B','C','F','G','K','J'],\n",
    "       'Age':[20,21,22,23,24,np.nan,28],\n",
    "       'Marks':[80,85,82,86,91,np.nan,np.nan]}\n",
    "df1=pd.DataFrame(data3)\n",
    "df1"
   ]
  },
  {
   "cell_type": "code",
   "execution_count": 15,
   "id": "f91f0885",
   "metadata": {},
   "outputs": [],
   "source": [
    "##if we want to drop the rows with missing values:\n",
    "#df1.dropna()"
   ]
  },
  {
   "cell_type": "code",
   "execution_count": 16,
   "id": "f2580ebb",
   "metadata": {},
   "outputs": [],
   "source": [
    "df1['Age']=df1['Age'].fillna(df1['Age'].mean())"
   ]
  },
  {
   "cell_type": "code",
   "execution_count": 17,
   "id": "faa6a72c",
   "metadata": {},
   "outputs": [
    {
     "data": {
      "text/html": [
       "<div>\n",
       "<style scoped>\n",
       "    .dataframe tbody tr th:only-of-type {\n",
       "        vertical-align: middle;\n",
       "    }\n",
       "\n",
       "    .dataframe tbody tr th {\n",
       "        vertical-align: top;\n",
       "    }\n",
       "\n",
       "    .dataframe thead th {\n",
       "        text-align: right;\n",
       "    }\n",
       "</style>\n",
       "<table border=\"1\" class=\"dataframe\">\n",
       "  <thead>\n",
       "    <tr style=\"text-align: right;\">\n",
       "      <th></th>\n",
       "      <th>Name</th>\n",
       "      <th>Age</th>\n",
       "      <th>Marks</th>\n",
       "    </tr>\n",
       "  </thead>\n",
       "  <tbody>\n",
       "    <tr>\n",
       "      <th>0</th>\n",
       "      <td>A</td>\n",
       "      <td>20.0</td>\n",
       "      <td>80.0</td>\n",
       "    </tr>\n",
       "    <tr>\n",
       "      <th>1</th>\n",
       "      <td>B</td>\n",
       "      <td>21.0</td>\n",
       "      <td>85.0</td>\n",
       "    </tr>\n",
       "    <tr>\n",
       "      <th>2</th>\n",
       "      <td>C</td>\n",
       "      <td>22.0</td>\n",
       "      <td>82.0</td>\n",
       "    </tr>\n",
       "    <tr>\n",
       "      <th>3</th>\n",
       "      <td>F</td>\n",
       "      <td>23.0</td>\n",
       "      <td>86.0</td>\n",
       "    </tr>\n",
       "    <tr>\n",
       "      <th>4</th>\n",
       "      <td>G</td>\n",
       "      <td>24.0</td>\n",
       "      <td>91.0</td>\n",
       "    </tr>\n",
       "    <tr>\n",
       "      <th>5</th>\n",
       "      <td>K</td>\n",
       "      <td>23.0</td>\n",
       "      <td>NaN</td>\n",
       "    </tr>\n",
       "    <tr>\n",
       "      <th>6</th>\n",
       "      <td>J</td>\n",
       "      <td>28.0</td>\n",
       "      <td>NaN</td>\n",
       "    </tr>\n",
       "  </tbody>\n",
       "</table>\n",
       "</div>"
      ],
      "text/plain": [
       "  Name   Age  Marks\n",
       "0    A  20.0   80.0\n",
       "1    B  21.0   85.0\n",
       "2    C  22.0   82.0\n",
       "3    F  23.0   86.0\n",
       "4    G  24.0   91.0\n",
       "5    K  23.0    NaN\n",
       "6    J  28.0    NaN"
      ]
     },
     "execution_count": 17,
     "metadata": {},
     "output_type": "execute_result"
    }
   ],
   "source": [
    "df1"
   ]
  },
  {
   "cell_type": "code",
   "execution_count": 18,
   "id": "884e9d7d",
   "metadata": {},
   "outputs": [
    {
     "data": {
      "text/html": [
       "<div>\n",
       "<style scoped>\n",
       "    .dataframe tbody tr th:only-of-type {\n",
       "        vertical-align: middle;\n",
       "    }\n",
       "\n",
       "    .dataframe tbody tr th {\n",
       "        vertical-align: top;\n",
       "    }\n",
       "\n",
       "    .dataframe thead th {\n",
       "        text-align: right;\n",
       "    }\n",
       "</style>\n",
       "<table border=\"1\" class=\"dataframe\">\n",
       "  <thead>\n",
       "    <tr style=\"text-align: right;\">\n",
       "      <th></th>\n",
       "      <th>Name</th>\n",
       "      <th>Age</th>\n",
       "      <th>Marks</th>\n",
       "    </tr>\n",
       "  </thead>\n",
       "  <tbody>\n",
       "    <tr>\n",
       "      <th>0</th>\n",
       "      <td>A</td>\n",
       "      <td>20.0</td>\n",
       "      <td>80.0</td>\n",
       "    </tr>\n",
       "    <tr>\n",
       "      <th>1</th>\n",
       "      <td>B</td>\n",
       "      <td>21.0</td>\n",
       "      <td>85.0</td>\n",
       "    </tr>\n",
       "    <tr>\n",
       "      <th>2</th>\n",
       "      <td>C</td>\n",
       "      <td>22.0</td>\n",
       "      <td>82.0</td>\n",
       "    </tr>\n",
       "    <tr>\n",
       "      <th>3</th>\n",
       "      <td>F</td>\n",
       "      <td>23.0</td>\n",
       "      <td>86.0</td>\n",
       "    </tr>\n",
       "    <tr>\n",
       "      <th>4</th>\n",
       "      <td>G</td>\n",
       "      <td>24.0</td>\n",
       "      <td>91.0</td>\n",
       "    </tr>\n",
       "    <tr>\n",
       "      <th>5</th>\n",
       "      <td>K</td>\n",
       "      <td>23.0</td>\n",
       "      <td>85.0</td>\n",
       "    </tr>\n",
       "    <tr>\n",
       "      <th>6</th>\n",
       "      <td>J</td>\n",
       "      <td>28.0</td>\n",
       "      <td>85.0</td>\n",
       "    </tr>\n",
       "  </tbody>\n",
       "</table>\n",
       "</div>"
      ],
      "text/plain": [
       "  Name   Age  Marks\n",
       "0    A  20.0   80.0\n",
       "1    B  21.0   85.0\n",
       "2    C  22.0   82.0\n",
       "3    F  23.0   86.0\n",
       "4    G  24.0   91.0\n",
       "5    K  23.0   85.0\n",
       "6    J  28.0   85.0"
      ]
     },
     "execution_count": 18,
     "metadata": {},
     "output_type": "execute_result"
    }
   ],
   "source": [
    "df1['Marks'] = df1['Marks']. fillna(df1['Marks'].median())\n",
    "df1"
   ]
  },
  {
   "cell_type": "code",
   "execution_count": 19,
   "id": "6f55b3d6",
   "metadata": {},
   "outputs": [
    {
     "data": {
      "text/html": [
       "<div>\n",
       "<style scoped>\n",
       "    .dataframe tbody tr th:only-of-type {\n",
       "        vertical-align: middle;\n",
       "    }\n",
       "\n",
       "    .dataframe tbody tr th {\n",
       "        vertical-align: top;\n",
       "    }\n",
       "\n",
       "    .dataframe thead th {\n",
       "        text-align: right;\n",
       "    }\n",
       "</style>\n",
       "<table border=\"1\" class=\"dataframe\">\n",
       "  <thead>\n",
       "    <tr style=\"text-align: right;\">\n",
       "      <th></th>\n",
       "      <th>Name</th>\n",
       "      <th>Age</th>\n",
       "      <th>Marks</th>\n",
       "    </tr>\n",
       "  </thead>\n",
       "  <tbody>\n",
       "    <tr>\n",
       "      <th>0</th>\n",
       "      <td>A</td>\n",
       "      <td>20.0</td>\n",
       "      <td>80.0</td>\n",
       "    </tr>\n",
       "    <tr>\n",
       "      <th>1</th>\n",
       "      <td>B</td>\n",
       "      <td>21.0</td>\n",
       "      <td>85.0</td>\n",
       "    </tr>\n",
       "    <tr>\n",
       "      <th>2</th>\n",
       "      <td>C</td>\n",
       "      <td>22.0</td>\n",
       "      <td>82.0</td>\n",
       "    </tr>\n",
       "    <tr>\n",
       "      <th>3</th>\n",
       "      <td>F</td>\n",
       "      <td>23.0</td>\n",
       "      <td>86.0</td>\n",
       "    </tr>\n",
       "    <tr>\n",
       "      <th>4</th>\n",
       "      <td>G</td>\n",
       "      <td>24.0</td>\n",
       "      <td>91.0</td>\n",
       "    </tr>\n",
       "    <tr>\n",
       "      <th>5</th>\n",
       "      <td>K</td>\n",
       "      <td>NaN</td>\n",
       "      <td>NaN</td>\n",
       "    </tr>\n",
       "    <tr>\n",
       "      <th>6</th>\n",
       "      <td>J</td>\n",
       "      <td>28.0</td>\n",
       "      <td>NaN</td>\n",
       "    </tr>\n",
       "  </tbody>\n",
       "</table>\n",
       "</div>"
      ],
      "text/plain": [
       "  Name   Age  Marks\n",
       "0    A  20.0   80.0\n",
       "1    B  21.0   85.0\n",
       "2    C  22.0   82.0\n",
       "3    F  23.0   86.0\n",
       "4    G  24.0   91.0\n",
       "5    K   NaN    NaN\n",
       "6    J  28.0    NaN"
      ]
     },
     "execution_count": 19,
     "metadata": {},
     "output_type": "execute_result"
    }
   ],
   "source": [
    "data3={'Name':['A','B','C','F','G','K','J'],\n",
    "       'Age':[20,21,22,23,24,np.nan,28],\n",
    "       'Marks':[80,85,82,86,91,np.nan,np.nan]}\n",
    "df2=pd.DataFrame(data3)\n",
    "df2"
   ]
  },
  {
   "cell_type": "code",
   "execution_count": 25,
   "id": "a44e71bb",
   "metadata": {},
   "outputs": [],
   "source": [
    "df2.dropna(inplace=True) #inplace=True makes the changes in the original dataset parmanent."
   ]
  },
  {
   "cell_type": "code",
   "execution_count": 26,
   "id": "55e9fd23",
   "metadata": {},
   "outputs": [
    {
     "data": {
      "text/html": [
       "<div>\n",
       "<style scoped>\n",
       "    .dataframe tbody tr th:only-of-type {\n",
       "        vertical-align: middle;\n",
       "    }\n",
       "\n",
       "    .dataframe tbody tr th {\n",
       "        vertical-align: top;\n",
       "    }\n",
       "\n",
       "    .dataframe thead th {\n",
       "        text-align: right;\n",
       "    }\n",
       "</style>\n",
       "<table border=\"1\" class=\"dataframe\">\n",
       "  <thead>\n",
       "    <tr style=\"text-align: right;\">\n",
       "      <th></th>\n",
       "      <th>Name</th>\n",
       "      <th>Age</th>\n",
       "      <th>Marks</th>\n",
       "    </tr>\n",
       "  </thead>\n",
       "  <tbody>\n",
       "    <tr>\n",
       "      <th>0</th>\n",
       "      <td>A</td>\n",
       "      <td>20.0</td>\n",
       "      <td>80.0</td>\n",
       "    </tr>\n",
       "    <tr>\n",
       "      <th>1</th>\n",
       "      <td>B</td>\n",
       "      <td>21.0</td>\n",
       "      <td>85.0</td>\n",
       "    </tr>\n",
       "    <tr>\n",
       "      <th>2</th>\n",
       "      <td>C</td>\n",
       "      <td>22.0</td>\n",
       "      <td>82.0</td>\n",
       "    </tr>\n",
       "    <tr>\n",
       "      <th>3</th>\n",
       "      <td>F</td>\n",
       "      <td>23.0</td>\n",
       "      <td>86.0</td>\n",
       "    </tr>\n",
       "    <tr>\n",
       "      <th>4</th>\n",
       "      <td>G</td>\n",
       "      <td>24.0</td>\n",
       "      <td>91.0</td>\n",
       "    </tr>\n",
       "  </tbody>\n",
       "</table>\n",
       "</div>"
      ],
      "text/plain": [
       "  Name   Age  Marks\n",
       "0    A  20.0   80.0\n",
       "1    B  21.0   85.0\n",
       "2    C  22.0   82.0\n",
       "3    F  23.0   86.0\n",
       "4    G  24.0   91.0"
      ]
     },
     "execution_count": 26,
     "metadata": {},
     "output_type": "execute_result"
    }
   ],
   "source": [
    "df2"
   ]
  },
  {
   "cell_type": "code",
   "execution_count": 27,
   "id": "059f8a23",
   "metadata": {},
   "outputs": [],
   "source": [
    "###writing the output to the local env:\n",
    "df2.to_csv('saved_output.csv')"
   ]
  },
  {
   "cell_type": "code",
   "execution_count": 28,
   "id": "69a768a4",
   "metadata": {},
   "outputs": [],
   "source": [
    "####Q) create a dataset with 3 columns and 8 rows with missing values,and use the fillna function to impute every\n",
    "#### record with the value 16"
   ]
  },
  {
   "cell_type": "code",
   "execution_count": 14,
   "id": "88bde8c0-64d4-49af-b9fb-3e3016f5a5ac",
   "metadata": {},
   "outputs": [
    {
     "name": "stdout",
     "output_type": "stream",
     "text": [
      "   Column1  Column2  Column3\n",
      "0      1.0      NaN     21.0\n",
      "1      2.0     12.0     22.0\n",
      "2      NaN     13.0     23.0\n",
      "3      4.0      NaN     24.0\n",
      "4      5.0     15.0      NaN\n",
      "5      NaN     16.0      NaN\n",
      "6      7.0      NaN     27.0\n",
      "7      8.0     18.0     28.0\n",
      "   Column1  Column2  Column3\n",
      "0      1.0     16.0     21.0\n",
      "1      2.0     12.0     22.0\n",
      "2     16.0     13.0     23.0\n",
      "3      4.0     16.0     24.0\n",
      "4      5.0     15.0     16.0\n",
      "5     16.0     16.0     16.0\n",
      "6      7.0     16.0     27.0\n",
      "7      8.0     18.0     28.0\n"
     ]
    }
   ],
   "source": [
    "data = {\n",
    "    'Column1': [1, 2, np.nan, 4, 5, np.nan, 7, 8],\n",
    "    'Column2': [np.nan, 12, 13, np.nan, 15, 16, np.nan, 18],\n",
    "    'Column3': [21, 22, 23, 24, np.nan, np.nan, 27, 28]\n",
    "}\n",
    "\n",
    "df = pd.DataFrame(data)\n",
    "print(df)\n",
    "df_filled = df.fillna(16)\n",
    "print(df_filled)"
   ]
  },
  {
   "cell_type": "code",
   "execution_count": 29,
   "id": "542300bc",
   "metadata": {},
   "outputs": [],
   "source": [
    "#### Q) Rename the columns in the above dataset to 'var1','var2' and 'var3'"
   ]
  },
  {
   "cell_type": "code",
   "execution_count": 15,
   "id": "44d0ec9b-24a4-4f12-8aa4-071d6a6dbdc1",
   "metadata": {},
   "outputs": [
    {
     "name": "stdout",
     "output_type": "stream",
     "text": [
      "   var1  var2  var3\n",
      "0   1.0  16.0  21.0\n",
      "1   2.0  12.0  22.0\n",
      "2  16.0  13.0  23.0\n",
      "3   4.0  16.0  24.0\n",
      "4   5.0  15.0  16.0\n",
      "5  16.0  16.0  16.0\n",
      "6   7.0  16.0  27.0\n",
      "7   8.0  18.0  28.0\n"
     ]
    }
   ],
   "source": [
    "df_renamed = df_filled.rename(columns={'Column1': 'var1', 'Column2': 'var2', 'Column3': 'var3'})\n",
    "print(df_renamed)"
   ]
  },
  {
   "cell_type": "code",
   "execution_count": 30,
   "id": "9cffd7a8",
   "metadata": {},
   "outputs": [],
   "source": [
    "####Q)create a column 'city' and give it values 'mumbai','kolkata','bangalore','Noida','gurgaon','Goa' 'hyderabad'"
   ]
  },
  {
   "cell_type": "code",
   "execution_count": 17,
   "id": "9b1c5ec9-39c2-4368-90f9-6b99b798a010",
   "metadata": {},
   "outputs": [
    {
     "data": {
      "text/html": [
       "<div>\n",
       "<style scoped>\n",
       "    .dataframe tbody tr th:only-of-type {\n",
       "        vertical-align: middle;\n",
       "    }\n",
       "\n",
       "    .dataframe tbody tr th {\n",
       "        vertical-align: top;\n",
       "    }\n",
       "\n",
       "    .dataframe thead th {\n",
       "        text-align: right;\n",
       "    }\n",
       "</style>\n",
       "<table border=\"1\" class=\"dataframe\">\n",
       "  <thead>\n",
       "    <tr style=\"text-align: right;\">\n",
       "      <th></th>\n",
       "      <th>Column1</th>\n",
       "      <th>Column2</th>\n",
       "      <th>Column3</th>\n",
       "      <th>city</th>\n",
       "    </tr>\n",
       "  </thead>\n",
       "  <tbody>\n",
       "    <tr>\n",
       "      <th>0</th>\n",
       "      <td>1.0</td>\n",
       "      <td>NaN</td>\n",
       "      <td>21.0</td>\n",
       "      <td>Mumbai</td>\n",
       "    </tr>\n",
       "    <tr>\n",
       "      <th>1</th>\n",
       "      <td>2.0</td>\n",
       "      <td>12.0</td>\n",
       "      <td>22.0</td>\n",
       "      <td>Kolkata</td>\n",
       "    </tr>\n",
       "    <tr>\n",
       "      <th>2</th>\n",
       "      <td>NaN</td>\n",
       "      <td>13.0</td>\n",
       "      <td>23.0</td>\n",
       "      <td>Bangalore</td>\n",
       "    </tr>\n",
       "    <tr>\n",
       "      <th>3</th>\n",
       "      <td>4.0</td>\n",
       "      <td>NaN</td>\n",
       "      <td>24.0</td>\n",
       "      <td>Noida</td>\n",
       "    </tr>\n",
       "    <tr>\n",
       "      <th>4</th>\n",
       "      <td>5.0</td>\n",
       "      <td>15.0</td>\n",
       "      <td>NaN</td>\n",
       "      <td>Gurgaon</td>\n",
       "    </tr>\n",
       "    <tr>\n",
       "      <th>5</th>\n",
       "      <td>NaN</td>\n",
       "      <td>16.0</td>\n",
       "      <td>NaN</td>\n",
       "      <td>Goa</td>\n",
       "    </tr>\n",
       "    <tr>\n",
       "      <th>6</th>\n",
       "      <td>7.0</td>\n",
       "      <td>NaN</td>\n",
       "      <td>27.0</td>\n",
       "      <td>Hyderabad</td>\n",
       "    </tr>\n",
       "    <tr>\n",
       "      <th>7</th>\n",
       "      <td>8.0</td>\n",
       "      <td>18.0</td>\n",
       "      <td>28.0</td>\n",
       "      <td>Chennai</td>\n",
       "    </tr>\n",
       "  </tbody>\n",
       "</table>\n",
       "</div>"
      ],
      "text/plain": [
       "   Column1  Column2  Column3       city\n",
       "0      1.0      NaN     21.0     Mumbai\n",
       "1      2.0     12.0     22.0    Kolkata\n",
       "2      NaN     13.0     23.0  Bangalore\n",
       "3      4.0      NaN     24.0      Noida\n",
       "4      5.0     15.0      NaN    Gurgaon\n",
       "5      NaN     16.0      NaN        Goa\n",
       "6      7.0      NaN     27.0  Hyderabad\n",
       "7      8.0     18.0     28.0    Chennai"
      ]
     },
     "execution_count": 17,
     "metadata": {},
     "output_type": "execute_result"
    }
   ],
   "source": [
    "cities = ['Mumbai', 'Kolkata', 'Bangalore', 'Noida', 'Gurgaon', 'Goa', 'Hyderabad', 'Chennai']\n",
    "df['city'] = cities\n",
    "df"
   ]
  },
  {
   "cell_type": "code",
   "execution_count": 31,
   "id": "65fb69e3",
   "metadata": {},
   "outputs": [],
   "source": [
    "####Q)drop the variables petal length and sepal width from the dataframe iris"
   ]
  },
  {
   "cell_type": "code",
   "execution_count": 22,
   "id": "8832180a-9628-4717-87c9-0e7d43e86b2b",
   "metadata": {},
   "outputs": [
    {
     "name": "stdout",
     "output_type": "stream",
     "text": [
      "     sepal_length  petal_width     species\n",
      "0             5.1          0.2      setosa\n",
      "1             4.9          0.2      setosa\n",
      "2             4.7          0.2      setosa\n",
      "3             4.6          0.2      setosa\n",
      "4             5.0          0.2      setosa\n",
      "5             5.4          0.4      setosa\n",
      "6             4.6          0.3      setosa\n",
      "7             5.0          0.2      setosa\n",
      "8             4.4          0.2      setosa\n",
      "9             4.9          0.1      setosa\n",
      "10            5.4          0.2      setosa\n",
      "11            4.8          0.2      setosa\n",
      "12            4.8          0.1      setosa\n",
      "13            4.3          0.1      setosa\n",
      "14            5.8          0.2      setosa\n",
      "15            5.7          0.4      setosa\n",
      "16            5.4          0.4      setosa\n",
      "17            5.1          0.3      setosa\n",
      "18            5.7          0.3      setosa\n",
      "19            5.1          0.3      setosa\n",
      "20            5.4          0.2      setosa\n",
      "21            5.1          0.4      setosa\n",
      "22            4.6          0.2      setosa\n",
      "23            5.1          0.5      setosa\n",
      "24            4.8          0.2      setosa\n",
      "25            5.0          0.2      setosa\n",
      "26            5.0          0.4      setosa\n",
      "27            5.2          0.2      setosa\n",
      "28            5.2          0.2      setosa\n",
      "29            4.7          0.2      setosa\n",
      "30            4.8          0.2      setosa\n",
      "31            5.4          0.4      setosa\n",
      "32            5.2          0.1      setosa\n",
      "33            5.5          0.2      setosa\n",
      "34            4.9          0.1      setosa\n",
      "35            5.0          0.2      setosa\n",
      "36            5.5          0.2      setosa\n",
      "37            4.9          0.1      setosa\n",
      "38            4.4          0.2      setosa\n",
      "39            5.1          0.2      setosa\n",
      "40            5.0          0.3      setosa\n",
      "41            4.5          0.3      setosa\n",
      "42            4.4          0.2      setosa\n",
      "43            5.0          0.6      setosa\n",
      "44            5.1          0.4      setosa\n",
      "45            4.8          0.3      setosa\n",
      "46            5.1          0.2      setosa\n",
      "47            4.6          0.2      setosa\n",
      "48            5.3          0.2      setosa\n",
      "49            5.0          0.2      setosa\n",
      "50            7.0          1.4  versicolor\n",
      "51            6.4          1.5  versicolor\n",
      "52            6.9          1.5  versicolor\n",
      "53            5.5          1.3  versicolor\n",
      "54            6.5          1.5  versicolor\n",
      "55            5.7          1.3  versicolor\n",
      "56            6.3          1.6  versicolor\n",
      "57            4.9          1.0  versicolor\n",
      "58            6.6          1.3  versicolor\n",
      "59            5.2          1.4  versicolor\n",
      "60            5.0          1.0  versicolor\n",
      "61            5.9          1.5  versicolor\n",
      "62            6.0          1.0  versicolor\n",
      "63            6.1          1.4  versicolor\n",
      "64            5.6          1.3  versicolor\n",
      "65            6.7          1.4  versicolor\n",
      "66            5.6          1.5  versicolor\n",
      "67            5.8          1.0  versicolor\n",
      "68            6.2          1.5  versicolor\n",
      "69            5.6          1.1  versicolor\n",
      "70            5.9          1.8  versicolor\n",
      "71            6.1          1.3  versicolor\n",
      "72            6.3          1.5  versicolor\n",
      "73            6.1          1.2  versicolor\n",
      "74            6.4          1.3  versicolor\n",
      "75            6.6          1.4  versicolor\n",
      "76            6.8          1.4  versicolor\n",
      "77            6.7          1.7  versicolor\n",
      "78            6.0          1.5  versicolor\n",
      "79            5.7          1.0  versicolor\n",
      "80            5.5          1.1  versicolor\n",
      "81            5.5          1.0  versicolor\n",
      "82            5.8          1.2  versicolor\n",
      "83            6.0          1.6  versicolor\n",
      "84            5.4          1.5  versicolor\n",
      "85            6.0          1.6  versicolor\n",
      "86            6.7          1.5  versicolor\n",
      "87            6.3          1.3  versicolor\n",
      "88            5.6          1.3  versicolor\n",
      "89            5.5          1.3  versicolor\n",
      "90            5.5          1.2  versicolor\n",
      "91            6.1          1.4  versicolor\n",
      "92            5.8          1.2  versicolor\n",
      "93            5.0          1.0  versicolor\n",
      "94            5.6          1.3  versicolor\n",
      "95            5.7          1.2  versicolor\n",
      "96            5.7          1.3  versicolor\n",
      "97            6.2          1.3  versicolor\n",
      "98            5.1          1.1  versicolor\n",
      "99            5.7          1.3  versicolor\n",
      "100           6.3          2.5   virginica\n",
      "101           5.8          1.9   virginica\n",
      "102           7.1          2.1   virginica\n",
      "103           6.3          1.8   virginica\n",
      "104           6.5          2.2   virginica\n",
      "105           7.6          2.1   virginica\n",
      "106           4.9          1.7   virginica\n",
      "107           7.3          1.8   virginica\n",
      "108           6.7          1.8   virginica\n",
      "109           7.2          2.5   virginica\n",
      "110           6.5          2.0   virginica\n",
      "111           6.4          1.9   virginica\n",
      "112           6.8          2.1   virginica\n",
      "113           5.7          2.0   virginica\n",
      "114           5.8          2.4   virginica\n",
      "115           6.4          2.3   virginica\n",
      "116           6.5          1.8   virginica\n",
      "117           7.7          2.2   virginica\n",
      "118           7.7          2.3   virginica\n",
      "119           6.0          1.5   virginica\n",
      "120           6.9          2.3   virginica\n",
      "121           5.6          2.0   virginica\n",
      "122           7.7          2.0   virginica\n",
      "123           6.3          1.8   virginica\n",
      "124           6.7          2.1   virginica\n",
      "125           7.2          1.8   virginica\n",
      "126           6.2          1.8   virginica\n",
      "127           6.1          1.8   virginica\n",
      "128           6.4          2.1   virginica\n",
      "129           7.2          1.6   virginica\n",
      "130           7.4          1.9   virginica\n",
      "131           7.9          2.0   virginica\n",
      "132           6.4          2.2   virginica\n",
      "133           6.3          1.5   virginica\n",
      "134           6.1          1.4   virginica\n",
      "135           7.7          2.3   virginica\n",
      "136           6.3          2.4   virginica\n",
      "137           6.4          1.8   virginica\n",
      "138           6.0          1.8   virginica\n",
      "139           6.9          2.1   virginica\n",
      "140           6.7          2.4   virginica\n",
      "141           6.9          2.3   virginica\n",
      "142           5.8          1.9   virginica\n",
      "143           6.8          2.3   virginica\n",
      "144           6.7          2.5   virginica\n",
      "145           6.7          2.3   virginica\n",
      "146           6.3          1.9   virginica\n",
      "147           6.5          2.0   virginica\n",
      "148           6.2          2.3   virginica\n",
      "149           5.9          1.8   virginica\n"
     ]
    }
   ],
   "source": [
    "iris = iris.drop(['petal_length', 'sepal_width'], axis=1)\n",
    "print(iris)\n"
   ]
  },
  {
   "cell_type": "code",
   "execution_count": 32,
   "id": "cd654ead",
   "metadata": {},
   "outputs": [],
   "source": [
    "####Q)drop the second last row of the dataset iris"
   ]
  },
  {
   "cell_type": "code",
   "execution_count": 23,
   "id": "d4039d87-0099-45ce-805c-6cab29bf01c9",
   "metadata": {},
   "outputs": [
    {
     "name": "stdout",
     "output_type": "stream",
     "text": [
      "     sepal_length  petal_width     species\n",
      "0             5.1          0.2      setosa\n",
      "1             4.9          0.2      setosa\n",
      "2             4.7          0.2      setosa\n",
      "3             4.6          0.2      setosa\n",
      "4             5.0          0.2      setosa\n",
      "5             5.4          0.4      setosa\n",
      "6             4.6          0.3      setosa\n",
      "7             5.0          0.2      setosa\n",
      "8             4.4          0.2      setosa\n",
      "9             4.9          0.1      setosa\n",
      "10            5.4          0.2      setosa\n",
      "11            4.8          0.2      setosa\n",
      "12            4.8          0.1      setosa\n",
      "13            4.3          0.1      setosa\n",
      "14            5.8          0.2      setosa\n",
      "15            5.7          0.4      setosa\n",
      "16            5.4          0.4      setosa\n",
      "17            5.1          0.3      setosa\n",
      "18            5.7          0.3      setosa\n",
      "19            5.1          0.3      setosa\n",
      "20            5.4          0.2      setosa\n",
      "21            5.1          0.4      setosa\n",
      "22            4.6          0.2      setosa\n",
      "23            5.1          0.5      setosa\n",
      "24            4.8          0.2      setosa\n",
      "25            5.0          0.2      setosa\n",
      "26            5.0          0.4      setosa\n",
      "27            5.2          0.2      setosa\n",
      "28            5.2          0.2      setosa\n",
      "29            4.7          0.2      setosa\n",
      "30            4.8          0.2      setosa\n",
      "31            5.4          0.4      setosa\n",
      "32            5.2          0.1      setosa\n",
      "33            5.5          0.2      setosa\n",
      "34            4.9          0.1      setosa\n",
      "35            5.0          0.2      setosa\n",
      "36            5.5          0.2      setosa\n",
      "37            4.9          0.1      setosa\n",
      "38            4.4          0.2      setosa\n",
      "39            5.1          0.2      setosa\n",
      "40            5.0          0.3      setosa\n",
      "41            4.5          0.3      setosa\n",
      "42            4.4          0.2      setosa\n",
      "43            5.0          0.6      setosa\n",
      "44            5.1          0.4      setosa\n",
      "45            4.8          0.3      setosa\n",
      "46            5.1          0.2      setosa\n",
      "47            4.6          0.2      setosa\n",
      "48            5.3          0.2      setosa\n",
      "49            5.0          0.2      setosa\n",
      "50            7.0          1.4  versicolor\n",
      "51            6.4          1.5  versicolor\n",
      "52            6.9          1.5  versicolor\n",
      "53            5.5          1.3  versicolor\n",
      "54            6.5          1.5  versicolor\n",
      "55            5.7          1.3  versicolor\n",
      "56            6.3          1.6  versicolor\n",
      "57            4.9          1.0  versicolor\n",
      "58            6.6          1.3  versicolor\n",
      "59            5.2          1.4  versicolor\n",
      "60            5.0          1.0  versicolor\n",
      "61            5.9          1.5  versicolor\n",
      "62            6.0          1.0  versicolor\n",
      "63            6.1          1.4  versicolor\n",
      "64            5.6          1.3  versicolor\n",
      "65            6.7          1.4  versicolor\n",
      "66            5.6          1.5  versicolor\n",
      "67            5.8          1.0  versicolor\n",
      "68            6.2          1.5  versicolor\n",
      "69            5.6          1.1  versicolor\n",
      "70            5.9          1.8  versicolor\n",
      "71            6.1          1.3  versicolor\n",
      "72            6.3          1.5  versicolor\n",
      "73            6.1          1.2  versicolor\n",
      "74            6.4          1.3  versicolor\n",
      "75            6.6          1.4  versicolor\n",
      "76            6.8          1.4  versicolor\n",
      "77            6.7          1.7  versicolor\n",
      "78            6.0          1.5  versicolor\n",
      "79            5.7          1.0  versicolor\n",
      "80            5.5          1.1  versicolor\n",
      "81            5.5          1.0  versicolor\n",
      "82            5.8          1.2  versicolor\n",
      "83            6.0          1.6  versicolor\n",
      "84            5.4          1.5  versicolor\n",
      "85            6.0          1.6  versicolor\n",
      "86            6.7          1.5  versicolor\n",
      "87            6.3          1.3  versicolor\n",
      "88            5.6          1.3  versicolor\n",
      "89            5.5          1.3  versicolor\n",
      "90            5.5          1.2  versicolor\n",
      "91            6.1          1.4  versicolor\n",
      "92            5.8          1.2  versicolor\n",
      "93            5.0          1.0  versicolor\n",
      "94            5.6          1.3  versicolor\n",
      "95            5.7          1.2  versicolor\n",
      "96            5.7          1.3  versicolor\n",
      "97            6.2          1.3  versicolor\n",
      "98            5.1          1.1  versicolor\n",
      "99            5.7          1.3  versicolor\n",
      "100           6.3          2.5   virginica\n",
      "101           5.8          1.9   virginica\n",
      "102           7.1          2.1   virginica\n",
      "103           6.3          1.8   virginica\n",
      "104           6.5          2.2   virginica\n",
      "105           7.6          2.1   virginica\n",
      "106           4.9          1.7   virginica\n",
      "107           7.3          1.8   virginica\n",
      "108           6.7          1.8   virginica\n",
      "109           7.2          2.5   virginica\n",
      "110           6.5          2.0   virginica\n",
      "111           6.4          1.9   virginica\n",
      "112           6.8          2.1   virginica\n",
      "113           5.7          2.0   virginica\n",
      "114           5.8          2.4   virginica\n",
      "115           6.4          2.3   virginica\n",
      "116           6.5          1.8   virginica\n",
      "117           7.7          2.2   virginica\n",
      "118           7.7          2.3   virginica\n",
      "119           6.0          1.5   virginica\n",
      "120           6.9          2.3   virginica\n",
      "121           5.6          2.0   virginica\n",
      "122           7.7          2.0   virginica\n",
      "123           6.3          1.8   virginica\n",
      "124           6.7          2.1   virginica\n",
      "125           7.2          1.8   virginica\n",
      "126           6.2          1.8   virginica\n",
      "127           6.1          1.8   virginica\n",
      "128           6.4          2.1   virginica\n",
      "129           7.2          1.6   virginica\n",
      "130           7.4          1.9   virginica\n",
      "131           7.9          2.0   virginica\n",
      "132           6.4          2.2   virginica\n",
      "133           6.3          1.5   virginica\n",
      "134           6.1          1.4   virginica\n",
      "135           7.7          2.3   virginica\n",
      "136           6.3          2.4   virginica\n",
      "137           6.4          1.8   virginica\n",
      "138           6.0          1.8   virginica\n",
      "139           6.9          2.1   virginica\n",
      "140           6.7          2.4   virginica\n",
      "141           6.9          2.3   virginica\n",
      "142           5.8          1.9   virginica\n",
      "143           6.8          2.3   virginica\n",
      "144           6.7          2.5   virginica\n",
      "145           6.7          2.3   virginica\n",
      "146           6.3          1.9   virginica\n",
      "147           6.5          2.0   virginica\n",
      "148           5.9          1.8   virginica\n"
     ]
    }
   ],
   "source": [
    "iris = iris.drop(iris.index[-2])\n",
    "iris = iris.reset_index(drop=True)\n",
    "print(iris)"
   ]
  },
  {
   "cell_type": "code",
   "execution_count": 33,
   "id": "00d5d68d",
   "metadata": {},
   "outputs": [],
   "source": [
    "####Q)filter out the variables with float datatype"
   ]
  },
  {
   "cell_type": "code",
   "execution_count": 24,
   "id": "b3ab2418-c65a-4093-89d0-ce7d9f4b52f8",
   "metadata": {},
   "outputs": [
    {
     "name": "stdout",
     "output_type": "stream",
     "text": [
      "     sepal_length  petal_width\n",
      "0             5.1          0.2\n",
      "1             4.9          0.2\n",
      "2             4.7          0.2\n",
      "3             4.6          0.2\n",
      "4             5.0          0.2\n",
      "5             5.4          0.4\n",
      "6             4.6          0.3\n",
      "7             5.0          0.2\n",
      "8             4.4          0.2\n",
      "9             4.9          0.1\n",
      "10            5.4          0.2\n",
      "11            4.8          0.2\n",
      "12            4.8          0.1\n",
      "13            4.3          0.1\n",
      "14            5.8          0.2\n",
      "15            5.7          0.4\n",
      "16            5.4          0.4\n",
      "17            5.1          0.3\n",
      "18            5.7          0.3\n",
      "19            5.1          0.3\n",
      "20            5.4          0.2\n",
      "21            5.1          0.4\n",
      "22            4.6          0.2\n",
      "23            5.1          0.5\n",
      "24            4.8          0.2\n",
      "25            5.0          0.2\n",
      "26            5.0          0.4\n",
      "27            5.2          0.2\n",
      "28            5.2          0.2\n",
      "29            4.7          0.2\n",
      "30            4.8          0.2\n",
      "31            5.4          0.4\n",
      "32            5.2          0.1\n",
      "33            5.5          0.2\n",
      "34            4.9          0.1\n",
      "35            5.0          0.2\n",
      "36            5.5          0.2\n",
      "37            4.9          0.1\n",
      "38            4.4          0.2\n",
      "39            5.1          0.2\n",
      "40            5.0          0.3\n",
      "41            4.5          0.3\n",
      "42            4.4          0.2\n",
      "43            5.0          0.6\n",
      "44            5.1          0.4\n",
      "45            4.8          0.3\n",
      "46            5.1          0.2\n",
      "47            4.6          0.2\n",
      "48            5.3          0.2\n",
      "49            5.0          0.2\n",
      "50            7.0          1.4\n",
      "51            6.4          1.5\n",
      "52            6.9          1.5\n",
      "53            5.5          1.3\n",
      "54            6.5          1.5\n",
      "55            5.7          1.3\n",
      "56            6.3          1.6\n",
      "57            4.9          1.0\n",
      "58            6.6          1.3\n",
      "59            5.2          1.4\n",
      "60            5.0          1.0\n",
      "61            5.9          1.5\n",
      "62            6.0          1.0\n",
      "63            6.1          1.4\n",
      "64            5.6          1.3\n",
      "65            6.7          1.4\n",
      "66            5.6          1.5\n",
      "67            5.8          1.0\n",
      "68            6.2          1.5\n",
      "69            5.6          1.1\n",
      "70            5.9          1.8\n",
      "71            6.1          1.3\n",
      "72            6.3          1.5\n",
      "73            6.1          1.2\n",
      "74            6.4          1.3\n",
      "75            6.6          1.4\n",
      "76            6.8          1.4\n",
      "77            6.7          1.7\n",
      "78            6.0          1.5\n",
      "79            5.7          1.0\n",
      "80            5.5          1.1\n",
      "81            5.5          1.0\n",
      "82            5.8          1.2\n",
      "83            6.0          1.6\n",
      "84            5.4          1.5\n",
      "85            6.0          1.6\n",
      "86            6.7          1.5\n",
      "87            6.3          1.3\n",
      "88            5.6          1.3\n",
      "89            5.5          1.3\n",
      "90            5.5          1.2\n",
      "91            6.1          1.4\n",
      "92            5.8          1.2\n",
      "93            5.0          1.0\n",
      "94            5.6          1.3\n",
      "95            5.7          1.2\n",
      "96            5.7          1.3\n",
      "97            6.2          1.3\n",
      "98            5.1          1.1\n",
      "99            5.7          1.3\n",
      "100           6.3          2.5\n",
      "101           5.8          1.9\n",
      "102           7.1          2.1\n",
      "103           6.3          1.8\n",
      "104           6.5          2.2\n",
      "105           7.6          2.1\n",
      "106           4.9          1.7\n",
      "107           7.3          1.8\n",
      "108           6.7          1.8\n",
      "109           7.2          2.5\n",
      "110           6.5          2.0\n",
      "111           6.4          1.9\n",
      "112           6.8          2.1\n",
      "113           5.7          2.0\n",
      "114           5.8          2.4\n",
      "115           6.4          2.3\n",
      "116           6.5          1.8\n",
      "117           7.7          2.2\n",
      "118           7.7          2.3\n",
      "119           6.0          1.5\n",
      "120           6.9          2.3\n",
      "121           5.6          2.0\n",
      "122           7.7          2.0\n",
      "123           6.3          1.8\n",
      "124           6.7          2.1\n",
      "125           7.2          1.8\n",
      "126           6.2          1.8\n",
      "127           6.1          1.8\n",
      "128           6.4          2.1\n",
      "129           7.2          1.6\n",
      "130           7.4          1.9\n",
      "131           7.9          2.0\n",
      "132           6.4          2.2\n",
      "133           6.3          1.5\n",
      "134           6.1          1.4\n",
      "135           7.7          2.3\n",
      "136           6.3          2.4\n",
      "137           6.4          1.8\n",
      "138           6.0          1.8\n",
      "139           6.9          2.1\n",
      "140           6.7          2.4\n",
      "141           6.9          2.3\n",
      "142           5.8          1.9\n",
      "143           6.8          2.3\n",
      "144           6.7          2.5\n",
      "145           6.7          2.3\n",
      "146           6.3          1.9\n",
      "147           6.5          2.0\n",
      "148           5.9          1.8\n"
     ]
    }
   ],
   "source": [
    "float_columns = iris.select_dtypes(include=['float64'])\n",
    "print(float_columns)"
   ]
  },
  {
   "cell_type": "code",
   "execution_count": 34,
   "id": "93cba61f",
   "metadata": {},
   "outputs": [],
   "source": [
    "####Q)encode the species variable of the iris dataset"
   ]
  },
  {
   "cell_type": "code",
   "execution_count": 25,
   "id": "96165fdb-f724-4999-a754-6d367dd70804",
   "metadata": {},
   "outputs": [
    {
     "name": "stdout",
     "output_type": "stream",
     "text": [
      "     sepal_length  petal_width  species_setosa  species_versicolor  \\\n",
      "0             5.1          0.2               1                   0   \n",
      "1             4.9          0.2               1                   0   \n",
      "2             4.7          0.2               1                   0   \n",
      "3             4.6          0.2               1                   0   \n",
      "4             5.0          0.2               1                   0   \n",
      "5             5.4          0.4               1                   0   \n",
      "6             4.6          0.3               1                   0   \n",
      "7             5.0          0.2               1                   0   \n",
      "8             4.4          0.2               1                   0   \n",
      "9             4.9          0.1               1                   0   \n",
      "10            5.4          0.2               1                   0   \n",
      "11            4.8          0.2               1                   0   \n",
      "12            4.8          0.1               1                   0   \n",
      "13            4.3          0.1               1                   0   \n",
      "14            5.8          0.2               1                   0   \n",
      "15            5.7          0.4               1                   0   \n",
      "16            5.4          0.4               1                   0   \n",
      "17            5.1          0.3               1                   0   \n",
      "18            5.7          0.3               1                   0   \n",
      "19            5.1          0.3               1                   0   \n",
      "20            5.4          0.2               1                   0   \n",
      "21            5.1          0.4               1                   0   \n",
      "22            4.6          0.2               1                   0   \n",
      "23            5.1          0.5               1                   0   \n",
      "24            4.8          0.2               1                   0   \n",
      "25            5.0          0.2               1                   0   \n",
      "26            5.0          0.4               1                   0   \n",
      "27            5.2          0.2               1                   0   \n",
      "28            5.2          0.2               1                   0   \n",
      "29            4.7          0.2               1                   0   \n",
      "30            4.8          0.2               1                   0   \n",
      "31            5.4          0.4               1                   0   \n",
      "32            5.2          0.1               1                   0   \n",
      "33            5.5          0.2               1                   0   \n",
      "34            4.9          0.1               1                   0   \n",
      "35            5.0          0.2               1                   0   \n",
      "36            5.5          0.2               1                   0   \n",
      "37            4.9          0.1               1                   0   \n",
      "38            4.4          0.2               1                   0   \n",
      "39            5.1          0.2               1                   0   \n",
      "40            5.0          0.3               1                   0   \n",
      "41            4.5          0.3               1                   0   \n",
      "42            4.4          0.2               1                   0   \n",
      "43            5.0          0.6               1                   0   \n",
      "44            5.1          0.4               1                   0   \n",
      "45            4.8          0.3               1                   0   \n",
      "46            5.1          0.2               1                   0   \n",
      "47            4.6          0.2               1                   0   \n",
      "48            5.3          0.2               1                   0   \n",
      "49            5.0          0.2               1                   0   \n",
      "50            7.0          1.4               0                   1   \n",
      "51            6.4          1.5               0                   1   \n",
      "52            6.9          1.5               0                   1   \n",
      "53            5.5          1.3               0                   1   \n",
      "54            6.5          1.5               0                   1   \n",
      "55            5.7          1.3               0                   1   \n",
      "56            6.3          1.6               0                   1   \n",
      "57            4.9          1.0               0                   1   \n",
      "58            6.6          1.3               0                   1   \n",
      "59            5.2          1.4               0                   1   \n",
      "60            5.0          1.0               0                   1   \n",
      "61            5.9          1.5               0                   1   \n",
      "62            6.0          1.0               0                   1   \n",
      "63            6.1          1.4               0                   1   \n",
      "64            5.6          1.3               0                   1   \n",
      "65            6.7          1.4               0                   1   \n",
      "66            5.6          1.5               0                   1   \n",
      "67            5.8          1.0               0                   1   \n",
      "68            6.2          1.5               0                   1   \n",
      "69            5.6          1.1               0                   1   \n",
      "70            5.9          1.8               0                   1   \n",
      "71            6.1          1.3               0                   1   \n",
      "72            6.3          1.5               0                   1   \n",
      "73            6.1          1.2               0                   1   \n",
      "74            6.4          1.3               0                   1   \n",
      "75            6.6          1.4               0                   1   \n",
      "76            6.8          1.4               0                   1   \n",
      "77            6.7          1.7               0                   1   \n",
      "78            6.0          1.5               0                   1   \n",
      "79            5.7          1.0               0                   1   \n",
      "80            5.5          1.1               0                   1   \n",
      "81            5.5          1.0               0                   1   \n",
      "82            5.8          1.2               0                   1   \n",
      "83            6.0          1.6               0                   1   \n",
      "84            5.4          1.5               0                   1   \n",
      "85            6.0          1.6               0                   1   \n",
      "86            6.7          1.5               0                   1   \n",
      "87            6.3          1.3               0                   1   \n",
      "88            5.6          1.3               0                   1   \n",
      "89            5.5          1.3               0                   1   \n",
      "90            5.5          1.2               0                   1   \n",
      "91            6.1          1.4               0                   1   \n",
      "92            5.8          1.2               0                   1   \n",
      "93            5.0          1.0               0                   1   \n",
      "94            5.6          1.3               0                   1   \n",
      "95            5.7          1.2               0                   1   \n",
      "96            5.7          1.3               0                   1   \n",
      "97            6.2          1.3               0                   1   \n",
      "98            5.1          1.1               0                   1   \n",
      "99            5.7          1.3               0                   1   \n",
      "100           6.3          2.5               0                   0   \n",
      "101           5.8          1.9               0                   0   \n",
      "102           7.1          2.1               0                   0   \n",
      "103           6.3          1.8               0                   0   \n",
      "104           6.5          2.2               0                   0   \n",
      "105           7.6          2.1               0                   0   \n",
      "106           4.9          1.7               0                   0   \n",
      "107           7.3          1.8               0                   0   \n",
      "108           6.7          1.8               0                   0   \n",
      "109           7.2          2.5               0                   0   \n",
      "110           6.5          2.0               0                   0   \n",
      "111           6.4          1.9               0                   0   \n",
      "112           6.8          2.1               0                   0   \n",
      "113           5.7          2.0               0                   0   \n",
      "114           5.8          2.4               0                   0   \n",
      "115           6.4          2.3               0                   0   \n",
      "116           6.5          1.8               0                   0   \n",
      "117           7.7          2.2               0                   0   \n",
      "118           7.7          2.3               0                   0   \n",
      "119           6.0          1.5               0                   0   \n",
      "120           6.9          2.3               0                   0   \n",
      "121           5.6          2.0               0                   0   \n",
      "122           7.7          2.0               0                   0   \n",
      "123           6.3          1.8               0                   0   \n",
      "124           6.7          2.1               0                   0   \n",
      "125           7.2          1.8               0                   0   \n",
      "126           6.2          1.8               0                   0   \n",
      "127           6.1          1.8               0                   0   \n",
      "128           6.4          2.1               0                   0   \n",
      "129           7.2          1.6               0                   0   \n",
      "130           7.4          1.9               0                   0   \n",
      "131           7.9          2.0               0                   0   \n",
      "132           6.4          2.2               0                   0   \n",
      "133           6.3          1.5               0                   0   \n",
      "134           6.1          1.4               0                   0   \n",
      "135           7.7          2.3               0                   0   \n",
      "136           6.3          2.4               0                   0   \n",
      "137           6.4          1.8               0                   0   \n",
      "138           6.0          1.8               0                   0   \n",
      "139           6.9          2.1               0                   0   \n",
      "140           6.7          2.4               0                   0   \n",
      "141           6.9          2.3               0                   0   \n",
      "142           5.8          1.9               0                   0   \n",
      "143           6.8          2.3               0                   0   \n",
      "144           6.7          2.5               0                   0   \n",
      "145           6.7          2.3               0                   0   \n",
      "146           6.3          1.9               0                   0   \n",
      "147           6.5          2.0               0                   0   \n",
      "148           5.9          1.8               0                   0   \n",
      "\n",
      "     species_virginica  \n",
      "0                    0  \n",
      "1                    0  \n",
      "2                    0  \n",
      "3                    0  \n",
      "4                    0  \n",
      "5                    0  \n",
      "6                    0  \n",
      "7                    0  \n",
      "8                    0  \n",
      "9                    0  \n",
      "10                   0  \n",
      "11                   0  \n",
      "12                   0  \n",
      "13                   0  \n",
      "14                   0  \n",
      "15                   0  \n",
      "16                   0  \n",
      "17                   0  \n",
      "18                   0  \n",
      "19                   0  \n",
      "20                   0  \n",
      "21                   0  \n",
      "22                   0  \n",
      "23                   0  \n",
      "24                   0  \n",
      "25                   0  \n",
      "26                   0  \n",
      "27                   0  \n",
      "28                   0  \n",
      "29                   0  \n",
      "30                   0  \n",
      "31                   0  \n",
      "32                   0  \n",
      "33                   0  \n",
      "34                   0  \n",
      "35                   0  \n",
      "36                   0  \n",
      "37                   0  \n",
      "38                   0  \n",
      "39                   0  \n",
      "40                   0  \n",
      "41                   0  \n",
      "42                   0  \n",
      "43                   0  \n",
      "44                   0  \n",
      "45                   0  \n",
      "46                   0  \n",
      "47                   0  \n",
      "48                   0  \n",
      "49                   0  \n",
      "50                   0  \n",
      "51                   0  \n",
      "52                   0  \n",
      "53                   0  \n",
      "54                   0  \n",
      "55                   0  \n",
      "56                   0  \n",
      "57                   0  \n",
      "58                   0  \n",
      "59                   0  \n",
      "60                   0  \n",
      "61                   0  \n",
      "62                   0  \n",
      "63                   0  \n",
      "64                   0  \n",
      "65                   0  \n",
      "66                   0  \n",
      "67                   0  \n",
      "68                   0  \n",
      "69                   0  \n",
      "70                   0  \n",
      "71                   0  \n",
      "72                   0  \n",
      "73                   0  \n",
      "74                   0  \n",
      "75                   0  \n",
      "76                   0  \n",
      "77                   0  \n",
      "78                   0  \n",
      "79                   0  \n",
      "80                   0  \n",
      "81                   0  \n",
      "82                   0  \n",
      "83                   0  \n",
      "84                   0  \n",
      "85                   0  \n",
      "86                   0  \n",
      "87                   0  \n",
      "88                   0  \n",
      "89                   0  \n",
      "90                   0  \n",
      "91                   0  \n",
      "92                   0  \n",
      "93                   0  \n",
      "94                   0  \n",
      "95                   0  \n",
      "96                   0  \n",
      "97                   0  \n",
      "98                   0  \n",
      "99                   0  \n",
      "100                  1  \n",
      "101                  1  \n",
      "102                  1  \n",
      "103                  1  \n",
      "104                  1  \n",
      "105                  1  \n",
      "106                  1  \n",
      "107                  1  \n",
      "108                  1  \n",
      "109                  1  \n",
      "110                  1  \n",
      "111                  1  \n",
      "112                  1  \n",
      "113                  1  \n",
      "114                  1  \n",
      "115                  1  \n",
      "116                  1  \n",
      "117                  1  \n",
      "118                  1  \n",
      "119                  1  \n",
      "120                  1  \n",
      "121                  1  \n",
      "122                  1  \n",
      "123                  1  \n",
      "124                  1  \n",
      "125                  1  \n",
      "126                  1  \n",
      "127                  1  \n",
      "128                  1  \n",
      "129                  1  \n",
      "130                  1  \n",
      "131                  1  \n",
      "132                  1  \n",
      "133                  1  \n",
      "134                  1  \n",
      "135                  1  \n",
      "136                  1  \n",
      "137                  1  \n",
      "138                  1  \n",
      "139                  1  \n",
      "140                  1  \n",
      "141                  1  \n",
      "142                  1  \n",
      "143                  1  \n",
      "144                  1  \n",
      "145                  1  \n",
      "146                  1  \n",
      "147                  1  \n",
      "148                  1  \n"
     ]
    }
   ],
   "source": [
    "df_one_hot = pd.get_dummies(iris, columns=['species'], prefix='species')\n",
    "print(df_one_hot)"
   ]
  },
  {
   "cell_type": "code",
   "execution_count": 35,
   "id": "931900fa",
   "metadata": {},
   "outputs": [],
   "source": [
    "####Q)Find all the planta which belong to the species 'virginica' and 'versicolor'"
   ]
  },
  {
   "cell_type": "code",
   "execution_count": 26,
   "id": "5fe61d1a-4cc7-408a-9fe1-2ed36ffc99a2",
   "metadata": {},
   "outputs": [
    {
     "name": "stdout",
     "output_type": "stream",
     "text": [
      "     sepal_length  petal_width     species\n",
      "50            7.0          1.4  versicolor\n",
      "51            6.4          1.5  versicolor\n",
      "52            6.9          1.5  versicolor\n",
      "53            5.5          1.3  versicolor\n",
      "54            6.5          1.5  versicolor\n",
      "55            5.7          1.3  versicolor\n",
      "56            6.3          1.6  versicolor\n",
      "57            4.9          1.0  versicolor\n",
      "58            6.6          1.3  versicolor\n",
      "59            5.2          1.4  versicolor\n",
      "60            5.0          1.0  versicolor\n",
      "61            5.9          1.5  versicolor\n",
      "62            6.0          1.0  versicolor\n",
      "63            6.1          1.4  versicolor\n",
      "64            5.6          1.3  versicolor\n",
      "65            6.7          1.4  versicolor\n",
      "66            5.6          1.5  versicolor\n",
      "67            5.8          1.0  versicolor\n",
      "68            6.2          1.5  versicolor\n",
      "69            5.6          1.1  versicolor\n",
      "70            5.9          1.8  versicolor\n",
      "71            6.1          1.3  versicolor\n",
      "72            6.3          1.5  versicolor\n",
      "73            6.1          1.2  versicolor\n",
      "74            6.4          1.3  versicolor\n",
      "75            6.6          1.4  versicolor\n",
      "76            6.8          1.4  versicolor\n",
      "77            6.7          1.7  versicolor\n",
      "78            6.0          1.5  versicolor\n",
      "79            5.7          1.0  versicolor\n",
      "80            5.5          1.1  versicolor\n",
      "81            5.5          1.0  versicolor\n",
      "82            5.8          1.2  versicolor\n",
      "83            6.0          1.6  versicolor\n",
      "84            5.4          1.5  versicolor\n",
      "85            6.0          1.6  versicolor\n",
      "86            6.7          1.5  versicolor\n",
      "87            6.3          1.3  versicolor\n",
      "88            5.6          1.3  versicolor\n",
      "89            5.5          1.3  versicolor\n",
      "90            5.5          1.2  versicolor\n",
      "91            6.1          1.4  versicolor\n",
      "92            5.8          1.2  versicolor\n",
      "93            5.0          1.0  versicolor\n",
      "94            5.6          1.3  versicolor\n",
      "95            5.7          1.2  versicolor\n",
      "96            5.7          1.3  versicolor\n",
      "97            6.2          1.3  versicolor\n",
      "98            5.1          1.1  versicolor\n",
      "99            5.7          1.3  versicolor\n",
      "100           6.3          2.5   virginica\n",
      "101           5.8          1.9   virginica\n",
      "102           7.1          2.1   virginica\n",
      "103           6.3          1.8   virginica\n",
      "104           6.5          2.2   virginica\n",
      "105           7.6          2.1   virginica\n",
      "106           4.9          1.7   virginica\n",
      "107           7.3          1.8   virginica\n",
      "108           6.7          1.8   virginica\n",
      "109           7.2          2.5   virginica\n",
      "110           6.5          2.0   virginica\n",
      "111           6.4          1.9   virginica\n",
      "112           6.8          2.1   virginica\n",
      "113           5.7          2.0   virginica\n",
      "114           5.8          2.4   virginica\n",
      "115           6.4          2.3   virginica\n",
      "116           6.5          1.8   virginica\n",
      "117           7.7          2.2   virginica\n",
      "118           7.7          2.3   virginica\n",
      "119           6.0          1.5   virginica\n",
      "120           6.9          2.3   virginica\n",
      "121           5.6          2.0   virginica\n",
      "122           7.7          2.0   virginica\n",
      "123           6.3          1.8   virginica\n",
      "124           6.7          2.1   virginica\n",
      "125           7.2          1.8   virginica\n",
      "126           6.2          1.8   virginica\n",
      "127           6.1          1.8   virginica\n",
      "128           6.4          2.1   virginica\n",
      "129           7.2          1.6   virginica\n",
      "130           7.4          1.9   virginica\n",
      "131           7.9          2.0   virginica\n",
      "132           6.4          2.2   virginica\n",
      "133           6.3          1.5   virginica\n",
      "134           6.1          1.4   virginica\n",
      "135           7.7          2.3   virginica\n",
      "136           6.3          2.4   virginica\n",
      "137           6.4          1.8   virginica\n",
      "138           6.0          1.8   virginica\n",
      "139           6.9          2.1   virginica\n",
      "140           6.7          2.4   virginica\n",
      "141           6.9          2.3   virginica\n",
      "142           5.8          1.9   virginica\n",
      "143           6.8          2.3   virginica\n",
      "144           6.7          2.5   virginica\n",
      "145           6.7          2.3   virginica\n",
      "146           6.3          1.9   virginica\n",
      "147           6.5          2.0   virginica\n",
      "148           5.9          1.8   virginica\n"
     ]
    }
   ],
   "source": [
    "filtered_species = iris[iris['species'].isin(['virginica', 'versicolor'])]\n",
    "print(filtered_species)"
   ]
  },
  {
   "cell_type": "code",
   "execution_count": 36,
   "id": "1ffb3c27",
   "metadata": {},
   "outputs": [],
   "source": [
    "#####Q)find the duplicate entries and clean the dataset"
   ]
  },
  {
   "cell_type": "code",
   "execution_count": 27,
   "id": "e06d7226-4310-4131-938f-b952eac7bb5b",
   "metadata": {},
   "outputs": [
    {
     "name": "stdout",
     "output_type": "stream",
     "text": [
      "Duplicate Entries:\n",
      "     sepal_length  petal_width     species\n",
      "7             5.0          0.2      setosa\n",
      "16            5.4          0.4      setosa\n",
      "19            5.1          0.3      setosa\n",
      "20            5.4          0.2      setosa\n",
      "22            4.6          0.2      setosa\n",
      "24            4.8          0.2      setosa\n",
      "25            5.0          0.2      setosa\n",
      "28            5.2          0.2      setosa\n",
      "29            4.7          0.2      setosa\n",
      "30            4.8          0.2      setosa\n",
      "31            5.4          0.4      setosa\n",
      "34            4.9          0.1      setosa\n",
      "35            5.0          0.2      setosa\n",
      "36            5.5          0.2      setosa\n",
      "37            4.9          0.1      setosa\n",
      "38            4.4          0.2      setosa\n",
      "39            5.1          0.2      setosa\n",
      "42            4.4          0.2      setosa\n",
      "44            5.1          0.4      setosa\n",
      "46            5.1          0.2      setosa\n",
      "47            4.6          0.2      setosa\n",
      "49            5.0          0.2      setosa\n",
      "85            6.0          1.6  versicolor\n",
      "88            5.6          1.3  versicolor\n",
      "89            5.5          1.3  versicolor\n",
      "91            6.1          1.4  versicolor\n",
      "92            5.8          1.2  versicolor\n",
      "93            5.0          1.0  versicolor\n",
      "94            5.6          1.3  versicolor\n",
      "96            5.7          1.3  versicolor\n",
      "99            5.7          1.3  versicolor\n",
      "123           6.3          1.8   virginica\n",
      "135           7.7          2.3   virginica\n",
      "141           6.9          2.3   virginica\n",
      "142           5.8          1.9   virginica\n",
      "147           6.5          2.0   virginica\n",
      "Cleaned Dataset:\n",
      "     sepal_length  petal_width     species\n",
      "0             5.1          0.2      setosa\n",
      "1             4.9          0.2      setosa\n",
      "2             4.7          0.2      setosa\n",
      "3             4.6          0.2      setosa\n",
      "4             5.0          0.2      setosa\n",
      "5             5.4          0.4      setosa\n",
      "6             4.6          0.3      setosa\n",
      "8             4.4          0.2      setosa\n",
      "9             4.9          0.1      setosa\n",
      "10            5.4          0.2      setosa\n",
      "11            4.8          0.2      setosa\n",
      "12            4.8          0.1      setosa\n",
      "13            4.3          0.1      setosa\n",
      "14            5.8          0.2      setosa\n",
      "15            5.7          0.4      setosa\n",
      "17            5.1          0.3      setosa\n",
      "18            5.7          0.3      setosa\n",
      "21            5.1          0.4      setosa\n",
      "23            5.1          0.5      setosa\n",
      "26            5.0          0.4      setosa\n",
      "27            5.2          0.2      setosa\n",
      "32            5.2          0.1      setosa\n",
      "33            5.5          0.2      setosa\n",
      "40            5.0          0.3      setosa\n",
      "41            4.5          0.3      setosa\n",
      "43            5.0          0.6      setosa\n",
      "45            4.8          0.3      setosa\n",
      "48            5.3          0.2      setosa\n",
      "50            7.0          1.4  versicolor\n",
      "51            6.4          1.5  versicolor\n",
      "52            6.9          1.5  versicolor\n",
      "53            5.5          1.3  versicolor\n",
      "54            6.5          1.5  versicolor\n",
      "55            5.7          1.3  versicolor\n",
      "56            6.3          1.6  versicolor\n",
      "57            4.9          1.0  versicolor\n",
      "58            6.6          1.3  versicolor\n",
      "59            5.2          1.4  versicolor\n",
      "60            5.0          1.0  versicolor\n",
      "61            5.9          1.5  versicolor\n",
      "62            6.0          1.0  versicolor\n",
      "63            6.1          1.4  versicolor\n",
      "64            5.6          1.3  versicolor\n",
      "65            6.7          1.4  versicolor\n",
      "66            5.6          1.5  versicolor\n",
      "67            5.8          1.0  versicolor\n",
      "68            6.2          1.5  versicolor\n",
      "69            5.6          1.1  versicolor\n",
      "70            5.9          1.8  versicolor\n",
      "71            6.1          1.3  versicolor\n",
      "72            6.3          1.5  versicolor\n",
      "73            6.1          1.2  versicolor\n",
      "74            6.4          1.3  versicolor\n",
      "75            6.6          1.4  versicolor\n",
      "76            6.8          1.4  versicolor\n",
      "77            6.7          1.7  versicolor\n",
      "78            6.0          1.5  versicolor\n",
      "79            5.7          1.0  versicolor\n",
      "80            5.5          1.1  versicolor\n",
      "81            5.5          1.0  versicolor\n",
      "82            5.8          1.2  versicolor\n",
      "83            6.0          1.6  versicolor\n",
      "84            5.4          1.5  versicolor\n",
      "86            6.7          1.5  versicolor\n",
      "87            6.3          1.3  versicolor\n",
      "90            5.5          1.2  versicolor\n",
      "95            5.7          1.2  versicolor\n",
      "97            6.2          1.3  versicolor\n",
      "98            5.1          1.1  versicolor\n",
      "100           6.3          2.5   virginica\n",
      "101           5.8          1.9   virginica\n",
      "102           7.1          2.1   virginica\n",
      "103           6.3          1.8   virginica\n",
      "104           6.5          2.2   virginica\n",
      "105           7.6          2.1   virginica\n",
      "106           4.9          1.7   virginica\n",
      "107           7.3          1.8   virginica\n",
      "108           6.7          1.8   virginica\n",
      "109           7.2          2.5   virginica\n",
      "110           6.5          2.0   virginica\n",
      "111           6.4          1.9   virginica\n",
      "112           6.8          2.1   virginica\n",
      "113           5.7          2.0   virginica\n",
      "114           5.8          2.4   virginica\n",
      "115           6.4          2.3   virginica\n",
      "116           6.5          1.8   virginica\n",
      "117           7.7          2.2   virginica\n",
      "118           7.7          2.3   virginica\n",
      "119           6.0          1.5   virginica\n",
      "120           6.9          2.3   virginica\n",
      "121           5.6          2.0   virginica\n",
      "122           7.7          2.0   virginica\n",
      "124           6.7          2.1   virginica\n",
      "125           7.2          1.8   virginica\n",
      "126           6.2          1.8   virginica\n",
      "127           6.1          1.8   virginica\n",
      "128           6.4          2.1   virginica\n",
      "129           7.2          1.6   virginica\n",
      "130           7.4          1.9   virginica\n",
      "131           7.9          2.0   virginica\n",
      "132           6.4          2.2   virginica\n",
      "133           6.3          1.5   virginica\n",
      "134           6.1          1.4   virginica\n",
      "136           6.3          2.4   virginica\n",
      "137           6.4          1.8   virginica\n",
      "138           6.0          1.8   virginica\n",
      "139           6.9          2.1   virginica\n",
      "140           6.7          2.4   virginica\n",
      "143           6.8          2.3   virginica\n",
      "144           6.7          2.5   virginica\n",
      "145           6.7          2.3   virginica\n",
      "146           6.3          1.9   virginica\n",
      "148           5.9          1.8   virginica\n"
     ]
    }
   ],
   "source": [
    "duplicates = iris[iris.duplicated()]\n",
    "print(\"Duplicate Entries:\")\n",
    "print(duplicates)\n",
    "\n",
    "df_cleaned = iris.drop_duplicates()\n",
    "print(\"Cleaned Dataset:\")\n",
    "print(df_cleaned)"
   ]
  },
  {
   "cell_type": "code",
   "execution_count": 37,
   "id": "5d6b8f39",
   "metadata": {},
   "outputs": [],
   "source": [
    "#### Filter employees having salary greater than 15k and experience greater than 4 years using the 'where' clause."
   ]
  },
  {
   "cell_type": "code",
   "execution_count": 29,
   "id": "070080fa-185c-4772-8573-c87824d99611",
   "metadata": {},
   "outputs": [
    {
     "name": "stdout",
     "output_type": "stream",
     "text": [
      "      name   salary  experience\n",
      "1      Bob  16000.0         5.0\n",
      "2  Charlie  18000.0         6.0\n"
     ]
    }
   ],
   "source": [
    "import pandas as pd\n",
    "data = {\n",
    "    'name': ['Alice', 'Bob', 'Charlie', 'David', 'Eve'],\n",
    "    'salary': [12000, 16000, 18000, 20000, 15000],\n",
    "    'experience': [3, 5, 6, 2, 4]\n",
    "}\n",
    "df_employees = pd.DataFrame(data)\n",
    "\n",
    "filtered_employees = df_employees.where((df_employees['salary'] > 15000) & (df_employees['experience'] > 4))\n",
    "\n",
    "filtered_employees = filtered_employees.dropna()\n",
    "print(filtered_employees)"
   ]
  },
  {
   "cell_type": "code",
   "execution_count": 39,
   "id": "fc6f60ec",
   "metadata": {},
   "outputs": [],
   "source": [
    "##### In dataframe df2 if age is greater than 21 update the name as P and marks as 88"
   ]
  },
  {
   "cell_type": "code",
   "execution_count": 30,
   "id": "8d974003-91af-4b9c-9677-d771ce22f561",
   "metadata": {},
   "outputs": [
    {
     "name": "stdout",
     "output_type": "stream",
     "text": [
      "    name  age  marks\n",
      "0      P   22     88\n",
      "1    Bob   19     90\n",
      "2      P   25     88\n",
      "3  David   20     88\n"
     ]
    }
   ],
   "source": [
    "import pandas as pd\n",
    "\n",
    "data = {\n",
    "    'name': ['Alice', 'Bob', 'Charlie', 'David'],\n",
    "    'age': [22, 19, 25, 20],\n",
    "    'marks': [85, 90, 75, 88]\n",
    "}\n",
    "\n",
    "df2 = pd.DataFrame(data)\n",
    "# Update 'name' and 'marks' where 'age' > 21\n",
    "df2.loc[df2['age'] > 21, ['name', 'marks']] = ['P', 88]\n",
    "# Output the result\n",
    "print(df2)"
   ]
  }
 ],
 "metadata": {
  "kernelspec": {
   "display_name": "Python 3 [3.10]",
   "language": "python",
   "name": "python3"
  },
  "language_info": {
   "codemirror_mode": {
    "name": "ipython",
    "version": 3
   },
   "file_extension": ".py",
   "mimetype": "text/x-python",
   "name": "python",
   "nbconvert_exporter": "python",
   "pygments_lexer": "ipython3",
   "version": "3.10.2"
  }
 },
 "nbformat": 4,
 "nbformat_minor": 5
}
