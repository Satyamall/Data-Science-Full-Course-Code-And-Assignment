{
 "cells": [
  {
   "cell_type": "code",
   "execution_count": 2,
   "id": "080d3891",
   "metadata": {},
   "outputs": [],
   "source": [
    "distance=[56,89,45,75,68]\n",
    "time=[0.3,2.1,1.3,1.9,3.2]"
   ]
  },
  {
   "cell_type": "code",
   "execution_count": 3,
   "id": "4d1afc4d",
   "metadata": {},
   "outputs": [
    {
     "ename": "TypeError",
     "evalue": "unsupported operand type(s) for /: 'list' and 'list'",
     "output_type": "error",
     "traceback": [
      "\u001b[1;31m---------------------------------------------------------------------------\u001b[0m",
      "\u001b[1;31mTypeError\u001b[0m                                 Traceback (most recent call last)",
      "Cell \u001b[1;32mIn[3], line 1\u001b[0m\n\u001b[1;32m----> 1\u001b[0m speed\u001b[38;5;241m=\u001b[39mdistance\u001b[38;5;241m/\u001b[39mtime\n",
      "\u001b[1;31mTypeError\u001b[0m: unsupported operand type(s) for /: 'list' and 'list'"
     ]
    }
   ],
   "source": [
    "speed=distance/time"
   ]
  },
  {
   "cell_type": "code",
   "execution_count": 4,
   "id": "75830a6e",
   "metadata": {},
   "outputs": [
    {
     "data": {
      "text/plain": [
       "[56, 89, 45, 75, 68, 56, 89, 45, 75, 68, 56, 89, 45, 75, 68]"
      ]
     },
     "execution_count": 4,
     "metadata": {},
     "output_type": "execute_result"
    }
   ],
   "source": [
    "distance*3"
   ]
  },
  {
   "cell_type": "code",
   "execution_count": 5,
   "id": "b4e665f3",
   "metadata": {},
   "outputs": [
    {
     "data": {
      "text/plain": [
       "[56, 89, 45, 75, 68, 0.3, 2.1, 1.3, 1.9, 3.2]"
      ]
     },
     "execution_count": 5,
     "metadata": {},
     "output_type": "execute_result"
    }
   ],
   "source": [
    "distance+time"
   ]
  },
  {
   "cell_type": "code",
   "execution_count": 9,
   "id": "53b129b2",
   "metadata": {},
   "outputs": [],
   "source": [
    "import numpy as np"
   ]
  },
  {
   "cell_type": "code",
   "execution_count": 10,
   "id": "72cd9870",
   "metadata": {},
   "outputs": [],
   "source": [
    "dist_array=np.array(distance)\n",
    "time_array=np.array(time)"
   ]
  },
  {
   "cell_type": "code",
   "execution_count": 11,
   "id": "2e431ccc",
   "metadata": {},
   "outputs": [
    {
     "data": {
      "text/plain": [
       "array([186.66666667,  42.38095238,  34.61538462,  39.47368421,\n",
       "        21.25      ])"
      ]
     },
     "execution_count": 11,
     "metadata": {},
     "output_type": "execute_result"
    }
   ],
   "source": [
    "speed=dist_array/time_array\n",
    "speed"
   ]
  },
  {
   "cell_type": "code",
   "execution_count": 12,
   "id": "57097c0e",
   "metadata": {},
   "outputs": [],
   "source": [
    "### arrays are data structures which can be created using the numpy package. It supports mixed data types."
   ]
  },
  {
   "cell_type": "code",
   "execution_count": 13,
   "id": "ecf3181d",
   "metadata": {},
   "outputs": [
    {
     "name": "stdout",
     "output_type": "stream",
     "text": [
      "<class 'numpy.ndarray'>\n"
     ]
    }
   ],
   "source": [
    "print(type(dist_array))"
   ]
  },
  {
   "cell_type": "markdown",
   "id": "66e2687a",
   "metadata": {},
   "source": [
    "##### We combine 0D arrays to get a 1D array,we combine 1D arrays to get a 2D array. And we combine 2D arrays to get a 3D array."
   ]
  },
  {
   "cell_type": "code",
   "execution_count": 14,
   "id": "ebace088",
   "metadata": {},
   "outputs": [
    {
     "name": "stdout",
     "output_type": "stream",
     "text": [
      "<class 'numpy.ndarray'>\n",
      "0\n"
     ]
    }
   ],
   "source": [
    "###0D arrays-\n",
    "array_0D=np.array(90)\n",
    "print(type(array_0D))\n",
    "print(array_0D.ndim)\n"
   ]
  },
  {
   "cell_type": "code",
   "execution_count": 17,
   "id": "33305536",
   "metadata": {},
   "outputs": [
    {
     "name": "stdout",
     "output_type": "stream",
     "text": [
      "<class 'numpy.ndarray'>\n",
      "1\n",
      "[ 7.   9.   2.  13.5]\n",
      "float64\n"
     ]
    }
   ],
   "source": [
    "###1D array:\n",
    "array_1d=np.array([7,9,2,13.5],dtype='float')\n",
    "print(type(array_1d))\n",
    "print(array_1d.ndim)\n",
    "print(array_1d)\n",
    "print(array_1d.dtype)"
   ]
  },
  {
   "cell_type": "code",
   "execution_count": 19,
   "id": "1ab4c272",
   "metadata": {},
   "outputs": [
    {
     "name": "stdout",
     "output_type": "stream",
     "text": [
      "[[ 3  5  6  7  8]\n",
      " [ 9 10 11 12 13]\n",
      " [ 0  5  1  3  8]]\n",
      "2\n",
      "int32\n",
      "(3, 5)\n",
      "15\n"
     ]
    }
   ],
   "source": [
    "####2D array-:\n",
    "array_2D=np.array([[3,5,6,7,8],[9,10,11,12,13],[0,5,1,3,8]])\n",
    "print(array_2D)\n",
    "print(array_2D.ndim)\n",
    "print(array_2D.dtype)\n",
    "print(array_2D.shape)\n",
    "print(array_2D.size)"
   ]
  },
  {
   "cell_type": "code",
   "execution_count": 20,
   "id": "44eaeee4",
   "metadata": {},
   "outputs": [
    {
     "name": "stdout",
     "output_type": "stream",
     "text": [
      "[[[ 3  4  5]\n",
      "  [ 6  7  8]]\n",
      "\n",
      " [[ 9 10 11]\n",
      "  [12 13 14]]]\n",
      "3\n",
      "int32\n",
      "(2, 2, 3)\n",
      "12\n"
     ]
    }
   ],
   "source": [
    "array_3d=np.array([[[3,4,5],[6,7,8]],[[9,10,11],[12,13,14]]])\n",
    "print(array_3d)\n",
    "print(array_3d.ndim)\n",
    "print(array_3d.dtype)\n",
    "print(array_3d.shape)\n",
    "print(array_3d.size)"
   ]
  },
  {
   "cell_type": "markdown",
   "id": "4f9ac21f",
   "metadata": {},
   "source": [
    "#### Conversion of a lower dimensional array to a higher dimensional array,by adding dimensions."
   ]
  },
  {
   "cell_type": "code",
   "execution_count": 23,
   "id": "f81b650b",
   "metadata": {},
   "outputs": [
    {
     "name": "stdout",
     "output_type": "stream",
     "text": [
      "[ 2  3  4  5  6  7  8  9 10 11 12 13]\n",
      "1\n",
      "12\n",
      "int32\n",
      "(12,)\n"
     ]
    }
   ],
   "source": [
    "arr1d=np.array([2,3,4,5,6,7,8,9,10,11,12,13])\n",
    "print(arr1d)\n",
    "print(arr1d.ndim)\n",
    "print(arr1d.size)\n",
    "print(arr1d.dtype)\n",
    "print(arr1d.shape)"
   ]
  },
  {
   "cell_type": "code",
   "execution_count": 22,
   "id": "2da02553",
   "metadata": {},
   "outputs": [
    {
     "name": "stdout",
     "output_type": "stream",
     "text": [
      "[[ 2  3]\n",
      " [ 4  5]\n",
      " [ 6  7]\n",
      " [ 8  9]\n",
      " [10 11]\n",
      " [12 13]]\n",
      "2\n",
      "12\n",
      "int32\n"
     ]
    }
   ],
   "source": [
    "arr2d=arr1d.reshape(6,2)\n",
    "print(arr2d)\n",
    "print(arr2d.ndim)\n",
    "print(arr2d.size)\n",
    "print(arr2d.dtype)"
   ]
  },
  {
   "cell_type": "code",
   "execution_count": 24,
   "id": "d576c074",
   "metadata": {},
   "outputs": [
    {
     "data": {
      "text/plain": [
       "array([ 2,  3,  4,  5,  6,  7,  8,  9, 10, 11, 12, 13])"
      ]
     },
     "execution_count": 24,
     "metadata": {},
     "output_type": "execute_result"
    }
   ],
   "source": [
    "arr1d"
   ]
  },
  {
   "cell_type": "code",
   "execution_count": 25,
   "id": "0dbcf13d",
   "metadata": {},
   "outputs": [
    {
     "name": "stdout",
     "output_type": "stream",
     "text": [
      "[[[ 2  3]\n",
      "  [ 4  5]]\n",
      "\n",
      " [[ 6  7]\n",
      "  [ 8  9]]\n",
      "\n",
      " [[10 11]\n",
      "  [12 13]]]\n",
      "3\n",
      "12\n",
      "int32\n"
     ]
    }
   ],
   "source": [
    "##convert to a 3D array:\n",
    "arr3d=arr1d.reshape(3,2,2)\n",
    "print(arr3d)\n",
    "print(arr3d.ndim)\n",
    "print(arr3d.size)\n",
    "print(arr3d.dtype)"
   ]
  },
  {
   "cell_type": "code",
   "execution_count": 26,
   "id": "3b0aa35d",
   "metadata": {},
   "outputs": [],
   "source": [
    "###Q) create a 1D array with first 9 natural numbers. Then add a dimension to convert the same to a 2D array."
   ]
  },
  {
   "cell_type": "code",
   "execution_count": 37,
   "id": "c59f7da4",
   "metadata": {},
   "outputs": [
    {
     "name": "stdout",
     "output_type": "stream",
     "text": [
      "[1 2 3 4 5 6 7 8 9]\n",
      "[[1 2 3]\n",
      " [4 5 6]\n",
      " [7 8 9]]\n"
     ]
    }
   ],
   "source": [
    "arr6=np.arange(1,10)\n",
    "print(arr6)\n",
    "reshaped_arr6=np.reshape(arr6,(3,3))\n",
    "print(reshaped_arr6)"
   ]
  },
  {
   "cell_type": "code",
   "execution_count": 28,
   "id": "9dd1fde7",
   "metadata": {},
   "outputs": [],
   "source": [
    "####Q) create a 2D array with 6 rows and 3 columns . reshape it to a 3D array"
   ]
  },
  {
   "cell_type": "markdown",
   "id": "49a35dc5",
   "metadata": {},
   "source": [
    "### we have a module called 'random' which provides functions for generating random numbers from a standard normal dist,a standard normal dist have 0 mean and std=1"
   ]
  },
  {
   "cell_type": "code",
   "execution_count": 41,
   "id": "c693458d",
   "metadata": {},
   "outputs": [
    {
     "name": "stdout",
     "output_type": "stream",
     "text": [
      "[[0.13248196 0.78922048 0.90939262]\n",
      " [0.15527765 0.62357934 0.32651432]\n",
      " [0.64253794 0.41180134 0.81394446]\n",
      " [0.1013889  0.24728158 0.94971384]\n",
      " [0.47151377 0.97334275 0.62191843]\n",
      " [0.61436758 0.91196283 0.23616351]]\n",
      "------------------------------\n",
      "[[[0.13248196 0.78922048 0.90939262]\n",
      "  [0.15527765 0.62357934 0.32651432]\n",
      "  [0.64253794 0.41180134 0.81394446]]\n",
      "\n",
      " [[0.1013889  0.24728158 0.94971384]\n",
      "  [0.47151377 0.97334275 0.62191843]\n",
      "  [0.61436758 0.91196283 0.23616351]]]\n"
     ]
    }
   ],
   "source": [
    "arr7=np.random.rand(6,3)\n",
    "print(arr7)      #all the random numbers we got will lie between 0 and 1\n",
    "\n",
    "print('------------------------------')\n",
    "reshaped_arr7=arr7.reshape(2,3,3)\n",
    "print(reshaped_arr7)"
   ]
  },
  {
   "cell_type": "markdown",
   "id": "4bb1e42f",
   "metadata": {},
   "source": [
    "#### Convert a higher dimentional array to a lower dimentional array- we use two functions ravel() and flatten()."
   ]
  },
  {
   "cell_type": "code",
   "execution_count": 29,
   "id": "c41f9292",
   "metadata": {},
   "outputs": [
    {
     "data": {
      "text/plain": [
       "array([ 2,  3,  4,  5,  6,  7,  8,  9, 10, 11, 12, 13])"
      ]
     },
     "execution_count": 29,
     "metadata": {},
     "output_type": "execute_result"
    }
   ],
   "source": [
    "arr_lowerd=arr3d.flatten()\n",
    "arr_lowerd"
   ]
  },
  {
   "cell_type": "code",
   "execution_count": 30,
   "id": "1f1fec9c",
   "metadata": {},
   "outputs": [
    {
     "data": {
      "text/plain": [
       "array([ 2,  3,  4,  5,  6,  7,  8,  9, 10, 11, 12, 13])"
      ]
     },
     "execution_count": 30,
     "metadata": {},
     "output_type": "execute_result"
    }
   ],
   "source": [
    "arr_lowerdd=arr2d.ravel()\n",
    "arr_lowerdd"
   ]
  },
  {
   "cell_type": "code",
   "execution_count": 31,
   "id": "4fae8941",
   "metadata": {},
   "outputs": [],
   "source": [
    "#create two arrays one having elements 30,20,10 and the second having elements 40,50,60 and perform the basic mathematical\n",
    "#operations."
   ]
  },
  {
   "cell_type": "code",
   "execution_count": 34,
   "id": "d11ea974",
   "metadata": {},
   "outputs": [
    {
     "name": "stdout",
     "output_type": "stream",
     "text": [
      "sum = [70 70 70]\n",
      "multiplication = [1200 1000  600]\n",
      "division = [1.33333333 2.5        6.        ]\n",
      "subtraction = [10 30 50]\n"
     ]
    }
   ],
   "source": [
    "a = np.array([30,20,10])\n",
    "b = np.array([40,50,60])\n",
    "sum = a+b\n",
    "mult = a*b\n",
    "div = b/a\n",
    "sub = b-a\n",
    "print(f\"sum = {sum}\\nmultiplication = {mult}\\ndivision = {div}\\nsubtraction = {sub}\")"
   ]
  },
  {
   "cell_type": "code",
   "execution_count": 32,
   "id": "fb89d580",
   "metadata": {},
   "outputs": [
    {
     "data": {
      "text/plain": [
       "array([[ 4,  3,  2],\n",
       "       [10,  1,  0],\n",
       "       [ 5,  8, 24]])"
      ]
     },
     "execution_count": 32,
     "metadata": {},
     "output_type": "execute_result"
    }
   ],
   "source": [
    "###statistical operations-:\n",
    "array4=np.array([[4,3,2],[10,1,0],[5,8,24]])\n",
    "array4"
   ]
  },
  {
   "cell_type": "code",
   "execution_count": 33,
   "id": "bbc8cedf",
   "metadata": {},
   "outputs": [],
   "source": [
    "####perform basic statistical operations like mean,median,std,var."
   ]
  },
  {
   "cell_type": "code",
   "execution_count": 35,
   "id": "0165e966",
   "metadata": {
    "scrolled": true
   },
   "outputs": [
    {
     "name": "stdout",
     "output_type": "stream",
     "text": [
      "array = [[ 4  3  2]\n",
      " [10  1  0]\n",
      " [ 5  8 24]]\n",
      "mean = 6.333333333333333\n",
      "median = 4.0\n",
      "standard deviation = 6.944222218666553\n",
      "variance = 48.22222222222222\n"
     ]
    }
   ],
   "source": [
    "mean = np.mean(array4)\n",
    "median = np.median(array4)\n",
    "std = np.std(array4)\n",
    "var = np.var(array4)\n",
    "print(f\"array = {array4}\\nmean = {mean}\\nmedian = {median}\\nstandard deviation = {std}\\nvariance = {var}\")"
   ]
  },
  {
   "cell_type": "markdown",
   "id": "16007a31",
   "metadata": {},
   "source": [
    "##### Indexing"
   ]
  },
  {
   "cell_type": "code",
   "execution_count": 2,
   "id": "140e8ac7",
   "metadata": {},
   "outputs": [],
   "source": [
    "import numpy as np"
   ]
  },
  {
   "cell_type": "code",
   "execution_count": 3,
   "id": "cd9217c4",
   "metadata": {},
   "outputs": [],
   "source": [
    "arr_1d=np.array([1,2,3,4,5])"
   ]
  },
  {
   "cell_type": "code",
   "execution_count": 4,
   "id": "011de645",
   "metadata": {},
   "outputs": [
    {
     "data": {
      "text/plain": [
       "array([[ 1,  2,  3,  4,  5],\n",
       "       [ 6,  7,  8,  9, 10],\n",
       "       [11, 12, 13, 14, 15]])"
      ]
     },
     "execution_count": 4,
     "metadata": {},
     "output_type": "execute_result"
    }
   ],
   "source": [
    "arr_2d=np.array([[1,2,3,4,5],[6,7,8,9,10],[11,12,13,14,15]])\n",
    "arr_2d"
   ]
  },
  {
   "cell_type": "code",
   "execution_count": 5,
   "id": "0a3902b1",
   "metadata": {},
   "outputs": [
    {
     "data": {
      "text/plain": [
       "array([[[ 1,  2,  3],\n",
       "        [ 4,  5,  6]],\n",
       "\n",
       "       [[ 7,  8,  9],\n",
       "        [10, 11, 12]],\n",
       "\n",
       "       [[13, 14, 15],\n",
       "        [16, 17, 18]]])"
      ]
     },
     "execution_count": 5,
     "metadata": {},
     "output_type": "execute_result"
    }
   ],
   "source": [
    "arr_3d=np.array([[[1,2,3],[4,5,6]],[[7,8,9],[10,11,12]],[[13,14,15],[16,17,18]]])\n",
    "arr_3d"
   ]
  },
  {
   "cell_type": "code",
   "execution_count": 6,
   "id": "bc054411",
   "metadata": {},
   "outputs": [
    {
     "name": "stdout",
     "output_type": "stream",
     "text": [
      "4\n",
      "4\n"
     ]
    }
   ],
   "source": [
    "###print 4 from the 1D array:\n",
    "print(arr_1d[3])\n",
    "print(arr_1d[-2])"
   ]
  },
  {
   "cell_type": "code",
   "execution_count": 7,
   "id": "ffa15467",
   "metadata": {},
   "outputs": [
    {
     "data": {
      "text/plain": [
       "6"
      ]
     },
     "execution_count": 7,
     "metadata": {},
     "output_type": "execute_result"
    }
   ],
   "source": [
    "### find out the sum of the 4th and 2nd element of the 1d array:\n",
    "sum1=arr_1d[3]+arr_1d[1]\n",
    "sum1\n"
   ]
  },
  {
   "cell_type": "code",
   "execution_count": 8,
   "id": "2e675870",
   "metadata": {},
   "outputs": [
    {
     "data": {
      "text/plain": [
       "array([[ 1,  2,  3,  4,  5],\n",
       "       [ 6,  7,  8,  9, 10],\n",
       "       [11, 12, 13, 14, 15]])"
      ]
     },
     "execution_count": 8,
     "metadata": {},
     "output_type": "execute_result"
    }
   ],
   "source": [
    "arr_2d"
   ]
  },
  {
   "cell_type": "code",
   "execution_count": 9,
   "id": "365da441",
   "metadata": {},
   "outputs": [
    {
     "data": {
      "text/plain": [
       "3"
      ]
     },
     "execution_count": 9,
     "metadata": {},
     "output_type": "execute_result"
    }
   ],
   "source": [
    "### how do i slice 3(3rd element of the first row)\n",
    "arr_2d[0,2]"
   ]
  },
  {
   "cell_type": "code",
   "execution_count": 10,
   "id": "9727236c",
   "metadata": {},
   "outputs": [
    {
     "data": {
      "text/plain": [
       "14"
      ]
     },
     "execution_count": 10,
     "metadata": {},
     "output_type": "execute_result"
    }
   ],
   "source": [
    "### how do i slice 14 from arr_2d?\n",
    "arr_2d[2,3]"
   ]
  },
  {
   "cell_type": "code",
   "execution_count": 11,
   "id": "56ef4e54",
   "metadata": {},
   "outputs": [
    {
     "data": {
      "text/plain": [
       "14"
      ]
     },
     "execution_count": 11,
     "metadata": {},
     "output_type": "execute_result"
    }
   ],
   "source": [
    "arr_2d[-1,-2]"
   ]
  },
  {
   "cell_type": "code",
   "execution_count": 12,
   "id": "848080b4",
   "metadata": {},
   "outputs": [
    {
     "data": {
      "text/plain": [
       "array([[[ 1,  2,  3],\n",
       "        [ 4,  5,  6]],\n",
       "\n",
       "       [[ 7,  8,  9],\n",
       "        [10, 11, 12]],\n",
       "\n",
       "       [[13, 14, 15],\n",
       "        [16, 17, 18]]])"
      ]
     },
     "execution_count": 12,
     "metadata": {},
     "output_type": "execute_result"
    }
   ],
   "source": [
    "arr_3d"
   ]
  },
  {
   "cell_type": "code",
   "execution_count": 13,
   "id": "f01ee16e",
   "metadata": {},
   "outputs": [
    {
     "data": {
      "text/plain": [
       "16"
      ]
     },
     "execution_count": 13,
     "metadata": {},
     "output_type": "execute_result"
    }
   ],
   "source": [
    "###slice out 16 from arr_3d\n",
    "arr_3d[2,1,0]"
   ]
  },
  {
   "cell_type": "code",
   "execution_count": 14,
   "id": "13780d6f",
   "metadata": {},
   "outputs": [],
   "source": [
    "###Q)slice out 7,10,9,12 from the 3D array"
   ]
  },
  {
   "cell_type": "code",
   "execution_count": 15,
   "id": "f8fa9b08",
   "metadata": {},
   "outputs": [
    {
     "name": "stdout",
     "output_type": "stream",
     "text": [
      "7 10 9 12\n"
     ]
    }
   ],
   "source": [
    "seven=arr_3d[1,0,0]\n",
    "ten=arr_3d[1,1,0]\n",
    "nine=arr_3d[1,0,2]\n",
    "twelve=arr_3d[1,1,2]\n",
    "\n",
    "print(seven,ten,nine,twelve)"
   ]
  },
  {
   "cell_type": "code",
   "execution_count": 15,
   "id": "98b4dd8c",
   "metadata": {},
   "outputs": [],
   "source": [
    "###Q) slice out the second row (10,11,12) from arr_3d"
   ]
  },
  {
   "cell_type": "code",
   "execution_count": 16,
   "id": "130fc13d",
   "metadata": {},
   "outputs": [
    {
     "data": {
      "text/plain": [
       "array([[10, 11, 12]])"
      ]
     },
     "execution_count": 16,
     "metadata": {},
     "output_type": "execute_result"
    }
   ],
   "source": [
    "res=arr_3d[1,1:]\n",
    "res"
   ]
  },
  {
   "cell_type": "code",
   "execution_count": 17,
   "id": "1c4e00e6",
   "metadata": {},
   "outputs": [
    {
     "data": {
      "text/plain": [
       "array([10, 11, 12])"
      ]
     },
     "execution_count": 17,
     "metadata": {},
     "output_type": "execute_result"
    }
   ],
   "source": [
    "arr_3d[1,1,:]"
   ]
  },
  {
   "cell_type": "code",
   "execution_count": 19,
   "id": "519884d3",
   "metadata": {},
   "outputs": [
    {
     "data": {
      "text/plain": [
       "array([[ 7,  8,  9],\n",
       "       [10, 11, 12]])"
      ]
     },
     "execution_count": 19,
     "metadata": {},
     "output_type": "execute_result"
    }
   ],
   "source": [
    "arr_3d[1,0:]"
   ]
  },
  {
   "cell_type": "code",
   "execution_count": 18,
   "id": "e1c7bc93",
   "metadata": {},
   "outputs": [
    {
     "data": {
      "text/plain": [
       "array([10, 11, 12])"
      ]
     },
     "execution_count": 18,
     "metadata": {},
     "output_type": "execute_result"
    }
   ],
   "source": [
    "arr_3d[1,1]"
   ]
  },
  {
   "cell_type": "markdown",
   "id": "d2ced399",
   "metadata": {},
   "source": [
    "#### Slicing creates a view of the original array. indexing on the other hand creates a copy of the original array."
   ]
  },
  {
   "cell_type": "code",
   "execution_count": 20,
   "id": "3bb92029",
   "metadata": {},
   "outputs": [],
   "source": [
    "x=np.array([4,5,6])"
   ]
  },
  {
   "cell_type": "code",
   "execution_count": 21,
   "id": "df46ca99",
   "metadata": {},
   "outputs": [],
   "source": [
    "y=x.copy()"
   ]
  },
  {
   "cell_type": "code",
   "execution_count": 22,
   "id": "f9b91c7b",
   "metadata": {},
   "outputs": [],
   "source": [
    "x[1]=10"
   ]
  },
  {
   "cell_type": "code",
   "execution_count": 23,
   "id": "d00ae427",
   "metadata": {},
   "outputs": [
    {
     "data": {
      "text/plain": [
       "array([ 4, 10,  6])"
      ]
     },
     "execution_count": 23,
     "metadata": {},
     "output_type": "execute_result"
    }
   ],
   "source": [
    "x"
   ]
  },
  {
   "cell_type": "code",
   "execution_count": 24,
   "id": "cf7002e2",
   "metadata": {},
   "outputs": [
    {
     "data": {
      "text/plain": [
       "array([4, 5, 6])"
      ]
     },
     "execution_count": 24,
     "metadata": {},
     "output_type": "execute_result"
    }
   ],
   "source": [
    "y"
   ]
  },
  {
   "cell_type": "code",
   "execution_count": 25,
   "id": "e5b97d07",
   "metadata": {},
   "outputs": [],
   "source": [
    "###copy is independent of the original array."
   ]
  },
  {
   "cell_type": "code",
   "execution_count": 26,
   "id": "92a657e3",
   "metadata": {},
   "outputs": [],
   "source": [
    "z=x.view()"
   ]
  },
  {
   "cell_type": "code",
   "execution_count": 27,
   "id": "52e27edb",
   "metadata": {},
   "outputs": [],
   "source": [
    "x[-1]=60"
   ]
  },
  {
   "cell_type": "code",
   "execution_count": 28,
   "id": "5338ae21",
   "metadata": {},
   "outputs": [
    {
     "data": {
      "text/plain": [
       "array([ 4, 10, 60])"
      ]
     },
     "execution_count": 28,
     "metadata": {},
     "output_type": "execute_result"
    }
   ],
   "source": [
    "x"
   ]
  },
  {
   "cell_type": "code",
   "execution_count": 29,
   "id": "d8c247f0",
   "metadata": {},
   "outputs": [
    {
     "data": {
      "text/plain": [
       "array([ 4, 10, 60])"
      ]
     },
     "execution_count": 29,
     "metadata": {},
     "output_type": "execute_result"
    }
   ],
   "source": [
    "z"
   ]
  },
  {
   "cell_type": "code",
   "execution_count": 30,
   "id": "14e48ce7",
   "metadata": {},
   "outputs": [
    {
     "data": {
      "text/plain": [
       "array([4, 5, 6])"
      ]
     },
     "execution_count": 30,
     "metadata": {},
     "output_type": "execute_result"
    }
   ],
   "source": [
    "y"
   ]
  },
  {
   "cell_type": "code",
   "execution_count": 31,
   "id": "c686ddc6",
   "metadata": {},
   "outputs": [],
   "source": [
    "### view is dependent on the original array. if we make any changes in the original array,the view gets impacted."
   ]
  },
  {
   "cell_type": "code",
   "execution_count": 32,
   "id": "a708021b",
   "metadata": {},
   "outputs": [],
   "source": [
    "employee_rating=np.array([1,4,3,5,6,8,9,10,12])"
   ]
  },
  {
   "cell_type": "code",
   "execution_count": 33,
   "id": "488cd586",
   "metadata": {},
   "outputs": [
    {
     "data": {
      "text/plain": [
       "array([4, 3, 5, 6, 8, 9])"
      ]
     },
     "execution_count": 33,
     "metadata": {},
     "output_type": "execute_result"
    }
   ],
   "source": [
    "###I want 4-9 elements to be sliced out from employee rating.\n",
    "employee_rating[1:7]"
   ]
  },
  {
   "cell_type": "code",
   "execution_count": null,
   "id": "fc0aa262",
   "metadata": {},
   "outputs": [],
   "source": [
    "###step method:\n",
    "#syntax=[start:stop:step]"
   ]
  },
  {
   "cell_type": "code",
   "execution_count": 34,
   "id": "60bd9ed7",
   "metadata": {},
   "outputs": [
    {
     "data": {
      "text/plain": [
       "array([4, 6])"
      ]
     },
     "execution_count": 34,
     "metadata": {},
     "output_type": "execute_result"
    }
   ],
   "source": [
    "employee_rating[1:6:3]"
   ]
  },
  {
   "cell_type": "code",
   "execution_count": 35,
   "id": "9d65c15e",
   "metadata": {},
   "outputs": [
    {
     "data": {
      "text/plain": [
       "array([4, 5, 8])"
      ]
     },
     "execution_count": 35,
     "metadata": {},
     "output_type": "execute_result"
    }
   ],
   "source": [
    "employee_rating[1:6:2]"
   ]
  },
  {
   "cell_type": "code",
   "execution_count": 36,
   "id": "241b53ea",
   "metadata": {},
   "outputs": [
    {
     "data": {
      "text/plain": [
       "array([ 3,  5,  6,  8,  9, 10])"
      ]
     },
     "execution_count": 36,
     "metadata": {},
     "output_type": "execute_result"
    }
   ],
   "source": [
    "employee_rating[2:8:1]"
   ]
  },
  {
   "cell_type": "code",
   "execution_count": 37,
   "id": "8a40b5a6",
   "metadata": {},
   "outputs": [],
   "source": [
    "#### we use the step method when we want to skip elements while reading within a specific range. we will\n",
    "#### always skip=step-1 elements."
   ]
  },
  {
   "cell_type": "code",
   "execution_count": 38,
   "id": "199cca57",
   "metadata": {},
   "outputs": [
    {
     "data": {
      "text/plain": [
       "array([ 1,  4,  3,  5,  6,  8,  9, 10, 12])"
      ]
     },
     "execution_count": 38,
     "metadata": {},
     "output_type": "execute_result"
    }
   ],
   "source": [
    "### Q) i want only 1 and 6 sliced out from employee rating.\n",
    "employee_rating"
   ]
  },
  {
   "cell_type": "code",
   "execution_count": 39,
   "id": "344de471",
   "metadata": {},
   "outputs": [
    {
     "data": {
      "text/plain": [
       "array([1, 6])"
      ]
     },
     "execution_count": 39,
     "metadata": {},
     "output_type": "execute_result"
    }
   ],
   "source": [
    "employee_rating[0:5:4]"
   ]
  },
  {
   "cell_type": "code",
   "execution_count": 40,
   "id": "977bb5eb",
   "metadata": {},
   "outputs": [
    {
     "data": {
      "text/plain": [
       "array([1, 6])"
      ]
     },
     "execution_count": 40,
     "metadata": {},
     "output_type": "execute_result"
    }
   ],
   "source": [
    "employee_rating[:8:4]"
   ]
  },
  {
   "cell_type": "code",
   "execution_count": 42,
   "id": "1eac5a47",
   "metadata": {},
   "outputs": [
    {
     "data": {
      "text/plain": [
       "array([ 0,  1,  2,  3,  4,  5,  6,  7,  8,  9, 10, 11, 12, 13, 14, 15, 16,\n",
       "       17, 18, 19, 20])"
      ]
     },
     "execution_count": 42,
     "metadata": {},
     "output_type": "execute_result"
    }
   ],
   "source": [
    "a1=np.arange(21)\n",
    "a1"
   ]
  },
  {
   "cell_type": "code",
   "execution_count": 43,
   "id": "6e187486",
   "metadata": {},
   "outputs": [],
   "source": [
    "###Q)slice out 14 and 16 from the array a1"
   ]
  },
  {
   "cell_type": "code",
   "execution_count": 45,
   "id": "c13edfe6",
   "metadata": {},
   "outputs": [],
   "source": [
    "####Q) slice out 11,14,17 using the step method from a1"
   ]
  },
  {
   "cell_type": "code",
   "execution_count": 50,
   "id": "1cdc39b2",
   "metadata": {},
   "outputs": [
    {
     "name": "stdout",
     "output_type": "stream",
     "text": [
      "[14 16]\n",
      "[14 16]\n"
     ]
    }
   ],
   "source": [
    "print(a1[14:17:2])\n",
    "print(a1[-7:-4:2])"
   ]
  },
  {
   "cell_type": "code",
   "execution_count": 47,
   "id": "316bb7d2",
   "metadata": {},
   "outputs": [
    {
     "data": {
      "text/plain": [
       "array([11, 14, 17])"
      ]
     },
     "execution_count": 47,
     "metadata": {},
     "output_type": "execute_result"
    }
   ],
   "source": [
    "a1[11:18:3]"
   ]
  },
  {
   "cell_type": "code",
   "execution_count": 51,
   "id": "047aed30",
   "metadata": {},
   "outputs": [
    {
     "data": {
      "text/plain": [
       "array([11, 14, 17])"
      ]
     },
     "execution_count": 51,
     "metadata": {},
     "output_type": "execute_result"
    }
   ],
   "source": [
    "a1[-10:-3:3]"
   ]
  },
  {
   "cell_type": "code",
   "execution_count": 52,
   "id": "140cd379",
   "metadata": {},
   "outputs": [],
   "source": [
    "### Print all the elements of a1 in the reverse order"
   ]
  },
  {
   "cell_type": "code",
   "execution_count": 55,
   "id": "74db9372",
   "metadata": {},
   "outputs": [
    {
     "name": "stdout",
     "output_type": "stream",
     "text": [
      "[20 19 18 17 16 15 14 13 12 11 10  9  8  7  6  5  4  3  2  1  0]\n"
     ]
    }
   ],
   "source": [
    "reverse = a1[::-1]\n",
    "print(reverse)"
   ]
  },
  {
   "cell_type": "code",
   "execution_count": 53,
   "id": "caf2c107",
   "metadata": {},
   "outputs": [],
   "source": [
    "### create an array with elements 1,2,3,4 and slice out 2,4 using the step method."
   ]
  },
  {
   "cell_type": "code",
   "execution_count": 57,
   "id": "30c3800e",
   "metadata": {},
   "outputs": [
    {
     "name": "stdout",
     "output_type": "stream",
     "text": [
      "[2 4]\n"
     ]
    }
   ],
   "source": [
    "a2 = np.array([1,2,3,4])\n",
    "print(a2[1::2])"
   ]
  },
  {
   "cell_type": "code",
   "execution_count": 54,
   "id": "5ce63244",
   "metadata": {},
   "outputs": [],
   "source": [
    "### slice out 3,4 from the above array using negetive slicing."
   ]
  },
  {
   "cell_type": "code",
   "execution_count": 59,
   "id": "e169dd60",
   "metadata": {},
   "outputs": [
    {
     "name": "stdout",
     "output_type": "stream",
     "text": [
      "[3 4]\n"
     ]
    }
   ],
   "source": [
    "print(a1[-2:])"
   ]
  },
  {
   "cell_type": "code",
   "execution_count": 60,
   "id": "29ef3037",
   "metadata": {},
   "outputs": [
    {
     "name": "stdout",
     "output_type": "stream",
     "text": [
      "[3 4]\n"
     ]
    }
   ],
   "source": [
    "print(a1[-2::1])"
   ]
  },
  {
   "cell_type": "code",
   "execution_count": null,
   "id": "8aa62f07",
   "metadata": {},
   "outputs": [],
   "source": []
  },
  {
   "cell_type": "code",
   "execution_count": null,
   "id": "5678f6da",
   "metadata": {},
   "outputs": [],
   "source": []
  },
  {
   "cell_type": "code",
   "execution_count": null,
   "id": "54fafa45",
   "metadata": {},
   "outputs": [],
   "source": []
  },
  {
   "cell_type": "markdown",
   "id": "599826db",
   "metadata": {},
   "source": [
    "#### As a data scientist,your task is to create a python object that explores numpy's attributes and functions.Use the dataset containing daily temperature records for a week\n",
    "* temperatures=[76.2,78.2,74.5,79.3,82.6,79.8,66.5,71.6]\n",
    "* 1) Explore the key attributes-ndim,shape,size\n",
    "* 2) demonstrate numpy array functions like reshape,flatten,transpose."
   ]
  },
  {
   "cell_type": "code",
   "execution_count": 54,
   "id": "3fc8446b",
   "metadata": {},
   "outputs": [
    {
     "name": "stdout",
     "output_type": "stream",
     "text": [
      "dimension = 1\n",
      "shape = (8,)\n",
      "size = 8\n",
      "Reshaping to create 2D array \n",
      " [[76.2 78.2 74.5 79.3]\n",
      " [82.6 79.8 66.5 71.6]]\n",
      "Reshaping to create 3D array \n",
      "[[[76.2 78.2]\n",
      "  [74.5 79.3]]\n",
      "\n",
      " [[82.6 79.8]\n",
      "  [66.5 71.6]]]\n",
      "\n",
      "Using flatten to create 1D array = [76.2 78.2 74.5 79.3 82.6 79.8 66.5 71.6]\n",
      "Transpose\n",
      "[[76.2 82.6]\n",
      " [78.2 79.8]\n",
      " [74.5 66.5]\n",
      " [79.3 71.6]]\n"
     ]
    }
   ],
   "source": [
    "temperatures=[76.2,78.2,74.5,79.3,82.6,79.8,66.5,71.6]\n",
    "temp = np.array(temperatures)\n",
    "#1\n",
    "dimension = temp.ndim \n",
    "shape = temp.shape\n",
    "size = temp.size\n",
    "print(f\"dimension = {dimension}\\nshape = {shape}\\nsize = {size}\")\n",
    "#2\n",
    "two_d = temp.reshape(2,4)\n",
    "three_d = temp.reshape(2,2,2)\n",
    "flat = three_d.flatten()\n",
    "trans = np.transpose(two_d)\n",
    "print(f\"Reshaping to create 2D array \\n {two_d}\\nReshaping to create 3D array \\n{three_d}\\n\\nUsing flatten to create 1D array = {flat}\\nTranspose\\n{trans}\")"
   ]
  },
  {
   "cell_type": "markdown",
   "id": "d612cb8a",
   "metadata": {},
   "source": [
    "###### Q)Create a 3D array using elements from 5-16,convert it to a 2D array and finally to a 1D array using the flatten method"
   ]
  },
  {
   "cell_type": "code",
   "execution_count": 53,
   "id": "2c737621",
   "metadata": {},
   "outputs": [
    {
     "name": "stdout",
     "output_type": "stream",
     "text": [
      "[[[ 5  6]\n",
      "  [ 7  8]\n",
      "  [ 9 10]]\n",
      "\n",
      " [[11 12]\n",
      "  [13 14]\n",
      "  [15 16]]]\n",
      "[[ 5  6]\n",
      " [ 7  8]\n",
      " [ 9 10]\n",
      " [11 12]\n",
      " [13 14]\n",
      " [15 16]]\n",
      "[ 5  6  7  8  9 10 11 12 13 14 15 16]\n"
     ]
    }
   ],
   "source": [
    "array_3d=np.arange(5,17).reshape(2,3,2)\n",
    "\n",
    "#convert it to a 2D array:\n",
    "\n",
    "array_2d=array_3d.reshape(6,2)\n",
    "\n",
    "#convert it to a 1D array:\n",
    "\n",
    "array_1d=array_2d.flatten()\n",
    "\n",
    "\n",
    "print(array_3d)\n",
    "print(array_2d)\n",
    "print(array_1d)"
   ]
  },
  {
   "cell_type": "markdown",
   "id": "176d67c0",
   "metadata": {},
   "source": [
    "#### Q)Check if the values 15,20,25 are present in the above array you have created."
   ]
  },
  {
   "cell_type": "code",
   "execution_count": null,
   "id": "58aabd9b",
   "metadata": {},
   "outputs": [],
   "source": []
  },
  {
   "cell_type": "markdown",
   "id": "501dde80",
   "metadata": {},
   "source": [
    "#### Q) array_test=np.array(1,1,1,2,4,8,9,2,4,1,6) is a 1D array.Find out the number of elements present in the array and the most frequently occuring element."
   ]
  },
  {
   "cell_type": "markdown",
   "id": "ca64018c",
   "metadata": {},
   "source": [
    "#####  bincount function from numpy returns the count of values in each bin starting from 0 to the highest value in the collection."
   ]
  },
  {
   "cell_type": "markdown",
   "id": "8e2edede",
   "metadata": {},
   "source": [
    "###### Q) array_1d=np.array([1,2,3,4,5,6]) and create a 3D array with elements 1-18.\n",
    "* print out the value 15 from the 3D array\n",
    "* slice out 7,6,11 from the 3D array\n",
    "* slice out the second row from the first 2D array\n"
   ]
  },
  {
   "cell_type": "markdown",
   "id": "6fa72954",
   "metadata": {},
   "source": [
    "##### Q) create an array with the first 30 natural numbers. slice out 12,14,16,18,20,22 using the step method (take a step of 2,and use negetive indices only)"
   ]
  },
  {
   "cell_type": "markdown",
   "id": "5df77578",
   "metadata": {},
   "source": [
    "##### Q) print all the elements in the above subset in the reverse order"
   ]
  },
  {
   "cell_type": "markdown",
   "id": "6684149c",
   "metadata": {},
   "source": [
    "##### Q) create a numpy array with elements 5-20 and update the values of all elements from the fifth position onwards to 25"
   ]
  },
  {
   "cell_type": "markdown",
   "id": "e7c4a02a",
   "metadata": {},
   "source": [
    "##### Q)  modify every second element in the above array and assign a value 16 to it."
   ]
  },
  {
   "cell_type": "markdown",
   "id": "da88b6b0",
   "metadata": {},
   "source": [
    "#### pandas is a fast, powerful, flexible and easy to use open source data analysis and manipulation tool,built on top of the Python programming language.it offers data structures and operations for manipulating numerical data. The two data structures are 1) A 1 dimentional Series 2) A Dataframe\n",
    "\n",
    "#### Pandas Series() is a function used to generate a series. Creation of a series from a numpy array requires the array() function from the Numpy package."
   ]
  },
  {
   "cell_type": "markdown",
   "id": "484c9163",
   "metadata": {},
   "source": [
    "### Intrinsic data alignment happens with the pandas package. Each data structure has got the internal indexes aligned to each element."
   ]
  },
  {
   "cell_type": "code",
   "execution_count": 1,
   "id": "2e5d40d7",
   "metadata": {},
   "outputs": [],
   "source": [
    "import pandas as pd\n",
    "import numpy as np"
   ]
  },
  {
   "cell_type": "code",
   "execution_count": 2,
   "id": "a155d3ac",
   "metadata": {},
   "outputs": [],
   "source": [
    "#### series support multiple data types."
   ]
  },
  {
   "cell_type": "code",
   "execution_count": 3,
   "id": "4ebca193",
   "metadata": {},
   "outputs": [
    {
     "data": {
      "text/plain": [
       "0        45\n",
       "1      89.5\n",
       "2      None\n",
       "3      True\n",
       "4    (5, 6)\n",
       "5      text\n",
       "dtype: object"
      ]
     },
     "execution_count": 3,
     "metadata": {},
     "output_type": "execute_result"
    }
   ],
   "source": [
    "ser1=pd.Series([45,89.5,None,True,(5,6),'text'])\n",
    "ser1"
   ]
  },
  {
   "cell_type": "code",
   "execution_count": 6,
   "id": "2392c969",
   "metadata": {},
   "outputs": [
    {
     "data": {
      "text/plain": [
       "a        45\n",
       "b      89.5\n",
       "c      None\n",
       "d      True\n",
       "e    (5, 6)\n",
       "f      text\n",
       "dtype: object"
      ]
     },
     "execution_count": 6,
     "metadata": {},
     "output_type": "execute_result"
    }
   ],
   "source": [
    "ser2=pd.Series([45,89.5,None,True,(5,6),'text'],index=['a','b','c','d','e','f'])\n",
    "ser2"
   ]
  },
  {
   "cell_type": "code",
   "execution_count": 7,
   "id": "4222f9b1",
   "metadata": {},
   "outputs": [
    {
     "data": {
      "text/plain": [
       "0    34.0\n",
       "1    67.0\n",
       "2    89.0\n",
       "3    12.0\n",
       "4    45.6\n",
       "dtype: float64"
      ]
     },
     "execution_count": 7,
     "metadata": {},
     "output_type": "execute_result"
    }
   ],
   "source": [
    "arr=np.array([34,67,89,12,45.6])\n",
    "ser3=pd.Series(arr)\n",
    "ser3"
   ]
  },
  {
   "cell_type": "code",
   "execution_count": 8,
   "id": "5eefabf9",
   "metadata": {},
   "outputs": [
    {
     "data": {
      "text/plain": [
       "0    34.0\n",
       "1    67.0\n",
       "2    89.0\n",
       "3    12.0\n",
       "4    45.6\n",
       "dtype: float64"
      ]
     },
     "execution_count": 8,
     "metadata": {},
     "output_type": "execute_result"
    }
   ],
   "source": [
    "t1=(34,67,89,12,45.6)\n",
    "ser4=pd.Series(t1)\n",
    "ser4"
   ]
  },
  {
   "cell_type": "code",
   "execution_count": 10,
   "id": "a445d985",
   "metadata": {},
   "outputs": [
    {
     "data": {
      "text/plain": [
       "12.0"
      ]
     },
     "execution_count": 10,
     "metadata": {},
     "output_type": "execute_result"
    }
   ],
   "source": [
    "ser4[3]"
   ]
  },
  {
   "cell_type": "code",
   "execution_count": 13,
   "id": "4a394aed",
   "metadata": {},
   "outputs": [
    {
     "data": {
      "text/plain": [
       "a              apple\n",
       "b               2426\n",
       "10875       employee\n",
       "language      python\n",
       "dtype: object"
      ]
     },
     "execution_count": 13,
     "metadata": {},
     "output_type": "execute_result"
    }
   ],
   "source": [
    "dict1={'a':'apple','b':2426,10875:'employee','language':'python'}\n",
    "ser5=pd.Series(dict1)\n",
    "ser5"
   ]
  },
  {
   "cell_type": "code",
   "execution_count": 11,
   "id": "58363a1a",
   "metadata": {},
   "outputs": [
    {
     "data": {
      "text/plain": [
       "'employee'"
      ]
     },
     "execution_count": 11,
     "metadata": {},
     "output_type": "execute_result"
    }
   ],
   "source": [
    "ser5[10875]"
   ]
  },
  {
   "cell_type": "code",
   "execution_count": 15,
   "id": "0043d174",
   "metadata": {},
   "outputs": [
    {
     "name": "stdout",
     "output_type": "stream",
     "text": [
      "<class 'pandas.core.series.Series'>\n"
     ]
    }
   ],
   "source": [
    "print(type(ser5))"
   ]
  },
  {
   "cell_type": "code",
   "execution_count": 14,
   "id": "3cb6f503",
   "metadata": {},
   "outputs": [
    {
     "name": "stdout",
     "output_type": "stream",
     "text": [
      "   Age  Name  Marks\n",
      "0   24   Sim     82\n",
      "1   28   Tim     85\n",
      "2   31  Jack     65\n",
      "3   35  Lisa     76\n",
      "4   42  Lily     91\n",
      "<class 'pandas.core.frame.DataFrame'>\n"
     ]
    }
   ],
   "source": [
    "data={'Age':[24,28,31,35,42],\n",
    "     'Name':['Sim','Tim','Jack','Lisa','Lily'],\n",
    "      'Marks':[82,85,65,76,91]}\n",
    "\n",
    "df=pd.DataFrame(data)\n",
    "print(df)\n",
    "print(type(df))"
   ]
  },
  {
   "cell_type": "code",
   "execution_count": 16,
   "id": "ea9d47dd",
   "metadata": {},
   "outputs": [],
   "source": [
    "###Loc function helps us slice dataframes using the row/column labels"
   ]
  },
  {
   "cell_type": "code",
   "execution_count": 18,
   "id": "b4fbf437",
   "metadata": {},
   "outputs": [
    {
     "data": {
      "text/plain": [
       "'Lisa'"
      ]
     },
     "execution_count": 18,
     "metadata": {},
     "output_type": "execute_result"
    }
   ],
   "source": [
    "df.loc[3,'Name']"
   ]
  },
  {
   "cell_type": "code",
   "execution_count": 19,
   "id": "b6c2f26f",
   "metadata": {},
   "outputs": [
    {
     "data": {
      "text/html": [
       "<div>\n",
       "<style scoped>\n",
       "    .dataframe tbody tr th:only-of-type {\n",
       "        vertical-align: middle;\n",
       "    }\n",
       "\n",
       "    .dataframe tbody tr th {\n",
       "        vertical-align: top;\n",
       "    }\n",
       "\n",
       "    .dataframe thead th {\n",
       "        text-align: right;\n",
       "    }\n",
       "</style>\n",
       "<table border=\"1\" class=\"dataframe\">\n",
       "  <thead>\n",
       "    <tr style=\"text-align: right;\">\n",
       "      <th></th>\n",
       "      <th>Age</th>\n",
       "      <th>Name</th>\n",
       "      <th>Marks</th>\n",
       "    </tr>\n",
       "  </thead>\n",
       "  <tbody>\n",
       "    <tr>\n",
       "      <th>2</th>\n",
       "      <td>31</td>\n",
       "      <td>Jack</td>\n",
       "      <td>65</td>\n",
       "    </tr>\n",
       "    <tr>\n",
       "      <th>3</th>\n",
       "      <td>35</td>\n",
       "      <td>Lisa</td>\n",
       "      <td>76</td>\n",
       "    </tr>\n",
       "    <tr>\n",
       "      <th>4</th>\n",
       "      <td>42</td>\n",
       "      <td>Lily</td>\n",
       "      <td>91</td>\n",
       "    </tr>\n",
       "  </tbody>\n",
       "</table>\n",
       "</div>"
      ],
      "text/plain": [
       "   Age  Name  Marks\n",
       "2   31  Jack     65\n",
       "3   35  Lisa     76\n",
       "4   42  Lily     91"
      ]
     },
     "execution_count": 19,
     "metadata": {},
     "output_type": "execute_result"
    }
   ],
   "source": [
    "###last 3 rows\n",
    "df.loc[2:4,:]"
   ]
  },
  {
   "cell_type": "code",
   "execution_count": 27,
   "id": "50d39ce3",
   "metadata": {},
   "outputs": [
    {
     "data": {
      "text/html": [
       "<div>\n",
       "<style scoped>\n",
       "    .dataframe tbody tr th:only-of-type {\n",
       "        vertical-align: middle;\n",
       "    }\n",
       "\n",
       "    .dataframe tbody tr th {\n",
       "        vertical-align: top;\n",
       "    }\n",
       "\n",
       "    .dataframe thead th {\n",
       "        text-align: right;\n",
       "    }\n",
       "</style>\n",
       "<table border=\"1\" class=\"dataframe\">\n",
       "  <thead>\n",
       "    <tr style=\"text-align: right;\">\n",
       "      <th></th>\n",
       "      <th>Age</th>\n",
       "      <th>Name</th>\n",
       "      <th>Marks</th>\n",
       "    </tr>\n",
       "  </thead>\n",
       "  <tbody>\n",
       "    <tr>\n",
       "      <th>2</th>\n",
       "      <td>31</td>\n",
       "      <td>Jack</td>\n",
       "      <td>65</td>\n",
       "    </tr>\n",
       "    <tr>\n",
       "      <th>3</th>\n",
       "      <td>35</td>\n",
       "      <td>Lisa</td>\n",
       "      <td>76</td>\n",
       "    </tr>\n",
       "    <tr>\n",
       "      <th>4</th>\n",
       "      <td>42</td>\n",
       "      <td>Lily</td>\n",
       "      <td>91</td>\n",
       "    </tr>\n",
       "  </tbody>\n",
       "</table>\n",
       "</div>"
      ],
      "text/plain": [
       "   Age  Name  Marks\n",
       "2   31  Jack     65\n",
       "3   35  Lisa     76\n",
       "4   42  Lily     91"
      ]
     },
     "execution_count": 27,
     "metadata": {},
     "output_type": "execute_result"
    }
   ],
   "source": [
    "#last 3 rows using iloc function:\n",
    "df.iloc[2:,:]"
   ]
  },
  {
   "cell_type": "code",
   "execution_count": 20,
   "id": "e1208704",
   "metadata": {},
   "outputs": [
    {
     "data": {
      "text/html": [
       "<div>\n",
       "<style scoped>\n",
       "    .dataframe tbody tr th:only-of-type {\n",
       "        vertical-align: middle;\n",
       "    }\n",
       "\n",
       "    .dataframe tbody tr th {\n",
       "        vertical-align: top;\n",
       "    }\n",
       "\n",
       "    .dataframe thead th {\n",
       "        text-align: right;\n",
       "    }\n",
       "</style>\n",
       "<table border=\"1\" class=\"dataframe\">\n",
       "  <thead>\n",
       "    <tr style=\"text-align: right;\">\n",
       "      <th></th>\n",
       "      <th>Name</th>\n",
       "      <th>Marks</th>\n",
       "    </tr>\n",
       "  </thead>\n",
       "  <tbody>\n",
       "    <tr>\n",
       "      <th>2</th>\n",
       "      <td>Jack</td>\n",
       "      <td>65</td>\n",
       "    </tr>\n",
       "    <tr>\n",
       "      <th>3</th>\n",
       "      <td>Lisa</td>\n",
       "      <td>76</td>\n",
       "    </tr>\n",
       "    <tr>\n",
       "      <th>4</th>\n",
       "      <td>Lily</td>\n",
       "      <td>91</td>\n",
       "    </tr>\n",
       "  </tbody>\n",
       "</table>\n",
       "</div>"
      ],
      "text/plain": [
       "   Name  Marks\n",
       "2  Jack     65\n",
       "3  Lisa     76\n",
       "4  Lily     91"
      ]
     },
     "execution_count": 20,
     "metadata": {},
     "output_type": "execute_result"
    }
   ],
   "source": [
    "###i want the info of jack,lisa and lily but i want only their names and marks.\n",
    "df.loc[2:,['Name','Marks']]"
   ]
  },
  {
   "cell_type": "code",
   "execution_count": 21,
   "id": "474cfa97",
   "metadata": {},
   "outputs": [
    {
     "data": {
      "text/html": [
       "<div>\n",
       "<style scoped>\n",
       "    .dataframe tbody tr th:only-of-type {\n",
       "        vertical-align: middle;\n",
       "    }\n",
       "\n",
       "    .dataframe tbody tr th {\n",
       "        vertical-align: top;\n",
       "    }\n",
       "\n",
       "    .dataframe thead th {\n",
       "        text-align: right;\n",
       "    }\n",
       "</style>\n",
       "<table border=\"1\" class=\"dataframe\">\n",
       "  <thead>\n",
       "    <tr style=\"text-align: right;\">\n",
       "      <th></th>\n",
       "      <th>Name</th>\n",
       "      <th>Marks</th>\n",
       "    </tr>\n",
       "  </thead>\n",
       "  <tbody>\n",
       "    <tr>\n",
       "      <th>2</th>\n",
       "      <td>Jack</td>\n",
       "      <td>65</td>\n",
       "    </tr>\n",
       "    <tr>\n",
       "      <th>3</th>\n",
       "      <td>Lisa</td>\n",
       "      <td>76</td>\n",
       "    </tr>\n",
       "    <tr>\n",
       "      <th>4</th>\n",
       "      <td>Lily</td>\n",
       "      <td>91</td>\n",
       "    </tr>\n",
       "  </tbody>\n",
       "</table>\n",
       "</div>"
      ],
      "text/plain": [
       "   Name  Marks\n",
       "2  Jack     65\n",
       "3  Lisa     76\n",
       "4  Lily     91"
      ]
     },
     "execution_count": 21,
     "metadata": {},
     "output_type": "execute_result"
    }
   ],
   "source": [
    "df.loc[2:,'Name':]"
   ]
  },
  {
   "cell_type": "code",
   "execution_count": 25,
   "id": "69c0ece2",
   "metadata": {},
   "outputs": [
    {
     "data": {
      "text/html": [
       "<div>\n",
       "<style scoped>\n",
       "    .dataframe tbody tr th:only-of-type {\n",
       "        vertical-align: middle;\n",
       "    }\n",
       "\n",
       "    .dataframe tbody tr th {\n",
       "        vertical-align: top;\n",
       "    }\n",
       "\n",
       "    .dataframe thead th {\n",
       "        text-align: right;\n",
       "    }\n",
       "</style>\n",
       "<table border=\"1\" class=\"dataframe\">\n",
       "  <thead>\n",
       "    <tr style=\"text-align: right;\">\n",
       "      <th></th>\n",
       "      <th>Age</th>\n",
       "    </tr>\n",
       "  </thead>\n",
       "  <tbody>\n",
       "    <tr>\n",
       "      <th>0</th>\n",
       "      <td>24</td>\n",
       "    </tr>\n",
       "    <tr>\n",
       "      <th>1</th>\n",
       "      <td>28</td>\n",
       "    </tr>\n",
       "    <tr>\n",
       "      <th>2</th>\n",
       "      <td>31</td>\n",
       "    </tr>\n",
       "    <tr>\n",
       "      <th>3</th>\n",
       "      <td>35</td>\n",
       "    </tr>\n",
       "    <tr>\n",
       "      <th>4</th>\n",
       "      <td>42</td>\n",
       "    </tr>\n",
       "  </tbody>\n",
       "</table>\n",
       "</div>"
      ],
      "text/plain": [
       "   Age\n",
       "0   24\n",
       "1   28\n",
       "2   31\n",
       "3   35\n",
       "4   42"
      ]
     },
     "execution_count": 25,
     "metadata": {},
     "output_type": "execute_result"
    }
   ],
   "source": [
    "### say i want a single column from this dataframe.say-age\n",
    "df.loc[:,['Age']]"
   ]
  },
  {
   "cell_type": "code",
   "execution_count": 29,
   "id": "aa44f1ba",
   "metadata": {},
   "outputs": [
    {
     "data": {
      "text/html": [
       "<div>\n",
       "<style scoped>\n",
       "    .dataframe tbody tr th:only-of-type {\n",
       "        vertical-align: middle;\n",
       "    }\n",
       "\n",
       "    .dataframe tbody tr th {\n",
       "        vertical-align: top;\n",
       "    }\n",
       "\n",
       "    .dataframe thead th {\n",
       "        text-align: right;\n",
       "    }\n",
       "</style>\n",
       "<table border=\"1\" class=\"dataframe\">\n",
       "  <thead>\n",
       "    <tr style=\"text-align: right;\">\n",
       "      <th></th>\n",
       "      <th>Age</th>\n",
       "    </tr>\n",
       "  </thead>\n",
       "  <tbody>\n",
       "    <tr>\n",
       "      <th>0</th>\n",
       "      <td>24</td>\n",
       "    </tr>\n",
       "    <tr>\n",
       "      <th>1</th>\n",
       "      <td>28</td>\n",
       "    </tr>\n",
       "    <tr>\n",
       "      <th>2</th>\n",
       "      <td>31</td>\n",
       "    </tr>\n",
       "    <tr>\n",
       "      <th>3</th>\n",
       "      <td>35</td>\n",
       "    </tr>\n",
       "    <tr>\n",
       "      <th>4</th>\n",
       "      <td>42</td>\n",
       "    </tr>\n",
       "  </tbody>\n",
       "</table>\n",
       "</div>"
      ],
      "text/plain": [
       "   Age\n",
       "0   24\n",
       "1   28\n",
       "2   31\n",
       "3   35\n",
       "4   42"
      ]
     },
     "execution_count": 29,
     "metadata": {},
     "output_type": "execute_result"
    }
   ],
   "source": [
    "df.iloc[:,[0]]"
   ]
  },
  {
   "cell_type": "code",
   "execution_count": 30,
   "id": "5fc857e9",
   "metadata": {
    "scrolled": true
   },
   "outputs": [
    {
     "data": {
      "text/plain": [
       "0    24\n",
       "1    28\n",
       "2    31\n",
       "3    35\n",
       "4    42\n",
       "Name: Age, dtype: int64"
      ]
     },
     "execution_count": 30,
     "metadata": {},
     "output_type": "execute_result"
    }
   ],
   "source": [
    "df.Age"
   ]
  },
  {
   "cell_type": "code",
   "execution_count": 31,
   "id": "58185f62",
   "metadata": {},
   "outputs": [
    {
     "data": {
      "text/plain": [
       "Index(['Age', 'Name', 'Marks'], dtype='object')"
      ]
     },
     "execution_count": 31,
     "metadata": {},
     "output_type": "execute_result"
    }
   ],
   "source": [
    "### see all columns in our dataframe\n",
    "df.columns"
   ]
  },
  {
   "cell_type": "code",
   "execution_count": 33,
   "id": "5eab1aff",
   "metadata": {},
   "outputs": [],
   "source": [
    "###slice out the name and age of tim,lisa,lily using loc and iloc"
   ]
  },
  {
   "cell_type": "code",
   "execution_count": 34,
   "id": "d609591d",
   "metadata": {},
   "outputs": [
    {
     "data": {
      "text/html": [
       "<div>\n",
       "<style scoped>\n",
       "    .dataframe tbody tr th:only-of-type {\n",
       "        vertical-align: middle;\n",
       "    }\n",
       "\n",
       "    .dataframe tbody tr th {\n",
       "        vertical-align: top;\n",
       "    }\n",
       "\n",
       "    .dataframe thead th {\n",
       "        text-align: right;\n",
       "    }\n",
       "</style>\n",
       "<table border=\"1\" class=\"dataframe\">\n",
       "  <thead>\n",
       "    <tr style=\"text-align: right;\">\n",
       "      <th></th>\n",
       "      <th>Name</th>\n",
       "      <th>Age</th>\n",
       "    </tr>\n",
       "  </thead>\n",
       "  <tbody>\n",
       "    <tr>\n",
       "      <th>1</th>\n",
       "      <td>Tim</td>\n",
       "      <td>28</td>\n",
       "    </tr>\n",
       "    <tr>\n",
       "      <th>3</th>\n",
       "      <td>Lisa</td>\n",
       "      <td>35</td>\n",
       "    </tr>\n",
       "    <tr>\n",
       "      <th>4</th>\n",
       "      <td>Lily</td>\n",
       "      <td>42</td>\n",
       "    </tr>\n",
       "  </tbody>\n",
       "</table>\n",
       "</div>"
      ],
      "text/plain": [
       "   Name  Age\n",
       "1   Tim   28\n",
       "3  Lisa   35\n",
       "4  Lily   42"
      ]
     },
     "execution_count": 34,
     "metadata": {},
     "output_type": "execute_result"
    }
   ],
   "source": [
    "df.iloc[[1, 3, 4], [1, 0]]"
   ]
  },
  {
   "cell_type": "code",
   "execution_count": 36,
   "id": "e3c376e8",
   "metadata": {},
   "outputs": [
    {
     "data": {
      "text/html": [
       "<div>\n",
       "<style scoped>\n",
       "    .dataframe tbody tr th:only-of-type {\n",
       "        vertical-align: middle;\n",
       "    }\n",
       "\n",
       "    .dataframe tbody tr th {\n",
       "        vertical-align: top;\n",
       "    }\n",
       "\n",
       "    .dataframe thead th {\n",
       "        text-align: right;\n",
       "    }\n",
       "</style>\n",
       "<table border=\"1\" class=\"dataframe\">\n",
       "  <thead>\n",
       "    <tr style=\"text-align: right;\">\n",
       "      <th></th>\n",
       "      <th>Age</th>\n",
       "      <th>Name</th>\n",
       "    </tr>\n",
       "  </thead>\n",
       "  <tbody>\n",
       "    <tr>\n",
       "      <th>1</th>\n",
       "      <td>28</td>\n",
       "      <td>Tim</td>\n",
       "    </tr>\n",
       "    <tr>\n",
       "      <th>3</th>\n",
       "      <td>35</td>\n",
       "      <td>Lisa</td>\n",
       "    </tr>\n",
       "    <tr>\n",
       "      <th>4</th>\n",
       "      <td>42</td>\n",
       "      <td>Lily</td>\n",
       "    </tr>\n",
       "  </tbody>\n",
       "</table>\n",
       "</div>"
      ],
      "text/plain": [
       "   Age  Name\n",
       "1   28   Tim\n",
       "3   35  Lisa\n",
       "4   42  Lily"
      ]
     },
     "execution_count": 36,
     "metadata": {},
     "output_type": "execute_result"
    }
   ],
   "source": [
    "df.loc[(1,3,4),'Age':'Name']"
   ]
  },
  {
   "cell_type": "markdown",
   "id": "3771bea4",
   "metadata": {},
   "source": [
    "### Functions of a dataframe:\n",
    "\n",
    "* tail,head-selectively displays the bottom and top 5 rows of a dataframe.\n",
    "* sample() functions helps select random rows and columns from a dataframe.\n",
    "* info() function gives more info on the dataset\n",
    "* describe() functions gives the summary stats for the variables in the data\n",
    "* query() functions helps us to query the dataset on some condition\n",
    "* loc() helps us to query the dataset based on column and row labels\n",
    "* iloc() helps us to query the dataset based on the index position of rows and columns\n",
    "* unique() helps us get the distinct values in a certain row or column\n",
    "* null() helps us to locate missing values\n",
    "* fillna() helps us to fill missing values in the dataset with some value\n",
    "* rename() helps us to rename the column name\n",
    "* where() replaces cells with null values where the where condition is not satisfied\n",
    "* drop() used  to drop columns/rows from a dataset\n",
    "* corr() used to find relationships between variables."
   ]
  },
  {
   "cell_type": "code",
   "execution_count": 37,
   "id": "053795b4",
   "metadata": {},
   "outputs": [
    {
     "name": "stdout",
     "output_type": "stream",
     "text": [
      "data is loaded\n"
     ]
    }
   ],
   "source": [
    "data=pd.read_csv('Salary_Data.csv')\n",
    "print('data is loaded')"
   ]
  },
  {
   "cell_type": "code",
   "execution_count": 38,
   "id": "37755510",
   "metadata": {},
   "outputs": [
    {
     "name": "stdout",
     "output_type": "stream",
     "text": [
      "<class 'pandas.core.frame.DataFrame'>\n"
     ]
    }
   ],
   "source": [
    "print(type(data))"
   ]
  },
  {
   "cell_type": "code",
   "execution_count": 39,
   "id": "f4ac7021",
   "metadata": {},
   "outputs": [
    {
     "data": {
      "text/html": [
       "<div>\n",
       "<style scoped>\n",
       "    .dataframe tbody tr th:only-of-type {\n",
       "        vertical-align: middle;\n",
       "    }\n",
       "\n",
       "    .dataframe tbody tr th {\n",
       "        vertical-align: top;\n",
       "    }\n",
       "\n",
       "    .dataframe thead th {\n",
       "        text-align: right;\n",
       "    }\n",
       "</style>\n",
       "<table border=\"1\" class=\"dataframe\">\n",
       "  <thead>\n",
       "    <tr style=\"text-align: right;\">\n",
       "      <th></th>\n",
       "      <th>YearsExperience</th>\n",
       "      <th>Salary</th>\n",
       "    </tr>\n",
       "  </thead>\n",
       "  <tbody>\n",
       "    <tr>\n",
       "      <th>0</th>\n",
       "      <td>1.1</td>\n",
       "      <td>39343.0</td>\n",
       "    </tr>\n",
       "    <tr>\n",
       "      <th>1</th>\n",
       "      <td>1.3</td>\n",
       "      <td>46205.0</td>\n",
       "    </tr>\n",
       "    <tr>\n",
       "      <th>2</th>\n",
       "      <td>1.5</td>\n",
       "      <td>37731.0</td>\n",
       "    </tr>\n",
       "    <tr>\n",
       "      <th>3</th>\n",
       "      <td>2.0</td>\n",
       "      <td>43525.0</td>\n",
       "    </tr>\n",
       "    <tr>\n",
       "      <th>4</th>\n",
       "      <td>2.2</td>\n",
       "      <td>39891.0</td>\n",
       "    </tr>\n",
       "    <tr>\n",
       "      <th>5</th>\n",
       "      <td>2.9</td>\n",
       "      <td>56642.0</td>\n",
       "    </tr>\n",
       "    <tr>\n",
       "      <th>6</th>\n",
       "      <td>3.0</td>\n",
       "      <td>60150.0</td>\n",
       "    </tr>\n",
       "  </tbody>\n",
       "</table>\n",
       "</div>"
      ],
      "text/plain": [
       "   YearsExperience   Salary\n",
       "0              1.1  39343.0\n",
       "1              1.3  46205.0\n",
       "2              1.5  37731.0\n",
       "3              2.0  43525.0\n",
       "4              2.2  39891.0\n",
       "5              2.9  56642.0\n",
       "6              3.0  60150.0"
      ]
     },
     "execution_count": 39,
     "metadata": {},
     "output_type": "execute_result"
    }
   ],
   "source": [
    "###head function will display the top 5 rows of the dataframe:\n",
    "data.head(7)"
   ]
  },
  {
   "cell_type": "code",
   "execution_count": 40,
   "id": "1ddda6dc",
   "metadata": {},
   "outputs": [
    {
     "data": {
      "text/html": [
       "<div>\n",
       "<style scoped>\n",
       "    .dataframe tbody tr th:only-of-type {\n",
       "        vertical-align: middle;\n",
       "    }\n",
       "\n",
       "    .dataframe tbody tr th {\n",
       "        vertical-align: top;\n",
       "    }\n",
       "\n",
       "    .dataframe thead th {\n",
       "        text-align: right;\n",
       "    }\n",
       "</style>\n",
       "<table border=\"1\" class=\"dataframe\">\n",
       "  <thead>\n",
       "    <tr style=\"text-align: right;\">\n",
       "      <th></th>\n",
       "      <th>YearsExperience</th>\n",
       "      <th>Salary</th>\n",
       "    </tr>\n",
       "  </thead>\n",
       "  <tbody>\n",
       "    <tr>\n",
       "      <th>25</th>\n",
       "      <td>9.0</td>\n",
       "      <td>105582.0</td>\n",
       "    </tr>\n",
       "    <tr>\n",
       "      <th>26</th>\n",
       "      <td>9.5</td>\n",
       "      <td>116969.0</td>\n",
       "    </tr>\n",
       "    <tr>\n",
       "      <th>27</th>\n",
       "      <td>9.6</td>\n",
       "      <td>112635.0</td>\n",
       "    </tr>\n",
       "    <tr>\n",
       "      <th>28</th>\n",
       "      <td>10.3</td>\n",
       "      <td>122391.0</td>\n",
       "    </tr>\n",
       "    <tr>\n",
       "      <th>29</th>\n",
       "      <td>10.5</td>\n",
       "      <td>121872.0</td>\n",
       "    </tr>\n",
       "  </tbody>\n",
       "</table>\n",
       "</div>"
      ],
      "text/plain": [
       "    YearsExperience    Salary\n",
       "25              9.0  105582.0\n",
       "26              9.5  116969.0\n",
       "27              9.6  112635.0\n",
       "28             10.3  122391.0\n",
       "29             10.5  121872.0"
      ]
     },
     "execution_count": 40,
     "metadata": {},
     "output_type": "execute_result"
    }
   ],
   "source": [
    "#tail function prints the default 5 rows from the bottom:\n",
    "data.tail()"
   ]
  },
  {
   "cell_type": "code",
   "execution_count": 41,
   "id": "e16bfbe2",
   "metadata": {},
   "outputs": [],
   "source": [
    "import pandas as pd"
   ]
  },
  {
   "cell_type": "code",
   "execution_count": 42,
   "id": "135aa1a2",
   "metadata": {},
   "outputs": [
    {
     "data": {
      "text/html": [
       "<div>\n",
       "<style scoped>\n",
       "    .dataframe tbody tr th:only-of-type {\n",
       "        vertical-align: middle;\n",
       "    }\n",
       "\n",
       "    .dataframe tbody tr th {\n",
       "        vertical-align: top;\n",
       "    }\n",
       "\n",
       "    .dataframe thead th {\n",
       "        text-align: right;\n",
       "    }\n",
       "</style>\n",
       "<table border=\"1\" class=\"dataframe\">\n",
       "  <thead>\n",
       "    <tr style=\"text-align: right;\">\n",
       "      <th></th>\n",
       "      <th>YearsExperience</th>\n",
       "      <th>Salary</th>\n",
       "    </tr>\n",
       "  </thead>\n",
       "  <tbody>\n",
       "    <tr>\n",
       "      <th>22</th>\n",
       "      <td>7.9</td>\n",
       "      <td>101302.0</td>\n",
       "    </tr>\n",
       "    <tr>\n",
       "      <th>3</th>\n",
       "      <td>2.0</td>\n",
       "      <td>43525.0</td>\n",
       "    </tr>\n",
       "    <tr>\n",
       "      <th>23</th>\n",
       "      <td>8.2</td>\n",
       "      <td>113812.0</td>\n",
       "    </tr>\n",
       "    <tr>\n",
       "      <th>17</th>\n",
       "      <td>5.3</td>\n",
       "      <td>83088.0</td>\n",
       "    </tr>\n",
       "    <tr>\n",
       "      <th>15</th>\n",
       "      <td>4.9</td>\n",
       "      <td>67938.0</td>\n",
       "    </tr>\n",
       "    <tr>\n",
       "      <th>6</th>\n",
       "      <td>3.0</td>\n",
       "      <td>60150.0</td>\n",
       "    </tr>\n",
       "    <tr>\n",
       "      <th>24</th>\n",
       "      <td>8.7</td>\n",
       "      <td>109431.0</td>\n",
       "    </tr>\n",
       "    <tr>\n",
       "      <th>5</th>\n",
       "      <td>2.9</td>\n",
       "      <td>56642.0</td>\n",
       "    </tr>\n",
       "    <tr>\n",
       "      <th>4</th>\n",
       "      <td>2.2</td>\n",
       "      <td>39891.0</td>\n",
       "    </tr>\n",
       "    <tr>\n",
       "      <th>25</th>\n",
       "      <td>9.0</td>\n",
       "      <td>105582.0</td>\n",
       "    </tr>\n",
       "  </tbody>\n",
       "</table>\n",
       "</div>"
      ],
      "text/plain": [
       "    YearsExperience    Salary\n",
       "22              7.9  101302.0\n",
       "3               2.0   43525.0\n",
       "23              8.2  113812.0\n",
       "17              5.3   83088.0\n",
       "15              4.9   67938.0\n",
       "6               3.0   60150.0\n",
       "24              8.7  109431.0\n",
       "5               2.9   56642.0\n",
       "4               2.2   39891.0\n",
       "25              9.0  105582.0"
      ]
     },
     "execution_count": 42,
     "metadata": {},
     "output_type": "execute_result"
    }
   ],
   "source": [
    "###sample:\n",
    "data.sample(10)"
   ]
  },
  {
   "cell_type": "code",
   "execution_count": 43,
   "id": "3507f4a6",
   "metadata": {},
   "outputs": [
    {
     "name": "stdout",
     "output_type": "stream",
     "text": [
      "<class 'pandas.core.frame.DataFrame'>\n",
      "RangeIndex: 30 entries, 0 to 29\n",
      "Data columns (total 2 columns):\n",
      " #   Column           Non-Null Count  Dtype  \n",
      "---  ------           --------------  -----  \n",
      " 0   YearsExperience  30 non-null     float64\n",
      " 1   Salary           30 non-null     float64\n",
      "dtypes: float64(2)\n",
      "memory usage: 612.0 bytes\n"
     ]
    }
   ],
   "source": [
    "data.info()"
   ]
  },
  {
   "cell_type": "code",
   "execution_count": 44,
   "id": "8b665682",
   "metadata": {},
   "outputs": [
    {
     "data": {
      "text/html": [
       "<div>\n",
       "<style scoped>\n",
       "    .dataframe tbody tr th:only-of-type {\n",
       "        vertical-align: middle;\n",
       "    }\n",
       "\n",
       "    .dataframe tbody tr th {\n",
       "        vertical-align: top;\n",
       "    }\n",
       "\n",
       "    .dataframe thead th {\n",
       "        text-align: right;\n",
       "    }\n",
       "</style>\n",
       "<table border=\"1\" class=\"dataframe\">\n",
       "  <thead>\n",
       "    <tr style=\"text-align: right;\">\n",
       "      <th></th>\n",
       "      <th>YearsExperience</th>\n",
       "      <th>Salary</th>\n",
       "    </tr>\n",
       "  </thead>\n",
       "  <tbody>\n",
       "    <tr>\n",
       "      <th>count</th>\n",
       "      <td>30.000000</td>\n",
       "      <td>30.000000</td>\n",
       "    </tr>\n",
       "    <tr>\n",
       "      <th>mean</th>\n",
       "      <td>5.313333</td>\n",
       "      <td>76003.000000</td>\n",
       "    </tr>\n",
       "    <tr>\n",
       "      <th>std</th>\n",
       "      <td>2.837888</td>\n",
       "      <td>27414.429785</td>\n",
       "    </tr>\n",
       "    <tr>\n",
       "      <th>min</th>\n",
       "      <td>1.100000</td>\n",
       "      <td>37731.000000</td>\n",
       "    </tr>\n",
       "    <tr>\n",
       "      <th>25%</th>\n",
       "      <td>3.200000</td>\n",
       "      <td>56720.750000</td>\n",
       "    </tr>\n",
       "    <tr>\n",
       "      <th>50%</th>\n",
       "      <td>4.700000</td>\n",
       "      <td>65237.000000</td>\n",
       "    </tr>\n",
       "    <tr>\n",
       "      <th>75%</th>\n",
       "      <td>7.700000</td>\n",
       "      <td>100544.750000</td>\n",
       "    </tr>\n",
       "    <tr>\n",
       "      <th>max</th>\n",
       "      <td>10.500000</td>\n",
       "      <td>122391.000000</td>\n",
       "    </tr>\n",
       "  </tbody>\n",
       "</table>\n",
       "</div>"
      ],
      "text/plain": [
       "       YearsExperience         Salary\n",
       "count        30.000000      30.000000\n",
       "mean          5.313333   76003.000000\n",
       "std           2.837888   27414.429785\n",
       "min           1.100000   37731.000000\n",
       "25%           3.200000   56720.750000\n",
       "50%           4.700000   65237.000000\n",
       "75%           7.700000  100544.750000\n",
       "max          10.500000  122391.000000"
      ]
     },
     "execution_count": 44,
     "metadata": {},
     "output_type": "execute_result"
    }
   ],
   "source": [
    "### describe-:\n",
    "data.describe()"
   ]
  },
  {
   "cell_type": "code",
   "execution_count": 45,
   "id": "3b721e55",
   "metadata": {},
   "outputs": [
    {
     "data": {
      "text/html": [
       "<div>\n",
       "<style scoped>\n",
       "    .dataframe tbody tr th:only-of-type {\n",
       "        vertical-align: middle;\n",
       "    }\n",
       "\n",
       "    .dataframe tbody tr th {\n",
       "        vertical-align: top;\n",
       "    }\n",
       "\n",
       "    .dataframe thead th {\n",
       "        text-align: right;\n",
       "    }\n",
       "</style>\n",
       "<table border=\"1\" class=\"dataframe\">\n",
       "  <thead>\n",
       "    <tr style=\"text-align: right;\">\n",
       "      <th></th>\n",
       "      <th>YearsExperience</th>\n",
       "      <th>Salary</th>\n",
       "    </tr>\n",
       "  </thead>\n",
       "  <tbody>\n",
       "    <tr>\n",
       "      <th>18</th>\n",
       "      <td>5.9</td>\n",
       "      <td>81363.0</td>\n",
       "    </tr>\n",
       "    <tr>\n",
       "      <th>19</th>\n",
       "      <td>6.0</td>\n",
       "      <td>93940.0</td>\n",
       "    </tr>\n",
       "    <tr>\n",
       "      <th>20</th>\n",
       "      <td>6.8</td>\n",
       "      <td>91738.0</td>\n",
       "    </tr>\n",
       "    <tr>\n",
       "      <th>21</th>\n",
       "      <td>7.1</td>\n",
       "      <td>98273.0</td>\n",
       "    </tr>\n",
       "    <tr>\n",
       "      <th>22</th>\n",
       "      <td>7.9</td>\n",
       "      <td>101302.0</td>\n",
       "    </tr>\n",
       "    <tr>\n",
       "      <th>23</th>\n",
       "      <td>8.2</td>\n",
       "      <td>113812.0</td>\n",
       "    </tr>\n",
       "    <tr>\n",
       "      <th>24</th>\n",
       "      <td>8.7</td>\n",
       "      <td>109431.0</td>\n",
       "    </tr>\n",
       "    <tr>\n",
       "      <th>25</th>\n",
       "      <td>9.0</td>\n",
       "      <td>105582.0</td>\n",
       "    </tr>\n",
       "    <tr>\n",
       "      <th>26</th>\n",
       "      <td>9.5</td>\n",
       "      <td>116969.0</td>\n",
       "    </tr>\n",
       "    <tr>\n",
       "      <th>27</th>\n",
       "      <td>9.6</td>\n",
       "      <td>112635.0</td>\n",
       "    </tr>\n",
       "    <tr>\n",
       "      <th>28</th>\n",
       "      <td>10.3</td>\n",
       "      <td>122391.0</td>\n",
       "    </tr>\n",
       "    <tr>\n",
       "      <th>29</th>\n",
       "      <td>10.5</td>\n",
       "      <td>121872.0</td>\n",
       "    </tr>\n",
       "  </tbody>\n",
       "</table>\n",
       "</div>"
      ],
      "text/plain": [
       "    YearsExperience    Salary\n",
       "18              5.9   81363.0\n",
       "19              6.0   93940.0\n",
       "20              6.8   91738.0\n",
       "21              7.1   98273.0\n",
       "22              7.9  101302.0\n",
       "23              8.2  113812.0\n",
       "24              8.7  109431.0\n",
       "25              9.0  105582.0\n",
       "26              9.5  116969.0\n",
       "27              9.6  112635.0\n",
       "28             10.3  122391.0\n",
       "29             10.5  121872.0"
      ]
     },
     "execution_count": 45,
     "metadata": {},
     "output_type": "execute_result"
    }
   ],
   "source": [
    "#query:\n",
    "data.query('YearsExperience>5.5')"
   ]
  },
  {
   "cell_type": "code",
   "execution_count": 46,
   "id": "64a413ec",
   "metadata": {},
   "outputs": [],
   "source": [
    "##### use the loc function to display the salary of the last two employees using the loc and iloc functions."
   ]
  },
  {
   "cell_type": "code",
   "execution_count": 51,
   "id": "95bcc9ad",
   "metadata": {},
   "outputs": [
    {
     "name": "stdout",
     "output_type": "stream",
     "text": [
      "      Salary\n",
      "28  122391.0\n",
      "29  121872.0\n",
      "      Salary\n",
      "28  122391.0\n",
      "29  121872.0\n"
     ]
    }
   ],
   "source": [
    "print(data.loc[28:,['Salary']])\n",
    "print(data.iloc[[28,29],[1]])"
   ]
  },
  {
   "cell_type": "code",
   "execution_count": 47,
   "id": "0238a917",
   "metadata": {},
   "outputs": [],
   "source": [
    "###### filter out all those employees with salary greater than 50k and experience less than 3 years using loc function."
   ]
  },
  {
   "cell_type": "code",
   "execution_count": 49,
   "id": "d2e211f8",
   "metadata": {},
   "outputs": [
    {
     "data": {
      "text/html": [
       "<div>\n",
       "<style scoped>\n",
       "    .dataframe tbody tr th:only-of-type {\n",
       "        vertical-align: middle;\n",
       "    }\n",
       "\n",
       "    .dataframe tbody tr th {\n",
       "        vertical-align: top;\n",
       "    }\n",
       "\n",
       "    .dataframe thead th {\n",
       "        text-align: right;\n",
       "    }\n",
       "</style>\n",
       "<table border=\"1\" class=\"dataframe\">\n",
       "  <thead>\n",
       "    <tr style=\"text-align: right;\">\n",
       "      <th></th>\n",
       "      <th>Salary</th>\n",
       "      <th>YearsExperience</th>\n",
       "    </tr>\n",
       "  </thead>\n",
       "  <tbody>\n",
       "    <tr>\n",
       "      <th>5</th>\n",
       "      <td>56642.0</td>\n",
       "      <td>2.9</td>\n",
       "    </tr>\n",
       "  </tbody>\n",
       "</table>\n",
       "</div>"
      ],
      "text/plain": [
       "    Salary  YearsExperience\n",
       "5  56642.0              2.9"
      ]
     },
     "execution_count": 49,
     "metadata": {},
     "output_type": "execute_result"
    }
   ],
   "source": [
    "data.loc[(data[\"YearsExperience\"] < 3) &(data[\"Salary\"] > 50000),[\"Salary\",\"YearsExperience\"]]"
   ]
  },
  {
   "cell_type": "code",
   "execution_count": null,
   "id": "11f633ee",
   "metadata": {},
   "outputs": [],
   "source": []
  }
 ],
 "metadata": {
  "kernelspec": {
   "display_name": "Python 3 (ipykernel)",
   "language": "python",
   "name": "python3"
  },
  "language_info": {
   "codemirror_mode": {
    "name": "ipython",
    "version": 3
   },
   "file_extension": ".py",
   "mimetype": "text/x-python",
   "name": "python",
   "nbconvert_exporter": "python",
   "pygments_lexer": "ipython3",
   "version": "3.11.4"
  }
 },
 "nbformat": 4,
 "nbformat_minor": 5
}
