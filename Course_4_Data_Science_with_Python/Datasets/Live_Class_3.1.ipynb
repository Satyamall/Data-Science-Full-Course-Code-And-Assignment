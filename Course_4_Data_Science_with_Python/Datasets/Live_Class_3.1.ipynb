{
 "cells": [
  {
   "cell_type": "markdown",
   "id": "a492c1f8",
   "metadata": {},
   "source": [
    "### Internal data types in python-(already exsisting)\n",
    "* String- aggregate\n",
    "* List - aggregate\n",
    "* Sets -aggregate\n",
    "* Dictionaries - aggregate\n",
    "* Tuples - aggregate\n",
    "* Integer - scaler\n",
    "* Float - scaler\n",
    "* Cmplex - scaler\n",
    "* Boolean - scaler"
   ]
  },
  {
   "cell_type": "code",
   "execution_count": 1,
   "id": "a4f06dd1",
   "metadata": {},
   "outputs": [],
   "source": [
    "x=10"
   ]
  },
  {
   "cell_type": "code",
   "execution_count": 2,
   "id": "1e514efb",
   "metadata": {},
   "outputs": [],
   "source": [
    "y=56.5"
   ]
  },
  {
   "cell_type": "code",
   "execution_count": 3,
   "id": "635adb0f",
   "metadata": {},
   "outputs": [],
   "source": [
    "z=True"
   ]
  },
  {
   "cell_type": "code",
   "execution_count": 4,
   "id": "e1766ac4",
   "metadata": {},
   "outputs": [
    {
     "name": "stdout",
     "output_type": "stream",
     "text": [
      "<class 'int'>\n"
     ]
    }
   ],
   "source": [
    "print(type(x))"
   ]
  },
  {
   "cell_type": "code",
   "execution_count": 6,
   "id": "d56fc4d8",
   "metadata": {},
   "outputs": [
    {
     "name": "stdout",
     "output_type": "stream",
     "text": [
      "<class 'bool'>\n",
      "<class 'float'>\n"
     ]
    }
   ],
   "source": [
    "print(type(z))\n",
    "print(type(y))"
   ]
  },
  {
   "cell_type": "code",
   "execution_count": 7,
   "id": "b367baa4",
   "metadata": {},
   "outputs": [],
   "source": [
    "## aggregate datatype is combination of scalar data types"
   ]
  },
  {
   "cell_type": "code",
   "execution_count": 8,
   "id": "d575b4e5",
   "metadata": {},
   "outputs": [
    {
     "name": "stdout",
     "output_type": "stream",
     "text": [
      "<class 'complex'>\n"
     ]
    }
   ],
   "source": [
    "a=6+3j\n",
    "print(type(a))"
   ]
  },
  {
   "cell_type": "code",
   "execution_count": 9,
   "id": "377d98ed",
   "metadata": {},
   "outputs": [
    {
     "name": "stdout",
     "output_type": "stream",
     "text": [
      "<class 'str'>\n"
     ]
    }
   ],
   "source": [
    "b='simplilearn'\n",
    "print(type(b))"
   ]
  },
  {
   "cell_type": "code",
   "execution_count": 12,
   "id": "c1f40a9a",
   "metadata": {},
   "outputs": [
    {
     "data": {
      "text/plain": [
       "str"
      ]
     },
     "execution_count": 12,
     "metadata": {},
     "output_type": "execute_result"
    }
   ],
   "source": [
    "c= \"\"\"This is the first session on Python\n",
    "and we are proceeding well\"\"\"\n",
    "type(c)"
   ]
  },
  {
   "cell_type": "code",
   "execution_count": 13,
   "id": "33220ddb",
   "metadata": {},
   "outputs": [],
   "source": [
    "### string values are always defined within single quotes or double quotes. But when we have a multiline string value,\n",
    "### we need to enclose it within three single quotes or three double quotes."
   ]
  },
  {
   "cell_type": "markdown",
   "id": "97657d7d",
   "metadata": {},
   "source": [
    "#### Tuples are created with multiple data types,created with () or a tuple constructor,are a ordered collection of elements\n",
    "#### and are immutable."
   ]
  },
  {
   "cell_type": "code",
   "execution_count": 1,
   "id": "e7c63605",
   "metadata": {},
   "outputs": [],
   "source": [
    "###Constructors are used to create objects from a class."
   ]
  },
  {
   "cell_type": "code",
   "execution_count": 2,
   "id": "789d1ceb",
   "metadata": {},
   "outputs": [
    {
     "name": "stdout",
     "output_type": "stream",
     "text": [
      "<class 'tuple'>\n"
     ]
    }
   ],
   "source": [
    "t1=(6,7.5,4+6j,False,None)\n",
    "print(type(t1))"
   ]
  },
  {
   "cell_type": "code",
   "execution_count": 3,
   "id": "cb7a9dd5",
   "metadata": {},
   "outputs": [
    {
     "data": {
      "text/plain": [
       "(6, 7.5, (4+6j), False, None)"
      ]
     },
     "execution_count": 3,
     "metadata": {},
     "output_type": "execute_result"
    }
   ],
   "source": [
    "t1"
   ]
  },
  {
   "cell_type": "code",
   "execution_count": 5,
   "id": "5ce191c5",
   "metadata": {},
   "outputs": [
    {
     "data": {
      "text/plain": [
       "(6, 7.5, (4+6j), False, None)"
      ]
     },
     "execution_count": 5,
     "metadata": {},
     "output_type": "execute_result"
    }
   ],
   "source": [
    "t2=tuple((6,7.5,4+6j,False,None))\n",
    "t2"
   ]
  },
  {
   "cell_type": "code",
   "execution_count": 6,
   "id": "0abcfa6d",
   "metadata": {},
   "outputs": [
    {
     "data": {
      "text/plain": [
       "(4+6j)"
      ]
     },
     "execution_count": 6,
     "metadata": {},
     "output_type": "execute_result"
    }
   ],
   "source": [
    "t2[-3]"
   ]
  },
  {
   "cell_type": "code",
   "execution_count": 7,
   "id": "1bb4badb",
   "metadata": {},
   "outputs": [
    {
     "data": {
      "text/plain": [
       "(4+6j)"
      ]
     },
     "execution_count": 7,
     "metadata": {},
     "output_type": "execute_result"
    }
   ],
   "source": [
    "t2[2]"
   ]
  },
  {
   "cell_type": "code",
   "execution_count": 8,
   "id": "065614bb",
   "metadata": {},
   "outputs": [],
   "source": [
    "###immutable means we cannot change/modify."
   ]
  },
  {
   "cell_type": "code",
   "execution_count": 9,
   "id": "fd517849",
   "metadata": {},
   "outputs": [
    {
     "ename": "TypeError",
     "evalue": "'tuple' object does not support item assignment",
     "output_type": "error",
     "traceback": [
      "\u001b[1;31m---------------------------------------------------------------------------\u001b[0m",
      "\u001b[1;31mTypeError\u001b[0m                                 Traceback (most recent call last)",
      "Cell \u001b[1;32mIn[9], line 1\u001b[0m\n\u001b[1;32m----> 1\u001b[0m t2[\u001b[38;5;241m2\u001b[39m]\u001b[38;5;241m=\u001b[39m\u001b[38;5;124m'\u001b[39m\u001b[38;5;124mtext\u001b[39m\u001b[38;5;124m'\u001b[39m\n",
      "\u001b[1;31mTypeError\u001b[0m: 'tuple' object does not support item assignment"
     ]
    }
   ],
   "source": [
    "t2[2]='text'"
   ]
  },
  {
   "cell_type": "code",
   "execution_count": 10,
   "id": "c2c67743",
   "metadata": {},
   "outputs": [
    {
     "data": {
      "text/plain": [
       "tuple"
      ]
     },
     "execution_count": 10,
     "metadata": {},
     "output_type": "execute_result"
    }
   ],
   "source": [
    "type(t2)"
   ]
  },
  {
   "cell_type": "code",
   "execution_count": 11,
   "id": "40cfba5a",
   "metadata": {},
   "outputs": [
    {
     "data": {
      "text/plain": [
       "4"
      ]
     },
     "execution_count": 11,
     "metadata": {},
     "output_type": "execute_result"
    }
   ],
   "source": [
    "t3=(0,1,2,3,1,2,1,1,5)\n",
    "t3.count(1)   #count returns the frequency of occurance of an element"
   ]
  },
  {
   "cell_type": "code",
   "execution_count": 13,
   "id": "9c4c3158",
   "metadata": {},
   "outputs": [
    {
     "data": {
      "text/plain": [
       "3"
      ]
     },
     "execution_count": 13,
     "metadata": {},
     "output_type": "execute_result"
    }
   ],
   "source": [
    "t3.index(3) #the index function returns the index position of an element"
   ]
  },
  {
   "cell_type": "markdown",
   "id": "dacd4654",
   "metadata": {},
   "source": [
    "#### List: lists are an ordered collection of elements (mixed data types),lists are mutable,lists are created with [] brackets or the list constructor."
   ]
  },
  {
   "cell_type": "code",
   "execution_count": 14,
   "id": "cc84befd",
   "metadata": {},
   "outputs": [
    {
     "name": "stdout",
     "output_type": "stream",
     "text": [
      "[6, 7.5, (4+6j), False, None]\n",
      "<class 'list'>\n"
     ]
    }
   ],
   "source": [
    "list0=[6,7.5,4+6j,False,None]\n",
    "print(list0)\n",
    "print(type(list0))"
   ]
  },
  {
   "cell_type": "code",
   "execution_count": 15,
   "id": "d633b522",
   "metadata": {},
   "outputs": [
    {
     "name": "stdout",
     "output_type": "stream",
     "text": [
      "[6, 7.5, (4+6j), False, None]\n",
      "<class 'list'>\n"
     ]
    }
   ],
   "source": [
    "list1=list((6,7.5,4+6j,False,None))\n",
    "print(list1)\n",
    "print(type(list1))"
   ]
  },
  {
   "cell_type": "code",
   "execution_count": 16,
   "id": "2903574d",
   "metadata": {},
   "outputs": [],
   "source": [
    "list1[2]='text'"
   ]
  },
  {
   "cell_type": "code",
   "execution_count": 17,
   "id": "bd1966b9",
   "metadata": {},
   "outputs": [
    {
     "data": {
      "text/plain": [
       "[6, 7.5, 'text', False, None]"
      ]
     },
     "execution_count": 17,
     "metadata": {},
     "output_type": "execute_result"
    }
   ],
   "source": [
    "list1"
   ]
  },
  {
   "cell_type": "code",
   "execution_count": 18,
   "id": "b6da457e",
   "metadata": {},
   "outputs": [],
   "source": [
    "##append-to add an element to a list at the end\n",
    "list1.append(58)"
   ]
  },
  {
   "cell_type": "code",
   "execution_count": 19,
   "id": "a911034d",
   "metadata": {},
   "outputs": [
    {
     "data": {
      "text/plain": [
       "[6, 7.5, 'text', False, None, 58]"
      ]
     },
     "execution_count": 19,
     "metadata": {},
     "output_type": "execute_result"
    }
   ],
   "source": [
    "list1"
   ]
  },
  {
   "cell_type": "code",
   "execution_count": 20,
   "id": "246636e7",
   "metadata": {},
   "outputs": [],
   "source": [
    "###insert method-to include an element in a specific position\n",
    "list1.insert(3,'new')"
   ]
  },
  {
   "cell_type": "code",
   "execution_count": 21,
   "id": "fe6f81bc",
   "metadata": {},
   "outputs": [
    {
     "data": {
      "text/plain": [
       "[6, 7.5, 'text', 'new', False, None, 58]"
      ]
     },
     "execution_count": 21,
     "metadata": {},
     "output_type": "execute_result"
    }
   ],
   "source": [
    "list1"
   ]
  },
  {
   "cell_type": "code",
   "execution_count": 22,
   "id": "a5bf3a2f",
   "metadata": {},
   "outputs": [],
   "source": [
    "###extend-add multiple values:\n",
    "list4=[True,70,23.5,8+2j]\n",
    "list1.extend(list4)"
   ]
  },
  {
   "cell_type": "code",
   "execution_count": 23,
   "id": "de5f218f",
   "metadata": {},
   "outputs": [
    {
     "data": {
      "text/plain": [
       "[6, 7.5, 'text', 'new', False, None, 58, True, 70, 23.5, (8+2j)]"
      ]
     },
     "execution_count": 23,
     "metadata": {},
     "output_type": "execute_result"
    }
   ],
   "source": [
    "list1"
   ]
  },
  {
   "cell_type": "code",
   "execution_count": 24,
   "id": "1318b3dd",
   "metadata": {},
   "outputs": [
    {
     "data": {
      "text/plain": [
       "1"
      ]
     },
     "execution_count": 24,
     "metadata": {},
     "output_type": "execute_result"
    }
   ],
   "source": [
    "list1.count('new')"
   ]
  },
  {
   "cell_type": "code",
   "execution_count": 25,
   "id": "5d10677f",
   "metadata": {},
   "outputs": [
    {
     "data": {
      "text/plain": [
       "5"
      ]
     },
     "execution_count": 25,
     "metadata": {},
     "output_type": "execute_result"
    }
   ],
   "source": [
    "list1.index(None)"
   ]
  },
  {
   "cell_type": "code",
   "execution_count": 26,
   "id": "d66cf9d3",
   "metadata": {},
   "outputs": [],
   "source": [
    "#Q) create a list with elements 34,78,99,24,12 and sort the elements in descending order"
   ]
  },
  {
   "cell_type": "code",
   "execution_count": 27,
   "id": "b9b51c62",
   "metadata": {},
   "outputs": [],
   "source": [
    "#Q) consider each value as the sales recorded over 5 days in a week. what is the total sales recorded?"
   ]
  },
  {
   "cell_type": "code",
   "execution_count": 28,
   "id": "8291db76",
   "metadata": {},
   "outputs": [],
   "source": [
    "##Q) read the elements of the above list from the end to the beginning"
   ]
  },
  {
   "cell_type": "code",
   "execution_count": 29,
   "id": "9b91619c",
   "metadata": {},
   "outputs": [],
   "source": [
    "##Q) remove value 12 from the list using the index position"
   ]
  },
  {
   "cell_type": "code",
   "execution_count": 30,
   "id": "0abc6d42",
   "metadata": {},
   "outputs": [],
   "source": [
    "### Q) find the min and max value in the above list"
   ]
  },
  {
   "cell_type": "code",
   "execution_count": 13,
   "id": "97443eea",
   "metadata": {},
   "outputs": [
    {
     "name": "stdout",
     "output_type": "stream",
     "text": [
      "Sales in Desc order: [99, 78, 34, 24, 12]\n",
      "Total sales recored for the week is: 247\n",
      "[24, 34, 78, 99]\n",
      "Minimum Sale is: 24\n",
      "Maximum Sale is: 99\n"
     ]
    }
   ],
   "source": [
    "# Q Create a list with elements 34,78,99,24,12 and sort the elements in descending order.\n",
    "sales = [34,78,99,24,12]\n",
    "sales.sort(reverse=True)\n",
    "print(\"Sales in Desc order:\" , sales)\n",
    "\n",
    "#Q) Consider each value as the sales recorded over 5 days in a week. what is the total sales recorded?\n",
    "total_sales = sum(sales)\n",
    "print('Total sales recored for the week is:', total_sales)\n",
    "\n",
    "#Q) read the elements of the above list from the end to the beginning\n",
    "sales.reverse()\n",
    "sales\n",
    "\n",
    "##Q) remove value 12 from the list using the index position\n",
    "sales.remove(12)\n",
    "print(sales)\n",
    "\n",
    "#Q) find the min & max value in the above list\n",
    "min_sales = min(sales)\n",
    "print('Minimum Sale is:', min_sales)\n",
    "max_sales = max(sales)\n",
    "print('Maximum Sale is:', max_sales)"
   ]
  },
  {
   "cell_type": "code",
   "execution_count": 4,
   "id": "cdb0420f",
   "metadata": {},
   "outputs": [
    {
     "data": {
      "text/plain": [
       "[99, 78, 34, 24, 12]"
      ]
     },
     "execution_count": 4,
     "metadata": {},
     "output_type": "execute_result"
    }
   ],
   "source": [
    "sales2 =[34,78,99,24,12]\n",
    "sales2.sort(reverse=True)\n",
    "sales2"
   ]
  },
  {
   "cell_type": "code",
   "execution_count": 7,
   "id": "17ac304d",
   "metadata": {},
   "outputs": [
    {
     "data": {
      "text/plain": [
       "[12, 24, 34, 78, 99]"
      ]
     },
     "execution_count": 7,
     "metadata": {},
     "output_type": "execute_result"
    }
   ],
   "source": [
    "#Q) read the elements of the above list from the end to the beginning\n",
    "sales"
   ]
  },
  {
   "cell_type": "code",
   "execution_count": 9,
   "id": "87d7d007",
   "metadata": {},
   "outputs": [
    {
     "data": {
      "text/plain": [
       "[99, 78, 34, 24, 12]"
      ]
     },
     "execution_count": 9,
     "metadata": {},
     "output_type": "execute_result"
    }
   ],
   "source": [
    "sales[::-1]   #2nd method"
   ]
  },
  {
   "cell_type": "code",
   "execution_count": 10,
   "id": "f3ae77f2",
   "metadata": {},
   "outputs": [
    {
     "name": "stdout",
     "output_type": "stream",
     "text": [
      "[12, 24, 34, 78, 99]\n"
     ]
    }
   ],
   "source": [
    "##Q) remove value 12 from the list using the index position\n",
    "print(sales)"
   ]
  },
  {
   "cell_type": "code",
   "execution_count": 11,
   "id": "ea668f39",
   "metadata": {},
   "outputs": [
    {
     "data": {
      "text/plain": [
       "12"
      ]
     },
     "execution_count": 11,
     "metadata": {},
     "output_type": "execute_result"
    }
   ],
   "source": [
    "#pop method-remove element from a list using the index position\n",
    "sales.pop(0)"
   ]
  },
  {
   "cell_type": "code",
   "execution_count": 12,
   "id": "a5b3a390",
   "metadata": {},
   "outputs": [
    {
     "data": {
      "text/plain": [
       "[24, 34, 78, 99]"
      ]
     },
     "execution_count": 12,
     "metadata": {},
     "output_type": "execute_result"
    }
   ],
   "source": [
    "sales"
   ]
  },
  {
   "cell_type": "code",
   "execution_count": 14,
   "id": "b589bedc",
   "metadata": {},
   "outputs": [
    {
     "data": {
      "text/plain": [
       "[24, 34, 78, 99]"
      ]
     },
     "execution_count": 14,
     "metadata": {},
     "output_type": "execute_result"
    }
   ],
   "source": [
    "sales"
   ]
  },
  {
   "cell_type": "code",
   "execution_count": 15,
   "id": "d6c85e39",
   "metadata": {},
   "outputs": [
    {
     "data": {
      "text/plain": [
       "24"
      ]
     },
     "execution_count": 15,
     "metadata": {},
     "output_type": "execute_result"
    }
   ],
   "source": [
    "res_min=min(sales)\n",
    "res_min"
   ]
  },
  {
   "cell_type": "markdown",
   "id": "77637f0f",
   "metadata": {},
   "source": [
    "### Sets: unordered collection of elements,supports mixed datatypes,does not allow duplicates,can be created with the curly brackets or the set function,mutable.only frozensets are immutable."
   ]
  },
  {
   "cell_type": "code",
   "execution_count": 16,
   "id": "1501a9d4",
   "metadata": {},
   "outputs": [
    {
     "name": "stdout",
     "output_type": "stream",
     "text": [
      "{True, (4, 5), 20, (4+2j), 13.5, None}\n"
     ]
    }
   ],
   "source": [
    "set1={20,13.5,True,(4,5),4+2j,None,1}\n",
    "print(set1)"
   ]
  },
  {
   "cell_type": "code",
   "execution_count": 17,
   "id": "80afe041",
   "metadata": {},
   "outputs": [
    {
     "data": {
      "text/plain": [
       "{(4+2j), (4, 5), 13.5, 20, None, True}"
      ]
     },
     "execution_count": 17,
     "metadata": {},
     "output_type": "execute_result"
    }
   ],
   "source": [
    "set2=set([20,13.5,True,(4,5),4+2j,None,20])\n",
    "set2"
   ]
  },
  {
   "cell_type": "code",
   "execution_count": 18,
   "id": "030e4a62",
   "metadata": {},
   "outputs": [
    {
     "name": "stdout",
     "output_type": "stream",
     "text": [
      "<class 'set'>\n"
     ]
    }
   ],
   "source": [
    "print(type(set2))"
   ]
  },
  {
   "cell_type": "code",
   "execution_count": 19,
   "id": "62242f0c",
   "metadata": {},
   "outputs": [],
   "source": [
    "##add an element to set1\n",
    "set1.add(100)"
   ]
  },
  {
   "cell_type": "code",
   "execution_count": 20,
   "id": "9077e667",
   "metadata": {},
   "outputs": [
    {
     "data": {
      "text/plain": [
       "{(4+2j), (4, 5), 100, 13.5, 20, None, True}"
      ]
     },
     "execution_count": 20,
     "metadata": {},
     "output_type": "execute_result"
    }
   ],
   "source": [
    "set1"
   ]
  },
  {
   "cell_type": "code",
   "execution_count": 21,
   "id": "bdacb503",
   "metadata": {},
   "outputs": [],
   "source": [
    "set1.discard(4+2j)"
   ]
  },
  {
   "cell_type": "code",
   "execution_count": 22,
   "id": "e60dea08",
   "metadata": {},
   "outputs": [
    {
     "data": {
      "text/plain": [
       "{(4, 5), 100, 13.5, 20, None, True}"
      ]
     },
     "execution_count": 22,
     "metadata": {},
     "output_type": "execute_result"
    }
   ],
   "source": [
    "set1"
   ]
  },
  {
   "cell_type": "markdown",
   "id": "9d161db2",
   "metadata": {},
   "source": [
    "#### Dictionaries contain elements,where each element is a  key:value pair. Keys are immutable,while values are mutable. Dictionaries support mixed datatypes,are created with {} brackets or the dict constructor."
   ]
  },
  {
   "cell_type": "code",
   "execution_count": 17,
   "id": "9c7728ec",
   "metadata": {},
   "outputs": [],
   "source": [
    "dict1={'summer':'mangoes',3:'three',7:'Bond',10875:'simplilearn'}"
   ]
  },
  {
   "cell_type": "code",
   "execution_count": 18,
   "id": "3ea56703",
   "metadata": {},
   "outputs": [
    {
     "data": {
      "text/plain": [
       "dict_keys(['summer', 3, 7, 10875])"
      ]
     },
     "execution_count": 18,
     "metadata": {},
     "output_type": "execute_result"
    }
   ],
   "source": [
    "dict1.keys()"
   ]
  },
  {
   "cell_type": "code",
   "execution_count": 19,
   "id": "ff431e3d",
   "metadata": {},
   "outputs": [
    {
     "data": {
      "text/plain": [
       "dict_values(['mangoes', 'three', 'Bond', 'simplilearn'])"
      ]
     },
     "execution_count": 19,
     "metadata": {},
     "output_type": "execute_result"
    }
   ],
   "source": [
    "dict1.values()"
   ]
  },
  {
   "cell_type": "code",
   "execution_count": 20,
   "id": "5835cd3c",
   "metadata": {},
   "outputs": [
    {
     "data": {
      "text/plain": [
       "'simplilearn'"
      ]
     },
     "execution_count": 20,
     "metadata": {},
     "output_type": "execute_result"
    }
   ],
   "source": [
    "dict1[10875]"
   ]
  },
  {
   "cell_type": "code",
   "execution_count": 21,
   "id": "cb1cb91a",
   "metadata": {},
   "outputs": [],
   "source": [
    "###deleing a key from the dict object\n",
    "del dict1[7]"
   ]
  },
  {
   "cell_type": "code",
   "execution_count": 22,
   "id": "60005234",
   "metadata": {},
   "outputs": [
    {
     "data": {
      "text/plain": [
       "{'summer': 'mangoes', 3: 'three', 10875: 'simplilearn'}"
      ]
     },
     "execution_count": 22,
     "metadata": {},
     "output_type": "execute_result"
    }
   ],
   "source": [
    "dict1"
   ]
  },
  {
   "cell_type": "code",
   "execution_count": 23,
   "id": "5c0e89a2",
   "metadata": {},
   "outputs": [],
   "source": [
    "dict1['summer']='icecream'"
   ]
  },
  {
   "cell_type": "code",
   "execution_count": 24,
   "id": "6a27aae9",
   "metadata": {},
   "outputs": [
    {
     "data": {
      "text/plain": [
       "{'summer': 'icecream', 3: 'three', 10875: 'simplilearn'}"
      ]
     },
     "execution_count": 24,
     "metadata": {},
     "output_type": "execute_result"
    }
   ],
   "source": [
    "dict1"
   ]
  },
  {
   "cell_type": "code",
   "execution_count": 25,
   "id": "4c84c092",
   "metadata": {},
   "outputs": [],
   "source": [
    "### keys are immutable and can never be modified"
   ]
  },
  {
   "cell_type": "code",
   "execution_count": 27,
   "id": "d8ed1e9a",
   "metadata": {},
   "outputs": [
    {
     "name": "stdout",
     "output_type": "stream",
     "text": [
      "if statement is false\n"
     ]
    }
   ],
   "source": [
    "x=16\n",
    "\n",
    "if (x<15):\n",
    "    print('x is less than 15')\n",
    "else:\n",
    "    print('if statement is false')\n",
    "    \n",
    "\n"
   ]
  },
  {
   "cell_type": "code",
   "execution_count": 29,
   "id": "f77cdec7",
   "metadata": {},
   "outputs": [
    {
     "name": "stdout",
     "output_type": "stream",
     "text": [
      "none of the above conditions are true\n"
     ]
    }
   ],
   "source": [
    "a=10\n",
    "\n",
    "if(a==20):\n",
    "    print('a is twenty')\n",
    "elif(a==15):\n",
    "    print('a is fifteen')\n",
    "elif(a>15):\n",
    "    print('a is greater than 15')\n",
    "else:\n",
    "    print('none of the above conditions are true')\n",
    "\n"
   ]
  },
  {
   "cell_type": "code",
   "execution_count": 33,
   "id": "ace33455",
   "metadata": {},
   "outputs": [
    {
     "name": "stdout",
     "output_type": "stream",
     "text": [
      "none of the above conditions are true\n"
     ]
    }
   ],
   "source": [
    "a=10\n",
    "\n",
    "if(a==20):\n",
    "    print('a is twenty')\n",
    "elif(a==15):\n",
    "    print('a is fifteen')\n",
    "elif(a>15):\n",
    "    print('a is greater than 15')\n",
    "\n",
    "\n",
    "    \n",
    "print('none of the above conditions are true')\n"
   ]
  },
  {
   "cell_type": "code",
   "execution_count": 34,
   "id": "102de1a0",
   "metadata": {},
   "outputs": [],
   "source": [
    "b=[20,34,56,78,12]"
   ]
  },
  {
   "cell_type": "code",
   "execution_count": 35,
   "id": "d544cc32",
   "metadata": {},
   "outputs": [
    {
     "name": "stdout",
     "output_type": "stream",
     "text": [
      "20\n",
      "34\n",
      "56\n",
      "78\n",
      "12\n"
     ]
    }
   ],
   "source": [
    "for obj in b:\n",
    "    print(obj)"
   ]
  },
  {
   "cell_type": "code",
   "execution_count": 36,
   "id": "7f479861",
   "metadata": {},
   "outputs": [
    {
     "name": "stdout",
     "output_type": "stream",
     "text": [
      "5\n",
      "6\n",
      "7\n",
      "8\n",
      "9\n",
      "10\n",
      "11\n",
      "12\n",
      "13\n",
      "14\n",
      "15\n"
     ]
    }
   ],
   "source": [
    "for j in range(5,16):\n",
    "    print(j)"
   ]
  },
  {
   "cell_type": "code",
   "execution_count": 40,
   "id": "7f033044",
   "metadata": {},
   "outputs": [
    {
     "name": "stdout",
     "output_type": "stream",
     "text": [
      "[5, 6, 7, 8, 9, 10, 11, 12, 13, 14, 15]\n"
     ]
    }
   ],
   "source": [
    "print(list(range(5,16)))"
   ]
  },
  {
   "cell_type": "code",
   "execution_count": 41,
   "id": "76fef04a",
   "metadata": {},
   "outputs": [
    {
     "name": "stdout",
     "output_type": "stream",
     "text": [
      "7\n",
      "8\n",
      "9\n",
      "10\n",
      "11\n",
      "12\n",
      "13\n",
      "14\n"
     ]
    }
   ],
   "source": [
    "y=7\n",
    "while(y<15):\n",
    "    if y>5:\n",
    "        print(y)\n",
    "        y=y+1\n",
    "        "
   ]
  },
  {
   "cell_type": "code",
   "execution_count": 42,
   "id": "b30b8aea",
   "metadata": {},
   "outputs": [],
   "source": [
    "### There are 2 loop control statements-break and continue"
   ]
  },
  {
   "cell_type": "code",
   "execution_count": 43,
   "id": "060ce897",
   "metadata": {},
   "outputs": [],
   "source": [
    "b=[20,34,56,78,12]"
   ]
  },
  {
   "cell_type": "code",
   "execution_count": 47,
   "id": "0b08ca4d",
   "metadata": {},
   "outputs": [
    {
     "name": "stdout",
     "output_type": "stream",
     "text": [
      "20\n",
      "34\n",
      "56\n"
     ]
    }
   ],
   "source": [
    "for rahul in b:\n",
    "    if rahul ==78:\n",
    "        break\n",
    "    print(rahul)\n",
    "    "
   ]
  },
  {
   "cell_type": "code",
   "execution_count": 49,
   "id": "fa846689",
   "metadata": {},
   "outputs": [
    {
     "name": "stdout",
     "output_type": "stream",
     "text": [
      "s\n",
      "i\n",
      "m\n",
      "l\n",
      "i\n",
      "l\n",
      "a\n",
      "r\n",
      "n\n"
     ]
    }
   ],
   "source": [
    "for i in 'simplilearn':\n",
    "    if i=='p' or i=='e':\n",
    "        continue\n",
    "    print(i)"
   ]
  },
  {
   "cell_type": "code",
   "execution_count": null,
   "id": "33cc4f60",
   "metadata": {},
   "outputs": [],
   "source": []
  },
  {
   "cell_type": "code",
   "execution_count": 7,
   "id": "a3b046b9",
   "metadata": {},
   "outputs": [
    {
     "name": "stdout",
     "output_type": "stream",
     "text": [
      "{70, 40, 10, 50, 20, 60, 30}\n",
      "{70, 40, 10, 50, 20, 60, 30}\n"
     ]
    }
   ],
   "source": [
    "##Q) get the unique items from the below sets:\n",
    "set1={10,20,30,40,50}\n",
    "set2={30,40,50,60,70}\n",
    "\n",
    "# 1.\n",
    "newSet = set1.union(set2)\n",
    "print(newSet)\n",
    "\n",
    "#2.\n",
    "set1.update(set2)\n",
    "print(set1)"
   ]
  },
  {
   "cell_type": "code",
   "execution_count": 11,
   "id": "520f0e7f",
   "metadata": {},
   "outputs": [
    {
     "name": "stdout",
     "output_type": "stream",
     "text": [
      "['Maths']\n"
     ]
    },
    {
     "data": {
      "text/plain": [
       "'Maths'"
      ]
     },
     "execution_count": 11,
     "metadata": {},
     "output_type": "execute_result"
    }
   ],
   "source": [
    "#Q)get the key of the min value from the below dictionary:\n",
    "test_dict={'Maths':77,'English':88,'Economics':92}\n",
    "\n",
    "#1.\n",
    "temp = min(test_dict.values())\n",
    "res = [key for key in test_dict if test_dict[key] == temp]\n",
    "print(str(res))\n",
    "\n",
    "#2.\n",
    "min(test_dict, key=test_dict.get )"
   ]
  },
  {
   "cell_type": "code",
   "execution_count": 2,
   "id": "b3a0f6c1",
   "metadata": {},
   "outputs": [
    {
     "name": "stdout",
     "output_type": "stream",
     "text": [
      "{1: 'python', 2: 'session', 3: {'a': 'welcome', 'b': 'to', 'c': 'python'}}\n"
     ]
    }
   ],
   "source": [
    "##Q) create a dictionary with key value (1,python) and (2,session) and (3,dict(a:welcome b:to c:python))\n",
    "dict1 = {\n",
    "    1: \"python\",\n",
    "    2: \"session\",\n",
    "    3: {\n",
    "        'a': 'welcome',\n",
    "        'b': 'to',\n",
    "        'c': 'python'\n",
    "    }\n",
    "}\n",
    "\n",
    "print(dict1)"
   ]
  },
  {
   "cell_type": "code",
   "execution_count": 3,
   "id": "0dc70251",
   "metadata": {},
   "outputs": [
    {
     "data": {
      "text/plain": [
       "'to'"
      ]
     },
     "execution_count": 3,
     "metadata": {},
     "output_type": "execute_result"
    }
   ],
   "source": [
    "##Q) access the value 'to' from the nested dictionary above.\n",
    "dict1[3]['b']"
   ]
  },
  {
   "cell_type": "code",
   "execution_count": 11,
   "id": "3b9a9a20",
   "metadata": {},
   "outputs": [
    {
     "name": "stdout",
     "output_type": "stream",
     "text": [
      "{1: 'python', 2: 'session', 3: {'a': 'welcome', 'b': 'to', 'c': 'python'}, 'my': '10', 'name': 20, 'is': 30, 'python': 40}\n"
     ]
    },
    {
     "data": {
      "text/plain": [
       "{1: 'python',\n",
       " 2: 'session',\n",
       " 3: {'a': 'welcome', 'b': 'to', 'c': 'python'},\n",
       " 'my': '10',\n",
       " 'name': 20,\n",
       " 'is': 30,\n",
       " 'python': 40}"
      ]
     },
     "execution_count": 11,
     "metadata": {},
     "output_type": "execute_result"
    }
   ],
   "source": [
    "###Q) add this dict5={'my':'10','name':20,'is':30,'python':40} to dict1 created above.\n",
    "dict5={'my':'10','name':20,'is':30,'python':40}\n",
    "# new_dict = dict1.copy()\n",
    "# new_dict.update(dict5)\n",
    "# print(new_dict)\n",
    "\n",
    "# Combine dict1 and dict5 using dictionary unpacking\n",
    "new_dict = {**dict1, **dict5}\n",
    "print(new_dict)\n",
    "\n",
    "dict1.update(dict5)\n",
    "dict1\n"
   ]
  },
  {
   "cell_type": "code",
   "execution_count": 13,
   "id": "c70589ba",
   "metadata": {},
   "outputs": [
    {
     "data": {
      "text/plain": [
       "('python', 40)"
      ]
     },
     "execution_count": 13,
     "metadata": {},
     "output_type": "execute_result"
    }
   ],
   "source": [
    "###Q) remove the last key-value pair from the above dict you created.\n",
    "# del dict1['python']\n",
    "dict1.popitem()"
   ]
  },
  {
   "cell_type": "code",
   "execution_count": 15,
   "id": "9dccfc02",
   "metadata": {},
   "outputs": [
    {
     "data": {
      "text/plain": [
       "False"
      ]
     },
     "execution_count": 15,
     "metadata": {},
     "output_type": "execute_result"
    }
   ],
   "source": [
    "###Q)check if dict1 has a key called 'summer'\n",
    "'summer' in dict1"
   ]
  },
  {
   "cell_type": "markdown",
   "id": "625862c1",
   "metadata": {},
   "source": [
    "#### We request user input using the input() function. these inputs are by default stored as string values,so before performing and numercal operations,we need to convert it to an integer."
   ]
  },
  {
   "cell_type": "code",
   "execution_count": 8,
   "id": "c82f37ce",
   "metadata": {},
   "outputs": [],
   "source": [
    "###Python is an interpreted language and does a line by line execution.if there is an error in one line,\n",
    "###the next line will not be executed. \n",
    "### The condition should be TRUE for the execution to happen."
   ]
  },
  {
   "cell_type": "code",
   "execution_count": 9,
   "id": "f65a3216",
   "metadata": {},
   "outputs": [],
   "source": [
    "###Q) use the input function and check with the number entered by a user is odd or even.\n",
    "value=int(input('Enter your value:'))\n",
    "\n",
    "if value%2==0:\n",
    "    print('number is even')\n",
    "else:\n",
    "    print('number is odd')"
   ]
  },
  {
   "cell_type": "code",
   "execution_count": 10,
   "id": "4b64e8f4",
   "metadata": {},
   "outputs": [],
   "source": [
    "###Q) use the input function to check if a number entered by an user is a multiple of 6,then print 'yes' otherwise\n",
    "### print 'no'\n",
    "value=int(input('Enter your value:'))\n",
    "\n",
    "if value%6==0:\n",
    "    print('yes')\n",
    "else:\n",
    "    print('no')"
   ]
  },
  {
   "cell_type": "code",
   "execution_count": 11,
   "id": "8465694b",
   "metadata": {},
   "outputs": [],
   "source": [
    "####Q) write a program to print the first 10 even numbers---hint: use a for loop,and a while loop both.\n",
    "count=0\n",
    "num=1\n",
    "while(count < 10):\n",
    "    print(num*2)\n",
    "    count +=1\n",
    "    num+=1"
   ]
  },
  {
   "cell_type": "code",
   "execution_count": 12,
   "id": "6c36252b",
   "metadata": {},
   "outputs": [],
   "source": [
    "####Q) print the numbers you get in the reverse order as well.\n",
    "num=20\n",
    "while num >= 2:\n",
    "    print(num)\n",
    "    num-=2"
   ]
  },
  {
   "cell_type": "code",
   "execution_count": 13,
   "id": "bd271a75",
   "metadata": {},
   "outputs": [],
   "source": [
    "###Q) loop through number 100-500 (both included) and check which numbers are divisible by 11 but not divisible by 3.\n",
    "for i in range(100,501):\n",
    "    if (i%11 == 0) & (i%3 != 0):\n",
    "        print(i)"
   ]
  },
  {
   "cell_type": "code",
   "execution_count": 14,
   "id": "3f77f4cf",
   "metadata": {},
   "outputs": [],
   "source": [
    "####Q) write a program to accept percentage from a user and display the grade according to the marks:\n",
    "##### marks>90----grade A\n",
    "##### marks>80 and marks<=90-----grade B\n",
    "##### marks>=60 and marks<=80----grade C\n",
    "#####marks<60 -------------------grade D\n",
    "marks = int(input(\"Enter the percentage\"))\n",
    "if(marks > 90): print(\"grade A\")\n",
    "elif (marks > 80) & (marks <= 90): print(\"grade B\")\n",
    "elif (marks >= 60) & (marks <= 80): print(\"grade C\")\n",
    "elif (marks < 60): print(\"grade D\")"
   ]
  },
  {
   "cell_type": "code",
   "execution_count": 15,
   "id": "e1d3dc93",
   "metadata": {},
   "outputs": [],
   "source": [
    "####Q) Tuple1=(1,2,('pop','rock'),(3,4),('mangoes',(1,2)))\n",
    "\n",
    "#### slice out 'rock'"
   ]
  },
  {
   "cell_type": "code",
   "execution_count": 1,
   "id": "75276085",
   "metadata": {},
   "outputs": [
    {
     "data": {
      "text/plain": [
       "'rock'"
      ]
     },
     "execution_count": 1,
     "metadata": {},
     "output_type": "execute_result"
    }
   ],
   "source": [
    "Tuple1=(1,2,('pop','rock'),(3,4),('mangoes',(1,2)))\n",
    "Tuple1[2][1]"
   ]
  }
 ],
 "metadata": {
  "kernelspec": {
   "display_name": "Python 3 [3.10]",
   "language": "python",
   "name": "python3"
  },
  "language_info": {
   "codemirror_mode": {
    "name": "ipython",
    "version": 3
   },
   "file_extension": ".py",
   "mimetype": "text/x-python",
   "name": "python",
   "nbconvert_exporter": "python",
   "pygments_lexer": "ipython3",
   "version": "3.10.2"
  }
 },
 "nbformat": 4,
 "nbformat_minor": 5
}
