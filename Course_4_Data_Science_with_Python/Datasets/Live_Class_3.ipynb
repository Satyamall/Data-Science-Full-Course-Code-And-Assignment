{
 "cells": [
  {
   "cell_type": "code",
   "execution_count": 2,
   "id": "c4b70c05",
   "metadata": {},
   "outputs": [],
   "source": [
    "distance=[56,89,45,75,68]\n",
    "time=[0.3,2.1,1.3,1.9,3.2]"
   ]
  },
  {
   "cell_type": "code",
   "execution_count": 3,
   "id": "5365120a",
   "metadata": {},
   "outputs": [
    {
     "ename": "TypeError",
     "evalue": "unsupported operand type(s) for /: 'list' and 'list'",
     "output_type": "error",
     "traceback": [
      "\u001b[1;31m---------------------------------------------------------------------------\u001b[0m",
      "\u001b[1;31mTypeError\u001b[0m                                 Traceback (most recent call last)",
      "Cell \u001b[1;32mIn[3], line 1\u001b[0m\n\u001b[1;32m----> 1\u001b[0m speed\u001b[38;5;241m=\u001b[39mdistance\u001b[38;5;241m/\u001b[39mtime\n",
      "\u001b[1;31mTypeError\u001b[0m: unsupported operand type(s) for /: 'list' and 'list'"
     ]
    }
   ],
   "source": [
    "speed=distance/time"
   ]
  },
  {
   "cell_type": "code",
   "execution_count": 4,
   "id": "cd5ae9e5",
   "metadata": {},
   "outputs": [
    {
     "data": {
      "text/plain": [
       "[56, 89, 45, 75, 68, 56, 89, 45, 75, 68, 56, 89, 45, 75, 68]"
      ]
     },
     "execution_count": 4,
     "metadata": {},
     "output_type": "execute_result"
    }
   ],
   "source": [
    "distance*3"
   ]
  },
  {
   "cell_type": "code",
   "execution_count": 5,
   "id": "2a5cf71d",
   "metadata": {},
   "outputs": [
    {
     "data": {
      "text/plain": [
       "[56, 89, 45, 75, 68, 0.3, 2.1, 1.3, 1.9, 3.2]"
      ]
     },
     "execution_count": 5,
     "metadata": {},
     "output_type": "execute_result"
    }
   ],
   "source": [
    "distance+time"
   ]
  },
  {
   "cell_type": "code",
   "execution_count": 9,
   "id": "d3ca0a4b",
   "metadata": {},
   "outputs": [],
   "source": [
    "import numpy as np"
   ]
  },
  {
   "cell_type": "code",
   "execution_count": 10,
   "id": "81e9922a",
   "metadata": {},
   "outputs": [],
   "source": [
    "dist_array=np.array(distance)\n",
    "time_array=np.array(time)"
   ]
  },
  {
   "cell_type": "code",
   "execution_count": 11,
   "id": "2c810b2f",
   "metadata": {},
   "outputs": [
    {
     "data": {
      "text/plain": [
       "array([186.66666667,  42.38095238,  34.61538462,  39.47368421,\n",
       "        21.25      ])"
      ]
     },
     "execution_count": 11,
     "metadata": {},
     "output_type": "execute_result"
    }
   ],
   "source": [
    "speed=dist_array/time_array\n",
    "speed"
   ]
  },
  {
   "cell_type": "code",
   "execution_count": 12,
   "id": "dcfc0289",
   "metadata": {},
   "outputs": [],
   "source": [
    "### arrays are data structures which can be created using the numpy package. It supports mixed data types."
   ]
  },
  {
   "cell_type": "code",
   "execution_count": 13,
   "id": "4f987e75",
   "metadata": {},
   "outputs": [
    {
     "name": "stdout",
     "output_type": "stream",
     "text": [
      "<class 'numpy.ndarray'>\n"
     ]
    }
   ],
   "source": [
    "print(type(dist_array))"
   ]
  },
  {
   "cell_type": "markdown",
   "id": "03775bef",
   "metadata": {},
   "source": [
    "##### We combine 0D arrays to get a 1D array,we combine 1D arrays to get a 2D array. And we combine 2D arrays to get a 3D array."
   ]
  },
  {
   "cell_type": "code",
   "execution_count": 14,
   "id": "e705b5a3",
   "metadata": {},
   "outputs": [
    {
     "name": "stdout",
     "output_type": "stream",
     "text": [
      "<class 'numpy.ndarray'>\n",
      "0\n"
     ]
    }
   ],
   "source": [
    "###0D arrays-\n",
    "array_0D=np.array(90)\n",
    "print(type(array_0D))\n",
    "print(array_0D.ndim)\n"
   ]
  },
  {
   "cell_type": "code",
   "execution_count": 17,
   "id": "6efba2b5",
   "metadata": {},
   "outputs": [
    {
     "name": "stdout",
     "output_type": "stream",
     "text": [
      "<class 'numpy.ndarray'>\n",
      "1\n",
      "[ 7.   9.   2.  13.5]\n",
      "float64\n"
     ]
    }
   ],
   "source": [
    "###1D array:\n",
    "array_1d=np.array([7,9,2,13.5],dtype='float')\n",
    "print(type(array_1d))\n",
    "print(array_1d.ndim)\n",
    "print(array_1d)\n",
    "print(array_1d.dtype)"
   ]
  },
  {
   "cell_type": "code",
   "execution_count": 19,
   "id": "ab827ba2",
   "metadata": {},
   "outputs": [
    {
     "name": "stdout",
     "output_type": "stream",
     "text": [
      "[[ 3  5  6  7  8]\n",
      " [ 9 10 11 12 13]\n",
      " [ 0  5  1  3  8]]\n",
      "2\n",
      "int32\n",
      "(3, 5)\n",
      "15\n"
     ]
    }
   ],
   "source": [
    "####2D array-:\n",
    "array_2D=np.array([[3,5,6,7,8],[9,10,11,12,13],[0,5,1,3,8]])\n",
    "print(array_2D)\n",
    "print(array_2D.ndim)\n",
    "print(array_2D.dtype)\n",
    "print(array_2D.shape)\n",
    "print(array_2D.size)"
   ]
  },
  {
   "cell_type": "code",
   "execution_count": 20,
   "id": "b2b974aa",
   "metadata": {},
   "outputs": [
    {
     "name": "stdout",
     "output_type": "stream",
     "text": [
      "[[[ 3  4  5]\n",
      "  [ 6  7  8]]\n",
      "\n",
      " [[ 9 10 11]\n",
      "  [12 13 14]]]\n",
      "3\n",
      "int32\n",
      "(2, 2, 3)\n",
      "12\n"
     ]
    }
   ],
   "source": [
    "array_3d=np.array([[[3,4,5],[6,7,8]],[[9,10,11],[12,13,14]]])\n",
    "print(array_3d)\n",
    "print(array_3d.ndim)\n",
    "print(array_3d.dtype)\n",
    "print(array_3d.shape)\n",
    "print(array_3d.size)"
   ]
  },
  {
   "cell_type": "markdown",
   "id": "323bcb7f",
   "metadata": {},
   "source": [
    "#### Conversion of a lower dimensional array to a higher dimensional array,by adding dimensions."
   ]
  },
  {
   "cell_type": "code",
   "execution_count": 23,
   "id": "1e0cff56",
   "metadata": {},
   "outputs": [
    {
     "name": "stdout",
     "output_type": "stream",
     "text": [
      "[ 2  3  4  5  6  7  8  9 10 11 12 13]\n",
      "1\n",
      "12\n",
      "int32\n",
      "(12,)\n"
     ]
    }
   ],
   "source": [
    "arr1d=np.array([2,3,4,5,6,7,8,9,10,11,12,13])\n",
    "print(arr1d)\n",
    "print(arr1d.ndim)\n",
    "print(arr1d.size)\n",
    "print(arr1d.dtype)\n",
    "print(arr1d.shape)"
   ]
  },
  {
   "cell_type": "code",
   "execution_count": 22,
   "id": "d8454206",
   "metadata": {},
   "outputs": [
    {
     "name": "stdout",
     "output_type": "stream",
     "text": [
      "[[ 2  3]\n",
      " [ 4  5]\n",
      " [ 6  7]\n",
      " [ 8  9]\n",
      " [10 11]\n",
      " [12 13]]\n",
      "2\n",
      "12\n",
      "int32\n"
     ]
    }
   ],
   "source": [
    "arr2d=arr1d.reshape(6,2)\n",
    "print(arr2d)\n",
    "print(arr2d.ndim)\n",
    "print(arr2d.size)\n",
    "print(arr2d.dtype)"
   ]
  },
  {
   "cell_type": "code",
   "execution_count": 24,
   "id": "5fd09ef6",
   "metadata": {},
   "outputs": [
    {
     "data": {
      "text/plain": [
       "array([ 2,  3,  4,  5,  6,  7,  8,  9, 10, 11, 12, 13])"
      ]
     },
     "execution_count": 24,
     "metadata": {},
     "output_type": "execute_result"
    }
   ],
   "source": [
    "arr1d"
   ]
  },
  {
   "cell_type": "code",
   "execution_count": 25,
   "id": "f49b20e1",
   "metadata": {},
   "outputs": [
    {
     "name": "stdout",
     "output_type": "stream",
     "text": [
      "[[[ 2  3]\n",
      "  [ 4  5]]\n",
      "\n",
      " [[ 6  7]\n",
      "  [ 8  9]]\n",
      "\n",
      " [[10 11]\n",
      "  [12 13]]]\n",
      "3\n",
      "12\n",
      "int32\n"
     ]
    }
   ],
   "source": [
    "##convert to a 3D array:\n",
    "arr3d=arr1d.reshape(3,2,2)\n",
    "print(arr3d)\n",
    "print(arr3d.ndim)\n",
    "print(arr3d.size)\n",
    "print(arr3d.dtype)"
   ]
  },
  {
   "cell_type": "code",
   "execution_count": 26,
   "id": "999ba55c",
   "metadata": {},
   "outputs": [],
   "source": [
    "###Q) create a 1D array with first 9 natural numbers. Then add a dimension to convert the same to a 2D array."
   ]
  },
  {
   "cell_type": "code",
   "execution_count": 28,
   "id": "b63e87de",
   "metadata": {},
   "outputs": [],
   "source": [
    "####Q) create a 2D array with 6 rows and 3 columns . reshape it to a 3D array"
   ]
  },
  {
   "cell_type": "markdown",
   "id": "0987d13a",
   "metadata": {},
   "source": [
    "#### Convert a higher dimentional array to a lower dimentional array- we use two functions ravel() and flatten()."
   ]
  },
  {
   "cell_type": "code",
   "execution_count": 29,
   "id": "19abbe32",
   "metadata": {},
   "outputs": [
    {
     "data": {
      "text/plain": [
       "array([ 2,  3,  4,  5,  6,  7,  8,  9, 10, 11, 12, 13])"
      ]
     },
     "execution_count": 29,
     "metadata": {},
     "output_type": "execute_result"
    }
   ],
   "source": [
    "arr_lowerd=arr3d.flatten()\n",
    "arr_lowerd"
   ]
  },
  {
   "cell_type": "code",
   "execution_count": 30,
   "id": "d4abf75f",
   "metadata": {},
   "outputs": [
    {
     "data": {
      "text/plain": [
       "array([ 2,  3,  4,  5,  6,  7,  8,  9, 10, 11, 12, 13])"
      ]
     },
     "execution_count": 30,
     "metadata": {},
     "output_type": "execute_result"
    }
   ],
   "source": [
    "arr_lowerdd=arr2d.ravel()\n",
    "arr_lowerdd"
   ]
  },
  {
   "cell_type": "code",
   "execution_count": 31,
   "id": "c48e3259",
   "metadata": {},
   "outputs": [],
   "source": [
    "#create two arrays one having elements 30,20,10 and the second having elements 40,50,60 and perform the basic mathematical\n",
    "#operations."
   ]
  },
  {
   "cell_type": "code",
   "execution_count": 32,
   "id": "0ea6d554",
   "metadata": {},
   "outputs": [
    {
     "data": {
      "text/plain": [
       "array([[ 4,  3,  2],\n",
       "       [10,  1,  0],\n",
       "       [ 5,  8, 24]])"
      ]
     },
     "execution_count": 32,
     "metadata": {},
     "output_type": "execute_result"
    }
   ],
   "source": [
    "###statistical operations-:\n",
    "array4=np.array([[4,3,2],[10,1,0],[5,8,24]])\n",
    "array4"
   ]
  },
  {
   "cell_type": "code",
   "execution_count": 33,
   "id": "8634fa72",
   "metadata": {},
   "outputs": [],
   "source": [
    "####perform basic statistical operations like mean,median,std,var."
   ]
  },
  {
   "cell_type": "code",
   "execution_count": null,
   "id": "ebed62d8",
   "metadata": {},
   "outputs": [],
   "source": []
  }
 ],
 "metadata": {
  "kernelspec": {
   "display_name": "Python 3 (ipykernel)",
   "language": "python",
   "name": "python3"
  },
  "language_info": {
   "codemirror_mode": {
    "name": "ipython",
    "version": 3
   },
   "file_extension": ".py",
   "mimetype": "text/x-python",
   "name": "python",
   "nbconvert_exporter": "python",
   "pygments_lexer": "ipython3",
   "version": "3.11.4"
  }
 },
 "nbformat": 4,
 "nbformat_minor": 5
}
