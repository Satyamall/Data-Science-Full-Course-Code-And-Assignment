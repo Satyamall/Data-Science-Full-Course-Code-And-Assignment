{
 "cells": [
  {
   "cell_type": "markdown",
   "id": "a492c1f8",
   "metadata": {},
   "source": [
    "### Internal data types in python-(already exsisting)\n",
    "* String- aggregate\n",
    "* List - aggregate\n",
    "* Sets -aggregate\n",
    "* Dictionaries - aggregate\n",
    "* Tuples - aggregate\n",
    "* Integer - scaler\n",
    "* Float - scaler\n",
    "* Cmplex - scaler\n",
    "* Boolean - scaler"
   ]
  },
  {
   "cell_type": "code",
   "execution_count": 1,
   "id": "a4f06dd1",
   "metadata": {},
   "outputs": [],
   "source": [
    "x=10"
   ]
  },
  {
   "cell_type": "code",
   "execution_count": 2,
   "id": "1e514efb",
   "metadata": {},
   "outputs": [],
   "source": [
    "y=56.5"
   ]
  },
  {
   "cell_type": "code",
   "execution_count": 3,
   "id": "635adb0f",
   "metadata": {},
   "outputs": [],
   "source": [
    "z=True"
   ]
  },
  {
   "cell_type": "code",
   "execution_count": 4,
   "id": "e1766ac4",
   "metadata": {},
   "outputs": [
    {
     "name": "stdout",
     "output_type": "stream",
     "text": [
      "<class 'int'>\n"
     ]
    }
   ],
   "source": [
    "print(type(x))"
   ]
  },
  {
   "cell_type": "code",
   "execution_count": 6,
   "id": "d56fc4d8",
   "metadata": {},
   "outputs": [
    {
     "name": "stdout",
     "output_type": "stream",
     "text": [
      "<class 'bool'>\n",
      "<class 'float'>\n"
     ]
    }
   ],
   "source": [
    "print(type(z))\n",
    "print(type(y))"
   ]
  },
  {
   "cell_type": "code",
   "execution_count": 7,
   "id": "b367baa4",
   "metadata": {},
   "outputs": [],
   "source": [
    "## aggregate datatype is combination of scalar data types"
   ]
  },
  {
   "cell_type": "code",
   "execution_count": 8,
   "id": "d575b4e5",
   "metadata": {},
   "outputs": [
    {
     "name": "stdout",
     "output_type": "stream",
     "text": [
      "<class 'complex'>\n"
     ]
    }
   ],
   "source": [
    "a=6+3j\n",
    "print(type(a))"
   ]
  },
  {
   "cell_type": "code",
   "execution_count": 9,
   "id": "377d98ed",
   "metadata": {},
   "outputs": [
    {
     "name": "stdout",
     "output_type": "stream",
     "text": [
      "<class 'str'>\n"
     ]
    }
   ],
   "source": [
    "b='simplilearn'\n",
    "print(type(b))"
   ]
  },
  {
   "cell_type": "code",
   "execution_count": 12,
   "id": "c1f40a9a",
   "metadata": {},
   "outputs": [
    {
     "data": {
      "text/plain": [
       "str"
      ]
     },
     "execution_count": 12,
     "metadata": {},
     "output_type": "execute_result"
    }
   ],
   "source": [
    "c= \"\"\"This is the first session on Python\n",
    "and we are proceeding well\"\"\"\n",
    "type(c)"
   ]
  },
  {
   "cell_type": "code",
   "execution_count": 13,
   "id": "33220ddb",
   "metadata": {},
   "outputs": [],
   "source": [
    "### string values are always defined within single quotes or double quotes. But when we have a multiline string value,\n",
    "### we need to enclose it within three single quotes or three double quotes."
   ]
  },
  {
   "cell_type": "markdown",
   "id": "97657d7d",
   "metadata": {},
   "source": [
    "#### Tuples are created with multiple data types,created with () or a tuple constructor,are a ordered collection of elements\n",
    "#### and are immutable."
   ]
  },
  {
   "cell_type": "code",
   "execution_count": 1,
   "id": "e7c63605",
   "metadata": {},
   "outputs": [],
   "source": [
    "###Constructors are used to create objects from a class."
   ]
  },
  {
   "cell_type": "code",
   "execution_count": 2,
   "id": "789d1ceb",
   "metadata": {},
   "outputs": [
    {
     "name": "stdout",
     "output_type": "stream",
     "text": [
      "<class 'tuple'>\n"
     ]
    }
   ],
   "source": [
    "t1=(6,7.5,4+6j,False,None)\n",
    "print(type(t1))"
   ]
  },
  {
   "cell_type": "code",
   "execution_count": 3,
   "id": "cb7a9dd5",
   "metadata": {},
   "outputs": [
    {
     "data": {
      "text/plain": [
       "(6, 7.5, (4+6j), False, None)"
      ]
     },
     "execution_count": 3,
     "metadata": {},
     "output_type": "execute_result"
    }
   ],
   "source": [
    "t1"
   ]
  },
  {
   "cell_type": "code",
   "execution_count": 5,
   "id": "5ce191c5",
   "metadata": {},
   "outputs": [
    {
     "data": {
      "text/plain": [
       "(6, 7.5, (4+6j), False, None)"
      ]
     },
     "execution_count": 5,
     "metadata": {},
     "output_type": "execute_result"
    }
   ],
   "source": [
    "t2=tuple((6,7.5,4+6j,False,None))\n",
    "t2"
   ]
  },
  {
   "cell_type": "code",
   "execution_count": 6,
   "id": "0abcfa6d",
   "metadata": {},
   "outputs": [
    {
     "data": {
      "text/plain": [
       "(4+6j)"
      ]
     },
     "execution_count": 6,
     "metadata": {},
     "output_type": "execute_result"
    }
   ],
   "source": [
    "t2[-3]"
   ]
  },
  {
   "cell_type": "code",
   "execution_count": 7,
   "id": "1bb4badb",
   "metadata": {},
   "outputs": [
    {
     "data": {
      "text/plain": [
       "(4+6j)"
      ]
     },
     "execution_count": 7,
     "metadata": {},
     "output_type": "execute_result"
    }
   ],
   "source": [
    "t2[2]"
   ]
  },
  {
   "cell_type": "code",
   "execution_count": 8,
   "id": "065614bb",
   "metadata": {},
   "outputs": [],
   "source": [
    "###immutable means we cannot change/modify."
   ]
  },
  {
   "cell_type": "code",
   "execution_count": 9,
   "id": "fd517849",
   "metadata": {},
   "outputs": [
    {
     "ename": "TypeError",
     "evalue": "'tuple' object does not support item assignment",
     "output_type": "error",
     "traceback": [
      "\u001b[1;31m---------------------------------------------------------------------------\u001b[0m",
      "\u001b[1;31mTypeError\u001b[0m                                 Traceback (most recent call last)",
      "Cell \u001b[1;32mIn[9], line 1\u001b[0m\n\u001b[1;32m----> 1\u001b[0m t2[\u001b[38;5;241m2\u001b[39m]\u001b[38;5;241m=\u001b[39m\u001b[38;5;124m'\u001b[39m\u001b[38;5;124mtext\u001b[39m\u001b[38;5;124m'\u001b[39m\n",
      "\u001b[1;31mTypeError\u001b[0m: 'tuple' object does not support item assignment"
     ]
    }
   ],
   "source": [
    "t2[2]='text'"
   ]
  },
  {
   "cell_type": "code",
   "execution_count": 10,
   "id": "c2c67743",
   "metadata": {},
   "outputs": [
    {
     "data": {
      "text/plain": [
       "tuple"
      ]
     },
     "execution_count": 10,
     "metadata": {},
     "output_type": "execute_result"
    }
   ],
   "source": [
    "type(t2)"
   ]
  },
  {
   "cell_type": "code",
   "execution_count": 11,
   "id": "40cfba5a",
   "metadata": {},
   "outputs": [
    {
     "data": {
      "text/plain": [
       "4"
      ]
     },
     "execution_count": 11,
     "metadata": {},
     "output_type": "execute_result"
    }
   ],
   "source": [
    "t3=(0,1,2,3,1,2,1,1,5)\n",
    "t3.count(1)   #count returns the frequency of occurance of an element"
   ]
  },
  {
   "cell_type": "code",
   "execution_count": 13,
   "id": "9c4c3158",
   "metadata": {},
   "outputs": [
    {
     "data": {
      "text/plain": [
       "3"
      ]
     },
     "execution_count": 13,
     "metadata": {},
     "output_type": "execute_result"
    }
   ],
   "source": [
    "t3.index(3) #the index function returns the index position of an element"
   ]
  },
  {
   "cell_type": "markdown",
   "id": "dacd4654",
   "metadata": {},
   "source": [
    "#### List: lists are an ordered collection of elements (mixed data types),lists are mutable,lists are created with [] brackets or the list constructor."
   ]
  },
  {
   "cell_type": "code",
   "execution_count": 14,
   "id": "cc84befd",
   "metadata": {},
   "outputs": [
    {
     "name": "stdout",
     "output_type": "stream",
     "text": [
      "[6, 7.5, (4+6j), False, None]\n",
      "<class 'list'>\n"
     ]
    }
   ],
   "source": [
    "list0=[6,7.5,4+6j,False,None]\n",
    "print(list0)\n",
    "print(type(list0))"
   ]
  },
  {
   "cell_type": "code",
   "execution_count": 15,
   "id": "d633b522",
   "metadata": {},
   "outputs": [
    {
     "name": "stdout",
     "output_type": "stream",
     "text": [
      "[6, 7.5, (4+6j), False, None]\n",
      "<class 'list'>\n"
     ]
    }
   ],
   "source": [
    "list1=list((6,7.5,4+6j,False,None))\n",
    "print(list1)\n",
    "print(type(list1))"
   ]
  },
  {
   "cell_type": "code",
   "execution_count": 16,
   "id": "2903574d",
   "metadata": {},
   "outputs": [],
   "source": [
    "list1[2]='text'"
   ]
  },
  {
   "cell_type": "code",
   "execution_count": 17,
   "id": "bd1966b9",
   "metadata": {},
   "outputs": [
    {
     "data": {
      "text/plain": [
       "[6, 7.5, 'text', False, None]"
      ]
     },
     "execution_count": 17,
     "metadata": {},
     "output_type": "execute_result"
    }
   ],
   "source": [
    "list1"
   ]
  },
  {
   "cell_type": "code",
   "execution_count": 18,
   "id": "b6da457e",
   "metadata": {},
   "outputs": [],
   "source": [
    "##append-to add an element to a list at the end\n",
    "list1.append(58)"
   ]
  },
  {
   "cell_type": "code",
   "execution_count": 19,
   "id": "a911034d",
   "metadata": {},
   "outputs": [
    {
     "data": {
      "text/plain": [
       "[6, 7.5, 'text', False, None, 58]"
      ]
     },
     "execution_count": 19,
     "metadata": {},
     "output_type": "execute_result"
    }
   ],
   "source": [
    "list1"
   ]
  },
  {
   "cell_type": "code",
   "execution_count": 20,
   "id": "246636e7",
   "metadata": {},
   "outputs": [],
   "source": [
    "###insert method-to include an element in a specific position\n",
    "list1.insert(3,'new')"
   ]
  },
  {
   "cell_type": "code",
   "execution_count": 21,
   "id": "fe6f81bc",
   "metadata": {},
   "outputs": [
    {
     "data": {
      "text/plain": [
       "[6, 7.5, 'text', 'new', False, None, 58]"
      ]
     },
     "execution_count": 21,
     "metadata": {},
     "output_type": "execute_result"
    }
   ],
   "source": [
    "list1"
   ]
  },
  {
   "cell_type": "code",
   "execution_count": 22,
   "id": "a5bf3a2f",
   "metadata": {},
   "outputs": [],
   "source": [
    "###extend-add multiple values:\n",
    "list4=[True,70,23.5,8+2j]\n",
    "list1.extend(list4)"
   ]
  },
  {
   "cell_type": "code",
   "execution_count": 23,
   "id": "de5f218f",
   "metadata": {},
   "outputs": [
    {
     "data": {
      "text/plain": [
       "[6, 7.5, 'text', 'new', False, None, 58, True, 70, 23.5, (8+2j)]"
      ]
     },
     "execution_count": 23,
     "metadata": {},
     "output_type": "execute_result"
    }
   ],
   "source": [
    "list1"
   ]
  },
  {
   "cell_type": "code",
   "execution_count": 24,
   "id": "1318b3dd",
   "metadata": {},
   "outputs": [
    {
     "data": {
      "text/plain": [
       "1"
      ]
     },
     "execution_count": 24,
     "metadata": {},
     "output_type": "execute_result"
    }
   ],
   "source": [
    "list1.count('new')"
   ]
  },
  {
   "cell_type": "code",
   "execution_count": 25,
   "id": "5d10677f",
   "metadata": {},
   "outputs": [
    {
     "data": {
      "text/plain": [
       "5"
      ]
     },
     "execution_count": 25,
     "metadata": {},
     "output_type": "execute_result"
    }
   ],
   "source": [
    "list1.index(None)"
   ]
  },
  {
   "cell_type": "code",
   "execution_count": 26,
   "id": "d66cf9d3",
   "metadata": {},
   "outputs": [],
   "source": [
    "#Q) create a list with elements 34,78,99,24,12 and sort the elements in descending order"
   ]
  },
  {
   "cell_type": "code",
   "execution_count": 27,
   "id": "b9b51c62",
   "metadata": {},
   "outputs": [],
   "source": [
    "#Q) consider each value as the sales recorded over 5 days in a week. what is the total sales recorded?"
   ]
  },
  {
   "cell_type": "code",
   "execution_count": 28,
   "id": "8291db76",
   "metadata": {},
   "outputs": [],
   "source": [
    "##Q) read the elements of the above list from the end to the beginning"
   ]
  },
  {
   "cell_type": "code",
   "execution_count": 29,
   "id": "9b91619c",
   "metadata": {},
   "outputs": [],
   "source": [
    "##Q) remove value 12 from the list using the index position"
   ]
  },
  {
   "cell_type": "code",
   "execution_count": 30,
   "id": "0abc6d42",
   "metadata": {},
   "outputs": [],
   "source": [
    "### Q) find the min and max value in the above list"
   ]
  },
  {
   "cell_type": "code",
   "execution_count": 13,
   "id": "97443eea",
   "metadata": {},
   "outputs": [
    {
     "name": "stdout",
     "output_type": "stream",
     "text": [
      "Sales in Desc order: [99, 78, 34, 24, 12]\n",
      "Total sales recored for the week is: 247\n",
      "[24, 34, 78, 99]\n",
      "Minimum Sale is: 24\n",
      "Maximum Sale is: 99\n"
     ]
    }
   ],
   "source": [
    "# Q Create a list with elements 34,78,99,24,12 and sort the elements in descending order.\n",
    "sales = [34,78,99,24,12]\n",
    "sales.sort(reverse=True)\n",
    "print(\"Sales in Desc order:\" , sales)\n",
    "\n",
    "#Q) Consider each value as the sales recorded over 5 days in a week. what is the total sales recorded?\n",
    "total_sales = sum(sales)\n",
    "print('Total sales recored for the week is:', total_sales)\n",
    "\n",
    "#Q) read the elements of the above list from the end to the beginning\n",
    "sales.reverse()\n",
    "sales\n",
    "\n",
    "##Q) remove value 12 from the list using the index position\n",
    "sales.remove(12)\n",
    "print(sales)\n",
    "\n",
    "#Q) find the min & max value in the above list\n",
    "min_sales = min(sales)\n",
    "print('Minimum Sale is:', min_sales)\n",
    "max_sales = max(sales)\n",
    "print('Maximum Sale is:', max_sales)"
   ]
  },
  {
   "cell_type": "code",
   "execution_count": 4,
   "id": "cdb0420f",
   "metadata": {},
   "outputs": [
    {
     "data": {
      "text/plain": [
       "[99, 78, 34, 24, 12]"
      ]
     },
     "execution_count": 4,
     "metadata": {},
     "output_type": "execute_result"
    }
   ],
   "source": [
    "sales2 =[34,78,99,24,12]\n",
    "sales2.sort(reverse=True)\n",
    "sales2"
   ]
  },
  {
   "cell_type": "code",
   "execution_count": 7,
   "id": "17ac304d",
   "metadata": {},
   "outputs": [
    {
     "data": {
      "text/plain": [
       "[12, 24, 34, 78, 99]"
      ]
     },
     "execution_count": 7,
     "metadata": {},
     "output_type": "execute_result"
    }
   ],
   "source": [
    "#Q) read the elements of the above list from the end to the beginning\n",
    "sales"
   ]
  },
  {
   "cell_type": "code",
   "execution_count": 9,
   "id": "87d7d007",
   "metadata": {},
   "outputs": [
    {
     "data": {
      "text/plain": [
       "[99, 78, 34, 24, 12]"
      ]
     },
     "execution_count": 9,
     "metadata": {},
     "output_type": "execute_result"
    }
   ],
   "source": [
    "sales[::-1]   #2nd method"
   ]
  },
  {
   "cell_type": "code",
   "execution_count": 10,
   "id": "f3ae77f2",
   "metadata": {},
   "outputs": [
    {
     "name": "stdout",
     "output_type": "stream",
     "text": [
      "[12, 24, 34, 78, 99]\n"
     ]
    }
   ],
   "source": [
    "##Q) remove value 12 from the list using the index position\n",
    "print(sales)"
   ]
  },
  {
   "cell_type": "code",
   "execution_count": 11,
   "id": "ea668f39",
   "metadata": {},
   "outputs": [
    {
     "data": {
      "text/plain": [
       "12"
      ]
     },
     "execution_count": 11,
     "metadata": {},
     "output_type": "execute_result"
    }
   ],
   "source": [
    "#pop method-remove element from a list using the index position\n",
    "sales.pop(0)"
   ]
  },
  {
   "cell_type": "code",
   "execution_count": 12,
   "id": "a5b3a390",
   "metadata": {},
   "outputs": [
    {
     "data": {
      "text/plain": [
       "[24, 34, 78, 99]"
      ]
     },
     "execution_count": 12,
     "metadata": {},
     "output_type": "execute_result"
    }
   ],
   "source": [
    "sales"
   ]
  },
  {
   "cell_type": "code",
   "execution_count": 14,
   "id": "b589bedc",
   "metadata": {},
   "outputs": [
    {
     "data": {
      "text/plain": [
       "[24, 34, 78, 99]"
      ]
     },
     "execution_count": 14,
     "metadata": {},
     "output_type": "execute_result"
    }
   ],
   "source": [
    "sales"
   ]
  },
  {
   "cell_type": "code",
   "execution_count": 15,
   "id": "d6c85e39",
   "metadata": {},
   "outputs": [
    {
     "data": {
      "text/plain": [
       "24"
      ]
     },
     "execution_count": 15,
     "metadata": {},
     "output_type": "execute_result"
    }
   ],
   "source": [
    "res_min=min(sales)\n",
    "res_min"
   ]
  },
  {
   "cell_type": "markdown",
   "id": "77637f0f",
   "metadata": {},
   "source": [
    "### Sets: unordered collection of elements,supports mixed datatypes,does not allow duplicates,can be created with the curly brackets or the set function,mutable.only frozensets are immutable."
   ]
  },
  {
   "cell_type": "code",
   "execution_count": 16,
   "id": "1501a9d4",
   "metadata": {},
   "outputs": [
    {
     "name": "stdout",
     "output_type": "stream",
     "text": [
      "{True, (4, 5), 20, (4+2j), 13.5, None}\n"
     ]
    }
   ],
   "source": [
    "set1={20,13.5,True,(4,5),4+2j,None,1}\n",
    "print(set1)"
   ]
  },
  {
   "cell_type": "code",
   "execution_count": 17,
   "id": "80afe041",
   "metadata": {},
   "outputs": [
    {
     "data": {
      "text/plain": [
       "{(4+2j), (4, 5), 13.5, 20, None, True}"
      ]
     },
     "execution_count": 17,
     "metadata": {},
     "output_type": "execute_result"
    }
   ],
   "source": [
    "set2=set([20,13.5,True,(4,5),4+2j,None,20])\n",
    "set2"
   ]
  },
  {
   "cell_type": "code",
   "execution_count": 18,
   "id": "030e4a62",
   "metadata": {},
   "outputs": [
    {
     "name": "stdout",
     "output_type": "stream",
     "text": [
      "<class 'set'>\n"
     ]
    }
   ],
   "source": [
    "print(type(set2))"
   ]
  },
  {
   "cell_type": "code",
   "execution_count": 19,
   "id": "62242f0c",
   "metadata": {},
   "outputs": [],
   "source": [
    "##add an element to set1\n",
    "set1.add(100)"
   ]
  },
  {
   "cell_type": "code",
   "execution_count": 20,
   "id": "9077e667",
   "metadata": {},
   "outputs": [
    {
     "data": {
      "text/plain": [
       "{(4+2j), (4, 5), 100, 13.5, 20, None, True}"
      ]
     },
     "execution_count": 20,
     "metadata": {},
     "output_type": "execute_result"
    }
   ],
   "source": [
    "set1"
   ]
  },
  {
   "cell_type": "code",
   "execution_count": 21,
   "id": "bdacb503",
   "metadata": {},
   "outputs": [],
   "source": [
    "set1.discard(4+2j)"
   ]
  },
  {
   "cell_type": "code",
   "execution_count": 22,
   "id": "e60dea08",
   "metadata": {},
   "outputs": [
    {
     "data": {
      "text/plain": [
       "{(4, 5), 100, 13.5, 20, None, True}"
      ]
     },
     "execution_count": 22,
     "metadata": {},
     "output_type": "execute_result"
    }
   ],
   "source": [
    "set1"
   ]
  },
  {
   "cell_type": "markdown",
   "id": "9d161db2",
   "metadata": {},
   "source": [
    "#### Dictionaries contain elements,where each element is a  key:value pair. Keys are immutable,while values are mutable. Dictionaries support mixed datatypes,are created with {} brackets or the dict constructor."
   ]
  },
  {
   "cell_type": "code",
   "execution_count": 17,
   "id": "9c7728ec",
   "metadata": {},
   "outputs": [],
   "source": [
    "dict1={'summer':'mangoes',3:'three',7:'Bond',10875:'simplilearn'}"
   ]
  },
  {
   "cell_type": "code",
   "execution_count": 18,
   "id": "3ea56703",
   "metadata": {},
   "outputs": [
    {
     "data": {
      "text/plain": [
       "dict_keys(['summer', 3, 7, 10875])"
      ]
     },
     "execution_count": 18,
     "metadata": {},
     "output_type": "execute_result"
    }
   ],
   "source": [
    "dict1.keys()"
   ]
  },
  {
   "cell_type": "code",
   "execution_count": 19,
   "id": "ff431e3d",
   "metadata": {},
   "outputs": [
    {
     "data": {
      "text/plain": [
       "dict_values(['mangoes', 'three', 'Bond', 'simplilearn'])"
      ]
     },
     "execution_count": 19,
     "metadata": {},
     "output_type": "execute_result"
    }
   ],
   "source": [
    "dict1.values()"
   ]
  },
  {
   "cell_type": "code",
   "execution_count": 20,
   "id": "5835cd3c",
   "metadata": {},
   "outputs": [
    {
     "data": {
      "text/plain": [
       "'simplilearn'"
      ]
     },
     "execution_count": 20,
     "metadata": {},
     "output_type": "execute_result"
    }
   ],
   "source": [
    "dict1[10875]"
   ]
  },
  {
   "cell_type": "code",
   "execution_count": 21,
   "id": "ad9f08d6",
   "metadata": {},
   "outputs": [],
   "source": [
    "###deleing a key from the dict object\n",
    "del dict1[7]"
   ]
  },
  {
   "cell_type": "code",
   "execution_count": 22,
   "id": "578e81c6",
   "metadata": {},
   "outputs": [
    {
     "data": {
      "text/plain": [
       "{'summer': 'mangoes', 3: 'three', 10875: 'simplilearn'}"
      ]
     },
     "execution_count": 22,
     "metadata": {},
     "output_type": "execute_result"
    }
   ],
   "source": [
    "dict1"
   ]
  },
  {
   "cell_type": "code",
   "execution_count": 23,
   "id": "81906ed1",
   "metadata": {},
   "outputs": [],
   "source": [
    "dict1['summer']='icecream'"
   ]
  },
  {
   "cell_type": "code",
   "execution_count": 24,
   "id": "521fda98",
   "metadata": {},
   "outputs": [
    {
     "data": {
      "text/plain": [
       "{'summer': 'icecream', 3: 'three', 10875: 'simplilearn'}"
      ]
     },
     "execution_count": 24,
     "metadata": {},
     "output_type": "execute_result"
    }
   ],
   "source": [
    "dict1"
   ]
  },
  {
   "cell_type": "code",
   "execution_count": 25,
   "id": "c9140610",
   "metadata": {},
   "outputs": [],
   "source": [
    "### keys are immutable and can never be modified"
   ]
  },
  {
   "cell_type": "code",
   "execution_count": 27,
   "id": "83e1879f",
   "metadata": {},
   "outputs": [
    {
     "name": "stdout",
     "output_type": "stream",
     "text": [
      "if statement is false\n"
     ]
    }
   ],
   "source": [
    "x=16\n",
    "\n",
    "if (x<15):\n",
    "    print('x is less than 15')\n",
    "else:\n",
    "    print('if statement is false')\n",
    "    \n",
    "\n"
   ]
  },
  {
   "cell_type": "code",
   "execution_count": 29,
   "id": "e2fdcad0",
   "metadata": {},
   "outputs": [
    {
     "name": "stdout",
     "output_type": "stream",
     "text": [
      "none of the above conditions are true\n"
     ]
    }
   ],
   "source": [
    "a=10\n",
    "\n",
    "if(a==20):\n",
    "    print('a is twenty')\n",
    "elif(a==15):\n",
    "    print('a is fifteen')\n",
    "elif(a>15):\n",
    "    print('a is greater than 15')\n",
    "else:\n",
    "    print('none of the above conditions are true')\n",
    "\n"
   ]
  },
  {
   "cell_type": "code",
   "execution_count": 33,
   "id": "4ab668ac",
   "metadata": {},
   "outputs": [
    {
     "name": "stdout",
     "output_type": "stream",
     "text": [
      "none of the above conditions are true\n"
     ]
    }
   ],
   "source": [
    "a=10\n",
    "\n",
    "if(a==20):\n",
    "    print('a is twenty')\n",
    "elif(a==15):\n",
    "    print('a is fifteen')\n",
    "elif(a>15):\n",
    "    print('a is greater than 15')\n",
    "\n",
    "\n",
    "    \n",
    "print('none of the above conditions are true')\n"
   ]
  },
  {
   "cell_type": "code",
   "execution_count": 34,
   "id": "a69d68d3",
   "metadata": {},
   "outputs": [],
   "source": [
    "b=[20,34,56,78,12]"
   ]
  },
  {
   "cell_type": "code",
   "execution_count": 35,
   "id": "fcb905d6",
   "metadata": {},
   "outputs": [
    {
     "name": "stdout",
     "output_type": "stream",
     "text": [
      "20\n",
      "34\n",
      "56\n",
      "78\n",
      "12\n"
     ]
    }
   ],
   "source": [
    "for obj in b:\n",
    "    print(obj)"
   ]
  },
  {
   "cell_type": "code",
   "execution_count": 36,
   "id": "5a046837",
   "metadata": {},
   "outputs": [
    {
     "name": "stdout",
     "output_type": "stream",
     "text": [
      "5\n",
      "6\n",
      "7\n",
      "8\n",
      "9\n",
      "10\n",
      "11\n",
      "12\n",
      "13\n",
      "14\n",
      "15\n"
     ]
    }
   ],
   "source": [
    "for j in range(5,16):\n",
    "    print(j)"
   ]
  },
  {
   "cell_type": "code",
   "execution_count": 40,
   "id": "79a5de82",
   "metadata": {},
   "outputs": [
    {
     "name": "stdout",
     "output_type": "stream",
     "text": [
      "[5, 6, 7, 8, 9, 10, 11, 12, 13, 14, 15]\n"
     ]
    }
   ],
   "source": [
    "print(list(range(5,16)))"
   ]
  },
  {
   "cell_type": "code",
   "execution_count": 41,
   "id": "d044a9fc",
   "metadata": {},
   "outputs": [
    {
     "name": "stdout",
     "output_type": "stream",
     "text": [
      "7\n",
      "8\n",
      "9\n",
      "10\n",
      "11\n",
      "12\n",
      "13\n",
      "14\n"
     ]
    }
   ],
   "source": [
    "y=7\n",
    "while(y<15):\n",
    "    if y>5:\n",
    "        print(y)\n",
    "        y=y+1\n",
    "        "
   ]
  },
  {
   "cell_type": "code",
   "execution_count": 42,
   "id": "3446b09b",
   "metadata": {},
   "outputs": [],
   "source": [
    "### There are 2 loop control statements-break and continue"
   ]
  },
  {
   "cell_type": "code",
   "execution_count": 43,
   "id": "cb6866ac",
   "metadata": {},
   "outputs": [],
   "source": [
    "b=[20,34,56,78,12]"
   ]
  },
  {
   "cell_type": "code",
   "execution_count": 47,
   "id": "fb7db4cd",
   "metadata": {},
   "outputs": [
    {
     "name": "stdout",
     "output_type": "stream",
     "text": [
      "20\n",
      "34\n",
      "56\n"
     ]
    }
   ],
   "source": [
    "for rahul in b:\n",
    "    if rahul ==78:\n",
    "        break\n",
    "    print(rahul)\n",
    "    "
   ]
  },
  {
   "cell_type": "code",
   "execution_count": 49,
   "id": "d768d1c7",
   "metadata": {},
   "outputs": [
    {
     "name": "stdout",
     "output_type": "stream",
     "text": [
      "s\n",
      "i\n",
      "m\n",
      "l\n",
      "i\n",
      "l\n",
      "a\n",
      "r\n",
      "n\n"
     ]
    }
   ],
   "source": [
    "for i in 'simplilearn':\n",
    "    if i=='p' or i=='e':\n",
    "        continue\n",
    "    print(i)"
   ]
  },
  {
   "cell_type": "code",
   "execution_count": 50,
   "id": "013e1f0e",
   "metadata": {},
   "outputs": [
    {
     "name": "stdout",
     "output_type": "stream",
     "text": [
      "1\n",
      "6\n",
      "11\n",
      "16\n",
      "21\n"
     ]
    }
   ],
   "source": [
    "d= 1\n",
    "while(d<25):\n",
    "    print(d)\n",
    "    d=d+5"
   ]
  },
  {
   "cell_type": "code",
   "execution_count": 1,
   "id": "a3b046b9",
   "metadata": {},
   "outputs": [],
   "source": [
    "##Q) get the unique items from the below sets:\n",
    "#set1={10,2030,40,50}\n",
    "#set2={30,40,50,60,70}"
   ]
  },
  {
   "cell_type": "code",
   "execution_count": 51,
   "id": "ef5bf52f",
   "metadata": {},
   "outputs": [
    {
     "data": {
      "text/plain": [
       "{10, 20, 30, 40, 50, 60, 70}"
      ]
     },
     "execution_count": 51,
     "metadata": {},
     "output_type": "execute_result"
    }
   ],
   "source": [
    "set1={10,20,30,40,50}\n",
    "set2={30,40,50,60,70}\n",
    "set1.union(set2)"
   ]
  },
  {
   "cell_type": "code",
   "execution_count": 56,
   "id": "be67053e",
   "metadata": {},
   "outputs": [],
   "source": [
    "set1.add(89)"
   ]
  },
  {
   "cell_type": "code",
   "execution_count": 57,
   "id": "b9f21237",
   "metadata": {},
   "outputs": [
    {
     "data": {
      "text/plain": [
       "{10, 20, 30, 40, 50, 89}"
      ]
     },
     "execution_count": 57,
     "metadata": {},
     "output_type": "execute_result"
    }
   ],
   "source": [
    "set1"
   ]
  },
  {
   "cell_type": "code",
   "execution_count": 58,
   "id": "02b0c4b1",
   "metadata": {},
   "outputs": [],
   "source": [
    "set1.add((56,78,12))"
   ]
  },
  {
   "cell_type": "code",
   "execution_count": 59,
   "id": "7bf5d7bd",
   "metadata": {},
   "outputs": [
    {
     "data": {
      "text/plain": [
       "{(56, 78, 12), 10, 20, 30, 40, 50, 89}"
      ]
     },
     "execution_count": 59,
     "metadata": {},
     "output_type": "execute_result"
    }
   ],
   "source": [
    "set1"
   ]
  },
  {
   "cell_type": "code",
   "execution_count": 60,
   "id": "d428a60d",
   "metadata": {},
   "outputs": [],
   "source": [
    "set1.update((56,78,12))"
   ]
  },
  {
   "cell_type": "code",
   "execution_count": 61,
   "id": "bf20c208",
   "metadata": {},
   "outputs": [
    {
     "data": {
      "text/plain": [
       "{(56, 78, 12), 10, 12, 20, 30, 40, 50, 56, 78, 89}"
      ]
     },
     "execution_count": 61,
     "metadata": {},
     "output_type": "execute_result"
    }
   ],
   "source": [
    "set1"
   ]
  },
  {
   "cell_type": "code",
   "execution_count": 2,
   "id": "699b808d",
   "metadata": {},
   "outputs": [],
   "source": [
    "#Q)get the key of the min value from the below dictionary:\n",
    "#test_dict={'Maths':77,'English':88,'Economics':92}"
   ]
  },
  {
   "cell_type": "code",
   "execution_count": 52,
   "id": "ec42df99",
   "metadata": {},
   "outputs": [
    {
     "data": {
      "text/plain": [
       "'Maths'"
      ]
     },
     "execution_count": 52,
     "metadata": {},
     "output_type": "execute_result"
    }
   ],
   "source": [
    "test_dict={'Maths':77,'English':88,'Economics':92}\n",
    "test_dict\n",
    "min_value = min(test_dict, key=test_dict.get)\n",
    "min_value"
   ]
  },
  {
   "cell_type": "code",
   "execution_count": 3,
   "id": "4c00a96f",
   "metadata": {},
   "outputs": [],
   "source": [
    "##Q) create a dictionary with key value (1,python) and (2,session) and (3,dict(a:welcome b:to c:python))"
   ]
  },
  {
   "cell_type": "code",
   "execution_count": 53,
   "id": "c4211fc9",
   "metadata": {},
   "outputs": [
    {
     "name": "stdout",
     "output_type": "stream",
     "text": [
      "{1: 'python', 2: 'session', 3: {'a': 'welcome', 'b': 'to', 'c': 'python'}}\n"
     ]
    }
   ],
   "source": [
    "dict1 = {1:'python',2:'session',3:{'a':'welcome','b':'to','c':'python'}}\n",
    "print(dict1)"
   ]
  },
  {
   "cell_type": "code",
   "execution_count": 4,
   "id": "fd8b11b8",
   "metadata": {},
   "outputs": [],
   "source": [
    "##Q) access the value 'to' from the nested dictionary above."
   ]
  },
  {
   "cell_type": "code",
   "execution_count": 54,
   "id": "732a2427",
   "metadata": {},
   "outputs": [
    {
     "data": {
      "text/plain": [
       "{'a': 'welcome', 'b': 'to', 'c': 'python'}"
      ]
     },
     "execution_count": 54,
     "metadata": {},
     "output_type": "execute_result"
    }
   ],
   "source": [
    "dict1[3]"
   ]
  },
  {
   "cell_type": "code",
   "execution_count": 55,
   "id": "ab3ed07f",
   "metadata": {},
   "outputs": [
    {
     "data": {
      "text/plain": [
       "'to'"
      ]
     },
     "execution_count": 55,
     "metadata": {},
     "output_type": "execute_result"
    }
   ],
   "source": [
    "dict1[3]['b']"
   ]
  },
  {
   "cell_type": "code",
   "execution_count": 5,
   "id": "ed1b03c2",
   "metadata": {},
   "outputs": [],
   "source": [
    "###Q) add this dict5={'my':'10','name':20,'is':30,'python':40} to dict1 created above."
   ]
  },
  {
   "cell_type": "code",
   "execution_count": 62,
   "id": "c39b8861",
   "metadata": {},
   "outputs": [
    {
     "data": {
      "text/plain": [
       "{1: 'python',\n",
       " 2: 'session',\n",
       " 3: {'a': 'welcome', 'b': 'to', 'c': 'python'},\n",
       " 'my': '10',\n",
       " 'name': 20,\n",
       " 'is': 30,\n",
       " 'python': 40}"
      ]
     },
     "execution_count": 62,
     "metadata": {},
     "output_type": "execute_result"
    }
   ],
   "source": [
    "dict5={'my':'10','name':20,'is':30,'python':40}\n",
    "dict1.update(dict5)\n",
    "dict1"
   ]
  },
  {
   "cell_type": "code",
   "execution_count": 6,
   "id": "30e56f18",
   "metadata": {},
   "outputs": [],
   "source": [
    "###Q) remove the last key-value pair from the above dict you created."
   ]
  },
  {
   "cell_type": "code",
   "execution_count": 64,
   "id": "33935a63",
   "metadata": {},
   "outputs": [
    {
     "name": "stdout",
     "output_type": "stream",
     "text": [
      "{1: 'python', 2: 'session', 3: {'a': 'welcome', 'b': 'to', 'c': 'python'}, 'my': '10', 'name': 20}\n"
     ]
    }
   ],
   "source": [
    "#del dict1['python'] #the method popitem will remove the last element from the object.\n",
    "#dict1\n",
    "\n",
    "dict1.popitem()\n",
    "print(dict1)\n"
   ]
  },
  {
   "cell_type": "code",
   "execution_count": 7,
   "id": "6714a1b3",
   "metadata": {},
   "outputs": [],
   "source": [
    "###Q)check if dict1 has a key called 'summer'"
   ]
  },
  {
   "cell_type": "code",
   "execution_count": 70,
   "id": "4421759a",
   "metadata": {},
   "outputs": [
    {
     "name": "stdout",
     "output_type": "stream",
     "text": [
      "key not found\n"
     ]
    }
   ],
   "source": [
    "if 'summer' in dict1:\n",
    "    print('key called summer is available')\n",
    "else:\n",
    "    print('key not found')"
   ]
  },
  {
   "cell_type": "code",
   "execution_count": 65,
   "id": "bed28678",
   "metadata": {},
   "outputs": [
    {
     "data": {
      "text/plain": [
       "False"
      ]
     },
     "execution_count": 65,
     "metadata": {},
     "output_type": "execute_result"
    }
   ],
   "source": [
    "#in operator will help us search for a value in a collection of values.\n",
    "list1=['red','blue','green','yellow','magenta']\n",
    "'pink' in list1"
   ]
  },
  {
   "cell_type": "code",
   "execution_count": 66,
   "id": "076a2e83",
   "metadata": {},
   "outputs": [
    {
     "data": {
      "text/plain": [
       "True"
      ]
     },
     "execution_count": 66,
     "metadata": {},
     "output_type": "execute_result"
    }
   ],
   "source": [
    "'green' in list1"
   ]
  },
  {
   "cell_type": "code",
   "execution_count": 67,
   "id": "3cf3b799",
   "metadata": {},
   "outputs": [
    {
     "data": {
      "text/plain": [
       "False"
      ]
     },
     "execution_count": 67,
     "metadata": {},
     "output_type": "execute_result"
    }
   ],
   "source": [
    "'summer' in dict1"
   ]
  },
  {
   "cell_type": "code",
   "execution_count": 69,
   "id": "d6051a72",
   "metadata": {},
   "outputs": [
    {
     "data": {
      "text/plain": [
       "True"
      ]
     },
     "execution_count": 69,
     "metadata": {},
     "output_type": "execute_result"
    }
   ],
   "source": [
    "'name' in dict1"
   ]
  },
  {
   "cell_type": "markdown",
   "id": "26d1f1d7",
   "metadata": {},
   "source": [
    "#### We request user input using the input() function. these inputs are by default stored as string values,so before performing and numercal operations,we need to convert it to an integer."
   ]
  },
  {
   "cell_type": "code",
   "execution_count": 8,
   "id": "96f6b36b",
   "metadata": {},
   "outputs": [],
   "source": [
    "###Python is an interpreted language and does a line by line execution.if there is an error in one line,\n",
    "###the next line will not be executed. \n",
    "### The condition should be TRUE for the execution to happen."
   ]
  },
  {
   "cell_type": "code",
   "execution_count": 9,
   "id": "70e6a9a0",
   "metadata": {},
   "outputs": [],
   "source": [
    "###Q) use the input function and check with the number entered by a user is odd or even."
   ]
  },
  {
   "cell_type": "code",
   "execution_count": 74,
   "id": "42b8c9f7",
   "metadata": {},
   "outputs": [
    {
     "name": "stdout",
     "output_type": "stream",
     "text": [
      "Enter your value:6\n",
      "number is even\n"
     ]
    }
   ],
   "source": [
    "value=int(input('Enter your value:'))\n",
    "\n",
    "if value%2==0:\n",
    "    print('number is even')\n",
    "else:\n",
    "    print('number is odd')"
   ]
  },
  {
   "cell_type": "code",
   "execution_count": 10,
   "id": "39863e72",
   "metadata": {},
   "outputs": [],
   "source": [
    "###Q) use the input function to check if a number entered by an user is a multiple of 6,then print 'yes' otherwise\n",
    "### print 'no'"
   ]
  },
  {
   "cell_type": "code",
   "execution_count": 2,
   "id": "d76880a5",
   "metadata": {},
   "outputs": [
    {
     "name": "stdout",
     "output_type": "stream",
     "text": [
      "Enter a number: 41\n",
      "Number is not multiple of 6\n"
     ]
    }
   ],
   "source": [
    "number = int(input(\"Enter a number: \"))\n",
    "if number%6 == 0:\n",
    "    print(\"Number is multiple of 6\")\n",
    "else:\n",
    "    print(\"Number is not multiple of 6\")"
   ]
  },
  {
   "cell_type": "code",
   "execution_count": 11,
   "id": "c2f03f3e",
   "metadata": {},
   "outputs": [],
   "source": [
    "####Q) write a program to print the first 10 even numbers---hint: use a for loop,and a while loop both."
   ]
  },
  {
   "cell_type": "code",
   "execution_count": 3,
   "id": "2f8b51e0",
   "metadata": {},
   "outputs": [
    {
     "name": "stdout",
     "output_type": "stream",
     "text": [
      "2\n",
      "4\n",
      "6\n",
      "8\n",
      "10\n",
      "12\n",
      "14\n",
      "16\n",
      "18\n",
      "20\n"
     ]
    }
   ],
   "source": [
    "for i in range(1,11):\n",
    "        print (i*2)"
   ]
  },
  {
   "cell_type": "code",
   "execution_count": 4,
   "id": "da1a4bd9",
   "metadata": {},
   "outputs": [
    {
     "name": "stdout",
     "output_type": "stream",
     "text": [
      "2\n",
      "4\n",
      "6\n",
      "8\n",
      "10\n",
      "12\n",
      "14\n",
      "16\n",
      "18\n",
      "20\n"
     ]
    }
   ],
   "source": [
    "for i in range(1,21):\n",
    "    while(i%2==0):\n",
    "        print(i)\n",
    "        i=i+1"
   ]
  },
  {
   "cell_type": "code",
   "execution_count": null,
   "id": "52f92d08",
   "metadata": {},
   "outputs": [],
   "source": [
    "num1 = 2\n",
    "while num1 <= 20:\n",
    "        print(num1)\n",
    "        num1 += 2\n",
    "print(\"10 even numbers using while loop\")"
   ]
  },
  {
   "cell_type": "code",
   "execution_count": 12,
   "id": "0e52ed4b",
   "metadata": {},
   "outputs": [],
   "source": [
    "####Q) print the numbers you get in the reverse order as well."
   ]
  },
  {
   "cell_type": "code",
   "execution_count": null,
   "id": "e8b0f66c",
   "metadata": {},
   "outputs": [],
   "source": [
    "#while loop for reverse order\n",
    "num = 20\n",
    "while num >= 2:\n",
    "    print(num)\n",
    "    num -= 2"
   ]
  },
  {
   "cell_type": "code",
   "execution_count": 13,
   "id": "4aee99bd",
   "metadata": {},
   "outputs": [],
   "source": [
    "###Q) loop through number 100-500 (both included) and check which numbers are divisible by 11 but not divisible by 3."
   ]
  },
  {
   "cell_type": "code",
   "execution_count": 5,
   "id": "6a503eda",
   "metadata": {},
   "outputs": [
    {
     "name": "stdout",
     "output_type": "stream",
     "text": [
      "110 is divisble by 11 and not by 3\n",
      "121 is divisble by 11 and not by 3\n",
      "143 is divisble by 11 and not by 3\n",
      "154 is divisble by 11 and not by 3\n",
      "176 is divisble by 11 and not by 3\n",
      "187 is divisble by 11 and not by 3\n",
      "209 is divisble by 11 and not by 3\n",
      "220 is divisble by 11 and not by 3\n",
      "242 is divisble by 11 and not by 3\n",
      "253 is divisble by 11 and not by 3\n",
      "275 is divisble by 11 and not by 3\n",
      "286 is divisble by 11 and not by 3\n",
      "308 is divisble by 11 and not by 3\n",
      "319 is divisble by 11 and not by 3\n",
      "341 is divisble by 11 and not by 3\n",
      "352 is divisble by 11 and not by 3\n",
      "374 is divisble by 11 and not by 3\n",
      "385 is divisble by 11 and not by 3\n",
      "407 is divisble by 11 and not by 3\n",
      "418 is divisble by 11 and not by 3\n",
      "440 is divisble by 11 and not by 3\n",
      "451 is divisble by 11 and not by 3\n",
      "473 is divisble by 11 and not by 3\n",
      "484 is divisble by 11 and not by 3\n"
     ]
    }
   ],
   "source": [
    "###Q) loop through number 100-500 (both included) and check which numbers are divisible by 11 but not divisible by 3.\n",
    "for i in range(100,501):\n",
    "    if (i%11 == 0) & (i%3 != 0):\n",
    "        print(f\"{i} is divisble by 11 and not by 3\")"
   ]
  },
  {
   "cell_type": "code",
   "execution_count": 14,
   "id": "4cfd28dd",
   "metadata": {},
   "outputs": [],
   "source": [
    "####Q) write a program to accept percentage from a user and display the grade according to the marks:\n",
    "##### marks>90----grade A\n",
    "##### marks>80 and marks<=90-----grade B\n",
    "##### marks>=60 and marks<=80----grade C\n",
    "#####marks<60 -------------------grade D"
   ]
  },
  {
   "cell_type": "code",
   "execution_count": 6,
   "id": "01e8a1a7",
   "metadata": {},
   "outputs": [
    {
     "name": "stdout",
     "output_type": "stream",
     "text": [
      "Enter the obtained marks out of 100: 56\n",
      "Grade D\n"
     ]
    }
   ],
   "source": [
    "Marks = int(input(\"Enter the obtained marks out of 100: \"))\n",
    "if Marks>90:\n",
    "    print(\"Grade A\")\n",
    "elif (Marks > 80) & (Marks <=90):\n",
    "    print(\"Grade B\")\n",
    "elif (Marks>=60) & (Marks<=80):\n",
    "    print(\"Grade C\")\n",
    "elif Marks<60:\n",
    "    print(\"Grade D\")"
   ]
  },
  {
   "cell_type": "code",
   "execution_count": 15,
   "id": "e5e2e398",
   "metadata": {},
   "outputs": [],
   "source": [
    "####Q) Tuple1=(1,2,('pop','rock'),(3,4),('mangoes',(1,2)))\n",
    "\n",
    "#### slice out 'rock'"
   ]
  },
  {
   "cell_type": "code",
   "execution_count": 7,
   "id": "52b7dbfb",
   "metadata": {},
   "outputs": [
    {
     "data": {
      "text/plain": [
       "'rock'"
      ]
     },
     "execution_count": 7,
     "metadata": {},
     "output_type": "execute_result"
    }
   ],
   "source": [
    "Tuple1=(1,2,('pop','rock'),(3,4),('mangoes',(1,2)))\n",
    "Tuple1[2][1]"
   ]
  },
  {
   "cell_type": "markdown",
   "id": "380df1da",
   "metadata": {},
   "source": [
    "#### Functions:"
   ]
  },
  {
   "cell_type": "code",
   "execution_count": 8,
   "id": "8fbea323",
   "metadata": {},
   "outputs": [],
   "source": [
    "def firstfun(a,b,c):\n",
    "    print(a+b+c)"
   ]
  },
  {
   "cell_type": "code",
   "execution_count": 9,
   "id": "96472b70",
   "metadata": {},
   "outputs": [
    {
     "name": "stdout",
     "output_type": "stream",
     "text": [
      "13\n"
     ]
    }
   ],
   "source": [
    "firstfun(6,2,5) #custom function"
   ]
  },
  {
   "cell_type": "code",
   "execution_count": 10,
   "id": "1d28dc5d",
   "metadata": {},
   "outputs": [
    {
     "ename": "TypeError",
     "evalue": "firstfun() missing 1 required positional argument: 'c'",
     "output_type": "error",
     "traceback": [
      "\u001b[1;31m---------------------------------------------------------------------------\u001b[0m",
      "\u001b[1;31mTypeError\u001b[0m                                 Traceback (most recent call last)",
      "Cell \u001b[1;32mIn[10], line 1\u001b[0m\n\u001b[1;32m----> 1\u001b[0m firstfun(\u001b[38;5;241m9\u001b[39m,\u001b[38;5;241m5\u001b[39m)\n",
      "\u001b[1;31mTypeError\u001b[0m: firstfun() missing 1 required positional argument: 'c'"
     ]
    }
   ],
   "source": [
    "firstfun(9,5)"
   ]
  },
  {
   "cell_type": "code",
   "execution_count": 12,
   "id": "63d7afb5",
   "metadata": {},
   "outputs": [],
   "source": [
    "list=[6,2,5]"
   ]
  },
  {
   "cell_type": "code",
   "execution_count": 13,
   "id": "19bd31da",
   "metadata": {},
   "outputs": [
    {
     "data": {
      "text/plain": [
       "13"
      ]
     },
     "execution_count": 13,
     "metadata": {},
     "output_type": "execute_result"
    }
   ],
   "source": [
    "sum(list) #inbuilt function"
   ]
  },
  {
   "cell_type": "code",
   "execution_count": 14,
   "id": "f39dcfd8",
   "metadata": {},
   "outputs": [],
   "source": [
    "def add_numbers(a,b,c):\n",
    "    m=a+b\n",
    "    n=b+c\n",
    "    p=a+c\n",
    "    print(m,n,p)"
   ]
  },
  {
   "cell_type": "code",
   "execution_count": 15,
   "id": "af514f3d",
   "metadata": {},
   "outputs": [
    {
     "name": "stdout",
     "output_type": "stream",
     "text": [
      "11 12 17\n"
     ]
    }
   ],
   "source": [
    "add_numbers(8,3,9)"
   ]
  },
  {
   "cell_type": "code",
   "execution_count": 16,
   "id": "4fd37035",
   "metadata": {},
   "outputs": [],
   "source": [
    "###Can we create a function without arguments?\n"
   ]
  },
  {
   "cell_type": "code",
   "execution_count": 17,
   "id": "d777d3dc",
   "metadata": {},
   "outputs": [],
   "source": [
    "def todays_function():\n",
    "    print('function without arguments')\n",
    "    "
   ]
  },
  {
   "cell_type": "code",
   "execution_count": 18,
   "id": "981814d4",
   "metadata": {},
   "outputs": [
    {
     "name": "stdout",
     "output_type": "stream",
     "text": [
      "function without arguments\n"
     ]
    }
   ],
   "source": [
    "todays_function()"
   ]
  },
  {
   "cell_type": "code",
   "execution_count": 19,
   "id": "c8d38519",
   "metadata": {},
   "outputs": [
    {
     "ename": "TypeError",
     "evalue": "todays_function() takes 0 positional arguments but 1 was given",
     "output_type": "error",
     "traceback": [
      "\u001b[1;31m---------------------------------------------------------------------------\u001b[0m",
      "\u001b[1;31mTypeError\u001b[0m                                 Traceback (most recent call last)",
      "Cell \u001b[1;32mIn[19], line 1\u001b[0m\n\u001b[1;32m----> 1\u001b[0m todays_function(\u001b[38;5;241m9\u001b[39m)\n",
      "\u001b[1;31mTypeError\u001b[0m: todays_function() takes 0 positional arguments but 1 was given"
     ]
    }
   ],
   "source": [
    "todays_function(9)"
   ]
  },
  {
   "cell_type": "code",
   "execution_count": 20,
   "id": "ee10fcfe",
   "metadata": {},
   "outputs": [],
   "source": [
    "def second_function(xyz):\n",
    "    print(xyz+\" \"+\"session\")"
   ]
  },
  {
   "cell_type": "code",
   "execution_count": 22,
   "id": "ec621d5b",
   "metadata": {},
   "outputs": [
    {
     "name": "stdout",
     "output_type": "stream",
     "text": [
      "python session\n"
     ]
    }
   ],
   "source": [
    "second_function('python')"
   ]
  },
  {
   "cell_type": "markdown",
   "id": "57a276ee",
   "metadata": {},
   "source": [
    "### if the number of arguments we want to pass is not exactly known,we add a * before the parameter list,this is called *args"
   ]
  },
  {
   "cell_type": "code",
   "execution_count": 25,
   "id": "7ae4b743",
   "metadata": {},
   "outputs": [],
   "source": [
    "def associated_products(*x):\n",
    "    print('The most popular item is '+x[4])"
   ]
  },
  {
   "cell_type": "code",
   "execution_count": 26,
   "id": "7b97ed69",
   "metadata": {},
   "outputs": [
    {
     "name": "stdout",
     "output_type": "stream",
     "text": [
      "The most popular item is toothbrush\n"
     ]
    }
   ],
   "source": [
    "associated_products('bread','butter','chocolate','tacos','toothbrush','toothpaste','shampoo','serum','highlighter','clips')"
   ]
  },
  {
   "cell_type": "markdown",
   "id": "8d3ef342",
   "metadata": {},
   "source": [
    "### we include default parameters in the function definition"
   ]
  },
  {
   "cell_type": "code",
   "execution_count": 27,
   "id": "f538e1b7",
   "metadata": {},
   "outputs": [],
   "source": [
    "def fourth_function(snack='chocolate'):\n",
    "    print('my favorite snack is '+snack)"
   ]
  },
  {
   "cell_type": "code",
   "execution_count": 28,
   "id": "742f949d",
   "metadata": {},
   "outputs": [
    {
     "name": "stdout",
     "output_type": "stream",
     "text": [
      "my favorite snack is vada pav\n"
     ]
    }
   ],
   "source": [
    "fourth_function('vada pav')"
   ]
  },
  {
   "cell_type": "code",
   "execution_count": 29,
   "id": "37955b6f",
   "metadata": {},
   "outputs": [
    {
     "name": "stdout",
     "output_type": "stream",
     "text": [
      "my favorite snack is bhel\n"
     ]
    }
   ],
   "source": [
    "fourth_function('bhel')"
   ]
  },
  {
   "cell_type": "code",
   "execution_count": 30,
   "id": "e506160b",
   "metadata": {},
   "outputs": [
    {
     "name": "stdout",
     "output_type": "stream",
     "text": [
      "my favorite snack is chocolate\n"
     ]
    }
   ],
   "source": [
    "fourth_function()"
   ]
  },
  {
   "cell_type": "markdown",
   "id": "203d5a87",
   "metadata": {},
   "source": [
    "##### passing an entire list as parameters:"
   ]
  },
  {
   "cell_type": "code",
   "execution_count": 34,
   "id": "787ba1a5",
   "metadata": {},
   "outputs": [],
   "source": [
    "def fifth_function(collection):\n",
    "    for x in collection:\n",
    "        print('tasty '+x)"
   ]
  },
  {
   "cell_type": "code",
   "execution_count": 35,
   "id": "e605d4e6",
   "metadata": {},
   "outputs": [],
   "source": [
    "food=['vada pav','tacos','rolls','wraps']"
   ]
  },
  {
   "cell_type": "code",
   "execution_count": 36,
   "id": "266ba60a",
   "metadata": {},
   "outputs": [
    {
     "name": "stdout",
     "output_type": "stream",
     "text": [
      "tasty vada pav\n",
      "tasty tacos\n",
      "tasty rolls\n",
      "tasty wraps\n"
     ]
    }
   ],
   "source": [
    "fifth_function(food)"
   ]
  },
  {
   "cell_type": "markdown",
   "id": "ee5b7dad",
   "metadata": {},
   "source": [
    "##### Return statement is used to return a specific value:"
   ]
  },
  {
   "cell_type": "code",
   "execution_count": 37,
   "id": "1bb1097e",
   "metadata": {},
   "outputs": [],
   "source": [
    "def sixth_function(obj):\n",
    "    return 10*obj"
   ]
  },
  {
   "cell_type": "code",
   "execution_count": 38,
   "id": "172e6ef2",
   "metadata": {},
   "outputs": [
    {
     "data": {
      "text/plain": [
       "70"
      ]
     },
     "execution_count": 38,
     "metadata": {},
     "output_type": "execute_result"
    }
   ],
   "source": [
    "sixth_function(7)"
   ]
  },
  {
   "cell_type": "markdown",
   "id": "c33b2ca7",
   "metadata": {},
   "source": [
    "##### pass statement returns an empty custom function:"
   ]
  },
  {
   "cell_type": "code",
   "execution_count": 39,
   "id": "66bacedd",
   "metadata": {},
   "outputs": [],
   "source": [
    "def seventh_function():\n",
    "    pass"
   ]
  },
  {
   "cell_type": "code",
   "execution_count": 40,
   "id": "dc3b462b",
   "metadata": {},
   "outputs": [],
   "source": [
    "seventh_function()"
   ]
  },
  {
   "cell_type": "markdown",
   "id": "455ecd9f",
   "metadata": {},
   "source": [
    "##### Positional arguments:"
   ]
  },
  {
   "cell_type": "code",
   "execution_count": 44,
   "id": "9d8993a0",
   "metadata": {},
   "outputs": [],
   "source": [
    "def welcome(name,surname):\n",
    "    print(f\"Hi,{name} {surname}!\")"
   ]
  },
  {
   "cell_type": "code",
   "execution_count": 45,
   "id": "8c8914f2",
   "metadata": {},
   "outputs": [
    {
     "name": "stdout",
     "output_type": "stream",
     "text": [
      "Hi,Bit Madhu!\n"
     ]
    }
   ],
   "source": [
    "welcome('Bit','Madhu')"
   ]
  },
  {
   "cell_type": "markdown",
   "id": "5425b238",
   "metadata": {},
   "source": [
    "#### keyword arguments:"
   ]
  },
  {
   "cell_type": "code",
   "execution_count": 47,
   "id": "6a6cde47",
   "metadata": {},
   "outputs": [
    {
     "name": "stdout",
     "output_type": "stream",
     "text": [
      "Hi,Madhu Bit!\n"
     ]
    }
   ],
   "source": [
    "welcome(surname='Bit',name='Madhu')"
   ]
  },
  {
   "cell_type": "code",
   "execution_count": 48,
   "id": "2afd76e8",
   "metadata": {},
   "outputs": [
    {
     "name": "stdout",
     "output_type": "stream",
     "text": [
      "Hi,Madhu Bit!\n"
     ]
    }
   ],
   "source": [
    "welcome(name='Madhu',surname='Bit')"
   ]
  },
  {
   "cell_type": "markdown",
   "id": "4ed064e2",
   "metadata": {},
   "source": [
    "##### if we want to pass a variable number of keywords to a function we call it **kwargs"
   ]
  },
  {
   "cell_type": "code",
   "execution_count": 51,
   "id": "734336b8",
   "metadata": {},
   "outputs": [],
   "source": [
    "def my_function(**cartoon):\n",
    "    print('the cartoon name is '+cartoon['human'])"
   ]
  },
  {
   "cell_type": "code",
   "execution_count": 52,
   "id": "9f534b46",
   "metadata": {},
   "outputs": [
    {
     "name": "stdout",
     "output_type": "stream",
     "text": [
      "the cartoon name is Masha\n"
     ]
    }
   ],
   "source": [
    "my_function(name='peppa',human='Masha',grade='Mickey',school='Donald',character='Roma')"
   ]
  },
  {
   "cell_type": "code",
   "execution_count": 53,
   "id": "dd069db4",
   "metadata": {},
   "outputs": [
    {
     "ename": "NameError",
     "evalue": "name 'greet' is not defined",
     "output_type": "error",
     "traceback": [
      "\u001b[1;31m---------------------------------------------------------------------------\u001b[0m",
      "\u001b[1;31mNameError\u001b[0m                                 Traceback (most recent call last)",
      "Cell \u001b[1;32mIn[53], line 1\u001b[0m\n\u001b[1;32m----> 1\u001b[0m greet(surname\u001b[38;5;241m=\u001b[39m\u001b[38;5;124m'\u001b[39m\u001b[38;5;124mBit\u001b[39m\u001b[38;5;124m'\u001b[39m,name\u001b[38;5;241m=\u001b[39m\u001b[38;5;124m'\u001b[39m\u001b[38;5;124mMadhu\u001b[39m\u001b[38;5;124m'\u001b[39m)\n\u001b[0;32m      3\u001b[0m \u001b[38;5;28;01mdef\u001b[39;00m \u001b[38;5;21mgreet\u001b[39m(name,surname):\n\u001b[0;32m      4\u001b[0m     \u001b[38;5;28mprint\u001b[39m(\u001b[38;5;124mf\u001b[39m\u001b[38;5;124m\"\u001b[39m\u001b[38;5;124mHi,\u001b[39m\u001b[38;5;132;01m{\u001b[39;00mname\u001b[38;5;132;01m}\u001b[39;00m\u001b[38;5;124m \u001b[39m\u001b[38;5;132;01m{\u001b[39;00msurname\u001b[38;5;132;01m}\u001b[39;00m\u001b[38;5;124m!\u001b[39m\u001b[38;5;124m\"\u001b[39m)\n",
      "\u001b[1;31mNameError\u001b[0m: name 'greet' is not defined"
     ]
    }
   ],
   "source": [
    "greet(surname='Bit',name='Madhu')\n",
    "\n",
    "def greet(name,surname):\n",
    "    print(f\"Hi,{name} {surname}!\")"
   ]
  },
  {
   "cell_type": "code",
   "execution_count": 54,
   "id": "92646085",
   "metadata": {},
   "outputs": [],
   "source": [
    "### The function definition should precede the function call."
   ]
  },
  {
   "cell_type": "markdown",
   "id": "29a3f30b",
   "metadata": {},
   "source": [
    "#### lambda function is an anonymous function.it doesnot have reusability as it lacks a name. It is created in a single line,and no matter how many arguments we pass,it will always return a single value."
   ]
  },
  {
   "cell_type": "code",
   "execution_count": 57,
   "id": "6d7d28c8",
   "metadata": {},
   "outputs": [],
   "source": [
    "z=lambda x,y,w:x*y-w   #lambda arguments:expression"
   ]
  },
  {
   "cell_type": "code",
   "execution_count": 58,
   "id": "8e641878",
   "metadata": {},
   "outputs": [
    {
     "data": {
      "text/plain": [
       "13"
      ]
     },
     "execution_count": 58,
     "metadata": {},
     "output_type": "execute_result"
    }
   ],
   "source": [
    "z(6,3,5)"
   ]
  },
  {
   "cell_type": "code",
   "execution_count": 59,
   "id": "580ae32c",
   "metadata": {},
   "outputs": [],
   "source": [
    "#comparison:\n",
    "def multi(m):\n",
    "    return m*6"
   ]
  },
  {
   "cell_type": "code",
   "execution_count": 60,
   "id": "060d0aa7",
   "metadata": {},
   "outputs": [
    {
     "data": {
      "text/plain": [
       "36"
      ]
     },
     "execution_count": 60,
     "metadata": {},
     "output_type": "execute_result"
    }
   ],
   "source": [
    "multi(6)"
   ]
  },
  {
   "cell_type": "code",
   "execution_count": 61,
   "id": "06181fd1",
   "metadata": {},
   "outputs": [],
   "source": [
    "s=lambda y:y*6"
   ]
  },
  {
   "cell_type": "code",
   "execution_count": 62,
   "id": "6416dd93",
   "metadata": {},
   "outputs": [
    {
     "data": {
      "text/plain": [
       "36"
      ]
     },
     "execution_count": 62,
     "metadata": {},
     "output_type": "execute_result"
    }
   ],
   "source": [
    "s(6)"
   ]
  },
  {
   "cell_type": "code",
   "execution_count": 63,
   "id": "8df06383",
   "metadata": {},
   "outputs": [],
   "source": [
    "#Q)You have a list [67,22,90,13,19,18]. use a lambda function to find out the odd numbers in this list"
   ]
  },
  {
   "cell_type": "code",
   "execution_count": 1,
   "id": "78b205e9",
   "metadata": {},
   "outputs": [
    {
     "name": "stdout",
     "output_type": "stream",
     "text": [
      "[67, 13, 19]\n"
     ]
    }
   ],
   "source": [
    "list2=[67,22,90,13,19,18]\n",
    "odd_numbers=list(filter(lambda x:(x%2!=0),list2))\n",
    "print(odd_numbers)"
   ]
  },
  {
   "cell_type": "code",
   "execution_count": 64,
   "id": "052e1740",
   "metadata": {},
   "outputs": [],
   "source": [
    "#Q) create a list of values which will be the id of students. get user input and check if the number is present in the list.\n",
    "## if present print 'student present' or else print 'student absent'"
   ]
  },
  {
   "cell_type": "code",
   "execution_count": 4,
   "id": "cefed903",
   "metadata": {},
   "outputs": [
    {
     "name": "stdout",
     "output_type": "stream",
     "text": [
      "enter id here:75\n",
      "student absent\n"
     ]
    }
   ],
   "source": [
    "\n",
    "def id_check(id):\n",
    "    x=[30,67,12,89,54,88]\n",
    "    \n",
    "    if id in x:\n",
    "        print(\"student present\")\n",
    "    else:\n",
    "        print(\"student absent\")\n",
    "id=int(input('enter id here:'))\n",
    "id_check(id)"
   ]
  },
  {
   "cell_type": "code",
   "execution_count": 65,
   "id": "8c22e0af",
   "metadata": {},
   "outputs": [],
   "source": [
    "###Q) find the cube of each number in the list using the lambda function"
   ]
  },
  {
   "cell_type": "code",
   "execution_count": 5,
   "id": "459f593c",
   "metadata": {},
   "outputs": [
    {
     "data": {
      "text/plain": [
       "[8, 27, 1, 8, 64]"
      ]
     },
     "execution_count": 5,
     "metadata": {},
     "output_type": "execute_result"
    }
   ],
   "source": [
    "\n",
    "list3=[2,3,1,2,4]\n",
    "cube = list(map(lambda x:x**3,list3))\n",
    "cube"
   ]
  },
  {
   "cell_type": "code",
   "execution_count": null,
   "id": "b8079719",
   "metadata": {},
   "outputs": [],
   "source": []
  }
 ],
 "metadata": {
  "kernelspec": {
   "display_name": "Python 3 (ipykernel)",
   "language": "python",
   "name": "python3"
  },
  "language_info": {
   "codemirror_mode": {
    "name": "ipython",
    "version": 3
   },
   "file_extension": ".py",
   "mimetype": "text/x-python",
   "name": "python",
   "nbconvert_exporter": "python",
   "pygments_lexer": "ipython3",
   "version": "3.11.4"
  }
 },
 "nbformat": 4,
 "nbformat_minor": 5
}
