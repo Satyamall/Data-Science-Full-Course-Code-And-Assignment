{
 "cells": [
  {
   "cell_type": "markdown",
   "id": "a492c1f8",
   "metadata": {},
   "source": [
    "### Internal data types in python-(already exsisting)\n",
    "* String- aggregate\n",
    "* List - aggregate\n",
    "* Sets -aggregate\n",
    "* Dictionaries - aggregate\n",
    "* Tuples - aggregate\n",
    "* Integer - scaler\n",
    "* Float - scaler\n",
    "* Cmplex - scaler\n",
    "* Boolean - scaler"
   ]
  },
  {
   "cell_type": "code",
   "execution_count": 1,
   "id": "a4f06dd1",
   "metadata": {},
   "outputs": [],
   "source": [
    "x=10"
   ]
  },
  {
   "cell_type": "code",
   "execution_count": 2,
   "id": "1e514efb",
   "metadata": {},
   "outputs": [],
   "source": [
    "y=56.5"
   ]
  },
  {
   "cell_type": "code",
   "execution_count": 3,
   "id": "635adb0f",
   "metadata": {},
   "outputs": [],
   "source": [
    "z=True"
   ]
  },
  {
   "cell_type": "code",
   "execution_count": 4,
   "id": "e1766ac4",
   "metadata": {},
   "outputs": [
    {
     "name": "stdout",
     "output_type": "stream",
     "text": [
      "<class 'int'>\n"
     ]
    }
   ],
   "source": [
    "print(type(x))"
   ]
  },
  {
   "cell_type": "code",
   "execution_count": 6,
   "id": "d56fc4d8",
   "metadata": {},
   "outputs": [
    {
     "name": "stdout",
     "output_type": "stream",
     "text": [
      "<class 'bool'>\n",
      "<class 'float'>\n"
     ]
    }
   ],
   "source": [
    "print(type(z))\n",
    "print(type(y))"
   ]
  },
  {
   "cell_type": "code",
   "execution_count": 7,
   "id": "b367baa4",
   "metadata": {},
   "outputs": [],
   "source": [
    "## aggregate datatype is combination of scalar data types"
   ]
  },
  {
   "cell_type": "code",
   "execution_count": 8,
   "id": "d575b4e5",
   "metadata": {},
   "outputs": [
    {
     "name": "stdout",
     "output_type": "stream",
     "text": [
      "<class 'complex'>\n"
     ]
    }
   ],
   "source": [
    "a=6+3j\n",
    "print(type(a))"
   ]
  },
  {
   "cell_type": "code",
   "execution_count": 9,
   "id": "377d98ed",
   "metadata": {},
   "outputs": [
    {
     "name": "stdout",
     "output_type": "stream",
     "text": [
      "<class 'str'>\n"
     ]
    }
   ],
   "source": [
    "b='simplilearn'\n",
    "print(type(b))"
   ]
  },
  {
   "cell_type": "code",
   "execution_count": 12,
   "id": "c1f40a9a",
   "metadata": {},
   "outputs": [
    {
     "data": {
      "text/plain": [
       "str"
      ]
     },
     "execution_count": 12,
     "metadata": {},
     "output_type": "execute_result"
    }
   ],
   "source": [
    "c= \"\"\"This is the first session on Python\n",
    "and we are proceeding well\"\"\"\n",
    "type(c)"
   ]
  },
  {
   "cell_type": "code",
   "execution_count": 13,
   "id": "33220ddb",
   "metadata": {},
   "outputs": [],
   "source": [
    "### string values are always defined within single quotes or double quotes. But when we have a multiline string value,\n",
    "### we need to enclose it within three single quotes or three double quotes."
   ]
  },
  {
   "cell_type": "markdown",
   "id": "97657d7d",
   "metadata": {},
   "source": [
    "#### Tuples are created with multiple data types,created with () or a tuple constructor,are a ordered collection of elements\n",
    "#### and are immutable."
   ]
  },
  {
   "cell_type": "code",
   "execution_count": 1,
   "id": "e7c63605",
   "metadata": {},
   "outputs": [],
   "source": [
    "###Constructors are used to create objects from a class."
   ]
  },
  {
   "cell_type": "code",
   "execution_count": 2,
   "id": "d47515b8",
   "metadata": {},
   "outputs": [
    {
     "name": "stdout",
     "output_type": "stream",
     "text": [
      "<class 'tuple'>\n"
     ]
    }
   ],
   "source": [
    "t1=(6,7.5,4+6j,False,None)\n",
    "print(type(t1))"
   ]
  },
  {
   "cell_type": "code",
   "execution_count": 3,
   "id": "1f861a81",
   "metadata": {},
   "outputs": [
    {
     "data": {
      "text/plain": [
       "(6, 7.5, (4+6j), False, None)"
      ]
     },
     "execution_count": 3,
     "metadata": {},
     "output_type": "execute_result"
    }
   ],
   "source": [
    "t1"
   ]
  },
  {
   "cell_type": "code",
   "execution_count": 5,
   "id": "5ae9300f",
   "metadata": {},
   "outputs": [
    {
     "data": {
      "text/plain": [
       "(6, 7.5, (4+6j), False, None)"
      ]
     },
     "execution_count": 5,
     "metadata": {},
     "output_type": "execute_result"
    }
   ],
   "source": [
    "t2=tuple((6,7.5,4+6j,False,None))\n",
    "t2"
   ]
  },
  {
   "cell_type": "code",
   "execution_count": 6,
   "id": "ba99e79c",
   "metadata": {},
   "outputs": [
    {
     "data": {
      "text/plain": [
       "(4+6j)"
      ]
     },
     "execution_count": 6,
     "metadata": {},
     "output_type": "execute_result"
    }
   ],
   "source": [
    "t2[-3]"
   ]
  },
  {
   "cell_type": "code",
   "execution_count": 7,
   "id": "e03d6a31",
   "metadata": {},
   "outputs": [
    {
     "data": {
      "text/plain": [
       "(4+6j)"
      ]
     },
     "execution_count": 7,
     "metadata": {},
     "output_type": "execute_result"
    }
   ],
   "source": [
    "t2[2]"
   ]
  },
  {
   "cell_type": "code",
   "execution_count": 8,
   "id": "e70d1fb9",
   "metadata": {},
   "outputs": [],
   "source": [
    "###immutable means we cannot change/modify."
   ]
  },
  {
   "cell_type": "code",
   "execution_count": 9,
   "id": "285aafa7",
   "metadata": {},
   "outputs": [
    {
     "ename": "TypeError",
     "evalue": "'tuple' object does not support item assignment",
     "output_type": "error",
     "traceback": [
      "\u001b[1;31m---------------------------------------------------------------------------\u001b[0m",
      "\u001b[1;31mTypeError\u001b[0m                                 Traceback (most recent call last)",
      "Cell \u001b[1;32mIn[9], line 1\u001b[0m\n\u001b[1;32m----> 1\u001b[0m t2[\u001b[38;5;241m2\u001b[39m]\u001b[38;5;241m=\u001b[39m\u001b[38;5;124m'\u001b[39m\u001b[38;5;124mtext\u001b[39m\u001b[38;5;124m'\u001b[39m\n",
      "\u001b[1;31mTypeError\u001b[0m: 'tuple' object does not support item assignment"
     ]
    }
   ],
   "source": [
    "t2[2]='text'"
   ]
  },
  {
   "cell_type": "code",
   "execution_count": 10,
   "id": "0d70eead",
   "metadata": {},
   "outputs": [
    {
     "data": {
      "text/plain": [
       "tuple"
      ]
     },
     "execution_count": 10,
     "metadata": {},
     "output_type": "execute_result"
    }
   ],
   "source": [
    "type(t2)"
   ]
  },
  {
   "cell_type": "code",
   "execution_count": 11,
   "id": "ac080278",
   "metadata": {},
   "outputs": [
    {
     "data": {
      "text/plain": [
       "4"
      ]
     },
     "execution_count": 11,
     "metadata": {},
     "output_type": "execute_result"
    }
   ],
   "source": [
    "t3=(0,1,2,3,1,2,1,1,5)\n",
    "t3.count(1)   #count returns the frequency of occurance of an element"
   ]
  },
  {
   "cell_type": "code",
   "execution_count": 13,
   "id": "fbfad905",
   "metadata": {},
   "outputs": [
    {
     "data": {
      "text/plain": [
       "3"
      ]
     },
     "execution_count": 13,
     "metadata": {},
     "output_type": "execute_result"
    }
   ],
   "source": [
    "t3.index(3) #the index function returns the index position of an element"
   ]
  },
  {
   "cell_type": "markdown",
   "id": "36746d86",
   "metadata": {},
   "source": [
    "#### List: lists are an ordered collection of elements (mixed data types),lists are mutable,lists are created with [] brackets or the list constructor."
   ]
  },
  {
   "cell_type": "code",
   "execution_count": 14,
   "id": "24e00c0c",
   "metadata": {},
   "outputs": [
    {
     "name": "stdout",
     "output_type": "stream",
     "text": [
      "[6, 7.5, (4+6j), False, None]\n",
      "<class 'list'>\n"
     ]
    }
   ],
   "source": [
    "list0=[6,7.5,4+6j,False,None]\n",
    "print(list0)\n",
    "print(type(list0))"
   ]
  },
  {
   "cell_type": "code",
   "execution_count": 15,
   "id": "bdef3b3a",
   "metadata": {},
   "outputs": [
    {
     "name": "stdout",
     "output_type": "stream",
     "text": [
      "[6, 7.5, (4+6j), False, None]\n",
      "<class 'list'>\n"
     ]
    }
   ],
   "source": [
    "list1=list((6,7.5,4+6j,False,None))\n",
    "print(list1)\n",
    "print(type(list1))"
   ]
  },
  {
   "cell_type": "code",
   "execution_count": 16,
   "id": "296daf6c",
   "metadata": {},
   "outputs": [],
   "source": [
    "list1[2]='text'"
   ]
  },
  {
   "cell_type": "code",
   "execution_count": 17,
   "id": "e1e9f4c0",
   "metadata": {},
   "outputs": [
    {
     "data": {
      "text/plain": [
       "[6, 7.5, 'text', False, None]"
      ]
     },
     "execution_count": 17,
     "metadata": {},
     "output_type": "execute_result"
    }
   ],
   "source": [
    "list1"
   ]
  },
  {
   "cell_type": "code",
   "execution_count": 18,
   "id": "ee91eb13",
   "metadata": {},
   "outputs": [],
   "source": [
    "##append-to add an element to a list at the end\n",
    "list1.append(58)"
   ]
  },
  {
   "cell_type": "code",
   "execution_count": 19,
   "id": "b29b5902",
   "metadata": {},
   "outputs": [
    {
     "data": {
      "text/plain": [
       "[6, 7.5, 'text', False, None, 58]"
      ]
     },
     "execution_count": 19,
     "metadata": {},
     "output_type": "execute_result"
    }
   ],
   "source": [
    "list1"
   ]
  },
  {
   "cell_type": "code",
   "execution_count": 20,
   "id": "e39f6eb2",
   "metadata": {},
   "outputs": [],
   "source": [
    "###insert method-to include an element in a specific position\n",
    "list1.insert(3,'new')"
   ]
  },
  {
   "cell_type": "code",
   "execution_count": 21,
   "id": "b20d7f6d",
   "metadata": {},
   "outputs": [
    {
     "data": {
      "text/plain": [
       "[6, 7.5, 'text', 'new', False, None, 58]"
      ]
     },
     "execution_count": 21,
     "metadata": {},
     "output_type": "execute_result"
    }
   ],
   "source": [
    "list1"
   ]
  },
  {
   "cell_type": "code",
   "execution_count": 22,
   "id": "e4e7d255",
   "metadata": {},
   "outputs": [],
   "source": [
    "###extend-add multiple values:\n",
    "list4=[True,70,23.5,8+2j]\n",
    "list1.extend(list4)"
   ]
  },
  {
   "cell_type": "code",
   "execution_count": 23,
   "id": "1dcf1c7f",
   "metadata": {},
   "outputs": [
    {
     "data": {
      "text/plain": [
       "[6, 7.5, 'text', 'new', False, None, 58, True, 70, 23.5, (8+2j)]"
      ]
     },
     "execution_count": 23,
     "metadata": {},
     "output_type": "execute_result"
    }
   ],
   "source": [
    "list1"
   ]
  },
  {
   "cell_type": "code",
   "execution_count": 24,
   "id": "81e04120",
   "metadata": {},
   "outputs": [
    {
     "data": {
      "text/plain": [
       "1"
      ]
     },
     "execution_count": 24,
     "metadata": {},
     "output_type": "execute_result"
    }
   ],
   "source": [
    "list1.count('new')"
   ]
  },
  {
   "cell_type": "code",
   "execution_count": 25,
   "id": "0afccad7",
   "metadata": {},
   "outputs": [
    {
     "data": {
      "text/plain": [
       "5"
      ]
     },
     "execution_count": 25,
     "metadata": {},
     "output_type": "execute_result"
    }
   ],
   "source": [
    "list1.index(None)"
   ]
  },
  {
   "cell_type": "code",
   "execution_count": 26,
   "id": "df1deeeb",
   "metadata": {},
   "outputs": [],
   "source": [
    "#Q) create a list with elements 34,78,99,24,12 and sort the elements in descending order"
   ]
  },
  {
   "cell_type": "code",
   "execution_count": 1,
   "id": "d292c7fe-7e5c-4152-a15d-85489317c0a7",
   "metadata": {},
   "outputs": [],
   "source": [
    "list2=[34,78,99,24,12]"
   ]
  },
  {
   "cell_type": "code",
   "execution_count": 2,
   "id": "a10fa2d5-ab24-49e5-bfc1-b8e53e8e0106",
   "metadata": {},
   "outputs": [
    {
     "data": {
      "text/plain": [
       "[34, 78, 99, 24, 12]"
      ]
     },
     "execution_count": 2,
     "metadata": {},
     "output_type": "execute_result"
    }
   ],
   "source": [
    "list2"
   ]
  },
  {
   "cell_type": "code",
   "execution_count": 6,
   "id": "b968d566-aa19-4b7e-af01-3bb12fb9d5f1",
   "metadata": {},
   "outputs": [],
   "source": [
    "list2.sort(reverse=True)"
   ]
  },
  {
   "cell_type": "code",
   "execution_count": 7,
   "id": "0fdeee71-8056-405f-a07f-a99e06e59258",
   "metadata": {},
   "outputs": [
    {
     "data": {
      "text/plain": [
       "[99, 78, 34, 24, 12]"
      ]
     },
     "execution_count": 7,
     "metadata": {},
     "output_type": "execute_result"
    }
   ],
   "source": [
    "list2"
   ]
  },
  {
   "cell_type": "code",
   "execution_count": 27,
   "id": "d814cac7",
   "metadata": {},
   "outputs": [],
   "source": [
    "#Q) consider each value as the sales recorded over 5 days in a week. what is the total sales recorded?"
   ]
  },
  {
   "cell_type": "code",
   "execution_count": 10,
   "id": "748b60fa-da94-4a0b-97d2-bd296c1ed278",
   "metadata": {},
   "outputs": [
    {
     "data": {
      "text/plain": [
       "247"
      ]
     },
     "execution_count": 10,
     "metadata": {},
     "output_type": "execute_result"
    }
   ],
   "source": [
    "total=sum(list2)\n",
    "total"
   ]
  },
  {
   "cell_type": "code",
   "execution_count": 28,
   "id": "1638694d",
   "metadata": {},
   "outputs": [],
   "source": [
    "##Q) read the elements of the above list from the end to the beginning"
   ]
  },
  {
   "cell_type": "code",
   "execution_count": 35,
   "id": "420efe77-96bc-4c7d-9ccc-17816443c325",
   "metadata": {},
   "outputs": [
    {
     "name": "stdout",
     "output_type": "stream",
     "text": [
      "[12, 24, 99, 78, 34]\n",
      "None\n"
     ]
    }
   ],
   "source": [
    "list3 = [34, 78, 99, 24, 12]\n",
    "print(list3[::-1])\n",
    "print(list3.reverse())"
   ]
  },
  {
   "cell_type": "code",
   "execution_count": 29,
   "id": "b7b99195",
   "metadata": {},
   "outputs": [],
   "source": [
    "##Q) remove value 12 from the list using the index position"
   ]
  },
  {
   "cell_type": "code",
   "execution_count": 14,
   "id": "2456e15c-fb34-4c2a-bc4b-785affa97562",
   "metadata": {},
   "outputs": [
    {
     "data": {
      "text/plain": [
       "[34, 78, 99, 24, 12]"
      ]
     },
     "execution_count": 14,
     "metadata": {},
     "output_type": "execute_result"
    }
   ],
   "source": [
    "list3"
   ]
  },
  {
   "cell_type": "code",
   "execution_count": 36,
   "id": "4852f60f-d5a8-4103-89e4-1a4b68ca6a7c",
   "metadata": {},
   "outputs": [
    {
     "data": {
      "text/plain": [
       "[24, 99, 78, 34]"
      ]
     },
     "execution_count": 36,
     "metadata": {},
     "output_type": "execute_result"
    }
   ],
   "source": [
    "list3.pop(0)\n",
    "# list3.remove(12)\n",
    "# del list3[3]\n",
    "list3"
   ]
  },
  {
   "cell_type": "code",
   "execution_count": 30,
   "id": "5a29ffc1",
   "metadata": {},
   "outputs": [],
   "source": [
    "### Q) find the min and max value in the above list"
   ]
  },
  {
   "cell_type": "code",
   "execution_count": 18,
   "id": "ade97bff-25cd-49cb-83e3-338bcce39b50",
   "metadata": {},
   "outputs": [],
   "source": [
    "list4 = [34, 78, 99, 24, 12]"
   ]
  },
  {
   "cell_type": "code",
   "execution_count": 22,
   "id": "13314fe2",
   "metadata": {},
   "outputs": [
    {
     "name": "stdout",
     "output_type": "stream",
     "text": [
      "12\n",
      "99\n"
     ]
    }
   ],
   "source": [
    "print(min(list4))\n",
    "print(max(list4))"
   ]
  },
  {
   "cell_type": "code",
   "execution_count": 31,
   "id": "f2c3b5e6",
   "metadata": {},
   "outputs": [
    {
     "name": "stdout",
     "output_type": "stream",
     "text": [
      "Sales in Desc order: [99, 78, 34, 24, 12]\n",
      "Total sales recored for the week is: 247\n",
      "[12, 24, 34, 78, 99]\n",
      "[12, 24, 34, 78, 99]\n",
      "[24, 34, 78, 99]\n",
      "Minimum Sale is: [12, 24, 34, 78, 99]\n",
      "Maximum Sale is: [12, 24, 34, 78, 99]\n"
     ]
    }
   ],
   "source": [
    "# Q Create a list with elements 34,78,99,24,12 and sort the elements in descending order.\n",
    "\n",
    "sales = [34,78,99,24,12]\n",
    "\n",
    "sales.sort(reverse=True)\n",
    "\n",
    "print(\"Sales in Desc order:\" , sales)\n",
    "\n",
    " \n",
    "\n",
    "#Q) Consider each value as the sales recorded over 5 days in a week. what is the total sales recorded?\n",
    "\n",
    "total_sales = sum(sales)\n",
    "\n",
    "print('Total sales recored for the week is:', total_sales)\n",
    "\n",
    " \n",
    "\n",
    "#Q) read the elements of the above list from the end to the beginning\n",
    "\n",
    "sales.reverse()\n",
    "\n",
    "sales\n",
    "\n",
    " \n",
    "\n",
    " \n",
    "\n",
    "copy_sales = sales.copy()\n",
    "\n",
    "print(copy_sales)\n",
    "\n",
    "print(sales)\n",
    "\n",
    "copy_sales.remove(12)\n",
    "\n",
    "print(copy_sales)\n",
    "\n",
    " \n",
    "\n",
    "#Q) find the min & max value in the above list\n",
    "\n",
    "min_sales = min(sales)\n",
    "\n",
    "print('Minimum Sale is:', sales)\n",
    "\n",
    "max_sales = max(sales)\n",
    "\n",
    "print('Maximum Sale is:', sales)"
   ]
  },
  {
   "cell_type": "code",
   "execution_count": null,
   "id": "545b7e16-fb4a-47dc-8da1-1a802e507ba7",
   "metadata": {},
   "outputs": [],
   "source": []
  }
 ],
 "metadata": {
  "kernelspec": {
   "display_name": "Python 3 [3.10]",
   "language": "python",
   "name": "python3"
  },
  "language_info": {
   "codemirror_mode": {
    "name": "ipython",
    "version": 3
   },
   "file_extension": ".py",
   "mimetype": "text/x-python",
   "name": "python",
   "nbconvert_exporter": "python",
   "pygments_lexer": "ipython3",
   "version": "3.10.2"
  }
 },
 "nbformat": 4,
 "nbformat_minor": 5
}
