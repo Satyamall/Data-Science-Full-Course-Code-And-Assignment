{
 "cells": [
  {
   "cell_type": "code",
   "execution_count": 2,
   "id": "080d3891",
   "metadata": {},
   "outputs": [],
   "source": [
    "distance=[56,89,45,75,68]\n",
    "time=[0.3,2.1,1.3,1.9,3.2]"
   ]
  },
  {
   "cell_type": "code",
   "execution_count": 3,
   "id": "4d1afc4d",
   "metadata": {},
   "outputs": [
    {
     "ename": "TypeError",
     "evalue": "unsupported operand type(s) for /: 'list' and 'list'",
     "output_type": "error",
     "traceback": [
      "\u001b[1;31m---------------------------------------------------------------------------\u001b[0m",
      "\u001b[1;31mTypeError\u001b[0m                                 Traceback (most recent call last)",
      "Cell \u001b[1;32mIn[3], line 1\u001b[0m\n\u001b[1;32m----> 1\u001b[0m speed\u001b[38;5;241m=\u001b[39mdistance\u001b[38;5;241m/\u001b[39mtime\n",
      "\u001b[1;31mTypeError\u001b[0m: unsupported operand type(s) for /: 'list' and 'list'"
     ]
    }
   ],
   "source": [
    "speed=distance/time"
   ]
  },
  {
   "cell_type": "code",
   "execution_count": 4,
   "id": "75830a6e",
   "metadata": {},
   "outputs": [
    {
     "data": {
      "text/plain": [
       "[56, 89, 45, 75, 68, 56, 89, 45, 75, 68, 56, 89, 45, 75, 68]"
      ]
     },
     "execution_count": 4,
     "metadata": {},
     "output_type": "execute_result"
    }
   ],
   "source": [
    "distance*3"
   ]
  },
  {
   "cell_type": "code",
   "execution_count": 5,
   "id": "b4e665f3",
   "metadata": {},
   "outputs": [
    {
     "data": {
      "text/plain": [
       "[56, 89, 45, 75, 68, 0.3, 2.1, 1.3, 1.9, 3.2]"
      ]
     },
     "execution_count": 5,
     "metadata": {},
     "output_type": "execute_result"
    }
   ],
   "source": [
    "distance+time"
   ]
  },
  {
   "cell_type": "code",
   "execution_count": 9,
   "id": "53b129b2",
   "metadata": {},
   "outputs": [],
   "source": [
    "import numpy as np"
   ]
  },
  {
   "cell_type": "code",
   "execution_count": 10,
   "id": "72cd9870",
   "metadata": {},
   "outputs": [],
   "source": [
    "dist_array=np.array(distance)\n",
    "time_array=np.array(time)"
   ]
  },
  {
   "cell_type": "code",
   "execution_count": 11,
   "id": "2e431ccc",
   "metadata": {},
   "outputs": [
    {
     "data": {
      "text/plain": [
       "array([186.66666667,  42.38095238,  34.61538462,  39.47368421,\n",
       "        21.25      ])"
      ]
     },
     "execution_count": 11,
     "metadata": {},
     "output_type": "execute_result"
    }
   ],
   "source": [
    "speed=dist_array/time_array\n",
    "speed"
   ]
  },
  {
   "cell_type": "code",
   "execution_count": 12,
   "id": "57097c0e",
   "metadata": {},
   "outputs": [],
   "source": [
    "### arrays are data structures which can be created using the numpy package. It supports mixed data types."
   ]
  },
  {
   "cell_type": "code",
   "execution_count": 13,
   "id": "ecf3181d",
   "metadata": {},
   "outputs": [
    {
     "name": "stdout",
     "output_type": "stream",
     "text": [
      "<class 'numpy.ndarray'>\n"
     ]
    }
   ],
   "source": [
    "print(type(dist_array))"
   ]
  },
  {
   "cell_type": "markdown",
   "id": "66e2687a",
   "metadata": {},
   "source": [
    "##### We combine 0D arrays to get a 1D array,we combine 1D arrays to get a 2D array. And we combine 2D arrays to get a 3D array."
   ]
  },
  {
   "cell_type": "code",
   "execution_count": 14,
   "id": "ebace088",
   "metadata": {},
   "outputs": [
    {
     "name": "stdout",
     "output_type": "stream",
     "text": [
      "<class 'numpy.ndarray'>\n",
      "0\n"
     ]
    }
   ],
   "source": [
    "###0D arrays-\n",
    "array_0D=np.array(90)\n",
    "print(type(array_0D))\n",
    "print(array_0D.ndim)\n"
   ]
  },
  {
   "cell_type": "code",
   "execution_count": 17,
   "id": "33305536",
   "metadata": {},
   "outputs": [
    {
     "name": "stdout",
     "output_type": "stream",
     "text": [
      "<class 'numpy.ndarray'>\n",
      "1\n",
      "[ 7.   9.   2.  13.5]\n",
      "float64\n"
     ]
    }
   ],
   "source": [
    "###1D array:\n",
    "array_1d=np.array([7,9,2,13.5],dtype='float')\n",
    "print(type(array_1d))\n",
    "print(array_1d.ndim)\n",
    "print(array_1d)\n",
    "print(array_1d.dtype)"
   ]
  },
  {
   "cell_type": "code",
   "execution_count": 19,
   "id": "1ab4c272",
   "metadata": {},
   "outputs": [
    {
     "name": "stdout",
     "output_type": "stream",
     "text": [
      "[[ 3  5  6  7  8]\n",
      " [ 9 10 11 12 13]\n",
      " [ 0  5  1  3  8]]\n",
      "2\n",
      "int32\n",
      "(3, 5)\n",
      "15\n"
     ]
    }
   ],
   "source": [
    "####2D array-:\n",
    "array_2D=np.array([[3,5,6,7,8],[9,10,11,12,13],[0,5,1,3,8]])\n",
    "print(array_2D)\n",
    "print(array_2D.ndim)\n",
    "print(array_2D.dtype)\n",
    "print(array_2D.shape)\n",
    "print(array_2D.size)"
   ]
  },
  {
   "cell_type": "code",
   "execution_count": 20,
   "id": "44eaeee4",
   "metadata": {},
   "outputs": [
    {
     "name": "stdout",
     "output_type": "stream",
     "text": [
      "[[[ 3  4  5]\n",
      "  [ 6  7  8]]\n",
      "\n",
      " [[ 9 10 11]\n",
      "  [12 13 14]]]\n",
      "3\n",
      "int32\n",
      "(2, 2, 3)\n",
      "12\n"
     ]
    }
   ],
   "source": [
    "array_3d=np.array([[[3,4,5],[6,7,8]],[[9,10,11],[12,13,14]]])\n",
    "print(array_3d)\n",
    "print(array_3d.ndim)\n",
    "print(array_3d.dtype)\n",
    "print(array_3d.shape)\n",
    "print(array_3d.size)"
   ]
  },
  {
   "cell_type": "markdown",
   "id": "4f9ac21f",
   "metadata": {},
   "source": [
    "#### Conversion of a lower dimensional array to a higher dimensional array,by adding dimensions."
   ]
  },
  {
   "cell_type": "code",
   "execution_count": 23,
   "id": "f81b650b",
   "metadata": {},
   "outputs": [
    {
     "name": "stdout",
     "output_type": "stream",
     "text": [
      "[ 2  3  4  5  6  7  8  9 10 11 12 13]\n",
      "1\n",
      "12\n",
      "int32\n",
      "(12,)\n"
     ]
    }
   ],
   "source": [
    "arr1d=np.array([2,3,4,5,6,7,8,9,10,11,12,13])\n",
    "print(arr1d)\n",
    "print(arr1d.ndim)\n",
    "print(arr1d.size)\n",
    "print(arr1d.dtype)\n",
    "print(arr1d.shape)"
   ]
  },
  {
   "cell_type": "code",
   "execution_count": 22,
   "id": "2da02553",
   "metadata": {},
   "outputs": [
    {
     "name": "stdout",
     "output_type": "stream",
     "text": [
      "[[ 2  3]\n",
      " [ 4  5]\n",
      " [ 6  7]\n",
      " [ 8  9]\n",
      " [10 11]\n",
      " [12 13]]\n",
      "2\n",
      "12\n",
      "int32\n"
     ]
    }
   ],
   "source": [
    "arr2d=arr1d.reshape(6,2)\n",
    "print(arr2d)\n",
    "print(arr2d.ndim)\n",
    "print(arr2d.size)\n",
    "print(arr2d.dtype)"
   ]
  },
  {
   "cell_type": "code",
   "execution_count": 24,
   "id": "d576c074",
   "metadata": {},
   "outputs": [
    {
     "data": {
      "text/plain": [
       "array([ 2,  3,  4,  5,  6,  7,  8,  9, 10, 11, 12, 13])"
      ]
     },
     "execution_count": 24,
     "metadata": {},
     "output_type": "execute_result"
    }
   ],
   "source": [
    "arr1d"
   ]
  },
  {
   "cell_type": "code",
   "execution_count": 25,
   "id": "0dbcf13d",
   "metadata": {},
   "outputs": [
    {
     "name": "stdout",
     "output_type": "stream",
     "text": [
      "[[[ 2  3]\n",
      "  [ 4  5]]\n",
      "\n",
      " [[ 6  7]\n",
      "  [ 8  9]]\n",
      "\n",
      " [[10 11]\n",
      "  [12 13]]]\n",
      "3\n",
      "12\n",
      "int32\n"
     ]
    }
   ],
   "source": [
    "##convert to a 3D array:\n",
    "arr3d=arr1d.reshape(3,2,2)\n",
    "print(arr3d)\n",
    "print(arr3d.ndim)\n",
    "print(arr3d.size)\n",
    "print(arr3d.dtype)"
   ]
  },
  {
   "cell_type": "code",
   "execution_count": 26,
   "id": "3b0aa35d",
   "metadata": {},
   "outputs": [],
   "source": [
    "###Q) create a 1D array with first 9 natural numbers. Then add a dimension to convert the same to a 2D array."
   ]
  },
  {
   "cell_type": "code",
   "execution_count": 37,
   "id": "c59f7da4",
   "metadata": {},
   "outputs": [
    {
     "name": "stdout",
     "output_type": "stream",
     "text": [
      "[1 2 3 4 5 6 7 8 9]\n",
      "[[1 2 3]\n",
      " [4 5 6]\n",
      " [7 8 9]]\n"
     ]
    }
   ],
   "source": [
    "arr6=np.arange(1,10)\n",
    "print(arr6)\n",
    "reshaped_arr6=np.reshape(arr6,(3,3))\n",
    "print(reshaped_arr6)"
   ]
  },
  {
   "cell_type": "code",
   "execution_count": 28,
   "id": "9dd1fde7",
   "metadata": {},
   "outputs": [],
   "source": [
    "####Q) create a 2D array with 6 rows and 3 columns . reshape it to a 3D array"
   ]
  },
  {
   "cell_type": "markdown",
   "id": "49a35dc5",
   "metadata": {},
   "source": [
    "### we have a module called 'random' which provides functions for generating random numbers from a standard normal dist,a standard normal dist have 0 mean and std=1"
   ]
  },
  {
   "cell_type": "code",
   "execution_count": 41,
   "id": "c693458d",
   "metadata": {},
   "outputs": [
    {
     "name": "stdout",
     "output_type": "stream",
     "text": [
      "[[0.13248196 0.78922048 0.90939262]\n",
      " [0.15527765 0.62357934 0.32651432]\n",
      " [0.64253794 0.41180134 0.81394446]\n",
      " [0.1013889  0.24728158 0.94971384]\n",
      " [0.47151377 0.97334275 0.62191843]\n",
      " [0.61436758 0.91196283 0.23616351]]\n",
      "------------------------------\n",
      "[[[0.13248196 0.78922048 0.90939262]\n",
      "  [0.15527765 0.62357934 0.32651432]\n",
      "  [0.64253794 0.41180134 0.81394446]]\n",
      "\n",
      " [[0.1013889  0.24728158 0.94971384]\n",
      "  [0.47151377 0.97334275 0.62191843]\n",
      "  [0.61436758 0.91196283 0.23616351]]]\n"
     ]
    }
   ],
   "source": [
    "arr7=np.random.rand(6,3)\n",
    "print(arr7)      #all the random numbers we got will lie between 0 and 1\n",
    "\n",
    "print('------------------------------')\n",
    "reshaped_arr7=arr7.reshape(2,3,3)\n",
    "print(reshaped_arr7)"
   ]
  },
  {
   "cell_type": "markdown",
   "id": "4bb1e42f",
   "metadata": {},
   "source": [
    "#### Convert a higher dimentional array to a lower dimentional array- we use two functions ravel() and flatten()."
   ]
  },
  {
   "cell_type": "code",
   "execution_count": 29,
   "id": "c41f9292",
   "metadata": {},
   "outputs": [
    {
     "data": {
      "text/plain": [
       "array([ 2,  3,  4,  5,  6,  7,  8,  9, 10, 11, 12, 13])"
      ]
     },
     "execution_count": 29,
     "metadata": {},
     "output_type": "execute_result"
    }
   ],
   "source": [
    "arr_lowerd=arr3d.flatten()\n",
    "arr_lowerd"
   ]
  },
  {
   "cell_type": "code",
   "execution_count": 30,
   "id": "1f1fec9c",
   "metadata": {},
   "outputs": [
    {
     "data": {
      "text/plain": [
       "array([ 2,  3,  4,  5,  6,  7,  8,  9, 10, 11, 12, 13])"
      ]
     },
     "execution_count": 30,
     "metadata": {},
     "output_type": "execute_result"
    }
   ],
   "source": [
    "arr_lowerdd=arr2d.ravel()\n",
    "arr_lowerdd"
   ]
  },
  {
   "cell_type": "code",
   "execution_count": 31,
   "id": "4fae8941",
   "metadata": {},
   "outputs": [],
   "source": [
    "#create two arrays one having elements 30,20,10 and the second having elements 40,50,60 and perform the basic mathematical\n",
    "#operations."
   ]
  },
  {
   "cell_type": "code",
   "execution_count": 34,
   "id": "d11ea974",
   "metadata": {},
   "outputs": [
    {
     "name": "stdout",
     "output_type": "stream",
     "text": [
      "sum = [70 70 70]\n",
      "multiplication = [1200 1000  600]\n",
      "division = [1.33333333 2.5        6.        ]\n",
      "subtraction = [10 30 50]\n"
     ]
    }
   ],
   "source": [
    "a = np.array([30,20,10])\n",
    "b = np.array([40,50,60])\n",
    "sum = a+b\n",
    "mult = a*b\n",
    "div = b/a\n",
    "sub = b-a\n",
    "print(f\"sum = {sum}\\nmultiplication = {mult}\\ndivision = {div}\\nsubtraction = {sub}\")"
   ]
  },
  {
   "cell_type": "code",
   "execution_count": 32,
   "id": "fb89d580",
   "metadata": {},
   "outputs": [
    {
     "data": {
      "text/plain": [
       "array([[ 4,  3,  2],\n",
       "       [10,  1,  0],\n",
       "       [ 5,  8, 24]])"
      ]
     },
     "execution_count": 32,
     "metadata": {},
     "output_type": "execute_result"
    }
   ],
   "source": [
    "###statistical operations-:\n",
    "array4=np.array([[4,3,2],[10,1,0],[5,8,24]])\n",
    "array4"
   ]
  },
  {
   "cell_type": "code",
   "execution_count": 33,
   "id": "bbc8cedf",
   "metadata": {},
   "outputs": [],
   "source": [
    "####perform basic statistical operations like mean,median,std,var."
   ]
  },
  {
   "cell_type": "code",
   "execution_count": 35,
   "id": "0165e966",
   "metadata": {},
   "outputs": [
    {
     "name": "stdout",
     "output_type": "stream",
     "text": [
      "array = [[ 4  3  2]\n",
      " [10  1  0]\n",
      " [ 5  8 24]]\n",
      "mean = 6.333333333333333\n",
      "median = 4.0\n",
      "standard deviation = 6.944222218666553\n",
      "variance = 48.22222222222222\n"
     ]
    }
   ],
   "source": [
    "mean = np.mean(array4)\n",
    "median = np.median(array4)\n",
    "std = np.std(array4)\n",
    "var = np.var(array4)\n",
    "print(f\"array = {array4}\\nmean = {mean}\\nmedian = {median}\\nstandard deviation = {std}\\nvariance = {var}\")"
   ]
  },
  {
   "cell_type": "code",
   "execution_count": null,
   "id": "36f24866",
   "metadata": {},
   "outputs": [],
   "source": []
  }
 ],
 "metadata": {
  "kernelspec": {
   "display_name": "Python 3 (ipykernel)",
   "language": "python",
   "name": "python3"
  },
  "language_info": {
   "codemirror_mode": {
    "name": "ipython",
    "version": 3
   },
   "file_extension": ".py",
   "mimetype": "text/x-python",
   "name": "python",
   "nbconvert_exporter": "python",
   "pygments_lexer": "ipython3",
   "version": "3.11.4"
  }
 },
 "nbformat": 4,
 "nbformat_minor": 5
}
