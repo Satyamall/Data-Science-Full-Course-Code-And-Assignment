{
 "cells": [
  {
   "cell_type": "markdown",
   "id": "a492c1f8",
   "metadata": {},
   "source": [
    "### Internal data types in python-(already exsisting)\n",
    "* String- aggregate\n",
    "* List - aggregate\n",
    "* Sets -aggregate\n",
    "* Dictionaries - aggregate\n",
    "* Tuples - aggregate\n",
    "* Integer - scaler\n",
    "* Float - scaler\n",
    "* Cmplex - scaler\n",
    "* Boolean - scaler"
   ]
  },
  {
   "cell_type": "code",
   "execution_count": 1,
   "id": "a4f06dd1",
   "metadata": {},
   "outputs": [],
   "source": [
    "x=10"
   ]
  },
  {
   "cell_type": "code",
   "execution_count": 2,
   "id": "1e514efb",
   "metadata": {},
   "outputs": [],
   "source": [
    "y=56.5"
   ]
  },
  {
   "cell_type": "code",
   "execution_count": 3,
   "id": "635adb0f",
   "metadata": {},
   "outputs": [],
   "source": [
    "z=True"
   ]
  },
  {
   "cell_type": "code",
   "execution_count": 4,
   "id": "e1766ac4",
   "metadata": {},
   "outputs": [
    {
     "name": "stdout",
     "output_type": "stream",
     "text": [
      "<class 'int'>\n"
     ]
    }
   ],
   "source": [
    "print(type(x))"
   ]
  },
  {
   "cell_type": "code",
   "execution_count": 6,
   "id": "d56fc4d8",
   "metadata": {},
   "outputs": [
    {
     "name": "stdout",
     "output_type": "stream",
     "text": [
      "<class 'bool'>\n",
      "<class 'float'>\n"
     ]
    }
   ],
   "source": [
    "print(type(z))\n",
    "print(type(y))"
   ]
  },
  {
   "cell_type": "code",
   "execution_count": 7,
   "id": "b367baa4",
   "metadata": {},
   "outputs": [],
   "source": [
    "## aggregate datatype is combination of scalar data types"
   ]
  },
  {
   "cell_type": "code",
   "execution_count": 8,
   "id": "d575b4e5",
   "metadata": {},
   "outputs": [
    {
     "name": "stdout",
     "output_type": "stream",
     "text": [
      "<class 'complex'>\n"
     ]
    }
   ],
   "source": [
    "a=6+3j\n",
    "print(type(a))"
   ]
  },
  {
   "cell_type": "code",
   "execution_count": 9,
   "id": "377d98ed",
   "metadata": {},
   "outputs": [
    {
     "name": "stdout",
     "output_type": "stream",
     "text": [
      "<class 'str'>\n"
     ]
    }
   ],
   "source": [
    "b='simplilearn'\n",
    "print(type(b))"
   ]
  },
  {
   "cell_type": "code",
   "execution_count": 12,
   "id": "c1f40a9a",
   "metadata": {},
   "outputs": [
    {
     "data": {
      "text/plain": [
       "str"
      ]
     },
     "execution_count": 12,
     "metadata": {},
     "output_type": "execute_result"
    }
   ],
   "source": [
    "c= \"\"\"This is the first session on Python\n",
    "and we are proceeding well\"\"\"\n",
    "type(c)"
   ]
  },
  {
   "cell_type": "code",
   "execution_count": 13,
   "id": "33220ddb",
   "metadata": {},
   "outputs": [],
   "source": [
    "### string values are always defined within single quotes or double quotes. But when we have a multiline string value,\n",
    "### we need to enclose it within three single quotes or three double quotes."
   ]
  },
  {
   "cell_type": "markdown",
   "id": "97657d7d",
   "metadata": {},
   "source": [
    "#### Tuples are created with multiple data types,created with () or a tuple constructor,are a ordered collection of elements\n",
    "#### and are immutable."
   ]
  },
  {
   "cell_type": "code",
   "execution_count": 1,
   "id": "e7c63605",
   "metadata": {},
   "outputs": [],
   "source": [
    "###Constructors are used to create objects from a class."
   ]
  },
  {
   "cell_type": "code",
   "execution_count": 2,
   "id": "440a9d2e",
   "metadata": {},
   "outputs": [
    {
     "name": "stdout",
     "output_type": "stream",
     "text": [
      "<class 'tuple'>\n"
     ]
    }
   ],
   "source": [
    "t1=(6,7.5,4+6j,False,None)\n",
    "print(type(t1))"
   ]
  },
  {
   "cell_type": "code",
   "execution_count": 3,
   "id": "6681b340",
   "metadata": {},
   "outputs": [
    {
     "data": {
      "text/plain": [
       "(6, 7.5, (4+6j), False, None)"
      ]
     },
     "execution_count": 3,
     "metadata": {},
     "output_type": "execute_result"
    }
   ],
   "source": [
    "t1"
   ]
  },
  {
   "cell_type": "code",
   "execution_count": 5,
   "id": "0cca8cdf",
   "metadata": {},
   "outputs": [
    {
     "data": {
      "text/plain": [
       "(6, 7.5, (4+6j), False, None)"
      ]
     },
     "execution_count": 5,
     "metadata": {},
     "output_type": "execute_result"
    }
   ],
   "source": [
    "t2=tuple((6,7.5,4+6j,False,None))\n",
    "t2"
   ]
  },
  {
   "cell_type": "code",
   "execution_count": 6,
   "id": "90e7289f",
   "metadata": {},
   "outputs": [
    {
     "data": {
      "text/plain": [
       "(4+6j)"
      ]
     },
     "execution_count": 6,
     "metadata": {},
     "output_type": "execute_result"
    }
   ],
   "source": [
    "t2[-3]"
   ]
  },
  {
   "cell_type": "code",
   "execution_count": 7,
   "id": "5d765b4b",
   "metadata": {},
   "outputs": [
    {
     "data": {
      "text/plain": [
       "(4+6j)"
      ]
     },
     "execution_count": 7,
     "metadata": {},
     "output_type": "execute_result"
    }
   ],
   "source": [
    "t2[2]"
   ]
  },
  {
   "cell_type": "code",
   "execution_count": 8,
   "id": "dc23a80d",
   "metadata": {},
   "outputs": [],
   "source": [
    "###immutable means we cannot change/modify."
   ]
  },
  {
   "cell_type": "code",
   "execution_count": 9,
   "id": "9d82dc9e",
   "metadata": {},
   "outputs": [
    {
     "ename": "TypeError",
     "evalue": "'tuple' object does not support item assignment",
     "output_type": "error",
     "traceback": [
      "\u001b[1;31m---------------------------------------------------------------------------\u001b[0m",
      "\u001b[1;31mTypeError\u001b[0m                                 Traceback (most recent call last)",
      "Cell \u001b[1;32mIn[9], line 1\u001b[0m\n\u001b[1;32m----> 1\u001b[0m t2[\u001b[38;5;241m2\u001b[39m]\u001b[38;5;241m=\u001b[39m\u001b[38;5;124m'\u001b[39m\u001b[38;5;124mtext\u001b[39m\u001b[38;5;124m'\u001b[39m\n",
      "\u001b[1;31mTypeError\u001b[0m: 'tuple' object does not support item assignment"
     ]
    }
   ],
   "source": [
    "t2[2]='text'"
   ]
  },
  {
   "cell_type": "code",
   "execution_count": 10,
   "id": "c9695d90",
   "metadata": {},
   "outputs": [
    {
     "data": {
      "text/plain": [
       "tuple"
      ]
     },
     "execution_count": 10,
     "metadata": {},
     "output_type": "execute_result"
    }
   ],
   "source": [
    "type(t2)"
   ]
  },
  {
   "cell_type": "code",
   "execution_count": 11,
   "id": "b944ae94",
   "metadata": {},
   "outputs": [
    {
     "data": {
      "text/plain": [
       "4"
      ]
     },
     "execution_count": 11,
     "metadata": {},
     "output_type": "execute_result"
    }
   ],
   "source": [
    "t3=(0,1,2,3,1,2,1,1,5)\n",
    "t3.count(1)   #count returns the frequency of occurance of an element"
   ]
  },
  {
   "cell_type": "code",
   "execution_count": 13,
   "id": "2e1b9ca0",
   "metadata": {},
   "outputs": [
    {
     "data": {
      "text/plain": [
       "3"
      ]
     },
     "execution_count": 13,
     "metadata": {},
     "output_type": "execute_result"
    }
   ],
   "source": [
    "t3.index(3) #the index function returns the index position of an element"
   ]
  },
  {
   "cell_type": "markdown",
   "id": "8ff20d27",
   "metadata": {},
   "source": [
    "#### List: lists are an ordered collection of elements (mixed data types),lists are mutable,lists are created with [] brackets or the list constructor."
   ]
  },
  {
   "cell_type": "code",
   "execution_count": 14,
   "id": "16320107",
   "metadata": {},
   "outputs": [
    {
     "name": "stdout",
     "output_type": "stream",
     "text": [
      "[6, 7.5, (4+6j), False, None]\n",
      "<class 'list'>\n"
     ]
    }
   ],
   "source": [
    "list0=[6,7.5,4+6j,False,None]\n",
    "print(list0)\n",
    "print(type(list0))"
   ]
  },
  {
   "cell_type": "code",
   "execution_count": 15,
   "id": "39164ec9",
   "metadata": {},
   "outputs": [
    {
     "name": "stdout",
     "output_type": "stream",
     "text": [
      "[6, 7.5, (4+6j), False, None]\n",
      "<class 'list'>\n"
     ]
    }
   ],
   "source": [
    "list1=list((6,7.5,4+6j,False,None))\n",
    "print(list1)\n",
    "print(type(list1))"
   ]
  },
  {
   "cell_type": "code",
   "execution_count": 16,
   "id": "e4ae09ad",
   "metadata": {},
   "outputs": [],
   "source": [
    "list1[2]='text'"
   ]
  },
  {
   "cell_type": "code",
   "execution_count": 17,
   "id": "753aea5b",
   "metadata": {},
   "outputs": [
    {
     "data": {
      "text/plain": [
       "[6, 7.5, 'text', False, None]"
      ]
     },
     "execution_count": 17,
     "metadata": {},
     "output_type": "execute_result"
    }
   ],
   "source": [
    "list1"
   ]
  },
  {
   "cell_type": "code",
   "execution_count": 18,
   "id": "9d037de6",
   "metadata": {},
   "outputs": [],
   "source": [
    "##append-to add an element to a list at the end\n",
    "list1.append(58)"
   ]
  },
  {
   "cell_type": "code",
   "execution_count": 19,
   "id": "95d67ad2",
   "metadata": {},
   "outputs": [
    {
     "data": {
      "text/plain": [
       "[6, 7.5, 'text', False, None, 58]"
      ]
     },
     "execution_count": 19,
     "metadata": {},
     "output_type": "execute_result"
    }
   ],
   "source": [
    "list1"
   ]
  },
  {
   "cell_type": "code",
   "execution_count": 20,
   "id": "91e5fc11",
   "metadata": {},
   "outputs": [],
   "source": [
    "###insert method-to include an element in a specific position\n",
    "list1.insert(3,'new')"
   ]
  },
  {
   "cell_type": "code",
   "execution_count": 21,
   "id": "8a0ea589",
   "metadata": {},
   "outputs": [
    {
     "data": {
      "text/plain": [
       "[6, 7.5, 'text', 'new', False, None, 58]"
      ]
     },
     "execution_count": 21,
     "metadata": {},
     "output_type": "execute_result"
    }
   ],
   "source": [
    "list1"
   ]
  },
  {
   "cell_type": "code",
   "execution_count": 22,
   "id": "0e0c9027",
   "metadata": {},
   "outputs": [],
   "source": [
    "###extend-add multiple values:\n",
    "list4=[True,70,23.5,8+2j]\n",
    "list1.extend(list4)"
   ]
  },
  {
   "cell_type": "code",
   "execution_count": 23,
   "id": "59f86461",
   "metadata": {},
   "outputs": [
    {
     "data": {
      "text/plain": [
       "[6, 7.5, 'text', 'new', False, None, 58, True, 70, 23.5, (8+2j)]"
      ]
     },
     "execution_count": 23,
     "metadata": {},
     "output_type": "execute_result"
    }
   ],
   "source": [
    "list1"
   ]
  },
  {
   "cell_type": "code",
   "execution_count": 24,
   "id": "e580864a",
   "metadata": {},
   "outputs": [
    {
     "data": {
      "text/plain": [
       "1"
      ]
     },
     "execution_count": 24,
     "metadata": {},
     "output_type": "execute_result"
    }
   ],
   "source": [
    "list1.count('new')"
   ]
  },
  {
   "cell_type": "code",
   "execution_count": 25,
   "id": "c953cf7e",
   "metadata": {},
   "outputs": [
    {
     "data": {
      "text/plain": [
       "5"
      ]
     },
     "execution_count": 25,
     "metadata": {},
     "output_type": "execute_result"
    }
   ],
   "source": [
    "list1.index(None)"
   ]
  },
  {
   "cell_type": "code",
   "execution_count": 26,
   "id": "ced9e688",
   "metadata": {},
   "outputs": [],
   "source": [
    "#Q) create a list with elements 34,78,99,24,12 and sort the elements in descending order"
   ]
  },
  {
   "cell_type": "code",
   "execution_count": 27,
   "id": "1a66ca09",
   "metadata": {},
   "outputs": [],
   "source": [
    "#Q) consider each value as the sales recorded over 5 days in a week. what is the total sales recorded?"
   ]
  },
  {
   "cell_type": "code",
   "execution_count": 28,
   "id": "08c783cf",
   "metadata": {},
   "outputs": [],
   "source": [
    "##Q) read the elements of the above list from the end to the beginning"
   ]
  },
  {
   "cell_type": "code",
   "execution_count": 29,
   "id": "abfd1303",
   "metadata": {},
   "outputs": [],
   "source": [
    "##Q) remove value 12 from the list using the index position"
   ]
  },
  {
   "cell_type": "code",
   "execution_count": 30,
   "id": "c3e0ccef",
   "metadata": {},
   "outputs": [],
   "source": [
    "### Q) find the min and max value in the above list"
   ]
  },
  {
   "cell_type": "code",
   "execution_count": 13,
   "id": "2cd3cd9b",
   "metadata": {},
   "outputs": [
    {
     "name": "stdout",
     "output_type": "stream",
     "text": [
      "Sales in Desc order: [99, 78, 34, 24, 12]\n",
      "Total sales recored for the week is: 247\n",
      "[24, 34, 78, 99]\n",
      "Minimum Sale is: 24\n",
      "Maximum Sale is: 99\n"
     ]
    }
   ],
   "source": [
    "# Q Create a list with elements 34,78,99,24,12 and sort the elements in descending order.\n",
    "sales = [34,78,99,24,12]\n",
    "sales.sort(reverse=True)\n",
    "print(\"Sales in Desc order:\" , sales)\n",
    "\n",
    "#Q) Consider each value as the sales recorded over 5 days in a week. what is the total sales recorded?\n",
    "total_sales = sum(sales)\n",
    "print('Total sales recored for the week is:', total_sales)\n",
    "\n",
    "#Q) read the elements of the above list from the end to the beginning\n",
    "sales.reverse()\n",
    "sales\n",
    "\n",
    "##Q) remove value 12 from the list using the index position\n",
    "sales.remove(12)\n",
    "print(sales)\n",
    "\n",
    "#Q) find the min & max value in the above list\n",
    "min_sales = min(sales)\n",
    "print('Minimum Sale is:', min_sales)\n",
    "max_sales = max(sales)\n",
    "print('Maximum Sale is:', max_sales)"
   ]
  },
  {
   "cell_type": "code",
   "execution_count": 4,
   "id": "f0b86dee",
   "metadata": {},
   "outputs": [
    {
     "data": {
      "text/plain": [
       "[99, 78, 34, 24, 12]"
      ]
     },
     "execution_count": 4,
     "metadata": {},
     "output_type": "execute_result"
    }
   ],
   "source": [
    "sales2 =[34,78,99,24,12]\n",
    "sales2.sort(reverse=True)\n",
    "sales2"
   ]
  },
  {
   "cell_type": "code",
   "execution_count": 7,
   "id": "b091a5ca",
   "metadata": {},
   "outputs": [
    {
     "data": {
      "text/plain": [
       "[12, 24, 34, 78, 99]"
      ]
     },
     "execution_count": 7,
     "metadata": {},
     "output_type": "execute_result"
    }
   ],
   "source": [
    "#Q) read the elements of the above list from the end to the beginning\n",
    "sales"
   ]
  },
  {
   "cell_type": "code",
   "execution_count": 9,
   "id": "bb376865",
   "metadata": {},
   "outputs": [
    {
     "data": {
      "text/plain": [
       "[99, 78, 34, 24, 12]"
      ]
     },
     "execution_count": 9,
     "metadata": {},
     "output_type": "execute_result"
    }
   ],
   "source": [
    "sales[::-1]   #2nd method"
   ]
  },
  {
   "cell_type": "code",
   "execution_count": 10,
   "id": "73e2ed29",
   "metadata": {},
   "outputs": [
    {
     "name": "stdout",
     "output_type": "stream",
     "text": [
      "[12, 24, 34, 78, 99]\n"
     ]
    }
   ],
   "source": [
    "##Q) remove value 12 from the list using the index position\n",
    "print(sales)"
   ]
  },
  {
   "cell_type": "code",
   "execution_count": 11,
   "id": "fe894df6",
   "metadata": {},
   "outputs": [
    {
     "data": {
      "text/plain": [
       "12"
      ]
     },
     "execution_count": 11,
     "metadata": {},
     "output_type": "execute_result"
    }
   ],
   "source": [
    "#pop method-remove element from a list using the index position\n",
    "sales.pop(0)"
   ]
  },
  {
   "cell_type": "code",
   "execution_count": 12,
   "id": "4b189672",
   "metadata": {},
   "outputs": [
    {
     "data": {
      "text/plain": [
       "[24, 34, 78, 99]"
      ]
     },
     "execution_count": 12,
     "metadata": {},
     "output_type": "execute_result"
    }
   ],
   "source": [
    "sales"
   ]
  },
  {
   "cell_type": "code",
   "execution_count": 14,
   "id": "aa4e2831",
   "metadata": {},
   "outputs": [
    {
     "data": {
      "text/plain": [
       "[24, 34, 78, 99]"
      ]
     },
     "execution_count": 14,
     "metadata": {},
     "output_type": "execute_result"
    }
   ],
   "source": [
    "sales"
   ]
  },
  {
   "cell_type": "code",
   "execution_count": 15,
   "id": "6d00edda",
   "metadata": {},
   "outputs": [
    {
     "data": {
      "text/plain": [
       "24"
      ]
     },
     "execution_count": 15,
     "metadata": {},
     "output_type": "execute_result"
    }
   ],
   "source": [
    "res_min=min(sales)\n",
    "res_min"
   ]
  },
  {
   "cell_type": "markdown",
   "id": "22bd4d75",
   "metadata": {},
   "source": [
    "### Sets: unordered collection of elements,supports mixed datatypes,does not allow duplicates,can be created with the curly brackets or the set function,mutable.only frozensets are immutable."
   ]
  },
  {
   "cell_type": "code",
   "execution_count": 16,
   "id": "6f4bf941",
   "metadata": {},
   "outputs": [
    {
     "name": "stdout",
     "output_type": "stream",
     "text": [
      "{True, (4, 5), 20, (4+2j), 13.5, None}\n"
     ]
    }
   ],
   "source": [
    "set1={20,13.5,True,(4,5),4+2j,None,1}\n",
    "print(set1)"
   ]
  },
  {
   "cell_type": "code",
   "execution_count": 17,
   "id": "6164bb87",
   "metadata": {},
   "outputs": [
    {
     "data": {
      "text/plain": [
       "{(4+2j), (4, 5), 13.5, 20, None, True}"
      ]
     },
     "execution_count": 17,
     "metadata": {},
     "output_type": "execute_result"
    }
   ],
   "source": [
    "set2=set([20,13.5,True,(4,5),4+2j,None,20])\n",
    "set2"
   ]
  },
  {
   "cell_type": "code",
   "execution_count": 18,
   "id": "c8f546a9",
   "metadata": {},
   "outputs": [
    {
     "name": "stdout",
     "output_type": "stream",
     "text": [
      "<class 'set'>\n"
     ]
    }
   ],
   "source": [
    "print(type(set2))"
   ]
  },
  {
   "cell_type": "code",
   "execution_count": 19,
   "id": "e18fadc5",
   "metadata": {},
   "outputs": [],
   "source": [
    "##add an element to set1\n",
    "set1.add(100)"
   ]
  },
  {
   "cell_type": "code",
   "execution_count": 20,
   "id": "500b312d",
   "metadata": {},
   "outputs": [
    {
     "data": {
      "text/plain": [
       "{(4+2j), (4, 5), 100, 13.5, 20, None, True}"
      ]
     },
     "execution_count": 20,
     "metadata": {},
     "output_type": "execute_result"
    }
   ],
   "source": [
    "set1"
   ]
  },
  {
   "cell_type": "code",
   "execution_count": 21,
   "id": "661d50e8",
   "metadata": {},
   "outputs": [],
   "source": [
    "set1.discard(4+2j)"
   ]
  },
  {
   "cell_type": "code",
   "execution_count": 22,
   "id": "4cbdf2d6",
   "metadata": {},
   "outputs": [
    {
     "data": {
      "text/plain": [
       "{(4, 5), 100, 13.5, 20, None, True}"
      ]
     },
     "execution_count": 22,
     "metadata": {},
     "output_type": "execute_result"
    }
   ],
   "source": [
    "set1"
   ]
  },
  {
   "cell_type": "markdown",
   "id": "069d2d0a",
   "metadata": {},
   "source": [
    "#### Dictionaries contain elements,where each element is a  key:value pair. Keys are immutable,while values are mutable. Dictionaries support mixed datatypes,are created with {} brackets or the dict constructor."
   ]
  },
  {
   "cell_type": "code",
   "execution_count": 24,
   "id": "8a4460de",
   "metadata": {},
   "outputs": [],
   "source": [
    "dict1={'summer':'mangoes',3:'three',7:'Bond',10875:'simplilearn'}"
   ]
  },
  {
   "cell_type": "code",
   "execution_count": 25,
   "id": "b940f57e",
   "metadata": {},
   "outputs": [
    {
     "data": {
      "text/plain": [
       "dict_keys(['summer', 3, 7, 10875])"
      ]
     },
     "execution_count": 25,
     "metadata": {},
     "output_type": "execute_result"
    }
   ],
   "source": [
    "dict1.keys()"
   ]
  },
  {
   "cell_type": "code",
   "execution_count": 26,
   "id": "db235dfc",
   "metadata": {},
   "outputs": [
    {
     "data": {
      "text/plain": [
       "dict_values(['mangoes', 'three', 'Bond', 'simplilearn'])"
      ]
     },
     "execution_count": 26,
     "metadata": {},
     "output_type": "execute_result"
    }
   ],
   "source": [
    "dict1.values()"
   ]
  },
  {
   "cell_type": "code",
   "execution_count": 27,
   "id": "03046842",
   "metadata": {},
   "outputs": [
    {
     "data": {
      "text/plain": [
       "'simplilearn'"
      ]
     },
     "execution_count": 27,
     "metadata": {},
     "output_type": "execute_result"
    }
   ],
   "source": [
    "dict1[10875]"
   ]
  },
  {
   "cell_type": "code",
   "execution_count": null,
   "id": "d3c3cd5b",
   "metadata": {},
   "outputs": [],
   "source": []
  }
 ],
 "metadata": {
  "kernelspec": {
   "display_name": "Python 3 (ipykernel)",
   "language": "python",
   "name": "python3"
  },
  "language_info": {
   "codemirror_mode": {
    "name": "ipython",
    "version": 3
   },
   "file_extension": ".py",
   "mimetype": "text/x-python",
   "name": "python",
   "nbconvert_exporter": "python",
   "pygments_lexer": "ipython3",
   "version": "3.11.4"
  }
 },
 "nbformat": 4,
 "nbformat_minor": 5
}
