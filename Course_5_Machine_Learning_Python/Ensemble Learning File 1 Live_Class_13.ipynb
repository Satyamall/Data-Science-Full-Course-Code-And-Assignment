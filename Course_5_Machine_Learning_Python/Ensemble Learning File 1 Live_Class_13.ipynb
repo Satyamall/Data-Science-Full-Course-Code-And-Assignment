{
 "cells": [
  {
   "cell_type": "markdown",
   "id": "2fc79359-1678-4fe5-865f-30b9f53e915e",
   "metadata": {},
   "source": [
    "# Ensemble Learning"
   ]
  },
  {
   "cell_type": "markdown",
   "id": "c346ecfa-ed79-4c75-b3d8-2ac9d4b88cb2",
   "metadata": {},
   "source": [
    "## Agenda\n",
    "\n",
    "- Introduction to Ensemble Learning\n",
    "  - Goals\n",
    "  - Importance\n",
    "  - Weak and Strong Learners in Ensemble Learning\n",
    "- Categories in Ensemble Learning\n",
    "  - Sequential Ensembling Technique\n",
    "  - Parallel Ensembling Techniques\n",
    "- Simple Ensembling Techniques\n",
    "  - Voting\n",
    "    - Hard Voting\n",
    "    - Soft Voting\n",
    "- Advanced Techniques\n",
    "  - Bagging(BootStrap Aggregating)\n",
    "    - Bagging Technique\n",
    "    - Advantages\n",
    "    - Disadvantages\n",
    "    - Out-of-Bag Concept\n",
    "  - Boosting\n",
    "    - Boosting Techniques\n",
    "    - Advantages\n",
    "    - Disadvantages\n",
    "  - Stacking\n",
    "    - Advantages and Disadvantages"
   ]
  },
  {
   "cell_type": "markdown",
   "id": "d5246ad6-39c9-44d8-af76-f2be5f894209",
   "metadata": {},
   "source": [
    "### Introduction to Ensemble Learning\n",
    "\n",
    "Ensemble Learning combines multiple models to enhance the overall performance of machine learning algorithms. The fundamental Principle of ensemble learning is combining te predictions from multiple individual models to produce more accurate  and robust prediction than any single model.\n",
    "\n",
    "#### Goals\n",
    "- Enhance predictive accuracy by combining multiple models\n",
    "- Improve model robustness and generalization performance."
   ]
  },
  {
   "cell_type": "markdown",
   "id": "c6abca5a-257c-4796-b88e-ececc4cd36a5",
   "metadata": {},
   "source": [
    "\r",
    "![link text](https://labcontent.simplicdn.net/data-content/content-assets/Data_and_AI/ML/Lesson_07/ensemble_learning.png)"
   ]
  },
  {
   "cell_type": "markdown",
   "id": "c1c58d2b-54bd-43dd-af3a-4a3b6fb906d5",
   "metadata": {},
   "source": [
    "### Importance\n",
    "- Improves prediction Accuracy\n",
    "- Enhance model resilience\n",
    "- Mitigates biases and error present in individual models\n",
    "- captures wide range of perspectives "
   ]
  },
  {
   "cell_type": "markdown",
   "id": "5ce35164-e759-4604-95e2-700f571f25cf",
   "metadata": {},
   "source": [
    "### Weak and Strong Learners in Ensemble Learning\n",
    "- A **Weak Learner** or **Base Learner** is a learning algorithm capable of producing classifiers with the probability of error strictly less than that random guessing\n",
    "- A **Strong Learner**  is able to yield classifiers with arbitarily small error probability. It performs much better than random guessing\n",
    "\n",
    "An Ensemble (or Committee) of classifiers is a classifier build on some combination of weak learners. Through ensemble we try these classifiers to perform better than a single strong learner"
   ]
  },
  {
   "cell_type": "markdown",
   "id": "10bcb1cb-558a-4f2c-b027-204201485bd0",
   "metadata": {},
   "source": [
    "## Categories in Ensemble Learning\n",
    "Ensemble Learning can broadly classified into 2 categories\n",
    "- Sequential Ensemble Technique\n",
    "- Parallel Ensemble Technique"
   ]
  },
  {
   "cell_type": "markdown",
   "id": "3eed3634-4531-4e5d-9837-25499a6f535e",
   "metadata": {},
   "source": [
    "### Sequential Ensemble Technique\n",
    "\n",
    "These techniques trains models sequentially, with each model trying to correct predecessor's error. This techniques focus upon improving the overall performance of the ensemble by iteratively refining predictions. it uses weak learner as base models. An Example of this approach is Boosting.\n",
    "#### Steps\n",
    "- **Base Model Selection** : Choose the initial Model\n",
    "- **Sequential Training**\n",
    "- **Error Correction**\n",
    "- **Prediction Refinement**\n",
    "- **Combining the Predictions**\n",
    "- **Evaluation**"
   ]
  },
  {
   "cell_type": "markdown",
   "id": "47030ccd-5f6c-4849-ab63-39c88c36224c",
   "metadata": {},
   "source": [
    "![link text](https://labcontent.simplicdn.net/data-content/content-assets/Data_and_AI/ML/Lesson_07/Sequential_Ensemble_Technique.png)"
   ]
  },
  {
   "cell_type": "markdown",
   "id": "0832c2eb-c5e3-4bec-bf2e-9643829c2884",
   "metadata": {},
   "source": [
    "if all base models are of the same type, it is considered to be a homogeneous ensemble. if they are different, it is considered heterogeneous\n",
    "\n",
    "**The Sequential Enseble technique is employed when dealing with**\n",
    "- Complex Relation between features and target\n",
    "- Diverse data types, including numerical, categorical etc data\n",
    "- Imbalanced Datatsets\n",
    "- Incremental upadtes are need to adapt models gradually to evolving data over time"
   ]
  },
  {
   "cell_type": "markdown",
   "id": "5e1b9255-babd-4f9d-9155-245a13f3131b",
   "metadata": {},
   "source": [
    "### Parallel Ensemble Technique\n",
    "\n",
    "The parallel ensemble techniques trains the models concurrently. They combine the preditions from multiple models to improve the final output. bagging and Random Forest are examples for parallel ensemble techniques. It employes strong learners as base estimators.\n",
    "\n",
    "#### Steps\n",
    "- **Data Partitioning** : Divide the dataset into subsets\n",
    "- **Model Training**: Train models concurrently on subsets\n",
    "- **Predictions**: models make independent predictions\n",
    "- **Combining the Predictions**: aggregate preditions using techniques like voting(classification) or averaging(Regression)\n",
    "- **Evaluation**: Assess the preformance"
   ]
  },
  {
   "cell_type": "markdown",
   "id": "567b9776-fb6d-4f20-a0e4-d4de281f13fd",
   "metadata": {},
   "source": [
    "\n",
    "![link text](https://labcontent.simplicdn.net/data-content/content-assets/Data_and_AI/ML/Lesson_07/Parallel_Ensemble_Technique.png)"
   ]
  },
  {
   "cell_type": "markdown",
   "id": "f9029b50-b3c5-44fd-bf48-ad7d69452dc9",
   "metadata": {},
   "source": [
    "## Voting\n",
    "Voting is one of the fundamental methods of ensemble learning. it involves aggregating the predictions from multiple models to arrive at a final prediction. Two common types of voting are\n",
    "- Majority Voting / Hard Voting\n",
    "- Weighted Voting / Soft Voting"
   ]
  },
  {
   "cell_type": "markdown",
   "id": "d7ff2efc-700a-48e0-ab6f-3980d4b55313",
   "metadata": {},
   "source": [
    "### Majority Voting / Hard Voting\n",
    "Majority Voting / Hard Voting is an ensemble learning classification technique. it involves multiple models, making predictions for each data point. Each model prediction is considered a **vote**. The final prediction is determined by majority voting among the models"
   ]
  },
  {
   "cell_type": "markdown",
   "id": "71e3c646-69f2-44d2-b417-b29e19164dd9",
   "metadata": {},
   "source": [
    "#### Weighted Voting/Soft Voting\n",
    "Soft voting takes into account the probability estimates for each class provided by the models, assuming the models are capable of estimating these probabilities (i.e., they have a predict_proba method). The final prediction is determined by averaging these probabilities across all models, and the class with the highest average probability is selected."
   ]
  },
  {
   "cell_type": "code",
   "execution_count": 1,
   "id": "cb1c3efe-031b-417c-b2a1-b4c65fa7185c",
   "metadata": {},
   "outputs": [],
   "source": [
    "# Implement Hard Voting and Soft Voting on breast-cancer-wisconsin.data"
   ]
  },
  {
   "cell_type": "code",
   "execution_count": 2,
   "id": "6a51d5a7-10eb-430a-8648-7876e704b9cd",
   "metadata": {},
   "outputs": [],
   "source": [
    "import pandas as pd\n",
    "import numpy  as np\n",
    "import matplotlib.pyplot as plt\n",
    "from sklearn.metrics import classification_report , confusion_matrix, ConfusionMatrixDisplay, accuracy_score\n",
    "from sklearn.impute import SimpleImputer\n",
    "from sklearn.preprocessing import MinMaxScaler, StandardScaler\n",
    "from sklearn.linear_model import LogisticRegression\n",
    "from sklearn.tree import DecisionTreeClassifier\n",
    "from sklearn.svm import SVC\n",
    "from sklearn.model_selection import train_test_split, KFold, cross_val_score\n",
    "from sklearn.ensemble import VotingClassifier"
   ]
  },
  {
   "cell_type": "code",
   "execution_count": 3,
   "id": "d0921bbd-7734-41a4-978a-17f8f7e16b73",
   "metadata": {},
   "outputs": [
    {
     "data": {
      "text/html": [
       "<div>\n",
       "<style scoped>\n",
       "    .dataframe tbody tr th:only-of-type {\n",
       "        vertical-align: middle;\n",
       "    }\n",
       "\n",
       "    .dataframe tbody tr th {\n",
       "        vertical-align: top;\n",
       "    }\n",
       "\n",
       "    .dataframe thead th {\n",
       "        text-align: right;\n",
       "    }\n",
       "</style>\n",
       "<table border=\"1\" class=\"dataframe\">\n",
       "  <thead>\n",
       "    <tr style=\"text-align: right;\">\n",
       "      <th></th>\n",
       "      <th>Sample code</th>\n",
       "      <th>Clump Thickness</th>\n",
       "      <th>Uniformity of Cell Size</th>\n",
       "      <th>Uniformity of Cell Shape</th>\n",
       "      <th>Marginal Adhesion</th>\n",
       "      <th>Single Epithelial Cell Size</th>\n",
       "      <th>Bare Nuclei</th>\n",
       "      <th>Bland Chromatin</th>\n",
       "      <th>Normal Nucleoli</th>\n",
       "      <th>Mitoses</th>\n",
       "      <th>Class</th>\n",
       "    </tr>\n",
       "  </thead>\n",
       "  <tbody>\n",
       "    <tr>\n",
       "      <th>0</th>\n",
       "      <td>1000025</td>\n",
       "      <td>5</td>\n",
       "      <td>1</td>\n",
       "      <td>1</td>\n",
       "      <td>1</td>\n",
       "      <td>2</td>\n",
       "      <td>1</td>\n",
       "      <td>3</td>\n",
       "      <td>1</td>\n",
       "      <td>1</td>\n",
       "      <td>2</td>\n",
       "    </tr>\n",
       "    <tr>\n",
       "      <th>1</th>\n",
       "      <td>1002945</td>\n",
       "      <td>5</td>\n",
       "      <td>4</td>\n",
       "      <td>4</td>\n",
       "      <td>5</td>\n",
       "      <td>7</td>\n",
       "      <td>10</td>\n",
       "      <td>3</td>\n",
       "      <td>2</td>\n",
       "      <td>1</td>\n",
       "      <td>2</td>\n",
       "    </tr>\n",
       "    <tr>\n",
       "      <th>2</th>\n",
       "      <td>1015425</td>\n",
       "      <td>3</td>\n",
       "      <td>1</td>\n",
       "      <td>1</td>\n",
       "      <td>1</td>\n",
       "      <td>2</td>\n",
       "      <td>2</td>\n",
       "      <td>3</td>\n",
       "      <td>1</td>\n",
       "      <td>1</td>\n",
       "      <td>2</td>\n",
       "    </tr>\n",
       "    <tr>\n",
       "      <th>3</th>\n",
       "      <td>1016277</td>\n",
       "      <td>6</td>\n",
       "      <td>8</td>\n",
       "      <td>8</td>\n",
       "      <td>1</td>\n",
       "      <td>3</td>\n",
       "      <td>4</td>\n",
       "      <td>3</td>\n",
       "      <td>7</td>\n",
       "      <td>1</td>\n",
       "      <td>2</td>\n",
       "    </tr>\n",
       "    <tr>\n",
       "      <th>4</th>\n",
       "      <td>1017023</td>\n",
       "      <td>4</td>\n",
       "      <td>1</td>\n",
       "      <td>1</td>\n",
       "      <td>3</td>\n",
       "      <td>2</td>\n",
       "      <td>1</td>\n",
       "      <td>3</td>\n",
       "      <td>1</td>\n",
       "      <td>1</td>\n",
       "      <td>2</td>\n",
       "    </tr>\n",
       "  </tbody>\n",
       "</table>\n",
       "</div>"
      ],
      "text/plain": [
       "   Sample code  Clump Thickness  Uniformity of Cell Size  \\\n",
       "0      1000025                5                        1   \n",
       "1      1002945                5                        4   \n",
       "2      1015425                3                        1   \n",
       "3      1016277                6                        8   \n",
       "4      1017023                4                        1   \n",
       "\n",
       "   Uniformity of Cell Shape  Marginal Adhesion  Single Epithelial Cell Size  \\\n",
       "0                         1                  1                            2   \n",
       "1                         4                  5                            7   \n",
       "2                         1                  1                            2   \n",
       "3                         8                  1                            3   \n",
       "4                         1                  3                            2   \n",
       "\n",
       "  Bare Nuclei  Bland Chromatin  Normal Nucleoli  Mitoses  Class  \n",
       "0           1                3                1        1      2  \n",
       "1          10                3                2        1      2  \n",
       "2           2                3                1        1      2  \n",
       "3           4                3                7        1      2  \n",
       "4           1                3                1        1      2  "
      ]
     },
     "execution_count": 3,
     "metadata": {},
     "output_type": "execute_result"
    }
   ],
   "source": [
    "# Load the data\n",
    "url = 'https://archive.ics.uci.edu/ml/machine-learning-databases/breast-cancer-wisconsin/breast-cancer-wisconsin.data'\n",
    "\n",
    "col = ['Sample code', 'Clump Thickness', 'Uniformity of Cell Size', 'Uniformity of Cell Shape', 'Marginal Adhesion', \n",
    "       'Single Epithelial Cell Size', 'Bare Nuclei', 'Bland Chromatin', 'Normal Nucleoli', 'Mitoses', 'Class']\n",
    "\n",
    "df =  pd.read_csv(url, header = None)\n",
    "df.columns =  col\n",
    "df.head()"
   ]
  },
  {
   "cell_type": "code",
   "execution_count": 4,
   "id": "9ed6bf1b-b176-4d71-aa1f-cebefeb4ecaf",
   "metadata": {},
   "outputs": [
    {
     "name": "stdout",
     "output_type": "stream",
     "text": [
      "<class 'pandas.core.frame.DataFrame'>\n",
      "RangeIndex: 699 entries, 0 to 698\n",
      "Data columns (total 11 columns):\n",
      " #   Column                       Non-Null Count  Dtype \n",
      "---  ------                       --------------  ----- \n",
      " 0   Sample code                  699 non-null    int64 \n",
      " 1   Clump Thickness              699 non-null    int64 \n",
      " 2   Uniformity of Cell Size      699 non-null    int64 \n",
      " 3   Uniformity of Cell Shape     699 non-null    int64 \n",
      " 4   Marginal Adhesion            699 non-null    int64 \n",
      " 5   Single Epithelial Cell Size  699 non-null    int64 \n",
      " 6   Bare Nuclei                  699 non-null    object\n",
      " 7   Bland Chromatin              699 non-null    int64 \n",
      " 8   Normal Nucleoli              699 non-null    int64 \n",
      " 9   Mitoses                      699 non-null    int64 \n",
      " 10  Class                        699 non-null    int64 \n",
      "dtypes: int64(10), object(1)\n",
      "memory usage: 60.2+ KB\n"
     ]
    }
   ],
   "source": [
    "df.info()"
   ]
  },
  {
   "cell_type": "code",
   "execution_count": 5,
   "id": "2a942d36-d0f1-47cd-ac17-c2cc53d6e661",
   "metadata": {},
   "outputs": [
    {
     "data": {
      "text/plain": [
       "array(['1', '10', '2', '4', '3', '9', '7', '?', '5', '8', '6'],\n",
       "      dtype=object)"
      ]
     },
     "execution_count": 5,
     "metadata": {},
     "output_type": "execute_result"
    }
   ],
   "source": [
    "df['Bare Nuclei'].unique()"
   ]
  },
  {
   "cell_type": "code",
   "execution_count": 6,
   "id": "8f732671-82a0-4021-814e-7c5bfcbb2d54",
   "metadata": {},
   "outputs": [
    {
     "data": {
      "text/plain": [
       "Class\n",
       "2    458\n",
       "4    241\n",
       "Name: count, dtype: int64"
      ]
     },
     "execution_count": 6,
     "metadata": {},
     "output_type": "execute_result"
    }
   ],
   "source": [
    "df.Class.value_counts()"
   ]
  },
  {
   "cell_type": "code",
   "execution_count": 7,
   "id": "4e2242da-5a9a-4396-9003-b4fb2c75c3e6",
   "metadata": {},
   "outputs": [],
   "source": [
    "# Drop Sample code column, replace '?' in Bare Nuclei with 0 and convert to int64\n",
    "# Replace class values to binary (2 for benign, 4 for malignant)"
   ]
  },
  {
   "cell_type": "code",
   "execution_count": 8,
   "id": "52094d1f-30de-4019-a68c-73c6e6386a6d",
   "metadata": {},
   "outputs": [],
   "source": [
    "df = df.drop(columns = ['Sample code'])"
   ]
  },
  {
   "cell_type": "code",
   "execution_count": 9,
   "id": "fddba87b-ef7e-4925-b695-a2106638a28e",
   "metadata": {},
   "outputs": [],
   "source": [
    "df['Bare Nuclei'] =  df['Bare Nuclei'].replace('?', 0).astype('int64')"
   ]
  },
  {
   "cell_type": "code",
   "execution_count": 10,
   "id": "244f0080-139b-4c2d-a9f8-def571acd415",
   "metadata": {},
   "outputs": [],
   "source": [
    "df['Class'] = df['Class'].replace({2:0, 4:1})"
   ]
  },
  {
   "cell_type": "code",
   "execution_count": 11,
   "id": "addd10b6-dc42-4179-a2cc-258e08ac7539",
   "metadata": {},
   "outputs": [
    {
     "name": "stdout",
     "output_type": "stream",
     "text": [
      "<class 'pandas.core.frame.DataFrame'>\n",
      "RangeIndex: 699 entries, 0 to 698\n",
      "Data columns (total 10 columns):\n",
      " #   Column                       Non-Null Count  Dtype\n",
      "---  ------                       --------------  -----\n",
      " 0   Clump Thickness              699 non-null    int64\n",
      " 1   Uniformity of Cell Size      699 non-null    int64\n",
      " 2   Uniformity of Cell Shape     699 non-null    int64\n",
      " 3   Marginal Adhesion            699 non-null    int64\n",
      " 4   Single Epithelial Cell Size  699 non-null    int64\n",
      " 5   Bare Nuclei                  699 non-null    int64\n",
      " 6   Bland Chromatin              699 non-null    int64\n",
      " 7   Normal Nucleoli              699 non-null    int64\n",
      " 8   Mitoses                      699 non-null    int64\n",
      " 9   Class                        699 non-null    int64\n",
      "dtypes: int64(10)\n",
      "memory usage: 54.7 KB\n"
     ]
    }
   ],
   "source": [
    "df.info()"
   ]
  },
  {
   "cell_type": "code",
   "execution_count": 12,
   "id": "d245108b-d1d0-4585-a223-97e2d8a7d474",
   "metadata": {},
   "outputs": [
    {
     "data": {
      "text/plain": [
       "Class\n",
       "0    458\n",
       "1    241\n",
       "Name: count, dtype: int64"
      ]
     },
     "execution_count": 12,
     "metadata": {},
     "output_type": "execute_result"
    }
   ],
   "source": [
    "df.Class.value_counts()"
   ]
  },
  {
   "cell_type": "code",
   "execution_count": 13,
   "id": "ee7a0c9a-db16-4b03-909b-af1caebdfbc6",
   "metadata": {},
   "outputs": [],
   "source": [
    "# Extract Feature and Target, do Train test split\n",
    "\n",
    "X =  df.iloc[:, :-1]\n",
    "y = df.iloc[:, -1]\n",
    "\n",
    "X_train, X_test, y_train, y_test = train_test_split(X,y, test_size = 0.2, random_state =  25)"
   ]
  },
  {
   "cell_type": "code",
   "execution_count": 14,
   "id": "e111208f-10c4-4e34-89aa-58398b9bef1b",
   "metadata": {},
   "outputs": [
    {
     "data": {
      "text/html": [
       "<div>\n",
       "<style scoped>\n",
       "    .dataframe tbody tr th:only-of-type {\n",
       "        vertical-align: middle;\n",
       "    }\n",
       "\n",
       "    .dataframe tbody tr th {\n",
       "        vertical-align: top;\n",
       "    }\n",
       "\n",
       "    .dataframe thead th {\n",
       "        text-align: right;\n",
       "    }\n",
       "</style>\n",
       "<table border=\"1\" class=\"dataframe\">\n",
       "  <thead>\n",
       "    <tr style=\"text-align: right;\">\n",
       "      <th></th>\n",
       "      <th>Clump Thickness</th>\n",
       "      <th>Uniformity of Cell Size</th>\n",
       "      <th>Uniformity of Cell Shape</th>\n",
       "      <th>Marginal Adhesion</th>\n",
       "      <th>Single Epithelial Cell Size</th>\n",
       "      <th>Bare Nuclei</th>\n",
       "      <th>Bland Chromatin</th>\n",
       "      <th>Normal Nucleoli</th>\n",
       "      <th>Mitoses</th>\n",
       "    </tr>\n",
       "  </thead>\n",
       "  <tbody>\n",
       "    <tr>\n",
       "      <th>count</th>\n",
       "      <td>559.000000</td>\n",
       "      <td>559.000000</td>\n",
       "      <td>559.000000</td>\n",
       "      <td>559.000000</td>\n",
       "      <td>559.000000</td>\n",
       "      <td>559.000000</td>\n",
       "      <td>559.000000</td>\n",
       "      <td>559.000000</td>\n",
       "      <td>559.000000</td>\n",
       "    </tr>\n",
       "    <tr>\n",
       "      <th>mean</th>\n",
       "      <td>4.423971</td>\n",
       "      <td>3.116279</td>\n",
       "      <td>3.211091</td>\n",
       "      <td>2.772809</td>\n",
       "      <td>3.207513</td>\n",
       "      <td>3.423971</td>\n",
       "      <td>3.441860</td>\n",
       "      <td>2.822898</td>\n",
       "      <td>1.533095</td>\n",
       "    </tr>\n",
       "    <tr>\n",
       "      <th>std</th>\n",
       "      <td>2.850680</td>\n",
       "      <td>3.041953</td>\n",
       "      <td>2.966084</td>\n",
       "      <td>2.834802</td>\n",
       "      <td>2.196416</td>\n",
       "      <td>3.614616</td>\n",
       "      <td>2.399171</td>\n",
       "      <td>3.011765</td>\n",
       "      <td>1.640186</td>\n",
       "    </tr>\n",
       "    <tr>\n",
       "      <th>min</th>\n",
       "      <td>1.000000</td>\n",
       "      <td>1.000000</td>\n",
       "      <td>1.000000</td>\n",
       "      <td>1.000000</td>\n",
       "      <td>1.000000</td>\n",
       "      <td>0.000000</td>\n",
       "      <td>1.000000</td>\n",
       "      <td>1.000000</td>\n",
       "      <td>1.000000</td>\n",
       "    </tr>\n",
       "    <tr>\n",
       "      <th>25%</th>\n",
       "      <td>2.000000</td>\n",
       "      <td>1.000000</td>\n",
       "      <td>1.000000</td>\n",
       "      <td>1.000000</td>\n",
       "      <td>2.000000</td>\n",
       "      <td>1.000000</td>\n",
       "      <td>2.000000</td>\n",
       "      <td>1.000000</td>\n",
       "      <td>1.000000</td>\n",
       "    </tr>\n",
       "    <tr>\n",
       "      <th>50%</th>\n",
       "      <td>4.000000</td>\n",
       "      <td>1.000000</td>\n",
       "      <td>1.000000</td>\n",
       "      <td>1.000000</td>\n",
       "      <td>2.000000</td>\n",
       "      <td>1.000000</td>\n",
       "      <td>3.000000</td>\n",
       "      <td>1.000000</td>\n",
       "      <td>1.000000</td>\n",
       "    </tr>\n",
       "    <tr>\n",
       "      <th>75%</th>\n",
       "      <td>6.000000</td>\n",
       "      <td>5.000000</td>\n",
       "      <td>5.000000</td>\n",
       "      <td>3.500000</td>\n",
       "      <td>4.000000</td>\n",
       "      <td>5.000000</td>\n",
       "      <td>4.000000</td>\n",
       "      <td>3.500000</td>\n",
       "      <td>1.000000</td>\n",
       "    </tr>\n",
       "    <tr>\n",
       "      <th>max</th>\n",
       "      <td>10.000000</td>\n",
       "      <td>10.000000</td>\n",
       "      <td>10.000000</td>\n",
       "      <td>10.000000</td>\n",
       "      <td>10.000000</td>\n",
       "      <td>10.000000</td>\n",
       "      <td>10.000000</td>\n",
       "      <td>10.000000</td>\n",
       "      <td>10.000000</td>\n",
       "    </tr>\n",
       "  </tbody>\n",
       "</table>\n",
       "</div>"
      ],
      "text/plain": [
       "       Clump Thickness  Uniformity of Cell Size  Uniformity of Cell Shape  \\\n",
       "count       559.000000               559.000000                559.000000   \n",
       "mean          4.423971                 3.116279                  3.211091   \n",
       "std           2.850680                 3.041953                  2.966084   \n",
       "min           1.000000                 1.000000                  1.000000   \n",
       "25%           2.000000                 1.000000                  1.000000   \n",
       "50%           4.000000                 1.000000                  1.000000   \n",
       "75%           6.000000                 5.000000                  5.000000   \n",
       "max          10.000000                10.000000                 10.000000   \n",
       "\n",
       "       Marginal Adhesion  Single Epithelial Cell Size  Bare Nuclei  \\\n",
       "count         559.000000                   559.000000   559.000000   \n",
       "mean            2.772809                     3.207513     3.423971   \n",
       "std             2.834802                     2.196416     3.614616   \n",
       "min             1.000000                     1.000000     0.000000   \n",
       "25%             1.000000                     2.000000     1.000000   \n",
       "50%             1.000000                     2.000000     1.000000   \n",
       "75%             3.500000                     4.000000     5.000000   \n",
       "max            10.000000                    10.000000    10.000000   \n",
       "\n",
       "       Bland Chromatin  Normal Nucleoli     Mitoses  \n",
       "count       559.000000       559.000000  559.000000  \n",
       "mean          3.441860         2.822898    1.533095  \n",
       "std           2.399171         3.011765    1.640186  \n",
       "min           1.000000         1.000000    1.000000  \n",
       "25%           2.000000         1.000000    1.000000  \n",
       "50%           3.000000         1.000000    1.000000  \n",
       "75%           4.000000         3.500000    1.000000  \n",
       "max          10.000000        10.000000   10.000000  "
      ]
     },
     "execution_count": 14,
     "metadata": {},
     "output_type": "execute_result"
    }
   ],
   "source": [
    "X_train.describe()"
   ]
  },
  {
   "cell_type": "code",
   "execution_count": 15,
   "id": "95f28957-fc41-49ad-abaa-7421b1d8dc6f",
   "metadata": {},
   "outputs": [
    {
     "data": {
      "text/plain": [
       "<Axes: ylabel='Density'>"
      ]
     },
     "execution_count": 15,
     "metadata": {},
     "output_type": "execute_result"
    },
    {
     "data": {
      "image/png": "[encoded data removed]",
      "text/plain": [
       "<Figure size 640x480 with 1 Axes>"
      ]
     },
     "metadata": {},
     "output_type": "display_data"
    }
   ],
   "source": [
    "X_train.plot.kde()"
   ]
  },
  {
   "cell_type": "code",
   "execution_count": 16,
   "id": "0cf554f4-45b2-4939-845a-cb647310fce4",
   "metadata": {},
   "outputs": [],
   "source": [
    "scaler =  MinMaxScaler()\n",
    "X_train_scaled =  scaler.fit_transform(X_train)\n",
    "X_test_scaled =  scaler.transform(X_test)"
   ]
  },
  {
   "cell_type": "code",
   "execution_count": 17,
   "id": "3447483d-c51b-477d-bd9e-931c4136b3db",
   "metadata": {},
   "outputs": [],
   "source": [
    "# Initialize the list of base models\n",
    "\n",
    "estimators = [\n",
    "    ('logistic', LogisticRegression()),\n",
    "    ('dtc', DecisionTreeClassifier()),\n",
    "    ('svc', SVC(probability = True))\n",
    "]"
   ]
  },
  {
   "cell_type": "code",
   "execution_count": 18,
   "id": "6638a31f-3350-4458-af8d-88bcd73bfcdb",
   "metadata": {},
   "outputs": [
    {
     "name": "stdout",
     "output_type": "stream",
     "text": [
      "Mean Cross Validation Accuracy - Hardvoting Ensemble 0.9607\n",
      "Test Accuracy  - Hardvoting Ensemble 0.9500\n"
     ]
    }
   ],
   "source": [
    "# Create Voting Classifier ensemble with estimators(HARD VOTING)\n",
    "\n",
    "ensemble =  VotingClassifier(estimators, voting = 'hard')\n",
    "\n",
    "# Set up Kfold \n",
    "kf =  KFold(n_splits = 10, shuffle = True, random_state = 25)\n",
    "\n",
    "# Train an evaluate model using Cross Validation\n",
    "\n",
    "results = cross_val_score(ensemble, X_train_scaled, y_train, cv = kf, scoring ='accuracy')\n",
    "\n",
    "print(f'Mean Cross Validation Accuracy - Hardvoting Ensemble {results.mean():.4f}')\n",
    "\n",
    "ensemble.fit(X_train_scaled, y_train)\n",
    "\n",
    "y_test_pred = ensemble.predict(X_test_scaled)\n",
    "\n",
    "print(f'Test Accuracy  - Hardvoting Ensemble {accuracy_score(y_test, y_test_pred):.4f}')"
   ]
  },
  {
   "cell_type": "code",
   "execution_count": 19,
   "id": "4a0928d2-aa9e-4e2d-8de1-497eed48058c",
   "metadata": {},
   "outputs": [
    {
     "name": "stdout",
     "output_type": "stream",
     "text": [
      "Classification Report \n",
      "               precision    recall  f1-score   support\n",
      "\n",
      "           0       0.98      0.95      0.96        94\n",
      "           1       0.90      0.96      0.93        46\n",
      "\n",
      "    accuracy                           0.95       140\n",
      "   macro avg       0.94      0.95      0.94       140\n",
      "weighted avg       0.95      0.95      0.95       140\n",
      "\n"
     ]
    },
    {
     "data": {
      "image/png": "[encoded data removed]",
      "text/plain": [
       "<Figure size 640x480 with 1 Axes>"
      ]
     },
     "metadata": {},
     "output_type": "display_data"
    }
   ],
   "source": [
    "print(f'Classification Report \\n {classification_report(y_test, y_test_pred)}')\n",
    "cm =  confusion_matrix(y_test, y_test_pred)\n",
    "cm_display = ConfusionMatrixDisplay(confusion_matrix = cm, display_labels = ['Benign', 'Malignant'])\n",
    "cm_display.plot(colorbar = False, cmap =  'summer')\n",
    "plt.show()"
   ]
  },
  {
   "cell_type": "code",
   "execution_count": 20,
   "id": "99ef90c2-d5de-462b-8f1c-2550cd880c12",
   "metadata": {},
   "outputs": [
    {
     "name": "stdout",
     "output_type": "stream",
     "text": [
      "Mean Cross Validation Accuracy - Softvoting Ensemble 0.9607\n",
      "Test Accuracy  - Softvoting Ensemble 0.9500\n",
      "Classification Report \n",
      "               precision    recall  f1-score   support\n",
      "\n",
      "           0       0.99      0.94      0.96        94\n",
      "           1       0.88      0.98      0.93        46\n",
      "\n",
      "    accuracy                           0.95       140\n",
      "   macro avg       0.94      0.96      0.94       140\n",
      "weighted avg       0.95      0.95      0.95       140\n",
      "\n"
     ]
    },
    {
     "data": {
      "image/png": "[encoded data removed]",
      "text/plain": [
       "<Figure size 640x480 with 1 Axes>"
      ]
     },
     "metadata": {},
     "output_type": "display_data"
    }
   ],
   "source": [
    "# Create Voting Classifier ensemble with estimators(Soft VOTING)\n",
    "\n",
    "ensemble =  VotingClassifier(estimators, voting = 'soft')\n",
    "\n",
    "# Set up Kfold \n",
    "kf =  KFold(n_splits = 10, shuffle = True, random_state = 25)\n",
    "\n",
    "# Train an evaluate model using Cross Validation\n",
    "\n",
    "results = cross_val_score(ensemble, X_train_scaled, y_train, cv = kf, scoring ='accuracy')\n",
    "\n",
    "print(f'Mean Cross Validation Accuracy - Softvoting Ensemble {results.mean():.4f}')\n",
    "\n",
    "ensemble.fit(X_train_scaled, y_train)\n",
    "\n",
    "y_test_pred = ensemble.predict(X_test_scaled)\n",
    "\n",
    "print(f'Test Accuracy  - Softvoting Ensemble {accuracy_score(y_test, y_test_pred):.4f}')\n",
    "\n",
    "\n",
    "print(f'Classification Report \\n {classification_report(y_test, y_test_pred)}')\n",
    "cm =  confusion_matrix(y_test, y_test_pred)\n",
    "cm_display = ConfusionMatrixDisplay(confusion_matrix = cm, display_labels = ['Benign', 'Malignant'])\n",
    "cm_display.plot(colorbar = False, cmap =  'summer')\n",
    "plt.show()"
   ]
  },
  {
   "cell_type": "markdown",
   "id": "bc123148-cef4-4c11-90e4-590ebcd387f6",
   "metadata": {},
   "source": [
    "## Advanced Techniques\n",
    "These techniques use complex methods to merge the predictions from individual models."
   ]
  },
  {
   "cell_type": "markdown",
   "id": "8e5b3c90-0f38-4af1-a399-a881d14ab466",
   "metadata": {},
   "source": [
    "## Bagging\n",
    "\n",
    "\n",
    "Bagging or Bootstrap Aggregating enhances the stability and accuracy of machine learning algorithms. This method creates multiple subsets from the original dataset, known as bootstrap samples, by selecting data points with replacement. Each subset trains a separate model.\r",
    "\r",
    "For final predictions, Bagging combines the individual models' outputs by using voting (for classification tasks) or averaging (for regression tasks). This approach effectively reduces variance and helps prevent overfitting.\r",
    "\r",
    "__Note:__ Random Forest is a popular algorithm that utilizes bagging by training multiple decision trees on different bootstrap samples and combining their predictions."
   ]
  },
  {
   "cell_type": "markdown",
   "id": "1831cede-28fd-4278-9a35-d79e4e2c6dcd",
   "metadata": {},
   "source": [
    "![link text](https://labcontent.simplicdn.net/data-content/content-assets/Data_and_AI/ML/updated/Lesson_05/Ensembled_Learning_Bagging.png)"
   ]
  },
  {
   "cell_type": "code",
   "execution_count": 22,
   "id": "bf642a65-1242-4984-82c9-4ce438a8a644",
   "metadata": {},
   "outputs": [],
   "source": [
    "# Implementation\n",
    "\n",
    "from sklearn.ensemble import BaggingClassifier"
   ]
  },
  {
   "cell_type": "code",
   "execution_count": 23,
   "id": "10cfae5d-e4da-4164-9e95-5f8eb9cf1ce0",
   "metadata": {},
   "outputs": [
    {
     "data": {
      "text/html": [
       "<div>\n",
       "<style scoped>\n",
       "    .dataframe tbody tr th:only-of-type {\n",
       "        vertical-align: middle;\n",
       "    }\n",
       "\n",
       "    .dataframe tbody tr th {\n",
       "        vertical-align: top;\n",
       "    }\n",
       "\n",
       "    .dataframe thead th {\n",
       "        text-align: right;\n",
       "    }\n",
       "</style>\n",
       "<table border=\"1\" class=\"dataframe\">\n",
       "  <thead>\n",
       "    <tr style=\"text-align: right;\">\n",
       "      <th></th>\n",
       "      <th>preg</th>\n",
       "      <th>plas</th>\n",
       "      <th>pres</th>\n",
       "      <th>skin</th>\n",
       "      <th>test</th>\n",
       "      <th>mass</th>\n",
       "      <th>pedi</th>\n",
       "      <th>age</th>\n",
       "      <th>class</th>\n",
       "    </tr>\n",
       "  </thead>\n",
       "  <tbody>\n",
       "    <tr>\n",
       "      <th>0</th>\n",
       "      <td>6</td>\n",
       "      <td>148</td>\n",
       "      <td>72</td>\n",
       "      <td>35</td>\n",
       "      <td>0</td>\n",
       "      <td>33.6</td>\n",
       "      <td>0.627</td>\n",
       "      <td>50</td>\n",
       "      <td>1</td>\n",
       "    </tr>\n",
       "    <tr>\n",
       "      <th>1</th>\n",
       "      <td>1</td>\n",
       "      <td>85</td>\n",
       "      <td>66</td>\n",
       "      <td>29</td>\n",
       "      <td>0</td>\n",
       "      <td>26.6</td>\n",
       "      <td>0.351</td>\n",
       "      <td>31</td>\n",
       "      <td>0</td>\n",
       "    </tr>\n",
       "    <tr>\n",
       "      <th>2</th>\n",
       "      <td>8</td>\n",
       "      <td>183</td>\n",
       "      <td>64</td>\n",
       "      <td>0</td>\n",
       "      <td>0</td>\n",
       "      <td>23.3</td>\n",
       "      <td>0.672</td>\n",
       "      <td>32</td>\n",
       "      <td>1</td>\n",
       "    </tr>\n",
       "    <tr>\n",
       "      <th>3</th>\n",
       "      <td>1</td>\n",
       "      <td>89</td>\n",
       "      <td>66</td>\n",
       "      <td>23</td>\n",
       "      <td>94</td>\n",
       "      <td>28.1</td>\n",
       "      <td>0.167</td>\n",
       "      <td>21</td>\n",
       "      <td>0</td>\n",
       "    </tr>\n",
       "    <tr>\n",
       "      <th>4</th>\n",
       "      <td>0</td>\n",
       "      <td>137</td>\n",
       "      <td>40</td>\n",
       "      <td>35</td>\n",
       "      <td>168</td>\n",
       "      <td>43.1</td>\n",
       "      <td>2.288</td>\n",
       "      <td>33</td>\n",
       "      <td>1</td>\n",
       "    </tr>\n",
       "  </tbody>\n",
       "</table>\n",
       "</div>"
      ],
      "text/plain": [
       "   preg  plas  pres  skin  test  mass   pedi  age  class\n",
       "0     6   148    72    35     0  33.6  0.627   50      1\n",
       "1     1    85    66    29     0  26.6  0.351   31      0\n",
       "2     8   183    64     0     0  23.3  0.672   32      1\n",
       "3     1    89    66    23    94  28.1  0.167   21      0\n",
       "4     0   137    40    35   168  43.1  2.288   33      1"
      ]
     },
     "execution_count": 23,
     "metadata": {},
     "output_type": "execute_result"
    }
   ],
   "source": [
    "# load the data\n",
    "\n",
    "url = 'https://raw.githubusercontent.com/jbrownlee/Datasets/master/pima-indians-diabetes.data.csv'\n",
    "\n",
    "names = ['preg', 'plas', 'pres', 'skin', 'test', 'mass', 'pedi', 'age', 'class']\n",
    "\n",
    "df =  pd.read_csv(url, names = names)\n",
    "\n",
    "df.head()"
   ]
  },
  {
   "cell_type": "code",
   "execution_count": 24,
   "id": "28358f01-7c1a-4483-afc3-559fa2041143",
   "metadata": {},
   "outputs": [],
   "source": [
    "# Extract Feature and Target, do Train test split\n",
    "\n",
    "X =  df.iloc[:, :-1]\n",
    "y = df.iloc[:, -1]\n",
    "\n",
    "X_train, X_test, y_train, y_test = train_test_split(X,y, test_size = 0.2, random_state =  25)"
   ]
  },
  {
   "cell_type": "code",
   "execution_count": 25,
   "id": "404d74e0-c887-4994-953b-476efa4068c7",
   "metadata": {},
   "outputs": [
    {
     "data": {
      "text/plain": [
       "preg     0\n",
       "plas     0\n",
       "pres     0\n",
       "skin     0\n",
       "test     0\n",
       "mass     0\n",
       "pedi     0\n",
       "age      0\n",
       "class    0\n",
       "dtype: int64"
      ]
     },
     "execution_count": 25,
     "metadata": {},
     "output_type": "execute_result"
    }
   ],
   "source": [
    "df.isnull().sum()"
   ]
  },
  {
   "cell_type": "code",
   "execution_count": 26,
   "id": "fab26da2-071a-4503-b3c4-610c12aeec36",
   "metadata": {},
   "outputs": [],
   "source": [
    "scaler =  MinMaxScaler()\n",
    "X_train_scaled =  scaler.fit_transform(X_train)\n",
    "X_test_scaled =  scaler.transform(X_test)"
   ]
  },
  {
   "cell_type": "code",
   "execution_count": 27,
   "id": "771527d1-119c-40f3-90c8-d8dd3b20307c",
   "metadata": {},
   "outputs": [],
   "source": [
    "# Set up Kfold \n",
    "kf =  KFold(n_splits = 10, shuffle = True, random_state = 25)"
   ]
  },
  {
   "cell_type": "code",
   "execution_count": 28,
   "id": "1d152553-06f9-4d61-84d8-b410ad365a45",
   "metadata": {},
   "outputs": [],
   "source": [
    "cart =  DecisionTreeClassifier()\n",
    "num_trees = 100"
   ]
  },
  {
   "cell_type": "code",
   "execution_count": 29,
   "id": "1fde1b87-faa6-42f3-9683-45e9443164bd",
   "metadata": {},
   "outputs": [],
   "source": [
    "bagging_model =  BaggingClassifier(estimator = cart, n_estimators = num_trees, random_state = 25, oob_score = True)"
   ]
  },
  {
   "cell_type": "code",
   "execution_count": 31,
   "id": "9efdb5b8-8fa9-41a9-9506-7740fbec9c5b",
   "metadata": {},
   "outputs": [
    {
     "name": "stdout",
     "output_type": "stream",
     "text": [
      "Mean Cross Validation Accuracy - Bagging Classifier 0.7525\n",
      "Test Accuracy  -Bagging Classifier 0.8052\n",
      "Classification Report \n",
      "               precision    recall  f1-score   support\n",
      "\n",
      "           0       0.84      0.87      0.86       103\n",
      "           1       0.72      0.67      0.69        51\n",
      "\n",
      "    accuracy                           0.81       154\n",
      "   macro avg       0.78      0.77      0.78       154\n",
      "weighted avg       0.80      0.81      0.80       154\n",
      "\n"
     ]
    },
    {
     "data": {
      "image/png": "[encoded data removed]",
      "text/plain": [
       "<Figure size 640x480 with 1 Axes>"
      ]
     },
     "metadata": {},
     "output_type": "display_data"
    }
   ],
   "source": [
    "# Train an evaluate model using Cross Validation\n",
    "\n",
    "results = cross_val_score(bagging_model, X_train_scaled, y_train, cv = kf, scoring ='accuracy')\n",
    "\n",
    "print(f'Mean Cross Validation Accuracy - Bagging Classifier {results.mean():.4f}')\n",
    "\n",
    "bagging_model.fit(X_train_scaled, y_train)\n",
    "\n",
    "y_test_pred = bagging_model.predict(X_test_scaled)\n",
    "\n",
    "print(f'Test Accuracy  -Bagging Classifier {accuracy_score(y_test, y_test_pred):.4f}')\n",
    "\n",
    "\n",
    "print(f'Classification Report \\n {classification_report(y_test, y_test_pred)}')\n",
    "cm =  confusion_matrix(y_test, y_test_pred)\n",
    "cm_display = ConfusionMatrixDisplay(confusion_matrix = cm, display_labels = ['Benign', 'Malignant'])\n",
    "cm_display.plot(colorbar = False, cmap =  'summer')\n",
    "plt.show()"
   ]
  },
  {
   "cell_type": "code",
   "execution_count": 33,
   "id": "0371d155-f2c4-47ef-939b-c68722c5e768",
   "metadata": {},
   "outputs": [],
   "source": [
    "from sklearn.ensemble import RandomForestClassifier"
   ]
  },
  {
   "cell_type": "markdown",
   "id": "fb3fc88d-34d1-4690-a1b8-07738802b974",
   "metadata": {},
   "source": [
    "RandomForestClassifier(n_estimators=100, *, criterion='gini', max_depth=None, min_samples_split=2, min_samples_leaf=1, min_weight_fraction_leaf=0.0, max_features='sqrt', max_leaf_nodes=None, min_impurity_decrease=0.0, bootstrap=True, oob_score=False, n_jobs=None, random_state=None, verbose=0, warm_start=False, class_weight=None, ccp_alpha=0.0, max_samples=None, monotonic_cst=None)"
   ]
  },
  {
   "cell_type": "raw",
   "id": "5ac3eca6-cb4f-49a9-903f-d06ba6387674",
   "metadata": {},
   "source": [
    "BaggingClassifier(estimator=None, n_estimators=10, *, max_samples=1.0, max_features=1.0, bootstrap=True, bootstrap_features=False, oob_score=False, warm_start=False, n_jobs=None, random_state=None, verbose=0)\n",
    "\n",
    "criterion='gini', splitter='best', max_depth=None, min_samples_split=2, min_samples_leaf=1, min_weight_fraction_leaf=0.0, max_features=None, random_state=None, max_leaf_nodes=None, min_impurity_decrease=0.0, class_weight=None, ccp_alpha=0.0, monotonic_cst=None"
   ]
  },
  {
   "cell_type": "code",
   "execution_count": null,
   "id": "6b525cea-3afe-4a00-a791-629f9fb8e995",
   "metadata": {},
   "outputs": [],
   "source": []
  }
 ],
 "metadata": {
  "kernelspec": {
   "display_name": "Python 3 (ipykernel)",
   "language": "python",
   "name": "python3"
  },
  "language_info": {
   "codemirror_mode": {
    "name": "ipython",
    "version": 3
   },
   "file_extension": ".py",
   "mimetype": "text/x-python",
   "name": "python",
   "nbconvert_exporter": "python",
   "pygments_lexer": "ipython3",
   "version": "3.12.4"
  }
 },
 "nbformat": 4,
 "nbformat_minor": 5
}
