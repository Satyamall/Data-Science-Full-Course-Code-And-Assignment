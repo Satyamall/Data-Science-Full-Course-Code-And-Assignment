{
 "cells": [
  {
   "cell_type": "markdown",
   "id": "f461c472-9a14-4176-8e41-60d45c756300",
   "metadata": {},
   "source": [
    "# Supervised Learning - Regression"
   ]
  },
  {
   "cell_type": "markdown",
   "id": "4c6deb37-572d-44da-aef1-5743a45aec23",
   "metadata": {},
   "source": [
    "## Agenda\n",
    "- Types of Regression\n",
    "  - Linear Regression\n",
    "    - Simple Linear Regression\n",
    "      - Train Test Split\n",
    "    - Multiple Linear Regression\n",
    "      - Overfitting and Underfitting\n",
    "  - Non Linear Regression\n",
    "    - Polynomial Regression\n",
    "- Model Evaluation and Validation\n",
    "   - Cross Validation Techniques\n",
    "   - Performance metrics in Regression\n",
    "     - Mean Squared Error (MSE)\n",
    "     - Mean Absolute Error (MAE)\n",
    "     - Root Mean Squared Error (RMSE)\n",
    "     - R-Squared\n",
    "- Regularization Techniques\n",
    "  -  Lasso Regression\n",
    "  -  Ridge Regression\n",
    "- Hyperparameter Tuning\n",
    "  - GridSearchCV\n",
    "  - RandomSearchCV\n",
    "- Pipelines\n",
    "  - sci-kit learn pipelines"
   ]
  }
 ],
 "metadata": {
  "kernelspec": {
   "display_name": "Python 3 (ipykernel)",
   "language": "python",
   "name": "python3"
  },
  "language_info": {
   "codemirror_mode": {
    "name": "ipython",
    "version": 3
   },
   "file_extension": ".py",
   "mimetype": "text/x-python",
   "name": "python",
   "nbconvert_exporter": "python",
   "pygments_lexer": "ipython3",
   "version": "3.12.4"
  }
 },
 "nbformat": 4,
 "nbformat_minor": 5
}
