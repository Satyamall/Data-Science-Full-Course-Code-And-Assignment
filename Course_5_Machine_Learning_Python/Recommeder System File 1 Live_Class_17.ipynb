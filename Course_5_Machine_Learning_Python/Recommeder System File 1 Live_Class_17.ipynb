{
 "cells": [
  {
   "cell_type": "markdown",
   "id": "4da8c016-c886-4d3e-a2cd-e0988704a764",
   "metadata": {},
   "source": [
    "# Recommendation Systems\n",
    "## Agenda \n",
    "- what are Recommendation Systems\n",
    "- Importance\n",
    "- Applications\n",
    "- Types\n",
    "- Collaborative Filtering\n",
    "  - Memory Based\n",
    "    - User Based\n",
    "    - Item Based\n",
    "  - Model Based\n",
    "    - Matrix factorization\n",
    "    - Singular Value Decomposition\n",
    "- Content Based Filtering\n",
    "- Hybrid Filtering"
   ]
  },
  {
   "cell_type": "markdown",
   "id": "711689ff-f48c-4f2c-b2c1-a8692dc76bca",
   "metadata": {},
   "source": [
    "### What are Recommendation Systems\n",
    "\n",
    "Recommendation Systems are software tools and algorithms that provide suggestions for products, services, or information to users. The suggestions are tailored to the user’s preferences, based on data about their previous behavior and preferences.\r",
    "\r",
    "The underlying function of a recommendation system can be represented as:\r",
    "$$ f: \\text{User} \\times \\text{Item} \\rightarrow \\text{Rating} $$\r",
    "\r",
    "\r",
    "- **f**: represents the predictive function that estimates the utility (or rating) of an item for a particular user.\r",
    "- **User**: represents the set of all users in the system. Each user is a potential recipient of recommendations.\r",
    "- **Item**: represents the set of all items available for recommendation. These can include products, services, media content, or any other entities that the system recommends.\r",
    "- **Rating**: represents predicted rating or preference score that a user would give to an item, which can be used to generate personalized recommendations"
   ]
  },
  {
   "cell_type": "markdown",
   "id": "35f34134-27da-4e2a-b3ff-c9582f2499a8",
   "metadata": {},
   "source": [
    "![link text](http://labcontent.simplicdn.net/data-content/content-assets/Data_and_AI/ML/Lesson_07/recommendation_system_edited.png)"
   ]
  },
  {
   "cell_type": "markdown",
   "id": "3a32573b-7f97-48ff-99ff-f97aa4a98466",
   "metadata": {},
   "source": [
    "## Types of Recommendation Systems\n",
    "There are three types of recommendation systems, each utilizing different techniques to generate personalized recommendations:\r",
    "- Collaborative filtering\r",
    "- Content filtering\r",
    "- Hybrid filtering"
   ]
  },
  {
   "cell_type": "markdown",
   "id": "78213e92-7551-44dd-b50d-0d55dc3c1cd8",
   "metadata": {},
   "source": [
    "### __1.3.1 Collaborative Filtering__\r",
    "Collaborative filtering algorithms recommend items by analyzing user preferences collected from numerous users. They predict future behavior by identifying patterns in historical data, such as which movies users have enjoyed, allowing the system to suggest items with a high likelihood of user agreement.\r",
    "For example, if two users have similar tastes in movies, the system might recommend a new movie to one user that the other has favorably rated.\r",
    "## Mathematical Concept:\r",
    "To quantify the similarity between user preferences, collaborative filtering uses cosine similarity, where user ratings are vectors in a multidimensional space:\r",
    "$$\r",
    "\\text{similarity} = \\cos(\\theta) = \\frac{\\mathbf{A} \\cdot \\mathbf{B}}{\\|\\mathbf{A}\\|\\|\\mathbf{B}\\|}\n",
    "$$\r",
    "Where:\r",
    "- $\\mathbf{A}$ and $\\mathbf{B}$ are vectors representing user ratings.\r",
    "- $\\theta$ is the angle between these vectors, which indicates the degree of similarity in user preferences.\r",
    "\r",
    "A smaller angle (or higher cosine similarity) indicates more closely aligned preferences, suggesting that users will likely enjoy similar items. This approach enables more precise recommendations based on shared user interests"
   ]
  },
  {
   "cell_type": "markdown",
   "id": "719d21ec-713b-45ce-9e37-49d22d3f4f7a",
   "metadata": {},
   "source": [
    "There are mainly two types of collaborative filtering techniques:\r",
    "- Memory-based collaborative filtering\r",
    "- Model-based collaborative filtering"
   ]
  },
  {
   "cell_type": "markdown",
   "id": "d77020b5-8b0c-4a75-9e83-16d0f8fbc3cf",
   "metadata": {},
   "source": [
    "### __Memory-Based Collaborative Filtering__\r",
    "Memory-based collaborative filtering is a fundamental approach within recommendation systems that generates predictions based on the entire database of user-item interactions. This method leverages historical data from user ratings to recommend new items or predict user ratings. It operates on the assumption that those who agreed in the past will agree again in the future.\r",
    "There are two primary strategies within memory-based collaborative filtering:\r",
    "- User-based collaborative filtering\r",
    "- Item-based collaborative filtering"
   ]
  },
  {
   "cell_type": "markdown",
   "id": "4e6a6f36-f4fa-4ba6-87bf-82cb7e9e7727",
   "metadata": {},
   "source": [
    "### __User-Based Collaborative Filtering__\r",
    "User-based collaborative filtering is a recommendation technique that suggests items or content to a target user based on the preferences and behaviors of similar users. It operates under the assumption that users who have interacted with similar items in the past will continue to have similar preferences in the future."
   ]
  },
  {
   "cell_type": "markdown",
   "id": "9f30edc1-299b-4e72-83a6-61f8b6f8c05e",
   "metadata": {},
   "source": [
    "#### To measure similarity between two users \\(u\\) and \\(v\\), cosine similarity can be used:\r",
    "The similarity between two users, \\( u \\) and \\( v \\), can be quantified using cosine similarity, which is particularly useful in user-based collaborative filtering. The formula for cosine similarity is as follows:\r",
    "$$\r",
    "\\text{similarity}(u, v) = \\cos(\\theta) = \\frac{\\sum_{i \\in I} r_{ui} \\cdot r_{vi}}{\\sqrt{\\sum_{i \\in I} r_{ui}^2} \\cdot \\sqrt{\\sum_{i \\in I} r_{vi}^2}}\r",
    "$$\r",
    "#### Variables:\r",
    "- $r_{ui}$ and $r_{vi}$: Ratings given by users u and v to item i.\r",
    "- $I$: The set of items that both users have rated.\r",
    "- theta: The angle between the rating vectors of u and v, where a smaller angle indicates a higher similarity.\r",
    "\r",
    "This approach calculates the cosine of the angle between the two users' rating vectors, effectively measuring their similarity based on the items they have both rated."
   ]
  },
  {
   "cell_type": "code",
   "execution_count": 1,
   "id": "71a12022-9dd1-4972-a3d8-58ccd07b36e7",
   "metadata": {},
   "outputs": [],
   "source": [
    "# Implement User based Collaborative filtering "
   ]
  },
  {
   "cell_type": "code",
   "execution_count": 2,
   "id": "91045c10-7bcb-4907-b2c1-89200e321ebc",
   "metadata": {},
   "outputs": [],
   "source": [
    "import pandas as pd\n",
    "import numpy as np\n",
    "import seaborn as sns\n",
    "import matplotlib.pyplot as plt\n",
    "from sklearn.metrics.pairwise import cosine_similarity\n",
    "import operator"
   ]
  },
  {
   "cell_type": "code",
   "execution_count": 3,
   "id": "9d30ef16-960c-4cd4-a91c-84b562b1a658",
   "metadata": {},
   "outputs": [],
   "source": [
    "animes = pd.read_csv('anime.csv')\n",
    "ratings = pd.read_csv('rating.csv')"
   ]
  },
  {
   "cell_type": "code",
   "execution_count": 4,
   "id": "8bff7a9b-ca68-4cf9-aff1-399ffe0b6ef5",
   "metadata": {},
   "outputs": [
    {
     "data": {
      "text/html": [
       "<div>\n",
       "<style scoped>\n",
       "    .dataframe tbody tr th:only-of-type {\n",
       "        vertical-align: middle;\n",
       "    }\n",
       "\n",
       "    .dataframe tbody tr th {\n",
       "        vertical-align: top;\n",
       "    }\n",
       "\n",
       "    .dataframe thead th {\n",
       "        text-align: right;\n",
       "    }\n",
       "</style>\n",
       "<table border=\"1\" class=\"dataframe\">\n",
       "  <thead>\n",
       "    <tr style=\"text-align: right;\">\n",
       "      <th></th>\n",
       "      <th>anime_id</th>\n",
       "      <th>name</th>\n",
       "      <th>genre</th>\n",
       "      <th>type</th>\n",
       "      <th>episodes</th>\n",
       "      <th>rating</th>\n",
       "      <th>members</th>\n",
       "    </tr>\n",
       "  </thead>\n",
       "  <tbody>\n",
       "    <tr>\n",
       "      <th>0</th>\n",
       "      <td>32281</td>\n",
       "      <td>Kimi no Na wa.</td>\n",
       "      <td>Drama, Romance, School, Supernatural</td>\n",
       "      <td>Movie</td>\n",
       "      <td>1</td>\n",
       "      <td>9.37</td>\n",
       "      <td>200630</td>\n",
       "    </tr>\n",
       "    <tr>\n",
       "      <th>1</th>\n",
       "      <td>5114</td>\n",
       "      <td>Fullmetal Alchemist: Brotherhood</td>\n",
       "      <td>Action, Adventure, Drama, Fantasy, Magic, Mili...</td>\n",
       "      <td>TV</td>\n",
       "      <td>64</td>\n",
       "      <td>9.26</td>\n",
       "      <td>793665</td>\n",
       "    </tr>\n",
       "    <tr>\n",
       "      <th>2</th>\n",
       "      <td>28977</td>\n",
       "      <td>Gintama°</td>\n",
       "      <td>Action, Comedy, Historical, Parody, Samurai, S...</td>\n",
       "      <td>TV</td>\n",
       "      <td>51</td>\n",
       "      <td>9.25</td>\n",
       "      <td>114262</td>\n",
       "    </tr>\n",
       "    <tr>\n",
       "      <th>3</th>\n",
       "      <td>9253</td>\n",
       "      <td>Steins;Gate</td>\n",
       "      <td>Sci-Fi, Thriller</td>\n",
       "      <td>TV</td>\n",
       "      <td>24</td>\n",
       "      <td>9.17</td>\n",
       "      <td>673572</td>\n",
       "    </tr>\n",
       "    <tr>\n",
       "      <th>4</th>\n",
       "      <td>9969</td>\n",
       "      <td>Gintama&amp;#039;</td>\n",
       "      <td>Action, Comedy, Historical, Parody, Samurai, S...</td>\n",
       "      <td>TV</td>\n",
       "      <td>51</td>\n",
       "      <td>9.16</td>\n",
       "      <td>151266</td>\n",
       "    </tr>\n",
       "  </tbody>\n",
       "</table>\n",
       "</div>"
      ],
      "text/plain": [
       "   anime_id                              name  \\\n",
       "0     32281                    Kimi no Na wa.   \n",
       "1      5114  Fullmetal Alchemist: Brotherhood   \n",
       "2     28977                          Gintama°   \n",
       "3      9253                       Steins;Gate   \n",
       "4      9969                     Gintama&#039;   \n",
       "\n",
       "                                               genre   type episodes  rating  \\\n",
       "0               Drama, Romance, School, Supernatural  Movie        1    9.37   \n",
       "1  Action, Adventure, Drama, Fantasy, Magic, Mili...     TV       64    9.26   \n",
       "2  Action, Comedy, Historical, Parody, Samurai, S...     TV       51    9.25   \n",
       "3                                   Sci-Fi, Thriller     TV       24    9.17   \n",
       "4  Action, Comedy, Historical, Parody, Samurai, S...     TV       51    9.16   \n",
       "\n",
       "   members  \n",
       "0   200630  \n",
       "1   793665  \n",
       "2   114262  \n",
       "3   673572  \n",
       "4   151266  "
      ]
     },
     "execution_count": 4,
     "metadata": {},
     "output_type": "execute_result"
    }
   ],
   "source": [
    "animes.head()"
   ]
  },
  {
   "cell_type": "code",
   "execution_count": 5,
   "id": "80263f6b-7256-4bc2-94af-a08e08143282",
   "metadata": {},
   "outputs": [
    {
     "name": "stdout",
     "output_type": "stream",
     "text": [
      "<class 'pandas.core.frame.DataFrame'>\n",
      "RangeIndex: 12294 entries, 0 to 12293\n",
      "Data columns (total 7 columns):\n",
      " #   Column    Non-Null Count  Dtype  \n",
      "---  ------    --------------  -----  \n",
      " 0   anime_id  12294 non-null  int64  \n",
      " 1   name      12294 non-null  object \n",
      " 2   genre     12232 non-null  object \n",
      " 3   type      12269 non-null  object \n",
      " 4   episodes  12294 non-null  object \n",
      " 5   rating    12064 non-null  float64\n",
      " 6   members   12294 non-null  int64  \n",
      "dtypes: float64(1), int64(2), object(4)\n",
      "memory usage: 672.5+ KB\n"
     ]
    }
   ],
   "source": [
    "animes.info()"
   ]
  },
  {
   "cell_type": "code",
   "execution_count": 6,
   "id": "d1d4a55b-0918-4cf8-bec8-8d988219c6db",
   "metadata": {},
   "outputs": [
    {
     "data": {
      "text/plain": [
       "anime_id      0\n",
       "name          0\n",
       "genre        62\n",
       "type         25\n",
       "episodes      0\n",
       "rating      230\n",
       "members       0\n",
       "dtype: int64"
      ]
     },
     "execution_count": 6,
     "metadata": {},
     "output_type": "execute_result"
    }
   ],
   "source": [
    "animes.isnull().sum()"
   ]
  },
  {
   "cell_type": "code",
   "execution_count": 7,
   "id": "cb6d4a81-6104-4367-ac6c-6cd059378c13",
   "metadata": {},
   "outputs": [
    {
     "data": {
      "text/plain": [
       "array(['1', '64', '51', '24', '10', '148', '110', '13', '201', '25', '22',\n",
       "       '75', '4', '26', '12', '27', '43', '74', '37', '2', '11', '99',\n",
       "       'Unknown', '39', '101', '47', '50', '62', '33', '112', '23', '3',\n",
       "       '94', '6', '8', '14', '7', '40', '15', '203', '77', '291', '120',\n",
       "       '102', '96', '38', '79', '175', '103', '70', '153', '45', '5',\n",
       "       '21', '63', '52', '28', '145', '36', '69', '60', '178', '114',\n",
       "       '35', '61', '34', '109', '20', '9', '49', '366', '97', '48', '78',\n",
       "       '358', '155', '104', '113', '54', '167', '161', '42', '142', '31',\n",
       "       '373', '220', '46', '195', '17', '1787', '73', '147', '127', '16',\n",
       "       '19', '98', '150', '76', '53', '124', '29', '115', '224', '44',\n",
       "       '58', '93', '154', '92', '67', '172', '86', '30', '276', '59',\n",
       "       '72', '330', '41', '105', '128', '137', '56', '55', '65', '243',\n",
       "       '193', '18', '191', '180', '91', '192', '66', '182', '32', '164',\n",
       "       '100', '296', '694', '95', '68', '117', '151', '130', '87', '170',\n",
       "       '119', '84', '108', '156', '140', '331', '305', '300', '510',\n",
       "       '200', '88', '1471', '526', '143', '726', '136', '1818', '237',\n",
       "       '1428', '365', '163', '283', '71', '260', '199', '225', '312',\n",
       "       '240', '1306', '1565', '773', '1274', '90', '475', '263', '83',\n",
       "       '85', '1006', '80', '162', '132', '141', '125'], dtype=object)"
      ]
     },
     "execution_count": 7,
     "metadata": {},
     "output_type": "execute_result"
    }
   ],
   "source": [
    "animes.episodes.unique()"
   ]
  },
  {
   "cell_type": "code",
   "execution_count": 9,
   "id": "823c27e8-b3d5-438f-8f83-ce5636bc0e99",
   "metadata": {},
   "outputs": [],
   "source": [
    "# Handling missing  Values\n",
    "\n",
    "animes['genre'] =  animes['genre'].fillna('Unknown')\n",
    "animes['type'] =  animes['type'].fillna('Unknown')\n",
    "animes['rating']=  animes['rating'].fillna(animes['rating'].mean())\n",
    "\n",
    "# Replace 'Unknown' in episodes by 0 and convert to int64\n",
    "\n",
    "animes['episodes'] = animes['episodes'].replace('Unknown', 0).astype('int64') "
   ]
  },
  {
   "cell_type": "code",
   "execution_count": 10,
   "id": "ee8de7aa-5dbe-4b0d-8fa9-ef9ce6769e75",
   "metadata": {},
   "outputs": [
    {
     "name": "stdout",
     "output_type": "stream",
     "text": [
      "<class 'pandas.core.frame.DataFrame'>\n",
      "RangeIndex: 12294 entries, 0 to 12293\n",
      "Data columns (total 7 columns):\n",
      " #   Column    Non-Null Count  Dtype  \n",
      "---  ------    --------------  -----  \n",
      " 0   anime_id  12294 non-null  int64  \n",
      " 1   name      12294 non-null  object \n",
      " 2   genre     12294 non-null  object \n",
      " 3   type      12294 non-null  object \n",
      " 4   episodes  12294 non-null  int64  \n",
      " 5   rating    12294 non-null  float64\n",
      " 6   members   12294 non-null  int64  \n",
      "dtypes: float64(1), int64(3), object(3)\n",
      "memory usage: 672.5+ KB\n"
     ]
    }
   ],
   "source": [
    "animes.info()"
   ]
  },
  {
   "cell_type": "code",
   "execution_count": 11,
   "id": "52099e01-02b9-4889-a553-49441be63d17",
   "metadata": {},
   "outputs": [
    {
     "data": {
      "text/html": [
       "<div>\n",
       "<style scoped>\n",
       "    .dataframe tbody tr th:only-of-type {\n",
       "        vertical-align: middle;\n",
       "    }\n",
       "\n",
       "    .dataframe tbody tr th {\n",
       "        vertical-align: top;\n",
       "    }\n",
       "\n",
       "    .dataframe thead th {\n",
       "        text-align: right;\n",
       "    }\n",
       "</style>\n",
       "<table border=\"1\" class=\"dataframe\">\n",
       "  <thead>\n",
       "    <tr style=\"text-align: right;\">\n",
       "      <th></th>\n",
       "      <th>user_id</th>\n",
       "      <th>anime_id</th>\n",
       "      <th>rating</th>\n",
       "    </tr>\n",
       "  </thead>\n",
       "  <tbody>\n",
       "    <tr>\n",
       "      <th>0</th>\n",
       "      <td>1</td>\n",
       "      <td>20</td>\n",
       "      <td>-1</td>\n",
       "    </tr>\n",
       "    <tr>\n",
       "      <th>1</th>\n",
       "      <td>1</td>\n",
       "      <td>24</td>\n",
       "      <td>-1</td>\n",
       "    </tr>\n",
       "    <tr>\n",
       "      <th>2</th>\n",
       "      <td>1</td>\n",
       "      <td>79</td>\n",
       "      <td>-1</td>\n",
       "    </tr>\n",
       "    <tr>\n",
       "      <th>3</th>\n",
       "      <td>1</td>\n",
       "      <td>226</td>\n",
       "      <td>-1</td>\n",
       "    </tr>\n",
       "    <tr>\n",
       "      <th>4</th>\n",
       "      <td>1</td>\n",
       "      <td>241</td>\n",
       "      <td>-1</td>\n",
       "    </tr>\n",
       "  </tbody>\n",
       "</table>\n",
       "</div>"
      ],
      "text/plain": [
       "   user_id  anime_id  rating\n",
       "0        1        20      -1\n",
       "1        1        24      -1\n",
       "2        1        79      -1\n",
       "3        1       226      -1\n",
       "4        1       241      -1"
      ]
     },
     "execution_count": 11,
     "metadata": {},
     "output_type": "execute_result"
    }
   ],
   "source": [
    "ratings.head()"
   ]
  },
  {
   "cell_type": "code",
   "execution_count": 12,
   "id": "b458e30d-7081-4b86-aff6-c980562c9875",
   "metadata": {},
   "outputs": [
    {
     "data": {
      "text/html": [
       "<div>\n",
       "<style scoped>\n",
       "    .dataframe tbody tr th:only-of-type {\n",
       "        vertical-align: middle;\n",
       "    }\n",
       "\n",
       "    .dataframe tbody tr th {\n",
       "        vertical-align: top;\n",
       "    }\n",
       "\n",
       "    .dataframe thead th {\n",
       "        text-align: right;\n",
       "    }\n",
       "</style>\n",
       "<table border=\"1\" class=\"dataframe\">\n",
       "  <thead>\n",
       "    <tr style=\"text-align: right;\">\n",
       "      <th></th>\n",
       "      <th>user_id</th>\n",
       "      <th>anime_id</th>\n",
       "      <th>rating</th>\n",
       "    </tr>\n",
       "  </thead>\n",
       "  <tbody>\n",
       "    <tr>\n",
       "      <th>47</th>\n",
       "      <td>1</td>\n",
       "      <td>8074</td>\n",
       "      <td>10</td>\n",
       "    </tr>\n",
       "    <tr>\n",
       "      <th>81</th>\n",
       "      <td>1</td>\n",
       "      <td>11617</td>\n",
       "      <td>10</td>\n",
       "    </tr>\n",
       "    <tr>\n",
       "      <th>83</th>\n",
       "      <td>1</td>\n",
       "      <td>11757</td>\n",
       "      <td>10</td>\n",
       "    </tr>\n",
       "    <tr>\n",
       "      <th>101</th>\n",
       "      <td>1</td>\n",
       "      <td>15451</td>\n",
       "      <td>10</td>\n",
       "    </tr>\n",
       "    <tr>\n",
       "      <th>153</th>\n",
       "      <td>2</td>\n",
       "      <td>11771</td>\n",
       "      <td>10</td>\n",
       "    </tr>\n",
       "  </tbody>\n",
       "</table>\n",
       "</div>"
      ],
      "text/plain": [
       "     user_id  anime_id  rating\n",
       "47         1      8074      10\n",
       "81         1     11617      10\n",
       "83         1     11757      10\n",
       "101        1     15451      10\n",
       "153        2     11771      10"
      ]
     },
     "execution_count": 12,
     "metadata": {},
     "output_type": "execute_result"
    }
   ],
   "source": [
    "ratings =  ratings[ratings.rating != -1]\n",
    "ratings.head()"
   ]
  },
  {
   "cell_type": "code",
   "execution_count": 13,
   "id": "11b1ff81-3a9d-4d4e-92a1-2a12fa5a87b2",
   "metadata": {},
   "outputs": [
    {
     "data": {
      "text/plain": [
       "(6337241, 3)"
      ]
     },
     "execution_count": 13,
     "metadata": {},
     "output_type": "execute_result"
    }
   ],
   "source": [
    "ratings.shape"
   ]
  },
  {
   "cell_type": "code",
   "execution_count": null,
   "id": "d579e07b-95c9-4d4b-8237-750191de33de",
   "metadata": {},
   "outputs": [],
   "source": []
  }
 ],
 "metadata": {
  "kernelspec": {
   "display_name": "Python 3 (ipykernel)",
   "language": "python",
   "name": "python3"
  },
  "language_info": {
   "codemirror_mode": {
    "name": "ipython",
    "version": 3
   },
   "file_extension": ".py",
   "mimetype": "text/x-python",
   "name": "python",
   "nbconvert_exporter": "python",
   "pygments_lexer": "ipython3",
   "version": "3.12.4"
  }
 },
 "nbformat": 4,
 "nbformat_minor": 5
}
