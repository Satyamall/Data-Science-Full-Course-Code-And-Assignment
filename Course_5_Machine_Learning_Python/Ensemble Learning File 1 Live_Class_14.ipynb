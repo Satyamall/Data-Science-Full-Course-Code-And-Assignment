{
 "cells": [
  {
   "cell_type": "markdown",
   "id": "2fc79359-1678-4fe5-865f-30b9f53e915e",
   "metadata": {},
   "source": [
    "# Ensemble Learning"
   ]
  },
  {
   "cell_type": "markdown",
   "id": "c346ecfa-ed79-4c75-b3d8-2ac9d4b88cb2",
   "metadata": {},
   "source": [
    "## Agenda\n",
    "\n",
    "- Introduction to Ensemble Learning\n",
    "  - Goals\n",
    "  - Importance\n",
    "  - Weak and Strong Learners in Ensemble Learning\n",
    "- Categories in Ensemble Learning\n",
    "  - Sequential Ensembling Technique\n",
    "  - Parallel Ensembling Techniques\n",
    "- Simple Ensembling Techniques\n",
    "  - Voting\n",
    "    - Hard Voting\n",
    "    - Soft Voting\n",
    "- Advanced Techniques\n",
    "  - Bagging(BootStrap Aggregating)\n",
    "    - Bagging Technique\n",
    "    - Advantages\n",
    "    - Disadvantages\n",
    "    - Out-of-Bag Concept\n",
    "  - Boosting\n",
    "    - Boosting Techniques\n",
    "    - Advantages\n",
    "    - Disadvantages\n",
    "  - Stacking\n",
    "    - Advantages and Disadvantages"
   ]
  },
  {
   "cell_type": "markdown",
   "id": "d5246ad6-39c9-44d8-af76-f2be5f894209",
   "metadata": {},
   "source": [
    "### Introduction to Ensemble Learning\n",
    "\n",
    "Ensemble Learning combines multiple models to enhance the overall performance of machine learning algorithms. The fundamental Principle of ensemble learning is combining te predictions from multiple individual models to produce more accurate  and robust prediction than any single model.\n",
    "\n",
    "#### Goals\n",
    "- Enhance predictive accuracy by combining multiple models\n",
    "- Improve model robustness and generalization performance."
   ]
  },
  {
   "cell_type": "markdown",
   "id": "c6abca5a-257c-4796-b88e-ececc4cd36a5",
   "metadata": {},
   "source": [
    "\r",
    "![link text](https://labcontent.simplicdn.net/data-content/content-assets/Data_and_AI/ML/Lesson_07/ensemble_learning.png)"
   ]
  },
  {
   "cell_type": "markdown",
   "id": "c1c58d2b-54bd-43dd-af3a-4a3b6fb906d5",
   "metadata": {},
   "source": [
    "### Importance\n",
    "- Improves prediction Accuracy\n",
    "- Enhance model resilience\n",
    "- Mitigates biases and error present in individual models\n",
    "- captures wide range of perspectives "
   ]
  },
  {
   "cell_type": "markdown",
   "id": "5ce35164-e759-4604-95e2-700f571f25cf",
   "metadata": {},
   "source": [
    "### Weak and Strong Learners in Ensemble Learning\n",
    "- A **Weak Learner** or **Base Learner** is a learning algorithm capable of producing classifiers with the probability of error strictly less than that random guessing\n",
    "- A **Strong Learner**  is able to yield classifiers with arbitarily small error probability. It performs much better than random guessing\n",
    "\n",
    "An Ensemble (or Committee) of classifiers is a classifier build on some combination of weak learners. Through ensemble we try these classifiers to perform better than a single strong learner"
   ]
  },
  {
   "cell_type": "markdown",
   "id": "10bcb1cb-558a-4f2c-b027-204201485bd0",
   "metadata": {},
   "source": [
    "## Categories in Ensemble Learning\n",
    "Ensemble Learning can broadly classified into 2 categories\n",
    "- Sequential Ensemble Technique\n",
    "- Parallel Ensemble Technique"
   ]
  },
  {
   "cell_type": "markdown",
   "id": "3eed3634-4531-4e5d-9837-25499a6f535e",
   "metadata": {},
   "source": [
    "### Sequential Ensemble Technique\n",
    "\n",
    "These techniques trains models sequentially, with each model trying to correct predecessor's error. This techniques focus upon improving the overall performance of the ensemble by iteratively refining predictions. it uses weak learner as base models. An Example of this approach is Boosting.\n",
    "#### Steps\n",
    "- **Base Model Selection** : Choose the initial Model\n",
    "- **Sequential Training**\n",
    "- **Error Correction**\n",
    "- **Prediction Refinement**\n",
    "- **Combining the Predictions**\n",
    "- **Evaluation**"
   ]
  },
  {
   "cell_type": "markdown",
   "id": "47030ccd-5f6c-4849-ab63-39c88c36224c",
   "metadata": {},
   "source": [
    "![link text](https://labcontent.simplicdn.net/data-content/content-assets/Data_and_AI/ML/Lesson_07/Sequential_Ensemble_Technique.png)"
   ]
  },
  {
   "cell_type": "markdown",
   "id": "0832c2eb-c5e3-4bec-bf2e-9643829c2884",
   "metadata": {},
   "source": [
    "if all base models are of the same type, it is considered to be a homogeneous ensemble. if they are different, it is considered heterogeneous\n",
    "\n",
    "**The Sequential Enseble technique is employed when dealing with**\n",
    "- Complex Relation between features and target\n",
    "- Diverse data types, including numerical, categorical etc data\n",
    "- Imbalanced Datatsets\n",
    "- Incremental upadtes are need to adapt models gradually to evolving data over time"
   ]
  },
  {
   "cell_type": "markdown",
   "id": "5e1b9255-babd-4f9d-9155-245a13f3131b",
   "metadata": {},
   "source": [
    "### Parallel Ensemble Technique\n",
    "\n",
    "The parallel ensemble techniques trains the models concurrently. They combine the preditions from multiple models to improve the final output. bagging and Random Forest are examples for parallel ensemble techniques. It employes strong learners as base estimators.\n",
    "\n",
    "#### Steps\n",
    "- **Data Partitioning** : Divide the dataset into subsets\n",
    "- **Model Training**: Train models concurrently on subsets\n",
    "- **Predictions**: models make independent predictions\n",
    "- **Combining the Predictions**: aggregate preditions using techniques like voting(classification) or averaging(Regression)\n",
    "- **Evaluation**: Assess the preformance"
   ]
  },
  {
   "cell_type": "markdown",
   "id": "567b9776-fb6d-4f20-a0e4-d4de281f13fd",
   "metadata": {},
   "source": [
    "\n",
    "![link text](https://labcontent.simplicdn.net/data-content/content-assets/Data_and_AI/ML/Lesson_07/Parallel_Ensemble_Technique.png)"
   ]
  },
  {
   "cell_type": "markdown",
   "id": "f9029b50-b3c5-44fd-bf48-ad7d69452dc9",
   "metadata": {},
   "source": [
    "## Voting\n",
    "Voting is one of the fundamental methods of ensemble learning. it involves aggregating the predictions from multiple models to arrive at a final prediction. Two common types of voting are\n",
    "- Majority Voting / Hard Voting\n",
    "- Weighted Voting / Soft Voting"
   ]
  },
  {
   "cell_type": "markdown",
   "id": "d7ff2efc-700a-48e0-ab6f-3980d4b55313",
   "metadata": {},
   "source": [
    "### Majority Voting / Hard Voting\n",
    "Majority Voting / Hard Voting is an ensemble learning classification technique. it involves multiple models, making predictions for each data point. Each model prediction is considered a **vote**. The final prediction is determined by majority voting among the models"
   ]
  },
  {
   "cell_type": "markdown",
   "id": "71e3c646-69f2-44d2-b417-b29e19164dd9",
   "metadata": {},
   "source": [
    "#### Weighted Voting/Soft Voting\n",
    "Soft voting takes into account the probability estimates for each class provided by the models, assuming the models are capable of estimating these probabilities (i.e., they have a predict_proba method). The final prediction is determined by averaging these probabilities across all models, and the class with the highest average probability is selected."
   ]
  },
  {
   "cell_type": "code",
   "execution_count": 1,
   "id": "cb1c3efe-031b-417c-b2a1-b4c65fa7185c",
   "metadata": {},
   "outputs": [],
   "source": [
    "# Implement Hard Voting and Soft Voting on breast-cancer-wisconsin.data"
   ]
  },
  {
   "cell_type": "code",
   "execution_count": 2,
   "id": "6a51d5a7-10eb-430a-8648-7876e704b9cd",
   "metadata": {},
   "outputs": [],
   "source": [
    "import pandas as pd\n",
    "import numpy  as np\n",
    "import matplotlib.pyplot as plt\n",
    "from sklearn.metrics import classification_report , confusion_matrix, ConfusionMatrixDisplay, accuracy_score\n",
    "from sklearn.impute import SimpleImputer\n",
    "from sklearn.preprocessing import MinMaxScaler, StandardScaler\n",
    "from sklearn.linear_model import LogisticRegression\n",
    "from sklearn.tree import DecisionTreeClassifier\n",
    "from sklearn.svm import SVC\n",
    "from sklearn.model_selection import train_test_split, KFold, cross_val_score\n",
    "from sklearn.ensemble import VotingClassifier"
   ]
  },
  {
   "cell_type": "code",
   "execution_count": 3,
   "id": "d0921bbd-7734-41a4-978a-17f8f7e16b73",
   "metadata": {},
   "outputs": [
    {
     "data": {
      "text/html": [
       "<div>\n",
       "<style scoped>\n",
       "    .dataframe tbody tr th:only-of-type {\n",
       "        vertical-align: middle;\n",
       "    }\n",
       "\n",
       "    .dataframe tbody tr th {\n",
       "        vertical-align: top;\n",
       "    }\n",
       "\n",
       "    .dataframe thead th {\n",
       "        text-align: right;\n",
       "    }\n",
       "</style>\n",
       "<table border=\"1\" class=\"dataframe\">\n",
       "  <thead>\n",
       "    <tr style=\"text-align: right;\">\n",
       "      <th></th>\n",
       "      <th>Sample code</th>\n",
       "      <th>Clump Thickness</th>\n",
       "      <th>Uniformity of Cell Size</th>\n",
       "      <th>Uniformity of Cell Shape</th>\n",
       "      <th>Marginal Adhesion</th>\n",
       "      <th>Single Epithelial Cell Size</th>\n",
       "      <th>Bare Nuclei</th>\n",
       "      <th>Bland Chromatin</th>\n",
       "      <th>Normal Nucleoli</th>\n",
       "      <th>Mitoses</th>\n",
       "      <th>Class</th>\n",
       "    </tr>\n",
       "  </thead>\n",
       "  <tbody>\n",
       "    <tr>\n",
       "      <th>0</th>\n",
       "      <td>1000025</td>\n",
       "      <td>5</td>\n",
       "      <td>1</td>\n",
       "      <td>1</td>\n",
       "      <td>1</td>\n",
       "      <td>2</td>\n",
       "      <td>1</td>\n",
       "      <td>3</td>\n",
       "      <td>1</td>\n",
       "      <td>1</td>\n",
       "      <td>2</td>\n",
       "    </tr>\n",
       "    <tr>\n",
       "      <th>1</th>\n",
       "      <td>1002945</td>\n",
       "      <td>5</td>\n",
       "      <td>4</td>\n",
       "      <td>4</td>\n",
       "      <td>5</td>\n",
       "      <td>7</td>\n",
       "      <td>10</td>\n",
       "      <td>3</td>\n",
       "      <td>2</td>\n",
       "      <td>1</td>\n",
       "      <td>2</td>\n",
       "    </tr>\n",
       "    <tr>\n",
       "      <th>2</th>\n",
       "      <td>1015425</td>\n",
       "      <td>3</td>\n",
       "      <td>1</td>\n",
       "      <td>1</td>\n",
       "      <td>1</td>\n",
       "      <td>2</td>\n",
       "      <td>2</td>\n",
       "      <td>3</td>\n",
       "      <td>1</td>\n",
       "      <td>1</td>\n",
       "      <td>2</td>\n",
       "    </tr>\n",
       "    <tr>\n",
       "      <th>3</th>\n",
       "      <td>1016277</td>\n",
       "      <td>6</td>\n",
       "      <td>8</td>\n",
       "      <td>8</td>\n",
       "      <td>1</td>\n",
       "      <td>3</td>\n",
       "      <td>4</td>\n",
       "      <td>3</td>\n",
       "      <td>7</td>\n",
       "      <td>1</td>\n",
       "      <td>2</td>\n",
       "    </tr>\n",
       "    <tr>\n",
       "      <th>4</th>\n",
       "      <td>1017023</td>\n",
       "      <td>4</td>\n",
       "      <td>1</td>\n",
       "      <td>1</td>\n",
       "      <td>3</td>\n",
       "      <td>2</td>\n",
       "      <td>1</td>\n",
       "      <td>3</td>\n",
       "      <td>1</td>\n",
       "      <td>1</td>\n",
       "      <td>2</td>\n",
       "    </tr>\n",
       "  </tbody>\n",
       "</table>\n",
       "</div>"
      ],
      "text/plain": [
       "   Sample code  Clump Thickness  Uniformity of Cell Size  \\\n",
       "0      1000025                5                        1   \n",
       "1      1002945                5                        4   \n",
       "2      1015425                3                        1   \n",
       "3      1016277                6                        8   \n",
       "4      1017023                4                        1   \n",
       "\n",
       "   Uniformity of Cell Shape  Marginal Adhesion  Single Epithelial Cell Size  \\\n",
       "0                         1                  1                            2   \n",
       "1                         4                  5                            7   \n",
       "2                         1                  1                            2   \n",
       "3                         8                  1                            3   \n",
       "4                         1                  3                            2   \n",
       "\n",
       "  Bare Nuclei  Bland Chromatin  Normal Nucleoli  Mitoses  Class  \n",
       "0           1                3                1        1      2  \n",
       "1          10                3                2        1      2  \n",
       "2           2                3                1        1      2  \n",
       "3           4                3                7        1      2  \n",
       "4           1                3                1        1      2  "
      ]
     },
     "execution_count": 3,
     "metadata": {},
     "output_type": "execute_result"
    }
   ],
   "source": [
    "# Load the data\n",
    "url = 'https://archive.ics.uci.edu/ml/machine-learning-databases/breast-cancer-wisconsin/breast-cancer-wisconsin.data'\n",
    "\n",
    "col = ['Sample code', 'Clump Thickness', 'Uniformity of Cell Size', 'Uniformity of Cell Shape', 'Marginal Adhesion', \n",
    "       'Single Epithelial Cell Size', 'Bare Nuclei', 'Bland Chromatin', 'Normal Nucleoli', 'Mitoses', 'Class']\n",
    "\n",
    "df =  pd.read_csv(url, header = None)\n",
    "df.columns =  col\n",
    "df.head()"
   ]
  },
  {
   "cell_type": "code",
   "execution_count": 4,
   "id": "9ed6bf1b-b176-4d71-aa1f-cebefeb4ecaf",
   "metadata": {},
   "outputs": [
    {
     "name": "stdout",
     "output_type": "stream",
     "text": [
      "<class 'pandas.core.frame.DataFrame'>\n",
      "RangeIndex: 699 entries, 0 to 698\n",
      "Data columns (total 11 columns):\n",
      " #   Column                       Non-Null Count  Dtype \n",
      "---  ------                       --------------  ----- \n",
      " 0   Sample code                  699 non-null    int64 \n",
      " 1   Clump Thickness              699 non-null    int64 \n",
      " 2   Uniformity of Cell Size      699 non-null    int64 \n",
      " 3   Uniformity of Cell Shape     699 non-null    int64 \n",
      " 4   Marginal Adhesion            699 non-null    int64 \n",
      " 5   Single Epithelial Cell Size  699 non-null    int64 \n",
      " 6   Bare Nuclei                  699 non-null    object\n",
      " 7   Bland Chromatin              699 non-null    int64 \n",
      " 8   Normal Nucleoli              699 non-null    int64 \n",
      " 9   Mitoses                      699 non-null    int64 \n",
      " 10  Class                        699 non-null    int64 \n",
      "dtypes: int64(10), object(1)\n",
      "memory usage: 60.2+ KB\n"
     ]
    }
   ],
   "source": [
    "df.info()"
   ]
  },
  {
   "cell_type": "code",
   "execution_count": 5,
   "id": "2a942d36-d0f1-47cd-ac17-c2cc53d6e661",
   "metadata": {},
   "outputs": [
    {
     "data": {
      "text/plain": [
       "array(['1', '10', '2', '4', '3', '9', '7', '?', '5', '8', '6'],\n",
       "      dtype=object)"
      ]
     },
     "execution_count": 5,
     "metadata": {},
     "output_type": "execute_result"
    }
   ],
   "source": [
    "df['Bare Nuclei'].unique()"
   ]
  },
  {
   "cell_type": "code",
   "execution_count": 6,
   "id": "8f732671-82a0-4021-814e-7c5bfcbb2d54",
   "metadata": {},
   "outputs": [
    {
     "data": {
      "text/plain": [
       "Class\n",
       "2    458\n",
       "4    241\n",
       "Name: count, dtype: int64"
      ]
     },
     "execution_count": 6,
     "metadata": {},
     "output_type": "execute_result"
    }
   ],
   "source": [
    "df.Class.value_counts()"
   ]
  },
  {
   "cell_type": "code",
   "execution_count": 7,
   "id": "4e2242da-5a9a-4396-9003-b4fb2c75c3e6",
   "metadata": {},
   "outputs": [],
   "source": [
    "# Drop Sample code column, replace '?' in Bare Nuclei with 0 and convert to int64\n",
    "# Replace class values to binary (2 for benign, 4 for malignant)\n",
    "df = df.drop(columns = ['Sample code'])\n",
    "df['Bare Nuclei'] =  df['Bare Nuclei'].replace('?', 0).astype('int64')\n",
    "df['Class'] = df['Class'].replace({2:0, 4:1})"
   ]
  },
  {
   "cell_type": "code",
   "execution_count": 8,
   "id": "52094d1f-30de-4019-a68c-73c6e6386a6d",
   "metadata": {},
   "outputs": [],
   "source": []
  },
  {
   "cell_type": "code",
   "execution_count": 9,
   "id": "fddba87b-ef7e-4925-b695-a2106638a28e",
   "metadata": {},
   "outputs": [],
   "source": []
  },
  {
   "cell_type": "code",
   "execution_count": 10,
   "id": "244f0080-139b-4c2d-a9f8-def571acd415",
   "metadata": {},
   "outputs": [],
   "source": []
  },
  {
   "cell_type": "code",
   "execution_count": 11,
   "id": "addd10b6-dc42-4179-a2cc-258e08ac7539",
   "metadata": {},
   "outputs": [
    {
     "name": "stdout",
     "output_type": "stream",
     "text": [
      "<class 'pandas.core.frame.DataFrame'>\n",
      "RangeIndex: 699 entries, 0 to 698\n",
      "Data columns (total 10 columns):\n",
      " #   Column                       Non-Null Count  Dtype\n",
      "---  ------                       --------------  -----\n",
      " 0   Clump Thickness              699 non-null    int64\n",
      " 1   Uniformity of Cell Size      699 non-null    int64\n",
      " 2   Uniformity of Cell Shape     699 non-null    int64\n",
      " 3   Marginal Adhesion            699 non-null    int64\n",
      " 4   Single Epithelial Cell Size  699 non-null    int64\n",
      " 5   Bare Nuclei                  699 non-null    int64\n",
      " 6   Bland Chromatin              699 non-null    int64\n",
      " 7   Normal Nucleoli              699 non-null    int64\n",
      " 8   Mitoses                      699 non-null    int64\n",
      " 9   Class                        699 non-null    int64\n",
      "dtypes: int64(10)\n",
      "memory usage: 54.7 KB\n"
     ]
    }
   ],
   "source": [
    "df.info()"
   ]
  },
  {
   "cell_type": "code",
   "execution_count": 12,
   "id": "d245108b-d1d0-4585-a223-97e2d8a7d474",
   "metadata": {},
   "outputs": [
    {
     "data": {
      "text/plain": [
       "Class\n",
       "0    458\n",
       "1    241\n",
       "Name: count, dtype: int64"
      ]
     },
     "execution_count": 12,
     "metadata": {},
     "output_type": "execute_result"
    }
   ],
   "source": [
    "df.Class.value_counts()"
   ]
  },
  {
   "cell_type": "code",
   "execution_count": 13,
   "id": "ee7a0c9a-db16-4b03-909b-af1caebdfbc6",
   "metadata": {},
   "outputs": [],
   "source": [
    "# Extract Feature and Target, do Train test split\n",
    "\n",
    "X =  df.iloc[:, :-1]\n",
    "y = df.iloc[:, -1]\n",
    "\n",
    "X_train, X_test, y_train, y_test = train_test_split(X,y, test_size = 0.2, random_state =  25)"
   ]
  },
  {
   "cell_type": "code",
   "execution_count": 14,
   "id": "e111208f-10c4-4e34-89aa-58398b9bef1b",
   "metadata": {},
   "outputs": [
    {
     "data": {
      "text/html": [
       "<div>\n",
       "<style scoped>\n",
       "    .dataframe tbody tr th:only-of-type {\n",
       "        vertical-align: middle;\n",
       "    }\n",
       "\n",
       "    .dataframe tbody tr th {\n",
       "        vertical-align: top;\n",
       "    }\n",
       "\n",
       "    .dataframe thead th {\n",
       "        text-align: right;\n",
       "    }\n",
       "</style>\n",
       "<table border=\"1\" class=\"dataframe\">\n",
       "  <thead>\n",
       "    <tr style=\"text-align: right;\">\n",
       "      <th></th>\n",
       "      <th>Clump Thickness</th>\n",
       "      <th>Uniformity of Cell Size</th>\n",
       "      <th>Uniformity of Cell Shape</th>\n",
       "      <th>Marginal Adhesion</th>\n",
       "      <th>Single Epithelial Cell Size</th>\n",
       "      <th>Bare Nuclei</th>\n",
       "      <th>Bland Chromatin</th>\n",
       "      <th>Normal Nucleoli</th>\n",
       "      <th>Mitoses</th>\n",
       "    </tr>\n",
       "  </thead>\n",
       "  <tbody>\n",
       "    <tr>\n",
       "      <th>count</th>\n",
       "      <td>559.000000</td>\n",
       "      <td>559.000000</td>\n",
       "      <td>559.000000</td>\n",
       "      <td>559.000000</td>\n",
       "      <td>559.000000</td>\n",
       "      <td>559.000000</td>\n",
       "      <td>559.000000</td>\n",
       "      <td>559.000000</td>\n",
       "      <td>559.000000</td>\n",
       "    </tr>\n",
       "    <tr>\n",
       "      <th>mean</th>\n",
       "      <td>4.423971</td>\n",
       "      <td>3.116279</td>\n",
       "      <td>3.211091</td>\n",
       "      <td>2.772809</td>\n",
       "      <td>3.207513</td>\n",
       "      <td>3.423971</td>\n",
       "      <td>3.441860</td>\n",
       "      <td>2.822898</td>\n",
       "      <td>1.533095</td>\n",
       "    </tr>\n",
       "    <tr>\n",
       "      <th>std</th>\n",
       "      <td>2.850680</td>\n",
       "      <td>3.041953</td>\n",
       "      <td>2.966084</td>\n",
       "      <td>2.834802</td>\n",
       "      <td>2.196416</td>\n",
       "      <td>3.614616</td>\n",
       "      <td>2.399171</td>\n",
       "      <td>3.011765</td>\n",
       "      <td>1.640186</td>\n",
       "    </tr>\n",
       "    <tr>\n",
       "      <th>min</th>\n",
       "      <td>1.000000</td>\n",
       "      <td>1.000000</td>\n",
       "      <td>1.000000</td>\n",
       "      <td>1.000000</td>\n",
       "      <td>1.000000</td>\n",
       "      <td>0.000000</td>\n",
       "      <td>1.000000</td>\n",
       "      <td>1.000000</td>\n",
       "      <td>1.000000</td>\n",
       "    </tr>\n",
       "    <tr>\n",
       "      <th>25%</th>\n",
       "      <td>2.000000</td>\n",
       "      <td>1.000000</td>\n",
       "      <td>1.000000</td>\n",
       "      <td>1.000000</td>\n",
       "      <td>2.000000</td>\n",
       "      <td>1.000000</td>\n",
       "      <td>2.000000</td>\n",
       "      <td>1.000000</td>\n",
       "      <td>1.000000</td>\n",
       "    </tr>\n",
       "    <tr>\n",
       "      <th>50%</th>\n",
       "      <td>4.000000</td>\n",
       "      <td>1.000000</td>\n",
       "      <td>1.000000</td>\n",
       "      <td>1.000000</td>\n",
       "      <td>2.000000</td>\n",
       "      <td>1.000000</td>\n",
       "      <td>3.000000</td>\n",
       "      <td>1.000000</td>\n",
       "      <td>1.000000</td>\n",
       "    </tr>\n",
       "    <tr>\n",
       "      <th>75%</th>\n",
       "      <td>6.000000</td>\n",
       "      <td>5.000000</td>\n",
       "      <td>5.000000</td>\n",
       "      <td>3.500000</td>\n",
       "      <td>4.000000</td>\n",
       "      <td>5.000000</td>\n",
       "      <td>4.000000</td>\n",
       "      <td>3.500000</td>\n",
       "      <td>1.000000</td>\n",
       "    </tr>\n",
       "    <tr>\n",
       "      <th>max</th>\n",
       "      <td>10.000000</td>\n",
       "      <td>10.000000</td>\n",
       "      <td>10.000000</td>\n",
       "      <td>10.000000</td>\n",
       "      <td>10.000000</td>\n",
       "      <td>10.000000</td>\n",
       "      <td>10.000000</td>\n",
       "      <td>10.000000</td>\n",
       "      <td>10.000000</td>\n",
       "    </tr>\n",
       "  </tbody>\n",
       "</table>\n",
       "</div>"
      ],
      "text/plain": [
       "       Clump Thickness  Uniformity of Cell Size  Uniformity of Cell Shape  \\\n",
       "count       559.000000               559.000000                559.000000   \n",
       "mean          4.423971                 3.116279                  3.211091   \n",
       "std           2.850680                 3.041953                  2.966084   \n",
       "min           1.000000                 1.000000                  1.000000   \n",
       "25%           2.000000                 1.000000                  1.000000   \n",
       "50%           4.000000                 1.000000                  1.000000   \n",
       "75%           6.000000                 5.000000                  5.000000   \n",
       "max          10.000000                10.000000                 10.000000   \n",
       "\n",
       "       Marginal Adhesion  Single Epithelial Cell Size  Bare Nuclei  \\\n",
       "count         559.000000                   559.000000   559.000000   \n",
       "mean            2.772809                     3.207513     3.423971   \n",
       "std             2.834802                     2.196416     3.614616   \n",
       "min             1.000000                     1.000000     0.000000   \n",
       "25%             1.000000                     2.000000     1.000000   \n",
       "50%             1.000000                     2.000000     1.000000   \n",
       "75%             3.500000                     4.000000     5.000000   \n",
       "max            10.000000                    10.000000    10.000000   \n",
       "\n",
       "       Bland Chromatin  Normal Nucleoli     Mitoses  \n",
       "count       559.000000       559.000000  559.000000  \n",
       "mean          3.441860         2.822898    1.533095  \n",
       "std           2.399171         3.011765    1.640186  \n",
       "min           1.000000         1.000000    1.000000  \n",
       "25%           2.000000         1.000000    1.000000  \n",
       "50%           3.000000         1.000000    1.000000  \n",
       "75%           4.000000         3.500000    1.000000  \n",
       "max          10.000000        10.000000   10.000000  "
      ]
     },
     "execution_count": 14,
     "metadata": {},
     "output_type": "execute_result"
    }
   ],
   "source": [
    "X_train.describe()"
   ]
  },
  {
   "cell_type": "code",
   "execution_count": 15,
   "id": "95f28957-fc41-49ad-abaa-7421b1d8dc6f",
   "metadata": {},
   "outputs": [
    {
     "data": {
      "text/plain": [
       "<Axes: ylabel='Density'>"
      ]
     },
     "execution_count": 15,
     "metadata": {},
     "output_type": "execute_result"
    },
    {
     "data": {
      "image/png": "[encoded data removed]",
      "text/plain": [
       "<Figure size 640x480 with 1 Axes>"
      ]
     },
     "metadata": {},
     "output_type": "display_data"
    }
   ],
   "source": [
    "X_train.plot.kde()"
   ]
  },
  {
   "cell_type": "code",
   "execution_count": 16,
   "id": "0cf554f4-45b2-4939-845a-cb647310fce4",
   "metadata": {},
   "outputs": [],
   "source": [
    "scaler =  MinMaxScaler()\n",
    "X_train_scaled =  scaler.fit_transform(X_train)\n",
    "X_test_scaled =  scaler.transform(X_test)"
   ]
  },
  {
   "cell_type": "code",
   "execution_count": 17,
   "id": "3447483d-c51b-477d-bd9e-931c4136b3db",
   "metadata": {},
   "outputs": [],
   "source": [
    "# Initialize the list of base models\n",
    "\n",
    "estimators = [\n",
    "    ('logistic', LogisticRegression()),\n",
    "    ('dtc', DecisionTreeClassifier()),\n",
    "    ('svc', SVC(probability = True))\n",
    "]"
   ]
  },
  {
   "cell_type": "code",
   "execution_count": 18,
   "id": "6638a31f-3350-4458-af8d-88bcd73bfcdb",
   "metadata": {},
   "outputs": [
    {
     "name": "stdout",
     "output_type": "stream",
     "text": [
      "Mean Cross Validation Accuracy - Hardvoting Ensemble 0.9589\n",
      "Test Accuracy  - Hardvoting Ensemble 0.9571\n"
     ]
    }
   ],
   "source": [
    "# Create Voting Classifier ensemble with estimators(HARD VOTING)\n",
    "\n",
    "ensemble =  VotingClassifier(estimators, voting = 'hard')\n",
    "\n",
    "# Set up Kfold \n",
    "kf =  KFold(n_splits = 10, shuffle = True, random_state = 25)\n",
    "\n",
    "# Train an evaluate model using Cross Validation\n",
    "\n",
    "results = cross_val_score(ensemble, X_train_scaled, y_train, cv = kf, scoring ='accuracy')\n",
    "\n",
    "print(f'Mean Cross Validation Accuracy - Hardvoting Ensemble {results.mean():.4f}')\n",
    "\n",
    "ensemble.fit(X_train_scaled, y_train)\n",
    "\n",
    "y_test_pred = ensemble.predict(X_test_scaled)\n",
    "\n",
    "print(f'Test Accuracy  - Hardvoting Ensemble {accuracy_score(y_test, y_test_pred):.4f}')"
   ]
  },
  {
   "cell_type": "code",
   "execution_count": 19,
   "id": "4a0928d2-aa9e-4e2d-8de1-497eed48058c",
   "metadata": {},
   "outputs": [
    {
     "name": "stdout",
     "output_type": "stream",
     "text": [
      "Classification Report \n",
      "               precision    recall  f1-score   support\n",
      "\n",
      "           0       0.99      0.95      0.97        94\n",
      "           1       0.90      0.98      0.94        46\n",
      "\n",
      "    accuracy                           0.96       140\n",
      "   macro avg       0.94      0.96      0.95       140\n",
      "weighted avg       0.96      0.96      0.96       140\n",
      "\n"
     ]
    },
    {
     "data": {
      "image/png": "[encoded data removed]",
      "text/plain": [
       "<Figure size 640x480 with 1 Axes>"
      ]
     },
     "metadata": {},
     "output_type": "display_data"
    }
   ],
   "source": [
    "print(f'Classification Report \\n {classification_report(y_test, y_test_pred)}')\n",
    "cm =  confusion_matrix(y_test, y_test_pred)\n",
    "cm_display = ConfusionMatrixDisplay(confusion_matrix = cm, display_labels = ['Benign', 'Malignant'])\n",
    "cm_display.plot(colorbar = False, cmap =  'summer')\n",
    "plt.show()"
   ]
  },
  {
   "cell_type": "code",
   "execution_count": 20,
   "id": "99ef90c2-d5de-462b-8f1c-2550cd880c12",
   "metadata": {},
   "outputs": [
    {
     "name": "stdout",
     "output_type": "stream",
     "text": [
      "Mean Cross Validation Accuracy - Softvoting Ensemble 0.9589\n",
      "Test Accuracy  - Softvoting Ensemble 0.9429\n",
      "Classification Report \n",
      "               precision    recall  f1-score   support\n",
      "\n",
      "           0       0.98      0.94      0.96        94\n",
      "           1       0.88      0.96      0.92        46\n",
      "\n",
      "    accuracy                           0.94       140\n",
      "   macro avg       0.93      0.95      0.94       140\n",
      "weighted avg       0.95      0.94      0.94       140\n",
      "\n"
     ]
    },
    {
     "data": {
      "image/png": "[encoded data removed]",
      "text/plain": [
       "<Figure size 640x480 with 1 Axes>"
      ]
     },
     "metadata": {},
     "output_type": "display_data"
    }
   ],
   "source": [
    "# Create Voting Classifier ensemble with estimators(Soft VOTING)\n",
    "\n",
    "ensemble =  VotingClassifier(estimators, voting = 'soft')\n",
    "\n",
    "# Set up Kfold \n",
    "kf =  KFold(n_splits = 10, shuffle = True, random_state = 25)\n",
    "\n",
    "# Train an evaluate model using Cross Validation\n",
    "\n",
    "results = cross_val_score(ensemble, X_train_scaled, y_train, cv = kf, scoring ='accuracy')\n",
    "\n",
    "print(f'Mean Cross Validation Accuracy - Softvoting Ensemble {results.mean():.4f}')\n",
    "\n",
    "ensemble.fit(X_train_scaled, y_train)\n",
    "\n",
    "y_test_pred = ensemble.predict(X_test_scaled)\n",
    "\n",
    "print(f'Test Accuracy  - Softvoting Ensemble {accuracy_score(y_test, y_test_pred):.4f}')\n",
    "\n",
    "\n",
    "print(f'Classification Report \\n {classification_report(y_test, y_test_pred)}')\n",
    "cm =  confusion_matrix(y_test, y_test_pred)\n",
    "cm_display = ConfusionMatrixDisplay(confusion_matrix = cm, display_labels = ['Benign', 'Malignant'])\n",
    "cm_display.plot(colorbar = False, cmap =  'summer')\n",
    "plt.show()"
   ]
  },
  {
   "cell_type": "markdown",
   "id": "bc123148-cef4-4c11-90e4-590ebcd387f6",
   "metadata": {},
   "source": [
    "## Advanced Techniques\n",
    "These techniques use complex methods to merge the predictions from individual models."
   ]
  },
  {
   "cell_type": "markdown",
   "id": "8e5b3c90-0f38-4af1-a399-a881d14ab466",
   "metadata": {},
   "source": [
    "## Bagging\n",
    "\n",
    "\n",
    "Bagging or Bootstrap Aggregating enhances the stability and accuracy of machine learning algorithms. This method creates multiple subsets from the original dataset, known as bootstrap samples, by selecting data points with replacement. Each subset trains a separate model.\r",
    "\r",
    "For final predictions, Bagging combines the individual models' outputs by using voting (for classification tasks) or averaging (for regression tasks). This approach effectively reduces variance and helps prevent overfitting.\r",
    "\r",
    "__Note:__ Random Forest is a popular algorithm that utilizes bagging by training multiple decision trees on different bootstrap samples and combining their predictions."
   ]
  },
  {
   "cell_type": "markdown",
   "id": "1831cede-28fd-4278-9a35-d79e4e2c6dcd",
   "metadata": {},
   "source": [
    "![link text](https://labcontent.simplicdn.net/data-content/content-assets/Data_and_AI/ML/updated/Lesson_05/Ensembled_Learning_Bagging.png)"
   ]
  },
  {
   "cell_type": "code",
   "execution_count": 21,
   "id": "bf642a65-1242-4984-82c9-4ce438a8a644",
   "metadata": {},
   "outputs": [],
   "source": [
    "# Implementation\n",
    "\n",
    "from sklearn.ensemble import BaggingClassifier"
   ]
  },
  {
   "cell_type": "code",
   "execution_count": 22,
   "id": "10cfae5d-e4da-4164-9e95-5f8eb9cf1ce0",
   "metadata": {},
   "outputs": [
    {
     "data": {
      "text/html": [
       "<div>\n",
       "<style scoped>\n",
       "    .dataframe tbody tr th:only-of-type {\n",
       "        vertical-align: middle;\n",
       "    }\n",
       "\n",
       "    .dataframe tbody tr th {\n",
       "        vertical-align: top;\n",
       "    }\n",
       "\n",
       "    .dataframe thead th {\n",
       "        text-align: right;\n",
       "    }\n",
       "</style>\n",
       "<table border=\"1\" class=\"dataframe\">\n",
       "  <thead>\n",
       "    <tr style=\"text-align: right;\">\n",
       "      <th></th>\n",
       "      <th>preg</th>\n",
       "      <th>plas</th>\n",
       "      <th>pres</th>\n",
       "      <th>skin</th>\n",
       "      <th>test</th>\n",
       "      <th>mass</th>\n",
       "      <th>pedi</th>\n",
       "      <th>age</th>\n",
       "      <th>class</th>\n",
       "    </tr>\n",
       "  </thead>\n",
       "  <tbody>\n",
       "    <tr>\n",
       "      <th>0</th>\n",
       "      <td>6</td>\n",
       "      <td>148</td>\n",
       "      <td>72</td>\n",
       "      <td>35</td>\n",
       "      <td>0</td>\n",
       "      <td>33.6</td>\n",
       "      <td>0.627</td>\n",
       "      <td>50</td>\n",
       "      <td>1</td>\n",
       "    </tr>\n",
       "    <tr>\n",
       "      <th>1</th>\n",
       "      <td>1</td>\n",
       "      <td>85</td>\n",
       "      <td>66</td>\n",
       "      <td>29</td>\n",
       "      <td>0</td>\n",
       "      <td>26.6</td>\n",
       "      <td>0.351</td>\n",
       "      <td>31</td>\n",
       "      <td>0</td>\n",
       "    </tr>\n",
       "    <tr>\n",
       "      <th>2</th>\n",
       "      <td>8</td>\n",
       "      <td>183</td>\n",
       "      <td>64</td>\n",
       "      <td>0</td>\n",
       "      <td>0</td>\n",
       "      <td>23.3</td>\n",
       "      <td>0.672</td>\n",
       "      <td>32</td>\n",
       "      <td>1</td>\n",
       "    </tr>\n",
       "    <tr>\n",
       "      <th>3</th>\n",
       "      <td>1</td>\n",
       "      <td>89</td>\n",
       "      <td>66</td>\n",
       "      <td>23</td>\n",
       "      <td>94</td>\n",
       "      <td>28.1</td>\n",
       "      <td>0.167</td>\n",
       "      <td>21</td>\n",
       "      <td>0</td>\n",
       "    </tr>\n",
       "    <tr>\n",
       "      <th>4</th>\n",
       "      <td>0</td>\n",
       "      <td>137</td>\n",
       "      <td>40</td>\n",
       "      <td>35</td>\n",
       "      <td>168</td>\n",
       "      <td>43.1</td>\n",
       "      <td>2.288</td>\n",
       "      <td>33</td>\n",
       "      <td>1</td>\n",
       "    </tr>\n",
       "  </tbody>\n",
       "</table>\n",
       "</div>"
      ],
      "text/plain": [
       "   preg  plas  pres  skin  test  mass   pedi  age  class\n",
       "0     6   148    72    35     0  33.6  0.627   50      1\n",
       "1     1    85    66    29     0  26.6  0.351   31      0\n",
       "2     8   183    64     0     0  23.3  0.672   32      1\n",
       "3     1    89    66    23    94  28.1  0.167   21      0\n",
       "4     0   137    40    35   168  43.1  2.288   33      1"
      ]
     },
     "execution_count": 22,
     "metadata": {},
     "output_type": "execute_result"
    }
   ],
   "source": [
    "# load the data\n",
    "\n",
    "url = 'https://raw.githubusercontent.com/jbrownlee/Datasets/master/pima-indians-diabetes.data.csv'\n",
    "\n",
    "names = ['preg', 'plas', 'pres', 'skin', 'test', 'mass', 'pedi', 'age', 'class']\n",
    "\n",
    "df =  pd.read_csv(url, names = names)\n",
    "\n",
    "df.head()"
   ]
  },
  {
   "cell_type": "code",
   "execution_count": 23,
   "id": "28358f01-7c1a-4483-afc3-559fa2041143",
   "metadata": {},
   "outputs": [],
   "source": [
    "# Extract Feature and Target, do Train test split\n",
    "\n",
    "X =  df.iloc[:, :-1]\n",
    "y = df.iloc[:, -1]\n",
    "\n",
    "X_train, X_test, y_train, y_test = train_test_split(X,y, test_size = 0.2, random_state =  25)"
   ]
  },
  {
   "cell_type": "code",
   "execution_count": 24,
   "id": "404d74e0-c887-4994-953b-476efa4068c7",
   "metadata": {},
   "outputs": [
    {
     "data": {
      "text/plain": [
       "preg     0\n",
       "plas     0\n",
       "pres     0\n",
       "skin     0\n",
       "test     0\n",
       "mass     0\n",
       "pedi     0\n",
       "age      0\n",
       "class    0\n",
       "dtype: int64"
      ]
     },
     "execution_count": 24,
     "metadata": {},
     "output_type": "execute_result"
    }
   ],
   "source": [
    "df.isnull().sum()"
   ]
  },
  {
   "cell_type": "code",
   "execution_count": 25,
   "id": "fab26da2-071a-4503-b3c4-610c12aeec36",
   "metadata": {},
   "outputs": [],
   "source": [
    "scaler =  MinMaxScaler()\n",
    "X_train_scaled =  scaler.fit_transform(X_train)\n",
    "X_test_scaled =  scaler.transform(X_test)"
   ]
  },
  {
   "cell_type": "code",
   "execution_count": 26,
   "id": "771527d1-119c-40f3-90c8-d8dd3b20307c",
   "metadata": {},
   "outputs": [],
   "source": [
    "# Set up Kfold \n",
    "kf =  KFold(n_splits = 10, shuffle = True, random_state = 25)"
   ]
  },
  {
   "cell_type": "code",
   "execution_count": 27,
   "id": "1d152553-06f9-4d61-84d8-b410ad365a45",
   "metadata": {},
   "outputs": [],
   "source": [
    "cart =  DecisionTreeClassifier()\n",
    "num_trees = 100"
   ]
  },
  {
   "cell_type": "code",
   "execution_count": 28,
   "id": "1fde1b87-faa6-42f3-9683-45e9443164bd",
   "metadata": {},
   "outputs": [],
   "source": [
    "bagging_model =  BaggingClassifier(estimator = cart, n_estimators = num_trees, random_state = 25, oob_score = True)"
   ]
  },
  {
   "cell_type": "code",
   "execution_count": 29,
   "id": "9efdb5b8-8fa9-41a9-9506-7740fbec9c5b",
   "metadata": {},
   "outputs": [
    {
     "name": "stdout",
     "output_type": "stream",
     "text": [
      "Mean Cross Validation Accuracy - Bagging Classifier 0.7525\n",
      "Test Accuracy  -Bagging Classifier 0.8052\n",
      "Classification Report \n",
      "               precision    recall  f1-score   support\n",
      "\n",
      "           0       0.84      0.87      0.86       103\n",
      "           1       0.72      0.67      0.69        51\n",
      "\n",
      "    accuracy                           0.81       154\n",
      "   macro avg       0.78      0.77      0.78       154\n",
      "weighted avg       0.80      0.81      0.80       154\n",
      "\n"
     ]
    },
    {
     "data": {
      "image/png": "[encoded data removed]",
      "text/plain": [
       "<Figure size 640x480 with 1 Axes>"
      ]
     },
     "metadata": {},
     "output_type": "display_data"
    }
   ],
   "source": [
    "# Train an evaluate model using Cross Validation\n",
    "\n",
    "results = cross_val_score(bagging_model, X_train_scaled, y_train, cv = kf, scoring ='accuracy')\n",
    "\n",
    "print(f'Mean Cross Validation Accuracy - Bagging Classifier {results.mean():.4f}')\n",
    "\n",
    "bagging_model.fit(X_train_scaled, y_train)\n",
    "\n",
    "y_test_pred = bagging_model.predict(X_test_scaled)\n",
    "\n",
    "print(f'Test Accuracy  -Bagging Classifier {accuracy_score(y_test, y_test_pred):.4f}')\n",
    "\n",
    "\n",
    "print(f'Classification Report \\n {classification_report(y_test, y_test_pred)}')\n",
    "cm =  confusion_matrix(y_test, y_test_pred)\n",
    "cm_display = ConfusionMatrixDisplay(confusion_matrix = cm, display_labels = ['Benign', 'Malignant'])\n",
    "cm_display.plot(colorbar = False, cmap =  'summer')\n",
    "plt.show()"
   ]
  },
  {
   "cell_type": "markdown",
   "id": "1325a361-8e2c-40e4-9a6d-57e6917c437c",
   "metadata": {},
   "source": [
    "## Advantages of Bagging\n",
    "- It reduces the risk of overfitting by training on different subsets of the data\n",
    "- it also improves models accuracy and stability\n",
    "- it works well with complex models that tend to overfit\n",
    "## Disadvantages\n",
    "- It increases computationalcomplexity because it requires training multiple models."
   ]
  },
  {
   "cell_type": "markdown",
   "id": "642a9517-42d7-4e14-a4a6-6a2358e25a5e",
   "metadata": {},
   "source": [
    "## Out-of-Bag Concept (OOB)\n",
    "\n",
    "In Bagging, Out of Bag (OOB) refers to instances not included in the bootstrap samples for training a specific base model. Since the process trains each model on a random subset of original data, it naturally leaves out some instances. Theses OOB instances serve as built in validation set for model, allowing for an asssesment of the models performance on unseen data.\n",
    "we can compute the oob error, which offers efficient way to evaluate models generalization capbilities. This method eliminates the need for validation data or cross validation procedures.\n",
    "\n",
    "\r",
    "![link text](https://labcontent.simplicdn.net/data-content/content-assets/Data_and_AI/ML/Lesson_07/Out_Of_Bag_Concept.png)"
   ]
  },
  {
   "cell_type": "code",
   "execution_count": 31,
   "id": "d44edaad-bb5d-4643-a406-7a94d77787e5",
   "metadata": {},
   "outputs": [
    {
     "name": "stdout",
     "output_type": "stream",
     "text": [
      "Error on Out of Bag Samples 0.2427\n"
     ]
    }
   ],
   "source": [
    "## Perform cross-validation and compute oob error\n",
    "\n",
    "oob_error =  1- bagging_model.oob_score_\n",
    "print(f'Error on Out of Bag Samples {oob_error:.4f}')"
   ]
  },
  {
   "cell_type": "markdown",
   "id": "0b388caf-9b09-4cf5-8b12-a2e1080c1804",
   "metadata": {},
   "source": [
    "# Boosting\n",
    "\n",
    "Boosting is a sequential Ensembling Technique where each model corrects the predecessors  mistakes. The main idea is to train the models sequentially, each trying to corrent the errors of the previous model. The Final prediction is a weighted sum of all the models predcitions. Popular Boosting algorithms are AdaBoost, Gradient Boosting Machine(GBM) and XGBoost\n",
    "\n",
    "\n",
    "\r",
    "![link text](https://labcontent.simplicdn.net/data-content/content-assets/Data_and_AI/ML/updated/Lesson_05/Ensembled_Learning_Boosting.png)"
   ]
  },
  {
   "cell_type": "markdown",
   "id": "e1489250-a450-4a75-8dcc-6bb14edc874a",
   "metadata": {},
   "source": [
    "There are various meta algorithms in boosting that differentiate how the base models are aggregated, such as\n",
    "- AdaBoost\n",
    "- GradientBoost\n",
    "- XGBoost\n",
    "- CatBoost"
   ]
  },
  {
   "cell_type": "markdown",
   "id": "c792fce6-3f07-45e2-956d-44446e3e4f8a",
   "metadata": {},
   "source": [
    "## AdaBoost Algorithm\n",
    "\n",
    "AdaBoost, an abbreviation for adaptive boosting, stands as one of the leading boosting algorithms with widespread adoption. It focuses on classification problems, aiming to transform a collection of weak classifiers into a single strong classifier. It increases the weights of misclassified instances, directing subsequent classifiers to pay more attention to challenging cases.\n",
    "**The AdaBoost algorithm follows these steps:**\n",
    "\n",
    "1. Initially, the algorithm assigns equal weights to all observations in the dataset.\r",
    "2. A model is constructed using a subset of the data.\r",
    "3. Predictions are made on the entire dataset using this model.\r",
    "4. The algorithm computes errors by comparing these predictions to the actual values.\r",
    "5. In the subsequent model creation, the algorithm assigns higher weights to incorrectly predicted data points.\r",
    "6. Weights are determined based on error values, where higher errors result in heavier observation weights.\r",
    "7. This iterative process continues until the error function stabilizes or the algorithm reaches the maximum limit of estimators."
   ]
  },
  {
   "cell_type": "code",
   "execution_count": null,
   "id": "d877963c-a58f-441f-b4cb-17bb68a2503e",
   "metadata": {},
   "outputs": [],
   "source": [
    "# Implementation of Adaboost Classifier"
   ]
  },
  {
   "cell_type": "code",
   "execution_count": 33,
   "id": "0d484116-ddd8-4e61-92fc-76e24a3174d9",
   "metadata": {},
   "outputs": [],
   "source": [
    "import pandas as pd\n",
    "import numpy  as np\n",
    "import matplotlib.pyplot as plt\n",
    "from sklearn.metrics import classification_report , confusion_matrix, ConfusionMatrixDisplay, accuracy_score\n",
    "from sklearn.impute import SimpleImputer\n",
    "from sklearn.preprocessing import MinMaxScaler, StandardScaler\n",
    "from sklearn.model_selection import train_test_split, KFold, cross_val_score\n",
    "from sklearn.pipeline import Pipeline\n",
    "from sklearn.ensemble import AdaBoostClassifier\n",
    "from sklearn.ensemble import RandomForestClassifier"
   ]
  },
  {
   "cell_type": "code",
   "execution_count": 34,
   "id": "960415fb-51a7-40f7-bf86-e469b008a8e6",
   "metadata": {},
   "outputs": [
    {
     "data": {
      "text/html": [
       "<div>\n",
       "<style scoped>\n",
       "    .dataframe tbody tr th:only-of-type {\n",
       "        vertical-align: middle;\n",
       "    }\n",
       "\n",
       "    .dataframe tbody tr th {\n",
       "        vertical-align: top;\n",
       "    }\n",
       "\n",
       "    .dataframe thead th {\n",
       "        text-align: right;\n",
       "    }\n",
       "</style>\n",
       "<table border=\"1\" class=\"dataframe\">\n",
       "  <thead>\n",
       "    <tr style=\"text-align: right;\">\n",
       "      <th></th>\n",
       "      <th>Sample code</th>\n",
       "      <th>Clump Thickness</th>\n",
       "      <th>Uniformity of Cell Size</th>\n",
       "      <th>Uniformity of Cell Shape</th>\n",
       "      <th>Marginal Adhesion</th>\n",
       "      <th>Single Epithelial Cell Size</th>\n",
       "      <th>Bare Nuclei</th>\n",
       "      <th>Bland Chromatin</th>\n",
       "      <th>Normal Nucleoli</th>\n",
       "      <th>Mitoses</th>\n",
       "      <th>Class</th>\n",
       "    </tr>\n",
       "  </thead>\n",
       "  <tbody>\n",
       "    <tr>\n",
       "      <th>0</th>\n",
       "      <td>1000025</td>\n",
       "      <td>5</td>\n",
       "      <td>1</td>\n",
       "      <td>1</td>\n",
       "      <td>1</td>\n",
       "      <td>2</td>\n",
       "      <td>1</td>\n",
       "      <td>3</td>\n",
       "      <td>1</td>\n",
       "      <td>1</td>\n",
       "      <td>2</td>\n",
       "    </tr>\n",
       "    <tr>\n",
       "      <th>1</th>\n",
       "      <td>1002945</td>\n",
       "      <td>5</td>\n",
       "      <td>4</td>\n",
       "      <td>4</td>\n",
       "      <td>5</td>\n",
       "      <td>7</td>\n",
       "      <td>10</td>\n",
       "      <td>3</td>\n",
       "      <td>2</td>\n",
       "      <td>1</td>\n",
       "      <td>2</td>\n",
       "    </tr>\n",
       "    <tr>\n",
       "      <th>2</th>\n",
       "      <td>1015425</td>\n",
       "      <td>3</td>\n",
       "      <td>1</td>\n",
       "      <td>1</td>\n",
       "      <td>1</td>\n",
       "      <td>2</td>\n",
       "      <td>2</td>\n",
       "      <td>3</td>\n",
       "      <td>1</td>\n",
       "      <td>1</td>\n",
       "      <td>2</td>\n",
       "    </tr>\n",
       "    <tr>\n",
       "      <th>3</th>\n",
       "      <td>1016277</td>\n",
       "      <td>6</td>\n",
       "      <td>8</td>\n",
       "      <td>8</td>\n",
       "      <td>1</td>\n",
       "      <td>3</td>\n",
       "      <td>4</td>\n",
       "      <td>3</td>\n",
       "      <td>7</td>\n",
       "      <td>1</td>\n",
       "      <td>2</td>\n",
       "    </tr>\n",
       "    <tr>\n",
       "      <th>4</th>\n",
       "      <td>1017023</td>\n",
       "      <td>4</td>\n",
       "      <td>1</td>\n",
       "      <td>1</td>\n",
       "      <td>3</td>\n",
       "      <td>2</td>\n",
       "      <td>1</td>\n",
       "      <td>3</td>\n",
       "      <td>1</td>\n",
       "      <td>1</td>\n",
       "      <td>2</td>\n",
       "    </tr>\n",
       "  </tbody>\n",
       "</table>\n",
       "</div>"
      ],
      "text/plain": [
       "   Sample code  Clump Thickness  Uniformity of Cell Size  \\\n",
       "0      1000025                5                        1   \n",
       "1      1002945                5                        4   \n",
       "2      1015425                3                        1   \n",
       "3      1016277                6                        8   \n",
       "4      1017023                4                        1   \n",
       "\n",
       "   Uniformity of Cell Shape  Marginal Adhesion  Single Epithelial Cell Size  \\\n",
       "0                         1                  1                            2   \n",
       "1                         4                  5                            7   \n",
       "2                         1                  1                            2   \n",
       "3                         8                  1                            3   \n",
       "4                         1                  3                            2   \n",
       "\n",
       "  Bare Nuclei  Bland Chromatin  Normal Nucleoli  Mitoses  Class  \n",
       "0           1                3                1        1      2  \n",
       "1          10                3                2        1      2  \n",
       "2           2                3                1        1      2  \n",
       "3           4                3                7        1      2  \n",
       "4           1                3                1        1      2  "
      ]
     },
     "execution_count": 34,
     "metadata": {},
     "output_type": "execute_result"
    }
   ],
   "source": [
    "# Load the data\n",
    "url = 'https://archive.ics.uci.edu/ml/machine-learning-databases/breast-cancer-wisconsin/breast-cancer-wisconsin.data'\n",
    "\n",
    "col = ['Sample code', 'Clump Thickness', 'Uniformity of Cell Size', 'Uniformity of Cell Shape', 'Marginal Adhesion', \n",
    "       'Single Epithelial Cell Size', 'Bare Nuclei', 'Bland Chromatin', 'Normal Nucleoli', 'Mitoses', 'Class']\n",
    "\n",
    "df =  pd.read_csv(url, header = None)\n",
    "df.columns =  col\n",
    "df.head()"
   ]
  },
  {
   "cell_type": "code",
   "execution_count": 35,
   "id": "4430c2f8-f23f-4a90-bb98-9aed363a73a3",
   "metadata": {},
   "outputs": [],
   "source": [
    "# Drop Sample code column, replace '?' in Bare Nuclei with 0 and convert to int64\n",
    "# Replace class values to binary (2 for benign, 4 for malignant)\n",
    "df = df.drop(columns = ['Sample code'])\n",
    "df['Bare Nuclei'] =  df['Bare Nuclei'].replace('?', 0).astype('int64')\n",
    "df['Class'] = df['Class'].replace({2:0, 4:1})"
   ]
  },
  {
   "cell_type": "code",
   "execution_count": 36,
   "id": "f3b61470-f361-4194-8e84-8616e3c4452f",
   "metadata": {},
   "outputs": [],
   "source": [
    "# Extract Feature and Target, do Train test split\n",
    "\n",
    "X =  df.iloc[:, :-1]\n",
    "y = df.iloc[:, -1]\n",
    "\n",
    "X_train, X_test, y_train, y_test = train_test_split(X,y, test_size = 0.2, random_state =  25)"
   ]
  },
  {
   "cell_type": "code",
   "execution_count": 41,
   "id": "b74c3128-d0cb-4e9c-a830-7925e9c7d7fb",
   "metadata": {},
   "outputs": [
    {
     "name": "stdout",
     "output_type": "stream",
     "text": [
      "AdaBoost Mean Cross Validation Accuracy 0.9517\n",
      "AdaBoost Train Accuracy 0.9732\n",
      "AdaBoost Test Accuracy 0.9571\n",
      "Classification Report - Adaboost\n",
      "              precision    recall  f1-score   support\n",
      "\n",
      "           0       0.98      0.96      0.97        94\n",
      "           1       0.92      0.96      0.94        46\n",
      "\n",
      "    accuracy                           0.96       140\n",
      "   macro avg       0.95      0.96      0.95       140\n",
      "weighted avg       0.96      0.96      0.96       140\n",
      "\n"
     ]
    },
    {
     "data": {
      "image/png": "[encoded data removed]",
      "text/plain": [
       "<Figure size 640x480 with 1 Axes>"
      ]
     },
     "metadata": {},
     "output_type": "display_data"
    }
   ],
   "source": [
    "# Define KFold\n",
    "kf =  KFold(n_splits = 10, shuffle = True, random_state = 25)\n",
    "\n",
    "# Create Pipeline for Adaboost\n",
    "adaboost_pipeline = Pipeline([\n",
    "    ('imputer', SimpleImputer(strategy = 'median')),\n",
    "    ('scaler', MinMaxScaler()),\n",
    "    ('classifier', AdaBoostClassifier(n_estimators =70, random_state = 25, algorithm='SAMME'))\n",
    "])\n",
    "\n",
    "# Evaluate the pipeline using cross validation\n",
    "adaboost_results =  cross_val_score(adaboost_pipeline, X_train, y_train, cv = kf)\n",
    "print(f'AdaBoost Mean Cross Validation Accuracy {adaboost_results.mean():.4f}')\n",
    "\n",
    "# Fit adaboost pipeline on training set and evaluate for test set\n",
    "adaboost_pipeline.fit(X_train,y_train)\n",
    "y_pred =  adaboost_pipeline.predict(X_test)\n",
    "y_pred_train = adaboost_pipeline.predict(X_train)\n",
    "test_acc =  accuracy_score(y_test, y_pred)\n",
    "train_acc =  accuracy_score(y_train, y_pred_train)\n",
    "\n",
    "print(f'AdaBoost Train Accuracy {train_acc:.4f}')\n",
    "print(f'AdaBoost Test Accuracy {test_acc:.4f}')\n",
    "\n",
    "# print classification report and Confusion Matrix\n",
    "\n",
    "print('Classification Report - Adaboost')\n",
    "print(classification_report(y_test, y_pred))\n",
    "\n",
    "cm =  confusion_matrix(y_test, y_pred)\n",
    "cm_display =  ConfusionMatrixDisplay(confusion_matrix = cm, display_labels = ['Benign', 'Malignant'])\n",
    "cm_display.plot(colorbar = False, cmap = 'summer')\n",
    "plt.show()\n"
   ]
  },
  {
   "cell_type": "code",
   "execution_count": 43,
   "id": "b56b444d-d379-4c95-9a2d-3277d4f295f1",
   "metadata": {},
   "outputs": [
    {
     "name": "stdout",
     "output_type": "stream",
     "text": [
      "Random Forest Mean Cross Validation Accuracy 0.9660\n",
      "Random Forest Train Accuracy 1.0000\n",
      "Random Forest Test Accuracy 0.9571\n",
      "Classification Report - Random Forest\n",
      "              precision    recall  f1-score   support\n",
      "\n",
      "           0       1.00      0.94      0.97        94\n",
      "           1       0.88      1.00      0.94        46\n",
      "\n",
      "    accuracy                           0.96       140\n",
      "   macro avg       0.94      0.97      0.95       140\n",
      "weighted avg       0.96      0.96      0.96       140\n",
      "\n"
     ]
    },
    {
     "data": {
      "image/png": "[encoded data removed]",
      "text/plain": [
       "<Figure size 640x480 with 1 Axes>"
      ]
     },
     "metadata": {},
     "output_type": "display_data"
    }
   ],
   "source": [
    "## Apply RandomForestClassifier on same set\n",
    "\n",
    "# Define KFold\n",
    "kf =  KFold(n_splits = 10, shuffle = True, random_state = 25)\n",
    "\n",
    "# Create Pipeline for RF\n",
    "rf_pipeline = Pipeline([\n",
    "    ('imputer', SimpleImputer(strategy = 'median')),\n",
    "    ('scaler', MinMaxScaler()),\n",
    "    ('classifier', RandomForestClassifier(n_estimators =70, random_state = 25))\n",
    "])\n",
    "\n",
    "# Evaluate the pipeline using cross validation\n",
    "rf_results =  cross_val_score(rf_pipeline, X_train, y_train, cv = kf)\n",
    "print(f'Random Forest Mean Cross Validation Accuracy {rf_results.mean():.4f}')\n",
    "\n",
    "# Fit rf pipeline on training set and evaluate for test set\n",
    "rf_pipeline.fit(X_train,y_train)\n",
    "y_pred =  rf_pipeline.predict(X_test)\n",
    "y_pred_train = rf_pipeline.predict(X_train)\n",
    "test_acc =  accuracy_score(y_test, y_pred)\n",
    "train_acc =  accuracy_score(y_train, y_pred_train)\n",
    "\n",
    "print(f'Random Forest Train Accuracy {train_acc:.4f}')\n",
    "print(f'Random Forest Test Accuracy {test_acc:.4f}')\n",
    "\n",
    "# print classification report and Confusion Matrix\n",
    "\n",
    "print('Classification Report - Random Forest')\n",
    "print(classification_report(y_test, y_pred))\n",
    "\n",
    "cm =  confusion_matrix(y_test, y_pred)\n",
    "cm_display =  ConfusionMatrixDisplay(confusion_matrix = cm, display_labels = ['Benign', 'Malignant'])\n",
    "cm_display.plot(colorbar = False, cmap = 'summer')\n",
    "plt.show()\n"
   ]
  },
  {
   "cell_type": "markdown",
   "id": "02f96ec8-f4e5-4a59-8668-c36ccfbf13e2",
   "metadata": {},
   "source": [
    "# Gradient Boosting Machine\n",
    "Gradient boosting refers to a class of ensemble machine learning algorithms that can be used for classification or regression predictive modeling problems.\r",
    "Gradient boosting is also known as gradient tree boosting, stochastic gradient boosting (an extension), and gradient boosting machines, or GBM for short.\r",
    "Ensembles are constructed from decision tree models. Trees are added one at a time to the ensemble and fit to correct the prediction errors made by prior models\r",
    "**Gradient Boosting involves three main components:**\r",
    "* Loss Function: The choice of loss function depends on the type of problem being solved (e.g., regression, classification). The goal is to find a model that minimizes the loss function.\n",
    "* Weak Learners: Gradient Boosting uses decision trees as the default weak learner. These trees are usually of a fixed size and depth and are created one at a time.\r",
    "* Additive Model: Instead of adjusting the weights of data points like AdaBoost, Gradient Boosting fits new models to the residual errors made by previous models. Essentially, each new model is built on the errors of the whole ensemble so far."
   ]
  },
  {
   "cell_type": "markdown",
   "id": "20238428-fdb7-4bb4-b4b3-4ba27b99df4d",
   "metadata": {},
   "source": [
    "## XGBoost\n",
    "XGBoost, or eXtreme Gradient Boosting, stands out as a premier machine learning framework, widely adopted for its proficiency in supervised learning tasks including classification, regression, and ranking. This advanced algorithm builds upon the principles of gradient boosting and is celebrated for its exceptional accuracy and scalability in handling complex predictive modeling challenges.\r",
    " **XGBoost offers many essential features that make it ideal for classification tasks. Some of the reasons include:**\r",
    "* High performance: As mentioned above, XGBoost is optimized for speed and efficiency, making it appropriate for large datasets and real-time applications.\r",
    "* Regularization methods: L1 (Lasso) and L2 (Ridge) regularisation terms are included in XGBoost to avoid overfitting and increase generalization.\r",
    "* Handle missing data: Moreover, XGBoost can handle missing data automatically, minimizing the need for preprocessing and imputation.\n"
   ]
  },
  {
   "cell_type": "markdown",
   "id": "81070a9c-07ab-4ee7-ad88-3d3a261cafc4",
   "metadata": {},
   "source": [
    "##  CatBoost\r",
    "Catboost is a variant of gradient boosting that can handle both categorical and numerical features. It does not require any feature encodings techniques like One-Hot Encoder or Label Encoder to convert categorical features into numerical features."
   ]
  },
  {
   "cell_type": "code",
   "execution_count": 45,
   "id": "6e45be2d-f873-4c41-b84e-4875f5e0a9b6",
   "metadata": {},
   "outputs": [],
   "source": [
    "#!pip install xgboost\n",
    "#!pip install catboost"
   ]
  },
  {
   "cell_type": "code",
   "execution_count": 46,
   "id": "376fdf12-f749-44db-9b62-79f5ffd94749",
   "metadata": {},
   "outputs": [],
   "source": [
    "from sklearn.ensemble import GradientBoostingClassifier\n",
    "from xgboost import XGBClassifier\n",
    "from catboost import CatBoostClassifier"
   ]
  },
  {
   "cell_type": "code",
   "execution_count": 47,
   "id": "33d5b053-3046-40cd-8956-ea7e292a9a5f",
   "metadata": {},
   "outputs": [
    {
     "name": "stdout",
     "output_type": "stream",
     "text": [
      "Gradient Boosting Mean Cross Validation Accuracy 0.9678\n",
      "Gradient Boosting Train Accuracy 1.0000\n",
      "Gradient Boosting Test Accuracy 0.9571\n",
      "Classification Report - Gradient Boosting\n",
      "              precision    recall  f1-score   support\n",
      "\n",
      "           0       0.99      0.95      0.97        94\n",
      "           1       0.90      0.98      0.94        46\n",
      "\n",
      "    accuracy                           0.96       140\n",
      "   macro avg       0.94      0.96      0.95       140\n",
      "weighted avg       0.96      0.96      0.96       140\n",
      "\n"
     ]
    },
    {
     "data": {
      "image/png": "[encoded data removed]",
      "text/plain": [
       "<Figure size 640x480 with 1 Axes>"
      ]
     },
     "metadata": {},
     "output_type": "display_data"
    }
   ],
   "source": [
    "# Implement Gradient Boosting Machine\n",
    "\n",
    "# Define KFold\n",
    "kf =  KFold(n_splits = 10, shuffle = True, random_state = 25)\n",
    "\n",
    "# Create Pipeline for GBM\n",
    "gb_pipeline = Pipeline([\n",
    "    ('imputer', SimpleImputer(strategy = 'median')),\n",
    "    ('scaler', MinMaxScaler()),\n",
    "    ('classifier', GradientBoostingClassifier())\n",
    "])\n",
    "\n",
    "# Evaluate the pipeline using cross validation\n",
    "gb_results =  cross_val_score(gb_pipeline, X_train, y_train, cv = kf)\n",
    "print(f'Gradient Boosting Mean Cross Validation Accuracy {gb_results.mean():.4f}')\n",
    "\n",
    "# Fit Gradient Boosting pipeline on training set and evaluate for test set\n",
    "gb_pipeline.fit(X_train,y_train)\n",
    "y_pred =  gb_pipeline.predict(X_test)\n",
    "y_pred_train = gb_pipeline.predict(X_train)\n",
    "test_acc =  accuracy_score(y_test, y_pred)\n",
    "train_acc =  accuracy_score(y_train, y_pred_train)\n",
    "\n",
    "print(f'Gradient Boosting Train Accuracy {train_acc:.4f}')\n",
    "print(f'Gradient Boosting Test Accuracy {test_acc:.4f}')\n",
    "\n",
    "# print classification report and Confusion Matrix\n",
    "\n",
    "print('Classification Report - Gradient Boosting')\n",
    "print(classification_report(y_test, y_pred))\n",
    "\n",
    "cm =  confusion_matrix(y_test, y_pred)\n",
    "cm_display =  ConfusionMatrixDisplay(confusion_matrix = cm, display_labels = ['Benign', 'Malignant'])\n",
    "cm_display.plot(colorbar = False, cmap = 'summer')\n",
    "plt.show()\n"
   ]
  },
  {
   "cell_type": "code",
   "execution_count": 50,
   "id": "6bc564df-e077-45da-82aa-2a51927b6971",
   "metadata": {},
   "outputs": [
    {
     "name": "stdout",
     "output_type": "stream",
     "text": [
      "XGboost Mean Cross Validation Accuracy 0.9607\n",
      "XGboost Train Accuracy 1.0000\n",
      "XGboost Test Accuracy 0.9500\n",
      "Classification Report - XGboost\n",
      "              precision    recall  f1-score   support\n",
      "\n",
      "           0       0.98      0.95      0.96        94\n",
      "           1       0.90      0.96      0.93        46\n",
      "\n",
      "    accuracy                           0.95       140\n",
      "   macro avg       0.94      0.95      0.94       140\n",
      "weighted avg       0.95      0.95      0.95       140\n",
      "\n"
     ]
    },
    {
     "data": {
      "image/png": "[encoded data removed]",
      "text/plain": [
       "<Figure size 640x480 with 1 Axes>"
      ]
     },
     "metadata": {},
     "output_type": "display_data"
    }
   ],
   "source": [
    "# Implement XGboost\n",
    "\n",
    "# Define KFold\n",
    "kf =  KFold(n_splits = 10, shuffle = True, random_state = 25)\n",
    "\n",
    "# Create Pipeline for Adaboost\n",
    "xgb_pipeline = Pipeline([\n",
    "    ('imputer', SimpleImputer(strategy = 'median')),\n",
    "    ('scaler', MinMaxScaler()),\n",
    "    ('classifier', XGBClassifier())\n",
    "])\n",
    "\n",
    "# Evaluate the pipeline using cross validation\n",
    "xgb_results =  cross_val_score(xgb_pipeline, X_train, y_train, cv = kf)\n",
    "print(f'XGboost Mean Cross Validation Accuracy {xgb_results.mean():.4f}')\n",
    "\n",
    "# Fit XGboost pipeline on training set and evaluate for test set\n",
    "xgb_pipeline.fit(X_train,y_train)\n",
    "y_pred =  xgb_pipeline.predict(X_test)\n",
    "y_pred_train = xgb_pipeline.predict(X_train)\n",
    "test_acc =  accuracy_score(y_test, y_pred)\n",
    "train_acc =  accuracy_score(y_train, y_pred_train)\n",
    "\n",
    "print(f'XGboost Train Accuracy {train_acc:.4f}')\n",
    "print(f'XGboost Test Accuracy {test_acc:.4f}')\n",
    "\n",
    "# print classification report and Confusion Matrix\n",
    "\n",
    "print('Classification Report - XGboost')\n",
    "print(classification_report(y_test, y_pred))\n",
    "\n",
    "cm =  confusion_matrix(y_test, y_pred)\n",
    "cm_display =  ConfusionMatrixDisplay(confusion_matrix = cm, display_labels = ['Benign', 'Malignant'])\n",
    "cm_display.plot(colorbar = False, cmap = 'summer')\n",
    "plt.show()\n"
   ]
  },
  {
   "cell_type": "code",
   "execution_count": 51,
   "id": "24b9b8d7-e0a4-49b9-aab4-7ce5837ed98e",
   "metadata": {},
   "outputs": [
    {
     "name": "stdout",
     "output_type": "stream",
     "text": [
      "CatBoost Mean Cross Validation Accuracy 0.9714\n",
      "CatBoost Train Accuracy 1.0000\n",
      "CatBoost Test Accuracy 0.9643\n",
      "Classification Report - CatBoost\n",
      "              precision    recall  f1-score   support\n",
      "\n",
      "           0       0.99      0.96      0.97        94\n",
      "           1       0.92      0.98      0.95        46\n",
      "\n",
      "    accuracy                           0.96       140\n",
      "   macro avg       0.95      0.97      0.96       140\n",
      "weighted avg       0.97      0.96      0.96       140\n",
      "\n"
     ]
    },
    {
     "data": {
      "image/png": "[encoded data removed]",
      "text/plain": [
       "<Figure size 640x480 with 1 Axes>"
      ]
     },
     "metadata": {},
     "output_type": "display_data"
    }
   ],
   "source": [
    "# implement CatBoost\n",
    "\n",
    "# Define KFold\n",
    "kf =  KFold(n_splits = 10, shuffle = True, random_state = 25)\n",
    "\n",
    "# Create Pipeline for Adaboost\n",
    "cb_pipeline = Pipeline([\n",
    "    ('imputer', SimpleImputer(strategy = 'median')),\n",
    "    ('scaler', MinMaxScaler()),\n",
    "    ('classifier', CatBoostClassifier(verbose = 0))\n",
    "])\n",
    "\n",
    "# Evaluate the pipeline using cross validation\n",
    "cb_results =  cross_val_score(cb_pipeline, X_train, y_train, cv = kf)\n",
    "print(f'CatBoost Mean Cross Validation Accuracy {cb_results.mean():.4f}')\n",
    "\n",
    "# Fit CatBoost pipeline on training set and evaluate for test set\n",
    "cb_pipeline.fit(X_train,y_train)\n",
    "y_pred =  cb_pipeline.predict(X_test)\n",
    "y_pred_train = cb_pipeline.predict(X_train)\n",
    "test_acc =  accuracy_score(y_test, y_pred)\n",
    "train_acc =  accuracy_score(y_train, y_pred_train)\n",
    "\n",
    "print(f'CatBoost Train Accuracy {train_acc:.4f}')\n",
    "print(f'CatBoost Test Accuracy {test_acc:.4f}')\n",
    "\n",
    "# print classification report and Confusion Matrix\n",
    "\n",
    "print('Classification Report - CatBoost')\n",
    "print(classification_report(y_test, y_pred))\n",
    "\n",
    "cm =  confusion_matrix(y_test, y_pred)\n",
    "cm_display =  ConfusionMatrixDisplay(confusion_matrix = cm, display_labels = ['Benign', 'Malignant'])\n",
    "cm_display.plot(colorbar = False, cmap = 'summer')\n",
    "plt.show()\n"
   ]
  },
  {
   "cell_type": "markdown",
   "id": "33013926-cbc8-4d1f-9ea8-9916b0a19440",
   "metadata": {},
   "source": [
    "# Stacking"
   ]
  },
  {
   "cell_type": "markdown",
   "id": "e8e6dbff-9ae5-4bef-a294-72f6ce77845a",
   "metadata": {},
   "source": [
    "Stacking combines multiple classification or regression models via a meta model which could be a meta-classifier or a meta-regressor. After training the base models on the complete dataset, the meta-model trains on the base models' outputs as features, to give final prediction.\r",
    "This technique leverages the strengths of each base model and can achieve higher accuracy.\r",
    "* In stacking, as opposed to bagging, a variety of models (not solely decision trees) are employed, all of which are trained on the same full dataset rather than on subsets.\r",
    "* Unlike boosting, in stacking, a single model is used to learn how to best combine the predictions from the contributing models (e.g. instead of a sequence of models that correct the predictions of prior models).\n",
    "\n",
    "- Stacking aims to leverage the advantages of different base models by inputting their predictions into a meta-model.\n",
    "The structure of a stacking model consists of multiple base models, also known as level-0 models, alongside a meta-model that integrates their predictions, known as the level-1 model.\n",
    "* Level-0 Models (**Base Models**): These models are trained on the full training dataset, and their individual predictions are aggregated.\n",
    "* Level-1 Model (**Meta-Model**): This model is designed to optimally combine the predictions of multiple base models to generate the final prediction."
   ]
  },
  {
   "cell_type": "markdown",
   "id": "d2395d41-bb9c-4091-948e-c7189d47a062",
   "metadata": {},
   "source": [
    "\n",
    "![link text](https://labcontent.simplicdn.net/data-content/content-assets/Data_and_AI/ML/updated/Lesson_05/image7.png)"
   ]
  },
  {
   "cell_type": "code",
   "execution_count": 52,
   "id": "195b464a-c752-451e-bd1b-806350211487",
   "metadata": {},
   "outputs": [
    {
     "name": "stdout",
     "output_type": "stream",
     "text": [
      "Requirement already satisfied: vecstack in c:\\users\\slp12264\\appdata\\local\\anaconda3\\lib\\site-packages (0.4.0)\n",
      "Requirement already satisfied: numpy in c:\\users\\slp12264\\appdata\\local\\anaconda3\\lib\\site-packages (from vecstack) (1.26.4)\n",
      "Requirement already satisfied: scipy in c:\\users\\slp12264\\appdata\\local\\anaconda3\\lib\\site-packages (from vecstack) (1.13.1)\n",
      "Requirement already satisfied: scikit-learn>=0.18 in c:\\users\\slp12264\\appdata\\local\\anaconda3\\lib\\site-packages (from vecstack) (1.4.2)\n",
      "Requirement already satisfied: joblib>=1.2.0 in c:\\users\\slp12264\\appdata\\local\\anaconda3\\lib\\site-packages (from scikit-learn>=0.18->vecstack) (1.4.2)\n",
      "Requirement already satisfied: threadpoolctl>=2.0.0 in c:\\users\\slp12264\\appdata\\local\\anaconda3\\lib\\site-packages (from scikit-learn>=0.18->vecstack) (3.5.0)\n"
     ]
    }
   ],
   "source": [
    "# in order to implement stacking we need a library called vecstack\n",
    "\n",
    "!pip install vecstack"
   ]
  },
  {
   "cell_type": "code",
   "execution_count": 55,
   "id": "fe7f239a-87d2-452d-ab55-5e8dbfc48282",
   "metadata": {},
   "outputs": [],
   "source": [
    "# Import libraries\n",
    "import pandas as pd\n",
    "from sklearn.model_selection import train_test_split\n",
    "from sklearn.neighbors import KNeighborsClassifier\n",
    "from xgboost import XGBClassifier\n",
    "from sklearn.ensemble import RandomForestClassifier\n",
    "from sklearn.metrics import accuracy_score\n",
    "from sklearn.preprocessing import LabelEncoder\n",
    "from vecstack import stacking\n"
   ]
  },
  {
   "cell_type": "code",
   "execution_count": 56,
   "id": "f893f14c-ce3a-4d2f-9290-a7f716e188c5",
   "metadata": {},
   "outputs": [
    {
     "data": {
      "text/html": [
       "<div>\n",
       "<style scoped>\n",
       "    .dataframe tbody tr th:only-of-type {\n",
       "        vertical-align: middle;\n",
       "    }\n",
       "\n",
       "    .dataframe tbody tr th {\n",
       "        vertical-align: top;\n",
       "    }\n",
       "\n",
       "    .dataframe thead th {\n",
       "        text-align: right;\n",
       "    }\n",
       "</style>\n",
       "<table border=\"1\" class=\"dataframe\">\n",
       "  <thead>\n",
       "    <tr style=\"text-align: right;\">\n",
       "      <th></th>\n",
       "      <th>Class</th>\n",
       "      <th>Alcohol</th>\n",
       "      <th>Malic acid</th>\n",
       "      <th>Ash</th>\n",
       "      <th>Alcalinity of ash</th>\n",
       "      <th>Magnesium</th>\n",
       "      <th>Total phenols</th>\n",
       "      <th>Flavanoids</th>\n",
       "      <th>Nonflavanoid phenols</th>\n",
       "      <th>Proanthocyanins</th>\n",
       "      <th>Color intensity</th>\n",
       "      <th>Hue</th>\n",
       "      <th>OD280/OD315 of diluted wines</th>\n",
       "      <th>Proline</th>\n",
       "    </tr>\n",
       "  </thead>\n",
       "  <tbody>\n",
       "    <tr>\n",
       "      <th>0</th>\n",
       "      <td>1</td>\n",
       "      <td>14.23</td>\n",
       "      <td>1.71</td>\n",
       "      <td>2.43</td>\n",
       "      <td>15.6</td>\n",
       "      <td>127</td>\n",
       "      <td>2.80</td>\n",
       "      <td>3.06</td>\n",
       "      <td>0.28</td>\n",
       "      <td>2.29</td>\n",
       "      <td>5.64</td>\n",
       "      <td>1.04</td>\n",
       "      <td>3.92</td>\n",
       "      <td>1065</td>\n",
       "    </tr>\n",
       "    <tr>\n",
       "      <th>1</th>\n",
       "      <td>1</td>\n",
       "      <td>13.20</td>\n",
       "      <td>1.78</td>\n",
       "      <td>2.14</td>\n",
       "      <td>11.2</td>\n",
       "      <td>100</td>\n",
       "      <td>2.65</td>\n",
       "      <td>2.76</td>\n",
       "      <td>0.26</td>\n",
       "      <td>1.28</td>\n",
       "      <td>4.38</td>\n",
       "      <td>1.05</td>\n",
       "      <td>3.40</td>\n",
       "      <td>1050</td>\n",
       "    </tr>\n",
       "    <tr>\n",
       "      <th>2</th>\n",
       "      <td>1</td>\n",
       "      <td>13.16</td>\n",
       "      <td>2.36</td>\n",
       "      <td>2.67</td>\n",
       "      <td>18.6</td>\n",
       "      <td>101</td>\n",
       "      <td>2.80</td>\n",
       "      <td>3.24</td>\n",
       "      <td>0.30</td>\n",
       "      <td>2.81</td>\n",
       "      <td>5.68</td>\n",
       "      <td>1.03</td>\n",
       "      <td>3.17</td>\n",
       "      <td>1185</td>\n",
       "    </tr>\n",
       "    <tr>\n",
       "      <th>3</th>\n",
       "      <td>1</td>\n",
       "      <td>14.37</td>\n",
       "      <td>1.95</td>\n",
       "      <td>2.50</td>\n",
       "      <td>16.8</td>\n",
       "      <td>113</td>\n",
       "      <td>3.85</td>\n",
       "      <td>3.49</td>\n",
       "      <td>0.24</td>\n",
       "      <td>2.18</td>\n",
       "      <td>7.80</td>\n",
       "      <td>0.86</td>\n",
       "      <td>3.45</td>\n",
       "      <td>1480</td>\n",
       "    </tr>\n",
       "    <tr>\n",
       "      <th>4</th>\n",
       "      <td>1</td>\n",
       "      <td>13.24</td>\n",
       "      <td>2.59</td>\n",
       "      <td>2.87</td>\n",
       "      <td>21.0</td>\n",
       "      <td>118</td>\n",
       "      <td>2.80</td>\n",
       "      <td>2.69</td>\n",
       "      <td>0.39</td>\n",
       "      <td>1.82</td>\n",
       "      <td>4.32</td>\n",
       "      <td>1.04</td>\n",
       "      <td>2.93</td>\n",
       "      <td>735</td>\n",
       "    </tr>\n",
       "  </tbody>\n",
       "</table>\n",
       "</div>"
      ],
      "text/plain": [
       "   Class  Alcohol  Malic acid   Ash  Alcalinity of ash  Magnesium  \\\n",
       "0      1    14.23        1.71  2.43               15.6        127   \n",
       "1      1    13.20        1.78  2.14               11.2        100   \n",
       "2      1    13.16        2.36  2.67               18.6        101   \n",
       "3      1    14.37        1.95  2.50               16.8        113   \n",
       "4      1    13.24        2.59  2.87               21.0        118   \n",
       "\n",
       "   Total phenols  Flavanoids  Nonflavanoid phenols  Proanthocyanins  \\\n",
       "0           2.80        3.06                  0.28             2.29   \n",
       "1           2.65        2.76                  0.26             1.28   \n",
       "2           2.80        3.24                  0.30             2.81   \n",
       "3           3.85        3.49                  0.24             2.18   \n",
       "4           2.80        2.69                  0.39             1.82   \n",
       "\n",
       "   Color intensity   Hue  OD280/OD315 of diluted wines  Proline  \n",
       "0             5.64  1.04                          3.92     1065  \n",
       "1             4.38  1.05                          3.40     1050  \n",
       "2             5.68  1.03                          3.17     1185  \n",
       "3             7.80  0.86                          3.45     1480  \n",
       "4             4.32  1.04                          2.93      735  "
      ]
     },
     "execution_count": 56,
     "metadata": {},
     "output_type": "execute_result"
    }
   ],
   "source": [
    "# Read the dataset\n",
    "url = 'https://archive.ics.uci.edu/ml/machine-learning-databases/wine/wine.data'\n",
    "\n",
    "names = ['Class', 'Alcohol', 'Malic acid', 'Ash',\n",
    "         'Alcalinity of ash', 'Magnesium', 'Total phenols',\n",
    "         'Flavanoids', 'Nonflavanoid phenols', 'Proanthocyanins',\n",
    "         'Color intensity', 'Hue', 'OD280/OD315 of diluted wines',\n",
    "         'Proline']\n",
    "\n",
    "df =  pd.read_csv(url, names = names, header = None)\n",
    "df.head()\n"
   ]
  },
  {
   "cell_type": "code",
   "execution_count": 57,
   "id": "0806c850-ea98-4bbd-a5d6-9f8a95222232",
   "metadata": {},
   "outputs": [],
   "source": [
    "# Seperate Features and Target\n",
    "X =  df.drop(columns = ['Class'])\n",
    "y =  df['Class']"
   ]
  },
  {
   "cell_type": "code",
   "execution_count": 58,
   "id": "91072eed-aefc-45df-8878-67b79ffac1ae",
   "metadata": {},
   "outputs": [
    {
     "data": {
      "text/plain": [
       "Class\n",
       "2    71\n",
       "1    59\n",
       "3    48\n",
       "Name: count, dtype: int64"
      ]
     },
     "execution_count": 58,
     "metadata": {},
     "output_type": "execute_result"
    }
   ],
   "source": [
    "y.value_counts()"
   ]
  },
  {
   "cell_type": "code",
   "execution_count": 59,
   "id": "bc1018db-2f42-4eb3-b7b4-8e34849dfc44",
   "metadata": {},
   "outputs": [],
   "source": [
    "# Label Encoding Target for xgboost\n",
    "\n",
    "le = LabelEncoder()\n",
    "y = le.fit_transform(y)"
   ]
  },
  {
   "cell_type": "code",
   "execution_count": 61,
   "id": "a95d3eff-876b-4b74-b4a2-dec825c79dfb",
   "metadata": {},
   "outputs": [
    {
     "data": {
      "text/plain": [
       "1    71\n",
       "0    59\n",
       "2    48\n",
       "Name: count, dtype: int64"
      ]
     },
     "execution_count": 61,
     "metadata": {},
     "output_type": "execute_result"
    }
   ],
   "source": [
    "pd.Series(y).value_counts()"
   ]
  },
  {
   "cell_type": "code",
   "execution_count": 62,
   "id": "04423830-6513-4a8d-91ba-bbc01e503181",
   "metadata": {},
   "outputs": [],
   "source": [
    "# Train Test split\n",
    "X_train, X_test, y_train, y_test = train_test_split(X,y, test_size = 0.2, random_state =25)"
   ]
  },
  {
   "cell_type": "code",
   "execution_count": 65,
   "id": "cad5e5f2-f7fe-43d9-802c-64efd639ddf4",
   "metadata": {},
   "outputs": [],
   "source": [
    "# Define Base Models\n",
    "models = [\n",
    "    KNeighborsClassifier(n_neighbors =5),\n",
    "    RandomForestClassifier(random_state = 25),\n",
    "    XGBClassifier()    \n",
    "]\n",
    "\n",
    "# define Meta Model\n",
    "meta_model = LogisticRegression()"
   ]
  },
  {
   "cell_type": "markdown",
   "id": "af17abc6-ee9e-4a0d-ac83-fa65df7846a6",
   "metadata": {},
   "source": [
    "__S Train__ refers to a subset of the original training data used for training base models in a stacking ensemble.\n",
    "\n",
    "__S Test__ is another subset used to generate base model predictions, serving as input for the meta-model. It is crucial for generating predictions from these base models, which then act as new features for the meta-model.\n",
    "This two-step approach allows the ensemble to capture and leverage the unique strengths of each base model, thus improving overall predictive performance."
   ]
  },
  {
   "cell_type": "code",
   "execution_count": 68,
   "id": "eb17aa6c-11cd-459c-8b27-6c5b476ad676",
   "metadata": {},
   "outputs": [
    {
     "name": "stdout",
     "output_type": "stream",
     "text": [
      "task:         [classification]\n",
      "n_classes:    [3]\n",
      "metric:       [accuracy_score]\n",
      "mode:         [oof_pred_bag]\n",
      "n_models:     [3]\n",
      "\n",
      "model  0:     [KNeighborsClassifier]\n",
      "    fold  0:  [0.68965517]\n",
      "    fold  1:  [0.75862069]\n",
      "    fold  2:  [0.57142857]\n",
      "    fold  3:  [0.67857143]\n",
      "    fold  4:  [0.64285714]\n",
      "    ----\n",
      "    MEAN:     [0.66822660] + [0.06123848]\n",
      "    FULL:     [0.66901408]\n",
      "\n",
      "model  1:     [RandomForestClassifier]\n",
      "    fold  0:  [0.96551724]\n",
      "    fold  1:  [1.00000000]\n",
      "    fold  2:  [1.00000000]\n",
      "    fold  3:  [0.96428571]\n",
      "    fold  4:  [0.96428571]\n",
      "    ----\n",
      "    MEAN:     [0.97881773] + [0.01730109]\n",
      "    FULL:     [0.97887324]\n",
      "\n",
      "model  2:     [XGBClassifier]\n",
      "    fold  0:  [0.96551724]\n",
      "    fold  1:  [0.96551724]\n",
      "    fold  2:  [0.96428571]\n",
      "    fold  3:  [0.92857143]\n",
      "    fold  4:  [0.92857143]\n",
      "    ----\n",
      "    MEAN:     [0.95049261] + [0.01790422]\n",
      "    FULL:     [0.95070423]\n",
      "\n",
      "Accuracy of Stacking Ensemble with Log. Reg. as meta model Train Data: 0.9577\n",
      "Accuracy of Stacking Ensemble with Log. Reg. as meta model Test Data: 0.9722\n"
     ]
    }
   ],
   "source": [
    "# Perform Stacking\n",
    "S_train, S_test =  stacking(models, X_train, y_train, X_test, regression = False, \n",
    "                           metric = accuracy_score, n_folds = 5, stratified = True, \n",
    "                           shuffle = True, random_state = 25, verbose =2)\n",
    "\n",
    "# Train the meta Model\n",
    "\n",
    "meta_model.fit(S_train, y_train)\n",
    "\n",
    "# make predictions with meta model\n",
    "y_pred_test = meta_model.predict(S_test)\n",
    "\n",
    "acc =  accuracy_score(y_test,y_pred_test)\n",
    "train_acc =  accuracy_score(y_train,meta_model.predict(S_train))\n",
    "print(f'Accuracy of Stacking Ensemble with Log. Reg. as meta model Train Data: {train_acc:.4f}')\n",
    "print(f'Accuracy of Stacking Ensemble with Log. Reg. as meta model Test Data: {acc:.4f}')"
   ]
  },
  {
   "cell_type": "code",
   "execution_count": null,
   "id": "ec91680a-01f4-4555-a0b4-c8ceb884d021",
   "metadata": {},
   "outputs": [],
   "source": []
  }
 ],
 "metadata": {
  "kernelspec": {
   "display_name": "Python 3 (ipykernel)",
   "language": "python",
   "name": "python3"
  },
  "language_info": {
   "codemirror_mode": {
    "name": "ipython",
    "version": 3
   },
   "file_extension": ".py",
   "mimetype": "text/x-python",
   "name": "python",
   "nbconvert_exporter": "python",
   "pygments_lexer": "ipython3",
   "version": "3.12.4"
  }
 },
 "nbformat": 4,
 "nbformat_minor": 5
}
