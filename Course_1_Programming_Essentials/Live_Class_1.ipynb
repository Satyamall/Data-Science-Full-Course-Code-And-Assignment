{
 "cells": [
  {
   "cell_type": "code",
   "execution_count": 1,
   "id": "592f8800-2fec-41f1-ad7b-506439efc819",
   "metadata": {},
   "outputs": [
    {
     "name": "stdout",
     "output_type": "stream",
     "text": [
      "Hello Hi\n"
     ]
    }
   ],
   "source": [
    "print(\"Hello Hi\")"
   ]
  },
  {
   "cell_type": "code",
   "execution_count": 2,
   "id": "0692244b-e2c3-4954-9728-85667eac28ab",
   "metadata": {},
   "outputs": [],
   "source": [
    "a = 10"
   ]
  },
  {
   "cell_type": "code",
   "execution_count": 4,
   "id": "fed655b3-b4c2-4701-ae70-77b51b0e800b",
   "metadata": {},
   "outputs": [
    {
     "name": "stdout",
     "output_type": "stream",
     "text": [
      "10\n"
     ]
    }
   ],
   "source": [
    "print(a)"
   ]
  },
  {
   "cell_type": "code",
   "execution_count": 5,
   "id": "ce789327-ba07-4937-b078-c2194ed3d167",
   "metadata": {},
   "outputs": [],
   "source": [
    "Identifier_name = 78"
   ]
  },
  {
   "cell_type": "code",
   "execution_count": 12,
   "id": "bb161a0a-9700-43c3-a3b2-0bea0f06e060",
   "metadata": {},
   "outputs": [],
   "source": [
    "class CAR():\n",
    "    pass"
   ]
  },
  {
   "cell_type": "code",
   "execution_count": 6,
   "id": "61b45a9b-0ac2-45bd-9f32-45c2733be410",
   "metadata": {},
   "outputs": [
    {
     "ename": "SyntaxError",
     "evalue": "invalid decimal literal (804811209.py, line 1)",
     "output_type": "error",
     "traceback": [
      "\u001b[0;36m  File \u001b[0;32m\"/tmp/ipykernel_105/804811209.py\"\u001b[0;36m, line \u001b[0;32m1\u001b[0m\n\u001b[0;31m    9hgd = 78\u001b[0m\n\u001b[0m    ^\u001b[0m\n\u001b[0;31mSyntaxError\u001b[0m\u001b[0;31m:\u001b[0m invalid decimal literal\n"
     ]
    }
   ],
   "source": [
    "9hgd = 78"
   ]
  },
  {
   "cell_type": "code",
   "execution_count": 7,
   "id": "da243597-2890-4a39-a0bd-1ab6e5707cfd",
   "metadata": {},
   "outputs": [
    {
     "name": "stderr",
     "output_type": "stream",
     "text": [
      "UsageError: Line magic function `%gg` not found.\n"
     ]
    }
   ],
   "source": [
    "%gg = 8"
   ]
  },
  {
   "cell_type": "code",
   "execution_count": 8,
   "id": "f5180966-ebf7-4904-93b4-e01220020102",
   "metadata": {},
   "outputs": [],
   "source": [
    "_first_identifier10 = 90"
   ]
  },
  {
   "cell_type": "code",
   "execution_count": null,
   "id": "dd7ca103-955e-4c9b-b8cb-507500e82ed1",
   "metadata": {},
   "outputs": [],
   "source": [
    "# False\tdef\tif\traise\n",
    "# None\tdel\timport\treturn\n",
    "# True\telif\tin\ttry\n",
    "# and\telse\tis\twhile\n",
    "# as\texcept\tlambda\twith\n",
    "# assert\tfinally\tnonlocal\tyield\n",
    "# break\tfor\tnot\n",
    "# class\tform\tor\n",
    "# continue\tglobal\tpass"
   ]
  },
  {
   "cell_type": "code",
   "execution_count": 9,
   "id": "8980391e-4d10-42e1-87cf-c969bdb26fb6",
   "metadata": {},
   "outputs": [],
   "source": [
    "print = 89"
   ]
  },
  {
   "cell_type": "code",
   "execution_count": 11,
   "id": "fabedec5-8324-4a81-9689-940028f31828",
   "metadata": {},
   "outputs": [
    {
     "data": {
      "text/plain": [
       "89"
      ]
     },
     "execution_count": 11,
     "metadata": {},
     "output_type": "execute_result"
    }
   ],
   "source": [
    "print"
   ]
  },
  {
   "cell_type": "code",
   "execution_count": 13,
   "id": "ba896450-6584-4506-aed3-c60571349c04",
   "metadata": {},
   "outputs": [
    {
     "data": {
      "text/plain": [
       "99"
      ]
     },
     "execution_count": 13,
     "metadata": {},
     "output_type": "execute_result"
    }
   ],
   "source": [
    "a + print"
   ]
  },
  {
   "cell_type": "code",
   "execution_count": 14,
   "id": "49fa55ca-c938-4f8a-80e0-7bd61bc2a30c",
   "metadata": {},
   "outputs": [
    {
     "data": {
      "text/plain": [
       "10"
      ]
     },
     "execution_count": 14,
     "metadata": {},
     "output_type": "execute_result"
    }
   ],
   "source": [
    "a"
   ]
  },
  {
   "cell_type": "code",
   "execution_count": 15,
   "id": "d3bce976-6444-47a5-9036-5b4019303346",
   "metadata": {},
   "outputs": [
    {
     "ename": "TypeError",
     "evalue": "'int' object is not callable",
     "output_type": "error",
     "traceback": [
      "\u001b[0;31m---------------------------------------------------------------------------\u001b[0m",
      "\u001b[0;31mTypeError\u001b[0m                                 Traceback (most recent call last)",
      "\u001b[0;32m/tmp/ipykernel_105/4045386643.py\u001b[0m in \u001b[0;36m<cell line: 1>\u001b[0;34m()\u001b[0m\n\u001b[0;32m----> 1\u001b[0;31m \u001b[0mprint\u001b[0m\u001b[0;34m(\u001b[0m\u001b[0mprint\u001b[0m\u001b[0;34m)\u001b[0m\u001b[0;34m\u001b[0m\u001b[0;34m\u001b[0m\u001b[0m\n\u001b[0m",
      "\u001b[0;31mTypeError\u001b[0m: 'int' object is not callable"
     ]
    }
   ],
   "source": [
    "print(print)"
   ]
  },
  {
   "cell_type": "code",
   "execution_count": null,
   "id": "653cb536-5686-4405-98b8-70e24056819a",
   "metadata": {},
   "outputs": [],
   "source": [
    "notuse"
   ]
  },
  {
   "cell_type": "code",
   "execution_count": null,
   "id": "eaac2899-b392-4e49-8083-a4074b7a7f3a",
   "metadata": {},
   "outputs": [],
   "source": [
    "class CAR():\n",
    "    gdhssjs\n",
    "    dhjsjs\n",
    "    hdhsjs\n",
    "    hdhsjsjs"
   ]
  },
  {
   "cell_type": "code",
   "execution_count": 4,
   "id": "b0bffcf6-8629-4684-8a44-9ce547b83d68",
   "metadata": {},
   "outputs": [],
   "source": [
    "a = 10\n",
    "b = 20"
   ]
  },
  {
   "cell_type": "code",
   "execution_count": 10,
   "id": "973dc1e7-9cbd-41fa-b3fa-1a42d4233bfc",
   "metadata": {},
   "outputs": [
    {
     "name": "stdout",
     "output_type": "stream",
     "text": [
      "Success\n",
      "Hey\n",
      "bye\n",
      "Amazing\n"
     ]
    }
   ],
   "source": [
    "if a == 10:\n",
    "    \n",
    " print(\"Success\")\n",
    " print(\"Hey\")\n",
    " print(\"bye\")\n",
    "    \n",
    "if b == 20:\n",
    "        \n",
    "        print(\"Amazing\")"
   ]
  },
  {
   "cell_type": "code",
   "execution_count": 11,
   "id": "74bf0c27-9213-4288-9574-8e4339c9fe22",
   "metadata": {},
   "outputs": [
    {
     "name": "stdout",
     "output_type": "stream",
     "text": [
      "Success\n",
      "Hey\n",
      "bye\n",
      "Amazing\n"
     ]
    }
   ],
   "source": [
    "if a == 10:\n",
    "    \n",
    "    print(\"Success\")\n",
    "    print(\"Hey\")\n",
    "    print(\"bye\")\n",
    "    \n",
    "    if b == 20:\n",
    "        \n",
    "        print(\"Amazing\")"
   ]
  },
  {
   "cell_type": "code",
   "execution_count": 12,
   "id": "4de1b595-3630-4554-a553-8ff3e084aa0c",
   "metadata": {},
   "outputs": [],
   "source": [
    "# This is a comment"
   ]
  },
  {
   "cell_type": "code",
   "execution_count": 13,
   "id": "6ab86e00-4979-4a11-a2e0-0e772cc0288d",
   "metadata": {},
   "outputs": [],
   "source": [
    "a = 10 # \"a\" is my object which belongs to class integer"
   ]
  },
  {
   "cell_type": "code",
   "execution_count": 14,
   "id": "3ca378f2-aaba-479a-af3a-a3fb35434913",
   "metadata": {},
   "outputs": [],
   "source": [
    "# a = 10  \"a\" is my object which belongs to class integer"
   ]
  },
  {
   "cell_type": "code",
   "execution_count": 2,
   "id": "b61fd031-a8a0-4495-971c-4eacf1e32c9f",
   "metadata": {},
   "outputs": [],
   "source": [
    "string1 = ''' A person's father said that \"his son was a good man\" '''"
   ]
  },
  {
   "cell_type": "code",
   "execution_count": 3,
   "id": "a598634e-0307-44c0-899a-7678259e54ab",
   "metadata": {},
   "outputs": [
    {
     "name": "stdout",
     "output_type": "stream",
     "text": [
      " A person's father said that \"his son was a good man\" \n"
     ]
    }
   ],
   "source": [
    "print(string1)"
   ]
  },
  {
   "cell_type": "code",
   "execution_count": 19,
   "id": "e0e76280-77fd-4fd5-b51d-9f361049e112",
   "metadata": {},
   "outputs": [],
   "source": [
    "string1 = \"1,2,33.4,True,False,6+8j,'Raghav'\""
   ]
  },
  {
   "cell_type": "code",
   "execution_count": 13,
   "id": "7af40311-7b85-4ff9-b499-8cb1bf4bf4dd",
   "metadata": {},
   "outputs": [
    {
     "name": "stdout",
     "output_type": "stream",
     "text": [
      "R\n"
     ]
    }
   ],
   "source": [
    "print(string1[-6])"
   ]
  },
  {
   "cell_type": "code",
   "execution_count": 12,
   "id": "505865f6-cccb-4743-8e47-4670922d2b1d",
   "metadata": {},
   "outputs": [
    {
     "name": "stdout",
     "output_type": "stream",
     "text": [
      "<class 'str'>\n"
     ]
    }
   ],
   "source": [
    "print(type(string1))"
   ]
  },
  {
   "cell_type": "code",
   "execution_count": 14,
   "id": "6edf2431-bd8b-4d57-98d7-db5476b1c23b",
   "metadata": {},
   "outputs": [],
   "source": [
    "list1 = [1, 2, 33.4, True, False, 6+8j, \"Raghav\"]"
   ]
  },
  {
   "cell_type": "code",
   "execution_count": 15,
   "id": "f055e4f5-d681-4a34-9919-931f9b940bc0",
   "metadata": {},
   "outputs": [
    {
     "name": "stdout",
     "output_type": "stream",
     "text": [
      "<class 'list'>\n"
     ]
    }
   ],
   "source": [
    "print(type(list1))"
   ]
  },
  {
   "cell_type": "code",
   "execution_count": 16,
   "id": "8e5902e5-cf73-4479-9608-3ff11c3f634b",
   "metadata": {},
   "outputs": [
    {
     "data": {
      "text/plain": [
       "1"
      ]
     },
     "execution_count": 16,
     "metadata": {},
     "output_type": "execute_result"
    }
   ],
   "source": [
    "print(list1[0])"
   ]
  },
  {
   "cell_type": "code",
   "execution_count": null,
   "id": "43d1ba63-a537-4b58-b827-b1d128332242",
   "metadata": {},
   "outputs": [],
   "source": [
    "# another in built fucntion called as Length"
   ]
  },
  {
   "cell_type": "code",
   "execution_count": 20,
   "id": "828e05a1-68d4-473e-b5a4-9617c6cd2b3b",
   "metadata": {},
   "outputs": [
    {
     "data": {
      "text/plain": [
       "33"
      ]
     },
     "execution_count": 20,
     "metadata": {},
     "output_type": "execute_result"
    }
   ],
   "source": [
    "len(string1)"
   ]
  },
  {
   "cell_type": "code",
   "execution_count": 18,
   "id": "c5e7e833-3a3f-4ef8-b206-41df61072509",
   "metadata": {},
   "outputs": [
    {
     "data": {
      "text/plain": [
       "7"
      ]
     },
     "execution_count": 18,
     "metadata": {},
     "output_type": "execute_result"
    }
   ],
   "source": [
    "len(list1)"
   ]
  },
  {
   "cell_type": "code",
   "execution_count": 21,
   "id": "f0efc957-f20c-4b1d-add3-42ea75d1e15e",
   "metadata": {},
   "outputs": [
    {
     "name": "stdout",
     "output_type": "stream",
     "text": [
      "20\n"
     ]
    }
   ],
   "source": [
    "a = 10\n",
    "b = 10\n",
    "\n",
    "c = a +b\n",
    "\n",
    "print(c)"
   ]
  },
  {
   "cell_type": "code",
   "execution_count": 22,
   "id": "acf25551-3bc6-415c-99d9-e60d42342cef",
   "metadata": {},
   "outputs": [
    {
     "name": "stdout",
     "output_type": "stream",
     "text": [
      "RaghavGoel\n"
     ]
    }
   ],
   "source": [
    "aa = \"Raghav\"\n",
    "bb = \"Goel\"\n",
    "\n",
    "cc = aa + bb\n",
    "\n",
    "print(cc)"
   ]
  },
  {
   "cell_type": "code",
   "execution_count": 26,
   "id": "4b772b7b-3244-45de-9d90-c7efb6bb975d",
   "metadata": {},
   "outputs": [],
   "source": [
    "set1 = {1,2,3,4,5,6,3,2,1,False,True}"
   ]
  },
  {
   "cell_type": "code",
   "execution_count": 27,
   "id": "f779b93b-07ec-4f9a-b853-fd8a37388e5b",
   "metadata": {},
   "outputs": [
    {
     "name": "stdout",
     "output_type": "stream",
     "text": [
      "<class 'set'>\n"
     ]
    }
   ],
   "source": [
    "print(type(set1))"
   ]
  },
  {
   "cell_type": "code",
   "execution_count": 28,
   "id": "c667574c-0dfe-4417-8e8a-1c0f705f8abc",
   "metadata": {},
   "outputs": [
    {
     "name": "stdout",
     "output_type": "stream",
     "text": [
      "{False, 1, 2, 3, 4, 5, 6}\n"
     ]
    }
   ],
   "source": [
    "print(set1)"
   ]
  },
  {
   "cell_type": "code",
   "execution_count": null,
   "id": "8d11e144-6e55-4cad-88b9-0652a7762c1e",
   "metadata": {},
   "outputs": [],
   "source": []
  }
 ],
 "metadata": {
  "kernelspec": {
   "display_name": "Python 3 [3.10]",
   "language": "python",
   "name": "python3"
  },
  "language_info": {
   "codemirror_mode": {
    "name": "ipython",
    "version": 3
   },
   "file_extension": ".py",
   "mimetype": "text/x-python",
   "name": "python",
   "nbconvert_exporter": "python",
   "pygments_lexer": "ipython3",
   "version": "3.10.2"
  }
 },
 "nbformat": 4,
 "nbformat_minor": 5
}
