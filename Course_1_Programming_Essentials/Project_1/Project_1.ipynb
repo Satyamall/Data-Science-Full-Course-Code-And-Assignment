{
 "cells": [
  {
   "cell_type": "code",
   "execution_count": 1,
   "id": "62a46359-21fd-40f4-a915-fadbf1652e7b",
   "metadata": {},
   "outputs": [],
   "source": [
    "def welcome_message():\n",
    "    print(\"Welcome to the Demo Marketplace\")\n"
   ]
  },
  {
   "cell_type": "code",
   "execution_count": 2,
   "id": "e5a8ff76-7743-4605-821c-b54aad88b197",
   "metadata": {},
   "outputs": [],
   "source": [
    "users_db = {\n",
    "    'user1': {'password': 'pass1', 'cart': []},\n",
    "    'user2': {'password': 'pass2', 'cart': []}\n",
    "}\n",
    "\n",
    "admins_db = {\n",
    "    'admin': {'password': 'adminpass'}\n",
    "}\n",
    "\n",
    "categories = {\n",
    "    1: 'Footwear',\n",
    "    2: 'Clothing',\n",
    "    3: 'Electronics'\n",
    "}\n",
    "\n",
    "products = [\n",
    "    {'id': 101, 'name': 'Boots', 'category_id': 1, 'price': 1000},\n",
    "    {'id': 102, 'name': 'Jackets', 'category_id': 2, 'price': 2000},\n",
    "    {'id': 103, 'name': 'Coats', 'category_id': 3, 'price': 3000},\n",
    "    {'id': 104, 'name': 'Caps', 'category_id': 4, 'price': 500}\n",
    "]\n",
    "\n",
    "session_data = {}"
   ]
  },
  {
   "cell_type": "code",
   "execution_count": 3,
   "id": "c9c05843-180a-4c1b-84b6-3decd0c5a588",
   "metadata": {},
   "outputs": [],
   "source": [
    "def login(username, password, is_admin=False):\n",
    "    if is_admin:\n",
    "        if username in admins_db and admins_db[username]['password'] == password:\n",
    "            session_data['admin'] = username\n",
    "            print(\"Admin logged in successfully\")\n",
    "        else:\n",
    "            print(\"Invalid admin credentials\")\n",
    "    else:\n",
    "        if username in users_db and users_db[username]['password'] == password:\n",
    "            session_data['user'] = username\n",
    "            print(f\"User {username} logged in successfully\")\n",
    "        else:\n",
    "            return print(\"Invalid user credentials\")\n"
   ]
  },
  {
   "cell_type": "code",
   "execution_count": 4,
   "id": "62a86421-d020-4c1d-ae3a-78fec6276e8a",
   "metadata": {},
   "outputs": [],
   "source": [
    "def view_catalog():\n",
    "    for product in products:\n",
    "        category_name = categories.get(product['category_id'], \"Unknown Category\")\n",
    "        print(f\"ID: {product['id']}, Name: {product['name']}, Category: {category_name}, Price: {product['price']}\")\n",
    "\n",
    "def view_category():\n",
    "    if not categories:\n",
    "        print(\"No categories available.\")\n",
    "    else:\n",
    "        print(\"Available Categories:\")\n",
    "        for category_id, category_name in categories.items():\n",
    "            print(f\"ID: {category_id}, Name: {category_name}\")\n"
   ]
  },
  {
   "cell_type": "code",
   "execution_count": 5,
   "id": "d02d39c1-8430-4adc-a44d-89426041273e",
   "metadata": {},
   "outputs": [],
   "source": [
    "def add_to_cart(product_id, quantity):\n",
    "    if 'user' not in session_data:\n",
    "        print(\"Login as user to add items to cart\")\n",
    "        return\n",
    "\n",
    "    user_cart = users_db[session_data['user']]['cart']\n",
    "    user_cart.append({'product_id': product_id, 'quantity': quantity})\n",
    "    print(f\"Added product {product_id} with quantity {quantity} to cart\")\n",
    "\n",
    "def view_cart():\n",
    "    if 'user' not in session_data:\n",
    "        print(\"Login as user to view cart\")\n",
    "        return\n",
    "\n",
    "    user_cart = users_db[session_data['user']]['cart']\n",
    "    if not user_cart:\n",
    "        print(\"Cart is empty\")\n",
    "    else:\n",
    "        for item in user_cart:\n",
    "            # Provide a default value (None or a custom message) if product is not found\n",
    "            product = next((p for p in products if p['id'] == item['product_id']), None)\n",
    "            if product:\n",
    "                print(f\"Product: {product['name']}, Quantity: {item['quantity']}\")\n",
    "            else:\n",
    "                print(f\"Product with ID {item['product_id']} not found.\")\n",
    "\n",
    "def remove_from_cart(product_id):\n",
    "    if 'user' not in session_data:\n",
    "        print(\"Login as user to remove items from cart\")\n",
    "        return\n",
    "\n",
    "    user_cart = users_db[session_data['user']]['cart']\n",
    "    users_db[session_data['user']]['cart'] = [item for item in user_cart if item['product_id'] != product_id]\n",
    "    print(f\"Removed product {product_id} from cart\")\n"
   ]
  },
  {
   "cell_type": "code",
   "execution_count": 6,
   "id": "ccb13f9a-f5ca-4c7e-a249-19064731af80",
   "metadata": {},
   "outputs": [],
   "source": [
    "def checkout(payment_method):\n",
    "    if 'user' not in session_data:\n",
    "        print(\"Login as user to checkout\")\n",
    "        return\n",
    "\n",
    "    user_cart = users_db[session_data['user']]['cart']\n",
    "    if not user_cart:\n",
    "        print(\"Cart is empty\")\n",
    "        return\n",
    "\n",
    "    total_amount = sum(next(p['price'] for p in products if p['id'] == item['product_id']) * item['quantity'] for item in user_cart)\n",
    "    print(f\"Your total amount is {total_amount}\")\n",
    "    print(f\"You will be redirected to complete your payment using {payment_method}.\")\n",
    "    # Clear cart after checkout\n",
    "    users_db[session_data['user']]['cart'] = []\n"
   ]
  },
  {
   "cell_type": "code",
   "execution_count": 7,
   "id": "39469c6c-f7e6-43b6-859c-d208390e059d",
   "metadata": {},
   "outputs": [],
   "source": [
    "def add_product(name, category_id, price):\n",
    "    if 'admin' not in session_data:\n",
    "        print(\"Login as admin to add products\")\n",
    "        return\n",
    "\n",
    "    new_id = max(product['id'] for product in products) + 1\n",
    "    products.append({'id': new_id, 'name': name, 'category_id': category_id, 'price': price})\n",
    "    print(f\"Product {name} added successfully\")\n",
    "\n",
    "def update_product(product_id, name=None, category_id=None, price=None):\n",
    "    if 'admin' not in session_data:\n",
    "        print(\"Login as admin to update products\")\n",
    "        return\n",
    "\n",
    "    product = next(p for p in products if p['id'] == product_id)\n",
    "    if name:\n",
    "        product['name'] = name\n",
    "    if category_id:\n",
    "        product['category_id'] = category_id\n",
    "    if price:\n",
    "        product['price'] = price\n",
    "    print(f\"Product {product_id} updated successfully\")\n",
    "\n",
    "def remove_product(product_id):\n",
    "    if 'admin' not in session_data:\n",
    "        print(\"Login as admin to remove products\")\n",
    "        return\n",
    "\n",
    "    global products\n",
    "    products = [p for p in products if p['id'] != product_id]\n",
    "    print(f\"Product {product_id} removed successfully\")\n",
    "    \n",
    "def add_category(category_name):\n",
    "    if 'admin' not in session_data:\n",
    "        print(\"Login as admin to add categories\")\n",
    "        return\n",
    "\n",
    "    # Find the next available category ID\n",
    "    new_category_id = max(categories.keys()) + 1 if categories else 1\n",
    "    categories[new_category_id] = category_name\n",
    "    print(f\"Category '{category_name}' added successfully with ID {new_category_id}\")\n"
   ]
  },
  {
   "cell_type": "code",
   "execution_count": null,
   "id": "de295991-fdd0-487b-b0ca-2ee59d882277",
   "metadata": {},
   "outputs": [
    {
     "name": "stdout",
     "output_type": "stream",
     "text": [
      "Welcome to the Demo Marketplace\n",
      "\n",
      "1. User Login\n",
      "2. Admin Login\n",
      "3. Exit\n"
     ]
    },
    {
     "name": "stdin",
     "output_type": "stream",
     "text": [
      "Choose option:  1\n",
      "Username:  user1\n",
      "Password:  pass1\n"
     ]
    },
    {
     "name": "stdout",
     "output_type": "stream",
     "text": [
      "User user1 logged in successfully\n",
      "\n",
      "1. View Catalog\n",
      "2. Add to Cart\n",
      "3. View Cart\n",
      "4. Remove from Cart\n",
      "5. Checkout\n",
      "6. Logout\n"
     ]
    },
    {
     "name": "stdin",
     "output_type": "stream",
     "text": [
      "Choose option:  1\n"
     ]
    },
    {
     "name": "stdout",
     "output_type": "stream",
     "text": [
      "ID: 101, Name: Boots, Category: Footwear, Price: 1000\n",
      "ID: 102, Name: Jackets, Category: Clothing, Price: 2000\n",
      "ID: 103, Name: Coats, Category: Electronics, Price: 3000\n",
      "ID: 104, Name: Caps, Category: Unknown Category, Price: 500\n",
      "\n",
      "1. View Catalog\n",
      "2. Add to Cart\n",
      "3. View Cart\n",
      "4. Remove from Cart\n",
      "5. Checkout\n",
      "6. Logout\n"
     ]
    },
    {
     "name": "stdin",
     "output_type": "stream",
     "text": [
      "Choose option:  2\n",
      "Enter Product ID:  101\n",
      "Enter Quantity:  2\n"
     ]
    },
    {
     "name": "stdout",
     "output_type": "stream",
     "text": [
      "Added product 101 with quantity 2 to cart\n",
      "\n",
      "1. View Catalog\n",
      "2. Add to Cart\n",
      "3. View Cart\n",
      "4. Remove from Cart\n",
      "5. Checkout\n",
      "6. Logout\n"
     ]
    },
    {
     "name": "stdin",
     "output_type": "stream",
     "text": [
      "Choose option:  2\n",
      "Enter Product ID:  102\n",
      "Enter Quantity:  4\n"
     ]
    },
    {
     "name": "stdout",
     "output_type": "stream",
     "text": [
      "Added product 102 with quantity 4 to cart\n",
      "\n",
      "1. View Catalog\n",
      "2. Add to Cart\n",
      "3. View Cart\n",
      "4. Remove from Cart\n",
      "5. Checkout\n",
      "6. Logout\n"
     ]
    },
    {
     "name": "stdin",
     "output_type": "stream",
     "text": [
      "Choose option:  3\n"
     ]
    },
    {
     "name": "stdout",
     "output_type": "stream",
     "text": [
      "Product: Boots, Quantity: 2\n",
      "Product: Jackets, Quantity: 4\n",
      "\n",
      "1. View Catalog\n",
      "2. Add to Cart\n",
      "3. View Cart\n",
      "4. Remove from Cart\n",
      "5. Checkout\n",
      "6. Logout\n"
     ]
    },
    {
     "name": "stdin",
     "output_type": "stream",
     "text": [
      "Choose option:  4\n",
      "Enter Product ID to remove:  101\n"
     ]
    },
    {
     "name": "stdout",
     "output_type": "stream",
     "text": [
      "Removed product 101 from cart\n",
      "\n",
      "1. View Catalog\n",
      "2. Add to Cart\n",
      "3. View Cart\n",
      "4. Remove from Cart\n",
      "5. Checkout\n",
      "6. Logout\n"
     ]
    },
    {
     "name": "stdin",
     "output_type": "stream",
     "text": [
      "Choose option:  3\n"
     ]
    },
    {
     "name": "stdout",
     "output_type": "stream",
     "text": [
      "Product: Jackets, Quantity: 4\n",
      "\n",
      "1. View Catalog\n",
      "2. Add to Cart\n",
      "3. View Cart\n",
      "4. Remove from Cart\n",
      "5. Checkout\n",
      "6. Logout\n"
     ]
    },
    {
     "name": "stdin",
     "output_type": "stream",
     "text": [
      "Choose option:  5\n",
      "Enter Payment Method (UPI/NetBanking/PayPal):  UPI\n"
     ]
    },
    {
     "name": "stdout",
     "output_type": "stream",
     "text": [
      "Your total amount is 8000\n",
      "You will be redirected to complete your payment using UPI.\n",
      "\n",
      "1. View Catalog\n",
      "2. Add to Cart\n",
      "3. View Cart\n",
      "4. Remove from Cart\n",
      "5. Checkout\n",
      "6. Logout\n"
     ]
    },
    {
     "name": "stdin",
     "output_type": "stream",
     "text": [
      "Choose option:  6\n"
     ]
    },
    {
     "name": "stdout",
     "output_type": "stream",
     "text": [
      "Logged out successfully\n",
      "\n",
      "1. User Login\n",
      "2. Admin Login\n",
      "3. Exit\n"
     ]
    }
   ],
   "source": [
    "def main():\n",
    "    welcome_message()\n",
    "    while True:\n",
    "        print(\"\\n1. User Login\\n2. Admin Login\\n3. Exit\")\n",
    "        choice = input(\"Choose option: \")\n",
    "\n",
    "        if choice == '1':\n",
    "            username = input(\"Username: \")\n",
    "            password = input(\"Password: \")\n",
    "            login(username, password, is_admin=False)\n",
    "\n",
    "            while 'user' in session_data:\n",
    "                print(\"\\n1. View Catalog\\n2. Add to Cart\\n3. View Cart\\n4. Remove from Cart\\n5. Checkout\\n6. Logout\")\n",
    "                user_choice = input(\"Choose option: \")\n",
    "\n",
    "                if user_choice == '1':\n",
    "                    view_catalog()\n",
    "                elif user_choice == '2':\n",
    "                    product_id = int(input(\"Enter Product ID: \"))\n",
    "                    quantity = int(input(\"Enter Quantity: \"))\n",
    "                    add_to_cart(product_id, quantity)\n",
    "                elif user_choice == '3':\n",
    "                    view_cart()\n",
    "                elif user_choice == '4':\n",
    "                    product_id = int(input(\"Enter Product ID to remove: \"))\n",
    "                    remove_from_cart(product_id)\n",
    "                elif user_choice == '5':\n",
    "                    payment_method = input(\"Enter Payment Method (UPI/NetBanking/PayPal): \")\n",
    "                    checkout(payment_method)\n",
    "                elif user_choice == '6':\n",
    "                    session_data.pop('user')\n",
    "                    print(\"Logged out successfully\")\n",
    "\n",
    "        elif choice == '2':\n",
    "            username = input(\"Admin Username: \")\n",
    "            password = input(\"Password: \")\n",
    "            login(username, password, is_admin=True)\n",
    "\n",
    "            while 'admin' in session_data:\n",
    "                print(\"\\n1. View Catalog\\n2. View Category\\n3. Add Product\\n4. Update Product\\n5. Remove Product\\n6. Add Category\\n7. Logout\")\n",
    "                admin_choice = input(\"Choose option: \")\n",
    "\n",
    "                if admin_choice == '1':\n",
    "                    view_catalog()\n",
    "                elif admin_choice == '2':\n",
    "                    view_category()\n",
    "                elif admin_choice == '3':\n",
    "                    name = input(\"Enter Product Name: \")\n",
    "                    category_id = int(input(\"Enter Category ID: \"))\n",
    "                    price = float(input(\"Enter Price: \"))\n",
    "                    add_product(name, category_id, price)\n",
    "                elif admin_choice == '4':\n",
    "                    product_id = int(input(\"Enter Product ID to update: \"))\n",
    "                    name = input(\"Enter new Product Name (leave blank to skip): \")\n",
    "                    category_id = input(\"Enter new Category ID (leave blank to skip): \")\n",
    "                    price = input(\"Enter new Price (leave blank to skip): \")\n",
    "                    update_product(product_id, name or None, int(category_id) if category_id else None, float(price) if price else None)\n",
    "                elif admin_choice == '5':\n",
    "                    product_id = int(input(\"Enter Product ID to remove: \"))\n",
    "                    remove_product(product_id)\n",
    "                elif admin_choice == '6':\n",
    "                    category_name = input(\"Enter new category name: \")\n",
    "                    if category_name != \"\":\n",
    "                           add_category(category_name)\n",
    "                    else:\n",
    "                        return print('Please enter category name')\n",
    "                elif admin_choice == '7':\n",
    "                    session_data.pop('admin')\n",
    "                    print(\"Logged out successfully\")\n",
    "\n",
    "        elif choice == '3':\n",
    "            break\n",
    "\n",
    "if __name__ == '__main__':\n",
    "    main()\n"
   ]
  }
 ],
 "metadata": {
  "kernelspec": {
   "display_name": "Python 3 [3.10]",
   "language": "python",
   "name": "python3"
  },
  "language_info": {
   "codemirror_mode": {
    "name": "ipython",
    "version": 3
   },
   "file_extension": ".py",
   "mimetype": "text/x-python",
   "name": "python",
   "nbconvert_exporter": "python",
   "pygments_lexer": "ipython3",
   "version": "3.10.2"
  }
 },
 "nbformat": 4,
 "nbformat_minor": 5
}
