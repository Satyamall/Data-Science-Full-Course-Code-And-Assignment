{
 "cells": [
  {
   "cell_type": "markdown",
   "id": "b37eb53b",
   "metadata": {
    "id": "b37eb53b"
   },
   "source": [
    "## if statement"
   ]
  },
  {
   "cell_type": "code",
   "execution_count": 11,
   "id": "80691881",
   "metadata": {},
   "outputs": [
    {
     "name": "stdout",
     "output_type": "stream",
     "text": [
      "enter the number:10\n",
      "enter the number:2\n"
     ]
    }
   ],
   "source": [
    "a = int(input(\"enter the number:\"))\n",
    "b = int(input(\"enter the number:\"))"
   ]
  },
  {
   "cell_type": "code",
   "execution_count": 12,
   "id": "5b85a171",
   "metadata": {},
   "outputs": [
    {
     "name": "stdout",
     "output_type": "stream",
     "text": [
      "Awesome\n"
     ]
    }
   ],
   "source": [
    "# Only If Statement\n",
    "\n",
    "if a > b :\n",
    "    \n",
    "    print(\"Awesome\")"
   ]
  },
  {
   "cell_type": "code",
   "execution_count": 13,
   "id": "2c2f4750",
   "metadata": {},
   "outputs": [
    {
     "name": "stdout",
     "output_type": "stream",
     "text": [
      "Aaww\n",
      "Same indent\n",
      "Incorrect Indent\n"
     ]
    }
   ],
   "source": [
    "# IF-Else statements\n",
    "\n",
    "if a > b :\n",
    "    \n",
    "    print(\"Aaww\")\n",
    "    print(\"Same indent\")\n",
    "    print(\"Incorrect Indent\") \n",
    "    \n",
    "else:\n",
    "    \n",
    "    print(\"Haww\")"
   ]
  },
  {
   "cell_type": "code",
   "execution_count": null,
   "id": "29f07467",
   "metadata": {},
   "outputs": [],
   "source": [
    "# Some more examples"
   ]
  },
  {
   "cell_type": "code",
   "execution_count": 17,
   "id": "3bcc1654",
   "metadata": {
    "id": "3bcc1654"
   },
   "outputs": [
    {
     "name": "stdout",
     "output_type": "stream",
     "text": [
      "Enter Nationality : French\n"
     ]
    }
   ],
   "source": [
    "inp = input('Enter Nationality : ')"
   ]
  },
  {
   "cell_type": "code",
   "execution_count": 18,
   "id": "1f456d4c",
   "metadata": {
    "id": "1f456d4c"
   },
   "outputs": [
    {
     "name": "stdout",
     "output_type": "stream",
     "text": [
      "Préférez vous parler français ?\n",
      "Thank You!!\n"
     ]
    }
   ],
   "source": [
    "if inp == \"French\":\n",
    "    \n",
    "    print('Préférez vous parler français ?')\n",
    "\n",
    "\n",
    "print('Thank You!!')"
   ]
  },
  {
   "cell_type": "code",
   "execution_count": 20,
   "id": "5c97120a",
   "metadata": {
    "id": "5c97120a"
   },
   "outputs": [
    {
     "name": "stdout",
     "output_type": "stream",
     "text": [
      "Enter Nationality : French\n",
      "Préférez vous parler français ?\n",
      "Thank You!!\n"
     ]
    }
   ],
   "source": [
    "inp = input('Enter Nationality : ')\n",
    "\n",
    "if inp == \"French\":\n",
    "    print('Préférez vous parler français ?')\n",
    "    \n",
    "else:\n",
    "    print(\"You are not a french citizen\")\n",
    "\n",
    "print('Thank You!!')"
   ]
  },
  {
   "cell_type": "markdown",
   "id": "4a788ba3",
   "metadata": {
    "id": "4a788ba3"
   },
   "source": [
    "## if else"
   ]
  },
  {
   "cell_type": "code",
   "execution_count": null,
   "id": "cb71cfdc",
   "metadata": {
    "id": "cb71cfdc"
   },
   "outputs": [],
   "source": [
    "num = int(input('Enter a number : '))"
   ]
  },
  {
   "cell_type": "code",
   "execution_count": null,
   "id": "18b04483",
   "metadata": {
    "id": "18b04483"
   },
   "outputs": [],
   "source": [
    "if num > 0 :\n",
    "    print(num, ' is a positve number')\n",
    "else :\n",
    "    print(num, ' is a negative number')"
   ]
  },
  {
   "cell_type": "markdown",
   "id": "60864126",
   "metadata": {
    "id": "60864126"
   },
   "source": [
    "## if elif"
   ]
  },
  {
   "cell_type": "code",
   "execution_count": 22,
   "id": "b169a219",
   "metadata": {
    "id": "b169a219"
   },
   "outputs": [
    {
     "name": "stdout",
     "output_type": "stream",
     "text": [
      "Please enter marks : 90\n",
      "Grade A\n",
      "Thank you !!\n"
     ]
    }
   ],
   "source": [
    "# Prompt the user to enter their nationality\n",
    "marks =  float(input('Please enter marks : '))\n",
    "if marks >=90 :\n",
    "    print('Grade A')\n",
    "# elif marks >=75 :\n",
    "#     print('Grade B')\n",
    "# elif marks >= 55 :\n",
    "#     print('Grade C')\n",
    "# elif marks >= 35 :\n",
    "#     print('Grade D')\n",
    "else :\n",
    "    print('Grade F')\n",
    "print('Thank you !!')"
   ]
  },
  {
   "cell_type": "code",
   "execution_count": 24,
   "id": "aba44cf6",
   "metadata": {},
   "outputs": [
    {
     "name": "stdout",
     "output_type": "stream",
     "text": [
      "Please enter marks : 78\n",
      "Grade B\n",
      "Thank you !!\n"
     ]
    }
   ],
   "source": [
    "# Prompt the user to enter their nationality\n",
    "marks =  float(input('Please enter marks : '))\n",
    "if marks >=90 :\n",
    "    print('Grade A')\n",
    "elif marks >=75 :\n",
    "    print('Grade B')\n",
    "elif marks >= 55 :\n",
    "    print('Grade C')\n",
    "elif marks >= 35 :\n",
    "    print('Grade D')\n",
    "else :\n",
    "    print('Grade F')\n",
    "print('Thank you !!')"
   ]
  },
  {
   "cell_type": "markdown",
   "id": "2968abba",
   "metadata": {
    "id": "2968abba"
   },
   "source": [
    "## Nested if"
   ]
  },
  {
   "cell_type": "code",
   "execution_count": null,
   "id": "7fd5b398",
   "metadata": {},
   "outputs": [],
   "source": [
    "# if:\n",
    "#     if:\n",
    "#         if:\n",
    "#             if:\n",
    "#                 if:\n",
    "                \n",
    "#                 else:\n",
    "                    \n",
    "#             else:\n",
    "                \n",
    "#         else:\n",
    "            \n",
    "#     else:\n",
    "        \n",
    "# else\n",
    "                "
   ]
  },
  {
   "cell_type": "code",
   "execution_count": 3,
   "id": "d1c57240",
   "metadata": {
    "id": "d1c57240"
   },
   "outputs": [
    {
     "name": "stdout",
     "output_type": "stream",
     "text": [
      "Enter a number :44\n",
      "Enter a number :55\n",
      "Enter a number :22\n"
     ]
    }
   ],
   "source": [
    "a = int(input('Enter a number :'))\n",
    "\n",
    "b = int(input('Enter a number :'))\n",
    "\n",
    "c = int(input('Enter a number :'))"
   ]
  },
  {
   "cell_type": "code",
   "execution_count": 4,
   "id": "cfb2d1df",
   "metadata": {
    "id": "cfb2d1df"
   },
   "outputs": [
    {
     "name": "stdout",
     "output_type": "stream",
     "text": [
      "b ( 55 ) is greatest\n"
     ]
    }
   ],
   "source": [
    "if (a > b): # 44 > 55\n",
    "    \n",
    "    if (a > c): # 33 > 11\n",
    "        \n",
    "        print('a (', a, ') is greatest')\n",
    "        \n",
    "    else :\n",
    "        \n",
    "        print('c (', c, ') is greatest')\n",
    "        \n",
    "else :\n",
    "    \n",
    "    if (b > c): # 55 > 22\n",
    "        \n",
    "        print('b (', b, ') is greatest')\n",
    "        \n",
    "    else :\n",
    "        \n",
    "        print('c (', c, ') is greatest')"
   ]
  },
  {
   "cell_type": "code",
   "execution_count": null,
   "id": "12610229",
   "metadata": {},
   "outputs": [],
   "source": [
    "# WAP to print the greatest of 3 numbers inputted by the user using if-else-elif\n"
   ]
  },
  {
   "cell_type": "code",
   "execution_count": 25,
   "id": "e2ff5a34",
   "metadata": {},
   "outputs": [
    {
     "name": "stdout",
     "output_type": "stream",
     "text": [
      "Enter a number :55\n",
      "Enter a number :66\n",
      "Enter a number :77\n",
      "Greatest is c 77\n"
     ]
    }
   ],
   "source": [
    "a = int(input('Enter a number :'))\n",
    "\n",
    "b = int(input('Enter a number :'))\n",
    "\n",
    "c = int(input('Enter a number :'))\n",
    "\n",
    "if(a > b and a > c):\n",
    "    \n",
    "    print(\"Greatest is a\", a)\n",
    "    \n",
    "elif(b > a and b > c):\n",
    "    \n",
    "    print(\"Greatest is b\", b)\n",
    "    \n",
    "else:\n",
    "    print(\"Greatest is c\", c)"
   ]
  },
  {
   "cell_type": "markdown",
   "id": "be62d16e",
   "metadata": {
    "id": "be62d16e"
   },
   "source": [
    "# Loops"
   ]
  },
  {
   "cell_type": "markdown",
   "id": "fdf844e6",
   "metadata": {
    "id": "fdf844e6"
   },
   "source": [
    "## for loop - It works on an iterable - Aggregated Data Type"
   ]
  },
  {
   "cell_type": "code",
   "execution_count": null,
   "id": "4a4b1ead",
   "metadata": {},
   "outputs": [],
   "source": [
    "# Syntax --> for var in Iterable( String/ Array/ List/ Tuple/ Dict/ Series/ DataFrame):\n",
    "#                     Action()"
   ]
  },
  {
   "cell_type": "code",
   "execution_count": 26,
   "id": "ee37f2c3",
   "metadata": {},
   "outputs": [],
   "source": [
    "string1 = \"hdhdshjdsjldsjkdskjdlsjkdjs\""
   ]
  },
  {
   "cell_type": "code",
   "execution_count": 31,
   "id": "a94a39d4",
   "metadata": {},
   "outputs": [
    {
     "name": "stdout",
     "output_type": "stream",
     "text": [
      "pointer blabla on : h now incrementing forward\n",
      "pointer blabla on : d now incrementing forward\n",
      "pointer blabla on : h now incrementing forward\n",
      "pointer blabla on : d now incrementing forward\n",
      "pointer blabla on : s now incrementing forward\n",
      "pointer blabla on : h now incrementing forward\n",
      "pointer blabla on : j now incrementing forward\n",
      "pointer blabla on : d now incrementing forward\n",
      "pointer blabla on : s now incrementing forward\n",
      "pointer blabla on : j now incrementing forward\n",
      "pointer blabla on : l now incrementing forward\n",
      "pointer blabla on : d now incrementing forward\n",
      "pointer blabla on : s now incrementing forward\n",
      "pointer blabla on : j now incrementing forward\n",
      "pointer blabla on : k now incrementing forward\n",
      "pointer blabla on : d now incrementing forward\n",
      "pointer blabla on : s now incrementing forward\n",
      "pointer blabla on : k now incrementing forward\n",
      "pointer blabla on : j now incrementing forward\n",
      "pointer blabla on : d now incrementing forward\n",
      "pointer blabla on : l now incrementing forward\n",
      "pointer blabla on : s now incrementing forward\n",
      "pointer blabla on : j now incrementing forward\n",
      "pointer blabla on : k now incrementing forward\n",
      "pointer blabla on : d now incrementing forward\n",
      "pointer blabla on : j now incrementing forward\n",
      "pointer blabla on : s now incrementing forward\n"
     ]
    }
   ],
   "source": [
    "for blabla in string1:\n",
    "    \n",
    "\n",
    "    print(\"pointer blabla on :\", blabla, \"now incrementing forward\")"
   ]
  },
  {
   "cell_type": "code",
   "execution_count": 1,
   "id": "3689ecb2",
   "metadata": {},
   "outputs": [
    {
     "data": {
      "text/plain": [
       "6"
      ]
     },
     "execution_count": 1,
     "metadata": {},
     "output_type": "execute_result"
    }
   ],
   "source": [
    "a1 = \"Python\"\n",
    "\n",
    "len(a1)"
   ]
  },
  {
   "cell_type": "code",
   "execution_count": 2,
   "id": "9fb2100e",
   "metadata": {},
   "outputs": [
    {
     "data": {
      "text/plain": [
       "3"
      ]
     },
     "execution_count": 2,
     "metadata": {},
     "output_type": "execute_result"
    }
   ],
   "source": [
    "a2 = [\"Python\",\"Raghav\",\"Class\"]\n",
    "\n",
    "len(a2)"
   ]
  },
  {
   "cell_type": "code",
   "execution_count": 53,
   "id": "0455be24",
   "metadata": {
    "id": "0455be24",
    "outputId": "d42bce29-da53-4863-b7b8-a591d15c9be9"
   },
   "outputs": [
    {
     "name": "stdout",
     "output_type": "stream",
     "text": [
      "P\n",
      "Thank You!!\n",
      "y\n",
      "Thank You!!\n",
      "t\n",
      "Thank You!!\n",
      "h\n",
      "Thank You!!\n",
      "o\n",
      "Thank You!!\n",
      "n\n",
      "Thank You!!\n",
      "Thank You!!\n"
     ]
    }
   ],
   "source": [
    "string = 'Python'\n",
    "\n",
    "for s in string:\n",
    "    print(s)\n",
    "    print('Thank You!!')\n",
    "    \n",
    "# Print a thank you message regardless of any thing\n",
    "print('Thank You!!')"
   ]
  },
  {
   "cell_type": "markdown",
   "id": "868ee650",
   "metadata": {
    "id": "868ee650"
   },
   "source": [
    "### Output Explanation\n",
    "The output of this cell is:\n",
    "```\n",
    "P\n",
    "y\n",
    "t\n",
    "h\n",
    "o\n",
    "n\n",
    "Thank You!!\n",
    "\n",
    "```\n"
   ]
  },
  {
   "cell_type": "code",
   "execution_count": 6,
   "id": "195510e0",
   "metadata": {},
   "outputs": [
    {
     "name": "stdout",
     "output_type": "stream",
     "text": [
      "P\n",
      "Thank You!!\n",
      "y\n",
      "Thank You!!\n",
      "t\n",
      "Thank You!!\n",
      "h\n",
      "Thank You!!\n",
      "o\n",
      "Thank You!!\n",
      "n\n",
      "Thank You!!\n"
     ]
    }
   ],
   "source": [
    "string = 'Python'\n",
    "for s in string:\n",
    "    print(s)\n",
    "    print('Thank You!!')"
   ]
  },
  {
   "cell_type": "code",
   "execution_count": 3,
   "id": "c8c454c2",
   "metadata": {},
   "outputs": [
    {
     "data": {
      "text/plain": [
       "'RaghavGoel'"
      ]
     },
     "execution_count": 3,
     "metadata": {},
     "output_type": "execute_result"
    }
   ],
   "source": [
    "a3 = \"Raghav\"\n",
    "a4 = \"Goel\"\n",
    "\n",
    "a5 = a3 + a4\n",
    "\n",
    "a5"
   ]
  },
  {
   "cell_type": "code",
   "execution_count": 6,
   "id": "adce2632",
   "metadata": {},
   "outputs": [
    {
     "name": "stdout",
     "output_type": "stream",
     "text": [
      "P\n",
      "PY\n",
      "PYT\n",
      "PYTH\n",
      "PYTHO\n",
      "PYTHON\n",
      "PYTHON\n"
     ]
    }
   ],
   "source": [
    "# Suppose we have to convert every char of a string into uppercase\n",
    "\n",
    "string = \"Python\"\n",
    "\n",
    "Cap_string = \"\" # Initializing the empty string\n",
    "\n",
    "for t in string:\n",
    "    \n",
    "    Cap_string = Cap_string + t.upper()\n",
    "    \n",
    "    print(Cap_string)\n",
    "\n",
    "print(Cap_string)"
   ]
  },
  {
   "cell_type": "code",
   "execution_count": 57,
   "id": "701315c6",
   "metadata": {},
   "outputs": [
    {
     "name": "stdout",
     "output_type": "stream",
     "text": [
      "[1]\n",
      "[1, 4]\n",
      "[1, 4, 9]\n",
      "[1, 4, 9, 16]\n",
      "[1, 4, 9, 16, 25]\n",
      "[1, 4, 9, 16, 25, 36]\n",
      "[1, 4, 9, 16, 25, 36]\n"
     ]
    }
   ],
   "source": [
    "# Create a list of numbers and then squaare each numbers inside a list and store it in a new list\n",
    "\n",
    "list1 = [1,2,3,4,5,6]\n",
    "\n",
    "Sq_Num = []\n",
    "\n",
    "for i in list1:\n",
    "    \n",
    "    Sq_Num.append(i**2)\n",
    "    print(Sq_Num)\n",
    "    \n",
    "print(Sq_Num)"
   ]
  },
  {
   "cell_type": "code",
   "execution_count": 7,
   "id": "b6c071d4",
   "metadata": {},
   "outputs": [
    {
     "name": "stdout",
     "output_type": "stream",
     "text": [
      "1\n",
      "Thank You!!\n",
      "2\n",
      "Thank You!!\n",
      "3\n",
      "Thank You!!\n",
      "4\n",
      "Thank You!!\n",
      "5\n",
      "Thank You!!\n",
      "6\n",
      "Thank You!!\n"
     ]
    }
   ],
   "source": [
    "list1 = [1,2,3,4,5,6]\n",
    "\n",
    "for i in list1:\n",
    "    print(i)\n",
    "    print('Thank You!!')"
   ]
  },
  {
   "cell_type": "code",
   "execution_count": 36,
   "id": "3dd10020",
   "metadata": {},
   "outputs": [
    {
     "name": "stdout",
     "output_type": "stream",
     "text": [
      "Odd 1\n",
      "Even 2\n",
      "Odd 3\n",
      "Even 4\n",
      "Odd 5\n",
      "Even 6\n",
      "Odd 7\n",
      "Even 8\n",
      "Odd 9\n",
      "Even 10\n"
     ]
    }
   ],
   "source": [
    "numbers = [1,2,3,4,5,6,7,8,9,10]\n",
    "\n",
    "for i in numbers:\n",
    "    \n",
    "    if i % 2 == 0:\n",
    "        \n",
    "        print(\"Even\",i)\n",
    "        \n",
    "    else:\n",
    "        print(\"Odd\",i)"
   ]
  },
  {
   "cell_type": "code",
   "execution_count": 69,
   "id": "0442ba92",
   "metadata": {},
   "outputs": [
    {
     "name": "stdout",
     "output_type": "stream",
     "text": [
      "Enter the number for factorial7\n",
      "Updated Value of fact :  1\n",
      "Updated Value of fact :  2\n",
      "Updated Value of fact :  6\n",
      "Updated Value of fact :  24\n",
      "Updated Value of fact :  120\n",
      "Updated Value of fact :  720\n",
      "Updated Value of fact :  5040\n"
     ]
    }
   ],
   "source": [
    "n = int(input(\"Enter the number for factorial\"))\n",
    "\n",
    "fact=1\n",
    "\n",
    "for i in range(1,n+1): # The range part will give us the sequence of numbers from 1 to 5 ie 1,2,3,4,5\n",
    "    fact=fact*i\n",
    "    print(\"Updated Value of fact : \" ,fact)"
   ]
  },
  {
   "cell_type": "code",
   "execution_count": 7,
   "id": "e0b4d82a",
   "metadata": {},
   "outputs": [
    {
     "name": "stdout",
     "output_type": "stream",
     "text": [
      "Enter the number for sum :-5\n",
      "Updated Value of sum :  0\n",
      "Updated Value of sum :  1\n",
      "Updated Value of sum :  3\n",
      "Updated Value of sum :  6\n",
      "Updated Value of sum :  10\n",
      "Updated Value of sum :  15\n"
     ]
    }
   ],
   "source": [
    "# WAP where i can find the sum of numbers till that number which user enters.\n",
    "\n",
    "n = int(input(\"Enter the number for sum :-\"))\n",
    "\n",
    "sum1=0\n",
    "\n",
    "\n",
    "for i in range(0,n+1): # The range part will give us the sequence of numbers from 1 to 5 ie 1,2,3,4,5\n",
    "    sum1=sum1+i\n",
    "    print(\"Updated Value of sum : \" ,sum1)"
   ]
  },
  {
   "cell_type": "code",
   "execution_count": 9,
   "id": "ba07c161",
   "metadata": {},
   "outputs": [
    {
     "data": {
      "text/plain": [
       "[0, 1, 2, 3, 4, 5]"
      ]
     },
     "execution_count": 9,
     "metadata": {},
     "output_type": "execute_result"
    }
   ],
   "source": [
    "list(range(0,6))"
   ]
  },
  {
   "cell_type": "code",
   "execution_count": 11,
   "id": "94a4d5c0",
   "metadata": {},
   "outputs": [
    {
     "name": "stdout",
     "output_type": "stream",
     "text": [
      "Python\n",
      "Python\n",
      "Python\n",
      "Python\n",
      "Python\n"
     ]
    }
   ],
   "source": [
    "for i in range(0,5):\n",
    "    \n",
    "    print(\"Python\")"
   ]
  },
  {
   "cell_type": "markdown",
   "id": "58ec86ab",
   "metadata": {},
   "source": [
    "# For loops are also called as BOUNDED LOOPS, because they always work in a bound or Range"
   ]
  },
  {
   "cell_type": "markdown",
   "id": "d870d063",
   "metadata": {
    "id": "d870d063"
   },
   "source": [
    "## while loop"
   ]
  },
  {
   "cell_type": "code",
   "execution_count": null,
   "id": "438eb11d",
   "metadata": {},
   "outputs": [],
   "source": [
    "# In the below example we are trying to print a string 5 times"
   ]
  },
  {
   "cell_type": "code",
   "execution_count": 12,
   "id": "ad06ebe6",
   "metadata": {
    "id": "ad06ebe6",
    "outputId": "665c2414-0971-411c-9951-f78c598ff553"
   },
   "outputs": [
    {
     "name": "stdout",
     "output_type": "stream",
     "text": [
      "Counter Value :  0 -- Python\n",
      "Counter Value :  1 -- Python\n",
      "Counter Value :  2 -- Python\n",
      "Counter Value :  3 -- Python\n",
      "Counter Value :  4 -- Python\n",
      "Thank You!!\n"
     ]
    }
   ],
   "source": [
    "counter = 0                                               # 1. Initialize te While Loop\n",
    "\n",
    "string = \"Python\"\n",
    "\n",
    "while counter < 5:                                        # 2. Condition to be checked / Stoping condition\n",
    "    \n",
    "    print(\"Counter Value : \",counter, \"--\", string)       # 3. Action to be performed\n",
    "    \n",
    "    counter += 1                                          # 4. Increment\n",
    "\n",
    "print('Thank You!!')"
   ]
  },
  {
   "cell_type": "code",
   "execution_count": 18,
   "id": "97ae5f28",
   "metadata": {},
   "outputs": [
    {
     "name": "stdout",
     "output_type": "stream",
     "text": [
      "Counter Value :  5 -- Python\n",
      "Counter Value :  4 -- Python\n",
      "Counter Value :  3 -- Python\n",
      "Counter Value :  2 -- Python\n",
      "Counter Value :  1 -- Python\n",
      "Thank You!!\n"
     ]
    }
   ],
   "source": [
    "counter = 5                                               # 1. Initialize te While Loop\n",
    "\n",
    "string = \"Python\"\n",
    "\n",
    "while counter > 0:                                        # 2. Condition to be checked / Stoping condition\n",
    "    \n",
    "    print(\"Counter Value : \",counter, \"--\", string)       # 3. Action to be performed\n",
    "    \n",
    "    counter  = counter  -  1                              # 4. Decrement\n",
    "\n",
    "print('Thank You!!')"
   ]
  },
  {
   "cell_type": "code",
   "execution_count": 14,
   "id": "d698b98e",
   "metadata": {},
   "outputs": [
    {
     "data": {
      "text/plain": [
       "20"
      ]
     },
     "execution_count": 14,
     "metadata": {},
     "output_type": "execute_result"
    }
   ],
   "source": [
    "a = 10\n",
    "\n",
    "a += 10\n",
    "\n",
    "a"
   ]
  },
  {
   "cell_type": "code",
   "execution_count": 17,
   "id": "01017529",
   "metadata": {},
   "outputs": [],
   "source": [
    "# a =  a + 10 == a += 10"
   ]
  },
  {
   "cell_type": "markdown",
   "id": "564aa923",
   "metadata": {
    "id": "564aa923"
   },
   "source": [
    "##### while loop never executed"
   ]
  },
  {
   "cell_type": "code",
   "execution_count": 81,
   "id": "2dac0b86",
   "metadata": {
    "id": "2dac0b86",
    "outputId": "ce2bbc64-a042-41e3-9778-7c4c11e6e5ae"
   },
   "outputs": [
    {
     "name": "stdout",
     "output_type": "stream",
     "text": [
      "Thank you\n"
     ]
    }
   ],
   "source": [
    "counter = 5\n",
    "while counter < 5: # This condition will always be false\n",
    "    print(counter)\n",
    "    counter += 1\n",
    "print('Thank you')"
   ]
  },
  {
   "cell_type": "markdown",
   "id": "891879c1",
   "metadata": {
    "id": "891879c1"
   },
   "source": [
    "### Output Explanation\n",
    "The output of this cell is:\n",
    "```\n",
    "Thank you\n",
    "\n",
    "```\n"
   ]
  },
  {
   "cell_type": "markdown",
   "id": "3b7b2ed7",
   "metadata": {
    "id": "3b7b2ed7"
   },
   "source": [
    "##### Infinite while loop"
   ]
  },
  {
   "cell_type": "code",
   "execution_count": 1,
   "id": "b6670c4f",
   "metadata": {
    "id": "b6670c4f",
    "jupyter": {
     "outputs_hidden": true
    },
    "outputId": "3dc67e3b-8208-4d13-953b-257726c77559",
    "tags": []
   },
   "outputs": [],
   "source": [
    "# counter = 0\n",
    "# while counter < 5:\n",
    "#     print(counter)\n",
    "#     print('Thank you')"
   ]
  },
  {
   "cell_type": "code",
   "execution_count": 82,
   "id": "22080d8e",
   "metadata": {},
   "outputs": [
    {
     "data": {
      "text/plain": [
       "10"
      ]
     },
     "execution_count": 82,
     "metadata": {},
     "output_type": "execute_result"
    }
   ],
   "source": [
    "# We have to compute the square of numbers in a list using while loop\n",
    "\n",
    "numbers = [1,2,3,4,5,6,7,8,9,10]\n",
    "\n",
    "len(numbers)"
   ]
  },
  {
   "cell_type": "code",
   "execution_count": 83,
   "id": "4e7463e9",
   "metadata": {},
   "outputs": [
    {
     "name": "stdout",
     "output_type": "stream",
     "text": [
      "[1]\n",
      "[1, 4]\n",
      "[1, 4, 9]\n",
      "[1, 4, 9, 16]\n",
      "[1, 4, 9, 16, 25]\n",
      "[1, 4, 9, 16, 25, 36]\n",
      "[1, 4, 9, 16, 25, 36, 49]\n",
      "[1, 4, 9, 16, 25, 36, 49, 64]\n",
      "[1, 4, 9, 16, 25, 36, 49, 64, 81]\n",
      "[1, 4, 9, 16, 25, 36, 49, 64, 81, 100]\n",
      "List with Squared Numbers is :  [1, 4, 9, 16, 25, 36, 49, 64, 81, 100]\n"
     ]
    }
   ],
   "source": [
    "sq_num = [] # An empty List\n",
    "\n",
    "counter = 0\n",
    "\n",
    "while counter < len(numbers):\n",
    "    \n",
    "    sq_num.append(numbers[counter] ** 2)\n",
    "    \n",
    "    counter = counter + 1\n",
    "    \n",
    "    print(sq_num)\n",
    "\n",
    "print(\"List with Squared Numbers is : \" , sq_num)"
   ]
  },
  {
   "cell_type": "markdown",
   "id": "162e23a1",
   "metadata": {
    "id": "162e23a1"
   },
   "source": [
    "## Range function"
   ]
  },
  {
   "cell_type": "markdown",
   "id": "015aac85",
   "metadata": {
    "id": "015aac85"
   },
   "source": [
    "#### range(n)"
   ]
  },
  {
   "cell_type": "code",
   "execution_count": 84,
   "id": "bd2d6ab4",
   "metadata": {
    "id": "bd2d6ab4"
   },
   "outputs": [
    {
     "name": "stdout",
     "output_type": "stream",
     "text": [
      "range(0, 10)\n"
     ]
    }
   ],
   "source": [
    "# range(n) --> This will create a sequence of numbers starting from (0) all the way till (n - 1).\n",
    "\n",
    "obj = range(10) \n",
    "print(obj)"
   ]
  },
  {
   "cell_type": "code",
   "execution_count": 15,
   "id": "3a585a0d",
   "metadata": {
    "id": "3a585a0d"
   },
   "outputs": [
    {
     "name": "stdout",
     "output_type": "stream",
     "text": [
      "[0, 1, 2, 3, 4, 5, 6, 7, 8, 9]\n"
     ]
    }
   ],
   "source": [
    "print(list(obj))"
   ]
  },
  {
   "cell_type": "markdown",
   "id": "2800819d",
   "metadata": {
    "id": "2800819d"
   },
   "source": [
    "#### range(start, stop)"
   ]
  },
  {
   "cell_type": "code",
   "execution_count": 86,
   "id": "2763cefa",
   "metadata": {
    "id": "2763cefa"
   },
   "outputs": [
    {
     "name": "stdout",
     "output_type": "stream",
     "text": [
      "[3, 4, 5, 6, 7, 8, 9, 10, 11, 12, 13, 14, 15, 16, 17, 18, 19, 20, 21, 22, 23, 24, 25, 26, 27, 28, 29, 30, 31, 32, 33, 34, 35, 36, 37, 38, 39, 40, 41, 42, 43, 44, 45, 46, 47, 48, 49, 50, 51, 52, 53, 54, 55, 56, 57, 58, 59, 60, 61, 62, 63, 64, 65, 66, 67, 68, 69, 70, 71, 72, 73, 74, 75, 76, 77, 78, 79, 80, 81, 82, 83, 84, 85, 86, 87, 88, 89, 90, 91, 92, 93, 94, 95, 96, 97, 98]\n"
     ]
    }
   ],
   "source": [
    "obj = range(3, 99)\n",
    "print(list(obj))"
   ]
  },
  {
   "cell_type": "markdown",
   "id": "9db1db43",
   "metadata": {
    "id": "9db1db43"
   },
   "source": [
    "#### Step in range"
   ]
  },
  {
   "cell_type": "code",
   "execution_count": 22,
   "id": "11f321e3",
   "metadata": {
    "id": "11f321e3"
   },
   "outputs": [
    {
     "name": "stdout",
     "output_type": "stream",
     "text": [
      "[3, 8, 13, 18, 23, 28, 33, 38, 43, 48, 53, 58, 63, 68, 73, 78, 83, 88, 93, 98]\n"
     ]
    }
   ],
   "source": [
    "obj = range(3, 99, 5)\n",
    "print(list(obj))"
   ]
  },
  {
   "cell_type": "code",
   "execution_count": 48,
   "id": "6bda0a22",
   "metadata": {},
   "outputs": [
    {
     "name": "stdout",
     "output_type": "stream",
     "text": [
      "<class 'range'>\n"
     ]
    }
   ],
   "source": [
    "print(type(obj))"
   ]
  },
  {
   "cell_type": "markdown",
   "id": "891a83dd",
   "metadata": {
    "id": "891a83dd"
   },
   "source": [
    "## Nested Loops"
   ]
  },
  {
   "cell_type": "code",
   "execution_count": 30,
   "id": "36f4f189",
   "metadata": {},
   "outputs": [
    {
     "name": "stdout",
     "output_type": "stream",
     "text": [
      "Hello world\n"
     ]
    }
   ],
   "source": [
    "print(\"Hello world\")"
   ]
  },
  {
   "cell_type": "code",
   "execution_count": 32,
   "id": "2b5fbc64",
   "metadata": {},
   "outputs": [
    {
     "name": "stdout",
     "output_type": "stream",
     "text": [
      "Hello \t world\n"
     ]
    }
   ],
   "source": [
    "print(\"Hello \\t world\")"
   ]
  },
  {
   "cell_type": "code",
   "execution_count": 34,
   "id": "d951e8dc",
   "metadata": {},
   "outputs": [
    {
     "name": "stdout",
     "output_type": "stream",
     "text": [
      "Hello \n",
      "world\n"
     ]
    }
   ],
   "source": [
    "print(\"Hello \\nworld\")"
   ]
  },
  {
   "cell_type": "code",
   "execution_count": 46,
   "id": "a2b1dfed",
   "metadata": {},
   "outputs": [
    {
     "name": "stdout",
     "output_type": "stream",
     "text": [
      "0\t0\t0\t0\t0\t0\t0\t0\t0\t0\t\n",
      "1\t2\t3\t4\t5\t6\t7\t8\t9\t10\t\n",
      "2\t4\t6\t8\t10\t12\t14\t16\t18\t20\t\n",
      "3\t6\t9\t12\t15\t18\t21\t24\t27\t30\t\n",
      "4\t8\t12\t16\t20\t24\t28\t32\t36\t40\t\n",
      "5\t10\t15\t20\t25\t30\t35\t40\t45\t50\t\n",
      "6\t12\t18\t24\t30\t36\t42\t48\t54\t60\t\n",
      "7\t14\t21\t28\t35\t42\t49\t56\t63\t70\t\n",
      "8\t16\t24\t32\t40\t48\t56\t64\t72\t80\t\n",
      "9\t18\t27\t36\t45\t54\t63\t72\t81\t90\t\n",
      "10\t20\t30\t40\t50\t60\t70\t80\t90\t100\t\n"
     ]
    }
   ],
   "source": [
    "for i in range(11):\n",
    "    \n",
    "    for j in range(1,11):\n",
    "        \n",
    "        print( i * j , end = \"\\t\")\n",
    "        \n",
    "    print()"
   ]
  },
  {
   "cell_type": "code",
   "execution_count": 47,
   "id": "da37eefa",
   "metadata": {
    "id": "da37eefa"
   },
   "outputs": [
    {
     "name": "stdout",
     "output_type": "stream",
     "text": [
      "Table of : 2\n",
      "2 X 1 = 2\n",
      "2 X 2 = 4\n",
      "2 X 3 = 6\n",
      "2 X 4 = 8\n",
      "2 X 5 = 10\n",
      "2 X 6 = 12\n",
      "2 X 7 = 14\n",
      "2 X 8 = 16\n",
      "2 X 9 = 18\n",
      "2 X 10 = 20\n",
      "\n",
      "End of multiplication table of  2 \n",
      "\n",
      "Table of : 3\n",
      "3 X 1 = 3\n",
      "3 X 2 = 6\n",
      "3 X 3 = 9\n",
      "3 X 4 = 12\n",
      "3 X 5 = 15\n",
      "3 X 6 = 18\n",
      "3 X 7 = 21\n",
      "3 X 8 = 24\n",
      "3 X 9 = 27\n",
      "3 X 10 = 30\n",
      "\n",
      "End of multiplication table of  3 \n",
      "\n",
      "Table of : 4\n",
      "4 X 1 = 4\n",
      "4 X 2 = 8\n",
      "4 X 3 = 12\n",
      "4 X 4 = 16\n",
      "4 X 5 = 20\n",
      "4 X 6 = 24\n",
      "4 X 7 = 28\n",
      "4 X 8 = 32\n",
      "4 X 9 = 36\n",
      "4 X 10 = 40\n",
      "\n",
      "End of multiplication table of  4 \n",
      "\n",
      "Table of : 5\n",
      "5 X 1 = 5\n",
      "5 X 2 = 10\n",
      "5 X 3 = 15\n",
      "5 X 4 = 20\n",
      "5 X 5 = 25\n",
      "5 X 6 = 30\n",
      "5 X 7 = 35\n",
      "5 X 8 = 40\n",
      "5 X 9 = 45\n",
      "5 X 10 = 50\n",
      "\n",
      "End of multiplication table of  5 \n",
      "\n",
      "Table of : 6\n",
      "6 X 1 = 6\n",
      "6 X 2 = 12\n",
      "6 X 3 = 18\n",
      "6 X 4 = 24\n",
      "6 X 5 = 30\n",
      "6 X 6 = 36\n",
      "6 X 7 = 42\n",
      "6 X 8 = 48\n",
      "6 X 9 = 54\n",
      "6 X 10 = 60\n",
      "\n",
      "End of multiplication table of  6 \n",
      "\n",
      "Table of : 7\n",
      "7 X 1 = 7\n",
      "7 X 2 = 14\n",
      "7 X 3 = 21\n",
      "7 X 4 = 28\n",
      "7 X 5 = 35\n",
      "7 X 6 = 42\n",
      "7 X 7 = 49\n",
      "7 X 8 = 56\n",
      "7 X 9 = 63\n",
      "7 X 10 = 70\n",
      "\n",
      "End of multiplication table of  7 \n",
      "\n",
      "Table of : 8\n",
      "8 X 1 = 8\n",
      "8 X 2 = 16\n",
      "8 X 3 = 24\n",
      "8 X 4 = 32\n",
      "8 X 5 = 40\n",
      "8 X 6 = 48\n",
      "8 X 7 = 56\n",
      "8 X 8 = 64\n",
      "8 X 9 = 72\n",
      "8 X 10 = 80\n",
      "\n",
      "End of multiplication table of  8 \n",
      "\n",
      "Table of : 9\n",
      "9 X 1 = 9\n",
      "9 X 2 = 18\n",
      "9 X 3 = 27\n",
      "9 X 4 = 36\n",
      "9 X 5 = 45\n",
      "9 X 6 = 54\n",
      "9 X 7 = 63\n",
      "9 X 8 = 72\n",
      "9 X 9 = 81\n",
      "9 X 10 = 90\n",
      "\n",
      "End of multiplication table of  9 \n",
      "\n",
      "Table of : 10\n",
      "10 X 1 = 10\n",
      "10 X 2 = 20\n",
      "10 X 3 = 30\n",
      "10 X 4 = 40\n",
      "10 X 5 = 50\n",
      "10 X 6 = 60\n",
      "10 X 7 = 70\n",
      "10 X 8 = 80\n",
      "10 X 9 = 90\n",
      "10 X 10 = 100\n",
      "\n",
      "End of multiplication table of  10 \n",
      "\n",
      "Thank You\n"
     ]
    }
   ],
   "source": [
    "# outer loop\n",
    "for j in range(2,11): # Outer Loop\n",
    "    print('Table of :', j)\n",
    "    # inner loop\n",
    "    for i in range(1,11):\n",
    "#         print(\"multiplication\")\n",
    "        print('{} X {} = {}'.format(j,i, j*i))\n",
    "    print('\\nEnd of multiplication table of ', j, '\\n')\n",
    "print('Thank You')"
   ]
  },
  {
   "cell_type": "code",
   "execution_count": 25,
   "id": "0c5852d5",
   "metadata": {},
   "outputs": [
    {
     "name": "stdout",
     "output_type": "stream",
     "text": [
      "* \n",
      "* * \n",
      "* * * \n",
      "* * * * \n",
      "* * * * * \n",
      "* * * * * * \n",
      "* * * * * * * \n",
      "* * * * * * * * \n",
      "* * * * * * * * * \n",
      "* * * * * * * * * * \n"
     ]
    }
   ],
   "source": [
    "n = 10\n",
    "\n",
    "for i in range(1, n+1):\n",
    "    for j in range(1, i+1):\n",
    "        print(\"*\", end = \" \")\n",
    "    print()"
   ]
  },
  {
   "cell_type": "markdown",
   "id": "945a4fd7",
   "metadata": {
    "id": "945a4fd7",
    "tags": []
   },
   "source": [
    "## Loop Control Statements"
   ]
  },
  {
   "cell_type": "code",
   "execution_count": null,
   "id": "f473b061",
   "metadata": {},
   "outputs": [],
   "source": [
    "# WAP where if \"s\" is encountered in the string, i want the program to end."
   ]
  },
  {
   "cell_type": "code",
   "execution_count": 52,
   "id": "e80867d3",
   "metadata": {
    "id": "e80867d3"
   },
   "outputs": [
    {
     "name": "stdout",
     "output_type": "stream",
     "text": [
      "P\n",
      "y\n",
      "End of Loop\n"
     ]
    }
   ],
   "source": [
    "for s in 'Python':\n",
    "    \n",
    "    if s == 't':\n",
    "        \n",
    "        break\n",
    "        \n",
    "    print(s)\n",
    "    \n",
    "print('End of Loop')"
   ]
  },
  {
   "cell_type": "code",
   "execution_count": 92,
   "id": "d15d44e1",
   "metadata": {
    "id": "d15d44e1"
   },
   "outputs": [
    {
     "name": "stdout",
     "output_type": "stream",
     "text": [
      "P\n",
      "y\n",
      "h\n",
      "o\n",
      "n\n",
      "End of Loop\n"
     ]
    }
   ],
   "source": [
    "for s in 'Python':\n",
    "    \n",
    "    if s == 't':\n",
    "        \n",
    "        continue\n",
    "        \n",
    "    print(s)\n",
    "    \n",
    "print('End of Loop')"
   ]
  },
  {
   "cell_type": "code",
   "execution_count": null,
   "id": "3987b708",
   "metadata": {},
   "outputs": [],
   "source": [
    "#  control + /"
   ]
  },
  {
   "cell_type": "code",
   "execution_count": null,
   "id": "d827f188",
   "metadata": {},
   "outputs": [],
   "source": []
  },
  {
   "cell_type": "code",
   "execution_count": 54,
   "id": "e1fec721",
   "metadata": {},
   "outputs": [
    {
     "name": "stdout",
     "output_type": "stream",
     "text": [
      "1\n",
      "2\n",
      "3\n",
      "4\n",
      "5\n",
      "Breaking at i 6\n"
     ]
    }
   ],
   "source": [
    "i = 1\n",
    "\n",
    "while i <= 10:\n",
    "    if i == 6:\n",
    "        print(\"Breaking at i\", i)\n",
    "        break\n",
    "    print(i)\n",
    "    i = i + 1"
   ]
  },
  {
   "cell_type": "code",
   "execution_count": 101,
   "id": "ec01deed",
   "metadata": {},
   "outputs": [
    {
     "name": "stdout",
     "output_type": "stream",
     "text": [
      "1\n",
      "2\n",
      "3\n",
      "4\n",
      "5\n",
      "Skipping at i 6\n",
      "7\n",
      "8\n",
      "9\n",
      "10\n"
     ]
    }
   ],
   "source": [
    "i = 1\n",
    "\n",
    "while i <= 10:\n",
    "    if i == 6:\n",
    "        print(\"Skipping at i\", i)\n",
    "        i = i + 1\n",
    "        continue\n",
    "    print(i)\n",
    "    i = i + 1"
   ]
  },
  {
   "cell_type": "code",
   "execution_count": null,
   "id": "3f0e3922",
   "metadata": {},
   "outputs": [],
   "source": [
    "# WAP to print all the number from 1 to 30 which do not have any multiples of 3 and 5"
   ]
  },
  {
   "cell_type": "code",
   "execution_count": 60,
   "id": "2b908fe8",
   "metadata": {},
   "outputs": [
    {
     "name": "stdout",
     "output_type": "stream",
     "text": [
      "1\n",
      "2\n",
      "4\n",
      "7\n",
      "8\n",
      "11\n",
      "13\n",
      "14\n",
      "16\n",
      "17\n",
      "19\n",
      "22\n",
      "23\n",
      "26\n",
      "28\n",
      "29\n"
     ]
    }
   ],
   "source": [
    "for i in range(1,31):\n",
    "    \n",
    "    if (i % 3 == 0 or i % 5  == 0):\n",
    "        \n",
    "        continue\n",
    "        \n",
    "    print(i)"
   ]
  },
  {
   "cell_type": "code",
   "execution_count": 63,
   "id": "3ba033a7",
   "metadata": {},
   "outputs": [
    {
     "name": "stdout",
     "output_type": "stream",
     "text": [
      "1\n",
      "2\n",
      "4\n",
      "7\n",
      "8\n",
      "11\n",
      "13\n",
      "14\n",
      "16\n",
      "17\n",
      "19\n",
      "22\n",
      "23\n",
      "26\n",
      "28\n",
      "29\n"
     ]
    }
   ],
   "source": [
    "for i in range(1, 30):\n",
    "    if i % 3 != 0 and i % 5 != 0:\n",
    "        print(i)"
   ]
  },
  {
   "cell_type": "code",
   "execution_count": null,
   "id": "8c8b7ef6",
   "metadata": {},
   "outputs": [],
   "source": [
    "# We are going to create a Password Checker mechanism using loops and break\n"
   ]
  },
  {
   "cell_type": "code",
   "execution_count": 67,
   "id": "456592c8",
   "metadata": {},
   "outputs": [
    {
     "name": "stdout",
     "output_type": "stream",
     "text": [
      "Enter your password : Raghav\n",
      "Wrong Password, please enter Again --> 2 : Attempts Left\n",
      "Enter your password : Welcome123\n",
      "Access Granted\n"
     ]
    }
   ],
   "source": [
    "user_password = \"Welcome123\"\n",
    "\n",
    "max_attempts = 3\n",
    "\n",
    "for attempt in range(max_attempts):\n",
    "    \n",
    "    password = input(\"Enter your password : \")\n",
    "    \n",
    "    if password == user_password:\n",
    "        \n",
    "        print(\"Access Granted, you may proceed now.\")\n",
    "        \n",
    "        break\n",
    "        \n",
    "    else:\n",
    "        \n",
    "        reaming_attempts = max_attempts - (attempt + 1)\n",
    "        \n",
    "        print(\"Wrong Password, please enter Again -->\", reaming_attempts , \": Attempts Left\")\n",
    "        \n",
    "    if attempt == max_attempts  - 1:\n",
    "        \n",
    "        print(\"Access Denied, too many attempts. Please try after 15 mins\")"
   ]
  },
  {
   "cell_type": "markdown",
   "id": "2dc4c990",
   "metadata": {
    "id": "2dc4c990"
   },
   "source": [
    "## Loop Else Statements"
   ]
  },
  {
   "cell_type": "code",
   "execution_count": 70,
   "id": "e1373057",
   "metadata": {},
   "outputs": [],
   "source": [
    "for i in range(5):\n",
    "    \n",
    "    if i == 3:\n",
    "        \n",
    "        break\n",
    "else:\n",
    "    print(\"This will only execute if the loop runs without breaking\")"
   ]
  },
  {
   "cell_type": "code",
   "execution_count": 72,
   "id": "c75563ee",
   "metadata": {
    "id": "c75563ee"
   },
   "outputs": [
    {
     "name": "stdout",
     "output_type": "stream",
     "text": [
      "Enter edible item :spam\n",
      "No more spam please !!\n",
      "Finally finshed stuffing myself!!\n"
     ]
    }
   ],
   "source": [
    "for i in range(5):\n",
    "    \n",
    "    food = input('Enter edible item :')\n",
    "    \n",
    "    if food == 'spam':\n",
    "        \n",
    "        print('No more spam please !!')\n",
    "        \n",
    "        break\n",
    "        \n",
    "    print('Great Delicious')\n",
    "    \n",
    "else:\n",
    "    print('I am so glad !! No Spam')\n",
    "    \n",
    "print('Finally finshed stuffing myself!!')"
   ]
  },
  {
   "cell_type": "code",
   "execution_count": 73,
   "id": "37274877",
   "metadata": {},
   "outputs": [
    {
     "name": "stdout",
     "output_type": "stream",
     "text": [
      "Enter edible item :gfgd\n",
      "Great Delicious\n",
      "Enter edible item :gfdhdh\n",
      "Great Delicious\n",
      "Enter edible item :bghdhd\n",
      "Great Delicious\n",
      "Enter edible item :vfhdjd\n",
      "Great Delicious\n",
      "Enter edible item :bdhd\n",
      "Great Delicious\n",
      "I am so glad !! No Spam\n",
      "Finally finshed stuffing myself!!\n"
     ]
    }
   ],
   "source": [
    "for i in range(5):\n",
    "    \n",
    "    food = input('Enter edible item :')\n",
    "    \n",
    "    if food == 'spam':\n",
    "        \n",
    "        print('No more spam please !!')\n",
    "        \n",
    "        break\n",
    "        \n",
    "    print('Great Delicious')\n",
    "    \n",
    "else:\n",
    "    print('I am so glad !! No Spam')\n",
    "    \n",
    "print('Finally finshed stuffing myself!!')"
   ]
  },
  {
   "cell_type": "code",
   "execution_count": null,
   "id": "46500e79",
   "metadata": {},
   "outputs": [],
   "source": [
    "# ELSE is with FOR - FOR ELSE"
   ]
  },
  {
   "cell_type": "code",
   "execution_count": null,
   "id": "9c3b6a49",
   "metadata": {
    "id": "9c3b6a49"
   },
   "outputs": [],
   "source": [
    "for i in range(5):\n",
    "    food = input('Enter edible item :')\n",
    "    if food == 'spam':\n",
    "        print('No more spam please !!')\n",
    "        break\n",
    "    print('Great Delicious ')\n",
    "else :\n",
    "    print('I am so glad !! No Spam')\n",
    "print('Finally finshed stuffing myself!!')"
   ]
  },
  {
   "cell_type": "code",
   "execution_count": null,
   "id": "04c56b4f",
   "metadata": {},
   "outputs": [],
   "source": []
  }
 ],
 "metadata": {
  "colab": {
   "provenance": []
  },
  "kernelspec": {
   "display_name": "Python 3 (ipykernel)",
   "language": "python",
   "name": "python3"
  },
  "language_info": {
   "codemirror_mode": {
    "name": "ipython",
    "version": 3
   },
   "file_extension": ".py",
   "mimetype": "text/x-python",
   "name": "python",
   "nbconvert_exporter": "python",
   "pygments_lexer": "ipython3",
   "version": "3.10.4"
  }
 },
 "nbformat": 4,
 "nbformat_minor": 5
}
