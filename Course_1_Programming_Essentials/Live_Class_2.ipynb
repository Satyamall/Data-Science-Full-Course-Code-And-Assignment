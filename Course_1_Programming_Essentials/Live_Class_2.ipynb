{
 "cells": [
  {
   "cell_type": "code",
   "execution_count": 1,
   "id": "c6f0a319",
   "metadata": {},
   "outputs": [
    {
     "name": "stdout",
     "output_type": "stream",
     "text": [
      "Hello Hi\n"
     ]
    }
   ],
   "source": [
    "print(\"Hello Hi\")"
   ]
  },
  {
   "cell_type": "code",
   "execution_count": null,
   "id": "9dba3a37",
   "metadata": {},
   "outputs": [],
   "source": []
  },
  {
   "cell_type": "code",
   "execution_count": 21,
   "id": "eacad126",
   "metadata": {},
   "outputs": [
    {
     "name": "stdout",
     "output_type": "stream",
     "text": [
      "30\n"
     ]
    }
   ],
   "source": [
    "# Add 2 numbers using Python\n",
    "\n",
    "a = int(10.9)\n",
    "b = int(20)\n",
    "c = a + b\n",
    "\n",
    "print(c)"
   ]
  },
  {
   "cell_type": "code",
   "execution_count": 22,
   "id": "b712b3e0",
   "metadata": {},
   "outputs": [
    {
     "name": "stdout",
     "output_type": "stream",
     "text": [
      "10\n"
     ]
    }
   ],
   "source": [
    "print(a)"
   ]
  },
  {
   "cell_type": "code",
   "execution_count": 15,
   "id": "3bbc2842",
   "metadata": {},
   "outputs": [
    {
     "name": "stdout",
     "output_type": "stream",
     "text": [
      "<class 'int'> <class 'int'> <class 'int'>\n"
     ]
    }
   ],
   "source": [
    "print(type(a),type(b),type(c))"
   ]
  },
  {
   "cell_type": "code",
   "execution_count": 16,
   "id": "fc4c66d3",
   "metadata": {},
   "outputs": [],
   "source": [
    "amount = a + b + c"
   ]
  },
  {
   "cell_type": "code",
   "execution_count": 17,
   "id": "a5f33b58",
   "metadata": {},
   "outputs": [
    {
     "name": "stdout",
     "output_type": "stream",
     "text": [
      "60\n"
     ]
    }
   ],
   "source": [
    "print(amount)"
   ]
  },
  {
   "cell_type": "code",
   "execution_count": 18,
   "id": "5c46a56b",
   "metadata": {},
   "outputs": [
    {
     "name": "stdout",
     "output_type": "stream",
     "text": [
      "<class 'int'>\n"
     ]
    }
   ],
   "source": [
    "print(type(amount))"
   ]
  },
  {
   "cell_type": "code",
   "execution_count": null,
   "id": "d9ce4f78",
   "metadata": {},
   "outputs": [],
   "source": [
    "#include <stdio.h>\n",
    "\n",
    "int main() {\n",
    "    int num1, num2, sum;\n",
    "\n",
    "    // Input two numbers from user\n",
    "    printf(\"Enter two numbers: \");\n",
    "    scanf(\"%d %d\", &num1, &num2);\n",
    "\n",
    "    // Add two numbers\n",
    "    sum = num1 + num2;\n",
    "\n",
    "    // Display the result\n",
    "    printf(\"Sum = %d\\n\", sum);\n",
    "\n",
    "    return 0;\n",
    "}\n"
   ]
  },
  {
   "cell_type": "code",
   "execution_count": 5,
   "id": "0a677298",
   "metadata": {},
   "outputs": [],
   "source": [
    "s = \"     Raghav.   \""
   ]
  },
  {
   "cell_type": "code",
   "execution_count": 6,
   "id": "01c15b98",
   "metadata": {},
   "outputs": [
    {
     "data": {
      "text/plain": [
       "15"
      ]
     },
     "execution_count": 6,
     "metadata": {},
     "output_type": "execute_result"
    }
   ],
   "source": [
    "len(s)"
   ]
  },
  {
   "cell_type": "code",
   "execution_count": 15,
   "id": "e6f71106",
   "metadata": {},
   "outputs": [
    {
     "ename": "SyntaxError",
     "evalue": "invalid syntax. Perhaps you forgot a comma? (1125169699.py, line 1)",
     "output_type": "error",
     "traceback": [
      "\u001b[0;36m  Input \u001b[0;32mIn [15]\u001b[0;36m\u001b[0m\n\u001b[0;31m    list1 = [\"Raghav\",         '   Raghav',2 1, 22,  21,  34,45,34,67,  67,  89.99]\u001b[0m\n\u001b[0m                                           ^\u001b[0m\n\u001b[0;31mSyntaxError\u001b[0m\u001b[0;31m:\u001b[0m invalid syntax. Perhaps you forgot a comma?\n"
     ]
    }
   ],
   "source": [
    "list1 = [\"Raghav\",         '   Raghav',21, 22,  21,  34,45,34,67,  67,  89.99]"
   ]
  },
  {
   "cell_type": "code",
   "execution_count": 10,
   "id": "b82aedcd",
   "metadata": {},
   "outputs": [
    {
     "name": "stdout",
     "output_type": "stream",
     "text": [
      "['Raghav', '   Raghav', 21, 22, 21, 34, 45, 34, 67, 67, 89.99]\n"
     ]
    }
   ],
   "source": [
    "print(list1)"
   ]
  },
  {
   "cell_type": "code",
   "execution_count": 11,
   "id": "ca062453",
   "metadata": {},
   "outputs": [],
   "source": [
    "set1 = set(list1)"
   ]
  },
  {
   "cell_type": "code",
   "execution_count": 12,
   "id": "59544a08",
   "metadata": {},
   "outputs": [
    {
     "data": {
      "text/plain": [
       "{'   Raghav', 21, 22, 34, 45, 67, 89.99, 'Raghav'}"
      ]
     },
     "execution_count": 12,
     "metadata": {},
     "output_type": "execute_result"
    }
   ],
   "source": [
    "set1"
   ]
  },
  {
   "cell_type": "code",
   "execution_count": 14,
   "id": "08c74790",
   "metadata": {},
   "outputs": [],
   "source": [
    "set2 = {1,2,2,2,2,2,2,3,4,5,6,23,7,55}"
   ]
  },
  {
   "cell_type": "code",
   "execution_count": 16,
   "id": "4563707f",
   "metadata": {},
   "outputs": [],
   "source": [
    "# Lists : They are data structure in python which is ordered, multable and it allows repetition"
   ]
  },
  {
   "cell_type": "code",
   "execution_count": null,
   "id": "34ec5535",
   "metadata": {},
   "outputs": [],
   "source": [
    "Response_1 = [\"Raghav\",\"Raghav\"]"
   ]
  },
  {
   "cell_type": "code",
   "execution_count": 17,
   "id": "e897319a",
   "metadata": {},
   "outputs": [
    {
     "data": {
      "text/plain": [
       "['Raghav', '   Raghav', 21, 22, 21, 34, 45, 34, 67, 67, 89.99]"
      ]
     },
     "execution_count": 17,
     "metadata": {},
     "output_type": "execute_result"
    }
   ],
   "source": [
    "list1"
   ]
  },
  {
   "cell_type": "code",
   "execution_count": 24,
   "id": "d6f69739",
   "metadata": {},
   "outputs": [],
   "source": [
    "list1[1] = 999999"
   ]
  },
  {
   "cell_type": "code",
   "execution_count": 25,
   "id": "a4710b8c",
   "metadata": {},
   "outputs": [
    {
     "data": {
      "text/plain": [
       "['Raghav', 999999, 21, 22, 21, 34, 45, 34, 67, 67, 89.99]"
      ]
     },
     "execution_count": 25,
     "metadata": {},
     "output_type": "execute_result"
    }
   ],
   "source": [
    "list1"
   ]
  },
  {
   "cell_type": "code",
   "execution_count": 21,
   "id": "c8e77d84",
   "metadata": {},
   "outputs": [],
   "source": [
    "tuple1 = ('Raghav', '   Raghav', 21, 22, 21, 34, 45, 34, 67, 67, 89.99)"
   ]
  },
  {
   "cell_type": "code",
   "execution_count": 22,
   "id": "340a900a",
   "metadata": {},
   "outputs": [
    {
     "name": "stdout",
     "output_type": "stream",
     "text": [
      "<class 'tuple'>\n"
     ]
    }
   ],
   "source": [
    "print(type(tuple1))"
   ]
  },
  {
   "cell_type": "code",
   "execution_count": 27,
   "id": "a2311a4b",
   "metadata": {},
   "outputs": [
    {
     "data": {
      "text/plain": [
       "'   Raghav'"
      ]
     },
     "execution_count": 27,
     "metadata": {},
     "output_type": "execute_result"
    }
   ],
   "source": [
    "tuple1[1] # DICING the Iterable"
   ]
  },
  {
   "cell_type": "code",
   "execution_count": 26,
   "id": "4aabc35a",
   "metadata": {},
   "outputs": [
    {
     "ename": "TypeError",
     "evalue": "'tuple' object does not support item assignment",
     "output_type": "error",
     "traceback": [
      "\u001b[0;31m---------------------------------------------------------------------------\u001b[0m",
      "\u001b[0;31mTypeError\u001b[0m                                 Traceback (most recent call last)",
      "Input \u001b[0;32mIn [26]\u001b[0m, in \u001b[0;36m<cell line: 1>\u001b[0;34m()\u001b[0m\n\u001b[0;32m----> 1\u001b[0m tuple1[\u001b[38;5;241m1\u001b[39m] \u001b[38;5;241m=\u001b[39m \u001b[38;5;241m99999999\u001b[39m\n",
      "\u001b[0;31mTypeError\u001b[0m: 'tuple' object does not support item assignment"
     ]
    }
   ],
   "source": [
    "tuple1[1] = 99999999"
   ]
  },
  {
   "cell_type": "code",
   "execution_count": 28,
   "id": "ce67435f",
   "metadata": {},
   "outputs": [
    {
     "data": {
      "text/plain": [
       "['Raghav', 999999, 21, 22, 21, 34, 45, 34, 67, 67, 89.99]"
      ]
     },
     "execution_count": 28,
     "metadata": {},
     "output_type": "execute_result"
    }
   ],
   "source": [
    "list1"
   ]
  },
  {
   "cell_type": "code",
   "execution_count": null,
   "id": "18e8d355",
   "metadata": {},
   "outputs": [],
   "source": [
    "# Now we want to slice these elements from the list : \"999999, 21, 22, 21\""
   ]
  },
  {
   "cell_type": "code",
   "execution_count": null,
   "id": "0508c98e",
   "metadata": {},
   "outputs": [],
   "source": [
    "# syntax = Identifier[ Index of fist elemtns to be sliced : Index of the last eement to be sliced + 1]"
   ]
  },
  {
   "cell_type": "code",
   "execution_count": 31,
   "id": "028a1538",
   "metadata": {},
   "outputs": [
    {
     "data": {
      "text/plain": [
       "[999999, 21, 22]"
      ]
     },
     "execution_count": 31,
     "metadata": {},
     "output_type": "execute_result"
    }
   ],
   "source": [
    "list1[1:4]"
   ]
  },
  {
   "cell_type": "code",
   "execution_count": 32,
   "id": "9a6ff62f",
   "metadata": {},
   "outputs": [
    {
     "data": {
      "text/plain": [
       "[999999, 21, 22, 21]"
      ]
     },
     "execution_count": 32,
     "metadata": {},
     "output_type": "execute_result"
    }
   ],
   "source": [
    "list1[1:5]"
   ]
  },
  {
   "cell_type": "code",
   "execution_count": 33,
   "id": "b54821fa",
   "metadata": {},
   "outputs": [
    {
     "data": {
      "text/plain": [
       "('   Raghav', 21, 22, 21)"
      ]
     },
     "execution_count": 33,
     "metadata": {},
     "output_type": "execute_result"
    }
   ],
   "source": [
    "tuple1[1:5]"
   ]
  },
  {
   "cell_type": "code",
   "execution_count": 35,
   "id": "f77ddc8b",
   "metadata": {},
   "outputs": [],
   "source": [
    "list1[1:5] = [55]"
   ]
  },
  {
   "cell_type": "code",
   "execution_count": 36,
   "id": "c63a18f7",
   "metadata": {},
   "outputs": [
    {
     "data": {
      "text/plain": [
       "['Raghav', 55, 34, 45, 34, 67, 67, 89.99]"
      ]
     },
     "execution_count": 36,
     "metadata": {},
     "output_type": "execute_result"
    }
   ],
   "source": [
    "list1"
   ]
  },
  {
   "cell_type": "code",
   "execution_count": 38,
   "id": "000c202c",
   "metadata": {},
   "outputs": [],
   "source": [
    "# Dictorary"
   ]
  },
  {
   "cell_type": "code",
   "execution_count": null,
   "id": "8fd85c0c",
   "metadata": {},
   "outputs": [],
   "source": [
    "# Is another data structure which works in KEY VALUE PAIRS"
   ]
  },
  {
   "cell_type": "code",
   "execution_count": 39,
   "id": "1b976cc1",
   "metadata": {},
   "outputs": [],
   "source": [
    "dict1 = {\n",
    "    \n",
    "    \"Key\":\"Value\",\n",
    "    \"Name\":\"Raghav\",\n",
    "    \"Age\" :33,\n",
    "    \"Country\" : \"India\",\n",
    "    \"Gender\" : \"Male\"\n",
    "}"
   ]
  },
  {
   "cell_type": "code",
   "execution_count": 40,
   "id": "5b077a48",
   "metadata": {},
   "outputs": [
    {
     "name": "stdout",
     "output_type": "stream",
     "text": [
      "<class 'dict'>\n"
     ]
    }
   ],
   "source": [
    "print(type(dict1))"
   ]
  },
  {
   "cell_type": "code",
   "execution_count": 41,
   "id": "a1afcd71",
   "metadata": {},
   "outputs": [
    {
     "name": "stdout",
     "output_type": "stream",
     "text": [
      "{'Key': 'Value', 'Name': 'Raghav', 'Age': 33, 'Country': 'India', 'Gender': 'Male'}\n"
     ]
    }
   ],
   "source": [
    "print(dict1)"
   ]
  },
  {
   "cell_type": "code",
   "execution_count": 59,
   "id": "93c3b117",
   "metadata": {},
   "outputs": [],
   "source": [
    "dict2 = {\n",
    "    \n",
    "    \"Name\" :[\"Raghav\",\"Anuj\", \"Mafizur\",\"Rima\"],\n",
    "    \"Age\" :[33,30,28,27],\n",
    "    \"Gender\":[\"M\",\"M\",\"M\",\"F\"]\n",
    "}"
   ]
  },
  {
   "cell_type": "code",
   "execution_count": 60,
   "id": "d3524895",
   "metadata": {},
   "outputs": [
    {
     "name": "stdout",
     "output_type": "stream",
     "text": [
      "{'Name': ['Raghav', 'Anuj', 'Mafizur', 'Rima'], 'Age': [33, 30, 28, 27], 'Gender': ['M', 'M', 'M', 'F']}\n"
     ]
    }
   ],
   "source": [
    "print(dict2)"
   ]
  },
  {
   "cell_type": "code",
   "execution_count": 61,
   "id": "cb14da55",
   "metadata": {},
   "outputs": [],
   "source": [
    "# Data Prep for analyisis"
   ]
  },
  {
   "cell_type": "code",
   "execution_count": null,
   "id": "ed9af14c",
   "metadata": {},
   "outputs": [],
   "source": []
  },
  {
   "cell_type": "code",
   "execution_count": 71,
   "id": "b8226ceb",
   "metadata": {},
   "outputs": [],
   "source": [
    "# Pandas Library is based on C and uses Array as the data type\n",
    "\n",
    "import pandas\n",
    "\n",
    "df = pandas.DataFrame(dict2)"
   ]
  },
  {
   "cell_type": "code",
   "execution_count": 72,
   "id": "d44bb09a",
   "metadata": {},
   "outputs": [
    {
     "data": {
      "text/html": [
       "<div>\n",
       "<style scoped>\n",
       "    .dataframe tbody tr th:only-of-type {\n",
       "        vertical-align: middle;\n",
       "    }\n",
       "\n",
       "    .dataframe tbody tr th {\n",
       "        vertical-align: top;\n",
       "    }\n",
       "\n",
       "    .dataframe thead th {\n",
       "        text-align: right;\n",
       "    }\n",
       "</style>\n",
       "<table border=\"1\" class=\"dataframe\">\n",
       "  <thead>\n",
       "    <tr style=\"text-align: right;\">\n",
       "      <th></th>\n",
       "      <th>Name</th>\n",
       "      <th>Age</th>\n",
       "      <th>Gender</th>\n",
       "    </tr>\n",
       "  </thead>\n",
       "  <tbody>\n",
       "    <tr>\n",
       "      <th>0</th>\n",
       "      <td>Raghav</td>\n",
       "      <td>33</td>\n",
       "      <td>M</td>\n",
       "    </tr>\n",
       "    <tr>\n",
       "      <th>1</th>\n",
       "      <td>Anuj</td>\n",
       "      <td>30</td>\n",
       "      <td>M</td>\n",
       "    </tr>\n",
       "    <tr>\n",
       "      <th>2</th>\n",
       "      <td>Mafizur</td>\n",
       "      <td>28</td>\n",
       "      <td>M</td>\n",
       "    </tr>\n",
       "    <tr>\n",
       "      <th>3</th>\n",
       "      <td>Rima</td>\n",
       "      <td>27</td>\n",
       "      <td>F</td>\n",
       "    </tr>\n",
       "  </tbody>\n",
       "</table>\n",
       "</div>"
      ],
      "text/plain": [
       "      Name  Age Gender\n",
       "0   Raghav   33      M\n",
       "1     Anuj   30      M\n",
       "2  Mafizur   28      M\n",
       "3     Rima   27      F"
      ]
     },
     "execution_count": 72,
     "metadata": {},
     "output_type": "execute_result"
    }
   ],
   "source": [
    "df"
   ]
  },
  {
   "cell_type": "code",
   "execution_count": 73,
   "id": "10852a41",
   "metadata": {},
   "outputs": [
    {
     "name": "stdout",
     "output_type": "stream",
     "text": [
      "<class 'pandas.core.frame.DataFrame'>\n"
     ]
    }
   ],
   "source": [
    "print(type(df))"
   ]
  },
  {
   "cell_type": "code",
   "execution_count": 49,
   "id": "84b96c1c",
   "metadata": {},
   "outputs": [],
   "source": [
    "dict2[\"Age\"][1] = 32"
   ]
  },
  {
   "cell_type": "code",
   "execution_count": 50,
   "id": "7b0d3275",
   "metadata": {},
   "outputs": [
    {
     "data": {
      "text/plain": [
       "{'Name': ['Raghav', 'Anuj', 'Mafizur', 'Rima'],\n",
       " 'Age': [33, 32, 28, 27],\n",
       " 'Gender': ['M', 'M', 'M', 'F']}"
      ]
     },
     "execution_count": 50,
     "metadata": {},
     "output_type": "execute_result"
    }
   ],
   "source": [
    "dict2"
   ]
  },
  {
   "cell_type": "code",
   "execution_count": 51,
   "id": "b7200373",
   "metadata": {},
   "outputs": [],
   "source": [
    "# Adding a key value pair\n",
    "\n",
    "dict2[\"Country\"] = \"India\""
   ]
  },
  {
   "cell_type": "code",
   "execution_count": 52,
   "id": "11812962",
   "metadata": {},
   "outputs": [
    {
     "data": {
      "text/plain": [
       "{'Name': ['Raghav', 'Anuj', 'Mafizur', 'Rima'],\n",
       " 'Age': [33, 32, 28, 27],\n",
       " 'Gender': ['M', 'M', 'M', 'F'],\n",
       " 'Country': 'India'}"
      ]
     },
     "execution_count": 52,
     "metadata": {},
     "output_type": "execute_result"
    }
   ],
   "source": [
    "dict2"
   ]
  },
  {
   "cell_type": "code",
   "execution_count": 64,
   "id": "aca10b54",
   "metadata": {},
   "outputs": [],
   "source": [
    "list3 = [1,2,3,4]"
   ]
  },
  {
   "cell_type": "code",
   "execution_count": 65,
   "id": "03b59879",
   "metadata": {},
   "outputs": [],
   "source": [
    "# Now to the above list i want to add an emelent\n",
    "\n",
    "# USE APPEND\n",
    "\n",
    "list3.append(\"Raghav\")"
   ]
  },
  {
   "cell_type": "code",
   "execution_count": 66,
   "id": "cfd6cf49",
   "metadata": {},
   "outputs": [
    {
     "data": {
      "text/plain": [
       "[1, 2, 3, 4, 'Raghav']"
      ]
     },
     "execution_count": 66,
     "metadata": {},
     "output_type": "execute_result"
    }
   ],
   "source": [
    "list3"
   ]
  },
  {
   "cell_type": "code",
   "execution_count": 67,
   "id": "c8622f9d",
   "metadata": {},
   "outputs": [],
   "source": [
    "list4 = [34,56,67,[67,78,89]]"
   ]
  },
  {
   "cell_type": "code",
   "execution_count": 68,
   "id": "ffb43763",
   "metadata": {},
   "outputs": [
    {
     "data": {
      "text/plain": [
       "[34, 56, 67, [67, 78, 89]]"
      ]
     },
     "execution_count": 68,
     "metadata": {},
     "output_type": "execute_result"
    }
   ],
   "source": [
    "list4"
   ]
  },
  {
   "cell_type": "code",
   "execution_count": 69,
   "id": "a801e479",
   "metadata": {},
   "outputs": [],
   "source": [
    "dict3 = {\n",
    "    \n",
    "    \"Key\" : list4\n",
    "}"
   ]
  },
  {
   "cell_type": "code",
   "execution_count": 70,
   "id": "4e9c44f6",
   "metadata": {},
   "outputs": [
    {
     "data": {
      "text/plain": [
       "{'Key': [34, 56, 67, [67, 78, 89]]}"
      ]
     },
     "execution_count": 70,
     "metadata": {},
     "output_type": "execute_result"
    }
   ],
   "source": [
    "dict3"
   ]
  },
  {
   "cell_type": "markdown",
   "id": "8d84e95e",
   "metadata": {
    "id": "8d84e95e"
   },
   "source": [
    "# Data Types"
   ]
  },
  {
   "cell_type": "code",
   "execution_count": null,
   "id": "25460612",
   "metadata": {
    "id": "25460612"
   },
   "outputs": [],
   "source": [
    "x = 34 ; y = 67.89 ; z = True\n",
    "print('x = ', x, '\\ty = ', y, '\\tz = ', z)"
   ]
  },
  {
   "cell_type": "code",
   "execution_count": null,
   "id": "a0ba3932",
   "metadata": {
    "id": "a0ba3932"
   },
   "outputs": [],
   "source": [
    "print('Type of \\nx = ', type(x), '\\ty = ', type(y), '\\tz = ', type(z))"
   ]
  },
  {
   "cell_type": "code",
   "execution_count": null,
   "id": "cf515aa8",
   "metadata": {
    "id": "cf515aa8"
   },
   "outputs": [],
   "source": [
    "var = 'abc'\n",
    "print('var = ', var)\n",
    "print('type of var ', type(var))"
   ]
  },
  {
   "cell_type": "markdown",
   "id": "c9fcbcd0",
   "metadata": {
    "id": "c9fcbcd0"
   },
   "source": [
    "## Data Type Conversion\n",
    "Data type conversion in Python refers to the process of converting a value from one data type to another."
   ]
  },
  {
   "cell_type": "code",
   "execution_count": 74,
   "id": "72cd4a8d",
   "metadata": {
    "id": "72cd4a8d",
    "outputId": "acab230f-4644-4437-8441-7b7c818410de"
   },
   "outputs": [
    {
     "data": {
      "text/plain": [
       "45"
      ]
     },
     "execution_count": 74,
     "metadata": {},
     "output_type": "execute_result"
    }
   ],
   "source": [
    "x = 45.77\n",
    "int(x)"
   ]
  },
  {
   "cell_type": "code",
   "execution_count": 75,
   "id": "2b0ded59",
   "metadata": {
    "id": "2b0ded59"
   },
   "outputs": [
    {
     "data": {
      "text/plain": [
       "'45.77'"
      ]
     },
     "execution_count": 75,
     "metadata": {},
     "output_type": "execute_result"
    }
   ],
   "source": [
    "str(x)"
   ]
  },
  {
   "cell_type": "code",
   "execution_count": null,
   "id": "48919e44",
   "metadata": {},
   "outputs": [],
   "source": [
    "# If we are typecasting any number to boolean which is NOT ZERO, its value will be 1.\n",
    "# Only for ZERO it will be false."
   ]
  },
  {
   "cell_type": "code",
   "execution_count": null,
   "id": "f68b4a25",
   "metadata": {
    "id": "f68b4a25",
    "outputId": "8483c949-9980-4392-c1aa-3d0fb2739094"
   },
   "outputs": [
    {
     "data": {
      "text/plain": [
       "True"
      ]
     },
     "execution_count": 46,
     "metadata": {},
     "output_type": "execute_result"
    }
   ],
   "source": [
    "bool(x)"
   ]
  },
  {
   "cell_type": "code",
   "execution_count": 76,
   "id": "a3d0cdbf",
   "metadata": {},
   "outputs": [
    {
     "data": {
      "text/plain": [
       "True"
      ]
     },
     "execution_count": 76,
     "metadata": {},
     "output_type": "execute_result"
    }
   ],
   "source": [
    "bool(-9)"
   ]
  },
  {
   "cell_type": "code",
   "execution_count": 77,
   "id": "35b33626",
   "metadata": {},
   "outputs": [
    {
     "data": {
      "text/plain": [
       "False"
      ]
     },
     "execution_count": 77,
     "metadata": {},
     "output_type": "execute_result"
    }
   ],
   "source": [
    "bool(0)"
   ]
  },
  {
   "cell_type": "code",
   "execution_count": 78,
   "id": "e072e906",
   "metadata": {},
   "outputs": [
    {
     "data": {
      "text/plain": [
       "True"
      ]
     },
     "execution_count": 78,
     "metadata": {},
     "output_type": "execute_result"
    }
   ],
   "source": [
    "bool(\"r\")"
   ]
  },
  {
   "cell_type": "code",
   "execution_count": 79,
   "id": "d351bbfa",
   "metadata": {
    "id": "d351bbfa"
   },
   "outputs": [],
   "source": [
    "y = '45.88'"
   ]
  },
  {
   "cell_type": "code",
   "execution_count": 80,
   "id": "93e2a82a",
   "metadata": {},
   "outputs": [
    {
     "name": "stdout",
     "output_type": "stream",
     "text": [
      "<class 'str'>\n"
     ]
    }
   ],
   "source": [
    "print(type(y))"
   ]
  },
  {
   "cell_type": "code",
   "execution_count": 81,
   "id": "98c1dec6",
   "metadata": {},
   "outputs": [
    {
     "ename": "ValueError",
     "evalue": "invalid literal for int() with base 10: '45.88'",
     "output_type": "error",
     "traceback": [
      "\u001b[0;31m---------------------------------------------------------------------------\u001b[0m",
      "\u001b[0;31mValueError\u001b[0m                                Traceback (most recent call last)",
      "Input \u001b[0;32mIn [81]\u001b[0m, in \u001b[0;36m<cell line: 1>\u001b[0;34m()\u001b[0m\n\u001b[0;32m----> 1\u001b[0m \u001b[38;5;28;43mint\u001b[39;49m\u001b[43m(\u001b[49m\u001b[43my\u001b[49m\u001b[43m)\u001b[49m\n",
      "\u001b[0;31mValueError\u001b[0m: invalid literal for int() with base 10: '45.88'"
     ]
    }
   ],
   "source": [
    "int(y)"
   ]
  },
  {
   "cell_type": "code",
   "execution_count": 82,
   "id": "8a4e5f55",
   "metadata": {
    "id": "8a4e5f55",
    "outputId": "98ff4fbb-87c3-46a1-df8d-500258c4e680"
   },
   "outputs": [
    {
     "data": {
      "text/plain": [
       "45.88"
      ]
     },
     "execution_count": 82,
     "metadata": {},
     "output_type": "execute_result"
    }
   ],
   "source": [
    "float(y)"
   ]
  },
  {
   "cell_type": "code",
   "execution_count": 83,
   "id": "0c0fb6f6",
   "metadata": {},
   "outputs": [],
   "source": [
    "z = \"45\""
   ]
  },
  {
   "cell_type": "code",
   "execution_count": 84,
   "id": "0a356d5b",
   "metadata": {},
   "outputs": [
    {
     "data": {
      "text/plain": [
       "45.0"
      ]
     },
     "execution_count": 84,
     "metadata": {},
     "output_type": "execute_result"
    }
   ],
   "source": [
    "float(z)"
   ]
  },
  {
   "cell_type": "code",
   "execution_count": 85,
   "id": "ce8ef692",
   "metadata": {
    "id": "ce8ef692",
    "outputId": "0c5b52d3-c2db-4cac-fd33-2aabd064ca26"
   },
   "outputs": [
    {
     "data": {
      "text/plain": [
       "45"
      ]
     },
     "execution_count": 85,
     "metadata": {},
     "output_type": "execute_result"
    }
   ],
   "source": [
    "int(float(y))"
   ]
  },
  {
   "cell_type": "code",
   "execution_count": 86,
   "id": "b0f0d062",
   "metadata": {},
   "outputs": [
    {
     "name": "stdout",
     "output_type": "stream",
     "text": [
      "Please enter your first name :Raghav\n"
     ]
    }
   ],
   "source": [
    "# Dynamic input\n",
    "\n",
    "Dynamic_input = input(\"Please enter your first name :\")"
   ]
  },
  {
   "cell_type": "code",
   "execution_count": 87,
   "id": "2a9e439c",
   "metadata": {},
   "outputs": [
    {
     "name": "stdout",
     "output_type": "stream",
     "text": [
      "Raghav\n"
     ]
    }
   ],
   "source": [
    "print(Dynamic_input)"
   ]
  },
  {
   "cell_type": "code",
   "execution_count": 88,
   "id": "c712e4ad",
   "metadata": {},
   "outputs": [
    {
     "name": "stdout",
     "output_type": "stream",
     "text": [
      "<class 'str'>\n"
     ]
    }
   ],
   "source": [
    "print(type(Dynamic_input))"
   ]
  },
  {
   "cell_type": "code",
   "execution_count": 89,
   "id": "5c2c22fc",
   "metadata": {},
   "outputs": [
    {
     "name": "stdout",
     "output_type": "stream",
     "text": [
      "Please enter your AGE :33\n"
     ]
    }
   ],
   "source": [
    "\n",
    "Dynamic_input2 = input(\"Please enter your AGE :\")"
   ]
  },
  {
   "cell_type": "code",
   "execution_count": 90,
   "id": "c08220bf",
   "metadata": {},
   "outputs": [
    {
     "name": "stdout",
     "output_type": "stream",
     "text": [
      "33\n"
     ]
    }
   ],
   "source": [
    "print(Dynamic_input2)"
   ]
  },
  {
   "cell_type": "code",
   "execution_count": 91,
   "id": "7a5a784e",
   "metadata": {},
   "outputs": [
    {
     "name": "stdout",
     "output_type": "stream",
     "text": [
      "<class 'str'>\n"
     ]
    }
   ],
   "source": [
    "print(type(Dynamic_input2))"
   ]
  },
  {
   "cell_type": "code",
   "execution_count": 96,
   "id": "66881af9",
   "metadata": {},
   "outputs": [
    {
     "name": "stdout",
     "output_type": "stream",
     "text": [
      "Please enter your AGE :33\n"
     ]
    }
   ],
   "source": [
    "Dynamic_input3 = int(input(\"Please enter your AGE :\"))"
   ]
  },
  {
   "cell_type": "code",
   "execution_count": 97,
   "id": "0d728cf0",
   "metadata": {},
   "outputs": [
    {
     "name": "stdout",
     "output_type": "stream",
     "text": [
      "<class 'int'>\n"
     ]
    }
   ],
   "source": [
    "print(type(Dynamic_input3))"
   ]
  },
  {
   "cell_type": "markdown",
   "id": "94a83937",
   "metadata": {
    "id": "94a83937"
   },
   "source": [
    "## Checking References\n",
    "Checking references in Python involves determining whether two variables reference the same object in memory using the id() function."
   ]
  },
  {
   "cell_type": "code",
   "execution_count": 112,
   "id": "98d9f8fa",
   "metadata": {},
   "outputs": [
    {
     "name": "stdout",
     "output_type": "stream",
     "text": [
      "4298671728\n"
     ]
    }
   ],
   "source": [
    "a1 = 45\n",
    "print(id(a1))"
   ]
  },
  {
   "cell_type": "code",
   "execution_count": 107,
   "id": "c30ae253",
   "metadata": {},
   "outputs": [
    {
     "name": "stdout",
     "output_type": "stream",
     "text": [
      "5807349264\n"
     ]
    }
   ],
   "source": [
    "b1 = 45.0\n",
    "print(id(b1))"
   ]
  },
  {
   "cell_type": "code",
   "execution_count": null,
   "id": "0c722a25",
   "metadata": {
    "id": "0c722a25",
    "outputId": "b3d57d0b-7711-4cac-db9b-e4844a041240"
   },
   "outputs": [
    {
     "name": "stdout",
     "output_type": "stream",
     "text": [
      "x =  34 ;  id of x =  140563811108112\n",
      "y =  34 ;  id of y =  140563811108112\n"
     ]
    }
   ],
   "source": [
    "x = 34\n",
    "y = x\n",
    "print('x = ', x, ';  id of x = ', id(x))\n",
    "print('y = ', y, ';  id of y = ', id(y))"
   ]
  },
  {
   "cell_type": "code",
   "execution_count": null,
   "id": "5d6ddc8f",
   "metadata": {
    "id": "5d6ddc8f",
    "outputId": "9312dccb-3336-4ea2-b793-12ac8685793f"
   },
   "outputs": [
    {
     "name": "stdout",
     "output_type": "stream",
     "text": [
      "x =  65 ;  id of x =  140563811109104\n",
      "y =  34 ;  id of y =  140563811108112\n"
     ]
    }
   ],
   "source": [
    "x = 65\n",
    "print('x = ', x, ';  id of x = ', id(x))\n",
    "print('y = ', y, ';  id of y = ', id(y))"
   ]
  },
  {
   "cell_type": "code",
   "execution_count": null,
   "id": "0b5c3223",
   "metadata": {
    "id": "0b5c3223",
    "outputId": "46930286-d43f-4d02-f7e0-e7c4489db3b3"
   },
   "outputs": [
    {
     "name": "stdout",
     "output_type": "stream",
     "text": [
      "x =  65 ;  id of x =  140563811109104\n",
      "y =  78 ;  id of y =  140563811109520\n"
     ]
    }
   ],
   "source": [
    "y = 78\n",
    "print('x = ', x, ';  id of x = ', id(x))\n",
    "print('y = ', y, ';  id of y = ', id(y))"
   ]
  },
  {
   "cell_type": "markdown",
   "id": "32821bd5",
   "metadata": {
    "id": "32821bd5"
   },
   "source": [
    "# Arithmetic Operators"
   ]
  },
  {
   "cell_type": "code",
   "execution_count": null,
   "id": "af3c58f2",
   "metadata": {
    "id": "af3c58f2"
   },
   "outputs": [],
   "source": [
    "x = 50\n",
    "y = 4"
   ]
  },
  {
   "cell_type": "code",
   "execution_count": null,
   "id": "2fa36b7a",
   "metadata": {
    "id": "2fa36b7a",
    "outputId": "772104b6-fd26-4e90-fa04-8c9eb9602a7a"
   },
   "outputs": [
    {
     "name": "stdout",
     "output_type": "stream",
     "text": [
      "Sum of x & y                   :  54\n",
      "Difference between x & y       :  46\n",
      "Product of x & y               :  200\n",
      "Division of x by y             :  12.5\n"
     ]
    }
   ],
   "source": [
    "print('Sum of x & y                   : ', x + y)\n",
    "print('Difference between x & y       : ', x - y)\n",
    "print('Product of x & y               : ', x * y)\n",
    "print('Division of x by y             : ', x / y)"
   ]
  },
  {
   "cell_type": "code",
   "execution_count": null,
   "id": "3db80fcd",
   "metadata": {
    "id": "3db80fcd",
    "outputId": "0051e13f-270e-4fe4-d5ee-cafbc19b596a"
   },
   "outputs": [
    {
     "name": "stdout",
     "output_type": "stream",
     "text": [
      "Remainder of x divided by y    :  2\n",
      "Floor Division x divided by y  :  12\n",
      "Exponential value for x raised to power y :  6250000\n"
     ]
    }
   ],
   "source": [
    "print('Remainder of x divided by y    : ', x % y)\n",
    "print('Floor Division x divided by y  : ', x // y)\n",
    "print('Exponential value for x raised to power y : ', x ** y)"
   ]
  },
  {
   "cell_type": "markdown",
   "id": "7f804b0c",
   "metadata": {
    "id": "7f804b0c"
   },
   "source": [
    "# Arithmetic Assignment Operators"
   ]
  },
  {
   "cell_type": "code",
   "execution_count": 116,
   "id": "8c15a85f",
   "metadata": {
    "id": "8c15a85f",
    "outputId": "564ffb93-4da0-43f5-b9f1-b5e74ed68f49"
   },
   "outputs": [
    {
     "name": "stdout",
     "output_type": "stream",
     "text": [
      "Present value of a =  10\n"
     ]
    }
   ],
   "source": [
    "a = 10\n",
    "print('Present value of a = ', a )"
   ]
  },
  {
   "cell_type": "code",
   "execution_count": null,
   "id": "aa5d4afb",
   "metadata": {
    "id": "aa5d4afb",
    "outputId": "62bd35d6-c16a-4eee-b3e9-744831ede997"
   },
   "outputs": [
    {
     "name": "stdout",
     "output_type": "stream",
     "text": [
      "Updated value of a =  15\n"
     ]
    }
   ],
   "source": [
    "# a = a +5\n",
    "a += 5\n",
    "print('Updated value of a = ', a )"
   ]
  },
  {
   "cell_type": "code",
   "execution_count": null,
   "id": "6c6c6bd5",
   "metadata": {
    "id": "6c6c6bd5",
    "outputId": "94f96935-daf4-4043-acf0-96caa28132e9"
   },
   "outputs": [
    {
     "name": "stdout",
     "output_type": "stream",
     "text": [
      "Present value of a =  10\n",
      "Present id of a =  140563811107344\n"
     ]
    }
   ],
   "source": [
    "a = 10\n",
    "print('Present value of a = ', a )\n",
    "print('Present id of a = ', id(a))"
   ]
  },
  {
   "cell_type": "code",
   "execution_count": 117,
   "id": "a9f077f9",
   "metadata": {
    "id": "a9f077f9",
    "outputId": "04811028-c531-4cf8-c1a7-66fd9f12fc59"
   },
   "outputs": [
    {
     "name": "stdout",
     "output_type": "stream",
     "text": [
      "Updated value of a =  1000000000000000\n",
      "Updated id of a =  4402909648\n"
     ]
    }
   ],
   "source": [
    "a **= 15\n",
    "print('Updated value of a = ', a )\n",
    "print('Updated id of a = ', id(a))"
   ]
  },
  {
   "cell_type": "markdown",
   "id": "d11c54f4",
   "metadata": {
    "id": "d11c54f4"
   },
   "source": [
    "# Comparison Operator - Boolean output"
   ]
  },
  {
   "cell_type": "code",
   "execution_count": null,
   "id": "f7854d1a",
   "metadata": {
    "id": "f7854d1a",
    "outputId": "dfa8d5a5-e666-47e1-f44b-a87f734b84e5"
   },
   "outputs": [
    {
     "name": "stdout",
     "output_type": "stream",
     "text": [
      "a =  20   b =  20\n",
      "a == b  :  True\n"
     ]
    }
   ],
   "source": [
    "a = 20\n",
    "b = 20\n",
    "\n",
    "# Equal to\n",
    "\n",
    "print('a = ', a, '  b = ', b)\n",
    "print('a == b  : ', a == b)"
   ]
  },
  {
   "cell_type": "code",
   "execution_count": null,
   "id": "873882d7",
   "metadata": {},
   "outputs": [],
   "source": [
    "# Single \"=\" is for assignment and \"==\" is for comparison"
   ]
  },
  {
   "cell_type": "code",
   "execution_count": null,
   "id": "8973afb9",
   "metadata": {
    "id": "8973afb9",
    "outputId": "d4f36470-e8ac-4e23-e2c7-8332dd4f7f0a"
   },
   "outputs": [
    {
     "name": "stdout",
     "output_type": "stream",
     "text": [
      "a =  20   b =  30\n",
      "a != b  :  True\n"
     ]
    }
   ],
   "source": [
    "a = 20\n",
    "b = 30\n",
    "\n",
    "# Not equal to\n",
    "\n",
    "print('a = ', a, '  b = ', b)\n",
    "print('a != b  : ', a != b)"
   ]
  },
  {
   "cell_type": "code",
   "execution_count": 118,
   "id": "9a0a28f0",
   "metadata": {},
   "outputs": [
    {
     "name": "stdout",
     "output_type": "stream",
     "text": [
      "a =  40   b =  30\n",
      "a <= b  :  False\n"
     ]
    }
   ],
   "source": [
    "a = 40\n",
    "b = 30\n",
    "\n",
    "# less than to\n",
    "\n",
    "print('a = ', a, '  b = ', b)\n",
    "print('a <= b  : ', a < b)"
   ]
  },
  {
   "cell_type": "code",
   "execution_count": null,
   "id": "0f8c5c26",
   "metadata": {
    "id": "0f8c5c26",
    "outputId": "42f2a69d-d2d8-4ed0-8dde-6307c5e8eacb"
   },
   "outputs": [
    {
     "name": "stdout",
     "output_type": "stream",
     "text": [
      "a =  40   b =  30\n",
      "a <= b  :  False\n"
     ]
    }
   ],
   "source": [
    "a = 40\n",
    "b = 30\n",
    "\n",
    "# less than equal to\n",
    "\n",
    "print('a = ', a, '  b = ', b)\n",
    "print('a <= b  : ', a <= b)"
   ]
  },
  {
   "cell_type": "code",
   "execution_count": 119,
   "id": "c049ef17",
   "metadata": {},
   "outputs": [
    {
     "name": "stdout",
     "output_type": "stream",
     "text": [
      "a =  30   b =  30\n",
      "a >= b  :  False\n"
     ]
    }
   ],
   "source": [
    "a = 30\n",
    "b = 30\n",
    "\n",
    "# Greater than to\n",
    "\n",
    "print('a = ', a, '  b = ', b)\n",
    "print('a >= b  : ', a > b)"
   ]
  },
  {
   "cell_type": "code",
   "execution_count": null,
   "id": "8278c936",
   "metadata": {
    "id": "8278c936",
    "outputId": "52a1c22f-4af1-4ea1-df1d-9a4d17d6cb9f"
   },
   "outputs": [
    {
     "name": "stdout",
     "output_type": "stream",
     "text": [
      "a =  30   b =  30\n",
      "a >= b  :  True\n"
     ]
    }
   ],
   "source": [
    "a = 30\n",
    "b = 30\n",
    "\n",
    "# Greater than equal to\n",
    "\n",
    "print('a = ', a, '  b = ', b)\n",
    "print('a >= b  : ', a >= b)"
   ]
  },
  {
   "cell_type": "code",
   "execution_count": null,
   "id": "2a31f001",
   "metadata": {},
   "outputs": [],
   "source": [
    "#  ** (exponential), * (multiplication), / (division), + (addition), - (subtraction).\n",
    "\n",
    "# PEMDAS\n",
    "\n",
    "# Parentheses\n",
    "# Exponentiation\n",
    "# Multiplication and Division (from left to right)\n",
    "# Addition and Subtraction (from left to right)"
   ]
  },
  {
   "cell_type": "code",
   "execution_count": 120,
   "id": "0a6098b7",
   "metadata": {},
   "outputs": [],
   "source": [
    "s1 = \"Raghav\"\n",
    "s2 = \"Raghav\""
   ]
  },
  {
   "cell_type": "code",
   "execution_count": 121,
   "id": "fa103cec",
   "metadata": {},
   "outputs": [
    {
     "data": {
      "text/plain": [
       "True"
      ]
     },
     "execution_count": 121,
     "metadata": {},
     "output_type": "execute_result"
    }
   ],
   "source": [
    "s1==s2"
   ]
  },
  {
   "cell_type": "code",
   "execution_count": 122,
   "id": "6aa01b3d",
   "metadata": {},
   "outputs": [
    {
     "data": {
      "text/plain": [
       "False"
      ]
     },
     "execution_count": 122,
     "metadata": {},
     "output_type": "execute_result"
    }
   ],
   "source": [
    "s1 != s2"
   ]
  },
  {
   "cell_type": "code",
   "execution_count": 123,
   "id": "0f20ac59",
   "metadata": {},
   "outputs": [],
   "source": [
    "s3 = \"abc\"\n",
    "s4 = 'axy'"
   ]
  },
  {
   "cell_type": "code",
   "execution_count": 124,
   "id": "e91accbe",
   "metadata": {},
   "outputs": [
    {
     "data": {
      "text/plain": [
       "False"
      ]
     },
     "execution_count": 124,
     "metadata": {},
     "output_type": "execute_result"
    }
   ],
   "source": [
    "s3 > s4"
   ]
  },
  {
   "cell_type": "code",
   "execution_count": 128,
   "id": "c4886b7a",
   "metadata": {},
   "outputs": [],
   "source": [
    "s5 = \"ABc\"\n",
    "s6 = 'Abc'"
   ]
  },
  {
   "cell_type": "code",
   "execution_count": 129,
   "id": "2bc9c63e",
   "metadata": {},
   "outputs": [
    {
     "data": {
      "text/plain": [
       "False"
      ]
     },
     "execution_count": 129,
     "metadata": {},
     "output_type": "execute_result"
    }
   ],
   "source": [
    "s6 < s5"
   ]
  },
  {
   "cell_type": "markdown",
   "id": "39c782f9",
   "metadata": {
    "id": "39c782f9"
   },
   "source": [
    "# Logical Operators"
   ]
  },
  {
   "cell_type": "code",
   "execution_count": null,
   "id": "00356ab0",
   "metadata": {
    "id": "00356ab0",
    "outputId": "706c8855-32ab-4764-dbd8-38bb8446b979"
   },
   "outputs": [
    {
     "name": "stdout",
     "output_type": "stream",
     "text": [
      "a =  30   b =  30\n",
      "a < b            :  False\n",
      "a == b           :  True\n"
     ]
    }
   ],
   "source": [
    "a = 30\n",
    "b = 30\n",
    "print('a = ', a, '  b = ', b)\n",
    "print('a < b            : ', a < b) # False\n",
    "print('a == b           : ', a == b) # True"
   ]
  },
  {
   "cell_type": "code",
   "execution_count": null,
   "id": "54e251ac",
   "metadata": {
    "id": "54e251ac",
    "outputId": "701140b5-9c25-4556-da29-6c5ee518371e"
   },
   "outputs": [
    {
     "name": "stdout",
     "output_type": "stream",
     "text": [
      "a < b and a == b :  False\n"
     ]
    }
   ],
   "source": [
    "print('a < b and a == b : ', a < b and a == b)"
   ]
  },
  {
   "cell_type": "code",
   "execution_count": null,
   "id": "cd75ed3c",
   "metadata": {
    "id": "cd75ed3c",
    "outputId": "34fb685e-2a54-4fce-e54a-46f05e46cc86"
   },
   "outputs": [
    {
     "name": "stdout",
     "output_type": "stream",
     "text": [
      "a =  30   b =  30\n",
      "a < b           :  False\n",
      "a == b          :  True\n"
     ]
    }
   ],
   "source": [
    "a = 30\n",
    "b = 30\n",
    "print('a = ', a, '  b = ', b)\n",
    "print('a < b           : ', a < b)\n",
    "print('a == b          : ', a == b)"
   ]
  },
  {
   "cell_type": "code",
   "execution_count": null,
   "id": "2e4bc040",
   "metadata": {
    "id": "2e4bc040",
    "outputId": "d4c70fa0-800d-47ec-f284-404b5e8f915d"
   },
   "outputs": [
    {
     "name": "stdout",
     "output_type": "stream",
     "text": [
      "a < b or a == b :  True\n"
     ]
    }
   ],
   "source": [
    "print('a < b or a == b : ', a < b or a == b)"
   ]
  },
  {
   "cell_type": "code",
   "execution_count": null,
   "id": "c373a640",
   "metadata": {
    "id": "c373a640",
    "outputId": "524e461b-5638-46ae-f005-2350e4af4d74"
   },
   "outputs": [
    {
     "name": "stdout",
     "output_type": "stream",
     "text": [
      "a =  40\n",
      "a < 50      :  True\n"
     ]
    }
   ],
   "source": [
    "a = 40\n",
    "print('a = ', a)\n",
    "print('a < 50      : ' , a < 50 )"
   ]
  },
  {
   "cell_type": "code",
   "execution_count": null,
   "id": "6df6ad87",
   "metadata": {
    "id": "6df6ad87",
    "outputId": "4011b90f-c924-473b-8d12-761a8cd62e3c"
   },
   "outputs": [
    {
     "name": "stdout",
     "output_type": "stream",
     "text": [
      "not a < 50  :  False\n"
     ]
    }
   ],
   "source": [
    "print('not a < 50  : ' , not(a < 50))"
   ]
  },
  {
   "cell_type": "code",
   "execution_count": 133,
   "id": "b2e22d29",
   "metadata": {},
   "outputs": [
    {
     "name": "stdout",
     "output_type": "stream",
     "text": [
      "5\n"
     ]
    }
   ],
   "source": [
    "# Bitwise XOR\n",
    "\n",
    "a = 6  # 110\n",
    "b = 3  # 011\n",
    "\n",
    "xor = a ^ b # 101\n",
    "\n",
    "print(xor)"
   ]
  },
  {
   "cell_type": "markdown",
   "id": "bd699087",
   "metadata": {
    "id": "bd699087",
    "tags": []
   },
   "source": [
    "# Miscellaneous Operators"
   ]
  },
  {
   "cell_type": "markdown",
   "id": "ba8d6ec4",
   "metadata": {
    "id": "ba8d6ec4"
   },
   "source": [
    "### Identity Operators"
   ]
  },
  {
   "cell_type": "code",
   "execution_count": 137,
   "id": "40e0b821",
   "metadata": {
    "id": "40e0b821",
    "outputId": "c448289d-f28b-40c2-ed47-90cb4b355a2b"
   },
   "outputs": [],
   "source": [
    "a = ['a', 'b', 'c']\n",
    "b = ['a', 'b', 'c']"
   ]
  },
  {
   "cell_type": "code",
   "execution_count": 135,
   "id": "265b7325",
   "metadata": {},
   "outputs": [
    {
     "data": {
      "text/plain": [
       "5808022592"
      ]
     },
     "execution_count": 135,
     "metadata": {},
     "output_type": "execute_result"
    }
   ],
   "source": [
    "id(a)"
   ]
  },
  {
   "cell_type": "code",
   "execution_count": 136,
   "id": "bd6a9591",
   "metadata": {},
   "outputs": [
    {
     "data": {
      "text/plain": [
       "5808360960"
      ]
     },
     "execution_count": 136,
     "metadata": {},
     "output_type": "execute_result"
    }
   ],
   "source": [
    "id(b)"
   ]
  },
  {
   "cell_type": "code",
   "execution_count": 138,
   "id": "25970e60",
   "metadata": {},
   "outputs": [
    {
     "name": "stdout",
     "output_type": "stream",
     "text": [
      "a is b False\n"
     ]
    }
   ],
   "source": [
    "print('a is b' , a is b)"
   ]
  },
  {
   "cell_type": "code",
   "execution_count": null,
   "id": "c7cae421",
   "metadata": {},
   "outputs": [],
   "source": []
  },
  {
   "cell_type": "code",
   "execution_count": 141,
   "id": "3e19ff48",
   "metadata": {
    "id": "3e19ff48",
    "outputId": "805cfe82-961a-4cab-bdcf-e99698330832"
   },
   "outputs": [],
   "source": [
    "a1 = ['a', 'b', 'c']\n",
    "b1 =  a1"
   ]
  },
  {
   "cell_type": "code",
   "execution_count": 142,
   "id": "415131e2",
   "metadata": {
    "id": "415131e2",
    "outputId": "23e6df50-83a5-4bf8-c2aa-8af9f84ad868"
   },
   "outputs": [
    {
     "data": {
      "text/plain": [
       "True"
      ]
     },
     "execution_count": 142,
     "metadata": {},
     "output_type": "execute_result"
    }
   ],
   "source": [
    "id(a1) == id(b1)"
   ]
  },
  {
   "cell_type": "code",
   "execution_count": 144,
   "id": "06240c0a",
   "metadata": {},
   "outputs": [],
   "source": [
    "a1[1] = 'bb'"
   ]
  },
  {
   "cell_type": "code",
   "execution_count": 145,
   "id": "82db45fe",
   "metadata": {},
   "outputs": [
    {
     "data": {
      "text/plain": [
       "['a', 'bb', 'c']"
      ]
     },
     "execution_count": 145,
     "metadata": {},
     "output_type": "execute_result"
    }
   ],
   "source": [
    "a1"
   ]
  },
  {
   "cell_type": "code",
   "execution_count": 146,
   "id": "460ff093",
   "metadata": {},
   "outputs": [
    {
     "data": {
      "text/plain": [
       "['a', 'bb', 'c']"
      ]
     },
     "execution_count": 146,
     "metadata": {},
     "output_type": "execute_result"
    }
   ],
   "source": [
    "b1"
   ]
  },
  {
   "cell_type": "markdown",
   "id": "ab6caaf5",
   "metadata": {},
   "source": [
    "## Creating copy of a list"
   ]
  },
  {
   "cell_type": "markdown",
   "id": "54d19fb4",
   "metadata": {},
   "source": [
    "#### Method 1"
   ]
  },
  {
   "cell_type": "code",
   "execution_count": 147,
   "id": "8055c4ff",
   "metadata": {},
   "outputs": [],
   "source": [
    "b11 = list(a1)"
   ]
  },
  {
   "cell_type": "code",
   "execution_count": 148,
   "id": "731e0451",
   "metadata": {},
   "outputs": [
    {
     "data": {
      "text/plain": [
       "5808290112"
      ]
     },
     "execution_count": 148,
     "metadata": {},
     "output_type": "execute_result"
    }
   ],
   "source": [
    "id(b11)"
   ]
  },
  {
   "cell_type": "code",
   "execution_count": 149,
   "id": "9961f439",
   "metadata": {},
   "outputs": [
    {
     "data": {
      "text/plain": [
       "5807952320"
      ]
     },
     "execution_count": 149,
     "metadata": {},
     "output_type": "execute_result"
    }
   ],
   "source": [
    "id(a1)"
   ]
  },
  {
   "cell_type": "markdown",
   "id": "fcefa5a0",
   "metadata": {},
   "source": [
    "### Method 2"
   ]
  },
  {
   "cell_type": "code",
   "execution_count": 150,
   "id": "44b65004",
   "metadata": {},
   "outputs": [],
   "source": [
    "b111 = a1.copy()"
   ]
  },
  {
   "cell_type": "code",
   "execution_count": 151,
   "id": "2a6c5763",
   "metadata": {},
   "outputs": [
    {
     "name": "stdout",
     "output_type": "stream",
     "text": [
      "['a', 'bb', 'c'] 5808013952\n"
     ]
    }
   ],
   "source": [
    "print(b111, id(b111))"
   ]
  },
  {
   "cell_type": "code",
   "execution_count": 152,
   "id": "f716648e",
   "metadata": {},
   "outputs": [
    {
     "data": {
      "text/plain": [
       "['a', 'bb', 'c']"
      ]
     },
     "execution_count": 152,
     "metadata": {},
     "output_type": "execute_result"
    }
   ],
   "source": [
    "a1"
   ]
  },
  {
   "cell_type": "code",
   "execution_count": 153,
   "id": "1073e735",
   "metadata": {},
   "outputs": [],
   "source": [
    "a1[0] = \"Raghav\""
   ]
  },
  {
   "cell_type": "code",
   "execution_count": 154,
   "id": "9f8b8cb9",
   "metadata": {},
   "outputs": [
    {
     "name": "stdout",
     "output_type": "stream",
     "text": [
      "['Raghav', 'bb', 'c']\n"
     ]
    }
   ],
   "source": [
    "print(a1)"
   ]
  },
  {
   "cell_type": "code",
   "execution_count": 155,
   "id": "7aa8cbd4",
   "metadata": {},
   "outputs": [
    {
     "name": "stdout",
     "output_type": "stream",
     "text": [
      "['a', 'bb', 'c']\n"
     ]
    }
   ],
   "source": [
    "print(b111)"
   ]
  },
  {
   "cell_type": "code",
   "execution_count": null,
   "id": "3527455e",
   "metadata": {
    "id": "3527455e",
    "outputId": "dfcef41b-797a-4236-b6f7-13148dac4f43"
   },
   "outputs": [
    {
     "name": "stdout",
     "output_type": "stream",
     "text": [
      "a is not b True\n"
     ]
    }
   ],
   "source": [
    "a = ['a', 'b', 'c']\n",
    "b = ['a', 'b', 'c']\n",
    "print('a is not b' , a is not b)"
   ]
  },
  {
   "cell_type": "markdown",
   "id": "e6a92c05",
   "metadata": {
    "id": "e6a92c05"
   },
   "source": [
    "### Membership Operators"
   ]
  },
  {
   "cell_type": "code",
   "execution_count": 156,
   "id": "75ddd5aa",
   "metadata": {
    "id": "75ddd5aa",
    "outputId": "0cd99b9c-3807-4b32-fcd7-d7fe96291414"
   },
   "outputs": [
    {
     "name": "stdout",
     "output_type": "stream",
     "text": [
      "True\n"
     ]
    }
   ],
   "source": [
    "x = 'a' # String\n",
    "y = 'Dictionary' # String\n",
    "print(x in y)"
   ]
  },
  {
   "cell_type": "code",
   "execution_count": 157,
   "id": "2b94ae72",
   "metadata": {
    "id": "2b94ae72",
    "outputId": "fa41aae9-ac54-47b9-ffea-fa99e1f3efb9"
   },
   "outputs": [
    {
     "name": "stdout",
     "output_type": "stream",
     "text": [
      "a  in \" Dictionary \"\n",
      "False\n"
     ]
    }
   ],
   "source": [
    "x = 'a'\n",
    "y = 'Dictionary'\n",
    "print(x , ' in \"', y, '\"')\n",
    "print( x not in y)"
   ]
  },
  {
   "cell_type": "code",
   "execution_count": 158,
   "id": "5f369088",
   "metadata": {},
   "outputs": [
    {
     "name": "stdout",
     "output_type": "stream",
     "text": [
      "True\n"
     ]
    }
   ],
   "source": [
    "x = 'ary' # String\n",
    "y = 'Dictionary' # String\n",
    "print(x in y)"
   ]
  },
  {
   "cell_type": "code",
   "execution_count": 159,
   "id": "a86ad0fc",
   "metadata": {},
   "outputs": [
    {
     "name": "stdout",
     "output_type": "stream",
     "text": [
      "False\n"
     ]
    }
   ],
   "source": [
    "x = 'Day' # String\n",
    "y = 'Dictionary' # String\n",
    "print(x in y)"
   ]
  },
  {
   "cell_type": "code",
   "execution_count": 172,
   "id": "4eb92021",
   "metadata": {
    "id": "4eb92021",
    "outputId": "588ae6d4-da47-43dc-a41d-db695fbae254"
   },
   "outputs": [
    {
     "data": {
      "text/plain": [
       "False"
      ]
     },
     "execution_count": 172,
     "metadata": {},
     "output_type": "execute_result"
    }
   ],
   "source": [
    "a = [20, 45, [10]] # List\n",
    "[10] in a # Integer in a list"
   ]
  },
  {
   "cell_type": "code",
   "execution_count": 171,
   "id": "a45c3b68",
   "metadata": {
    "id": "a45c3b68",
    "outputId": "c8cf4611-f67f-4e4e-b7c8-3283627c94e7"
   },
   "outputs": [
    {
     "data": {
      "text/plain": [
       "False"
      ]
     },
     "execution_count": 171,
     "metadata": {},
     "output_type": "execute_result"
    }
   ],
   "source": [
    "a = [20, 45, 10]\n",
    "10 not in a"
   ]
  },
  {
   "cell_type": "code",
   "execution_count": 175,
   "id": "60681cc4",
   "metadata": {},
   "outputs": [],
   "source": [
    "# List inside a list - Nested List\n",
    "\n",
    "a_list = [1,2,3,[4,5,[6,7,8]]]"
   ]
  },
  {
   "cell_type": "code",
   "execution_count": 177,
   "id": "8db47679",
   "metadata": {},
   "outputs": [
    {
     "name": "stdout",
     "output_type": "stream",
     "text": [
      "[1, 2, 3, [4, 5, [6, 7, 8]]]\n"
     ]
    }
   ],
   "source": [
    "print(a_list)"
   ]
  },
  {
   "cell_type": "code",
   "execution_count": 180,
   "id": "46e4402d",
   "metadata": {},
   "outputs": [
    {
     "data": {
      "text/plain": [
       "8"
      ]
     },
     "execution_count": 180,
     "metadata": {},
     "output_type": "execute_result"
    }
   ],
   "source": [
    "a_list[3][2][2]"
   ]
  },
  {
   "cell_type": "code",
   "execution_count": 181,
   "id": "31d0bf61",
   "metadata": {},
   "outputs": [],
   "source": [
    "matrix = [\n",
    "    \n",
    "    [1,2,3], # row1\n",
    "    [4,5,6], # row2\n",
    "    [7,8,9]  # row3\n",
    "]"
   ]
  },
  {
   "cell_type": "code",
   "execution_count": 183,
   "id": "0dbb0e45",
   "metadata": {},
   "outputs": [
    {
     "name": "stdout",
     "output_type": "stream",
     "text": [
      "[[1, 2, 3], [4, 5, 6], [7, 8, 9]]\n"
     ]
    }
   ],
   "source": [
    "print(matrix)"
   ]
  },
  {
   "cell_type": "code",
   "execution_count": 184,
   "id": "daf05dfd",
   "metadata": {},
   "outputs": [],
   "source": [
    "df1 = pd.DataFrame(matrix)"
   ]
  },
  {
   "cell_type": "code",
   "execution_count": 185,
   "id": "60e199fe",
   "metadata": {},
   "outputs": [
    {
     "data": {
      "text/html": [
       "<div>\n",
       "<style scoped>\n",
       "    .dataframe tbody tr th:only-of-type {\n",
       "        vertical-align: middle;\n",
       "    }\n",
       "\n",
       "    .dataframe tbody tr th {\n",
       "        vertical-align: top;\n",
       "    }\n",
       "\n",
       "    .dataframe thead th {\n",
       "        text-align: right;\n",
       "    }\n",
       "</style>\n",
       "<table border=\"1\" class=\"dataframe\">\n",
       "  <thead>\n",
       "    <tr style=\"text-align: right;\">\n",
       "      <th></th>\n",
       "      <th>0</th>\n",
       "      <th>1</th>\n",
       "      <th>2</th>\n",
       "    </tr>\n",
       "  </thead>\n",
       "  <tbody>\n",
       "    <tr>\n",
       "      <th>0</th>\n",
       "      <td>1</td>\n",
       "      <td>2</td>\n",
       "      <td>3</td>\n",
       "    </tr>\n",
       "    <tr>\n",
       "      <th>1</th>\n",
       "      <td>4</td>\n",
       "      <td>5</td>\n",
       "      <td>6</td>\n",
       "    </tr>\n",
       "    <tr>\n",
       "      <th>2</th>\n",
       "      <td>7</td>\n",
       "      <td>8</td>\n",
       "      <td>9</td>\n",
       "    </tr>\n",
       "  </tbody>\n",
       "</table>\n",
       "</div>"
      ],
      "text/plain": [
       "   0  1  2\n",
       "0  1  2  3\n",
       "1  4  5  6\n",
       "2  7  8  9"
      ]
     },
     "execution_count": 185,
     "metadata": {},
     "output_type": "execute_result"
    }
   ],
   "source": [
    "df1"
   ]
  },
  {
   "cell_type": "markdown",
   "id": "07976d7b",
   "metadata": {
    "id": "07976d7b"
   },
   "source": [
    "# Strings in Python"
   ]
  },
  {
   "cell_type": "code",
   "execution_count": 186,
   "id": "db449368",
   "metadata": {
    "id": "db449368",
    "outputId": "9b4f6cb1-f17b-4789-b9cb-c8dfb6c3aa66"
   },
   "outputs": [
    {
     "name": "stdout",
     "output_type": "stream",
     "text": [
      "Hi! Welcome to Python Programming!!\n",
      "Hi! Welcome to Python Programming!!\n"
     ]
    }
   ],
   "source": [
    "message_1 = 'Hi! Welcome to Python Programming!!'\n",
    "message_2 = \"Hi! Welcome to Python Programming!!\"\n",
    "print(message_1)\n",
    "print(message_2)"
   ]
  },
  {
   "cell_type": "code",
   "execution_count": null,
   "id": "fc795798",
   "metadata": {
    "id": "fc795798",
    "outputId": "e6c732e3-93a6-4481-9ca7-50a3cae8cd24"
   },
   "outputs": [
    {
     "name": "stdout",
     "output_type": "stream",
     "text": [
      "Hi! Welcome to \"Python Programming\"!!\n",
      "Hi! Welcome to 'Python Programming'!!\n"
     ]
    }
   ],
   "source": [
    "message_1 = 'Hi! Welcome to \"Python Programming\"!!'\n",
    "message_2 = \"Hi! Welcome to 'Python Programming'!!\"\n",
    "print(message_1)\n",
    "print(message_2)"
   ]
  },
  {
   "cell_type": "markdown",
   "id": "e592b6a5",
   "metadata": {
    "id": "e592b6a5"
   },
   "source": [
    "# String Methods"
   ]
  },
  {
   "cell_type": "code",
   "execution_count": 187,
   "id": "ebe9234e",
   "metadata": {
    "id": "ebe9234e",
    "outputId": "bedc3762-d514-445e-e32c-61b31280c190"
   },
   "outputs": [
    {
     "name": "stdout",
     "output_type": "stream",
     "text": [
      "SHE SELLS SEA SHELLS ON THE SEA SHORE.\n"
     ]
    }
   ],
   "source": [
    "string = 'She seLLs sEa SHELLS oN tHe SeA sHoRe.'\n",
    "upper_case = string.upper()\n",
    "print(upper_case)"
   ]
  },
  {
   "cell_type": "code",
   "execution_count": null,
   "id": "e75f14df",
   "metadata": {
    "id": "e75f14df",
    "outputId": "76901f89-1570-45dc-d692-77e407ada7f6"
   },
   "outputs": [
    {
     "name": "stdout",
     "output_type": "stream",
     "text": [
      "she sells sea shells on the sea shore.\n"
     ]
    }
   ],
   "source": [
    "lower_case = string.lower()\n",
    "print(lower_case)"
   ]
  },
  {
   "cell_type": "code",
   "execution_count": null,
   "id": "0fbdb2f9",
   "metadata": {
    "id": "0fbdb2f9",
    "outputId": "bc06ca0b-e713-4365-ec7f-39fb412e88bb"
   },
   "outputs": [
    {
     "name": "stdout",
     "output_type": "stream",
     "text": [
      "She sells sea shells on the sea shore.\n"
     ]
    }
   ],
   "source": [
    "sentence = string.capitalize()\n",
    "print(sentence)"
   ]
  },
  {
   "cell_type": "code",
   "execution_count": null,
   "id": "e4471326",
   "metadata": {
    "id": "e4471326",
    "outputId": "58fb04da-2d2e-4848-a32b-a1575f2fe58e"
   },
   "outputs": [
    {
     "data": {
      "text/plain": [
       "'She Sells Sea Shells On The Sea Shore.'"
      ]
     },
     "execution_count": 36,
     "metadata": {},
     "output_type": "execute_result"
    }
   ],
   "source": [
    "word_upper = string.title()\n",
    "word_upper"
   ]
  },
  {
   "cell_type": "code",
   "execution_count": 191,
   "id": "fd4bcf68",
   "metadata": {},
   "outputs": [],
   "source": [
    "string11 = \"12gdhsj19.9\""
   ]
  },
  {
   "cell_type": "code",
   "execution_count": 192,
   "id": "e309e5aa",
   "metadata": {},
   "outputs": [],
   "source": [
    "a = string11.upper()"
   ]
  },
  {
   "cell_type": "code",
   "execution_count": 193,
   "id": "960ec026",
   "metadata": {},
   "outputs": [
    {
     "data": {
      "text/plain": [
       "'12GDHSJ19.9'"
      ]
     },
     "execution_count": 193,
     "metadata": {},
     "output_type": "execute_result"
    }
   ],
   "source": [
    "a"
   ]
  },
  {
   "cell_type": "code",
   "execution_count": null,
   "id": "03628db0",
   "metadata": {},
   "outputs": [],
   "source": []
  }
 ],
 "metadata": {
  "colab": {
   "provenance": []
  },
  "kernelspec": {
   "display_name": "Python 3 (ipykernel)",
   "language": "python",
   "name": "python3"
  },
  "language_info": {
   "codemirror_mode": {
    "name": "ipython",
    "version": 3
   },
   "file_extension": ".py",
   "mimetype": "text/x-python",
   "name": "python",
   "nbconvert_exporter": "python",
   "pygments_lexer": "ipython3",
   "version": "3.10.4"
  }
 },
 "nbformat": 4,
 "nbformat_minor": 5
}
