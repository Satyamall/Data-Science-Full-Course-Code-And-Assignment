{
 "cells": [
  {
   "cell_type": "code",
   "execution_count": 1,
   "id": "8e9df405-4eae-47d4-b91b-ceb3e48febab",
   "metadata": {},
   "outputs": [
    {
     "name": "stdout",
     "output_type": "stream",
     "text": [
      "\n",
      "        ====== Car Rental Shop ======\n",
      "        1. Display available cars\n",
      "        2. Rent cars on hourly basis ($5 per hour)\n",
      "        3. Rent cars on daily basis ($20 per day)\n",
      "        4. Rent cars on weekly basis ($60 per week)\n",
      "        5. Return rented cars\n",
      "        6. Exit\n",
      "        \n"
     ]
    },
    {
     "name": "stdin",
     "output_type": "stream",
     "text": [
      "Enter your choice:  1\n"
     ]
    },
    {
     "name": "stdout",
     "output_type": "stream",
     "text": [
      "Available cars: 10\n",
      "\n",
      "        ====== Car Rental Shop ======\n",
      "        1. Display available cars\n",
      "        2. Rent cars on hourly basis ($5 per hour)\n",
      "        3. Rent cars on daily basis ($20 per day)\n",
      "        4. Rent cars on weekly basis ($60 per week)\n",
      "        5. Return rented cars\n",
      "        6. Exit\n",
      "        \n"
     ]
    },
    {
     "name": "stdin",
     "output_type": "stream",
     "text": [
      "Enter your choice:  2\n",
      "How many cars would you like to rent? 2\n"
     ]
    },
    {
     "name": "stdout",
     "output_type": "stream",
     "text": [
      "2 car(s) rented on hourly basis at 9 hours.\n",
      "\n",
      "        ====== Car Rental Shop ======\n",
      "        1. Display available cars\n",
      "        2. Rent cars on hourly basis ($5 per hour)\n",
      "        3. Rent cars on daily basis ($20 per day)\n",
      "        4. Rent cars on weekly basis ($60 per week)\n",
      "        5. Return rented cars\n",
      "        6. Exit\n",
      "        \n"
     ]
    },
    {
     "name": "stdin",
     "output_type": "stream",
     "text": [
      "Enter your choice:  3\n",
      "How many cars would you like to rent? 3\n"
     ]
    },
    {
     "name": "stdout",
     "output_type": "stream",
     "text": [
      "3 car(s) rented on daily basis at 7 day.\n",
      "\n",
      "        ====== Car Rental Shop ======\n",
      "        1. Display available cars\n",
      "        2. Rent cars on hourly basis ($5 per hour)\n",
      "        3. Rent cars on daily basis ($20 per day)\n",
      "        4. Rent cars on weekly basis ($60 per week)\n",
      "        5. Return rented cars\n",
      "        6. Exit\n",
      "        \n"
     ]
    },
    {
     "name": "stdin",
     "output_type": "stream",
     "text": [
      "Enter your choice:  4\n",
      "How many cars would you like to rent? 4\n"
     ]
    },
    {
     "name": "stdout",
     "output_type": "stream",
     "text": [
      "4 car(s) rented on weekly basis at 0 day of the week.\n",
      "\n",
      "        ====== Car Rental Shop ======\n",
      "        1. Display available cars\n",
      "        2. Rent cars on hourly basis ($5 per hour)\n",
      "        3. Rent cars on daily basis ($20 per day)\n",
      "        4. Rent cars on weekly basis ($60 per week)\n",
      "        5. Return rented cars\n",
      "        6. Exit\n",
      "        \n"
     ]
    },
    {
     "name": "stdin",
     "output_type": "stream",
     "text": [
      "Enter your choice:  5\n"
     ]
    },
    {
     "name": "stdout",
     "output_type": "stream",
     "text": [
      "Total bill: $0\n",
      "\n",
      "        ====== Car Rental Shop ======\n",
      "        1. Display available cars\n",
      "        2. Rent cars on hourly basis ($5 per hour)\n",
      "        3. Rent cars on daily basis ($20 per day)\n",
      "        4. Rent cars on weekly basis ($60 per week)\n",
      "        5. Return rented cars\n",
      "        6. Exit\n",
      "        \n"
     ]
    },
    {
     "name": "stdin",
     "output_type": "stream",
     "text": [
      "Enter your choice:  6\n"
     ]
    }
   ],
   "source": [
    "from car_rental import CarRental\n",
    "from customer import Customer\n",
    "\n",
    "def main():\n",
    "    rental_shop = CarRental(10)  # assume 10 cars in stock\n",
    "    customer = Customer()\n",
    "\n",
    "    while True:\n",
    "        print(\"\"\"\n",
    "        ====== Car Rental Shop ======\n",
    "        1. Display available cars\n",
    "        2. Rent cars on hourly basis ($5 per hour)\n",
    "        3. Rent cars on daily basis ($20 per day)\n",
    "        4. Rent cars on weekly basis ($60 per week)\n",
    "        5. Return rented cars\n",
    "        6. Exit\n",
    "        \"\"\")\n",
    "\n",
    "        choice = input(\"Enter your choice: \")\n",
    "\n",
    "        if choice == \"1\":\n",
    "            rental_shop.display_cars()\n",
    "\n",
    "        elif choice == \"2\":\n",
    "            customer.request_cars()\n",
    "            rental_time = rental_shop.rent_hourly(customer.cars_rented)\n",
    "            if rental_time:\n",
    "                customer.rental_time = rental_time\n",
    "                customer.rental_basis = 1\n",
    "\n",
    "        elif choice == \"3\":\n",
    "            customer.request_cars()\n",
    "            rental_time = rental_shop.rent_daily(customer.cars_rented)\n",
    "            if rental_time:\n",
    "                customer.rental_time = rental_time\n",
    "                customer.rental_basis = 2\n",
    "\n",
    "        elif choice == \"4\":\n",
    "            customer.request_cars()\n",
    "            rental_time = rental_shop.rent_weekly(customer.cars_rented)\n",
    "            if rental_time:\n",
    "                customer.rental_time = rental_time\n",
    "                customer.rental_basis = 3\n",
    "\n",
    "        elif choice == \"5\":\n",
    "            request = customer.return_cars()\n",
    "            bill = rental_shop.return_cars(request)\n",
    "            customer.cars_rented = 0\n",
    "            customer.rental_basis = 0\n",
    "            customer.rental_time = None\n",
    "\n",
    "        elif choice == \"6\":\n",
    "            break\n",
    "\n",
    "        else:\n",
    "            print(\"Invalid input. Please enter a number between 1 and 6.\")\n",
    "\n",
    "if __name__ == \"__main__\":\n",
    "    main()\n"
   ]
  }
 ],
 "metadata": {
  "kernelspec": {
   "display_name": "Python 3 [3.10]",
   "language": "python",
   "name": "python3"
  },
  "language_info": {
   "codemirror_mode": {
    "name": "ipython",
    "version": 3
   },
   "file_extension": ".py",
   "mimetype": "text/x-python",
   "name": "python",
   "nbconvert_exporter": "python",
   "pygments_lexer": "ipython3",
   "version": "3.10.2"
  }
 },
 "nbformat": 4,
 "nbformat_minor": 5
}
