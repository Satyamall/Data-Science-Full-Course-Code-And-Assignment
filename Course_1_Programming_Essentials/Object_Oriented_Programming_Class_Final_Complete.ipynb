{
 "cells": [
  {
   "cell_type": "markdown",
   "id": "e6c7f257",
   "metadata": {},
   "source": [
    "# Clasess & Objects"
   ]
  },
  {
   "cell_type": "markdown",
   "id": "1f12726e",
   "metadata": {},
   "source": [
    "Object-oriented programming (OOP) is a programming paradigm based on the concept of \"objects\", which can contain data and code: data in the form of fields (often known as attributes or properties), and code, in the form of procedures (often known as methods).\n",
    "\n",
    "### Classes\n",
    "A class is a blueprint for creating objects. It provides the template or design from which individual objects are created. Classes define the properties and behaviors that the objects created from them will have. In essence, a class encapsulates data for the object and methods to manipulate that data.\n",
    "\n",
    "For example, you might have a class `Car` that has properties such as `make`, `model`, and `year`, and methods like `start()` and `stop()`. The class itself doesn't represent any specific car; rather, it defines what information and behaviors will be part of any car object created from it.\n",
    "\n",
    "### Objects\n",
    "An object is an instance of a class. When a class is defined, no memory is allocated until an object is created based on that class. An object includes state (data) and behaviors (methods) defined by its class. Each object can have unique values for its properties, but the methods (behaviors) typically stay the same.\n",
    "\n",
    "Continuing with the `Car` example, an object of the class `Car` could be a specific car like a 2020 Toyota Corolla. This object would have its own specific `make`, `model`, and `year` values. Even though it shares the same methods as any other car, the state (values of the properties) would differ from other car objects.\n",
    "\n",
    "### Key Concepts of OOP\n",
    "1. **Encapsulation**: This refers to the bundling of the data (attributes) and the methods that operate on the data into a single unit, or class. It also refers to restricting direct access to some of an object's components, which can prevent the accidental modification of data.\n",
    "2. **Inheritance**: This allows one class to inherit the attributes and methods of another class. It promotes code reusability and establishes a relationship between the parent class and child class.\n",
    "3. **Polymorphism**: This allows methods to do different things based on the object it is acting upon. This can be achieved by method overriding (where a child class implements a method that already exists in its parent class) or method overloading (where two or more methods in the same class have the same method name but different parameters).\n",
    "4. **Abstraction**: This means hiding the complex reality while exposing only the necessary parts. It is a way of creating a simple model of a more complex underlying structure that only highlights features essential to a particular perspective.\n",
    "\n",
    "Object-oriented programming aims to implement real-world entities like inheritance, hiding, polymorphism etc. in programming. It helps in making the program more modular, thereby enhancing the ease of interaction and reducing the complexity of the code."
   ]
  },
  {
   "cell_type": "code",
   "execution_count": 7,
   "id": "8973ce82",
   "metadata": {},
   "outputs": [],
   "source": [
    "class Car():\n",
    " \n",
    "    # Constructor = __init__ ----> How the object will be construced\n",
    "\n",
    "    def __init__(self):\n",
    "        \n",
    "        # Features of the Object, attributes of Object\n",
    "        \n",
    "        print(\"Database connects, internet connects, power connections Invoked\")\n",
    "#         self.make = make\n",
    "#         self.model = model\n",
    "#         self.year = year\n",
    "        \n",
    "#     # Now the below are the METHODS - What object does/ can do\n",
    "\n",
    "#     def start_engine(self):\n",
    "#         print(f\"{self.make} {self.model} engine started and roaring.\")\n",
    "\n",
    "#     def stop_engine(self):\n",
    "#         print(f\"{self.make} {self.model} engine stopped.\")\n"
   ]
  },
  {
   "cell_type": "code",
   "execution_count": 8,
   "id": "2c35dc14",
   "metadata": {},
   "outputs": [
    {
     "name": "stdout",
     "output_type": "stream",
     "text": [
      "Database connects, internet connects, power connections Invoked\n"
     ]
    }
   ],
   "source": [
    "a = Car()"
   ]
  },
  {
   "cell_type": "code",
   "execution_count": 9,
   "id": "7739044c",
   "metadata": {},
   "outputs": [
    {
     "data": {
      "text/plain": [
       "__main__.Car"
      ]
     },
     "execution_count": 9,
     "metadata": {},
     "output_type": "execute_result"
    }
   ],
   "source": [
    "type(a)"
   ]
  },
  {
   "cell_type": "code",
   "execution_count": 10,
   "id": "f2e30e25",
   "metadata": {},
   "outputs": [
    {
     "data": {
      "text/plain": [
       "4395751200"
      ]
     },
     "execution_count": 10,
     "metadata": {},
     "output_type": "execute_result"
    }
   ],
   "source": [
    "id(a)"
   ]
  },
  {
   "cell_type": "code",
   "execution_count": 14,
   "id": "c397ca66",
   "metadata": {},
   "outputs": [],
   "source": [
    "class Car():\n",
    " \n",
    "    # Constructor = __init__ ----> How the object will be construced\n",
    "\n",
    "    def __init__(self,make,model,year):\n",
    "        \n",
    "        # Features of the Object, attributes of Object\n",
    "        \n",
    "        print(\"HEY GUYS WELCOME TO TODAY's SESSION\")\n",
    "        self.make = make\n",
    "        self.model = model\n",
    "        self.year = year\n",
    "        \n",
    "    # Now the below are the METHODS - What object does/ can do\n",
    "\n",
    "    def start_engine(self):\n",
    "        print(f\"{self.make} {self.model} engine started and roaring.\")\n",
    "\n",
    "    def stop_engine(self):\n",
    "        print(f\"{self.make} {self.model} engine stopped.\")"
   ]
  },
  {
   "cell_type": "code",
   "execution_count": 15,
   "id": "7dc14d29",
   "metadata": {},
   "outputs": [
    {
     "name": "stdout",
     "output_type": "stream",
     "text": [
      "HEY GUYS WELCOME TO TODAY's SESSION\n"
     ]
    }
   ],
   "source": [
    "BMW = Car(\"BMW\",\"X7\",2021)"
   ]
  },
  {
   "cell_type": "code",
   "execution_count": 16,
   "id": "1a264501",
   "metadata": {},
   "outputs": [
    {
     "name": "stdout",
     "output_type": "stream",
     "text": [
      "BMW X7 engine started and roaring.\n"
     ]
    }
   ],
   "source": [
    "BMW.start_engine()"
   ]
  },
  {
   "cell_type": "code",
   "execution_count": 17,
   "id": "bf7601d7",
   "metadata": {},
   "outputs": [
    {
     "name": "stdout",
     "output_type": "stream",
     "text": [
      "HEY GUYS WELCOME TO TODAY's SESSION\n"
     ]
    }
   ],
   "source": [
    "Audi = Car(make = \"Audi\",year = \"2024\",model = \"Q3\")"
   ]
  },
  {
   "cell_type": "code",
   "execution_count": 18,
   "id": "cfe65a8c",
   "metadata": {},
   "outputs": [
    {
     "name": "stdout",
     "output_type": "stream",
     "text": [
      "Audi Q3 engine stopped.\n"
     ]
    }
   ],
   "source": [
    "Audi.stop_engine()"
   ]
  },
  {
   "cell_type": "code",
   "execution_count": 19,
   "id": "6603c54e",
   "metadata": {},
   "outputs": [
    {
     "name": "stdout",
     "output_type": "stream",
     "text": [
      "HEY GUYS WELCOME TO TODAY's SESSION\n"
     ]
    }
   ],
   "source": [
    "Ford = Car(\"Ford\",\"Endavour\",2019)"
   ]
  },
  {
   "cell_type": "code",
   "execution_count": 20,
   "id": "2049b5d8",
   "metadata": {},
   "outputs": [
    {
     "data": {
      "text/plain": [
       "'Ford'"
      ]
     },
     "execution_count": 20,
     "metadata": {},
     "output_type": "execute_result"
    }
   ],
   "source": [
    "Ford.make"
   ]
  },
  {
   "cell_type": "code",
   "execution_count": 21,
   "id": "0c3bc4f1",
   "metadata": {},
   "outputs": [
    {
     "data": {
      "text/plain": [
       "'Endavour'"
      ]
     },
     "execution_count": 21,
     "metadata": {},
     "output_type": "execute_result"
    }
   ],
   "source": [
    "Ford.model"
   ]
  },
  {
   "cell_type": "code",
   "execution_count": 22,
   "id": "1914eb66",
   "metadata": {},
   "outputs": [
    {
     "data": {
      "text/plain": [
       "2019"
      ]
     },
     "execution_count": 22,
     "metadata": {},
     "output_type": "execute_result"
    }
   ],
   "source": [
    "Ford.year"
   ]
  },
  {
   "cell_type": "code",
   "execution_count": 23,
   "id": "5e0b28ab",
   "metadata": {},
   "outputs": [
    {
     "name": "stdout",
     "output_type": "stream",
     "text": [
      "Ford Endavour engine started and roaring.\n"
     ]
    }
   ],
   "source": [
    "Ford.start_engine()"
   ]
  },
  {
   "cell_type": "code",
   "execution_count": 24,
   "id": "cdbc3915",
   "metadata": {},
   "outputs": [
    {
     "name": "stdout",
     "output_type": "stream",
     "text": [
      "Ford Endavour engine stopped.\n"
     ]
    }
   ],
   "source": [
    "Ford.stop_engine()"
   ]
  },
  {
   "cell_type": "code",
   "execution_count": 22,
   "id": "902564f2",
   "metadata": {},
   "outputs": [],
   "source": [
    "import math"
   ]
  },
  {
   "cell_type": "code",
   "execution_count": 31,
   "id": "91532d15",
   "metadata": {},
   "outputs": [],
   "source": [
    "class Circle():\n",
    "    \n",
    "    def __init__(self, radius):\n",
    "        \n",
    "        self.radius = radius\n",
    "        \n",
    "    def Area(self):\n",
    "        area = math.pi * self.radius ** 2\n",
    "        \n",
    "        return area\n",
    "        \n",
    "    def Circumference(self):\n",
    "        circumference = 2 * math.pi * self.radius\n",
    "        \n",
    "        return circumference\n",
    "        \n",
    "    "
   ]
  },
  {
   "cell_type": "code",
   "execution_count": 32,
   "id": "ecf89e36",
   "metadata": {},
   "outputs": [],
   "source": [
    "c1 = Circle(7)"
   ]
  },
  {
   "cell_type": "code",
   "execution_count": 33,
   "id": "2d86e255",
   "metadata": {},
   "outputs": [
    {
     "data": {
      "text/plain": [
       "153.93804002589985"
      ]
     },
     "execution_count": 33,
     "metadata": {},
     "output_type": "execute_result"
    }
   ],
   "source": [
    "c1.Area()"
   ]
  },
  {
   "cell_type": "code",
   "execution_count": 34,
   "id": "dceb1785",
   "metadata": {},
   "outputs": [
    {
     "data": {
      "text/plain": [
       "43.982297150257104"
      ]
     },
     "execution_count": 34,
     "metadata": {},
     "output_type": "execute_result"
    }
   ],
   "source": [
    "c1.Circumference()"
   ]
  },
  {
   "cell_type": "code",
   "execution_count": 35,
   "id": "299343d0",
   "metadata": {},
   "outputs": [
    {
     "data": {
      "text/plain": [
       "7"
      ]
     },
     "execution_count": 35,
     "metadata": {},
     "output_type": "execute_result"
    }
   ],
   "source": [
    "c1.radius"
   ]
  },
  {
   "cell_type": "code",
   "execution_count": 16,
   "id": "75fcccbd",
   "metadata": {},
   "outputs": [],
   "source": [
    "a = 10"
   ]
  },
  {
   "cell_type": "code",
   "execution_count": 17,
   "id": "bfffa8c2",
   "metadata": {},
   "outputs": [
    {
     "name": "stdout",
     "output_type": "stream",
     "text": [
      "<class 'int'>\n"
     ]
    }
   ],
   "source": [
    "print(type(a))"
   ]
  },
  {
   "cell_type": "code",
   "execution_count": 65,
   "id": "2ca45640",
   "metadata": {},
   "outputs": [
    {
     "name": "stdout",
     "output_type": "stream",
     "text": [
      "raghav\n",
      "<class 'str'>\n"
     ]
    }
   ],
   "source": [
    "# Now lets call the String Class and create one object from it named \"l\" \n",
    "\n",
    "l = str(\"raghav\")\n",
    "print(l)\n",
    "print(type(l))"
   ]
  },
  {
   "cell_type": "code",
   "execution_count": 1,
   "id": "b722808f",
   "metadata": {},
   "outputs": [],
   "source": [
    "# dir(str)"
   ]
  },
  {
   "cell_type": "code",
   "execution_count": 66,
   "id": "97fe24d3",
   "metadata": {},
   "outputs": [
    {
     "data": {
      "text/plain": [
       "'Raghav'"
      ]
     },
     "execution_count": 66,
     "metadata": {},
     "output_type": "execute_result"
    }
   ],
   "source": [
    "# Now string class has some method called as capitalize\n",
    "\n",
    "l.capitalize()"
   ]
  },
  {
   "cell_type": "code",
   "execution_count": 80,
   "id": "579669d3",
   "metadata": {},
   "outputs": [
    {
     "ename": "AttributeError",
     "evalue": "'str' object has no attribute 'append'",
     "output_type": "error",
     "traceback": [
      "\u001b[0;31m---------------------------------------------------------------------------\u001b[0m",
      "\u001b[0;31mAttributeError\u001b[0m                            Traceback (most recent call last)",
      "Input \u001b[0;32mIn [80]\u001b[0m, in \u001b[0;36m<cell line: 1>\u001b[0;34m()\u001b[0m\n\u001b[0;32m----> 1\u001b[0m \u001b[43ml\u001b[49m\u001b[38;5;241;43m.\u001b[39;49m\u001b[43mappend\u001b[49m(\u001b[38;5;124m\"\u001b[39m\u001b[38;5;124md\u001b[39m\u001b[38;5;124m\"\u001b[39m)\n",
      "\u001b[0;31mAttributeError\u001b[0m: 'str' object has no attribute 'append'"
     ]
    }
   ],
   "source": [
    "# Now if i try to access the method which is not defined then\n",
    "l.append(\"d\")"
   ]
  },
  {
   "cell_type": "code",
   "execution_count": 81,
   "id": "345eed4b",
   "metadata": {},
   "outputs": [
    {
     "ename": "AttributeError",
     "evalue": "'str' object has no attribute 'reverse'",
     "output_type": "error",
     "traceback": [
      "\u001b[0;31m---------------------------------------------------------------------------\u001b[0m",
      "\u001b[0;31mAttributeError\u001b[0m                            Traceback (most recent call last)",
      "Input \u001b[0;32mIn [81]\u001b[0m, in \u001b[0;36m<cell line: 1>\u001b[0;34m()\u001b[0m\n\u001b[0;32m----> 1\u001b[0m \u001b[43ml\u001b[49m\u001b[38;5;241;43m.\u001b[39;49m\u001b[43mreverse\u001b[49m()\n",
      "\u001b[0;31mAttributeError\u001b[0m: 'str' object has no attribute 'reverse'"
     ]
    }
   ],
   "source": [
    "l.reverse()"
   ]
  },
  {
   "cell_type": "code",
   "execution_count": 83,
   "id": "822eea9e",
   "metadata": {},
   "outputs": [],
   "source": [
    "# Now \"l\" will have access to all the methods and attribues of the class \"str\""
   ]
  },
  {
   "cell_type": "code",
   "execution_count": 68,
   "id": "a19f0129",
   "metadata": {},
   "outputs": [],
   "source": [
    "l11 = [1,2,3]"
   ]
  },
  {
   "cell_type": "code",
   "execution_count": 69,
   "id": "59a43460",
   "metadata": {},
   "outputs": [],
   "source": [
    "l11.append(2)"
   ]
  },
  {
   "cell_type": "code",
   "execution_count": 75,
   "id": "55ae98f0",
   "metadata": {},
   "outputs": [
    {
     "data": {
      "text/plain": [
       "[1, 2, 3, 2]"
      ]
     },
     "execution_count": 75,
     "metadata": {},
     "output_type": "execute_result"
    }
   ],
   "source": [
    "l11"
   ]
  },
  {
   "cell_type": "code",
   "execution_count": null,
   "id": "7e73e6da",
   "metadata": {},
   "outputs": [],
   "source": [
    "# Certain Properties of OOP, which are also called as Pillars of OOP\n",
    "\n",
    "# 1. Inheritance\n",
    "# 2. Encapsulation\n",
    "# 3. Polymorphism\n",
    "# 4. Abstraction"
   ]
  },
  {
   "cell_type": "markdown",
   "id": "fd13854b",
   "metadata": {},
   "source": [
    "The __init__ method in Python is very crucial in the context of classes—it's the constructor method for a class. Like constructors in other object-oriented languages, the __init__ method in Python is used to initialize newly created objects. It is called automatically when a new object of a class is instantiated.\n",
    "\n",
    "Purpose of __init__\n",
    "The __init__ method serves several important functions:\n",
    "\n",
    "Initialization: It allows the class to set up the initial state of an object. This usually involves assigning values to the object's properties based on the parameters passed into the constructor.\n",
    "Resource Allocation: If the object needs to set up or allocate specific resources (like network connections or files), this can also be done within the __init__ method.\n",
    "Default Values: It allows you to set default values for certain properties at the time of object creation."
   ]
  },
  {
   "cell_type": "markdown",
   "id": "9993222b",
   "metadata": {},
   "source": [
    "# INHERITANCE\n",
    "\n",
    "**Inheritance**: This allows one class to inherit the attributes and methods of another class. It promotes code reusability and establishes a relationship between the parent class and child class."
   ]
  },
  {
   "cell_type": "markdown",
   "id": "83d85abf",
   "metadata": {},
   "source": [
    "#### Now we already have class \"Car\" and now i am making another class named Electric car, which is using Car Class"
   ]
  },
  {
   "cell_type": "code",
   "execution_count": 1,
   "id": "1f475871",
   "metadata": {},
   "outputs": [],
   "source": [
    "class Car():\n",
    " \n",
    "    # Constructor = __init__ ----> How the object will be construced\n",
    "\n",
    "    def __init__(self, make, model, year):\n",
    "        \n",
    "        # Features of the Object, attributes of Object\n",
    "        \n",
    "        print(\"HEY GUYS WELCOME TO TODAY's SESSION\")\n",
    "        self.make = make\n",
    "        self.model = model\n",
    "        self.year = year\n",
    "        \n",
    "    # Now the below are the METHODS - What object does/ can do\n",
    "\n",
    "    def start_engine(self):\n",
    "        print(f\"{self.make} {self.model} engine started.\")\n",
    "\n",
    "    def stop_engine(self):\n",
    "        print(f\"{self.make} {self.model} engine stopped.\")\n"
   ]
  },
  {
   "cell_type": "code",
   "execution_count": 37,
   "id": "4f9e268b",
   "metadata": {},
   "outputs": [],
   "source": [
    "class ElectricCar(Car):\n",
    "    pass"
   ]
  },
  {
   "cell_type": "code",
   "execution_count": 38,
   "id": "a0ac59d5",
   "metadata": {},
   "outputs": [
    {
     "name": "stdout",
     "output_type": "stream",
     "text": [
      "HEY GUYS WELCOME TO TODAY's SESSION\n"
     ]
    }
   ],
   "source": [
    "C10 = ElectricCar(\"BYD\",\"A1\",2023)"
   ]
  },
  {
   "cell_type": "code",
   "execution_count": 19,
   "id": "2b62d8f9",
   "metadata": {},
   "outputs": [
    {
     "data": {
      "text/plain": [
       "'BYD'"
      ]
     },
     "execution_count": 19,
     "metadata": {},
     "output_type": "execute_result"
    }
   ],
   "source": [
    "C10.make"
   ]
  },
  {
   "cell_type": "markdown",
   "id": "b6564cb0",
   "metadata": {},
   "source": [
    "#### Method 1 without Super()"
   ]
  },
  {
   "cell_type": "code",
   "execution_count": 25,
   "id": "b6b50d04",
   "metadata": {},
   "outputs": [],
   "source": [
    "class ElectricCar(Car):  # Inherits from Car\n",
    "    def __init__(self, make, model, year, battery_size):\n",
    "        \n",
    "        self.make = make\n",
    "        self.model = model\n",
    "        self.year = year\n",
    "        self.battery_size = battery_size  # Initialize ElectricCar specific attribute\n",
    "\n",
    "    def charge(self):\n",
    "        print(f\"{self.make} {self.model} is now charging.\")"
   ]
  },
  {
   "cell_type": "code",
   "execution_count": 26,
   "id": "6da5d3cf",
   "metadata": {},
   "outputs": [],
   "source": [
    "Tesla = ElectricCar(\"Tesla\",\"X\",\"2023\",\"1000\")"
   ]
  },
  {
   "cell_type": "code",
   "execution_count": 28,
   "id": "4a47005a",
   "metadata": {},
   "outputs": [
    {
     "data": {
      "text/plain": [
       "'1000'"
      ]
     },
     "execution_count": 28,
     "metadata": {},
     "output_type": "execute_result"
    }
   ],
   "source": [
    "Tesla.battery_size"
   ]
  },
  {
   "cell_type": "code",
   "execution_count": 30,
   "id": "0ad6bacd",
   "metadata": {},
   "outputs": [
    {
     "name": "stdout",
     "output_type": "stream",
     "text": [
      "Tesla X is now charging.\n"
     ]
    }
   ],
   "source": [
    "Tesla.charge()"
   ]
  },
  {
   "cell_type": "markdown",
   "id": "a371d8e6",
   "metadata": {},
   "source": [
    "#### Method 1 with Super()"
   ]
  },
  {
   "cell_type": "code",
   "execution_count": 31,
   "id": "e3208b68",
   "metadata": {},
   "outputs": [],
   "source": [
    "class Car():\n",
    "    def __init__(self, make, model = None, year = None):  \n",
    "        print(\"HEY GUYS WELCOME TO TODAY's SESSION\")\n",
    "        self.make = make\n",
    "        self.model = model\n",
    "        self.year = year\n",
    "\n",
    "    def start_engine(self):\n",
    "        print(f\"{self.make} {self.model} engine started.\")\n",
    "\n",
    "    def stop_engine(self):\n",
    "        print(f\"{self.make} {self.model} engine stopped.\")\n",
    "\n",
    "# Inheritance Starts\n",
    "\n",
    "class ElectricCar(Car):  # Inherits from Car\n",
    "    \n",
    "    def __init__(self, make, model, year, battery_size):\n",
    "        \n",
    "        super().__init__(make, model = model, year = year)\n",
    "        self.battery_size = battery_size  # Initialize ElectricCar specific attribute\n",
    "\n",
    "    def charge(self):\n",
    "        print(f\"{self.make} is now charging.\")\n",
    "\n",
    "\n",
    "\n",
    "        "
   ]
  },
  {
   "cell_type": "code",
   "execution_count": 32,
   "id": "4ee5e500",
   "metadata": {},
   "outputs": [
    {
     "name": "stdout",
     "output_type": "stream",
     "text": [
      "HEY GUYS WELCOME TO TODAY's SESSION\n"
     ]
    }
   ],
   "source": [
    "C2 = ElectricCar(\"Tesla\",\"100000\",2024,\"x\")"
   ]
  },
  {
   "cell_type": "code",
   "execution_count": 33,
   "id": "0114a837",
   "metadata": {},
   "outputs": [
    {
     "data": {
      "text/plain": [
       "'100000'"
      ]
     },
     "execution_count": 33,
     "metadata": {},
     "output_type": "execute_result"
    }
   ],
   "source": [
    "C2.model"
   ]
  },
  {
   "cell_type": "code",
   "execution_count": 34,
   "id": "bd9cd0b0",
   "metadata": {},
   "outputs": [
    {
     "name": "stdout",
     "output_type": "stream",
     "text": [
      "Tesla is now charging.\n"
     ]
    }
   ],
   "source": [
    "C2.charge()"
   ]
  },
  {
   "cell_type": "code",
   "execution_count": 35,
   "id": "e77fd784",
   "metadata": {},
   "outputs": [
    {
     "name": "stdout",
     "output_type": "stream",
     "text": [
      "Tesla 100000 engine started.\n"
     ]
    }
   ],
   "source": [
    "C2.start_engine()"
   ]
  },
  {
   "cell_type": "markdown",
   "id": "53a81228",
   "metadata": {},
   "source": [
    "# Multiple Inheritance"
   ]
  },
  {
   "cell_type": "code",
   "execution_count": 36,
   "id": "e7d6e31f",
   "metadata": {},
   "outputs": [],
   "source": [
    "class Car:\n",
    "    def __init__(self, make, model, year):\n",
    "        self.make = make\n",
    "        self.model = model\n",
    "        self.year = year\n",
    "\n",
    "class ElectricCar(Car):\n",
    "    def __init__(self, make, model, year, battery_size):\n",
    "        super().__init__(make, model, year)\n",
    "        self.battery_size = battery_size\n",
    "\n",
    "    def charge(self):\n",
    "        print(f\"{self.make} {self.model} is now charging.\")\n",
    "\n",
    "class Convertible(Car):\n",
    "    def __init__(self, make, model, year, roof_status=\"closed\"):\n",
    "        super().__init__(make, model, year)\n",
    "        self.roof_status = roof_status\n",
    "\n",
    "    def open_roof(self):\n",
    "        self.roof_status = \"open\"\n",
    "        print(\"The roof is now open.\")\n",
    "\n",
    "    def close_roof(self):\n",
    "        self.roof_status = \"closed\"\n",
    "        print(\"The roof is now closed.\")\n",
    "\n",
    "class ElectricConvertible(ElectricCar, Convertible):\n",
    "    def __init__(self, make, model, year, battery_size, roof_status= \"closed\"):\n",
    "        \n",
    "        # Explicitly call each parent class's __init__ method\n",
    "        ElectricCar.__init__(self, make, model, year, battery_size)\n",
    "        Convertible.__init__(self, make, model, year, roof_status)\n",
    "        \n",
    "    def display_status(self):\n",
    "        print(f\"{self.make} {self.model} (Year: {self.year}) with battery size {self.battery_size} kWh and roof status: {self.roof_status}\")\n",
    "\n"
   ]
  },
  {
   "cell_type": "code",
   "execution_count": 37,
   "id": "d2ebc348",
   "metadata": {},
   "outputs": [
    {
     "name": "stdout",
     "output_type": "stream",
     "text": [
      "Tesla Model S is now charging.\n",
      "The roof is now open.\n",
      "The roof is now closed.\n",
      "Tesla Model S (Year: 2022) with battery size 100 kWh and roof status: closed\n"
     ]
    }
   ],
   "source": [
    "my_electric_convertible = ElectricConvertible(\"Tesla\", \"Model S\", 2022, 100, \"closed\")\n",
    "\n",
    "# Accessing methods and attributes\n",
    "my_electric_convertible.charge()        # From ElectricCar\n",
    "my_electric_convertible.open_roof()     # From Convertible\n",
    "my_electric_convertible.close_roof()    # From Convertible\n",
    "my_electric_convertible.display_status()"
   ]
  },
  {
   "cell_type": "code",
   "execution_count": 38,
   "id": "f35c8a2c",
   "metadata": {},
   "outputs": [],
   "source": [
    "C3 = ElectricConvertible(\"Rolce_Royce\",\"Spectre\",2024,1000000)"
   ]
  },
  {
   "cell_type": "code",
   "execution_count": 39,
   "id": "6a737fc3",
   "metadata": {},
   "outputs": [
    {
     "data": {
      "text/plain": [
       "'Rolce_Royce'"
      ]
     },
     "execution_count": 39,
     "metadata": {},
     "output_type": "execute_result"
    }
   ],
   "source": [
    "C3.make"
   ]
  },
  {
   "cell_type": "code",
   "execution_count": 40,
   "id": "19498b07",
   "metadata": {},
   "outputs": [
    {
     "name": "stdout",
     "output_type": "stream",
     "text": [
      "The roof is now closed.\n"
     ]
    }
   ],
   "source": [
    "C3.close_roof()"
   ]
  },
  {
   "cell_type": "code",
   "execution_count": 41,
   "id": "8f52c60a",
   "metadata": {},
   "outputs": [],
   "source": [
    "# Now \"C3.\" will be able to inherit everything in it ."
   ]
  },
  {
   "cell_type": "code",
   "execution_count": 42,
   "id": "bd38cb10",
   "metadata": {},
   "outputs": [
    {
     "data": {
      "text/plain": [
       "'Rolce_Royce'"
      ]
     },
     "execution_count": 42,
     "metadata": {},
     "output_type": "execute_result"
    }
   ],
   "source": [
    "C3.make"
   ]
  },
  {
   "cell_type": "markdown",
   "id": "fbd6a70a",
   "metadata": {},
   "source": [
    "# ENCAPSULATION"
   ]
  },
  {
   "cell_type": "markdown",
   "id": "626425e9",
   "metadata": {
    "tags": []
   },
   "source": [
    "# Access Modifiers"
   ]
  },
  {
   "cell_type": "code",
   "execution_count": 45,
   "id": "c2d8dc92",
   "metadata": {},
   "outputs": [],
   "source": [
    "class Car1:\n",
    "    def __init__(self, make, model, year):\n",
    "        \n",
    "        self.make = make     # Public attribute\n",
    "        self._model = model  # Protected attribute\n",
    "        self.__year = year   # Private attribute\n",
    "\n",
    "    def start(self): # Public Method\n",
    "        # Logic to start the engine\n",
    "        print(f\"The {self.make} {self._model} is starting.\")\n",
    "\n",
    "    def _stop(self): # Protected Method\n",
    "        # Logic to stop the engine\n",
    "        print(f\"The {self.make} {self._model} has stopped.\")\n",
    "    \n",
    "    def __hey(self): # Priveate Method\n",
    "        # Logic to stop the engine\n",
    "        print(f\"The {self.make} {self._model} hey\")\n"
   ]
  },
  {
   "cell_type": "code",
   "execution_count": 46,
   "id": "5d40321e",
   "metadata": {},
   "outputs": [],
   "source": [
    "BMW = Car1(\"BMW\",\"X1\",2024)"
   ]
  },
  {
   "cell_type": "markdown",
   "id": "e70d50e3",
   "metadata": {},
   "source": [
    "### Now lets try to access the Public Attribute. Here if you write the object name and then press \".\" , you will see that you will get this attribute in the access permission"
   ]
  },
  {
   "cell_type": "code",
   "execution_count": 33,
   "id": "5fceb9cf",
   "metadata": {},
   "outputs": [
    {
     "name": "stdout",
     "output_type": "stream",
     "text": [
      "The BMW X1 is starting.\n"
     ]
    }
   ],
   "source": [
    "BMW.start()"
   ]
  },
  {
   "cell_type": "markdown",
   "id": "d0511d7d",
   "metadata": {},
   "source": [
    "### Now lets try to access the protected attribute. You will see after \".\" yuo dont see this attribute for Car class\n"
   ]
  },
  {
   "cell_type": "code",
   "execution_count": 34,
   "id": "7b0ab766",
   "metadata": {},
   "outputs": [
    {
     "ename": "AttributeError",
     "evalue": "'Car1' object has no attribute 'model'",
     "output_type": "error",
     "traceback": [
      "\u001b[0;31m---------------------------------------------------------------------------\u001b[0m",
      "\u001b[0;31mAttributeError\u001b[0m                            Traceback (most recent call last)",
      "Input \u001b[0;32mIn [34]\u001b[0m, in \u001b[0;36m<cell line: 1>\u001b[0;34m()\u001b[0m\n\u001b[0;32m----> 1\u001b[0m \u001b[43mBMW\u001b[49m\u001b[38;5;241;43m.\u001b[39;49m\u001b[43mmodel\u001b[49m\n",
      "\u001b[0;31mAttributeError\u001b[0m: 'Car1' object has no attribute 'model'"
     ]
    }
   ],
   "source": [
    "BMW.model"
   ]
  },
  {
   "cell_type": "code",
   "execution_count": 35,
   "id": "fba8cce3",
   "metadata": {},
   "outputs": [
    {
     "data": {
      "text/plain": [
       "'X1'"
      ]
     },
     "execution_count": 35,
     "metadata": {},
     "output_type": "execute_result"
    }
   ],
   "source": [
    "# Now above is giving error because we are trying to access a Protected Attribute.\n",
    "\n",
    "# But if we write this, you will get the result. But not a good practice.\n",
    "\n",
    "BMW._model"
   ]
  },
  {
   "cell_type": "code",
   "execution_count": 36,
   "id": "8a0e39fc",
   "metadata": {},
   "outputs": [],
   "source": [
    "# We modified this now\n",
    "\n",
    "BMW._model = \"X7\""
   ]
  },
  {
   "cell_type": "code",
   "execution_count": 37,
   "id": "4e4163ae",
   "metadata": {},
   "outputs": [
    {
     "data": {
      "text/plain": [
       "'X7'"
      ]
     },
     "execution_count": 37,
     "metadata": {},
     "output_type": "execute_result"
    }
   ],
   "source": [
    "BMW._model"
   ]
  },
  {
   "cell_type": "markdown",
   "id": "ca2cc09d",
   "metadata": {},
   "source": [
    "### Now lets try to access the Private Attribute"
   ]
  },
  {
   "cell_type": "code",
   "execution_count": 38,
   "id": "c97c4fb0",
   "metadata": {},
   "outputs": [
    {
     "ename": "AttributeError",
     "evalue": "'Car1' object has no attribute 'year'",
     "output_type": "error",
     "traceback": [
      "\u001b[0;31m---------------------------------------------------------------------------\u001b[0m",
      "\u001b[0;31mAttributeError\u001b[0m                            Traceback (most recent call last)",
      "Input \u001b[0;32mIn [38]\u001b[0m, in \u001b[0;36m<cell line: 3>\u001b[0;34m()\u001b[0m\n\u001b[1;32m      1\u001b[0m \u001b[38;5;66;03m# Now, this code throws you error because it is trying to access a PRIVATE variable.\u001b[39;00m\n\u001b[0;32m----> 3\u001b[0m \u001b[43mBMW\u001b[49m\u001b[38;5;241;43m.\u001b[39;49m\u001b[43myear\u001b[49m\n",
      "\u001b[0;31mAttributeError\u001b[0m: 'Car1' object has no attribute 'year'"
     ]
    }
   ],
   "source": [
    "# Now, this code throws you error because it is trying to access a PRIVATE variable.\n",
    "\n",
    "BMW.year"
   ]
  },
  {
   "cell_type": "code",
   "execution_count": 39,
   "id": "043255c5",
   "metadata": {},
   "outputs": [
    {
     "ename": "AttributeError",
     "evalue": "'Car1' object has no attribute '__year'",
     "output_type": "error",
     "traceback": [
      "\u001b[0;31m---------------------------------------------------------------------------\u001b[0m",
      "\u001b[0;31mAttributeError\u001b[0m                            Traceback (most recent call last)",
      "Input \u001b[0;32mIn [39]\u001b[0m, in \u001b[0;36m<cell line: 3>\u001b[0;34m()\u001b[0m\n\u001b[1;32m      1\u001b[0m \u001b[38;5;66;03m# We cannot access this variable\u001b[39;00m\n\u001b[0;32m----> 3\u001b[0m \u001b[43mBMW\u001b[49m\u001b[38;5;241;43m.\u001b[39;49m\u001b[43m__year\u001b[49m\n",
      "\u001b[0;31mAttributeError\u001b[0m: 'Car1' object has no attribute '__year'"
     ]
    }
   ],
   "source": [
    "# We cannot access this variable\n",
    "\n",
    "BMW.__year"
   ]
  },
  {
   "cell_type": "code",
   "execution_count": 80,
   "id": "0f05b1cd",
   "metadata": {},
   "outputs": [
    {
     "data": {
      "text/plain": [
       "['_Car1__year',\n",
       " '__class__',\n",
       " '__delattr__',\n",
       " '__dict__',\n",
       " '__dir__',\n",
       " '__doc__',\n",
       " '__eq__',\n",
       " '__format__',\n",
       " '__ge__',\n",
       " '__getattribute__',\n",
       " '__gt__',\n",
       " '__hash__',\n",
       " '__init__',\n",
       " '__init_subclass__',\n",
       " '__le__',\n",
       " '__lt__',\n",
       " '__module__',\n",
       " '__ne__',\n",
       " '__new__',\n",
       " '__reduce__',\n",
       " '__reduce_ex__',\n",
       " '__repr__',\n",
       " '__setattr__',\n",
       " '__sizeof__',\n",
       " '__str__',\n",
       " '__subclasshook__',\n",
       " '__weakref__',\n",
       " '_model',\n",
       " 'make',\n",
       " 'start',\n",
       " 'stop']"
      ]
     },
     "execution_count": 80,
     "metadata": {},
     "output_type": "execute_result"
    }
   ],
   "source": [
    "dir(BMW)"
   ]
  },
  {
   "cell_type": "code",
   "execution_count": 96,
   "id": "169888d8",
   "metadata": {},
   "outputs": [
    {
     "data": {
      "text/plain": [
       "2024"
      ]
     },
     "execution_count": 96,
     "metadata": {},
     "output_type": "execute_result"
    }
   ],
   "source": [
    "# Now if we do this  --> _Car1__year\n",
    "\n",
    "BMW._Car1__year\n",
    "\n",
    "# But this is unethical and is not a good practice."
   ]
  },
  {
   "cell_type": "code",
   "execution_count": null,
   "id": "e0a709df",
   "metadata": {},
   "outputs": [],
   "source": [
    "BMW."
   ]
  },
  {
   "cell_type": "code",
   "execution_count": 104,
   "id": "553c9dcd",
   "metadata": {},
   "outputs": [
    {
     "name": "stdout",
     "output_type": "stream",
     "text": [
      "The BMW X1 has stopped.\n"
     ]
    }
   ],
   "source": [
    "BMW.stop()"
   ]
  },
  {
   "cell_type": "code",
   "execution_count": 105,
   "id": "6185d63e",
   "metadata": {},
   "outputs": [
    {
     "ename": "AttributeError",
     "evalue": "'Car1' object has no attribute 'year'",
     "output_type": "error",
     "traceback": [
      "\u001b[0;31m---------------------------------------------------------------------------\u001b[0m",
      "\u001b[0;31mAttributeError\u001b[0m                            Traceback (most recent call last)",
      "Input \u001b[0;32mIn [105]\u001b[0m, in \u001b[0;36m<cell line: 1>\u001b[0;34m()\u001b[0m\n\u001b[0;32m----> 1\u001b[0m \u001b[43mBMW\u001b[49m\u001b[38;5;241;43m.\u001b[39;49m\u001b[43myear\u001b[49m\n",
      "\u001b[0;31mAttributeError\u001b[0m: 'Car1' object has no attribute 'year'"
     ]
    }
   ],
   "source": [
    "BMW.year"
   ]
  },
  {
   "cell_type": "markdown",
   "id": "b24a5ef3",
   "metadata": {},
   "source": [
    "# Polymorphism\n",
    "\n",
    "#### Polymorphism is another fundamental concept of object-oriented programming that allows objects of different classes to be treated as objects of a common superclass. It focuses on the idea that a method can have multiple forms, or that one method interface can serve multiple purposes. Polymorphism can be implemented through method overriding (where a child class redefines a method of its parent class) or operator overloading.\n",
    "\n",
    "\n",
    "## Method Overriding"
   ]
  },
  {
   "cell_type": "code",
   "execution_count": 49,
   "id": "b090b0d2",
   "metadata": {},
   "outputs": [],
   "source": [
    "class Car:\n",
    "    def __init__(self, make, model, year):\n",
    "        self.make = make\n",
    "        self.model = model\n",
    "        self.year = year\n",
    "\n",
    "    def start(self):\n",
    "        print(f\"The {self.make} {self.model} starts with a key.\")\n",
    "\n",
    "    def stop(self):\n",
    "        print(f\"The {self.make} {self.model} has stopped.\")\n"
   ]
  },
  {
   "cell_type": "code",
   "execution_count": 52,
   "id": "2e7a5cc3",
   "metadata": {},
   "outputs": [],
   "source": [
    "class ElectricCar(Car):\n",
    "    \n",
    "    def start(self):\n",
    "        # Overriding the start method specifically for electric cars\n",
    "        print(f\"The {self.make} {self.model} starts silently with a button.\")\n",
    "\n",
    "class GasCar(Car):\n",
    "    \n",
    "    def start(self):\n",
    "        # Overriding the start method specifically for gas cars\n",
    "        print(f\"The {self.make} {self.model} starts with a loud engine roar.\")\n"
   ]
  },
  {
   "cell_type": "markdown",
   "id": "3836d31c",
   "metadata": {},
   "source": [
    "#### In this setup, ElectricCar and GasCar both inherit from the Car class but override the start() method to provide different behaviors suitable for their respective types. This is a classic example of polymorphism where the interface (start() method) remains the same, but the implementation differs based on the object type"
   ]
  },
  {
   "cell_type": "code",
   "execution_count": 53,
   "id": "11e7f21f",
   "metadata": {},
   "outputs": [
    {
     "name": "stdout",
     "output_type": "stream",
     "text": [
      "The Toyota Corolla starts with a key.\n",
      "The Tesla Model S starts silently with a button.\n",
      "The Ford Mustang starts with a loud engine roar.\n"
     ]
    }
   ],
   "source": [
    "cars = [\n",
    "    Car(\"Toyota\", \"Corolla\", 2020),\n",
    "    ElectricCar(\"Tesla\", \"Model S\", 2022),\n",
    "    GasCar(\"Ford\", \"Mustang\", 2021)\n",
    "]\n",
    "\n",
    "for car in cars:\n",
    "    car.start()  # Calls the start method appropriate to the object's class\n"
   ]
  },
  {
   "cell_type": "markdown",
   "id": "700cf30d",
   "metadata": {},
   "source": [
    "## Operator Overloading"
   ]
  },
  {
   "cell_type": "code",
   "execution_count": null,
   "id": "aa720d46",
   "metadata": {},
   "outputs": [],
   "source": [
    "x = 8; y = 15\n",
    "x + y"
   ]
  },
  {
   "cell_type": "code",
   "execution_count": null,
   "id": "53044a88",
   "metadata": {},
   "outputs": [],
   "source": [
    "x = 'FirstName' \n",
    "y = 'LastName'\n",
    "x + ' ' + y"
   ]
  },
  {
   "cell_type": "code",
   "execution_count": null,
   "id": "4b5a6003",
   "metadata": {},
   "outputs": [],
   "source": [
    "# Len "
   ]
  },
  {
   "cell_type": "code",
   "execution_count": 68,
   "id": "f2139c75",
   "metadata": {},
   "outputs": [],
   "source": [
    "s = \"Raghav\""
   ]
  },
  {
   "cell_type": "code",
   "execution_count": 69,
   "id": "7aacc994",
   "metadata": {},
   "outputs": [
    {
     "name": "stdout",
     "output_type": "stream",
     "text": [
      "6\n"
     ]
    }
   ],
   "source": [
    "print(len(s))"
   ]
  },
  {
   "cell_type": "code",
   "execution_count": 71,
   "id": "16727d4c",
   "metadata": {},
   "outputs": [],
   "source": [
    "l = [1,2,3,4,\"Raghav\",\"Goel\"]"
   ]
  },
  {
   "cell_type": "code",
   "execution_count": 72,
   "id": "c6b0df30",
   "metadata": {},
   "outputs": [
    {
     "name": "stdout",
     "output_type": "stream",
     "text": [
      "6\n"
     ]
    }
   ],
   "source": [
    "print(len(l))"
   ]
  },
  {
   "cell_type": "markdown",
   "id": "d2994f37",
   "metadata": {},
   "source": [
    "# Abstraction "
   ]
  },
  {
   "cell_type": "code",
   "execution_count": 56,
   "id": "5a01f535",
   "metadata": {},
   "outputs": [],
   "source": [
    "from abc import abstractmethod, ABC \n",
    "\n",
    "# \"abc\" is the package/module and we will import \"abstractmethod\" and \"ABC\""
   ]
  },
  {
   "cell_type": "code",
   "execution_count": 57,
   "id": "a243b100",
   "metadata": {},
   "outputs": [],
   "source": [
    "from abc import ABC, abstractmethod\n",
    "\n",
    "class Vehicle(ABC):\n",
    "    def __init__(self, make, model):\n",
    "        self.make = make\n",
    "        self.model = model\n",
    "\n",
    "    @abstractmethod\n",
    "    def start(self):\n",
    "        pass\n",
    "\n",
    "    @abstractmethod\n",
    "    def stop(self):\n",
    "        pass\n",
    "\n",
    "    def display_info(self):\n",
    "        print(f\"This vehicle is a {self.make} {self.model}.\")\n"
   ]
  },
  {
   "cell_type": "code",
   "execution_count": 58,
   "id": "df0eb025",
   "metadata": {},
   "outputs": [],
   "source": [
    "class Car(Vehicle):\n",
    "    pass\n",
    "    #def start(self):\n",
    "        #print(f\"{self.make} {self.model} car is starting.\")\n",
    "\n",
    "    #def stop(self):\n",
    "        #print(f\"{self.make} {self.model} car has stopped.\")\n"
   ]
  },
  {
   "cell_type": "code",
   "execution_count": 59,
   "id": "4afaaefa",
   "metadata": {},
   "outputs": [
    {
     "ename": "TypeError",
     "evalue": "Can't instantiate abstract class Car with abstract methods start, stop",
     "output_type": "error",
     "traceback": [
      "\u001b[0;31m---------------------------------------------------------------------------\u001b[0m",
      "\u001b[0;31mTypeError\u001b[0m                                 Traceback (most recent call last)",
      "Input \u001b[0;32mIn [59]\u001b[0m, in \u001b[0;36m<cell line: 3>\u001b[0;34m()\u001b[0m\n\u001b[1;32m      1\u001b[0m \u001b[38;5;66;03m# We get error beacsue we cannot use the Vehicle class without defining Start and Stop Method\u001b[39;00m\n\u001b[0;32m----> 3\u001b[0m a \u001b[38;5;241m=\u001b[39m \u001b[43mCar\u001b[49m\u001b[43m(\u001b[49m\u001b[38;5;124;43m\"\u001b[39;49m\u001b[38;5;124;43ma\u001b[39;49m\u001b[38;5;124;43m\"\u001b[39;49m\u001b[43m,\u001b[49m\u001b[38;5;241;43m2222\u001b[39;49m\u001b[43m)\u001b[49m\n",
      "\u001b[0;31mTypeError\u001b[0m: Can't instantiate abstract class Car with abstract methods start, stop"
     ]
    }
   ],
   "source": [
    "# We get error beacsue we cannot use the Vehicle class without defining Start and Stop Method\n",
    "\n",
    "a = Car(\"a\",2222)"
   ]
  },
  {
   "cell_type": "code",
   "execution_count": 60,
   "id": "fa70c098",
   "metadata": {},
   "outputs": [],
   "source": [
    "class Car(Vehicle):\n",
    "    \n",
    "    \n",
    "    \n",
    "    def start(self):\n",
    "        print(f\"{self.make} {self.model} car is starting.\")\n",
    "\n",
    "    #def stop(self):\n",
    "        #print(f\"{self.make} {self.model} car has stopped.\")\n"
   ]
  },
  {
   "cell_type": "code",
   "execution_count": 61,
   "id": "91be1f22",
   "metadata": {},
   "outputs": [
    {
     "ename": "TypeError",
     "evalue": "Can't instantiate abstract class Car with abstract method stop",
     "output_type": "error",
     "traceback": [
      "\u001b[0;31m---------------------------------------------------------------------------\u001b[0m",
      "\u001b[0;31mTypeError\u001b[0m                                 Traceback (most recent call last)",
      "Input \u001b[0;32mIn [61]\u001b[0m, in \u001b[0;36m<cell line: 3>\u001b[0;34m()\u001b[0m\n\u001b[1;32m      1\u001b[0m \u001b[38;5;66;03m# Now even if i make Start and not Stop, the code will still not work. Because we still havend defined stop\u001b[39;00m\n\u001b[0;32m----> 3\u001b[0m a \u001b[38;5;241m=\u001b[39m \u001b[43mCar\u001b[49m\u001b[43m(\u001b[49m\u001b[38;5;124;43m\"\u001b[39;49m\u001b[38;5;124;43ma\u001b[39;49m\u001b[38;5;124;43m\"\u001b[39;49m\u001b[43m,\u001b[49m\u001b[38;5;241;43m2222\u001b[39;49m\u001b[43m)\u001b[49m\n",
      "\u001b[0;31mTypeError\u001b[0m: Can't instantiate abstract class Car with abstract method stop"
     ]
    }
   ],
   "source": [
    "# Now even if i make Start and not Stop, the code will still not work. Because we still havend defined stop\n",
    "\n",
    "a = Car(\"a\",2222)"
   ]
  },
  {
   "cell_type": "code",
   "execution_count": 62,
   "id": "1408bce3",
   "metadata": {},
   "outputs": [],
   "source": [
    "class Car(Vehicle):\n",
    "    \n",
    "    def start(self):\n",
    "        print(f\"{self.make} {self.model} car is starting.\")\n",
    "\n",
    "    def stop(self):\n",
    "        print(f\"{self.make} {self.model} car has stopped.\")\n"
   ]
  },
  {
   "cell_type": "code",
   "execution_count": 63,
   "id": "0b182195",
   "metadata": {},
   "outputs": [],
   "source": [
    "# Now when i have made Start and not Stop, the code will work.\n",
    "\n",
    "a = Car(\"a\",2222)"
   ]
  },
  {
   "cell_type": "code",
   "execution_count": 64,
   "id": "1de50768",
   "metadata": {},
   "outputs": [
    {
     "name": "stdout",
     "output_type": "stream",
     "text": [
      "a 2222 car has stopped.\n"
     ]
    }
   ],
   "source": [
    "a.stop()"
   ]
  },
  {
   "cell_type": "markdown",
   "id": "4718935a",
   "metadata": {},
   "source": [
    "## Another Example"
   ]
  },
  {
   "cell_type": "code",
   "execution_count": 66,
   "id": "b46a6313",
   "metadata": {},
   "outputs": [],
   "source": [
    "class Beverage(ABC):\n",
    "    \n",
    "    @abstractmethod\n",
    "    def Ingredients(self):\n",
    "        print('base')\n",
    "        \n",
    "    def Taste(self):\n",
    "        pass"
   ]
  },
  {
   "cell_type": "code",
   "execution_count": 67,
   "id": "54e9f634",
   "metadata": {},
   "outputs": [
    {
     "ename": "TypeError",
     "evalue": "Can't instantiate abstract class Beverage with abstract method Ingredients",
     "output_type": "error",
     "traceback": [
      "\u001b[0;31m---------------------------------------------------------------------------\u001b[0m",
      "\u001b[0;31mTypeError\u001b[0m                                 Traceback (most recent call last)",
      "Input \u001b[0;32mIn [67]\u001b[0m, in \u001b[0;36m<cell line: 1>\u001b[0;34m()\u001b[0m\n\u001b[0;32m----> 1\u001b[0m obj \u001b[38;5;241m=\u001b[39m \u001b[43mBeverage\u001b[49m\u001b[43m(\u001b[49m\u001b[43m)\u001b[49m\n",
      "\u001b[0;31mTypeError\u001b[0m: Can't instantiate abstract class Beverage with abstract method Ingredients"
     ]
    }
   ],
   "source": [
    "obj = Beverage()"
   ]
  },
  {
   "cell_type": "code",
   "execution_count": 68,
   "id": "936a0236",
   "metadata": {},
   "outputs": [],
   "source": [
    "# derived class 1\n",
    "\n",
    "class mango_shake(Beverage):\n",
    "\n",
    "    def Taste(self):\n",
    "        print('Yumm!!')"
   ]
  },
  {
   "cell_type": "code",
   "execution_count": 69,
   "id": "41e07a59",
   "metadata": {},
   "outputs": [
    {
     "ename": "TypeError",
     "evalue": "Can't instantiate abstract class mango_shake with abstract method Ingredients",
     "output_type": "error",
     "traceback": [
      "\u001b[0;31m---------------------------------------------------------------------------\u001b[0m",
      "\u001b[0;31mTypeError\u001b[0m                                 Traceback (most recent call last)",
      "Input \u001b[0;32mIn [69]\u001b[0m, in \u001b[0;36m<cell line: 1>\u001b[0;34m()\u001b[0m\n\u001b[0;32m----> 1\u001b[0m obj1 \u001b[38;5;241m=\u001b[39m \u001b[43mmango_shake\u001b[49m\u001b[43m(\u001b[49m\u001b[43m)\u001b[49m\n\u001b[1;32m      2\u001b[0m obj1\u001b[38;5;241m.\u001b[39mingredients()\n\u001b[1;32m      3\u001b[0m obj1\u001b[38;5;241m.\u001b[39mtaste()\n",
      "\u001b[0;31mTypeError\u001b[0m: Can't instantiate abstract class mango_shake with abstract method Ingredients"
     ]
    }
   ],
   "source": [
    "obj1 = mango_shake()\n",
    "obj1.ingredients()\n",
    "obj1.taste()"
   ]
  },
  {
   "cell_type": "code",
   "execution_count": 70,
   "id": "ca357a50",
   "metadata": {},
   "outputs": [],
   "source": [
    "# derived class 1\n",
    "class Mango_shake(Beverage):\n",
    "    \n",
    "    def Ingredients(self):\n",
    "        print(\"WOW,getting out of abstract\")\n",
    "    def Taste(self):\n",
    "        print('Yumm!!')"
   ]
  },
  {
   "cell_type": "code",
   "execution_count": 71,
   "id": "39a12b8e",
   "metadata": {},
   "outputs": [
    {
     "name": "stdout",
     "output_type": "stream",
     "text": [
      "WOW,getting out of abstract\n",
      "Yumm!!\n"
     ]
    }
   ],
   "source": [
    "obj1 = Mango_shake()\n",
    "obj1.Ingredients()\n",
    "obj1.Taste()"
   ]
  },
  {
   "cell_type": "code",
   "execution_count": null,
   "id": "2848eef1",
   "metadata": {},
   "outputs": [],
   "source": []
  }
 ],
 "metadata": {
  "kernelspec": {
   "display_name": "Python 3 (ipykernel)",
   "language": "python",
   "name": "python3"
  },
  "language_info": {
   "codemirror_mode": {
    "name": "ipython",
    "version": 3
   },
   "file_extension": ".py",
   "mimetype": "text/x-python",
   "name": "python",
   "nbconvert_exporter": "python",
   "pygments_lexer": "ipython3",
   "version": "3.10.4"
  }
 },
 "nbformat": 4,
 "nbformat_minor": 5
}
