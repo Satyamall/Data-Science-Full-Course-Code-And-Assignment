{
 "cells": [
  {
   "cell_type": "markdown",
   "id": "Eb2L22pmtIUA",
   "metadata": {
    "id": "Eb2L22pmtIUA"
   },
   "source": [
    "# Functions"
   ]
  },
  {
   "cell_type": "code",
   "execution_count": 1,
   "id": "d15c9586",
   "metadata": {},
   "outputs": [],
   "source": [
    "# WAP to add 4 number in python using function\n",
    "\n",
    "def adder(a,b,c,d):\n",
    "    \n",
    "    z = a+b+c+d\n",
    "    print(z)\n",
    "    \n",
    "    # a,b,c,d are Parametres"
   ]
  },
  {
   "cell_type": "code",
   "execution_count": 2,
   "id": "dbba89de",
   "metadata": {},
   "outputs": [
    {
     "name": "stdout",
     "output_type": "stream",
     "text": [
      "84\n"
     ]
    }
   ],
   "source": [
    "adder(4,5,6,8) # 4,5,6,8 are called as Arguments"
   ]
  },
  {
   "cell_type": "code",
   "execution_count": 4,
   "id": "xdpGp4votIUB",
   "metadata": {
    "id": "xdpGp4votIUB"
   },
   "outputs": [],
   "source": [
    "# Function Definition\n",
    "\n",
    "def greetings(name, greeting):\n",
    "    \n",
    "    print(greeting ,'! ', name, sep = '')"
   ]
  },
  {
   "cell_type": "code",
   "execution_count": 8,
   "id": "SZct1ueytIUC",
   "metadata": {
    "id": "SZct1ueytIUC",
    "outputId": "df5214ad-6947-4bdb-9bce-a97889ee521a"
   },
   "outputs": [
    {
     "name": "stdout",
     "output_type": "stream",
     "text": [
      "Hola! Raghav\n"
     ]
    }
   ],
   "source": [
    "# Function call\n",
    "\n",
    "greetings('Raghav', 'Hola')"
   ]
  },
  {
   "cell_type": "markdown",
   "id": "XssBuY8OtIUC",
   "metadata": {
    "id": "XssBuY8OtIUC"
   },
   "source": [
    "### Positional Argument"
   ]
  },
  {
   "cell_type": "code",
   "execution_count": 9,
   "id": "q-Qwk2R1tIUD",
   "metadata": {
    "id": "q-Qwk2R1tIUD",
    "outputId": "1f769c4b-e59b-4488-8673-ac1b31e4affc"
   },
   "outputs": [
    {
     "name": "stdout",
     "output_type": "stream",
     "text": [
      "John! Hello\n"
     ]
    }
   ],
   "source": [
    "greetings('Hello', 'John')"
   ]
  },
  {
   "cell_type": "code",
   "execution_count": 10,
   "id": "6d1cd203",
   "metadata": {},
   "outputs": [
    {
     "name": "stdout",
     "output_type": "stream",
     "text": [
      "Help on function greetings in module __main__:\n",
      "\n",
      "greetings(name, greeting)\n",
      "\n"
     ]
    }
   ],
   "source": [
    "help(greetings)"
   ]
  },
  {
   "cell_type": "code",
   "execution_count": 12,
   "id": "59539845",
   "metadata": {},
   "outputs": [
    {
     "name": "stdout",
     "output_type": "stream",
     "text": [
      "Help on function adder in module __main__:\n",
      "\n",
      "adder(a, b, c, d)\n",
      "\n"
     ]
    }
   ],
   "source": [
    "help(adder)"
   ]
  },
  {
   "cell_type": "code",
   "execution_count": 11,
   "id": "1768e000",
   "metadata": {},
   "outputs": [
    {
     "name": "stdout",
     "output_type": "stream",
     "text": [
      "Hello! John\n"
     ]
    }
   ],
   "source": [
    "greetings('John', 'Hello')"
   ]
  },
  {
   "cell_type": "markdown",
   "id": "Er9MD2a2tIUD",
   "metadata": {
    "id": "Er9MD2a2tIUD"
   },
   "source": [
    "### Keyword Arguments"
   ]
  },
  {
   "cell_type": "code",
   "execution_count": 13,
   "id": "PFKBKX7RtIUD",
   "metadata": {
    "id": "PFKBKX7RtIUD",
    "outputId": "ec49c827-d84b-4440-bd47-edb102f01cfc"
   },
   "outputs": [
    {
     "name": "stdout",
     "output_type": "stream",
     "text": [
      "Hello! John\n"
     ]
    }
   ],
   "source": [
    "greetings(greeting = 'Hello', name = 'John')"
   ]
  },
  {
   "cell_type": "code",
   "execution_count": 14,
   "id": "69826307",
   "metadata": {},
   "outputs": [
    {
     "name": "stdout",
     "output_type": "stream",
     "text": [
      "Hello! John\n"
     ]
    }
   ],
   "source": [
    "greetings(name = 'John', greeting = 'Hello')"
   ]
  },
  {
   "cell_type": "markdown",
   "id": "Tf1yj-V7tIUD",
   "metadata": {
    "id": "Tf1yj-V7tIUD"
   },
   "source": [
    "### Parameters with Default Value"
   ]
  },
  {
   "cell_type": "code",
   "execution_count": 15,
   "id": "xUV8jOJmtIUD",
   "metadata": {
    "id": "xUV8jOJmtIUD"
   },
   "outputs": [],
   "source": [
    "def greetings(name, greeting):\n",
    "    print(greeting ,'! ', name, sep = '')"
   ]
  },
  {
   "cell_type": "code",
   "execution_count": 16,
   "id": "jseylqiltIUD",
   "metadata": {
    "id": "jseylqiltIUD",
    "outputId": "158bd75d-0a3e-424a-8585-7a659efe0d22"
   },
   "outputs": [
    {
     "ename": "TypeError",
     "evalue": "greetings() missing 1 required positional argument: 'greeting'",
     "output_type": "error",
     "traceback": [
      "\u001b[0;31m---------------------------------------------------------------------------\u001b[0m",
      "\u001b[0;31mTypeError\u001b[0m                                 Traceback (most recent call last)",
      "Input \u001b[0;32mIn [16]\u001b[0m, in \u001b[0;36m<cell line: 1>\u001b[0;34m()\u001b[0m\n\u001b[0;32m----> 1\u001b[0m \u001b[43mgreetings\u001b[49m\u001b[43m(\u001b[49m\u001b[38;5;124;43m'\u001b[39;49m\u001b[38;5;124;43mJohn\u001b[39;49m\u001b[38;5;124;43m'\u001b[39;49m\u001b[43m)\u001b[49m\n",
      "\u001b[0;31mTypeError\u001b[0m: greetings() missing 1 required positional argument: 'greeting'"
     ]
    }
   ],
   "source": [
    "greetings('John')"
   ]
  },
  {
   "cell_type": "code",
   "execution_count": 17,
   "id": "rjW2ku4MtIUD",
   "metadata": {
    "id": "rjW2ku4MtIUD"
   },
   "outputs": [],
   "source": [
    "def greetings(name, greeting = 'Hello'):\n",
    "    print(greeting ,'! ', name, sep = '')"
   ]
  },
  {
   "cell_type": "code",
   "execution_count": 18,
   "id": "57CDeNzmtIUD",
   "metadata": {
    "id": "57CDeNzmtIUD",
    "outputId": "f26b405c-f1f1-4a41-8c74-0f2b68ee66af"
   },
   "outputs": [
    {
     "name": "stdout",
     "output_type": "stream",
     "text": [
      "Hello! John\n"
     ]
    }
   ],
   "source": [
    "greetings('John')"
   ]
  },
  {
   "cell_type": "code",
   "execution_count": null,
   "id": "37f5f71a",
   "metadata": {},
   "outputs": [],
   "source": [
    "# If we want to over write the default"
   ]
  },
  {
   "cell_type": "code",
   "execution_count": 19,
   "id": "d5fFSxvDtIUD",
   "metadata": {
    "id": "d5fFSxvDtIUD",
    "outputId": "734c83e6-ac2c-4c19-cc6f-e2b88d877b8a"
   },
   "outputs": [
    {
     "name": "stdout",
     "output_type": "stream",
     "text": [
      "Hi! John\n"
     ]
    }
   ],
   "source": [
    "greetings('John', 'Hi')"
   ]
  },
  {
   "cell_type": "code",
   "execution_count": 20,
   "id": "391c6a17",
   "metadata": {},
   "outputs": [],
   "source": [
    "def greetings(name = \"Python\", greeting = 'Hello'):\n",
    "    print(greeting ,'! ', name, sep = '')"
   ]
  },
  {
   "cell_type": "code",
   "execution_count": 21,
   "id": "cb6e96d9",
   "metadata": {},
   "outputs": [
    {
     "name": "stdout",
     "output_type": "stream",
     "text": [
      "Hello! Python\n"
     ]
    }
   ],
   "source": [
    "greetings()"
   ]
  },
  {
   "cell_type": "code",
   "execution_count": 23,
   "id": "172fd74f",
   "metadata": {},
   "outputs": [
    {
     "name": "stdout",
     "output_type": "stream",
     "text": [
      "Hello! Raghav\n"
     ]
    }
   ],
   "source": [
    "greetings(name = \"Raghav\")"
   ]
  },
  {
   "cell_type": "code",
   "execution_count": 24,
   "id": "dc35e210",
   "metadata": {},
   "outputs": [
    {
     "name": "stdout",
     "output_type": "stream",
     "text": [
      "HOLA! Python\n"
     ]
    }
   ],
   "source": [
    "greetings(greeting=\"HOLA\")"
   ]
  },
  {
   "cell_type": "code",
   "execution_count": 25,
   "id": "c0996677",
   "metadata": {},
   "outputs": [
    {
     "name": "stdout",
     "output_type": "stream",
     "text": [
      "HOLA! Raghav\n"
     ]
    }
   ],
   "source": [
    "greetings(name = \"Raghav\",greeting=\"HOLA\")"
   ]
  },
  {
   "cell_type": "code",
   "execution_count": 26,
   "id": "51e40c6f",
   "metadata": {},
   "outputs": [
    {
     "name": "stdout",
     "output_type": "stream",
     "text": [
      "HOLA! Raghav\n"
     ]
    }
   ],
   "source": [
    "greetings(greeting=\"HOLA\",name = \"Raghav\")"
   ]
  },
  {
   "cell_type": "markdown",
   "id": "ei-Lx0uttIUE",
   "metadata": {
    "id": "ei-Lx0uttIUE"
   },
   "source": [
    "### Arbitrary Arguments"
   ]
  },
  {
   "cell_type": "code",
   "execution_count": 27,
   "id": "c4c8149d",
   "metadata": {},
   "outputs": [
    {
     "ename": "TypeError",
     "evalue": "adder() takes 4 positional arguments but 10 were given",
     "output_type": "error",
     "traceback": [
      "\u001b[0;31m---------------------------------------------------------------------------\u001b[0m",
      "\u001b[0;31mTypeError\u001b[0m                                 Traceback (most recent call last)",
      "Input \u001b[0;32mIn [27]\u001b[0m, in \u001b[0;36m<cell line: 1>\u001b[0;34m()\u001b[0m\n\u001b[0;32m----> 1\u001b[0m \u001b[43madder\u001b[49m\u001b[43m(\u001b[49m\u001b[38;5;241;43m1\u001b[39;49m\u001b[43m,\u001b[49m\u001b[38;5;241;43m2\u001b[39;49m\u001b[43m,\u001b[49m\u001b[38;5;241;43m3\u001b[39;49m\u001b[43m,\u001b[49m\u001b[38;5;241;43m4\u001b[39;49m\u001b[43m,\u001b[49m\u001b[38;5;241;43m5\u001b[39;49m\u001b[43m,\u001b[49m\u001b[38;5;241;43m6\u001b[39;49m\u001b[43m,\u001b[49m\u001b[38;5;241;43m7\u001b[39;49m\u001b[43m,\u001b[49m\u001b[38;5;241;43m8\u001b[39;49m\u001b[43m,\u001b[49m\u001b[38;5;241;43m9\u001b[39;49m\u001b[43m,\u001b[49m\u001b[38;5;241;43m10\u001b[39;49m\u001b[43m)\u001b[49m\n",
      "\u001b[0;31mTypeError\u001b[0m: adder() takes 4 positional arguments but 10 were given"
     ]
    }
   ],
   "source": [
    "adder(1,2,3,4,5,6,7,8,9,10)"
   ]
  },
  {
   "cell_type": "markdown",
   "id": "NhnxLztstIUE",
   "metadata": {
    "id": "NhnxLztstIUE"
   },
   "source": [
    "#### Non Keyword Arbitrary Argument"
   ]
  },
  {
   "cell_type": "code",
   "execution_count": 28,
   "id": "FTqzObWjtIUE",
   "metadata": {
    "id": "FTqzObWjtIUE"
   },
   "outputs": [],
   "source": [
    "# function defined with non keyword variable no. of arguments\n",
    "\n",
    "def total(*k):\n",
    "    tot = 0\n",
    "    for n in k:\n",
    "        tot += n\n",
    "    print(tot)"
   ]
  },
  {
   "cell_type": "code",
   "execution_count": 29,
   "id": "LlMh4evztIUE",
   "metadata": {
    "id": "LlMh4evztIUE",
    "outputId": "12dc8544-81a4-4ad6-91ec-62d0ce5fe754"
   },
   "outputs": [
    {
     "name": "stdout",
     "output_type": "stream",
     "text": [
      "90\n"
     ]
    }
   ],
   "source": [
    "total(23, 67)"
   ]
  },
  {
   "cell_type": "code",
   "execution_count": 30,
   "id": "IME-1MOZtIUE",
   "metadata": {
    "id": "IME-1MOZtIUE",
    "outputId": "bb22e2db-d6fd-48bc-e8b6-27dcb96e218f"
   },
   "outputs": [
    {
     "name": "stdout",
     "output_type": "stream",
     "text": [
      "270\n"
     ]
    }
   ],
   "source": [
    "total(90, 100, 10, 30, 40)"
   ]
  },
  {
   "cell_type": "code",
   "execution_count": 31,
   "id": "27574fa6",
   "metadata": {},
   "outputs": [
    {
     "name": "stdout",
     "output_type": "stream",
     "text": [
      "55\n"
     ]
    }
   ],
   "source": [
    "total(1,2,3,4,5,6,7,8,9,10)"
   ]
  },
  {
   "cell_type": "markdown",
   "id": "xoNsYCmdtIUE",
   "metadata": {
    "id": "xoNsYCmdtIUE"
   },
   "source": [
    "#### Keyword Arbitrary Argument"
   ]
  },
  {
   "cell_type": "code",
   "execution_count": 32,
   "id": "ebf637f2",
   "metadata": {},
   "outputs": [],
   "source": [
    "dict1 = {\n",
    "    \n",
    "    \"Name\" : \"Raghav\",\n",
    "    \"Country\" : \"India\"\n",
    "}"
   ]
  },
  {
   "cell_type": "code",
   "execution_count": 33,
   "id": "f2f5e3c3",
   "metadata": {},
   "outputs": [
    {
     "data": {
      "text/plain": [
       "dict_keys(['Name', 'Country'])"
      ]
     },
     "execution_count": 33,
     "metadata": {},
     "output_type": "execute_result"
    }
   ],
   "source": [
    "dict1.keys()"
   ]
  },
  {
   "cell_type": "code",
   "execution_count": 34,
   "id": "a12f5945",
   "metadata": {},
   "outputs": [
    {
     "data": {
      "text/plain": [
       "'Raghav'"
      ]
     },
     "execution_count": 34,
     "metadata": {},
     "output_type": "execute_result"
    }
   ],
   "source": [
    "dict1[\"Name\"]"
   ]
  },
  {
   "cell_type": "code",
   "execution_count": 37,
   "id": "X4IzUKlytIUE",
   "metadata": {
    "id": "X4IzUKlytIUE"
   },
   "outputs": [],
   "source": [
    "# function defined with variable no. keyword variable no. of arguments\n",
    "def information(**kwargs):\n",
    "    \n",
    "    for key in kwargs.keys():\n",
    "        \n",
    "        print(key, \":\", kwargs[key])\n"
   ]
  },
  {
   "cell_type": "code",
   "execution_count": 38,
   "id": "EXiwT7PLtIUE",
   "metadata": {
    "id": "EXiwT7PLtIUE",
    "outputId": "e18ee87e-cee2-4ded-8a39-d3fd9df979cd"
   },
   "outputs": [
    {
     "name": "stdout",
     "output_type": "stream",
     "text": [
      "name : John Davis\n",
      "age : 34\n"
     ]
    }
   ],
   "source": [
    "information(name = 'John Davis', age = 34)"
   ]
  },
  {
   "cell_type": "code",
   "execution_count": 39,
   "id": "WWXe80UbtIUE",
   "metadata": {
    "id": "WWXe80UbtIUE",
    "outputId": "0a1c6bbb-f7b1-411f-98fe-8881ad774c9c"
   },
   "outputs": [
    {
     "name": "stdout",
     "output_type": "stream",
     "text": [
      "name : John Davis\n",
      "age : 34\n",
      "city : London\n",
      "country : UK\n"
     ]
    }
   ],
   "source": [
    "information(name = 'John Davis', age = 34, city = 'London', country  = 'UK')"
   ]
  },
  {
   "cell_type": "markdown",
   "id": "ed25c7e0",
   "metadata": {},
   "source": [
    "# Fruitful and Void Functions"
   ]
  },
  {
   "cell_type": "markdown",
   "id": "c30884e6",
   "metadata": {},
   "source": [
    "### Fruitful functions are those which RETURNS us some value. Which means that the vlaue which is returened will have a memory allocated to it"
   ]
  },
  {
   "cell_type": "markdown",
   "id": "cc423bc9",
   "metadata": {},
   "source": [
    "### Void function is a function which will return us a value but it will not have any memeory allocated to it. It will just be a display of the output."
   ]
  },
  {
   "cell_type": "markdown",
   "id": "18dj-2pLtIUE",
   "metadata": {
    "id": "18dj-2pLtIUE"
   },
   "source": [
    "## Return statement"
   ]
  },
  {
   "cell_type": "code",
   "execution_count": 40,
   "id": "8nyaoH8UtIUF",
   "metadata": {
    "id": "8nyaoH8UtIUF"
   },
   "outputs": [],
   "source": [
    "def net_amount(Amount, tax= 18, discount = 10):\n",
    "    disc = (Amount * discount/100)\n",
    "    tax_amnt = (Amount - disc) * tax/100\n",
    "    net = (Amount - disc) + tax_amnt\n",
    "    print(round(net,2))"
   ]
  },
  {
   "cell_type": "code",
   "execution_count": 41,
   "id": "-7ipqgMetIUF",
   "metadata": {
    "id": "-7ipqgMetIUF",
    "outputId": "e9d6a3da-1ebd-42e7-df15-635981423447"
   },
   "outputs": [
    {
     "name": "stdout",
     "output_type": "stream",
     "text": [
      "Please enter the bill amount 5000\n",
      "Please enter tax percentage :18\n",
      "Please enter discount percentage :10\n"
     ]
    }
   ],
   "source": [
    "amnt = float(input('Please enter the bill amount '))\n",
    "tax = float(input('Please enter tax percentage :'))\n",
    "discount = float(input('Please enter discount percentage :'))"
   ]
  },
  {
   "cell_type": "code",
   "execution_count": 42,
   "id": "ZySrQBsZtIUF",
   "metadata": {
    "id": "ZySrQBsZtIUF",
    "outputId": "fc76e636-6936-40c9-c6ac-382c1fde1ff5"
   },
   "outputs": [
    {
     "name": "stdout",
     "output_type": "stream",
     "text": [
      "5310.0\n"
     ]
    }
   ],
   "source": [
    "return_value = net_amount(amnt, tax, discount)"
   ]
  },
  {
   "cell_type": "code",
   "execution_count": 43,
   "id": "c708e889",
   "metadata": {},
   "outputs": [
    {
     "ename": "TypeError",
     "evalue": "unsupported operand type(s) for +: 'NoneType' and 'int'",
     "output_type": "error",
     "traceback": [
      "\u001b[0;31m---------------------------------------------------------------------------\u001b[0m",
      "\u001b[0;31mTypeError\u001b[0m                                 Traceback (most recent call last)",
      "Input \u001b[0;32mIn [43]\u001b[0m, in \u001b[0;36m<cell line: 1>\u001b[0;34m()\u001b[0m\n\u001b[0;32m----> 1\u001b[0m a \u001b[38;5;241m=\u001b[39m \u001b[43mreturn_value\u001b[49m\u001b[43m \u001b[49m\u001b[38;5;241;43m+\u001b[39;49m\u001b[43m \u001b[49m\u001b[38;5;241;43m1000\u001b[39;49m\n",
      "\u001b[0;31mTypeError\u001b[0m: unsupported operand type(s) for +: 'NoneType' and 'int'"
     ]
    }
   ],
   "source": [
    "a = return_value + 1000"
   ]
  },
  {
   "cell_type": "code",
   "execution_count": null,
   "id": "HC2_Or74tIUF",
   "metadata": {
    "id": "HC2_Or74tIUF",
    "outputId": "8431a4a4-b935-47b3-8767-fe0c3a814e82"
   },
   "outputs": [
    {
     "name": "stdout",
     "output_type": "stream",
     "text": [
      "None\n"
     ]
    }
   ],
   "source": [
    "print(return_value)"
   ]
  },
  {
   "cell_type": "code",
   "execution_count": 44,
   "id": "jM4SR0KQtIUF",
   "metadata": {
    "id": "jM4SR0KQtIUF"
   },
   "outputs": [],
   "source": [
    "def net_amount(Amount, tax= 18, discount = 10):\n",
    "    disc = (Amount * discount/100)\n",
    "    tax_amnt = (Amount - disc) * tax/100\n",
    "    net = (Amount - disc) + tax_amnt\n",
    "    return net"
   ]
  },
  {
   "cell_type": "code",
   "execution_count": 45,
   "id": "pH3kwaeOtIUF",
   "metadata": {
    "id": "pH3kwaeOtIUF",
    "outputId": "79f5f9f0-f433-4b8c-c148-2a0560972a15"
   },
   "outputs": [
    {
     "name": "stdout",
     "output_type": "stream",
     "text": [
      "Please enter the bill amount 50000\n",
      "Please enter tax percentage :18\n",
      "Please enter discount percentage :9\n"
     ]
    }
   ],
   "source": [
    "amnt = float(input('Please enter the bill amount '))\n",
    "tax = float(input('Please enter tax percentage :'))\n",
    "discount = float(input('Please enter discount percentage :'))"
   ]
  },
  {
   "cell_type": "code",
   "execution_count": 46,
   "id": "4ziUaH3VtIUF",
   "metadata": {
    "id": "4ziUaH3VtIUF"
   },
   "outputs": [],
   "source": [
    "return_value = net_amount(amnt, tax, discount)"
   ]
  },
  {
   "cell_type": "code",
   "execution_count": 47,
   "id": "thWqOXUntIUF",
   "metadata": {
    "id": "thWqOXUntIUF",
    "outputId": "9c2a5778-b6bb-4482-cc5a-55f5b2c648e3"
   },
   "outputs": [
    {
     "name": "stdout",
     "output_type": "stream",
     "text": [
      "Total Amount to be paid :  53690.0\n"
     ]
    }
   ],
   "source": [
    "print('Total Amount to be paid : ', return_value)"
   ]
  },
  {
   "cell_type": "code",
   "execution_count": 48,
   "id": "dfd895dd",
   "metadata": {},
   "outputs": [],
   "source": [
    "a = return_value + 1000"
   ]
  },
  {
   "cell_type": "code",
   "execution_count": 49,
   "id": "1b21acfe",
   "metadata": {},
   "outputs": [
    {
     "data": {
      "text/plain": [
       "54690.0"
      ]
     },
     "execution_count": 49,
     "metadata": {},
     "output_type": "execute_result"
    }
   ],
   "source": [
    "a"
   ]
  },
  {
   "cell_type": "markdown",
   "id": "lwZt9uvqtIUF",
   "metadata": {
    "id": "lwZt9uvqtIUF"
   },
   "source": [
    "## Scope of Variables"
   ]
  },
  {
   "cell_type": "markdown",
   "id": "ZhK8fWIytIUF",
   "metadata": {
    "id": "ZhK8fWIytIUF"
   },
   "source": [
    "### Global variable"
   ]
  },
  {
   "cell_type": "code",
   "execution_count": 68,
   "id": "Ie7TZdSGtIUF",
   "metadata": {
    "id": "Ie7TZdSGtIUF",
    "outputId": "3b187a06-921c-49ec-84c3-dae2c6282af8"
   },
   "outputs": [
    {
     "name": "stdout",
     "output_type": "stream",
     "text": [
      "75\n"
     ]
    }
   ],
   "source": [
    "# var = 10\n",
    "print(var)"
   ]
  },
  {
   "cell_type": "markdown",
   "id": "pdKDbzI4tIUG",
   "metadata": {
    "id": "pdKDbzI4tIUG"
   },
   "source": [
    "### Local variables"
   ]
  },
  {
   "cell_type": "code",
   "execution_count": 54,
   "id": "dlOrLaYQtIUG",
   "metadata": {
    "id": "dlOrLaYQtIUG"
   },
   "outputs": [],
   "source": [
    "def foo(inp):\n",
    "    # local variable\n",
    "    lc = 30\n",
    "    print('input parameter : ', inp)\n",
    "    print('local value : ', lc)\n",
    "    return lc"
   ]
  },
  {
   "cell_type": "code",
   "execution_count": 55,
   "id": "Dy1JUmd5tIUG",
   "metadata": {
    "id": "Dy1JUmd5tIUG",
    "outputId": "793b8dd4-a9c8-469e-fb0a-321fde2ae042"
   },
   "outputs": [
    {
     "name": "stdout",
     "output_type": "stream",
     "text": [
      "input parameter :  45\n",
      "local value :  30\n"
     ]
    },
    {
     "data": {
      "text/plain": [
       "30"
      ]
     },
     "execution_count": 55,
     "metadata": {},
     "output_type": "execute_result"
    }
   ],
   "source": [
    "foo(45)"
   ]
  },
  {
   "cell_type": "markdown",
   "id": "XBSmr6c_tIUG",
   "metadata": {
    "id": "XBSmr6c_tIUG"
   },
   "source": [
    "#### Calling local variable outside a function"
   ]
  },
  {
   "cell_type": "code",
   "execution_count": 56,
   "id": "20f33595",
   "metadata": {},
   "outputs": [
    {
     "ename": "NameError",
     "evalue": "name 'lc' is not defined",
     "output_type": "error",
     "traceback": [
      "\u001b[0;31m---------------------------------------------------------------------------\u001b[0m",
      "\u001b[0;31mNameError\u001b[0m                                 Traceback (most recent call last)",
      "Input \u001b[0;32mIn [56]\u001b[0m, in \u001b[0;36m<cell line: 1>\u001b[0;34m()\u001b[0m\n\u001b[0;32m----> 1\u001b[0m \u001b[38;5;28mprint\u001b[39m(\u001b[43mlc\u001b[49m)\n",
      "\u001b[0;31mNameError\u001b[0m: name 'lc' is not defined"
     ]
    }
   ],
   "source": [
    "print(lc)"
   ]
  },
  {
   "cell_type": "code",
   "execution_count": 57,
   "id": "f16f3e4a",
   "metadata": {},
   "outputs": [
    {
     "ename": "NameError",
     "evalue": "name 'inp' is not defined",
     "output_type": "error",
     "traceback": [
      "\u001b[0;31m---------------------------------------------------------------------------\u001b[0m",
      "\u001b[0;31mNameError\u001b[0m                                 Traceback (most recent call last)",
      "Input \u001b[0;32mIn [57]\u001b[0m, in \u001b[0;36m<cell line: 1>\u001b[0;34m()\u001b[0m\n\u001b[0;32m----> 1\u001b[0m \u001b[38;5;28mprint\u001b[39m(\u001b[43minp\u001b[49m)\n",
      "\u001b[0;31mNameError\u001b[0m: name 'inp' is not defined"
     ]
    }
   ],
   "source": [
    "print(inp)"
   ]
  },
  {
   "cell_type": "markdown",
   "id": "FpsedUNytIUG",
   "metadata": {
    "id": "FpsedUNytIUG"
   },
   "source": [
    "#### Calling global variable inside a function"
   ]
  },
  {
   "cell_type": "code",
   "execution_count": 61,
   "id": "zNlBB9mbtIUG",
   "metadata": {
    "id": "zNlBB9mbtIUG"
   },
   "outputs": [],
   "source": [
    "def foo2():\n",
    "    square = var ** 2\n",
    "    return square"
   ]
  },
  {
   "cell_type": "code",
   "execution_count": 62,
   "id": "KGoq9GxAtIUG",
   "metadata": {
    "id": "KGoq9GxAtIUG",
    "outputId": "ad07e3c7-672d-42e3-d2bd-78aeeedd34ec"
   },
   "outputs": [
    {
     "data": {
      "text/plain": [
       "100"
      ]
     },
     "execution_count": 62,
     "metadata": {},
     "output_type": "execute_result"
    }
   ],
   "source": [
    "foo2()"
   ]
  },
  {
   "cell_type": "markdown",
   "id": "sh59fFRwtIUH",
   "metadata": {
    "id": "sh59fFRwtIUH"
   },
   "source": [
    "### Local and global variable with the same name"
   ]
  },
  {
   "cell_type": "code",
   "execution_count": 63,
   "id": "Rbw6QV1KtIUH",
   "metadata": {
    "id": "Rbw6QV1KtIUH"
   },
   "outputs": [],
   "source": [
    "var = 10 # global variable"
   ]
  },
  {
   "cell_type": "code",
   "execution_count": 67,
   "id": "2e16635a",
   "metadata": {},
   "outputs": [
    {
     "data": {
      "text/plain": [
       "75"
      ]
     },
     "execution_count": 67,
     "metadata": {},
     "output_type": "execute_result"
    }
   ],
   "source": [
    "var"
   ]
  },
  {
   "cell_type": "code",
   "execution_count": 64,
   "id": "aTzk1_IgtIUH",
   "metadata": {
    "id": "aTzk1_IgtIUH"
   },
   "outputs": [],
   "source": [
    "def foo3():\n",
    "    var = 50 # local variable\n",
    "    print('inside function var  =', var)"
   ]
  },
  {
   "cell_type": "code",
   "execution_count": 65,
   "id": "eWachUi9tIUH",
   "metadata": {
    "id": "eWachUi9tIUH",
    "outputId": "65552600-d460-4357-f9c6-51f6b777df83"
   },
   "outputs": [
    {
     "name": "stdout",
     "output_type": "stream",
     "text": [
      "inside function var  = 50\n",
      "outside function var = 10\n"
     ]
    }
   ],
   "source": [
    "foo3()\n",
    "print('outside function var =', var)"
   ]
  },
  {
   "cell_type": "markdown",
   "id": "OmQQJWxJtIUH",
   "metadata": {
    "id": "OmQQJWxJtIUH"
   },
   "source": [
    "### Creating or manipulating global variable inside a function"
   ]
  },
  {
   "cell_type": "code",
   "execution_count": 66,
   "id": "rgs0Qs0btIUH",
   "metadata": {
    "id": "rgs0Qs0btIUH",
    "outputId": "875208ba-e1cf-4a76-b54c-d551bb8e620f"
   },
   "outputs": [
    {
     "name": "stdout",
     "output_type": "stream",
     "text": [
      "before function call var = 15\n",
      "inside function var  = 75\n",
      "outside function var = 75\n"
     ]
    }
   ],
   "source": [
    "var = 15\n",
    "print('before function call var =', var)\n",
    "\n",
    "def foo4():\n",
    "    global var\n",
    "    var *= 5\n",
    "    print('inside function var  =', var)\n",
    "\n",
    "foo4()\n",
    "print('outside function var =', var)"
   ]
  },
  {
   "cell_type": "markdown",
   "id": "V5I2WF_YtIUI",
   "metadata": {
    "id": "V5I2WF_YtIUI"
   },
   "source": [
    "## Built in functions"
   ]
  },
  {
   "cell_type": "code",
   "execution_count": null,
   "id": "3RGgx7M1tIUI",
   "metadata": {
    "id": "3RGgx7M1tIUI",
    "outputId": "b3aa3d4f-0e90-410f-8753-837d24d3bb6c"
   },
   "outputs": [
    {
     "name": "stdout",
     "output_type": "stream",
     "text": [
      "['ArithmeticError', 'AssertionError', 'AttributeError', 'BaseException', 'BlockingIOError', 'BrokenPipeError', 'BufferError', 'BytesWarning', 'ChildProcessError', 'ConnectionAbortedError', 'ConnectionError', 'ConnectionRefusedError', 'ConnectionResetError', 'DeprecationWarning', 'EOFError', 'Ellipsis', 'EnvironmentError', 'Exception', 'False', 'FileExistsError', 'FileNotFoundError', 'FloatingPointError', 'FutureWarning', 'GeneratorExit', 'IOError', 'ImportError', 'ImportWarning', 'IndentationError', 'IndexError', 'InterruptedError', 'IsADirectoryError', 'KeyError', 'KeyboardInterrupt', 'LookupError', 'MemoryError', 'ModuleNotFoundError', 'NameError', 'None', 'NotADirectoryError', 'NotImplemented', 'NotImplementedError', 'OSError', 'OverflowError', 'PendingDeprecationWarning', 'PermissionError', 'ProcessLookupError', 'RecursionError', 'ReferenceError', 'ResourceWarning', 'RuntimeError', 'RuntimeWarning', 'StopAsyncIteration', 'StopIteration', 'SyntaxError', 'SyntaxWarning', 'SystemError', 'SystemExit', 'TabError', 'TimeoutError', 'True', 'TypeError', 'UnboundLocalError', 'UnicodeDecodeError', 'UnicodeEncodeError', 'UnicodeError', 'UnicodeTranslateError', 'UnicodeWarning', 'UserWarning', 'ValueError', 'Warning', 'ZeroDivisionError', '__IPYTHON__', '__build_class__', '__debug__', '__doc__', '__import__', '__loader__', '__name__', '__package__', '__spec__', 'abs', 'all', 'any', 'ascii', 'bin', 'bool', 'breakpoint', 'bytearray', 'bytes', 'callable', 'chr', 'classmethod', 'compile', 'complex', 'copyright', 'credits', 'delattr', 'dict', 'dir', 'display', 'divmod', 'enumerate', 'eval', 'exec', 'filter', 'float', 'format', 'frozenset', 'get_ipython', 'getattr', 'globals', 'hasattr', 'hash', 'help', 'hex', 'id', 'input', 'int', 'isinstance', 'issubclass', 'iter', 'len', 'license', 'list', 'locals', 'map', 'max', 'memoryview', 'min', 'next', 'object', 'oct', 'open', 'ord', 'pow', 'print', 'property', 'range', 'repr', 'reversed', 'round', 'set', 'setattr', 'slice', 'sorted', 'staticmethod', 'str', 'sum', 'super', 'tuple', 'type', 'vars', 'zip']\n"
     ]
    }
   ],
   "source": [
    "print(dir(__builtins__))"
   ]
  },
  {
   "cell_type": "code",
   "execution_count": 69,
   "id": "5e72b7a9",
   "metadata": {},
   "outputs": [
    {
     "name": "stdout",
     "output_type": "stream",
     "text": [
      "Help on built-in function format in module builtins:\n",
      "\n",
      "format(value, format_spec='', /)\n",
      "    Return value.__format__(format_spec)\n",
      "    \n",
      "    format_spec defaults to the empty string.\n",
      "    See the Format Specification Mini-Language section of help('FORMATTING') for\n",
      "    details.\n",
      "\n"
     ]
    }
   ],
   "source": [
    "help(format)"
   ]
  },
  {
   "cell_type": "markdown",
   "id": "398134cf",
   "metadata": {},
   "source": [
    "# Lambda Functions"
   ]
  },
  {
   "cell_type": "markdown",
   "id": "b8d13d60",
   "metadata": {},
   "source": [
    "### One Liner Functions. "
   ]
  },
  {
   "cell_type": "code",
   "execution_count": null,
   "id": "1b1b4a7e",
   "metadata": {},
   "outputs": [],
   "source": [
    "# function_name = lambda Parametre : action on Parametre"
   ]
  },
  {
   "cell_type": "code",
   "execution_count": 70,
   "id": "a56b3aff",
   "metadata": {},
   "outputs": [],
   "source": [
    "# WAP to square the number using lambda function\n",
    "\n",
    "square = lambda x : x ** 2"
   ]
  },
  {
   "cell_type": "code",
   "execution_count": 71,
   "id": "f180115f",
   "metadata": {},
   "outputs": [
    {
     "data": {
      "text/plain": [
       "49"
      ]
     },
     "execution_count": 71,
     "metadata": {},
     "output_type": "execute_result"
    }
   ],
   "source": [
    "square(7)"
   ]
  },
  {
   "cell_type": "code",
   "execution_count": 72,
   "id": "e3bbf0d7",
   "metadata": {},
   "outputs": [],
   "source": [
    "adder = lambda x , y : x + y"
   ]
  },
  {
   "cell_type": "code",
   "execution_count": 73,
   "id": "b7df6b09",
   "metadata": {},
   "outputs": [
    {
     "data": {
      "text/plain": [
       "17"
      ]
     },
     "execution_count": 73,
     "metadata": {},
     "output_type": "execute_result"
    }
   ],
   "source": [
    "adder(8,9)"
   ]
  },
  {
   "cell_type": "code",
   "execution_count": 74,
   "id": "dda1e73a",
   "metadata": {},
   "outputs": [],
   "source": [
    "adder1 = lambda *args : sum(args)"
   ]
  },
  {
   "cell_type": "code",
   "execution_count": 75,
   "id": "9c84a2da",
   "metadata": {},
   "outputs": [
    {
     "data": {
      "text/plain": [
       "45"
      ]
     },
     "execution_count": 75,
     "metadata": {},
     "output_type": "execute_result"
    }
   ],
   "source": [
    "adder1(1,2,3,4,5,6,7,8,9)"
   ]
  },
  {
   "cell_type": "code",
   "execution_count": 76,
   "id": "c020083f",
   "metadata": {},
   "outputs": [],
   "source": [
    "# WAP to create a lambda fucntion to find whehther the inpuuted number is EVEN or ODD\n",
    "\n",
    "eveodd = lambda x : \"EVEN\" if (x % 2 == 0) else \"ODD\""
   ]
  },
  {
   "cell_type": "code",
   "execution_count": 77,
   "id": "d67b669c",
   "metadata": {},
   "outputs": [
    {
     "data": {
      "text/plain": [
       "'ODD'"
      ]
     },
     "execution_count": 77,
     "metadata": {},
     "output_type": "execute_result"
    }
   ],
   "source": [
    "eveodd(99)"
   ]
  },
  {
   "cell_type": "markdown",
   "id": "4Qur8_GWtIUI",
   "metadata": {
    "id": "4Qur8_GWtIUI"
   },
   "source": [
    "## Map function"
   ]
  },
  {
   "cell_type": "code",
   "execution_count": 79,
   "id": "Azite0XYtIUJ",
   "metadata": {
    "id": "Azite0XYtIUJ",
    "outputId": "99b8ee18-c373-4202-8c8d-131b7ab0bf6f"
   },
   "outputs": [
    {
     "name": "stdout",
     "output_type": "stream",
     "text": [
      " 22.0 in degree C is equivalent to   71.6 in degree F.\n",
      " 45.3 in degree C is equivalent to  113.5 in degree F.\n",
      " 35.4 in degree C is equivalent to   95.7 in degree F.\n",
      " 40.0 in degree C is equivalent to  104.0 in degree F.\n",
      " 44.7 in degree C is equivalent to  112.5 in degree F.\n",
      " 21.5 in degree C is equivalent to   70.7 in degree F.\n"
     ]
    }
   ],
   "source": [
    "temp = [22.0, 45.3, 35.4, 40.0, 44.7, 21.5]\n",
    "for T in temp:\n",
    "    f = ((9/5) * T) + 32\n",
    "    print('{:5.1f} in degree C is equivalent to {:6.1f} in degree F.'.format(T,f))"
   ]
  },
  {
   "cell_type": "code",
   "execution_count": null,
   "id": "66w0-rDZtIUJ",
   "metadata": {
    "id": "66w0-rDZtIUJ"
   },
   "outputs": [],
   "source": [
    "def Fahrenhite(T):\n",
    "    return round(((9/5) * T) + 32, 1)"
   ]
  },
  {
   "cell_type": "code",
   "execution_count": null,
   "id": "SAAgR42StIUJ",
   "metadata": {
    "id": "SAAgR42StIUJ",
    "outputId": "da2e3648-2c80-41a1-cf08-99030db33b6c"
   },
   "outputs": [
    {
     "name": "stdout",
     "output_type": "stream",
     "text": [
      "Temp in deg C  [22.0, 45.3, 35.4, 40.0, 44.7, 21.5]\n",
      "Temp in deg F  [71.6, 113.5, 95.7, 104.0, 112.5, 70.7]\n"
     ]
    }
   ],
   "source": [
    "results = list(map(Fahrenhite, temp))\n",
    "print('Temp in deg C ', temp)\n",
    "print('Temp in deg F ', results)"
   ]
  },
  {
   "cell_type": "markdown",
   "id": "m61OopfNtIUJ",
   "metadata": {
    "id": "m61OopfNtIUJ"
   },
   "source": [
    "### Using lambda function"
   ]
  },
  {
   "cell_type": "code",
   "execution_count": 85,
   "id": "5ffe16a8",
   "metadata": {},
   "outputs": [],
   "source": [
    "results = list(map(lambda T : ((9/5) * T) + 3, temp))"
   ]
  },
  {
   "cell_type": "code",
   "execution_count": 86,
   "id": "3248454d",
   "metadata": {},
   "outputs": [
    {
     "data": {
      "text/plain": [
       "[42.6, 84.53999999999999, 66.72, 75.0, 83.46000000000001, 41.7]"
      ]
     },
     "execution_count": 86,
     "metadata": {},
     "output_type": "execute_result"
    }
   ],
   "source": [
    "results"
   ]
  },
  {
   "cell_type": "code",
   "execution_count": 87,
   "id": "qq1120KhtIUJ",
   "metadata": {
    "id": "qq1120KhtIUJ",
    "outputId": "28a7f095-c60e-4861-bcfa-510924cfd3de"
   },
   "outputs": [
    {
     "name": "stdout",
     "output_type": "stream",
     "text": [
      "Temp in deg C  [22.0, 45.3, 35.4, 40.0, 44.7, 21.5]\n",
      "Temp in deg F  [71.6, 113.5, 95.7, 104.0, 112.5, 70.7]\n"
     ]
    }
   ],
   "source": [
    "results = list(map(lambda T: round(((9/5) * T) + 32, 1), temp))\n",
    "print('Temp in deg C ', temp)\n",
    "print('Temp in deg F ', results)"
   ]
  },
  {
   "cell_type": "markdown",
   "id": "0a508pQVtIUJ",
   "metadata": {
    "id": "0a508pQVtIUJ"
   },
   "source": [
    "## Filter function"
   ]
  },
  {
   "cell_type": "code",
   "execution_count": null,
   "id": "SQf78P7ytIUJ",
   "metadata": {
    "id": "SQf78P7ytIUJ",
    "outputId": "d9bcb58f-710b-4769-a079-b309a04b7a6c"
   },
   "outputs": [
    {
     "name": "stdout",
     "output_type": "stream",
     "text": [
      "[45, 21, 55, 91, 17]\n"
     ]
    }
   ],
   "source": [
    "numbers = [32, 45, 62, 21, 55, 91, 88, 17 ]\n",
    "odd_numbers = []\n",
    "for n in numbers:\n",
    "    if n % 2 :\n",
    "        odd_numbers.append(n)\n",
    "print(odd_numbers)"
   ]
  },
  {
   "cell_type": "code",
   "execution_count": 90,
   "id": "sFD9wIa_tIUK",
   "metadata": {
    "id": "sFD9wIa_tIUK",
    "outputId": "16e83042-1645-4f25-ad5d-3a2afa792edf"
   },
   "outputs": [
    {
     "name": "stdout",
     "output_type": "stream",
     "text": [
      "[45, 21, 55, 91, 17]\n"
     ]
    }
   ],
   "source": [
    "numbers = [32, 45, 62, 21, 55, 91, 88, 17]\n",
    "\n",
    "odd_numbers = list(filter(lambda n : n % 2 != 0, numbers))\n",
    "\n",
    "print(odd_numbers)"
   ]
  },
  {
   "cell_type": "markdown",
   "id": "T3TkCCyFtIUK",
   "metadata": {
    "id": "T3TkCCyFtIUK"
   },
   "source": [
    "## Reduce function"
   ]
  },
  {
   "cell_type": "code",
   "execution_count": null,
   "id": "HwKwaV7JtIUK",
   "metadata": {
    "id": "HwKwaV7JtIUK",
    "outputId": "5531bbe0-2837-4624-d4ea-14c5bb73e615"
   },
   "outputs": [
    {
     "name": "stdout",
     "output_type": "stream",
     "text": [
      "Total : 42\n"
     ]
    }
   ],
   "source": [
    "numbers = [2,4,6,8,10,12]\n",
    "tot = 0\n",
    "for n in numbers:\n",
    "    tot += n\n",
    "print('Total :', tot)"
   ]
  },
  {
   "cell_type": "code",
   "execution_count": 91,
   "id": "q0XAwaKttIUK",
   "metadata": {
    "id": "q0XAwaKttIUK",
    "outputId": "4f6510e5-5539-48e1-d224-38871f88db96"
   },
   "outputs": [
    {
     "name": "stdout",
     "output_type": "stream",
     "text": [
      "Total =  42\n"
     ]
    }
   ],
   "source": [
    "from _functools import reduce\n",
    "\n",
    "numbers = [2,4,6,8,10,12]\n",
    "\n",
    "result = reduce(lambda x , y : x + y, numbers)\n",
    "\n",
    "print('Total = ', result)"
   ]
  },
  {
   "cell_type": "code",
   "execution_count": 94,
   "id": "1xC_1UmYtIUK",
   "metadata": {
    "id": "1xC_1UmYtIUK"
   },
   "outputs": [],
   "source": [
    "# Greatest of the number in the list\n",
    "\n",
    "list1 = [234,45,3,2,55,66,789,1000,22]\n",
    "\n",
    "Greatest = reduce(lambda x , y : x if x > y else y , list1)"
   ]
  },
  {
   "cell_type": "code",
   "execution_count": 95,
   "id": "e4d98e48",
   "metadata": {},
   "outputs": [
    {
     "data": {
      "text/plain": [
       "1000"
      ]
     },
     "execution_count": 95,
     "metadata": {},
     "output_type": "execute_result"
    }
   ],
   "source": [
    "Greatest"
   ]
  },
  {
   "cell_type": "code",
   "execution_count": null,
   "id": "a8a13282",
   "metadata": {},
   "outputs": [],
   "source": []
  }
 ],
 "metadata": {
  "colab": {
   "provenance": []
  },
  "kernelspec": {
   "display_name": "Python 3 (ipykernel)",
   "language": "python",
   "name": "python3"
  },
  "language_info": {
   "codemirror_mode": {
    "name": "ipython",
    "version": 3
   },
   "file_extension": ".py",
   "mimetype": "text/x-python",
   "name": "python",
   "nbconvert_exporter": "python",
   "pygments_lexer": "ipython3",
   "version": "3.10.4"
  }
 },
 "nbformat": 4,
 "nbformat_minor": 5
}
